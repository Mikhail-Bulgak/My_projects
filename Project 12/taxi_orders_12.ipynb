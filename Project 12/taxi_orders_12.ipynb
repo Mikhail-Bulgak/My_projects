{
 "cells": [
  {
   "attachments": {},
   "cell_type": "markdown",
   "metadata": {},
   "source": [
    "#  Прогнозирование заказов такси"
   ]
  },
  {
   "attachments": {},
   "cell_type": "markdown",
   "metadata": {},
   "source": [
    "Компания собрала исторические данные о заказах такси в аэропортах. Чтобы привлекать больше водителей в период пиковой нагрузки, нужно спрогнозировать количество заказов такси на следующий час. Построить модель для такого предсказания.\n",
    "\n",
    "Значение метрики *RMSE* на тестовой выборке должно быть не больше 48.\n",
    "\n",
    "Нам нужно:\n",
    "\n",
    "1. Загрузить данные и выполнить их ресемплирование по одному часу.\n",
    "2. Проанализировать данные.\n",
    "3. Обучить разные модели с различными гиперпараметрами. Сделать тестовую выборку размером 10% от исходных данных.\n",
    "4. Проверить данные на тестовой выборке и сделать выводы.\n",
    "\n",
    "\n",
    "Данные лежат в файле `taxi.csv`. Количество заказов находится в столбце `num_orders` (от англ. *number of orders*, «число заказов»)."
   ]
  },
  {
   "attachments": {},
   "cell_type": "markdown",
   "metadata": {},
   "source": [
    "## Подготовка"
   ]
  },
  {
   "cell_type": "code",
   "execution_count": 148,
   "metadata": {},
   "outputs": [],
   "source": [
    "# установим необходимые библиотеки\n",
    "import pandas as pd\n",
    "import numpy as np\n",
    "\n",
    "from sklearn.model_selection import train_test_split, GridSearchCV\n",
    "from sklearn.model_selection import TimeSeriesSplit\n",
    "from sklearn.linear_model import LinearRegression\n",
    "from sklearn.ensemble import RandomForestRegressor\n",
    "from sklearn.tree import DecisionTreeRegressor\n",
    "\n",
    "from sklearn.metrics import mean_squared_error\n",
    "\n",
    "from statsmodels.tsa.seasonal import seasonal_decompose\n",
    "\n",
    "import matplotlib.pyplot as plt\n",
    "%matplotlib inline\n",
    "\n",
    "import warnings\n",
    "warnings.filterwarnings(\"ignore\")"
   ]
  },
  {
   "cell_type": "code",
   "execution_count": 149,
   "metadata": {},
   "outputs": [
    {
     "data": {
      "text/html": [
       "<div>\n",
       "<style scoped>\n",
       "    .dataframe tbody tr th:only-of-type {\n",
       "        vertical-align: middle;\n",
       "    }\n",
       "\n",
       "    .dataframe tbody tr th {\n",
       "        vertical-align: top;\n",
       "    }\n",
       "\n",
       "    .dataframe thead th {\n",
       "        text-align: right;\n",
       "    }\n",
       "</style>\n",
       "<table border=\"1\" class=\"dataframe\">\n",
       "  <thead>\n",
       "    <tr style=\"text-align: right;\">\n",
       "      <th></th>\n",
       "      <th>num_orders</th>\n",
       "    </tr>\n",
       "    <tr>\n",
       "      <th>datetime</th>\n",
       "      <th></th>\n",
       "    </tr>\n",
       "  </thead>\n",
       "  <tbody>\n",
       "    <tr>\n",
       "      <th>2018-03-01 00:00:00</th>\n",
       "      <td>9</td>\n",
       "    </tr>\n",
       "    <tr>\n",
       "      <th>2018-03-01 00:10:00</th>\n",
       "      <td>14</td>\n",
       "    </tr>\n",
       "    <tr>\n",
       "      <th>2018-03-01 00:20:00</th>\n",
       "      <td>28</td>\n",
       "    </tr>\n",
       "    <tr>\n",
       "      <th>2018-03-01 00:30:00</th>\n",
       "      <td>20</td>\n",
       "    </tr>\n",
       "    <tr>\n",
       "      <th>2018-03-01 00:40:00</th>\n",
       "      <td>32</td>\n",
       "    </tr>\n",
       "  </tbody>\n",
       "</table>\n",
       "</div>"
      ],
      "text/plain": [
       "                     num_orders\n",
       "datetime                       \n",
       "2018-03-01 00:00:00           9\n",
       "2018-03-01 00:10:00          14\n",
       "2018-03-01 00:20:00          28\n",
       "2018-03-01 00:30:00          20\n",
       "2018-03-01 00:40:00          32"
      ]
     },
     "execution_count": 149,
     "metadata": {},
     "output_type": "execute_result"
    }
   ],
   "source": [
    "# загрузим датасет\n",
    "df = pd.read_csv('/datasets/taxi.csv', index_col=[0], parse_dates=[0])\n",
    "df.head()"
   ]
  },
  {
   "cell_type": "code",
   "execution_count": 150,
   "metadata": {},
   "outputs": [
    {
     "name": "stdout",
     "output_type": "stream",
     "text": [
      "<class 'pandas.core.frame.DataFrame'>\n",
      "DatetimeIndex: 26496 entries, 2018-03-01 00:00:00 to 2018-08-31 23:50:00\n",
      "Data columns (total 1 columns):\n",
      " #   Column      Non-Null Count  Dtype\n",
      "---  ------      --------------  -----\n",
      " 0   num_orders  26496 non-null  int64\n",
      "dtypes: int64(1)\n",
      "memory usage: 414.0 KB\n"
     ]
    }
   ],
   "source": [
    "df.info()"
   ]
  },
  {
   "cell_type": "code",
   "execution_count": 151,
   "metadata": {},
   "outputs": [
    {
     "data": {
      "text/plain": [
       "True"
      ]
     },
     "execution_count": 151,
     "metadata": {},
     "output_type": "execute_result"
    }
   ],
   "source": [
    "# проверим индекс на монотонность\n",
    "df.index.is_monotonic"
   ]
  },
  {
   "cell_type": "code",
   "execution_count": 152,
   "metadata": {},
   "outputs": [],
   "source": [
    "# сделаем датасет с ресемплингом\n",
    "df_res = df.resample(\"1H\").sum()"
   ]
  },
  {
   "cell_type": "code",
   "execution_count": 153,
   "metadata": {},
   "outputs": [
    {
     "data": {
      "text/html": [
       "<div>\n",
       "<style scoped>\n",
       "    .dataframe tbody tr th:only-of-type {\n",
       "        vertical-align: middle;\n",
       "    }\n",
       "\n",
       "    .dataframe tbody tr th {\n",
       "        vertical-align: top;\n",
       "    }\n",
       "\n",
       "    .dataframe thead th {\n",
       "        text-align: right;\n",
       "    }\n",
       "</style>\n",
       "<table border=\"1\" class=\"dataframe\">\n",
       "  <thead>\n",
       "    <tr style=\"text-align: right;\">\n",
       "      <th></th>\n",
       "      <th>num_orders</th>\n",
       "    </tr>\n",
       "    <tr>\n",
       "      <th>datetime</th>\n",
       "      <th></th>\n",
       "    </tr>\n",
       "  </thead>\n",
       "  <tbody>\n",
       "    <tr>\n",
       "      <th>2018-03-01 00:00:00</th>\n",
       "      <td>124</td>\n",
       "    </tr>\n",
       "    <tr>\n",
       "      <th>2018-03-01 01:00:00</th>\n",
       "      <td>85</td>\n",
       "    </tr>\n",
       "    <tr>\n",
       "      <th>2018-03-01 02:00:00</th>\n",
       "      <td>71</td>\n",
       "    </tr>\n",
       "    <tr>\n",
       "      <th>2018-03-01 03:00:00</th>\n",
       "      <td>66</td>\n",
       "    </tr>\n",
       "    <tr>\n",
       "      <th>2018-03-01 04:00:00</th>\n",
       "      <td>43</td>\n",
       "    </tr>\n",
       "  </tbody>\n",
       "</table>\n",
       "</div>"
      ],
      "text/plain": [
       "                     num_orders\n",
       "datetime                       \n",
       "2018-03-01 00:00:00         124\n",
       "2018-03-01 01:00:00          85\n",
       "2018-03-01 02:00:00          71\n",
       "2018-03-01 03:00:00          66\n",
       "2018-03-01 04:00:00          43"
      ]
     },
     "execution_count": 153,
     "metadata": {},
     "output_type": "execute_result"
    }
   ],
   "source": [
    "df_res.head()"
   ]
  },
  {
   "attachments": {},
   "cell_type": "markdown",
   "metadata": {},
   "source": [
    "**Вывод:** У нас получился чистый датасет. Без пропусков и ошибок. Индекс монотонный. Ресемплинг проведен до одного часа. Датасет готов к анализу."
   ]
  },
  {
   "attachments": {},
   "cell_type": "markdown",
   "metadata": {},
   "source": [
    "## Анализ"
   ]
  },
  {
   "cell_type": "code",
   "execution_count": 154,
   "metadata": {},
   "outputs": [],
   "source": [
    "# проведем декомпозицию временного ряда на тренд, сезонность и остаток\n",
    "decomposed = seasonal_decompose(df_res)"
   ]
  },
  {
   "cell_type": "code",
   "execution_count": 155,
   "metadata": {},
   "outputs": [
    {
     "data": {
      "image/png": "[encoded data removed]",
      "text/plain": [
       "<Figure size 1080x1296 with 3 Axes>"
      ]
     },
     "metadata": {
      "needs_background": "light"
     },
     "output_type": "display_data"
    }
   ],
   "source": [
    "# создадим графики: тренда, сезонности (по часам) и остатка\n",
    "plt.figure(figsize=(15, 18))\n",
    "plt.subplot(311)\n",
    "decomposed.trend.plot(ax=plt.gca())\n",
    "plt.title('Trend')\n",
    "plt.subplot(312)\n",
    "decomposed.seasonal['2018-03-01 00:00:00': '2018-03-02 23:00:00'].plot(ax=plt.gca()) \n",
    "plt.title('Seasonality')\n",
    "plt.subplot(313)\n",
    "decomposed.resid.plot(ax=plt.gca()) \n",
    "plt.title('Residuals')\n",
    "plt.tight_layout()"
   ]
  },
  {
   "attachments": {},
   "cell_type": "markdown",
   "metadata": {},
   "source": [
    "**Вывод:** Нам удалось декомпозировать датасет на тренд, сезонность и остаток. Как мы можем видеть на графике: сезонность больше всего проявляется в вечерние и ночные часы."
   ]
  },
  {
   "attachments": {},
   "cell_type": "markdown",
   "metadata": {},
   "source": [
    "## Обучение"
   ]
  },
  {
   "cell_type": "code",
   "execution_count": 156,
   "metadata": {},
   "outputs": [],
   "source": [
    "# подготовим функцию, которая будет создавать календарные, отстающие признаки и добавлять признак скользящего среднего\n",
    "def make_features(data, max_lag, rolling_mean_size):\n",
    "    data['dayofweek'] = data.index.dayofweek\n",
    "    data['hour'] = data.index.hour\n",
    "    \n",
    "    for lag in range(1, max_lag + 1):\n",
    "        data['lag_{}'.format(lag)] = data['num_orders'].shift(lag)\n",
    "\n",
    "    data['rolling_mean'] = data['num_orders'].shift().rolling(rolling_mean_size).mean()\n",
    "    return data"
   ]
  },
  {
   "cell_type": "code",
   "execution_count": 157,
   "metadata": {},
   "outputs": [
    {
     "data": {
      "text/html": [
       "<div>\n",
       "<style scoped>\n",
       "    .dataframe tbody tr th:only-of-type {\n",
       "        vertical-align: middle;\n",
       "    }\n",
       "\n",
       "    .dataframe tbody tr th {\n",
       "        vertical-align: top;\n",
       "    }\n",
       "\n",
       "    .dataframe thead th {\n",
       "        text-align: right;\n",
       "    }\n",
       "</style>\n",
       "<table border=\"1\" class=\"dataframe\">\n",
       "  <thead>\n",
       "    <tr style=\"text-align: right;\">\n",
       "      <th></th>\n",
       "      <th>num_orders</th>\n",
       "      <th>dayofweek</th>\n",
       "      <th>hour</th>\n",
       "      <th>lag_1</th>\n",
       "      <th>lag_2</th>\n",
       "      <th>lag_3</th>\n",
       "      <th>lag_4</th>\n",
       "      <th>lag_5</th>\n",
       "      <th>lag_6</th>\n",
       "      <th>lag_7</th>\n",
       "      <th>lag_8</th>\n",
       "      <th>lag_9</th>\n",
       "      <th>lag_10</th>\n",
       "      <th>rolling_mean</th>\n",
       "    </tr>\n",
       "    <tr>\n",
       "      <th>datetime</th>\n",
       "      <th></th>\n",
       "      <th></th>\n",
       "      <th></th>\n",
       "      <th></th>\n",
       "      <th></th>\n",
       "      <th></th>\n",
       "      <th></th>\n",
       "      <th></th>\n",
       "      <th></th>\n",
       "      <th></th>\n",
       "      <th></th>\n",
       "      <th></th>\n",
       "      <th></th>\n",
       "      <th></th>\n",
       "    </tr>\n",
       "  </thead>\n",
       "  <tbody>\n",
       "    <tr>\n",
       "      <th>2018-03-01 00:00:00</th>\n",
       "      <td>124</td>\n",
       "      <td>3</td>\n",
       "      <td>0</td>\n",
       "      <td>NaN</td>\n",
       "      <td>NaN</td>\n",
       "      <td>NaN</td>\n",
       "      <td>NaN</td>\n",
       "      <td>NaN</td>\n",
       "      <td>NaN</td>\n",
       "      <td>NaN</td>\n",
       "      <td>NaN</td>\n",
       "      <td>NaN</td>\n",
       "      <td>NaN</td>\n",
       "      <td>NaN</td>\n",
       "    </tr>\n",
       "    <tr>\n",
       "      <th>2018-03-01 01:00:00</th>\n",
       "      <td>85</td>\n",
       "      <td>3</td>\n",
       "      <td>1</td>\n",
       "      <td>124.0</td>\n",
       "      <td>NaN</td>\n",
       "      <td>NaN</td>\n",
       "      <td>NaN</td>\n",
       "      <td>NaN</td>\n",
       "      <td>NaN</td>\n",
       "      <td>NaN</td>\n",
       "      <td>NaN</td>\n",
       "      <td>NaN</td>\n",
       "      <td>NaN</td>\n",
       "      <td>NaN</td>\n",
       "    </tr>\n",
       "    <tr>\n",
       "      <th>2018-03-01 02:00:00</th>\n",
       "      <td>71</td>\n",
       "      <td>3</td>\n",
       "      <td>2</td>\n",
       "      <td>85.0</td>\n",
       "      <td>124.0</td>\n",
       "      <td>NaN</td>\n",
       "      <td>NaN</td>\n",
       "      <td>NaN</td>\n",
       "      <td>NaN</td>\n",
       "      <td>NaN</td>\n",
       "      <td>NaN</td>\n",
       "      <td>NaN</td>\n",
       "      <td>NaN</td>\n",
       "      <td>NaN</td>\n",
       "    </tr>\n",
       "    <tr>\n",
       "      <th>2018-03-01 03:00:00</th>\n",
       "      <td>66</td>\n",
       "      <td>3</td>\n",
       "      <td>3</td>\n",
       "      <td>71.0</td>\n",
       "      <td>85.0</td>\n",
       "      <td>124.0</td>\n",
       "      <td>NaN</td>\n",
       "      <td>NaN</td>\n",
       "      <td>NaN</td>\n",
       "      <td>NaN</td>\n",
       "      <td>NaN</td>\n",
       "      <td>NaN</td>\n",
       "      <td>NaN</td>\n",
       "      <td>NaN</td>\n",
       "    </tr>\n",
       "    <tr>\n",
       "      <th>2018-03-01 04:00:00</th>\n",
       "      <td>43</td>\n",
       "      <td>3</td>\n",
       "      <td>4</td>\n",
       "      <td>66.0</td>\n",
       "      <td>71.0</td>\n",
       "      <td>85.0</td>\n",
       "      <td>124.0</td>\n",
       "      <td>NaN</td>\n",
       "      <td>NaN</td>\n",
       "      <td>NaN</td>\n",
       "      <td>NaN</td>\n",
       "      <td>NaN</td>\n",
       "      <td>NaN</td>\n",
       "      <td>NaN</td>\n",
       "    </tr>\n",
       "    <tr>\n",
       "      <th>...</th>\n",
       "      <td>...</td>\n",
       "      <td>...</td>\n",
       "      <td>...</td>\n",
       "      <td>...</td>\n",
       "      <td>...</td>\n",
       "      <td>...</td>\n",
       "      <td>...</td>\n",
       "      <td>...</td>\n",
       "      <td>...</td>\n",
       "      <td>...</td>\n",
       "      <td>...</td>\n",
       "      <td>...</td>\n",
       "      <td>...</td>\n",
       "      <td>...</td>\n",
       "    </tr>\n",
       "    <tr>\n",
       "      <th>2018-08-31 19:00:00</th>\n",
       "      <td>136</td>\n",
       "      <td>4</td>\n",
       "      <td>19</td>\n",
       "      <td>207.0</td>\n",
       "      <td>217.0</td>\n",
       "      <td>197.0</td>\n",
       "      <td>116.0</td>\n",
       "      <td>133.0</td>\n",
       "      <td>166.0</td>\n",
       "      <td>136.0</td>\n",
       "      <td>167.0</td>\n",
       "      <td>191.0</td>\n",
       "      <td>203.0</td>\n",
       "      <td>173.3</td>\n",
       "    </tr>\n",
       "    <tr>\n",
       "      <th>2018-08-31 20:00:00</th>\n",
       "      <td>154</td>\n",
       "      <td>4</td>\n",
       "      <td>20</td>\n",
       "      <td>136.0</td>\n",
       "      <td>207.0</td>\n",
       "      <td>217.0</td>\n",
       "      <td>197.0</td>\n",
       "      <td>116.0</td>\n",
       "      <td>133.0</td>\n",
       "      <td>166.0</td>\n",
       "      <td>136.0</td>\n",
       "      <td>167.0</td>\n",
       "      <td>191.0</td>\n",
       "      <td>166.6</td>\n",
       "    </tr>\n",
       "    <tr>\n",
       "      <th>2018-08-31 21:00:00</th>\n",
       "      <td>159</td>\n",
       "      <td>4</td>\n",
       "      <td>21</td>\n",
       "      <td>154.0</td>\n",
       "      <td>136.0</td>\n",
       "      <td>207.0</td>\n",
       "      <td>217.0</td>\n",
       "      <td>197.0</td>\n",
       "      <td>116.0</td>\n",
       "      <td>133.0</td>\n",
       "      <td>166.0</td>\n",
       "      <td>136.0</td>\n",
       "      <td>167.0</td>\n",
       "      <td>162.9</td>\n",
       "    </tr>\n",
       "    <tr>\n",
       "      <th>2018-08-31 22:00:00</th>\n",
       "      <td>223</td>\n",
       "      <td>4</td>\n",
       "      <td>22</td>\n",
       "      <td>159.0</td>\n",
       "      <td>154.0</td>\n",
       "      <td>136.0</td>\n",
       "      <td>207.0</td>\n",
       "      <td>217.0</td>\n",
       "      <td>197.0</td>\n",
       "      <td>116.0</td>\n",
       "      <td>133.0</td>\n",
       "      <td>166.0</td>\n",
       "      <td>136.0</td>\n",
       "      <td>162.1</td>\n",
       "    </tr>\n",
       "    <tr>\n",
       "      <th>2018-08-31 23:00:00</th>\n",
       "      <td>205</td>\n",
       "      <td>4</td>\n",
       "      <td>23</td>\n",
       "      <td>223.0</td>\n",
       "      <td>159.0</td>\n",
       "      <td>154.0</td>\n",
       "      <td>136.0</td>\n",
       "      <td>207.0</td>\n",
       "      <td>217.0</td>\n",
       "      <td>197.0</td>\n",
       "      <td>116.0</td>\n",
       "      <td>133.0</td>\n",
       "      <td>166.0</td>\n",
       "      <td>170.8</td>\n",
       "    </tr>\n",
       "  </tbody>\n",
       "</table>\n",
       "<p>4416 rows × 14 columns</p>\n",
       "</div>"
      ],
      "text/plain": [
       "                     num_orders  dayofweek  hour  lag_1  lag_2  lag_3  lag_4  \\\n",
       "datetime                                                                       \n",
       "2018-03-01 00:00:00         124          3     0    NaN    NaN    NaN    NaN   \n",
       "2018-03-01 01:00:00          85          3     1  124.0    NaN    NaN    NaN   \n",
       "2018-03-01 02:00:00          71          3     2   85.0  124.0    NaN    NaN   \n",
       "2018-03-01 03:00:00          66          3     3   71.0   85.0  124.0    NaN   \n",
       "2018-03-01 04:00:00          43          3     4   66.0   71.0   85.0  124.0   \n",
       "...                         ...        ...   ...    ...    ...    ...    ...   \n",
       "2018-08-31 19:00:00         136          4    19  207.0  217.0  197.0  116.0   \n",
       "2018-08-31 20:00:00         154          4    20  136.0  207.0  217.0  197.0   \n",
       "2018-08-31 21:00:00         159          4    21  154.0  136.0  207.0  217.0   \n",
       "2018-08-31 22:00:00         223          4    22  159.0  154.0  136.0  207.0   \n",
       "2018-08-31 23:00:00         205          4    23  223.0  159.0  154.0  136.0   \n",
       "\n",
       "                     lag_5  lag_6  lag_7  lag_8  lag_9  lag_10  rolling_mean  \n",
       "datetime                                                                      \n",
       "2018-03-01 00:00:00    NaN    NaN    NaN    NaN    NaN     NaN           NaN  \n",
       "2018-03-01 01:00:00    NaN    NaN    NaN    NaN    NaN     NaN           NaN  \n",
       "2018-03-01 02:00:00    NaN    NaN    NaN    NaN    NaN     NaN           NaN  \n",
       "2018-03-01 03:00:00    NaN    NaN    NaN    NaN    NaN     NaN           NaN  \n",
       "2018-03-01 04:00:00    NaN    NaN    NaN    NaN    NaN     NaN           NaN  \n",
       "...                    ...    ...    ...    ...    ...     ...           ...  \n",
       "2018-08-31 19:00:00  133.0  166.0  136.0  167.0  191.0   203.0         173.3  \n",
       "2018-08-31 20:00:00  116.0  133.0  166.0  136.0  167.0   191.0         166.6  \n",
       "2018-08-31 21:00:00  197.0  116.0  133.0  166.0  136.0   167.0         162.9  \n",
       "2018-08-31 22:00:00  217.0  197.0  116.0  133.0  166.0   136.0         162.1  \n",
       "2018-08-31 23:00:00  207.0  217.0  197.0  116.0  133.0   166.0         170.8  \n",
       "\n",
       "[4416 rows x 14 columns]"
      ]
     },
     "execution_count": 157,
     "metadata": {},
     "output_type": "execute_result"
    }
   ],
   "source": [
    "# применим функцию к датасету с ресемплингом\n",
    "make_features(df_res, 10, 10)"
   ]
  },
  {
   "cell_type": "code",
   "execution_count": 158,
   "metadata": {},
   "outputs": [],
   "source": [
    "# применим TimeSeriesSplit для кроссвалидации\n",
    "tscv = TimeSeriesSplit(n_splits=10)"
   ]
  },
  {
   "cell_type": "code",
   "execution_count": 159,
   "metadata": {},
   "outputs": [],
   "source": [
    "# разделим данные на тренировочную и тестовую выборки\n",
    "train, valid = train_test_split(df_res, shuffle=False, test_size=0.2, random_state = 25)\n",
    "train = train.dropna()\n",
    "valid, test = train_test_split(valid, shuffle=False, test_size=0.5, random_state = 25)"
   ]
  },
  {
   "cell_type": "code",
   "execution_count": 160,
   "metadata": {},
   "outputs": [
    {
     "name": "stdout",
     "output_type": "stream",
     "text": [
      "(3522, 14)\n",
      "(442, 14)\n",
      "(442, 14)\n"
     ]
    }
   ],
   "source": [
    "print(train.shape)\n",
    "print(valid.shape)\n",
    "print(test.shape)"
   ]
  },
  {
   "cell_type": "code",
   "execution_count": 161,
   "metadata": {},
   "outputs": [],
   "source": [
    "feat_train = train.drop('num_orders', axis=1)\n",
    "targ_train = train['num_orders']\n",
    "\n",
    "feat_valid = valid.drop('num_orders', axis=1)\n",
    "targ_valid = valid['num_orders']\n",
    "\n",
    "feat_test = test.drop('num_orders', axis=1)\n",
    "targ_test = test['num_orders']"
   ]
  },
  {
   "attachments": {},
   "cell_type": "markdown",
   "metadata": {},
   "source": [
    "### Модель LinearRegression"
   ]
  },
  {
   "cell_type": "code",
   "execution_count": 162,
   "metadata": {},
   "outputs": [
    {
     "name": "stdout",
     "output_type": "stream",
     "text": [
      "Fitting 10 folds for each of 48 candidates, totalling 480 fits\n"
     ]
    }
   ],
   "source": [
    "# найдём лучшие параметры и обучим модель\n",
    "parameters_LR = {'normalize':[True, False], 'fit_intercept':[True, False], 'copy_X': [True, False],\n",
    "               'n_jobs': [-1, None, 1], 'positive': [True, False]}\n",
    "model_LR = LinearRegression()\n",
    "grid_LR = GridSearchCV(estimator=model_LR, param_grid=parameters_LR, scoring='neg_mean_squared_error', \n",
    "                        n_jobs=-1, cv=tscv, verbose=1)\n",
    "grid_LR.fit(feat_train, targ_train)\n",
    "predicted_LR = grid_LR.predict(feat_valid)"
   ]
  },
  {
   "cell_type": "code",
   "execution_count": 163,
   "metadata": {},
   "outputs": [
    {
     "name": "stdout",
     "output_type": "stream",
     "text": [
      "RMSE модели LinearRegression: 42.2404527497405\n"
     ]
    }
   ],
   "source": [
    "print('RMSE модели LinearRegression:', mean_squared_error(targ_valid, predicted_LR)**0.5)"
   ]
  },
  {
   "attachments": {},
   "cell_type": "markdown",
   "metadata": {},
   "source": [
    "### Модель RandomForestRegressor"
   ]
  },
  {
   "cell_type": "code",
   "execution_count": 164,
   "metadata": {},
   "outputs": [
    {
     "name": "stdout",
     "output_type": "stream",
     "text": [
      "Fitting 10 folds for each of 54 candidates, totalling 540 fits\n"
     ]
    }
   ],
   "source": [
    "# найдём лучшие параметры и обучим модель\n",
    "parameters_RFR = {'n_estimators':[5, 10, 20], 'max_depth':[5, 15, None], 'n_jobs': [-1, None, 1], \n",
    "                  'warm_start':[True, False], 'random_state':[25]}\n",
    "model_RFR = RandomForestRegressor()\n",
    "grid_RFR = GridSearchCV(estimator=model_RFR, param_grid=parameters_RFR, scoring='neg_mean_squared_error', \n",
    "                        n_jobs=-1, cv=tscv, verbose=1)\n",
    "grid_RFR.fit(feat_train, targ_train)\n",
    "predicted_RFR = grid_RFR.predict(feat_valid)"
   ]
  },
  {
   "cell_type": "code",
   "execution_count": 165,
   "metadata": {},
   "outputs": [
    {
     "name": "stdout",
     "output_type": "stream",
     "text": [
      "RMSE модели RandomForestRegressor: 33.042284631648975\n"
     ]
    }
   ],
   "source": [
    "print('RMSE модели RandomForestRegressor:', mean_squared_error(targ_valid, predicted_RFR)**0.5)"
   ]
  },
  {
   "attachments": {},
   "cell_type": "markdown",
   "metadata": {},
   "source": [
    "### Модель DecisionTreeRegressor"
   ]
  },
  {
   "cell_type": "code",
   "execution_count": 166,
   "metadata": {},
   "outputs": [
    {
     "name": "stdout",
     "output_type": "stream",
     "text": [
      "Fitting 10 folds for each of 24 candidates, totalling 240 fits\n"
     ]
    }
   ],
   "source": [
    "# найдём лучшие параметры и обучим модель\n",
    "parameters_DTR = {'criterion':['squared_error', 'friedman_mse', 'absolute_error', 'poisson'], \n",
    "                  'splitter':['best', 'random'], 'max_depth':[15, 30, None], 'random_state':[25]}\n",
    "model_DTR = DecisionTreeRegressor()\n",
    "grid_DTR = GridSearchCV(estimator=model_DTR, param_grid=parameters_DTR, scoring='neg_mean_squared_error', \n",
    "                        n_jobs=-1, cv=tscv, verbose=1)\n",
    "grid_DTR.fit(feat_train, targ_train)\n",
    "predicted_DTR = grid_DTR.predict(feat_valid)"
   ]
  },
  {
   "cell_type": "code",
   "execution_count": 167,
   "metadata": {},
   "outputs": [
    {
     "name": "stdout",
     "output_type": "stream",
     "text": [
      "RMSE модели DecisionTreeRegressor: 39.65802654507314\n"
     ]
    }
   ],
   "source": [
    "print('RMSE модели DecisionTreeRegressor:', mean_squared_error(targ_valid, predicted_DTR)**0.5)"
   ]
  },
  {
   "attachments": {},
   "cell_type": "markdown",
   "metadata": {},
   "source": [
    "**Вывод:** Разбив данные на тренировочную и обучающую выборки, и проведя создание нескольких моделей машинного обучения, мы можем сказать, что наилучший результат в обучении показала модель \"случайного леса\" - RandomForestRegressor. RMSE модели составил 33 ."
   ]
  },
  {
   "attachments": {},
   "cell_type": "markdown",
   "metadata": {},
   "source": [
    "## Тестирование"
   ]
  },
  {
   "cell_type": "code",
   "execution_count": 168,
   "metadata": {},
   "outputs": [],
   "source": [
    "frames = [feat_train, feat_valid]\n",
    "feat = pd.concat(frames)\n",
    "frames1 = [targ_train, targ_valid]\n",
    "targ = pd.concat(frames1)"
   ]
  },
  {
   "cell_type": "code",
   "execution_count": 169,
   "metadata": {},
   "outputs": [
    {
     "name": "stdout",
     "output_type": "stream",
     "text": [
      "Fitting 10 folds for each of 54 candidates, totalling 540 fits\n"
     ]
    }
   ],
   "source": [
    "# проведем тестирование нашей лучшей модели на 10% тестовых данных\n",
    "grid_RFR.fit(feat, targ)\n",
    "predicted_RFR_test = grid_RFR.predict(feat_test)"
   ]
  },
  {
   "cell_type": "code",
   "execution_count": 170,
   "metadata": {},
   "outputs": [
    {
     "name": "stdout",
     "output_type": "stream",
     "text": [
      "RMSE модели RandomForestRegressor на тесте: 46.79478865723311\n"
     ]
    }
   ],
   "source": [
    "print('RMSE модели RandomForestRegressor на тесте:', mean_squared_error(targ_test, predicted_RFR_test)**0.5)"
   ]
  },
  {
   "attachments": {},
   "cell_type": "markdown",
   "metadata": {},
   "source": [
    "**Вывод:** Таким образом на тестовых данных, наилучшая модель - RandomForestRegressor, показала значение 46.79, что меньше 48, как того и требовало условие задачи."
   ]
  }
 ],
 "metadata": {
  "ExecuteTimeLog": [
   {
    "duration": 1719,
    "start_time": "2023-03-09T10:27:22.214Z"
   },
   {
    "duration": 154,
    "start_time": "2023-03-09T10:27:57.542Z"
   },
   {
    "duration": 12,
    "start_time": "2023-03-09T10:28:28.538Z"
   },
   {
    "duration": 4,
    "start_time": "2023-03-09T10:28:58.716Z"
   },
   {
    "duration": 8,
    "start_time": "2023-03-09T10:29:45.735Z"
   },
   {
    "duration": 7,
    "start_time": "2023-03-09T10:30:09.127Z"
   },
   {
    "duration": 128,
    "start_time": "2023-03-09T10:33:43.505Z"
   },
   {
    "duration": 11,
    "start_time": "2023-03-09T10:33:54.175Z"
   },
   {
    "duration": 1023,
    "start_time": "2023-03-09T10:35:59.419Z"
   },
   {
    "duration": 4,
    "start_time": "2023-03-09T10:41:37.506Z"
   },
   {
    "duration": 36,
    "start_time": "2023-03-09T10:42:14.417Z"
   },
   {
    "duration": 3,
    "start_time": "2023-03-09T10:42:41.607Z"
   },
   {
    "duration": 2,
    "start_time": "2023-03-09T10:44:33.214Z"
   },
   {
    "duration": 11,
    "start_time": "2023-03-09T10:46:20.384Z"
   },
   {
    "duration": 6,
    "start_time": "2023-03-09T10:54:46.171Z"
   },
   {
    "duration": 71,
    "start_time": "2023-03-09T10:54:46.178Z"
   },
   {
    "duration": 12,
    "start_time": "2023-03-09T10:54:46.250Z"
   },
   {
    "duration": 4,
    "start_time": "2023-03-09T10:54:46.264Z"
   },
   {
    "duration": 19,
    "start_time": "2023-03-09T10:54:46.269Z"
   },
   {
    "duration": 15,
    "start_time": "2023-03-09T10:54:46.290Z"
   },
   {
    "duration": 9,
    "start_time": "2023-03-09T10:54:46.306Z"
   },
   {
    "duration": 836,
    "start_time": "2023-03-09T10:54:46.317Z"
   },
   {
    "duration": 5,
    "start_time": "2023-03-09T10:54:47.155Z"
   },
   {
    "duration": 53,
    "start_time": "2023-03-09T10:54:47.163Z"
   },
   {
    "duration": 3,
    "start_time": "2023-03-09T10:54:47.217Z"
   },
   {
    "duration": 11,
    "start_time": "2023-03-09T10:55:00.990Z"
   },
   {
    "duration": 4,
    "start_time": "2023-03-09T10:55:58.620Z"
   },
   {
    "duration": 6,
    "start_time": "2023-03-09T10:57:31.873Z"
   },
   {
    "duration": 4864,
    "start_time": "2023-03-09T10:59:17.498Z"
   },
   {
    "duration": 5,
    "start_time": "2023-03-09T11:01:26.150Z"
   },
   {
    "duration": 111843,
    "start_time": "2023-03-09T11:04:10.347Z"
   },
   {
    "duration": 5,
    "start_time": "2023-03-09T11:06:14.408Z"
   },
   {
    "duration": 1828,
    "start_time": "2023-03-09T11:08:42.485Z"
   },
   {
    "duration": 5,
    "start_time": "2023-03-09T11:09:23.762Z"
   },
   {
    "duration": 14,
    "start_time": "2023-03-09T11:18:26.793Z"
   },
   {
    "duration": 4,
    "start_time": "2023-03-09T11:18:38.768Z"
   },
   {
    "duration": 9,
    "start_time": "2023-03-09T11:20:05.541Z"
   },
   {
    "duration": 57,
    "start_time": "2023-03-09T11:20:05.552Z"
   },
   {
    "duration": 12,
    "start_time": "2023-03-09T11:20:05.611Z"
   },
   {
    "duration": 11,
    "start_time": "2023-03-09T11:20:05.626Z"
   },
   {
    "duration": 8,
    "start_time": "2023-03-09T11:20:05.640Z"
   },
   {
    "duration": 8,
    "start_time": "2023-03-09T11:20:05.650Z"
   },
   {
    "duration": 27,
    "start_time": "2023-03-09T11:20:05.660Z"
   },
   {
    "duration": 1064,
    "start_time": "2023-03-09T11:20:05.690Z"
   },
   {
    "duration": 5,
    "start_time": "2023-03-09T11:20:06.758Z"
   },
   {
    "duration": 36,
    "start_time": "2023-03-09T11:20:06.766Z"
   },
   {
    "duration": 3,
    "start_time": "2023-03-09T11:20:06.804Z"
   },
   {
    "duration": 37,
    "start_time": "2023-03-09T11:20:06.810Z"
   },
   {
    "duration": 6,
    "start_time": "2023-03-09T11:20:06.849Z"
   },
   {
    "duration": 12,
    "start_time": "2023-03-09T11:20:06.857Z"
   },
   {
    "duration": 10379,
    "start_time": "2023-03-09T11:20:06.872Z"
   },
   {
    "duration": 87,
    "start_time": "2023-03-09T11:20:17.256Z"
   },
   {
    "duration": 58437,
    "start_time": "2023-03-09T11:20:17.346Z"
   },
   {
    "duration": 5,
    "start_time": "2023-03-09T11:21:15.785Z"
   },
   {
    "duration": 995,
    "start_time": "2023-03-09T11:21:15.792Z"
   },
   {
    "duration": 5,
    "start_time": "2023-03-09T11:21:16.789Z"
   },
   {
    "duration": 57,
    "start_time": "2023-03-09T11:21:16.795Z"
   },
   {
    "duration": 5,
    "start_time": "2023-03-09T11:22:01.744Z"
   },
   {
    "duration": 8,
    "start_time": "2023-03-09T11:23:37.878Z"
   },
   {
    "duration": 69,
    "start_time": "2023-03-09T11:23:37.889Z"
   },
   {
    "duration": 15,
    "start_time": "2023-03-09T11:23:37.961Z"
   },
   {
    "duration": 5,
    "start_time": "2023-03-09T11:23:37.980Z"
   },
   {
    "duration": 30,
    "start_time": "2023-03-09T11:23:37.987Z"
   },
   {
    "duration": 54,
    "start_time": "2023-03-09T11:23:38.019Z"
   },
   {
    "duration": 44,
    "start_time": "2023-03-09T11:23:38.075Z"
   },
   {
    "duration": 908,
    "start_time": "2023-03-09T11:23:38.122Z"
   },
   {
    "duration": 10,
    "start_time": "2023-03-09T11:23:39.032Z"
   },
   {
    "duration": 93,
    "start_time": "2023-03-09T11:23:39.047Z"
   },
   {
    "duration": 4,
    "start_time": "2023-03-09T11:23:39.142Z"
   },
   {
    "duration": 13,
    "start_time": "2023-03-09T11:23:39.148Z"
   },
   {
    "duration": 5,
    "start_time": "2023-03-09T11:23:39.163Z"
   },
   {
    "duration": 12,
    "start_time": "2023-03-09T11:23:39.171Z"
   },
   {
    "duration": 7665,
    "start_time": "2023-03-09T11:23:39.187Z"
   },
   {
    "duration": 83,
    "start_time": "2023-03-09T11:23:46.860Z"
   },
   {
    "duration": 19433,
    "start_time": "2023-03-09T11:23:46.946Z"
   },
   {
    "duration": 7,
    "start_time": "2023-03-09T11:24:06.381Z"
   },
   {
    "duration": 1042,
    "start_time": "2023-03-09T11:24:06.390Z"
   },
   {
    "duration": 10,
    "start_time": "2023-03-09T11:24:07.436Z"
   },
   {
    "duration": 13,
    "start_time": "2023-03-09T11:24:07.449Z"
   },
   {
    "duration": 5,
    "start_time": "2023-03-09T11:24:12.319Z"
   },
   {
    "duration": 6,
    "start_time": "2023-03-09T11:27:19.058Z"
   },
   {
    "duration": 60,
    "start_time": "2023-03-09T11:27:19.066Z"
   },
   {
    "duration": 9,
    "start_time": "2023-03-09T11:27:19.128Z"
   },
   {
    "duration": 4,
    "start_time": "2023-03-09T11:27:19.138Z"
   },
   {
    "duration": 6,
    "start_time": "2023-03-09T11:27:19.144Z"
   },
   {
    "duration": 12,
    "start_time": "2023-03-09T11:27:19.152Z"
   },
   {
    "duration": 10,
    "start_time": "2023-03-09T11:27:19.165Z"
   },
   {
    "duration": 835,
    "start_time": "2023-03-09T11:27:19.177Z"
   },
   {
    "duration": 5,
    "start_time": "2023-03-09T11:27:20.014Z"
   },
   {
    "duration": 48,
    "start_time": "2023-03-09T11:27:20.022Z"
   },
   {
    "duration": 3,
    "start_time": "2023-03-09T11:27:20.074Z"
   },
   {
    "duration": 11,
    "start_time": "2023-03-09T11:27:20.079Z"
   },
   {
    "duration": 3,
    "start_time": "2023-03-09T11:27:20.092Z"
   },
   {
    "duration": 6,
    "start_time": "2023-03-09T11:27:20.097Z"
   },
   {
    "duration": 11955,
    "start_time": "2023-03-09T11:27:20.105Z"
   },
   {
    "duration": 5,
    "start_time": "2023-03-09T11:27:32.142Z"
   },
   {
    "duration": 18888,
    "start_time": "2023-03-09T11:27:32.153Z"
   },
   {
    "duration": 4,
    "start_time": "2023-03-09T11:27:51.043Z"
   },
   {
    "duration": 931,
    "start_time": "2023-03-09T11:27:51.048Z"
   },
   {
    "duration": 5,
    "start_time": "2023-03-09T11:27:51.981Z"
   },
   {
    "duration": 487,
    "start_time": "2023-03-09T11:28:10.409Z"
   },
   {
    "duration": 7,
    "start_time": "2023-03-09T11:36:47.480Z"
   },
   {
    "duration": 165,
    "start_time": "2023-03-09T11:36:47.489Z"
   },
   {
    "duration": 16,
    "start_time": "2023-03-09T11:36:47.656Z"
   },
   {
    "duration": 50,
    "start_time": "2023-03-09T11:36:47.674Z"
   },
   {
    "duration": 74,
    "start_time": "2023-03-09T11:36:47.726Z"
   },
   {
    "duration": 78,
    "start_time": "2023-03-09T11:36:47.802Z"
   },
   {
    "duration": 63,
    "start_time": "2023-03-09T11:36:47.881Z"
   },
   {
    "duration": 872,
    "start_time": "2023-03-09T11:36:47.946Z"
   },
   {
    "duration": 4,
    "start_time": "2023-03-09T11:36:48.820Z"
   },
   {
    "duration": 103,
    "start_time": "2023-03-09T11:36:48.825Z"
   },
   {
    "duration": 4,
    "start_time": "2023-03-09T11:36:48.931Z"
   },
   {
    "duration": 40,
    "start_time": "2023-03-09T11:36:48.937Z"
   },
   {
    "duration": 49,
    "start_time": "2023-03-09T11:36:48.979Z"
   },
   {
    "duration": 66,
    "start_time": "2023-03-09T11:36:49.030Z"
   },
   {
    "duration": 12145,
    "start_time": "2023-03-09T11:36:49.097Z"
   },
   {
    "duration": 5,
    "start_time": "2023-03-09T11:37:01.244Z"
   },
   {
    "duration": 18327,
    "start_time": "2023-03-09T11:37:01.251Z"
   },
   {
    "duration": 5,
    "start_time": "2023-03-09T11:37:19.579Z"
   },
   {
    "duration": 935,
    "start_time": "2023-03-09T11:37:19.585Z"
   },
   {
    "duration": 4,
    "start_time": "2023-03-09T11:37:20.521Z"
   },
   {
    "duration": 7,
    "start_time": "2023-03-09T11:37:31.800Z"
   },
   {
    "duration": 19974,
    "start_time": "2023-03-09T11:37:40.297Z"
   },
   {
    "duration": 4,
    "start_time": "2023-03-09T11:38:05.096Z"
   },
   {
    "duration": 6,
    "start_time": "2023-03-09T11:46:07.630Z"
   },
   {
    "duration": 53,
    "start_time": "2023-03-09T11:46:07.641Z"
   },
   {
    "duration": 11,
    "start_time": "2023-03-09T11:46:07.696Z"
   },
   {
    "duration": 4,
    "start_time": "2023-03-09T11:46:07.709Z"
   },
   {
    "duration": 8,
    "start_time": "2023-03-09T11:46:07.715Z"
   },
   {
    "duration": 11,
    "start_time": "2023-03-09T11:46:07.725Z"
   },
   {
    "duration": 48,
    "start_time": "2023-03-09T11:46:07.742Z"
   },
   {
    "duration": 934,
    "start_time": "2023-03-09T11:46:07.792Z"
   },
   {
    "duration": 13,
    "start_time": "2023-03-09T11:46:08.728Z"
   },
   {
    "duration": 36,
    "start_time": "2023-03-09T11:46:08.743Z"
   },
   {
    "duration": 2,
    "start_time": "2023-03-09T11:46:08.781Z"
   },
   {
    "duration": 9,
    "start_time": "2023-03-09T11:46:08.786Z"
   },
   {
    "duration": 3,
    "start_time": "2023-03-09T11:46:08.797Z"
   },
   {
    "duration": 7,
    "start_time": "2023-03-09T11:46:08.801Z"
   },
   {
    "duration": 4535,
    "start_time": "2023-03-09T11:46:08.809Z"
   },
   {
    "duration": 4,
    "start_time": "2023-03-09T11:46:13.346Z"
   },
   {
    "duration": 35785,
    "start_time": "2023-03-09T11:46:13.353Z"
   },
   {
    "duration": 4,
    "start_time": "2023-03-09T11:46:49.141Z"
   },
   {
    "duration": 1873,
    "start_time": "2023-03-09T11:46:49.146Z"
   },
   {
    "duration": 4,
    "start_time": "2023-03-09T11:46:51.021Z"
   },
   {
    "duration": 75,
    "start_time": "2023-03-09T11:46:51.026Z"
   },
   {
    "duration": 40809,
    "start_time": "2023-03-09T11:46:51.102Z"
   },
   {
    "duration": 4,
    "start_time": "2023-03-09T11:47:31.913Z"
   },
   {
    "duration": 5,
    "start_time": "2023-03-09T11:47:53.484Z"
   },
   {
    "duration": 51,
    "start_time": "2023-03-09T11:47:53.491Z"
   },
   {
    "duration": 11,
    "start_time": "2023-03-09T11:47:53.543Z"
   },
   {
    "duration": 4,
    "start_time": "2023-03-09T11:47:53.555Z"
   },
   {
    "duration": 8,
    "start_time": "2023-03-09T11:47:53.562Z"
   },
   {
    "duration": 6,
    "start_time": "2023-03-09T11:47:53.572Z"
   },
   {
    "duration": 11,
    "start_time": "2023-03-09T11:47:53.580Z"
   },
   {
    "duration": 838,
    "start_time": "2023-03-09T11:47:53.593Z"
   },
   {
    "duration": 5,
    "start_time": "2023-03-09T11:47:54.440Z"
   },
   {
    "duration": 42,
    "start_time": "2023-03-09T11:47:54.446Z"
   },
   {
    "duration": 2,
    "start_time": "2023-03-09T11:47:54.490Z"
   },
   {
    "duration": 9,
    "start_time": "2023-03-09T11:47:54.494Z"
   },
   {
    "duration": 3,
    "start_time": "2023-03-09T11:47:54.505Z"
   },
   {
    "duration": 7,
    "start_time": "2023-03-09T11:47:54.510Z"
   },
   {
    "duration": 7115,
    "start_time": "2023-03-09T11:47:54.542Z"
   },
   {
    "duration": 5,
    "start_time": "2023-03-09T11:48:01.659Z"
   },
   {
    "duration": 60933,
    "start_time": "2023-03-09T11:48:01.665Z"
   },
   {
    "duration": 5,
    "start_time": "2023-03-09T11:49:02.600Z"
   },
   {
    "duration": 3072,
    "start_time": "2023-03-09T11:49:02.607Z"
   },
   {
    "duration": 4,
    "start_time": "2023-03-09T11:49:05.680Z"
   },
   {
    "duration": 6,
    "start_time": "2023-03-09T11:49:05.686Z"
   },
   {
    "duration": 67119,
    "start_time": "2023-03-09T11:49:05.694Z"
   },
   {
    "duration": 5,
    "start_time": "2023-03-09T11:50:12.814Z"
   }
  ],
  "kernelspec": {
   "display_name": "Python 3 (ipykernel)",
   "language": "python",
   "name": "python3"
  },
  "language_info": {
   "codemirror_mode": {
    "name": "ipython",
    "version": 3
   },
   "file_extension": ".py",
   "mimetype": "text/x-python",
   "name": "python",
   "nbconvert_exporter": "python",
   "pygments_lexer": "ipython3",
   "version": "3.9.5"
  },
  "toc": {
   "base_numbering": 1,
   "nav_menu": {},
   "number_sections": true,
   "sideBar": true,
   "skip_h1_title": true,
   "title_cell": "Содержание",
   "title_sidebar": "Contents",
   "toc_cell": true,
   "toc_position": {},
   "toc_section_display": true,
   "toc_window_display": false
  }
 },
 "nbformat": 4,
 "nbformat_minor": 2
}
