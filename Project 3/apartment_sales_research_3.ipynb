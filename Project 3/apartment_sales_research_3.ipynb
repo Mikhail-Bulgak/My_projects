{
 "cells": [
  {
   "attachments": {},
   "cell_type": "markdown",
   "metadata": {},
   "source": [
    "# Исследование объявлений о продаже квартир\n",
    "\n",
    "В нашем распоряжении данные сервиса  — архив объявлений о продаже квартир в Санкт-Петербурге и соседних населённых пунктов за несколько лет. Нужно определить рыночную стоимость объектов недвижимости. Установить параметры. Это позволит построить автоматизированную систему: она отследит аномалии и мошенническую деятельность. \n",
    "\n",
    "По каждой квартире на продажу доступны два вида данных. Первые вписаны пользователем, вторые — получены автоматически на основе картографических данных. Например, расстояние до центра, аэропорта, ближайшего парка и водоёма. "
   ]
  },
  {
   "cell_type": "code",
   "execution_count": 1,
   "metadata": {},
   "outputs": [],
   "source": [
    "import pandas as pd\n",
    "import matplotlib.pyplot as plt"
   ]
  },
  {
   "cell_type": "code",
   "execution_count": 2,
   "metadata": {},
   "outputs": [
    {
     "data": {
      "text/html": [
       "<div>\n",
       "<style scoped>\n",
       "    .dataframe tbody tr th:only-of-type {\n",
       "        vertical-align: middle;\n",
       "    }\n",
       "\n",
       "    .dataframe tbody tr th {\n",
       "        vertical-align: top;\n",
       "    }\n",
       "\n",
       "    .dataframe thead th {\n",
       "        text-align: right;\n",
       "    }\n",
       "</style>\n",
       "<table border=\"1\" class=\"dataframe\">\n",
       "  <thead>\n",
       "    <tr style=\"text-align: right;\">\n",
       "      <th></th>\n",
       "      <th>total_images</th>\n",
       "      <th>last_price</th>\n",
       "      <th>total_area</th>\n",
       "      <th>first_day_exposition</th>\n",
       "      <th>rooms</th>\n",
       "      <th>ceiling_height</th>\n",
       "      <th>floors_total</th>\n",
       "      <th>living_area</th>\n",
       "      <th>floor</th>\n",
       "      <th>is_apartment</th>\n",
       "      <th>studio</th>\n",
       "      <th>open_plan</th>\n",
       "      <th>kitchen_area</th>\n",
       "      <th>balcony</th>\n",
       "      <th>locality_name</th>\n",
       "      <th>airports_nearest</th>\n",
       "      <th>cityCenters_nearest</th>\n",
       "      <th>parks_around3000</th>\n",
       "      <th>parks_nearest</th>\n",
       "      <th>ponds_around3000</th>\n",
       "      <th>ponds_nearest</th>\n",
       "      <th>days_exposition</th>\n",
       "    </tr>\n",
       "  </thead>\n",
       "  <tbody>\n",
       "    <tr>\n",
       "      <th>0</th>\n",
       "      <td>20</td>\n",
       "      <td>13000000.0</td>\n",
       "      <td>108.00</td>\n",
       "      <td>2019-03-07T00:00:00</td>\n",
       "      <td>3</td>\n",
       "      <td>2.70</td>\n",
       "      <td>16.0</td>\n",
       "      <td>51.00</td>\n",
       "      <td>8</td>\n",
       "      <td>NaN</td>\n",
       "      <td>False</td>\n",
       "      <td>False</td>\n",
       "      <td>25.00</td>\n",
       "      <td>NaN</td>\n",
       "      <td>Санкт-Петербург</td>\n",
       "      <td>18863.0</td>\n",
       "      <td>16028.0</td>\n",
       "      <td>1.0</td>\n",
       "      <td>482.0</td>\n",
       "      <td>2.0</td>\n",
       "      <td>755.0</td>\n",
       "      <td>NaN</td>\n",
       "    </tr>\n",
       "    <tr>\n",
       "      <th>1</th>\n",
       "      <td>7</td>\n",
       "      <td>3350000.0</td>\n",
       "      <td>40.40</td>\n",
       "      <td>2018-12-04T00:00:00</td>\n",
       "      <td>1</td>\n",
       "      <td>NaN</td>\n",
       "      <td>11.0</td>\n",
       "      <td>18.60</td>\n",
       "      <td>1</td>\n",
       "      <td>NaN</td>\n",
       "      <td>False</td>\n",
       "      <td>False</td>\n",
       "      <td>11.00</td>\n",
       "      <td>2.0</td>\n",
       "      <td>посёлок Шушары</td>\n",
       "      <td>12817.0</td>\n",
       "      <td>18603.0</td>\n",
       "      <td>0.0</td>\n",
       "      <td>NaN</td>\n",
       "      <td>0.0</td>\n",
       "      <td>NaN</td>\n",
       "      <td>81.0</td>\n",
       "    </tr>\n",
       "    <tr>\n",
       "      <th>2</th>\n",
       "      <td>10</td>\n",
       "      <td>5196000.0</td>\n",
       "      <td>56.00</td>\n",
       "      <td>2015-08-20T00:00:00</td>\n",
       "      <td>2</td>\n",
       "      <td>NaN</td>\n",
       "      <td>5.0</td>\n",
       "      <td>34.30</td>\n",
       "      <td>4</td>\n",
       "      <td>NaN</td>\n",
       "      <td>False</td>\n",
       "      <td>False</td>\n",
       "      <td>8.30</td>\n",
       "      <td>0.0</td>\n",
       "      <td>Санкт-Петербург</td>\n",
       "      <td>21741.0</td>\n",
       "      <td>13933.0</td>\n",
       "      <td>1.0</td>\n",
       "      <td>90.0</td>\n",
       "      <td>2.0</td>\n",
       "      <td>574.0</td>\n",
       "      <td>558.0</td>\n",
       "    </tr>\n",
       "    <tr>\n",
       "      <th>3</th>\n",
       "      <td>0</td>\n",
       "      <td>64900000.0</td>\n",
       "      <td>159.00</td>\n",
       "      <td>2015-07-24T00:00:00</td>\n",
       "      <td>3</td>\n",
       "      <td>NaN</td>\n",
       "      <td>14.0</td>\n",
       "      <td>NaN</td>\n",
       "      <td>9</td>\n",
       "      <td>NaN</td>\n",
       "      <td>False</td>\n",
       "      <td>False</td>\n",
       "      <td>NaN</td>\n",
       "      <td>0.0</td>\n",
       "      <td>Санкт-Петербург</td>\n",
       "      <td>28098.0</td>\n",
       "      <td>6800.0</td>\n",
       "      <td>2.0</td>\n",
       "      <td>84.0</td>\n",
       "      <td>3.0</td>\n",
       "      <td>234.0</td>\n",
       "      <td>424.0</td>\n",
       "    </tr>\n",
       "    <tr>\n",
       "      <th>4</th>\n",
       "      <td>2</td>\n",
       "      <td>10000000.0</td>\n",
       "      <td>100.00</td>\n",
       "      <td>2018-06-19T00:00:00</td>\n",
       "      <td>2</td>\n",
       "      <td>3.03</td>\n",
       "      <td>14.0</td>\n",
       "      <td>32.00</td>\n",
       "      <td>13</td>\n",
       "      <td>NaN</td>\n",
       "      <td>False</td>\n",
       "      <td>False</td>\n",
       "      <td>41.00</td>\n",
       "      <td>NaN</td>\n",
       "      <td>Санкт-Петербург</td>\n",
       "      <td>31856.0</td>\n",
       "      <td>8098.0</td>\n",
       "      <td>2.0</td>\n",
       "      <td>112.0</td>\n",
       "      <td>1.0</td>\n",
       "      <td>48.0</td>\n",
       "      <td>121.0</td>\n",
       "    </tr>\n",
       "    <tr>\n",
       "      <th>5</th>\n",
       "      <td>10</td>\n",
       "      <td>2890000.0</td>\n",
       "      <td>30.40</td>\n",
       "      <td>2018-09-10T00:00:00</td>\n",
       "      <td>1</td>\n",
       "      <td>NaN</td>\n",
       "      <td>12.0</td>\n",
       "      <td>14.40</td>\n",
       "      <td>5</td>\n",
       "      <td>NaN</td>\n",
       "      <td>False</td>\n",
       "      <td>False</td>\n",
       "      <td>9.10</td>\n",
       "      <td>NaN</td>\n",
       "      <td>городской посёлок Янино-1</td>\n",
       "      <td>NaN</td>\n",
       "      <td>NaN</td>\n",
       "      <td>NaN</td>\n",
       "      <td>NaN</td>\n",
       "      <td>NaN</td>\n",
       "      <td>NaN</td>\n",
       "      <td>55.0</td>\n",
       "    </tr>\n",
       "    <tr>\n",
       "      <th>6</th>\n",
       "      <td>6</td>\n",
       "      <td>3700000.0</td>\n",
       "      <td>37.30</td>\n",
       "      <td>2017-11-02T00:00:00</td>\n",
       "      <td>1</td>\n",
       "      <td>NaN</td>\n",
       "      <td>26.0</td>\n",
       "      <td>10.60</td>\n",
       "      <td>6</td>\n",
       "      <td>NaN</td>\n",
       "      <td>False</td>\n",
       "      <td>False</td>\n",
       "      <td>14.40</td>\n",
       "      <td>1.0</td>\n",
       "      <td>посёлок Парголово</td>\n",
       "      <td>52996.0</td>\n",
       "      <td>19143.0</td>\n",
       "      <td>0.0</td>\n",
       "      <td>NaN</td>\n",
       "      <td>0.0</td>\n",
       "      <td>NaN</td>\n",
       "      <td>155.0</td>\n",
       "    </tr>\n",
       "    <tr>\n",
       "      <th>7</th>\n",
       "      <td>5</td>\n",
       "      <td>7915000.0</td>\n",
       "      <td>71.60</td>\n",
       "      <td>2019-04-18T00:00:00</td>\n",
       "      <td>2</td>\n",
       "      <td>NaN</td>\n",
       "      <td>24.0</td>\n",
       "      <td>NaN</td>\n",
       "      <td>22</td>\n",
       "      <td>NaN</td>\n",
       "      <td>False</td>\n",
       "      <td>False</td>\n",
       "      <td>18.90</td>\n",
       "      <td>2.0</td>\n",
       "      <td>Санкт-Петербург</td>\n",
       "      <td>23982.0</td>\n",
       "      <td>11634.0</td>\n",
       "      <td>0.0</td>\n",
       "      <td>NaN</td>\n",
       "      <td>0.0</td>\n",
       "      <td>NaN</td>\n",
       "      <td>NaN</td>\n",
       "    </tr>\n",
       "    <tr>\n",
       "      <th>8</th>\n",
       "      <td>20</td>\n",
       "      <td>2900000.0</td>\n",
       "      <td>33.16</td>\n",
       "      <td>2018-05-23T00:00:00</td>\n",
       "      <td>1</td>\n",
       "      <td>NaN</td>\n",
       "      <td>27.0</td>\n",
       "      <td>15.43</td>\n",
       "      <td>26</td>\n",
       "      <td>NaN</td>\n",
       "      <td>False</td>\n",
       "      <td>False</td>\n",
       "      <td>8.81</td>\n",
       "      <td>NaN</td>\n",
       "      <td>посёлок Мурино</td>\n",
       "      <td>NaN</td>\n",
       "      <td>NaN</td>\n",
       "      <td>NaN</td>\n",
       "      <td>NaN</td>\n",
       "      <td>NaN</td>\n",
       "      <td>NaN</td>\n",
       "      <td>189.0</td>\n",
       "    </tr>\n",
       "    <tr>\n",
       "      <th>9</th>\n",
       "      <td>18</td>\n",
       "      <td>5400000.0</td>\n",
       "      <td>61.00</td>\n",
       "      <td>2017-02-26T00:00:00</td>\n",
       "      <td>3</td>\n",
       "      <td>2.50</td>\n",
       "      <td>9.0</td>\n",
       "      <td>43.60</td>\n",
       "      <td>7</td>\n",
       "      <td>NaN</td>\n",
       "      <td>False</td>\n",
       "      <td>False</td>\n",
       "      <td>6.50</td>\n",
       "      <td>2.0</td>\n",
       "      <td>Санкт-Петербург</td>\n",
       "      <td>50898.0</td>\n",
       "      <td>15008.0</td>\n",
       "      <td>0.0</td>\n",
       "      <td>NaN</td>\n",
       "      <td>0.0</td>\n",
       "      <td>NaN</td>\n",
       "      <td>289.0</td>\n",
       "    </tr>\n",
       "  </tbody>\n",
       "</table>\n",
       "</div>"
      ],
      "text/plain": [
       "   total_images  last_price  total_area first_day_exposition  rooms  \\\n",
       "0            20  13000000.0      108.00  2019-03-07T00:00:00      3   \n",
       "1             7   3350000.0       40.40  2018-12-04T00:00:00      1   \n",
       "2            10   5196000.0       56.00  2015-08-20T00:00:00      2   \n",
       "3             0  64900000.0      159.00  2015-07-24T00:00:00      3   \n",
       "4             2  10000000.0      100.00  2018-06-19T00:00:00      2   \n",
       "5            10   2890000.0       30.40  2018-09-10T00:00:00      1   \n",
       "6             6   3700000.0       37.30  2017-11-02T00:00:00      1   \n",
       "7             5   7915000.0       71.60  2019-04-18T00:00:00      2   \n",
       "8            20   2900000.0       33.16  2018-05-23T00:00:00      1   \n",
       "9            18   5400000.0       61.00  2017-02-26T00:00:00      3   \n",
       "\n",
       "   ceiling_height  floors_total  living_area  floor is_apartment  studio  \\\n",
       "0            2.70          16.0        51.00      8          NaN   False   \n",
       "1             NaN          11.0        18.60      1          NaN   False   \n",
       "2             NaN           5.0        34.30      4          NaN   False   \n",
       "3             NaN          14.0          NaN      9          NaN   False   \n",
       "4            3.03          14.0        32.00     13          NaN   False   \n",
       "5             NaN          12.0        14.40      5          NaN   False   \n",
       "6             NaN          26.0        10.60      6          NaN   False   \n",
       "7             NaN          24.0          NaN     22          NaN   False   \n",
       "8             NaN          27.0        15.43     26          NaN   False   \n",
       "9            2.50           9.0        43.60      7          NaN   False   \n",
       "\n",
       "   open_plan  kitchen_area  balcony              locality_name  \\\n",
       "0      False         25.00      NaN            Санкт-Петербург   \n",
       "1      False         11.00      2.0             посёлок Шушары   \n",
       "2      False          8.30      0.0            Санкт-Петербург   \n",
       "3      False           NaN      0.0            Санкт-Петербург   \n",
       "4      False         41.00      NaN            Санкт-Петербург   \n",
       "5      False          9.10      NaN  городской посёлок Янино-1   \n",
       "6      False         14.40      1.0          посёлок Парголово   \n",
       "7      False         18.90      2.0            Санкт-Петербург   \n",
       "8      False          8.81      NaN             посёлок Мурино   \n",
       "9      False          6.50      2.0            Санкт-Петербург   \n",
       "\n",
       "   airports_nearest  cityCenters_nearest  parks_around3000  parks_nearest  \\\n",
       "0           18863.0              16028.0               1.0          482.0   \n",
       "1           12817.0              18603.0               0.0            NaN   \n",
       "2           21741.0              13933.0               1.0           90.0   \n",
       "3           28098.0               6800.0               2.0           84.0   \n",
       "4           31856.0               8098.0               2.0          112.0   \n",
       "5               NaN                  NaN               NaN            NaN   \n",
       "6           52996.0              19143.0               0.0            NaN   \n",
       "7           23982.0              11634.0               0.0            NaN   \n",
       "8               NaN                  NaN               NaN            NaN   \n",
       "9           50898.0              15008.0               0.0            NaN   \n",
       "\n",
       "   ponds_around3000  ponds_nearest  days_exposition  \n",
       "0               2.0          755.0              NaN  \n",
       "1               0.0            NaN             81.0  \n",
       "2               2.0          574.0            558.0  \n",
       "3               3.0          234.0            424.0  \n",
       "4               1.0           48.0            121.0  \n",
       "5               NaN            NaN             55.0  \n",
       "6               0.0            NaN            155.0  \n",
       "7               0.0            NaN              NaN  \n",
       "8               NaN            NaN            189.0  \n",
       "9               0.0            NaN            289.0  "
      ]
     },
     "execution_count": 2,
     "metadata": {},
     "output_type": "execute_result"
    }
   ],
   "source": [
    "pd.set_option('display.max_columns', None)\n",
    "df = pd.read_csv('/datasets/real_estate_data.csv', sep='\\t') # откроем файл и посмотрим на данные. Выведем первые 10 строк.\n",
    "df.head(10)"
   ]
  },
  {
   "cell_type": "code",
   "execution_count": 3,
   "metadata": {},
   "outputs": [
    {
     "name": "stdout",
     "output_type": "stream",
     "text": [
      "<class 'pandas.core.frame.DataFrame'>\n",
      "RangeIndex: 23699 entries, 0 to 23698\n",
      "Data columns (total 22 columns):\n",
      " #   Column                Non-Null Count  Dtype  \n",
      "---  ------                --------------  -----  \n",
      " 0   total_images          23699 non-null  int64  \n",
      " 1   last_price            23699 non-null  float64\n",
      " 2   total_area            23699 non-null  float64\n",
      " 3   first_day_exposition  23699 non-null  object \n",
      " 4   rooms                 23699 non-null  int64  \n",
      " 5   ceiling_height        14504 non-null  float64\n",
      " 6   floors_total          23613 non-null  float64\n",
      " 7   living_area           21796 non-null  float64\n",
      " 8   floor                 23699 non-null  int64  \n",
      " 9   is_apartment          2775 non-null   object \n",
      " 10  studio                23699 non-null  bool   \n",
      " 11  open_plan             23699 non-null  bool   \n",
      " 12  kitchen_area          21421 non-null  float64\n",
      " 13  balcony               12180 non-null  float64\n",
      " 14  locality_name         23650 non-null  object \n",
      " 15  airports_nearest      18157 non-null  float64\n",
      " 16  cityCenters_nearest   18180 non-null  float64\n",
      " 17  parks_around3000      18181 non-null  float64\n",
      " 18  parks_nearest         8079 non-null   float64\n",
      " 19  ponds_around3000      18181 non-null  float64\n",
      " 20  ponds_nearest         9110 non-null   float64\n",
      " 21  days_exposition       20518 non-null  float64\n",
      "dtypes: bool(2), float64(14), int64(3), object(3)\n",
      "memory usage: 3.7+ MB\n"
     ]
    }
   ],
   "source": [
    "df.info() # посмотрим основную информацию о датафрейме"
   ]
  },
  {
   "cell_type": "code",
   "execution_count": 4,
   "metadata": {},
   "outputs": [
    {
     "data": {
      "image/png": "[encoded data removed]",
      "text/plain": [
       "<Figure size 1080x1440 with 20 Axes>"
      ]
     },
     "metadata": {
      "needs_background": "light"
     },
     "output_type": "display_data"
    }
   ],
   "source": [
    "df.hist(figsize=(15, 20));"
   ]
  },
  {
   "cell_type": "markdown",
   "metadata": {},
   "source": [
    "**Вывод:**<br>\n",
    "Мы видим датасет из 22 столбцов и  23699 строк, который содержит в себе информацию о продажи квартир. Мы видим, практически сразу, что в нем есть пустые значения во многих столбцах. Неверные форматы данных в столбцах: first_day_exposition, is_apartment."
   ]
  },
  {
   "cell_type": "markdown",
   "metadata": {},
   "source": [
    "### Предобработка данных"
   ]
  },
  {
   "cell_type": "code",
   "execution_count": 5,
   "metadata": {},
   "outputs": [
    {
     "name": "stdout",
     "output_type": "stream",
     "text": [
      "Index(['total_images', 'last_price', 'total_area', 'first_day_exposition',\n",
      "       'rooms', 'ceiling_height', 'floors_total', 'living_area', 'floor',\n",
      "       'is_apartment', 'studio', 'open_plan', 'kitchen_area', 'balcony',\n",
      "       'locality_name', 'airports_nearest', 'cityсenters_nearest',\n",
      "       'parks_around3000', 'parks_nearest', 'ponds_around3000',\n",
      "       'ponds_nearest', 'days_exposition'],\n",
      "      dtype='object')\n"
     ]
    }
   ],
   "source": [
    "df = df.rename(columns = {'cityCenters_nearest' : 'cityсenters_nearest'}) # сначала скорректируем название столбца cityCenters_nearest\n",
    "print(df.columns)"
   ]
  },
  {
   "cell_type": "code",
   "execution_count": 6,
   "metadata": {},
   "outputs": [
    {
     "data": {
      "text/plain": [
       "total_images                0\n",
       "last_price                  0\n",
       "total_area                  0\n",
       "first_day_exposition        0\n",
       "rooms                       0\n",
       "ceiling_height           9195\n",
       "floors_total               86\n",
       "living_area              1903\n",
       "floor                       0\n",
       "is_apartment            20924\n",
       "studio                      0\n",
       "open_plan                   0\n",
       "kitchen_area             2278\n",
       "balcony                 11519\n",
       "locality_name              49\n",
       "airports_nearest         5542\n",
       "cityсenters_nearest      5519\n",
       "parks_around3000         5518\n",
       "parks_nearest           15620\n",
       "ponds_around3000         5518\n",
       "ponds_nearest           14589\n",
       "days_exposition          3181\n",
       "dtype: int64"
      ]
     },
     "execution_count": 6,
     "metadata": {},
     "output_type": "execute_result"
    }
   ],
   "source": [
    "df.isna().sum() # теперь узнаем в каких столбцах нет данных и сколько их всего"
   ]
  },
  {
   "cell_type": "markdown",
   "metadata": {},
   "source": [
    "В данных очень много пропусков в столбце с числом балконов. Скорее всего их в этих квартирах нет. Поэтому заменим все пропуски на нули."
   ]
  },
  {
   "cell_type": "code",
   "execution_count": 7,
   "metadata": {},
   "outputs": [
    {
     "name": "stdout",
     "output_type": "stream",
     "text": [
      "<class 'pandas.core.frame.DataFrame'>\n",
      "RangeIndex: 23699 entries, 0 to 23698\n",
      "Data columns (total 22 columns):\n",
      " #   Column                Non-Null Count  Dtype  \n",
      "---  ------                --------------  -----  \n",
      " 0   total_images          23699 non-null  int64  \n",
      " 1   last_price            23699 non-null  float64\n",
      " 2   total_area            23699 non-null  float64\n",
      " 3   first_day_exposition  23699 non-null  object \n",
      " 4   rooms                 23699 non-null  int64  \n",
      " 5   ceiling_height        14504 non-null  float64\n",
      " 6   floors_total          23613 non-null  float64\n",
      " 7   living_area           21796 non-null  float64\n",
      " 8   floor                 23699 non-null  int64  \n",
      " 9   is_apartment          2775 non-null   object \n",
      " 10  studio                23699 non-null  bool   \n",
      " 11  open_plan             23699 non-null  bool   \n",
      " 12  kitchen_area          21421 non-null  float64\n",
      " 13  balcony               23699 non-null  float64\n",
      " 14  locality_name         23650 non-null  object \n",
      " 15  airports_nearest      18157 non-null  float64\n",
      " 16  cityсenters_nearest   18180 non-null  float64\n",
      " 17  parks_around3000      18181 non-null  float64\n",
      " 18  parks_nearest         8079 non-null   float64\n",
      " 19  ponds_around3000      18181 non-null  float64\n",
      " 20  ponds_nearest         9110 non-null   float64\n",
      " 21  days_exposition       20518 non-null  float64\n",
      "dtypes: bool(2), float64(14), int64(3), object(3)\n",
      "memory usage: 3.7+ MB\n"
     ]
    }
   ],
   "source": [
    "df['balcony'] = df['balcony'].fillna(0)\n",
    "df.info()"
   ]
  },
  {
   "cell_type": "markdown",
   "metadata": {},
   "source": [
    "Больше пустых значений в количестве балконов нет. Скорее всего пропуски появились в результате человеческой ошибки при заполнении. Сотрудник (продавец) просто не стал отмечать в поле число балконов, а оставил его пустым, вероятно подумав, что раз их нет, то и смысла заполнять поле нет. Можно также заполнить пропуски в `is_apartment`. Если в квартире одна комната, то она вполне подходит под определение апартаментов."
   ]
  },
  {
   "cell_type": "code",
   "execution_count": 8,
   "metadata": {},
   "outputs": [
    {
     "data": {
      "text/html": [
       "<div>\n",
       "<style scoped>\n",
       "    .dataframe tbody tr th:only-of-type {\n",
       "        vertical-align: middle;\n",
       "    }\n",
       "\n",
       "    .dataframe tbody tr th {\n",
       "        vertical-align: top;\n",
       "    }\n",
       "\n",
       "    .dataframe thead th {\n",
       "        text-align: right;\n",
       "    }\n",
       "</style>\n",
       "<table border=\"1\" class=\"dataframe\">\n",
       "  <thead>\n",
       "    <tr style=\"text-align: right;\">\n",
       "      <th></th>\n",
       "      <th>total_images</th>\n",
       "      <th>last_price</th>\n",
       "      <th>total_area</th>\n",
       "      <th>first_day_exposition</th>\n",
       "      <th>rooms</th>\n",
       "      <th>ceiling_height</th>\n",
       "      <th>floors_total</th>\n",
       "      <th>living_area</th>\n",
       "      <th>floor</th>\n",
       "      <th>is_apartment</th>\n",
       "      <th>studio</th>\n",
       "      <th>open_plan</th>\n",
       "      <th>kitchen_area</th>\n",
       "      <th>balcony</th>\n",
       "      <th>locality_name</th>\n",
       "      <th>airports_nearest</th>\n",
       "      <th>cityсenters_nearest</th>\n",
       "      <th>parks_around3000</th>\n",
       "      <th>parks_nearest</th>\n",
       "      <th>ponds_around3000</th>\n",
       "      <th>ponds_nearest</th>\n",
       "      <th>days_exposition</th>\n",
       "    </tr>\n",
       "  </thead>\n",
       "  <tbody>\n",
       "    <tr>\n",
       "      <th>0</th>\n",
       "      <td>20</td>\n",
       "      <td>13000000.0</td>\n",
       "      <td>108.00</td>\n",
       "      <td>2019-03-07T00:00:00</td>\n",
       "      <td>3</td>\n",
       "      <td>2.70</td>\n",
       "      <td>16.0</td>\n",
       "      <td>51.00</td>\n",
       "      <td>8</td>\n",
       "      <td>0</td>\n",
       "      <td>False</td>\n",
       "      <td>False</td>\n",
       "      <td>25.00</td>\n",
       "      <td>0.0</td>\n",
       "      <td>Санкт-Петербург</td>\n",
       "      <td>18863.0</td>\n",
       "      <td>16028.0</td>\n",
       "      <td>1.0</td>\n",
       "      <td>482.0</td>\n",
       "      <td>2.0</td>\n",
       "      <td>755.0</td>\n",
       "      <td>NaN</td>\n",
       "    </tr>\n",
       "    <tr>\n",
       "      <th>1</th>\n",
       "      <td>7</td>\n",
       "      <td>3350000.0</td>\n",
       "      <td>40.40</td>\n",
       "      <td>2018-12-04T00:00:00</td>\n",
       "      <td>1</td>\n",
       "      <td>NaN</td>\n",
       "      <td>11.0</td>\n",
       "      <td>18.60</td>\n",
       "      <td>1</td>\n",
       "      <td>1</td>\n",
       "      <td>False</td>\n",
       "      <td>False</td>\n",
       "      <td>11.00</td>\n",
       "      <td>2.0</td>\n",
       "      <td>посёлок Шушары</td>\n",
       "      <td>12817.0</td>\n",
       "      <td>18603.0</td>\n",
       "      <td>0.0</td>\n",
       "      <td>NaN</td>\n",
       "      <td>0.0</td>\n",
       "      <td>NaN</td>\n",
       "      <td>81.0</td>\n",
       "    </tr>\n",
       "    <tr>\n",
       "      <th>2</th>\n",
       "      <td>10</td>\n",
       "      <td>5196000.0</td>\n",
       "      <td>56.00</td>\n",
       "      <td>2015-08-20T00:00:00</td>\n",
       "      <td>2</td>\n",
       "      <td>NaN</td>\n",
       "      <td>5.0</td>\n",
       "      <td>34.30</td>\n",
       "      <td>4</td>\n",
       "      <td>0</td>\n",
       "      <td>False</td>\n",
       "      <td>False</td>\n",
       "      <td>8.30</td>\n",
       "      <td>0.0</td>\n",
       "      <td>Санкт-Петербург</td>\n",
       "      <td>21741.0</td>\n",
       "      <td>13933.0</td>\n",
       "      <td>1.0</td>\n",
       "      <td>90.0</td>\n",
       "      <td>2.0</td>\n",
       "      <td>574.0</td>\n",
       "      <td>558.0</td>\n",
       "    </tr>\n",
       "    <tr>\n",
       "      <th>3</th>\n",
       "      <td>0</td>\n",
       "      <td>64900000.0</td>\n",
       "      <td>159.00</td>\n",
       "      <td>2015-07-24T00:00:00</td>\n",
       "      <td>3</td>\n",
       "      <td>NaN</td>\n",
       "      <td>14.0</td>\n",
       "      <td>NaN</td>\n",
       "      <td>9</td>\n",
       "      <td>0</td>\n",
       "      <td>False</td>\n",
       "      <td>False</td>\n",
       "      <td>NaN</td>\n",
       "      <td>0.0</td>\n",
       "      <td>Санкт-Петербург</td>\n",
       "      <td>28098.0</td>\n",
       "      <td>6800.0</td>\n",
       "      <td>2.0</td>\n",
       "      <td>84.0</td>\n",
       "      <td>3.0</td>\n",
       "      <td>234.0</td>\n",
       "      <td>424.0</td>\n",
       "    </tr>\n",
       "    <tr>\n",
       "      <th>4</th>\n",
       "      <td>2</td>\n",
       "      <td>10000000.0</td>\n",
       "      <td>100.00</td>\n",
       "      <td>2018-06-19T00:00:00</td>\n",
       "      <td>2</td>\n",
       "      <td>3.03</td>\n",
       "      <td>14.0</td>\n",
       "      <td>32.00</td>\n",
       "      <td>13</td>\n",
       "      <td>0</td>\n",
       "      <td>False</td>\n",
       "      <td>False</td>\n",
       "      <td>41.00</td>\n",
       "      <td>0.0</td>\n",
       "      <td>Санкт-Петербург</td>\n",
       "      <td>31856.0</td>\n",
       "      <td>8098.0</td>\n",
       "      <td>2.0</td>\n",
       "      <td>112.0</td>\n",
       "      <td>1.0</td>\n",
       "      <td>48.0</td>\n",
       "      <td>121.0</td>\n",
       "    </tr>\n",
       "    <tr>\n",
       "      <th>5</th>\n",
       "      <td>10</td>\n",
       "      <td>2890000.0</td>\n",
       "      <td>30.40</td>\n",
       "      <td>2018-09-10T00:00:00</td>\n",
       "      <td>1</td>\n",
       "      <td>NaN</td>\n",
       "      <td>12.0</td>\n",
       "      <td>14.40</td>\n",
       "      <td>5</td>\n",
       "      <td>1</td>\n",
       "      <td>False</td>\n",
       "      <td>False</td>\n",
       "      <td>9.10</td>\n",
       "      <td>0.0</td>\n",
       "      <td>городской посёлок Янино-1</td>\n",
       "      <td>NaN</td>\n",
       "      <td>NaN</td>\n",
       "      <td>NaN</td>\n",
       "      <td>NaN</td>\n",
       "      <td>NaN</td>\n",
       "      <td>NaN</td>\n",
       "      <td>55.0</td>\n",
       "    </tr>\n",
       "    <tr>\n",
       "      <th>6</th>\n",
       "      <td>6</td>\n",
       "      <td>3700000.0</td>\n",
       "      <td>37.30</td>\n",
       "      <td>2017-11-02T00:00:00</td>\n",
       "      <td>1</td>\n",
       "      <td>NaN</td>\n",
       "      <td>26.0</td>\n",
       "      <td>10.60</td>\n",
       "      <td>6</td>\n",
       "      <td>1</td>\n",
       "      <td>False</td>\n",
       "      <td>False</td>\n",
       "      <td>14.40</td>\n",
       "      <td>1.0</td>\n",
       "      <td>посёлок Парголово</td>\n",
       "      <td>52996.0</td>\n",
       "      <td>19143.0</td>\n",
       "      <td>0.0</td>\n",
       "      <td>NaN</td>\n",
       "      <td>0.0</td>\n",
       "      <td>NaN</td>\n",
       "      <td>155.0</td>\n",
       "    </tr>\n",
       "    <tr>\n",
       "      <th>7</th>\n",
       "      <td>5</td>\n",
       "      <td>7915000.0</td>\n",
       "      <td>71.60</td>\n",
       "      <td>2019-04-18T00:00:00</td>\n",
       "      <td>2</td>\n",
       "      <td>NaN</td>\n",
       "      <td>24.0</td>\n",
       "      <td>NaN</td>\n",
       "      <td>22</td>\n",
       "      <td>0</td>\n",
       "      <td>False</td>\n",
       "      <td>False</td>\n",
       "      <td>18.90</td>\n",
       "      <td>2.0</td>\n",
       "      <td>Санкт-Петербург</td>\n",
       "      <td>23982.0</td>\n",
       "      <td>11634.0</td>\n",
       "      <td>0.0</td>\n",
       "      <td>NaN</td>\n",
       "      <td>0.0</td>\n",
       "      <td>NaN</td>\n",
       "      <td>NaN</td>\n",
       "    </tr>\n",
       "    <tr>\n",
       "      <th>8</th>\n",
       "      <td>20</td>\n",
       "      <td>2900000.0</td>\n",
       "      <td>33.16</td>\n",
       "      <td>2018-05-23T00:00:00</td>\n",
       "      <td>1</td>\n",
       "      <td>NaN</td>\n",
       "      <td>27.0</td>\n",
       "      <td>15.43</td>\n",
       "      <td>26</td>\n",
       "      <td>1</td>\n",
       "      <td>False</td>\n",
       "      <td>False</td>\n",
       "      <td>8.81</td>\n",
       "      <td>0.0</td>\n",
       "      <td>посёлок Мурино</td>\n",
       "      <td>NaN</td>\n",
       "      <td>NaN</td>\n",
       "      <td>NaN</td>\n",
       "      <td>NaN</td>\n",
       "      <td>NaN</td>\n",
       "      <td>NaN</td>\n",
       "      <td>189.0</td>\n",
       "    </tr>\n",
       "    <tr>\n",
       "      <th>9</th>\n",
       "      <td>18</td>\n",
       "      <td>5400000.0</td>\n",
       "      <td>61.00</td>\n",
       "      <td>2017-02-26T00:00:00</td>\n",
       "      <td>3</td>\n",
       "      <td>2.50</td>\n",
       "      <td>9.0</td>\n",
       "      <td>43.60</td>\n",
       "      <td>7</td>\n",
       "      <td>0</td>\n",
       "      <td>False</td>\n",
       "      <td>False</td>\n",
       "      <td>6.50</td>\n",
       "      <td>2.0</td>\n",
       "      <td>Санкт-Петербург</td>\n",
       "      <td>50898.0</td>\n",
       "      <td>15008.0</td>\n",
       "      <td>0.0</td>\n",
       "      <td>NaN</td>\n",
       "      <td>0.0</td>\n",
       "      <td>NaN</td>\n",
       "      <td>289.0</td>\n",
       "    </tr>\n",
       "  </tbody>\n",
       "</table>\n",
       "</div>"
      ],
      "text/plain": [
       "   total_images  last_price  total_area first_day_exposition  rooms  \\\n",
       "0            20  13000000.0      108.00  2019-03-07T00:00:00      3   \n",
       "1             7   3350000.0       40.40  2018-12-04T00:00:00      1   \n",
       "2            10   5196000.0       56.00  2015-08-20T00:00:00      2   \n",
       "3             0  64900000.0      159.00  2015-07-24T00:00:00      3   \n",
       "4             2  10000000.0      100.00  2018-06-19T00:00:00      2   \n",
       "5            10   2890000.0       30.40  2018-09-10T00:00:00      1   \n",
       "6             6   3700000.0       37.30  2017-11-02T00:00:00      1   \n",
       "7             5   7915000.0       71.60  2019-04-18T00:00:00      2   \n",
       "8            20   2900000.0       33.16  2018-05-23T00:00:00      1   \n",
       "9            18   5400000.0       61.00  2017-02-26T00:00:00      3   \n",
       "\n",
       "   ceiling_height  floors_total  living_area  floor is_apartment  studio  \\\n",
       "0            2.70          16.0        51.00      8            0   False   \n",
       "1             NaN          11.0        18.60      1            1   False   \n",
       "2             NaN           5.0        34.30      4            0   False   \n",
       "3             NaN          14.0          NaN      9            0   False   \n",
       "4            3.03          14.0        32.00     13            0   False   \n",
       "5             NaN          12.0        14.40      5            1   False   \n",
       "6             NaN          26.0        10.60      6            1   False   \n",
       "7             NaN          24.0          NaN     22            0   False   \n",
       "8             NaN          27.0        15.43     26            1   False   \n",
       "9            2.50           9.0        43.60      7            0   False   \n",
       "\n",
       "   open_plan  kitchen_area  balcony              locality_name  \\\n",
       "0      False         25.00      0.0            Санкт-Петербург   \n",
       "1      False         11.00      2.0             посёлок Шушары   \n",
       "2      False          8.30      0.0            Санкт-Петербург   \n",
       "3      False           NaN      0.0            Санкт-Петербург   \n",
       "4      False         41.00      0.0            Санкт-Петербург   \n",
       "5      False          9.10      0.0  городской посёлок Янино-1   \n",
       "6      False         14.40      1.0          посёлок Парголово   \n",
       "7      False         18.90      2.0            Санкт-Петербург   \n",
       "8      False          8.81      0.0             посёлок Мурино   \n",
       "9      False          6.50      2.0            Санкт-Петербург   \n",
       "\n",
       "   airports_nearest  cityсenters_nearest  parks_around3000  parks_nearest  \\\n",
       "0           18863.0              16028.0               1.0          482.0   \n",
       "1           12817.0              18603.0               0.0            NaN   \n",
       "2           21741.0              13933.0               1.0           90.0   \n",
       "3           28098.0               6800.0               2.0           84.0   \n",
       "4           31856.0               8098.0               2.0          112.0   \n",
       "5               NaN                  NaN               NaN            NaN   \n",
       "6           52996.0              19143.0               0.0            NaN   \n",
       "7           23982.0              11634.0               0.0            NaN   \n",
       "8               NaN                  NaN               NaN            NaN   \n",
       "9           50898.0              15008.0               0.0            NaN   \n",
       "\n",
       "   ponds_around3000  ponds_nearest  days_exposition  \n",
       "0               2.0          755.0              NaN  \n",
       "1               0.0            NaN             81.0  \n",
       "2               2.0          574.0            558.0  \n",
       "3               3.0          234.0            424.0  \n",
       "4               1.0           48.0            121.0  \n",
       "5               NaN            NaN             55.0  \n",
       "6               0.0            NaN            155.0  \n",
       "7               0.0            NaN              NaN  \n",
       "8               NaN            NaN            189.0  \n",
       "9               0.0            NaN            289.0  "
      ]
     },
     "execution_count": 8,
     "metadata": {},
     "output_type": "execute_result"
    }
   ],
   "source": [
    "df.loc[(df['is_apartment'].isna())&(df['rooms']==1), 'is_apartment'] = 1\n",
    "df.loc[(df['is_apartment'].isna())&(df['rooms']!=1), 'is_apartment'] = 0\n",
    "df.head(10)"
   ]
  },
  {
   "cell_type": "markdown",
   "metadata": {},
   "source": [
    "Также поставим нули в `parks_around3000` и `ponds_around3000` по аналогии с балконами. Т.е. если продавец не указал, то, скорее всего, парков и водоемов в указанном радиусе нет."
   ]
  },
  {
   "cell_type": "code",
   "execution_count": 9,
   "metadata": {},
   "outputs": [
    {
     "data": {
      "text/plain": [
       "total_images                0\n",
       "last_price                  0\n",
       "total_area                  0\n",
       "first_day_exposition        0\n",
       "rooms                       0\n",
       "ceiling_height           9195\n",
       "floors_total               86\n",
       "living_area              1903\n",
       "floor                       0\n",
       "is_apartment                0\n",
       "studio                      0\n",
       "open_plan                   0\n",
       "kitchen_area             2278\n",
       "balcony                     0\n",
       "locality_name              49\n",
       "airports_nearest         5542\n",
       "cityсenters_nearest      5519\n",
       "parks_around3000            0\n",
       "parks_nearest           15620\n",
       "ponds_around3000            0\n",
       "ponds_nearest           14589\n",
       "days_exposition          3181\n",
       "dtype: int64"
      ]
     },
     "execution_count": 9,
     "metadata": {},
     "output_type": "execute_result"
    }
   ],
   "source": [
    "df['parks_around3000'] = df['parks_around3000'].fillna(0)\n",
    "df['ponds_around3000'] = df['ponds_around3000'].fillna(0)\n",
    "df.isna().sum()"
   ]
  },
  {
   "cell_type": "markdown",
   "metadata": {},
   "source": [
    "С точки зрения пропусков данные выглядят уже значительно лучше. Устанавливать медианные значения по высоте потолков, этажей в доме, жилой площади, площади кухни, кажется не разумным, т.к. дома могут быть разной планировки, разного статуса, находится в разных районах, поэтому усреднять их не стоит. Лучше пока оставить как есть. Но, что крайне интересно, так это отсутствие данных, которые должны формироваться автоматически в полях расстояние до аэропорта, расстояние до центра, ближайший парт или водоем. Возможно пустые данные признак технической ошибки."
   ]
  },
  {
   "cell_type": "code",
   "execution_count": 10,
   "metadata": {},
   "outputs": [],
   "source": [
    "df['floors_total'] = df['floors_total'].where(df['floors_total'].notnull(), df['floor']) # заменили пропуски этажом, на котором находится квартира"
   ]
  },
  {
   "cell_type": "code",
   "execution_count": 11,
   "metadata": {},
   "outputs": [
    {
     "name": "stdout",
     "output_type": "stream",
     "text": [
      "Отношение жилой площади к общей равно 57\n",
      "Отношение площади кухни к жилой площади равно 31\n"
     ]
    }
   ],
   "source": [
    "mean_living_area = round(df['living_area'].mean() / df['total_area'].mean() * 100) # найдем соотношение средней жилой площади к средней общей площади\n",
    "mean_kitchen_area = round(df['kitchen_area'].mean() / df['living_area'].mean() * 100) # найдем соотношение средней площади кухни к средней жилой площади\n",
    "print ('Отношение жилой площади к общей равно', mean_living_area)\n",
    "print ('Отношение площади кухни к жилой площади равно', mean_kitchen_area)"
   ]
  },
  {
   "cell_type": "code",
   "execution_count": 12,
   "metadata": {},
   "outputs": [
    {
     "data": {
      "text/plain": [
       "total_images                0\n",
       "last_price                  0\n",
       "total_area                  0\n",
       "first_day_exposition        0\n",
       "rooms                       0\n",
       "ceiling_height           9195\n",
       "floors_total                0\n",
       "living_area                 0\n",
       "floor                       0\n",
       "is_apartment                0\n",
       "studio                      0\n",
       "open_plan                   0\n",
       "kitchen_area                0\n",
       "balcony                     0\n",
       "locality_name              49\n",
       "airports_nearest         5542\n",
       "cityсenters_nearest      5519\n",
       "parks_around3000            0\n",
       "parks_nearest           15620\n",
       "ponds_around3000            0\n",
       "ponds_nearest           14589\n",
       "days_exposition          3181\n",
       "dtype: int64"
      ]
     },
     "execution_count": 12,
     "metadata": {},
     "output_type": "execute_result"
    }
   ],
   "source": [
    "df['living_area'] = df['living_area'].fillna(mean_living_area) # заполним пропуски в данных полученными ранее значениями\n",
    "df['kitchen_area'] = df['kitchen_area'].fillna(mean_kitchen_area)\n",
    "df.isna().sum()"
   ]
  },
  {
   "cell_type": "markdown",
   "metadata": {},
   "source": [
    "Теперь нужно навести порядок с типами данных."
   ]
  },
  {
   "cell_type": "code",
   "execution_count": 13,
   "metadata": {},
   "outputs": [
    {
     "name": "stdout",
     "output_type": "stream",
     "text": [
      "<class 'pandas.core.frame.DataFrame'>\n",
      "RangeIndex: 23699 entries, 0 to 23698\n",
      "Data columns (total 22 columns):\n",
      " #   Column                Non-Null Count  Dtype  \n",
      "---  ------                --------------  -----  \n",
      " 0   total_images          23699 non-null  int64  \n",
      " 1   last_price            23699 non-null  float64\n",
      " 2   total_area            23699 non-null  float64\n",
      " 3   first_day_exposition  23699 non-null  object \n",
      " 4   rooms                 23699 non-null  int64  \n",
      " 5   ceiling_height        14504 non-null  float64\n",
      " 6   floors_total          23699 non-null  float64\n",
      " 7   living_area           23699 non-null  float64\n",
      " 8   floor                 23699 non-null  int64  \n",
      " 9   is_apartment          23699 non-null  object \n",
      " 10  studio                23699 non-null  bool   \n",
      " 11  open_plan             23699 non-null  bool   \n",
      " 12  kitchen_area          23699 non-null  float64\n",
      " 13  balcony               23699 non-null  float64\n",
      " 14  locality_name         23650 non-null  object \n",
      " 15  airports_nearest      18157 non-null  float64\n",
      " 16  cityсenters_nearest   18180 non-null  float64\n",
      " 17  parks_around3000      23699 non-null  float64\n",
      " 18  parks_nearest         8079 non-null   float64\n",
      " 19  ponds_around3000      23699 non-null  float64\n",
      " 20  ponds_nearest         9110 non-null   float64\n",
      " 21  days_exposition       20518 non-null  float64\n",
      "dtypes: bool(2), float64(14), int64(3), object(3)\n",
      "memory usage: 3.7+ MB\n"
     ]
    }
   ],
   "source": [
    "df.info()"
   ]
  },
  {
   "cell_type": "code",
   "execution_count": 14,
   "metadata": {},
   "outputs": [
    {
     "name": "stdout",
     "output_type": "stream",
     "text": [
      "<class 'pandas.core.frame.DataFrame'>\n",
      "RangeIndex: 23699 entries, 0 to 23698\n",
      "Data columns (total 22 columns):\n",
      " #   Column                Non-Null Count  Dtype  \n",
      "---  ------                --------------  -----  \n",
      " 0   total_images          23699 non-null  int64  \n",
      " 1   last_price            23699 non-null  int64  \n",
      " 2   total_area            23699 non-null  float64\n",
      " 3   first_day_exposition  23699 non-null  object \n",
      " 4   rooms                 23699 non-null  int64  \n",
      " 5   ceiling_height        14504 non-null  float64\n",
      " 6   floors_total          23699 non-null  float64\n",
      " 7   living_area           23699 non-null  float64\n",
      " 8   floor                 23699 non-null  int64  \n",
      " 9   is_apartment          23699 non-null  bool   \n",
      " 10  studio                23699 non-null  bool   \n",
      " 11  open_plan             23699 non-null  bool   \n",
      " 12  kitchen_area          23699 non-null  float64\n",
      " 13  balcony               23699 non-null  int64  \n",
      " 14  locality_name         23650 non-null  object \n",
      " 15  airports_nearest      18157 non-null  float64\n",
      " 16  cityсenters_nearest   18180 non-null  float64\n",
      " 17  parks_around3000      23699 non-null  int64  \n",
      " 18  parks_nearest         8079 non-null   float64\n",
      " 19  ponds_around3000      23699 non-null  int64  \n",
      " 20  ponds_nearest         9110 non-null   float64\n",
      " 21  days_exposition       20518 non-null  float64\n",
      "dtypes: bool(3), float64(10), int64(7), object(2)\n",
      "memory usage: 3.5+ MB\n"
     ]
    }
   ],
   "source": [
    "df['is_apartment'] = df['is_apartment'].astype(bool) # присвоим булевый тип столбцу апартаменты, а другим столбцам, каким возможно, целочисленный\n",
    "df['last_price'] = df['last_price'].astype(int) \n",
    "df['balcony'] = df['balcony'].astype(int)\n",
    "df['parks_around3000'] = df['parks_around3000'].astype(int)\n",
    "df['ponds_around3000'] = df['ponds_around3000'].astype(int)\n",
    "df.info()"
   ]
  },
  {
   "cell_type": "code",
   "execution_count": 15,
   "metadata": {},
   "outputs": [
    {
     "name": "stdout",
     "output_type": "stream",
     "text": [
      "<class 'pandas.core.frame.DataFrame'>\n",
      "RangeIndex: 23699 entries, 0 to 23698\n",
      "Data columns (total 22 columns):\n",
      " #   Column                Non-Null Count  Dtype         \n",
      "---  ------                --------------  -----         \n",
      " 0   total_images          23699 non-null  int64         \n",
      " 1   last_price            23699 non-null  int64         \n",
      " 2   total_area            23699 non-null  float64       \n",
      " 3   first_day_exposition  23699 non-null  datetime64[ns]\n",
      " 4   rooms                 23699 non-null  int64         \n",
      " 5   ceiling_height        14504 non-null  float64       \n",
      " 6   floors_total          23699 non-null  float64       \n",
      " 7   living_area           23699 non-null  float64       \n",
      " 8   floor                 23699 non-null  int64         \n",
      " 9   is_apartment          23699 non-null  bool          \n",
      " 10  studio                23699 non-null  bool          \n",
      " 11  open_plan             23699 non-null  bool          \n",
      " 12  kitchen_area          23699 non-null  float64       \n",
      " 13  balcony               23699 non-null  int64         \n",
      " 14  locality_name         23650 non-null  object        \n",
      " 15  airports_nearest      18157 non-null  float64       \n",
      " 16  cityсenters_nearest   18180 non-null  float64       \n",
      " 17  parks_around3000      23699 non-null  int64         \n",
      " 18  parks_nearest         8079 non-null   float64       \n",
      " 19  ponds_around3000      23699 non-null  int64         \n",
      " 20  ponds_nearest         9110 non-null   float64       \n",
      " 21  days_exposition       20518 non-null  float64       \n",
      "dtypes: bool(3), datetime64[ns](1), float64(10), int64(7), object(1)\n",
      "memory usage: 3.5+ MB\n"
     ]
    }
   ],
   "source": [
    "df['first_day_exposition'] = pd.to_datetime(df['first_day_exposition'], format='%Y-%m-%d %H:%M:%S') # исправим тип данных в столбце first_day_exposition \n",
    "df.info()"
   ]
  },
  {
   "cell_type": "markdown",
   "metadata": {},
   "source": [
    "Теперь с типами данных все в порядке: булевые - bool, дата - datetime, строковые - object. Если не исправить типы данных сейчас, то потом они могли бы испортить все исследование, не позволяя проводить операции и манипуляции с данными."
   ]
  },
  {
   "cell_type": "code",
   "execution_count": 16,
   "metadata": {},
   "outputs": [
    {
     "data": {
      "text/plain": [
       "array(['Санкт-Петербург', 'посёлок Шушары', 'городской посёлок Янино-1',\n",
       "       'посёлок Парголово', 'посёлок Мурино', 'Ломоносов', 'Сертолово',\n",
       "       'Петергоф', 'Пушкин', 'деревня Кудрово', 'Коммунар', 'Колпино',\n",
       "       'поселок городского типа Красный Бор', 'Гатчина', 'поселок Мурино',\n",
       "       'деревня Фёдоровское', 'Выборг', 'Кронштадт', 'Кировск',\n",
       "       'деревня Новое Девяткино', 'посёлок Металлострой',\n",
       "       'посёлок городского типа Лебяжье',\n",
       "       'посёлок городского типа Сиверский', 'поселок Молодцово',\n",
       "       'поселок городского типа Кузьмоловский',\n",
       "       'садовое товарищество Новая Ропша', 'Павловск',\n",
       "       'деревня Пикколово', 'Всеволожск', 'Волхов', 'Кингисепп',\n",
       "       'Приозерск', 'Сестрорецк', 'деревня Куттузи', 'посёлок Аннино',\n",
       "       'поселок городского типа Ефимовский', 'посёлок Плодовое',\n",
       "       'деревня Заклинье', 'поселок Торковичи', 'поселок Первомайское',\n",
       "       'Красное Село', 'посёлок Понтонный', 'Сясьстрой', 'деревня Старая',\n",
       "       'деревня Лесколово', 'посёлок Новый Свет', 'Сланцы',\n",
       "       'село Путилово', 'Ивангород', 'Мурино', 'Шлиссельбург',\n",
       "       'Никольское', 'Зеленогорск', 'Сосновый Бор', 'поселок Новый Свет',\n",
       "       'деревня Оржицы', 'деревня Кальтино', 'Кудрово',\n",
       "       'поселок Романовка', 'посёлок Бугры', 'поселок Бугры',\n",
       "       'поселок городского типа Рощино', 'Кириши', 'Луга', 'Волосово',\n",
       "       'Отрадное', 'село Павлово', 'поселок Оредеж', 'село Копорье',\n",
       "       'посёлок городского типа Красный Бор', 'посёлок Молодёжное',\n",
       "       'Тихвин', 'посёлок Победа', 'деревня Нурма',\n",
       "       'поселок городского типа Синявино', 'Тосно',\n",
       "       'посёлок городского типа Кузьмоловский', 'посёлок Стрельна',\n",
       "       'Бокситогорск', 'посёлок Александровская', 'деревня Лопухинка',\n",
       "       'Пикалёво', 'поселок Терволово',\n",
       "       'поселок городского типа Советский', 'Подпорожье',\n",
       "       'посёлок Петровское', 'посёлок городского типа Токсово',\n",
       "       'поселок Сельцо', 'посёлок городского типа Вырица',\n",
       "       'деревня Кипень', 'деревня Келози', 'деревня Вартемяги',\n",
       "       'посёлок Тельмана', 'поселок Севастьяново',\n",
       "       'городской поселок Большая Ижора', nan,\n",
       "       'городской посёлок Павлово', 'деревня Агалатово',\n",
       "       'посёлок Новогорелово', 'городской посёлок Лесогорский',\n",
       "       'деревня Лаголово', 'поселок Цвелодубово',\n",
       "       'поселок городского типа Рахья', 'поселок городского типа Вырица',\n",
       "       'деревня Белогорка', 'поселок Заводской',\n",
       "       'городской посёлок Новоселье', 'деревня Большие Колпаны',\n",
       "       'деревня Горбунки', 'деревня Батово', 'деревня Заневка',\n",
       "       'деревня Иссад', 'Приморск', 'городской посёлок Фёдоровское',\n",
       "       'деревня Мистолово', 'Новая Ладога', 'поселок Зимитицы',\n",
       "       'поселок Барышево', 'деревня Разметелево',\n",
       "       'поселок городского типа имени Свердлова', 'деревня Пеники',\n",
       "       'поселок Рябово', 'деревня Пудомяги', 'поселок станции Корнево',\n",
       "       'деревня Низино', 'деревня Бегуницы', 'посёлок Поляны',\n",
       "       'городской посёлок Мга', 'поселок Елизаветино',\n",
       "       'посёлок городского типа Кузнечное', 'деревня Колтуши',\n",
       "       'поселок Запорожское', 'посёлок городского типа Рощино',\n",
       "       'деревня Гостилицы', 'деревня Малое Карлино',\n",
       "       'посёлок Мичуринское', 'посёлок городского типа имени Морозова',\n",
       "       'посёлок Песочный', 'посёлок Сосново', 'деревня Аро',\n",
       "       'поселок Ильичёво', 'посёлок городского типа Тайцы',\n",
       "       'деревня Малое Верево', 'деревня Извара', 'поселок станции Вещево',\n",
       "       'село Паша', 'деревня Калитино',\n",
       "       'посёлок городского типа Ульяновка', 'деревня Чудской Бор',\n",
       "       'поселок городского типа Дубровка', 'деревня Мины',\n",
       "       'поселок Войсковицы', 'посёлок городского типа имени Свердлова',\n",
       "       'деревня Коркино', 'посёлок Ропша',\n",
       "       'поселок городского типа Приладожский', 'посёлок Щеглово',\n",
       "       'посёлок Гаврилово', 'Лодейное Поле', 'деревня Рабитицы',\n",
       "       'поселок городского типа Никольский', 'деревня Кузьмолово',\n",
       "       'деревня Малые Колпаны', 'поселок Тельмана',\n",
       "       'посёлок Петро-Славянка', 'городской посёлок Назия',\n",
       "       'посёлок Репино', 'посёлок Ильичёво', 'поселок Углово',\n",
       "       'поселок Старая Малукса', 'садовое товарищество Рахья',\n",
       "       'поселок Аннино', 'поселок Победа', 'деревня Меньково',\n",
       "       'деревня Старые Бегуницы', 'посёлок Сапёрный', 'поселок Семрино',\n",
       "       'поселок Гаврилово', 'поселок Глажево', 'поселок Кобринское',\n",
       "       'деревня Гарболово', 'деревня Юкки',\n",
       "       'поселок станции Приветнинское', 'деревня Мануйлово',\n",
       "       'деревня Пчева', 'поселок Поляны', 'поселок Цвылёво',\n",
       "       'поселок Мельниково', 'посёлок Пудость', 'посёлок Усть-Луга',\n",
       "       'Светогорск', 'Любань', 'поселок Селезнёво',\n",
       "       'поселок городского типа Рябово', 'Каменногорск', 'деревня Кривко',\n",
       "       'поселок Глебычево', 'деревня Парицы', 'поселок Жилпосёлок',\n",
       "       'посёлок городского типа Мга', 'городской поселок Янино-1',\n",
       "       'посёлок Войскорово', 'село Никольское', 'посёлок Терволово',\n",
       "       'поселок Стеклянный', 'посёлок городского типа Важины',\n",
       "       'посёлок Мыза-Ивановка', 'село Русско-Высоцкое',\n",
       "       'поселок городского типа Лебяжье',\n",
       "       'поселок городского типа Форносово', 'село Старая Ладога',\n",
       "       'поселок Житково', 'городской посёлок Виллози', 'деревня Лампово',\n",
       "       'деревня Шпаньково', 'деревня Лаврики', 'посёлок Сумино',\n",
       "       'посёлок Возрождение', 'деревня Старосиверская',\n",
       "       'посёлок Кикерино', 'поселок Возрождение',\n",
       "       'деревня Старое Хинколово', 'посёлок Пригородный',\n",
       "       'посёлок Торфяное', 'городской посёлок Будогощь',\n",
       "       'поселок Суходолье', 'поселок Красная Долина', 'деревня Хапо-Ое',\n",
       "       'поселок городского типа Дружная Горка', 'поселок Лисий Нос',\n",
       "       'деревня Яльгелево', 'посёлок Стеклянный', 'село Рождествено',\n",
       "       'деревня Старополье', 'посёлок Левашово', 'деревня Сяськелево',\n",
       "       'деревня Камышовка',\n",
       "       'садоводческое некоммерческое товарищество Лесная Поляна',\n",
       "       'деревня Хязельки', 'поселок Жилгородок',\n",
       "       'посёлок городского типа Павлово', 'деревня Ялгино',\n",
       "       'поселок Новый Учхоз', 'городской посёлок Рощино',\n",
       "       'поселок Гончарово', 'поселок Почап', 'посёлок Сапёрное',\n",
       "       'посёлок Платформа 69-й километр', 'поселок Каложицы',\n",
       "       'деревня Фалилеево', 'деревня Пельгора',\n",
       "       'поселок городского типа Лесогорский', 'деревня Торошковичи',\n",
       "       'посёлок Белоостров', 'посёлок Алексеевка', 'поселок Серебрянский',\n",
       "       'поселок Лукаши', 'поселок Петровское', 'деревня Щеглово',\n",
       "       'поселок Мичуринское', 'деревня Тарасово', 'поселок Кингисеппский',\n",
       "       'посёлок при железнодорожной станции Вещево', 'поселок Ушаки',\n",
       "       'деревня Котлы', 'деревня Сижно', 'деревня Торосово',\n",
       "       'посёлок Форт Красная Горка', 'поселок городского типа Токсово',\n",
       "       'деревня Новолисино', 'посёлок станции Громово', 'деревня Глинка',\n",
       "       'посёлок Мельниково', 'поселок городского типа Назия',\n",
       "       'деревня Старая Пустошь', 'поселок Коммунары', 'поселок Починок',\n",
       "       'посёлок городского типа Вознесенье', 'деревня Разбегаево',\n",
       "       'посёлок городского типа Рябово', 'поселок Гладкое',\n",
       "       'посёлок при железнодорожной станции Приветнинское',\n",
       "       'поселок Тёсово-4', 'посёлок Жилгородок', 'деревня Бор',\n",
       "       'посёлок Коробицыно', 'деревня Большая Вруда', 'деревня Курковицы',\n",
       "       'посёлок Лисий Нос', 'городской посёлок Советский',\n",
       "       'посёлок Кобралово', 'деревня Суоранда', 'поселок Кобралово',\n",
       "       'поселок городского типа Кондратьево',\n",
       "       'коттеджный поселок Счастье', 'поселок Любань', 'деревня Реброво',\n",
       "       'деревня Зимитицы', 'деревня Тойворово', 'поселок Семиозерье',\n",
       "       'поселок Лесное', 'поселок Совхозный', 'поселок Усть-Луга',\n",
       "       'посёлок Ленинское', 'посёлок Суйда',\n",
       "       'посёлок городского типа Форносово', 'деревня Нижние Осельки',\n",
       "       'посёлок станции Свирь', 'поселок Перово', 'Высоцк',\n",
       "       'поселок Гарболово', 'село Шум', 'поселок Котельский',\n",
       "       'поселок станции Лужайка', 'деревня Большая Пустомержа',\n",
       "       'поселок Красносельское', 'деревня Вахнова Кара', 'деревня Пижма',\n",
       "       'коттеджный поселок Кивеннапа Север', 'поселок Коробицыно',\n",
       "       'поселок Ромашки', 'посёлок Перово', 'деревня Каськово',\n",
       "       'деревня Куровицы', 'посёлок Плоское', 'поселок Сумино',\n",
       "       'поселок городского типа Большая Ижора', 'поселок Кирпичное',\n",
       "       'деревня Ям-Тесово', 'деревня Раздолье', 'деревня Терпилицы',\n",
       "       'посёлок Шугозеро', 'деревня Ваганово', 'поселок Пушное',\n",
       "       'садовое товарищество Садко', 'посёлок Усть-Ижора',\n",
       "       'деревня Выскатка', 'городской посёлок Свирьстрой',\n",
       "       'поселок Громово', 'деревня Кисельня', 'посёлок Старая Малукса',\n",
       "       'деревня Трубников Бор', 'поселок Калитино',\n",
       "       'посёлок Высокоключевой', 'садовое товарищество Приладожский',\n",
       "       'посёлок Пансионат Зелёный Бор', 'деревня Ненимяки',\n",
       "       'поселок Пансионат Зелёный Бор', 'деревня Снегирёвка',\n",
       "       'деревня Рапполово', 'деревня Пустынка', 'поселок Рабитицы',\n",
       "       'деревня Большой Сабск', 'деревня Русско', 'деревня Лупполово',\n",
       "       'деревня Большое Рейзино', 'деревня Малая Романовка',\n",
       "       'поселок Дружноселье', 'поселок Пчевжа', 'поселок Володарское',\n",
       "       'деревня Нижняя', 'коттеджный посёлок Лесное', 'деревня Тихковицы',\n",
       "       'деревня Борисова Грива', 'посёлок Дзержинского'], dtype=object)"
      ]
     },
     "execution_count": 16,
     "metadata": {},
     "output_type": "execute_result"
    }
   ],
   "source": [
    "df['locality_name'].unique() # выведем уникальные значения населенных пунктов"
   ]
  },
  {
   "cell_type": "code",
   "execution_count": 17,
   "metadata": {},
   "outputs": [],
   "source": [
    "def rename(row):  # среди населенных пунктов есть неявные дубликаты. Создадим функцию, чтобы это исправить\n",
    "    try:\n",
    "        if 'Рябово' in row:\n",
    "            return 'поселок Рябово'\n",
    "        elif 'Тельмана' in row:\n",
    "            return 'поселок Тельмана'\n",
    "        else:\n",
    "            return row\n",
    "    except:\n",
    "        return row"
   ]
  },
  {
   "cell_type": "code",
   "execution_count": 18,
   "metadata": {},
   "outputs": [],
   "source": [
    "df['locality_name'] = df['locality_name'].apply(rename)"
   ]
  },
  {
   "cell_type": "code",
   "execution_count": 19,
   "metadata": {},
   "outputs": [
    {
     "data": {
      "text/plain": [
       "array(['Санкт-Петербург', 'посёлок Шушары', 'городской посёлок Янино-1',\n",
       "       'посёлок Парголово', 'посёлок Мурино', 'Ломоносов', 'Сертолово',\n",
       "       'Петергоф', 'Пушкин', 'деревня Кудрово', 'Коммунар', 'Колпино',\n",
       "       'поселок городского типа Красный Бор', 'Гатчина', 'поселок Мурино',\n",
       "       'деревня Фёдоровское', 'Выборг', 'Кронштадт', 'Кировск',\n",
       "       'деревня Новое Девяткино', 'посёлок Металлострой',\n",
       "       'посёлок городского типа Лебяжье',\n",
       "       'посёлок городского типа Сиверский', 'поселок Молодцово',\n",
       "       'поселок городского типа Кузьмоловский',\n",
       "       'садовое товарищество Новая Ропша', 'Павловск',\n",
       "       'деревня Пикколово', 'Всеволожск', 'Волхов', 'Кингисепп',\n",
       "       'Приозерск', 'Сестрорецк', 'деревня Куттузи', 'посёлок Аннино',\n",
       "       'поселок городского типа Ефимовский', 'посёлок Плодовое',\n",
       "       'деревня Заклинье', 'поселок Торковичи', 'поселок Первомайское',\n",
       "       'Красное Село', 'посёлок Понтонный', 'Сясьстрой', 'деревня Старая',\n",
       "       'деревня Лесколово', 'посёлок Новый Свет', 'Сланцы',\n",
       "       'село Путилово', 'Ивангород', 'Мурино', 'Шлиссельбург',\n",
       "       'Никольское', 'Зеленогорск', 'Сосновый Бор', 'поселок Новый Свет',\n",
       "       'деревня Оржицы', 'деревня Кальтино', 'Кудрово',\n",
       "       'поселок Романовка', 'посёлок Бугры', 'поселок Бугры',\n",
       "       'поселок городского типа Рощино', 'Кириши', 'Луга', 'Волосово',\n",
       "       'Отрадное', 'село Павлово', 'поселок Оредеж', 'село Копорье',\n",
       "       'посёлок городского типа Красный Бор', 'посёлок Молодёжное',\n",
       "       'Тихвин', 'посёлок Победа', 'деревня Нурма',\n",
       "       'поселок городского типа Синявино', 'Тосно',\n",
       "       'посёлок городского типа Кузьмоловский', 'посёлок Стрельна',\n",
       "       'Бокситогорск', 'посёлок Александровская', 'деревня Лопухинка',\n",
       "       'Пикалёво', 'поселок Терволово',\n",
       "       'поселок городского типа Советский', 'Подпорожье',\n",
       "       'посёлок Петровское', 'посёлок городского типа Токсово',\n",
       "       'поселок Сельцо', 'посёлок городского типа Вырица',\n",
       "       'деревня Кипень', 'деревня Келози', 'деревня Вартемяги',\n",
       "       'поселок Тельмана', 'поселок Севастьяново',\n",
       "       'городской поселок Большая Ижора', nan,\n",
       "       'городской посёлок Павлово', 'деревня Агалатово',\n",
       "       'посёлок Новогорелово', 'городской посёлок Лесогорский',\n",
       "       'деревня Лаголово', 'поселок Цвелодубово',\n",
       "       'поселок городского типа Рахья', 'поселок городского типа Вырица',\n",
       "       'деревня Белогорка', 'поселок Заводской',\n",
       "       'городской посёлок Новоселье', 'деревня Большие Колпаны',\n",
       "       'деревня Горбунки', 'деревня Батово', 'деревня Заневка',\n",
       "       'деревня Иссад', 'Приморск', 'городской посёлок Фёдоровское',\n",
       "       'деревня Мистолово', 'Новая Ладога', 'поселок Зимитицы',\n",
       "       'поселок Барышево', 'деревня Разметелево',\n",
       "       'поселок городского типа имени Свердлова', 'деревня Пеники',\n",
       "       'поселок Рябово', 'деревня Пудомяги', 'поселок станции Корнево',\n",
       "       'деревня Низино', 'деревня Бегуницы', 'посёлок Поляны',\n",
       "       'городской посёлок Мга', 'поселок Елизаветино',\n",
       "       'посёлок городского типа Кузнечное', 'деревня Колтуши',\n",
       "       'поселок Запорожское', 'посёлок городского типа Рощино',\n",
       "       'деревня Гостилицы', 'деревня Малое Карлино',\n",
       "       'посёлок Мичуринское', 'посёлок городского типа имени Морозова',\n",
       "       'посёлок Песочный', 'посёлок Сосново', 'деревня Аро',\n",
       "       'поселок Ильичёво', 'посёлок городского типа Тайцы',\n",
       "       'деревня Малое Верево', 'деревня Извара', 'поселок станции Вещево',\n",
       "       'село Паша', 'деревня Калитино',\n",
       "       'посёлок городского типа Ульяновка', 'деревня Чудской Бор',\n",
       "       'поселок городского типа Дубровка', 'деревня Мины',\n",
       "       'поселок Войсковицы', 'посёлок городского типа имени Свердлова',\n",
       "       'деревня Коркино', 'посёлок Ропша',\n",
       "       'поселок городского типа Приладожский', 'посёлок Щеглово',\n",
       "       'посёлок Гаврилово', 'Лодейное Поле', 'деревня Рабитицы',\n",
       "       'поселок городского типа Никольский', 'деревня Кузьмолово',\n",
       "       'деревня Малые Колпаны', 'посёлок Петро-Славянка',\n",
       "       'городской посёлок Назия', 'посёлок Репино', 'посёлок Ильичёво',\n",
       "       'поселок Углово', 'поселок Старая Малукса',\n",
       "       'садовое товарищество Рахья', 'поселок Аннино', 'поселок Победа',\n",
       "       'деревня Меньково', 'деревня Старые Бегуницы', 'посёлок Сапёрный',\n",
       "       'поселок Семрино', 'поселок Гаврилово', 'поселок Глажево',\n",
       "       'поселок Кобринское', 'деревня Гарболово', 'деревня Юкки',\n",
       "       'поселок станции Приветнинское', 'деревня Мануйлово',\n",
       "       'деревня Пчева', 'поселок Поляны', 'поселок Цвылёво',\n",
       "       'поселок Мельниково', 'посёлок Пудость', 'посёлок Усть-Луга',\n",
       "       'Светогорск', 'Любань', 'поселок Селезнёво', 'Каменногорск',\n",
       "       'деревня Кривко', 'поселок Глебычево', 'деревня Парицы',\n",
       "       'поселок Жилпосёлок', 'посёлок городского типа Мга',\n",
       "       'городской поселок Янино-1', 'посёлок Войскорово',\n",
       "       'село Никольское', 'посёлок Терволово', 'поселок Стеклянный',\n",
       "       'посёлок городского типа Важины', 'посёлок Мыза-Ивановка',\n",
       "       'село Русско-Высоцкое', 'поселок городского типа Лебяжье',\n",
       "       'поселок городского типа Форносово', 'село Старая Ладога',\n",
       "       'поселок Житково', 'городской посёлок Виллози', 'деревня Лампово',\n",
       "       'деревня Шпаньково', 'деревня Лаврики', 'посёлок Сумино',\n",
       "       'посёлок Возрождение', 'деревня Старосиверская',\n",
       "       'посёлок Кикерино', 'поселок Возрождение',\n",
       "       'деревня Старое Хинколово', 'посёлок Пригородный',\n",
       "       'посёлок Торфяное', 'городской посёлок Будогощь',\n",
       "       'поселок Суходолье', 'поселок Красная Долина', 'деревня Хапо-Ое',\n",
       "       'поселок городского типа Дружная Горка', 'поселок Лисий Нос',\n",
       "       'деревня Яльгелево', 'посёлок Стеклянный', 'село Рождествено',\n",
       "       'деревня Старополье', 'посёлок Левашово', 'деревня Сяськелево',\n",
       "       'деревня Камышовка',\n",
       "       'садоводческое некоммерческое товарищество Лесная Поляна',\n",
       "       'деревня Хязельки', 'поселок Жилгородок',\n",
       "       'посёлок городского типа Павлово', 'деревня Ялгино',\n",
       "       'поселок Новый Учхоз', 'городской посёлок Рощино',\n",
       "       'поселок Гончарово', 'поселок Почап', 'посёлок Сапёрное',\n",
       "       'посёлок Платформа 69-й километр', 'поселок Каложицы',\n",
       "       'деревня Фалилеево', 'деревня Пельгора',\n",
       "       'поселок городского типа Лесогорский', 'деревня Торошковичи',\n",
       "       'посёлок Белоостров', 'посёлок Алексеевка', 'поселок Серебрянский',\n",
       "       'поселок Лукаши', 'поселок Петровское', 'деревня Щеглово',\n",
       "       'поселок Мичуринское', 'деревня Тарасово', 'поселок Кингисеппский',\n",
       "       'посёлок при железнодорожной станции Вещево', 'поселок Ушаки',\n",
       "       'деревня Котлы', 'деревня Сижно', 'деревня Торосово',\n",
       "       'посёлок Форт Красная Горка', 'поселок городского типа Токсово',\n",
       "       'деревня Новолисино', 'посёлок станции Громово', 'деревня Глинка',\n",
       "       'посёлок Мельниково', 'поселок городского типа Назия',\n",
       "       'деревня Старая Пустошь', 'поселок Коммунары', 'поселок Починок',\n",
       "       'посёлок городского типа Вознесенье', 'деревня Разбегаево',\n",
       "       'поселок Гладкое',\n",
       "       'посёлок при железнодорожной станции Приветнинское',\n",
       "       'поселок Тёсово-4', 'посёлок Жилгородок', 'деревня Бор',\n",
       "       'посёлок Коробицыно', 'деревня Большая Вруда', 'деревня Курковицы',\n",
       "       'посёлок Лисий Нос', 'городской посёлок Советский',\n",
       "       'посёлок Кобралово', 'деревня Суоранда', 'поселок Кобралово',\n",
       "       'поселок городского типа Кондратьево',\n",
       "       'коттеджный поселок Счастье', 'поселок Любань', 'деревня Реброво',\n",
       "       'деревня Зимитицы', 'деревня Тойворово', 'поселок Семиозерье',\n",
       "       'поселок Лесное', 'поселок Совхозный', 'поселок Усть-Луга',\n",
       "       'посёлок Ленинское', 'посёлок Суйда',\n",
       "       'посёлок городского типа Форносово', 'деревня Нижние Осельки',\n",
       "       'посёлок станции Свирь', 'поселок Перово', 'Высоцк',\n",
       "       'поселок Гарболово', 'село Шум', 'поселок Котельский',\n",
       "       'поселок станции Лужайка', 'деревня Большая Пустомержа',\n",
       "       'поселок Красносельское', 'деревня Вахнова Кара', 'деревня Пижма',\n",
       "       'коттеджный поселок Кивеннапа Север', 'поселок Коробицыно',\n",
       "       'поселок Ромашки', 'посёлок Перово', 'деревня Каськово',\n",
       "       'деревня Куровицы', 'посёлок Плоское', 'поселок Сумино',\n",
       "       'поселок городского типа Большая Ижора', 'поселок Кирпичное',\n",
       "       'деревня Ям-Тесово', 'деревня Раздолье', 'деревня Терпилицы',\n",
       "       'посёлок Шугозеро', 'деревня Ваганово', 'поселок Пушное',\n",
       "       'садовое товарищество Садко', 'посёлок Усть-Ижора',\n",
       "       'деревня Выскатка', 'городской посёлок Свирьстрой',\n",
       "       'поселок Громово', 'деревня Кисельня', 'посёлок Старая Малукса',\n",
       "       'деревня Трубников Бор', 'поселок Калитино',\n",
       "       'посёлок Высокоключевой', 'садовое товарищество Приладожский',\n",
       "       'посёлок Пансионат Зелёный Бор', 'деревня Ненимяки',\n",
       "       'поселок Пансионат Зелёный Бор', 'деревня Снегирёвка',\n",
       "       'деревня Рапполово', 'деревня Пустынка', 'поселок Рабитицы',\n",
       "       'деревня Большой Сабск', 'деревня Русско', 'деревня Лупполово',\n",
       "       'деревня Большое Рейзино', 'деревня Малая Романовка',\n",
       "       'поселок Дружноселье', 'поселок Пчевжа', 'поселок Володарское',\n",
       "       'деревня Нижняя', 'коттеджный посёлок Лесное', 'деревня Тихковицы',\n",
       "       'деревня Борисова Грива', 'посёлок Дзержинского'], dtype=object)"
      ]
     },
     "execution_count": 19,
     "metadata": {},
     "output_type": "execute_result"
    }
   ],
   "source": [
    "df['locality_name'].unique() # проверяем изменения. Видим, что поселка городского типа Рябово нет. Есть только поселок Рябово. Изменения прошли."
   ]
  },
  {
   "cell_type": "markdown",
   "metadata": {},
   "source": [
    "Теперь проведем проверку значений в столбцах на поиск аномалий - значения, которые значительно выбиваются или отличаются от общей массы."
   ]
  },
  {
   "cell_type": "code",
   "execution_count": 20,
   "metadata": {},
   "outputs": [
    {
     "data": {
      "text/plain": [
       "array([  2.7 ,    nan,   3.03,   2.5 ,   2.67,   2.56,   3.05,   2.75,\n",
       "         2.6 ,   2.9 ,   2.8 ,   2.55,   3.  ,   2.65,   3.2 ,   2.61,\n",
       "         3.25,   3.45,   2.77,   2.85,   2.64,   2.57,   4.15,   3.5 ,\n",
       "         3.3 ,   2.71,   4.  ,   2.47,   2.73,   2.84,   3.1 ,   2.34,\n",
       "         3.4 ,   3.06,   2.72,   2.54,   2.51,   2.78,   2.76,  25.  ,\n",
       "         2.58,   3.7 ,   2.52,   5.2 ,   2.87,   2.66,   2.59,   2.  ,\n",
       "         2.45,   3.6 ,   2.92,   3.11,   3.13,   3.8 ,   3.15,   3.55,\n",
       "         3.16,   3.62,   3.12,   2.53,   2.74,   2.96,   2.46,   5.3 ,\n",
       "         5.  ,   2.79,   2.95,   4.06,   2.94,   3.82,   3.54,   3.53,\n",
       "         2.83,   4.7 ,   2.4 ,   3.38,   3.01,   5.6 ,   3.65,   3.9 ,\n",
       "         3.18,   3.35,   2.3 ,   3.57,   2.48,   2.62,   2.82,   3.98,\n",
       "         2.63,   3.83,   3.52,   3.95,   3.75,   2.88,   3.67,   3.87,\n",
       "         3.66,   3.85,   3.86,   4.19,   3.24,   4.8 ,   4.5 ,   4.2 ,\n",
       "         3.36,  32.  ,   3.08,   3.68,   3.07,   3.37,   3.09,   8.  ,\n",
       "         3.26,   3.34,   2.81,   3.44,   2.97,   3.14,   4.37,   2.68,\n",
       "         3.22,   3.27,  27.  ,   4.1 ,   2.93,   3.46,  24.  ,   3.47,\n",
       "         3.33,   3.63,   3.32,  26.  ,   1.2 ,   8.3 ,   2.98,   2.86,\n",
       "         3.17,   4.4 ,   3.28,   3.04,   4.45,   5.5 ,   3.84,   3.23,\n",
       "         3.02,   3.21,   3.43,   3.78,   4.3 ,   3.39,   2.69,   3.31,\n",
       "         4.65,   3.56,   2.2 ,   3.51,   3.93,   3.42,   2.99,   3.49,\n",
       "        14.  ,   4.14,   2.91,   3.88,   1.75,   4.25,   3.29,  20.  ,\n",
       "         2.25,   3.76,   3.69,   6.  ,  22.6 ,   2.89,   3.58,   5.8 ,\n",
       "        27.5 ,   2.49,   4.9 ,   3.48,  10.3 ,   1.  , 100.  ,   3.59])"
      ]
     },
     "execution_count": 20,
     "metadata": {},
     "output_type": "execute_result"
    }
   ],
   "source": [
    "df['ceiling_height'].unique()"
   ]
  },
  {
   "cell_type": "markdown",
   "metadata": {},
   "source": [
    "Обнаружили странные данные в высоте потолков. Вероятно значения 32, 26 это 3,2 и 2,6 соответственно. Приведем данные в порядок."
   ]
  },
  {
   "cell_type": "code",
   "execution_count": 21,
   "metadata": {},
   "outputs": [],
   "source": [
    "df.loc[(df['ceiling_height']>=10), 'ceiling_height'] = df.loc[(df['ceiling_height']>=10), 'ceiling_height']/10 # сократим анамалии на порядок"
   ]
  },
  {
   "cell_type": "code",
   "execution_count": 22,
   "metadata": {},
   "outputs": [
    {
     "data": {
      "text/plain": [
       "array([ 2.7 ,   nan,  3.03,  2.5 ,  2.67,  2.56,  3.05,  2.75,  2.6 ,\n",
       "        2.9 ,  2.8 ,  2.55,  3.  ,  2.65,  3.2 ,  2.61,  3.25,  3.45,\n",
       "        2.77,  2.85,  2.64,  2.57,  4.15,  3.5 ,  3.3 ,  2.71,  4.  ,\n",
       "        2.47,  2.73,  2.84,  3.1 ,  2.34,  3.4 ,  3.06,  2.72,  2.54,\n",
       "        2.51,  2.78,  2.76,  2.58,  3.7 ,  2.52,  5.2 ,  2.87,  2.66,\n",
       "        2.59,  2.  ,  2.45,  3.6 ,  2.92,  3.11,  3.13,  3.8 ,  3.15,\n",
       "        3.55,  3.16,  3.62,  3.12,  2.53,  2.74,  2.96,  2.46,  5.3 ,\n",
       "        5.  ,  2.79,  2.95,  4.06,  2.94,  3.82,  3.54,  3.53,  2.83,\n",
       "        4.7 ,  2.4 ,  3.38,  3.01,  5.6 ,  3.65,  3.9 ,  3.18,  3.35,\n",
       "        2.3 ,  3.57,  2.48,  2.62,  2.82,  3.98,  2.63,  3.83,  3.52,\n",
       "        3.95,  3.75,  2.88,  3.67,  3.87,  3.66,  3.85,  3.86,  4.19,\n",
       "        3.24,  4.8 ,  4.5 ,  4.2 ,  3.36,  3.08,  3.68,  3.07,  3.37,\n",
       "        3.09,  8.  ,  3.26,  3.34,  2.81,  3.44,  2.97,  3.14,  4.37,\n",
       "        2.68,  3.22,  3.27,  4.1 ,  2.93,  3.46,  3.47,  3.33,  3.63,\n",
       "        3.32,  1.2 ,  8.3 ,  2.98,  2.86,  3.17,  4.4 ,  3.28,  3.04,\n",
       "        4.45,  5.5 ,  3.84,  3.23,  3.02,  3.21,  3.43,  3.78,  4.3 ,\n",
       "        3.39,  2.69,  3.31,  4.65,  3.56,  2.2 ,  3.51,  3.93,  3.42,\n",
       "        2.99,  3.49,  1.4 ,  4.14,  2.91,  3.88,  1.75,  4.25,  3.29,\n",
       "        2.25,  3.76,  3.69,  6.  ,  2.26,  2.89,  3.58,  5.8 ,  2.49,\n",
       "        4.9 ,  3.48,  1.03,  1.  , 10.  ,  3.59])"
      ]
     },
     "execution_count": 22,
     "metadata": {},
     "output_type": "execute_result"
    }
   ],
   "source": [
    "df['ceiling_height'].unique() # проверили и столь значительных анамалий уже не видим"
   ]
  },
  {
   "cell_type": "markdown",
   "metadata": {},
   "source": [
    "В данных о высоте потолков много неясного. Как может быть высота потолков - 6, 8, 10 метров? Практически с двух или трех этажный дом. При этом в данных есть и низкие значения - 1 метр или 1,2 метра, что тоже не возможно встретить в реальной жизни. Объяснить логически такие аномалии очень сложно, поэтому от них стоит избавиться."
   ]
  },
  {
   "cell_type": "code",
   "execution_count": 23,
   "metadata": {},
   "outputs": [],
   "source": [
    "df = df[(~(df['ceiling_height'] < 2)) & (~(df['ceiling_height'] > 4))] # оставим только те данные которые соответствуют условию, что высота потолков должна быть от 2 до 4 метров."
   ]
  },
  {
   "cell_type": "code",
   "execution_count": 24,
   "metadata": {},
   "outputs": [
    {
     "data": {
      "text/plain": [
       "array([2.7 ,  nan, 3.03, 2.5 , 2.67, 2.56, 3.05, 2.75, 2.6 , 2.9 , 2.8 ,\n",
       "       2.55, 3.  , 2.65, 3.2 , 2.61, 3.25, 3.45, 2.77, 2.85, 2.64, 2.57,\n",
       "       3.5 , 3.3 , 2.71, 4.  , 2.47, 2.73, 2.84, 3.1 , 2.34, 3.4 , 3.06,\n",
       "       2.72, 2.54, 2.51, 2.78, 2.76, 2.58, 3.7 , 2.52, 2.87, 2.66, 2.59,\n",
       "       2.  , 2.45, 3.6 , 2.92, 3.11, 3.13, 3.8 , 3.15, 3.55, 3.16, 3.62,\n",
       "       3.12, 2.53, 2.74, 2.96, 2.46, 2.79, 2.95, 2.94, 3.82, 3.54, 3.53,\n",
       "       2.83, 2.4 , 3.38, 3.01, 3.65, 3.9 , 3.18, 3.35, 2.3 , 3.57, 2.48,\n",
       "       2.62, 2.82, 3.98, 2.63, 3.83, 3.52, 3.95, 3.75, 2.88, 3.67, 3.87,\n",
       "       3.66, 3.85, 3.86, 3.24, 3.36, 3.08, 3.68, 3.07, 3.37, 3.09, 3.26,\n",
       "       3.34, 2.81, 3.44, 2.97, 3.14, 2.68, 3.22, 3.27, 2.93, 3.46, 3.47,\n",
       "       3.33, 3.63, 3.32, 2.98, 2.86, 3.17, 3.28, 3.04, 3.84, 3.23, 3.02,\n",
       "       3.21, 3.43, 3.78, 3.39, 2.69, 3.31, 3.56, 2.2 , 3.51, 3.93, 3.42,\n",
       "       2.99, 3.49, 2.91, 3.88, 3.29, 2.25, 3.76, 3.69, 2.26, 2.89, 3.58,\n",
       "       2.49, 3.48, 3.59])"
      ]
     },
     "execution_count": 24,
     "metadata": {},
     "output_type": "execute_result"
    }
   ],
   "source": [
    "df['ceiling_height'].unique()"
   ]
  },
  {
   "cell_type": "markdown",
   "metadata": {},
   "source": [
    "Теперь, когда данные по высоте потолков очищены от аномалий, мы можем заменить пустые значения медианными."
   ]
  },
  {
   "cell_type": "code",
   "execution_count": 25,
   "metadata": {},
   "outputs": [
    {
     "name": "stdout",
     "output_type": "stream",
     "text": [
      "<class 'pandas.core.frame.DataFrame'>\n",
      "Int64Index: 23643 entries, 0 to 23698\n",
      "Data columns (total 22 columns):\n",
      " #   Column                Non-Null Count  Dtype         \n",
      "---  ------                --------------  -----         \n",
      " 0   total_images          23643 non-null  int64         \n",
      " 1   last_price            23643 non-null  int64         \n",
      " 2   total_area            23643 non-null  float64       \n",
      " 3   first_day_exposition  23643 non-null  datetime64[ns]\n",
      " 4   rooms                 23643 non-null  int64         \n",
      " 5   ceiling_height        23643 non-null  float64       \n",
      " 6   floors_total          23643 non-null  float64       \n",
      " 7   living_area           23643 non-null  float64       \n",
      " 8   floor                 23643 non-null  int64         \n",
      " 9   is_apartment          23643 non-null  bool          \n",
      " 10  studio                23643 non-null  bool          \n",
      " 11  open_plan             23643 non-null  bool          \n",
      " 12  kitchen_area          23643 non-null  float64       \n",
      " 13  balcony               23643 non-null  int64         \n",
      " 14  locality_name         23594 non-null  object        \n",
      " 15  airports_nearest      18110 non-null  float64       \n",
      " 16  cityсenters_nearest   18130 non-null  float64       \n",
      " 17  parks_around3000      23643 non-null  int64         \n",
      " 18  parks_nearest         8047 non-null   float64       \n",
      " 19  ponds_around3000      23643 non-null  int64         \n",
      " 20  ponds_nearest         9076 non-null   float64       \n",
      " 21  days_exposition       20470 non-null  float64       \n",
      "dtypes: bool(3), datetime64[ns](1), float64(10), int64(7), object(1)\n",
      "memory usage: 3.7+ MB\n"
     ]
    }
   ],
   "source": [
    "df.loc[df['ceiling_height'].isna(), 'ceiling_height'] = df['ceiling_height'].median()\n",
    "df.info()"
   ]
  },
  {
   "cell_type": "code",
   "execution_count": 26,
   "metadata": {},
   "outputs": [
    {
     "data": {
      "text/plain": [
       "5.0     5776\n",
       "9.0     3765\n",
       "16.0    1373\n",
       "12.0    1367\n",
       "4.0     1203\n",
       "10.0    1177\n",
       "25.0    1075\n",
       "6.0      915\n",
       "17.0     834\n",
       "3.0      663\n",
       "7.0      590\n",
       "14.0     554\n",
       "18.0     508\n",
       "24.0     471\n",
       "8.0      397\n",
       "2.0      384\n",
       "15.0     368\n",
       "23.0     353\n",
       "19.0     342\n",
       "22.0     287\n",
       "20.0     273\n",
       "13.0     232\n",
       "11.0     206\n",
       "27.0     164\n",
       "21.0     162\n",
       "26.0     123\n",
       "1.0       28\n",
       "35.0      24\n",
       "28.0      21\n",
       "36.0       3\n",
       "29.0       1\n",
       "60.0       1\n",
       "52.0       1\n",
       "34.0       1\n",
       "33.0       1\n",
       "Name: floors_total, dtype: int64"
      ]
     },
     "execution_count": 26,
     "metadata": {},
     "output_type": "execute_result"
    }
   ],
   "source": [
    "df['floors_total'].value_counts()"
   ]
  },
  {
   "cell_type": "markdown",
   "metadata": {},
   "source": [
    "Изучив информацию о количестве этажей в зданиях, мы также замечаем аномалии - 60, 52, 35 этаж. Удалим аномалии - здания выше 27 этажей."
   ]
  },
  {
   "cell_type": "code",
   "execution_count": 27,
   "metadata": {},
   "outputs": [],
   "source": [
    "df = df[(~(df['floors_total'] > 27))]"
   ]
  },
  {
   "cell_type": "code",
   "execution_count": 30,
   "metadata": {},
   "outputs": [
    {
     "name": "stdout",
     "output_type": "stream",
     "text": [
      "Разброс цен в стоимости жилья от 12190 до 763000000 руб.\n"
     ]
    }
   ],
   "source": [
    "min_price = df['last_price'].min() # рассмотрим диапазон цен недвижимости\n",
    "max_price = df['last_price'].max()\n",
    "print(f'Разброс цен в стоимости жилья от {min_price} до {max_price} руб.')"
   ]
  },
  {
   "cell_type": "markdown",
   "metadata": {},
   "source": [
    "Разброс цен на жилье велик. Не то чтобы квартира не могла стоить почти миллиард, но все-таки эти данные являются анамальными в общем плане. Как и стоимость жилья в 12200 руб. Возможно ошибка закралась на этапе внесения информации о цене недвижимости. Сотрудник добавил лишних нулей или наоборот не добавил. В любом случае от подобных аномалий нужно избавиться. Ограничим диапазон цен в границах от 500000 руб. до 25000000 руб. Это приемлемые цены для покупки квартиры в каком-нибудь поселке или в центре города соответственно."
   ]
  },
  {
   "cell_type": "code",
   "execution_count": 31,
   "metadata": {},
   "outputs": [
    {
     "name": "stdout",
     "output_type": "stream",
     "text": [
      "<class 'pandas.core.frame.DataFrame'>\n",
      "Int64Index: 23127 entries, 0 to 23698\n",
      "Data columns (total 22 columns):\n",
      " #   Column                Non-Null Count  Dtype         \n",
      "---  ------                --------------  -----         \n",
      " 0   total_images          23127 non-null  int64         \n",
      " 1   last_price            23127 non-null  int64         \n",
      " 2   total_area            23127 non-null  float64       \n",
      " 3   first_day_exposition  23127 non-null  datetime64[ns]\n",
      " 4   rooms                 23127 non-null  int64         \n",
      " 5   ceiling_height        23127 non-null  float64       \n",
      " 6   floors_total          23127 non-null  float64       \n",
      " 7   living_area           23127 non-null  float64       \n",
      " 8   floor                 23127 non-null  int64         \n",
      " 9   is_apartment          23127 non-null  bool          \n",
      " 10  studio                23127 non-null  bool          \n",
      " 11  open_plan             23127 non-null  bool          \n",
      " 12  kitchen_area          23127 non-null  float64       \n",
      " 13  balcony               23127 non-null  int64         \n",
      " 14  locality_name         23078 non-null  object        \n",
      " 15  airports_nearest      17625 non-null  float64       \n",
      " 16  cityсenters_nearest   17643 non-null  float64       \n",
      " 17  parks_around3000      23127 non-null  int64         \n",
      " 18  parks_nearest         7721 non-null   float64       \n",
      " 19  ponds_around3000      23127 non-null  int64         \n",
      " 20  ponds_nearest         8704 non-null   float64       \n",
      " 21  days_exposition       20087 non-null  float64       \n",
      "dtypes: bool(3), datetime64[ns](1), float64(10), int64(7), object(1)\n",
      "memory usage: 3.6+ MB\n"
     ]
    }
   ],
   "source": [
    "df = df[(~(df['last_price'] < 500000)) & (~(df['last_price'] > 25000000))]\n",
    "df.info()"
   ]
  },
  {
   "cell_type": "code",
   "execution_count": 32,
   "metadata": {},
   "outputs": [
    {
     "data": {
      "text/plain": [
       "1     8004\n",
       "2     7862\n",
       "3     5640\n",
       "4     1068\n",
       "5      242\n",
       "0      193\n",
       "6       70\n",
       "7       32\n",
       "8        7\n",
       "9        5\n",
       "10       2\n",
       "11       1\n",
       "14       1\n",
       "Name: rooms, dtype: int64"
      ]
     },
     "execution_count": 32,
     "metadata": {},
     "output_type": "execute_result"
    }
   ],
   "source": [
    "df['rooms'].value_counts() # в количестве комнат также есть аномалии. Избавимся от них."
   ]
  },
  {
   "cell_type": "code",
   "execution_count": 33,
   "metadata": {},
   "outputs": [
    {
     "name": "stdout",
     "output_type": "stream",
     "text": [
      "<class 'pandas.core.frame.DataFrame'>\n",
      "Int64Index: 22816 entries, 0 to 23698\n",
      "Data columns (total 22 columns):\n",
      " #   Column                Non-Null Count  Dtype         \n",
      "---  ------                --------------  -----         \n",
      " 0   total_images          22816 non-null  int64         \n",
      " 1   last_price            22816 non-null  int64         \n",
      " 2   total_area            22816 non-null  float64       \n",
      " 3   first_day_exposition  22816 non-null  datetime64[ns]\n",
      " 4   rooms                 22816 non-null  int64         \n",
      " 5   ceiling_height        22816 non-null  float64       \n",
      " 6   floors_total          22816 non-null  float64       \n",
      " 7   living_area           22816 non-null  float64       \n",
      " 8   floor                 22816 non-null  int64         \n",
      " 9   is_apartment          22816 non-null  bool          \n",
      " 10  studio                22816 non-null  bool          \n",
      " 11  open_plan             22816 non-null  bool          \n",
      " 12  kitchen_area          22816 non-null  float64       \n",
      " 13  balcony               22816 non-null  int64         \n",
      " 14  locality_name         22767 non-null  object        \n",
      " 15  airports_nearest      17396 non-null  float64       \n",
      " 16  cityсenters_nearest   17414 non-null  float64       \n",
      " 17  parks_around3000      22816 non-null  int64         \n",
      " 18  parks_nearest         7613 non-null   float64       \n",
      " 19  ponds_around3000      22816 non-null  int64         \n",
      " 20  ponds_nearest         8568 non-null   float64       \n",
      " 21  days_exposition       19829 non-null  float64       \n",
      "dtypes: bool(3), datetime64[ns](1), float64(10), int64(7), object(1)\n",
      "memory usage: 3.5+ MB\n"
     ]
    }
   ],
   "source": [
    "df = df[(~(df['rooms'] < 1)) & (~(df['rooms'] > 5))] # чистим данные от аномалий. Оставляем количество комнат от 1 до 5.\n",
    "df.info()"
   ]
  },
  {
   "cell_type": "code",
   "execution_count": 34,
   "metadata": {},
   "outputs": [
    {
     "name": "stdout",
     "output_type": "stream",
     "text": [
      "Разброс общей площади жилья от 12.0 до 312.0 м2.\n"
     ]
    }
   ],
   "source": [
    "min_area = df['total_area'].min() # рассмотрим диапазон общей площади недвижимости\n",
    "max_area = df['total_area'].max()\n",
    "print(f'Разброс общей площади жилья от {min_area} до {max_area} м2.')"
   ]
  },
  {
   "cell_type": "code",
   "execution_count": 35,
   "metadata": {},
   "outputs": [
    {
     "name": "stdout",
     "output_type": "stream",
     "text": [
      "<class 'pandas.core.frame.DataFrame'>\n",
      "Int64Index: 21720 entries, 0 to 23698\n",
      "Data columns (total 22 columns):\n",
      " #   Column                Non-Null Count  Dtype         \n",
      "---  ------                --------------  -----         \n",
      " 0   total_images          21720 non-null  int64         \n",
      " 1   last_price            21720 non-null  int64         \n",
      " 2   total_area            21720 non-null  float64       \n",
      " 3   first_day_exposition  21720 non-null  datetime64[ns]\n",
      " 4   rooms                 21720 non-null  int64         \n",
      " 5   ceiling_height        21720 non-null  float64       \n",
      " 6   floors_total          21720 non-null  float64       \n",
      " 7   living_area           21720 non-null  float64       \n",
      " 8   floor                 21720 non-null  int64         \n",
      " 9   is_apartment          21720 non-null  bool          \n",
      " 10  studio                21720 non-null  bool          \n",
      " 11  open_plan             21720 non-null  bool          \n",
      " 12  kitchen_area          21720 non-null  float64       \n",
      " 13  balcony               21720 non-null  int64         \n",
      " 14  locality_name         21675 non-null  object        \n",
      " 15  airports_nearest      16515 non-null  float64       \n",
      " 16  cityсenters_nearest   16533 non-null  float64       \n",
      " 17  parks_around3000      21720 non-null  int64         \n",
      " 18  parks_nearest         7142 non-null   float64       \n",
      " 19  ponds_around3000      21720 non-null  int64         \n",
      " 20  ponds_nearest         8056 non-null   float64       \n",
      " 21  days_exposition       18938 non-null  float64       \n",
      "dtypes: bool(3), datetime64[ns](1), float64(10), int64(7), object(1)\n",
      "memory usage: 3.4+ MB\n"
     ]
    }
   ],
   "source": [
    "df = df[(~(df['total_area'] < 30)) & (~(df['total_area'] > 120))] # чистим данные от аномалий. Оставляем давнные по общей площади, которые не менее 30 и не более 120 м2.\n",
    "df.info()"
   ]
  },
  {
   "cell_type": "markdown",
   "metadata": {},
   "source": [
    "**Вывод:**<br>\n",
    "В данных оказалось много аномалий касательно стоимости квартиры, высоты потолков, количества комнат и общей площади. После очистки датасета от аномалий его размер сократился на 8,35%, что не превышает допустимых норм. Датасет теперь пригоден для дальнейшего исследования, хотя и хранит довольно много пропусков в некоторых столбцах. Вероятно данные пропуски в данных связаны с техническими проблемами определения местоположения. Возможно эти же проблемы повлияли на отсутствие данных по расстоянию до ближайшего парка или водоема. "
   ]
  },
  {
   "attachments": {},
   "cell_type": "markdown",
   "metadata": {},
   "source": [
    "### Посчитаем и добавим в таблицу новые столбцы"
   ]
  },
  {
   "cell_type": "markdown",
   "metadata": {},
   "source": [
    "Добавим новый столбец - цена за метр квадратный"
   ]
  },
  {
   "cell_type": "code",
   "execution_count": 36,
   "metadata": {},
   "outputs": [
    {
     "data": {
      "text/html": [
       "<div>\n",
       "<style scoped>\n",
       "    .dataframe tbody tr th:only-of-type {\n",
       "        vertical-align: middle;\n",
       "    }\n",
       "\n",
       "    .dataframe tbody tr th {\n",
       "        vertical-align: top;\n",
       "    }\n",
       "\n",
       "    .dataframe thead th {\n",
       "        text-align: right;\n",
       "    }\n",
       "</style>\n",
       "<table border=\"1\" class=\"dataframe\">\n",
       "  <thead>\n",
       "    <tr style=\"text-align: right;\">\n",
       "      <th></th>\n",
       "      <th>total_images</th>\n",
       "      <th>last_price</th>\n",
       "      <th>total_area</th>\n",
       "      <th>first_day_exposition</th>\n",
       "      <th>rooms</th>\n",
       "      <th>ceiling_height</th>\n",
       "      <th>floors_total</th>\n",
       "      <th>living_area</th>\n",
       "      <th>floor</th>\n",
       "      <th>is_apartment</th>\n",
       "      <th>studio</th>\n",
       "      <th>open_plan</th>\n",
       "      <th>kitchen_area</th>\n",
       "      <th>balcony</th>\n",
       "      <th>locality_name</th>\n",
       "      <th>airports_nearest</th>\n",
       "      <th>cityсenters_nearest</th>\n",
       "      <th>parks_around3000</th>\n",
       "      <th>parks_nearest</th>\n",
       "      <th>ponds_around3000</th>\n",
       "      <th>ponds_nearest</th>\n",
       "      <th>days_exposition</th>\n",
       "      <th>price_by_sqmetr</th>\n",
       "    </tr>\n",
       "  </thead>\n",
       "  <tbody>\n",
       "    <tr>\n",
       "      <th>0</th>\n",
       "      <td>20</td>\n",
       "      <td>13000000</td>\n",
       "      <td>108.0</td>\n",
       "      <td>2019-03-07</td>\n",
       "      <td>3</td>\n",
       "      <td>2.70</td>\n",
       "      <td>16.0</td>\n",
       "      <td>51.0</td>\n",
       "      <td>8</td>\n",
       "      <td>False</td>\n",
       "      <td>False</td>\n",
       "      <td>False</td>\n",
       "      <td>25.0</td>\n",
       "      <td>0</td>\n",
       "      <td>Санкт-Петербург</td>\n",
       "      <td>18863.0</td>\n",
       "      <td>16028.0</td>\n",
       "      <td>1</td>\n",
       "      <td>482.0</td>\n",
       "      <td>2</td>\n",
       "      <td>755.0</td>\n",
       "      <td>NaN</td>\n",
       "      <td>120370.37</td>\n",
       "    </tr>\n",
       "    <tr>\n",
       "      <th>1</th>\n",
       "      <td>7</td>\n",
       "      <td>3350000</td>\n",
       "      <td>40.4</td>\n",
       "      <td>2018-12-04</td>\n",
       "      <td>1</td>\n",
       "      <td>2.65</td>\n",
       "      <td>11.0</td>\n",
       "      <td>18.6</td>\n",
       "      <td>1</td>\n",
       "      <td>True</td>\n",
       "      <td>False</td>\n",
       "      <td>False</td>\n",
       "      <td>11.0</td>\n",
       "      <td>2</td>\n",
       "      <td>посёлок Шушары</td>\n",
       "      <td>12817.0</td>\n",
       "      <td>18603.0</td>\n",
       "      <td>0</td>\n",
       "      <td>NaN</td>\n",
       "      <td>0</td>\n",
       "      <td>NaN</td>\n",
       "      <td>81.0</td>\n",
       "      <td>82920.79</td>\n",
       "    </tr>\n",
       "    <tr>\n",
       "      <th>2</th>\n",
       "      <td>10</td>\n",
       "      <td>5196000</td>\n",
       "      <td>56.0</td>\n",
       "      <td>2015-08-20</td>\n",
       "      <td>2</td>\n",
       "      <td>2.65</td>\n",
       "      <td>5.0</td>\n",
       "      <td>34.3</td>\n",
       "      <td>4</td>\n",
       "      <td>False</td>\n",
       "      <td>False</td>\n",
       "      <td>False</td>\n",
       "      <td>8.3</td>\n",
       "      <td>0</td>\n",
       "      <td>Санкт-Петербург</td>\n",
       "      <td>21741.0</td>\n",
       "      <td>13933.0</td>\n",
       "      <td>1</td>\n",
       "      <td>90.0</td>\n",
       "      <td>2</td>\n",
       "      <td>574.0</td>\n",
       "      <td>558.0</td>\n",
       "      <td>92785.71</td>\n",
       "    </tr>\n",
       "    <tr>\n",
       "      <th>4</th>\n",
       "      <td>2</td>\n",
       "      <td>10000000</td>\n",
       "      <td>100.0</td>\n",
       "      <td>2018-06-19</td>\n",
       "      <td>2</td>\n",
       "      <td>3.03</td>\n",
       "      <td>14.0</td>\n",
       "      <td>32.0</td>\n",
       "      <td>13</td>\n",
       "      <td>False</td>\n",
       "      <td>False</td>\n",
       "      <td>False</td>\n",
       "      <td>41.0</td>\n",
       "      <td>0</td>\n",
       "      <td>Санкт-Петербург</td>\n",
       "      <td>31856.0</td>\n",
       "      <td>8098.0</td>\n",
       "      <td>2</td>\n",
       "      <td>112.0</td>\n",
       "      <td>1</td>\n",
       "      <td>48.0</td>\n",
       "      <td>121.0</td>\n",
       "      <td>100000.00</td>\n",
       "    </tr>\n",
       "    <tr>\n",
       "      <th>5</th>\n",
       "      <td>10</td>\n",
       "      <td>2890000</td>\n",
       "      <td>30.4</td>\n",
       "      <td>2018-09-10</td>\n",
       "      <td>1</td>\n",
       "      <td>2.65</td>\n",
       "      <td>12.0</td>\n",
       "      <td>14.4</td>\n",
       "      <td>5</td>\n",
       "      <td>True</td>\n",
       "      <td>False</td>\n",
       "      <td>False</td>\n",
       "      <td>9.1</td>\n",
       "      <td>0</td>\n",
       "      <td>городской посёлок Янино-1</td>\n",
       "      <td>NaN</td>\n",
       "      <td>NaN</td>\n",
       "      <td>0</td>\n",
       "      <td>NaN</td>\n",
       "      <td>0</td>\n",
       "      <td>NaN</td>\n",
       "      <td>55.0</td>\n",
       "      <td>95065.79</td>\n",
       "    </tr>\n",
       "  </tbody>\n",
       "</table>\n",
       "</div>"
      ],
      "text/plain": [
       "   total_images  last_price  total_area first_day_exposition  rooms  \\\n",
       "0            20    13000000       108.0           2019-03-07      3   \n",
       "1             7     3350000        40.4           2018-12-04      1   \n",
       "2            10     5196000        56.0           2015-08-20      2   \n",
       "4             2    10000000       100.0           2018-06-19      2   \n",
       "5            10     2890000        30.4           2018-09-10      1   \n",
       "\n",
       "   ceiling_height  floors_total  living_area  floor  is_apartment  studio  \\\n",
       "0            2.70          16.0         51.0      8         False   False   \n",
       "1            2.65          11.0         18.6      1          True   False   \n",
       "2            2.65           5.0         34.3      4         False   False   \n",
       "4            3.03          14.0         32.0     13         False   False   \n",
       "5            2.65          12.0         14.4      5          True   False   \n",
       "\n",
       "   open_plan  kitchen_area  balcony              locality_name  \\\n",
       "0      False          25.0        0            Санкт-Петербург   \n",
       "1      False          11.0        2             посёлок Шушары   \n",
       "2      False           8.3        0            Санкт-Петербург   \n",
       "4      False          41.0        0            Санкт-Петербург   \n",
       "5      False           9.1        0  городской посёлок Янино-1   \n",
       "\n",
       "   airports_nearest  cityсenters_nearest  parks_around3000  parks_nearest  \\\n",
       "0           18863.0              16028.0                 1          482.0   \n",
       "1           12817.0              18603.0                 0            NaN   \n",
       "2           21741.0              13933.0                 1           90.0   \n",
       "4           31856.0               8098.0                 2          112.0   \n",
       "5               NaN                  NaN                 0            NaN   \n",
       "\n",
       "   ponds_around3000  ponds_nearest  days_exposition  price_by_sqmetr  \n",
       "0                 2          755.0              NaN        120370.37  \n",
       "1                 0            NaN             81.0         82920.79  \n",
       "2                 2          574.0            558.0         92785.71  \n",
       "4                 1           48.0            121.0        100000.00  \n",
       "5                 0            NaN             55.0         95065.79  "
      ]
     },
     "execution_count": 36,
     "metadata": {},
     "output_type": "execute_result"
    }
   ],
   "source": [
    "df['price_by_sqmetr'] = round(df['last_price']/df['total_area'], 2)\n",
    "df.head()"
   ]
  },
  {
   "cell_type": "markdown",
   "metadata": {},
   "source": [
    "Добавим столбец с номером дня недели."
   ]
  },
  {
   "cell_type": "code",
   "execution_count": 37,
   "metadata": {},
   "outputs": [
    {
     "data": {
      "text/html": [
       "<div>\n",
       "<style scoped>\n",
       "    .dataframe tbody tr th:only-of-type {\n",
       "        vertical-align: middle;\n",
       "    }\n",
       "\n",
       "    .dataframe tbody tr th {\n",
       "        vertical-align: top;\n",
       "    }\n",
       "\n",
       "    .dataframe thead th {\n",
       "        text-align: right;\n",
       "    }\n",
       "</style>\n",
       "<table border=\"1\" class=\"dataframe\">\n",
       "  <thead>\n",
       "    <tr style=\"text-align: right;\">\n",
       "      <th></th>\n",
       "      <th>total_images</th>\n",
       "      <th>last_price</th>\n",
       "      <th>total_area</th>\n",
       "      <th>first_day_exposition</th>\n",
       "      <th>rooms</th>\n",
       "      <th>ceiling_height</th>\n",
       "      <th>floors_total</th>\n",
       "      <th>living_area</th>\n",
       "      <th>floor</th>\n",
       "      <th>is_apartment</th>\n",
       "      <th>studio</th>\n",
       "      <th>open_plan</th>\n",
       "      <th>kitchen_area</th>\n",
       "      <th>balcony</th>\n",
       "      <th>locality_name</th>\n",
       "      <th>airports_nearest</th>\n",
       "      <th>cityсenters_nearest</th>\n",
       "      <th>parks_around3000</th>\n",
       "      <th>parks_nearest</th>\n",
       "      <th>ponds_around3000</th>\n",
       "      <th>ponds_nearest</th>\n",
       "      <th>days_exposition</th>\n",
       "      <th>price_by_sqmetr</th>\n",
       "      <th>day_number</th>\n",
       "    </tr>\n",
       "  </thead>\n",
       "  <tbody>\n",
       "    <tr>\n",
       "      <th>0</th>\n",
       "      <td>20</td>\n",
       "      <td>13000000</td>\n",
       "      <td>108.0</td>\n",
       "      <td>2019-03-07</td>\n",
       "      <td>3</td>\n",
       "      <td>2.70</td>\n",
       "      <td>16.0</td>\n",
       "      <td>51.0</td>\n",
       "      <td>8</td>\n",
       "      <td>False</td>\n",
       "      <td>False</td>\n",
       "      <td>False</td>\n",
       "      <td>25.0</td>\n",
       "      <td>0</td>\n",
       "      <td>Санкт-Петербург</td>\n",
       "      <td>18863.0</td>\n",
       "      <td>16028.0</td>\n",
       "      <td>1</td>\n",
       "      <td>482.0</td>\n",
       "      <td>2</td>\n",
       "      <td>755.0</td>\n",
       "      <td>NaN</td>\n",
       "      <td>120370.37</td>\n",
       "      <td>3</td>\n",
       "    </tr>\n",
       "    <tr>\n",
       "      <th>1</th>\n",
       "      <td>7</td>\n",
       "      <td>3350000</td>\n",
       "      <td>40.4</td>\n",
       "      <td>2018-12-04</td>\n",
       "      <td>1</td>\n",
       "      <td>2.65</td>\n",
       "      <td>11.0</td>\n",
       "      <td>18.6</td>\n",
       "      <td>1</td>\n",
       "      <td>True</td>\n",
       "      <td>False</td>\n",
       "      <td>False</td>\n",
       "      <td>11.0</td>\n",
       "      <td>2</td>\n",
       "      <td>посёлок Шушары</td>\n",
       "      <td>12817.0</td>\n",
       "      <td>18603.0</td>\n",
       "      <td>0</td>\n",
       "      <td>NaN</td>\n",
       "      <td>0</td>\n",
       "      <td>NaN</td>\n",
       "      <td>81.0</td>\n",
       "      <td>82920.79</td>\n",
       "      <td>1</td>\n",
       "    </tr>\n",
       "    <tr>\n",
       "      <th>2</th>\n",
       "      <td>10</td>\n",
       "      <td>5196000</td>\n",
       "      <td>56.0</td>\n",
       "      <td>2015-08-20</td>\n",
       "      <td>2</td>\n",
       "      <td>2.65</td>\n",
       "      <td>5.0</td>\n",
       "      <td>34.3</td>\n",
       "      <td>4</td>\n",
       "      <td>False</td>\n",
       "      <td>False</td>\n",
       "      <td>False</td>\n",
       "      <td>8.3</td>\n",
       "      <td>0</td>\n",
       "      <td>Санкт-Петербург</td>\n",
       "      <td>21741.0</td>\n",
       "      <td>13933.0</td>\n",
       "      <td>1</td>\n",
       "      <td>90.0</td>\n",
       "      <td>2</td>\n",
       "      <td>574.0</td>\n",
       "      <td>558.0</td>\n",
       "      <td>92785.71</td>\n",
       "      <td>3</td>\n",
       "    </tr>\n",
       "    <tr>\n",
       "      <th>4</th>\n",
       "      <td>2</td>\n",
       "      <td>10000000</td>\n",
       "      <td>100.0</td>\n",
       "      <td>2018-06-19</td>\n",
       "      <td>2</td>\n",
       "      <td>3.03</td>\n",
       "      <td>14.0</td>\n",
       "      <td>32.0</td>\n",
       "      <td>13</td>\n",
       "      <td>False</td>\n",
       "      <td>False</td>\n",
       "      <td>False</td>\n",
       "      <td>41.0</td>\n",
       "      <td>0</td>\n",
       "      <td>Санкт-Петербург</td>\n",
       "      <td>31856.0</td>\n",
       "      <td>8098.0</td>\n",
       "      <td>2</td>\n",
       "      <td>112.0</td>\n",
       "      <td>1</td>\n",
       "      <td>48.0</td>\n",
       "      <td>121.0</td>\n",
       "      <td>100000.00</td>\n",
       "      <td>1</td>\n",
       "    </tr>\n",
       "    <tr>\n",
       "      <th>5</th>\n",
       "      <td>10</td>\n",
       "      <td>2890000</td>\n",
       "      <td>30.4</td>\n",
       "      <td>2018-09-10</td>\n",
       "      <td>1</td>\n",
       "      <td>2.65</td>\n",
       "      <td>12.0</td>\n",
       "      <td>14.4</td>\n",
       "      <td>5</td>\n",
       "      <td>True</td>\n",
       "      <td>False</td>\n",
       "      <td>False</td>\n",
       "      <td>9.1</td>\n",
       "      <td>0</td>\n",
       "      <td>городской посёлок Янино-1</td>\n",
       "      <td>NaN</td>\n",
       "      <td>NaN</td>\n",
       "      <td>0</td>\n",
       "      <td>NaN</td>\n",
       "      <td>0</td>\n",
       "      <td>NaN</td>\n",
       "      <td>55.0</td>\n",
       "      <td>95065.79</td>\n",
       "      <td>0</td>\n",
       "    </tr>\n",
       "  </tbody>\n",
       "</table>\n",
       "</div>"
      ],
      "text/plain": [
       "   total_images  last_price  total_area first_day_exposition  rooms  \\\n",
       "0            20    13000000       108.0           2019-03-07      3   \n",
       "1             7     3350000        40.4           2018-12-04      1   \n",
       "2            10     5196000        56.0           2015-08-20      2   \n",
       "4             2    10000000       100.0           2018-06-19      2   \n",
       "5            10     2890000        30.4           2018-09-10      1   \n",
       "\n",
       "   ceiling_height  floors_total  living_area  floor  is_apartment  studio  \\\n",
       "0            2.70          16.0         51.0      8         False   False   \n",
       "1            2.65          11.0         18.6      1          True   False   \n",
       "2            2.65           5.0         34.3      4         False   False   \n",
       "4            3.03          14.0         32.0     13         False   False   \n",
       "5            2.65          12.0         14.4      5          True   False   \n",
       "\n",
       "   open_plan  kitchen_area  balcony              locality_name  \\\n",
       "0      False          25.0        0            Санкт-Петербург   \n",
       "1      False          11.0        2             посёлок Шушары   \n",
       "2      False           8.3        0            Санкт-Петербург   \n",
       "4      False          41.0        0            Санкт-Петербург   \n",
       "5      False           9.1        0  городской посёлок Янино-1   \n",
       "\n",
       "   airports_nearest  cityсenters_nearest  parks_around3000  parks_nearest  \\\n",
       "0           18863.0              16028.0                 1          482.0   \n",
       "1           12817.0              18603.0                 0            NaN   \n",
       "2           21741.0              13933.0                 1           90.0   \n",
       "4           31856.0               8098.0                 2          112.0   \n",
       "5               NaN                  NaN                 0            NaN   \n",
       "\n",
       "   ponds_around3000  ponds_nearest  days_exposition  price_by_sqmetr  \\\n",
       "0                 2          755.0              NaN        120370.37   \n",
       "1                 0            NaN             81.0         82920.79   \n",
       "2                 2          574.0            558.0         92785.71   \n",
       "4                 1           48.0            121.0        100000.00   \n",
       "5                 0            NaN             55.0         95065.79   \n",
       "\n",
       "   day_number  \n",
       "0           3  \n",
       "1           1  \n",
       "2           3  \n",
       "4           1  \n",
       "5           0  "
      ]
     },
     "execution_count": 37,
     "metadata": {},
     "output_type": "execute_result"
    }
   ],
   "source": [
    "df['day_number'] = df['first_day_exposition'].dt.weekday\n",
    "df.head()"
   ]
  },
  {
   "cell_type": "markdown",
   "metadata": {},
   "source": [
    "Добавим столбец с месяцем публикации объявления"
   ]
  },
  {
   "cell_type": "code",
   "execution_count": 38,
   "metadata": {},
   "outputs": [
    {
     "data": {
      "text/html": [
       "<div>\n",
       "<style scoped>\n",
       "    .dataframe tbody tr th:only-of-type {\n",
       "        vertical-align: middle;\n",
       "    }\n",
       "\n",
       "    .dataframe tbody tr th {\n",
       "        vertical-align: top;\n",
       "    }\n",
       "\n",
       "    .dataframe thead th {\n",
       "        text-align: right;\n",
       "    }\n",
       "</style>\n",
       "<table border=\"1\" class=\"dataframe\">\n",
       "  <thead>\n",
       "    <tr style=\"text-align: right;\">\n",
       "      <th></th>\n",
       "      <th>total_images</th>\n",
       "      <th>last_price</th>\n",
       "      <th>total_area</th>\n",
       "      <th>first_day_exposition</th>\n",
       "      <th>rooms</th>\n",
       "      <th>ceiling_height</th>\n",
       "      <th>floors_total</th>\n",
       "      <th>living_area</th>\n",
       "      <th>floor</th>\n",
       "      <th>is_apartment</th>\n",
       "      <th>studio</th>\n",
       "      <th>open_plan</th>\n",
       "      <th>kitchen_area</th>\n",
       "      <th>balcony</th>\n",
       "      <th>locality_name</th>\n",
       "      <th>airports_nearest</th>\n",
       "      <th>cityсenters_nearest</th>\n",
       "      <th>parks_around3000</th>\n",
       "      <th>parks_nearest</th>\n",
       "      <th>ponds_around3000</th>\n",
       "      <th>ponds_nearest</th>\n",
       "      <th>days_exposition</th>\n",
       "      <th>price_by_sqmetr</th>\n",
       "      <th>day_number</th>\n",
       "      <th>month_number</th>\n",
       "    </tr>\n",
       "  </thead>\n",
       "  <tbody>\n",
       "    <tr>\n",
       "      <th>0</th>\n",
       "      <td>20</td>\n",
       "      <td>13000000</td>\n",
       "      <td>108.0</td>\n",
       "      <td>2019-03-07</td>\n",
       "      <td>3</td>\n",
       "      <td>2.70</td>\n",
       "      <td>16.0</td>\n",
       "      <td>51.0</td>\n",
       "      <td>8</td>\n",
       "      <td>False</td>\n",
       "      <td>False</td>\n",
       "      <td>False</td>\n",
       "      <td>25.0</td>\n",
       "      <td>0</td>\n",
       "      <td>Санкт-Петербург</td>\n",
       "      <td>18863.0</td>\n",
       "      <td>16028.0</td>\n",
       "      <td>1</td>\n",
       "      <td>482.0</td>\n",
       "      <td>2</td>\n",
       "      <td>755.0</td>\n",
       "      <td>NaN</td>\n",
       "      <td>120370.37</td>\n",
       "      <td>3</td>\n",
       "      <td>3</td>\n",
       "    </tr>\n",
       "    <tr>\n",
       "      <th>1</th>\n",
       "      <td>7</td>\n",
       "      <td>3350000</td>\n",
       "      <td>40.4</td>\n",
       "      <td>2018-12-04</td>\n",
       "      <td>1</td>\n",
       "      <td>2.65</td>\n",
       "      <td>11.0</td>\n",
       "      <td>18.6</td>\n",
       "      <td>1</td>\n",
       "      <td>True</td>\n",
       "      <td>False</td>\n",
       "      <td>False</td>\n",
       "      <td>11.0</td>\n",
       "      <td>2</td>\n",
       "      <td>посёлок Шушары</td>\n",
       "      <td>12817.0</td>\n",
       "      <td>18603.0</td>\n",
       "      <td>0</td>\n",
       "      <td>NaN</td>\n",
       "      <td>0</td>\n",
       "      <td>NaN</td>\n",
       "      <td>81.0</td>\n",
       "      <td>82920.79</td>\n",
       "      <td>1</td>\n",
       "      <td>12</td>\n",
       "    </tr>\n",
       "    <tr>\n",
       "      <th>2</th>\n",
       "      <td>10</td>\n",
       "      <td>5196000</td>\n",
       "      <td>56.0</td>\n",
       "      <td>2015-08-20</td>\n",
       "      <td>2</td>\n",
       "      <td>2.65</td>\n",
       "      <td>5.0</td>\n",
       "      <td>34.3</td>\n",
       "      <td>4</td>\n",
       "      <td>False</td>\n",
       "      <td>False</td>\n",
       "      <td>False</td>\n",
       "      <td>8.3</td>\n",
       "      <td>0</td>\n",
       "      <td>Санкт-Петербург</td>\n",
       "      <td>21741.0</td>\n",
       "      <td>13933.0</td>\n",
       "      <td>1</td>\n",
       "      <td>90.0</td>\n",
       "      <td>2</td>\n",
       "      <td>574.0</td>\n",
       "      <td>558.0</td>\n",
       "      <td>92785.71</td>\n",
       "      <td>3</td>\n",
       "      <td>8</td>\n",
       "    </tr>\n",
       "    <tr>\n",
       "      <th>4</th>\n",
       "      <td>2</td>\n",
       "      <td>10000000</td>\n",
       "      <td>100.0</td>\n",
       "      <td>2018-06-19</td>\n",
       "      <td>2</td>\n",
       "      <td>3.03</td>\n",
       "      <td>14.0</td>\n",
       "      <td>32.0</td>\n",
       "      <td>13</td>\n",
       "      <td>False</td>\n",
       "      <td>False</td>\n",
       "      <td>False</td>\n",
       "      <td>41.0</td>\n",
       "      <td>0</td>\n",
       "      <td>Санкт-Петербург</td>\n",
       "      <td>31856.0</td>\n",
       "      <td>8098.0</td>\n",
       "      <td>2</td>\n",
       "      <td>112.0</td>\n",
       "      <td>1</td>\n",
       "      <td>48.0</td>\n",
       "      <td>121.0</td>\n",
       "      <td>100000.00</td>\n",
       "      <td>1</td>\n",
       "      <td>6</td>\n",
       "    </tr>\n",
       "    <tr>\n",
       "      <th>5</th>\n",
       "      <td>10</td>\n",
       "      <td>2890000</td>\n",
       "      <td>30.4</td>\n",
       "      <td>2018-09-10</td>\n",
       "      <td>1</td>\n",
       "      <td>2.65</td>\n",
       "      <td>12.0</td>\n",
       "      <td>14.4</td>\n",
       "      <td>5</td>\n",
       "      <td>True</td>\n",
       "      <td>False</td>\n",
       "      <td>False</td>\n",
       "      <td>9.1</td>\n",
       "      <td>0</td>\n",
       "      <td>городской посёлок Янино-1</td>\n",
       "      <td>NaN</td>\n",
       "      <td>NaN</td>\n",
       "      <td>0</td>\n",
       "      <td>NaN</td>\n",
       "      <td>0</td>\n",
       "      <td>NaN</td>\n",
       "      <td>55.0</td>\n",
       "      <td>95065.79</td>\n",
       "      <td>0</td>\n",
       "      <td>9</td>\n",
       "    </tr>\n",
       "  </tbody>\n",
       "</table>\n",
       "</div>"
      ],
      "text/plain": [
       "   total_images  last_price  total_area first_day_exposition  rooms  \\\n",
       "0            20    13000000       108.0           2019-03-07      3   \n",
       "1             7     3350000        40.4           2018-12-04      1   \n",
       "2            10     5196000        56.0           2015-08-20      2   \n",
       "4             2    10000000       100.0           2018-06-19      2   \n",
       "5            10     2890000        30.4           2018-09-10      1   \n",
       "\n",
       "   ceiling_height  floors_total  living_area  floor  is_apartment  studio  \\\n",
       "0            2.70          16.0         51.0      8         False   False   \n",
       "1            2.65          11.0         18.6      1          True   False   \n",
       "2            2.65           5.0         34.3      4         False   False   \n",
       "4            3.03          14.0         32.0     13         False   False   \n",
       "5            2.65          12.0         14.4      5          True   False   \n",
       "\n",
       "   open_plan  kitchen_area  balcony              locality_name  \\\n",
       "0      False          25.0        0            Санкт-Петербург   \n",
       "1      False          11.0        2             посёлок Шушары   \n",
       "2      False           8.3        0            Санкт-Петербург   \n",
       "4      False          41.0        0            Санкт-Петербург   \n",
       "5      False           9.1        0  городской посёлок Янино-1   \n",
       "\n",
       "   airports_nearest  cityсenters_nearest  parks_around3000  parks_nearest  \\\n",
       "0           18863.0              16028.0                 1          482.0   \n",
       "1           12817.0              18603.0                 0            NaN   \n",
       "2           21741.0              13933.0                 1           90.0   \n",
       "4           31856.0               8098.0                 2          112.0   \n",
       "5               NaN                  NaN                 0            NaN   \n",
       "\n",
       "   ponds_around3000  ponds_nearest  days_exposition  price_by_sqmetr  \\\n",
       "0                 2          755.0              NaN        120370.37   \n",
       "1                 0            NaN             81.0         82920.79   \n",
       "2                 2          574.0            558.0         92785.71   \n",
       "4                 1           48.0            121.0        100000.00   \n",
       "5                 0            NaN             55.0         95065.79   \n",
       "\n",
       "   day_number  month_number  \n",
       "0           3             3  \n",
       "1           1            12  \n",
       "2           3             8  \n",
       "4           1             6  \n",
       "5           0             9  "
      ]
     },
     "execution_count": 38,
     "metadata": {},
     "output_type": "execute_result"
    }
   ],
   "source": [
    "df['month_number'] = df['first_day_exposition'].dt.month\n",
    "df.head()"
   ]
  },
  {
   "cell_type": "markdown",
   "metadata": {},
   "source": [
    "Добавим столбец с годом публикации объявления"
   ]
  },
  {
   "cell_type": "code",
   "execution_count": 39,
   "metadata": {},
   "outputs": [
    {
     "data": {
      "text/html": [
       "<div>\n",
       "<style scoped>\n",
       "    .dataframe tbody tr th:only-of-type {\n",
       "        vertical-align: middle;\n",
       "    }\n",
       "\n",
       "    .dataframe tbody tr th {\n",
       "        vertical-align: top;\n",
       "    }\n",
       "\n",
       "    .dataframe thead th {\n",
       "        text-align: right;\n",
       "    }\n",
       "</style>\n",
       "<table border=\"1\" class=\"dataframe\">\n",
       "  <thead>\n",
       "    <tr style=\"text-align: right;\">\n",
       "      <th></th>\n",
       "      <th>total_images</th>\n",
       "      <th>last_price</th>\n",
       "      <th>total_area</th>\n",
       "      <th>first_day_exposition</th>\n",
       "      <th>rooms</th>\n",
       "      <th>ceiling_height</th>\n",
       "      <th>floors_total</th>\n",
       "      <th>living_area</th>\n",
       "      <th>floor</th>\n",
       "      <th>is_apartment</th>\n",
       "      <th>studio</th>\n",
       "      <th>open_plan</th>\n",
       "      <th>kitchen_area</th>\n",
       "      <th>balcony</th>\n",
       "      <th>locality_name</th>\n",
       "      <th>airports_nearest</th>\n",
       "      <th>cityсenters_nearest</th>\n",
       "      <th>parks_around3000</th>\n",
       "      <th>parks_nearest</th>\n",
       "      <th>ponds_around3000</th>\n",
       "      <th>ponds_nearest</th>\n",
       "      <th>days_exposition</th>\n",
       "      <th>price_by_sqmetr</th>\n",
       "      <th>day_number</th>\n",
       "      <th>month_number</th>\n",
       "      <th>year</th>\n",
       "    </tr>\n",
       "  </thead>\n",
       "  <tbody>\n",
       "    <tr>\n",
       "      <th>0</th>\n",
       "      <td>20</td>\n",
       "      <td>13000000</td>\n",
       "      <td>108.0</td>\n",
       "      <td>2019-03-07</td>\n",
       "      <td>3</td>\n",
       "      <td>2.70</td>\n",
       "      <td>16.0</td>\n",
       "      <td>51.0</td>\n",
       "      <td>8</td>\n",
       "      <td>False</td>\n",
       "      <td>False</td>\n",
       "      <td>False</td>\n",
       "      <td>25.0</td>\n",
       "      <td>0</td>\n",
       "      <td>Санкт-Петербург</td>\n",
       "      <td>18863.0</td>\n",
       "      <td>16028.0</td>\n",
       "      <td>1</td>\n",
       "      <td>482.0</td>\n",
       "      <td>2</td>\n",
       "      <td>755.0</td>\n",
       "      <td>NaN</td>\n",
       "      <td>120370.37</td>\n",
       "      <td>3</td>\n",
       "      <td>3</td>\n",
       "      <td>2019</td>\n",
       "    </tr>\n",
       "    <tr>\n",
       "      <th>1</th>\n",
       "      <td>7</td>\n",
       "      <td>3350000</td>\n",
       "      <td>40.4</td>\n",
       "      <td>2018-12-04</td>\n",
       "      <td>1</td>\n",
       "      <td>2.65</td>\n",
       "      <td>11.0</td>\n",
       "      <td>18.6</td>\n",
       "      <td>1</td>\n",
       "      <td>True</td>\n",
       "      <td>False</td>\n",
       "      <td>False</td>\n",
       "      <td>11.0</td>\n",
       "      <td>2</td>\n",
       "      <td>посёлок Шушары</td>\n",
       "      <td>12817.0</td>\n",
       "      <td>18603.0</td>\n",
       "      <td>0</td>\n",
       "      <td>NaN</td>\n",
       "      <td>0</td>\n",
       "      <td>NaN</td>\n",
       "      <td>81.0</td>\n",
       "      <td>82920.79</td>\n",
       "      <td>1</td>\n",
       "      <td>12</td>\n",
       "      <td>2018</td>\n",
       "    </tr>\n",
       "    <tr>\n",
       "      <th>2</th>\n",
       "      <td>10</td>\n",
       "      <td>5196000</td>\n",
       "      <td>56.0</td>\n",
       "      <td>2015-08-20</td>\n",
       "      <td>2</td>\n",
       "      <td>2.65</td>\n",
       "      <td>5.0</td>\n",
       "      <td>34.3</td>\n",
       "      <td>4</td>\n",
       "      <td>False</td>\n",
       "      <td>False</td>\n",
       "      <td>False</td>\n",
       "      <td>8.3</td>\n",
       "      <td>0</td>\n",
       "      <td>Санкт-Петербург</td>\n",
       "      <td>21741.0</td>\n",
       "      <td>13933.0</td>\n",
       "      <td>1</td>\n",
       "      <td>90.0</td>\n",
       "      <td>2</td>\n",
       "      <td>574.0</td>\n",
       "      <td>558.0</td>\n",
       "      <td>92785.71</td>\n",
       "      <td>3</td>\n",
       "      <td>8</td>\n",
       "      <td>2015</td>\n",
       "    </tr>\n",
       "    <tr>\n",
       "      <th>4</th>\n",
       "      <td>2</td>\n",
       "      <td>10000000</td>\n",
       "      <td>100.0</td>\n",
       "      <td>2018-06-19</td>\n",
       "      <td>2</td>\n",
       "      <td>3.03</td>\n",
       "      <td>14.0</td>\n",
       "      <td>32.0</td>\n",
       "      <td>13</td>\n",
       "      <td>False</td>\n",
       "      <td>False</td>\n",
       "      <td>False</td>\n",
       "      <td>41.0</td>\n",
       "      <td>0</td>\n",
       "      <td>Санкт-Петербург</td>\n",
       "      <td>31856.0</td>\n",
       "      <td>8098.0</td>\n",
       "      <td>2</td>\n",
       "      <td>112.0</td>\n",
       "      <td>1</td>\n",
       "      <td>48.0</td>\n",
       "      <td>121.0</td>\n",
       "      <td>100000.00</td>\n",
       "      <td>1</td>\n",
       "      <td>6</td>\n",
       "      <td>2018</td>\n",
       "    </tr>\n",
       "    <tr>\n",
       "      <th>5</th>\n",
       "      <td>10</td>\n",
       "      <td>2890000</td>\n",
       "      <td>30.4</td>\n",
       "      <td>2018-09-10</td>\n",
       "      <td>1</td>\n",
       "      <td>2.65</td>\n",
       "      <td>12.0</td>\n",
       "      <td>14.4</td>\n",
       "      <td>5</td>\n",
       "      <td>True</td>\n",
       "      <td>False</td>\n",
       "      <td>False</td>\n",
       "      <td>9.1</td>\n",
       "      <td>0</td>\n",
       "      <td>городской посёлок Янино-1</td>\n",
       "      <td>NaN</td>\n",
       "      <td>NaN</td>\n",
       "      <td>0</td>\n",
       "      <td>NaN</td>\n",
       "      <td>0</td>\n",
       "      <td>NaN</td>\n",
       "      <td>55.0</td>\n",
       "      <td>95065.79</td>\n",
       "      <td>0</td>\n",
       "      <td>9</td>\n",
       "      <td>2018</td>\n",
       "    </tr>\n",
       "  </tbody>\n",
       "</table>\n",
       "</div>"
      ],
      "text/plain": [
       "   total_images  last_price  total_area first_day_exposition  rooms  \\\n",
       "0            20    13000000       108.0           2019-03-07      3   \n",
       "1             7     3350000        40.4           2018-12-04      1   \n",
       "2            10     5196000        56.0           2015-08-20      2   \n",
       "4             2    10000000       100.0           2018-06-19      2   \n",
       "5            10     2890000        30.4           2018-09-10      1   \n",
       "\n",
       "   ceiling_height  floors_total  living_area  floor  is_apartment  studio  \\\n",
       "0            2.70          16.0         51.0      8         False   False   \n",
       "1            2.65          11.0         18.6      1          True   False   \n",
       "2            2.65           5.0         34.3      4         False   False   \n",
       "4            3.03          14.0         32.0     13         False   False   \n",
       "5            2.65          12.0         14.4      5          True   False   \n",
       "\n",
       "   open_plan  kitchen_area  balcony              locality_name  \\\n",
       "0      False          25.0        0            Санкт-Петербург   \n",
       "1      False          11.0        2             посёлок Шушары   \n",
       "2      False           8.3        0            Санкт-Петербург   \n",
       "4      False          41.0        0            Санкт-Петербург   \n",
       "5      False           9.1        0  городской посёлок Янино-1   \n",
       "\n",
       "   airports_nearest  cityсenters_nearest  parks_around3000  parks_nearest  \\\n",
       "0           18863.0              16028.0                 1          482.0   \n",
       "1           12817.0              18603.0                 0            NaN   \n",
       "2           21741.0              13933.0                 1           90.0   \n",
       "4           31856.0               8098.0                 2          112.0   \n",
       "5               NaN                  NaN                 0            NaN   \n",
       "\n",
       "   ponds_around3000  ponds_nearest  days_exposition  price_by_sqmetr  \\\n",
       "0                 2          755.0              NaN        120370.37   \n",
       "1                 0            NaN             81.0         82920.79   \n",
       "2                 2          574.0            558.0         92785.71   \n",
       "4                 1           48.0            121.0        100000.00   \n",
       "5                 0            NaN             55.0         95065.79   \n",
       "\n",
       "   day_number  month_number  year  \n",
       "0           3             3  2019  \n",
       "1           1            12  2018  \n",
       "2           3             8  2015  \n",
       "4           1             6  2018  \n",
       "5           0             9  2018  "
      ]
     },
     "execution_count": 39,
     "metadata": {},
     "output_type": "execute_result"
    }
   ],
   "source": [
    "df['year'] = df['first_day_exposition'].dt.year\n",
    "df.head()"
   ]
  },
  {
   "cell_type": "markdown",
   "metadata": {},
   "source": [
    "Добавим столбец с типом этажа квартиры"
   ]
  },
  {
   "cell_type": "code",
   "execution_count": 40,
   "metadata": {},
   "outputs": [],
   "source": [
    "df.loc[df['floor'] == 1, 'type_floor'] = 'первый'\n",
    "df.loc[df['floor'] == df['floors_total'], 'type_floor'] = 'последний'"
   ]
  },
  {
   "cell_type": "code",
   "execution_count": 41,
   "metadata": {},
   "outputs": [
    {
     "data": {
      "text/html": [
       "<div>\n",
       "<style scoped>\n",
       "    .dataframe tbody tr th:only-of-type {\n",
       "        vertical-align: middle;\n",
       "    }\n",
       "\n",
       "    .dataframe tbody tr th {\n",
       "        vertical-align: top;\n",
       "    }\n",
       "\n",
       "    .dataframe thead th {\n",
       "        text-align: right;\n",
       "    }\n",
       "</style>\n",
       "<table border=\"1\" class=\"dataframe\">\n",
       "  <thead>\n",
       "    <tr style=\"text-align: right;\">\n",
       "      <th></th>\n",
       "      <th>total_images</th>\n",
       "      <th>last_price</th>\n",
       "      <th>total_area</th>\n",
       "      <th>first_day_exposition</th>\n",
       "      <th>rooms</th>\n",
       "      <th>ceiling_height</th>\n",
       "      <th>floors_total</th>\n",
       "      <th>living_area</th>\n",
       "      <th>floor</th>\n",
       "      <th>is_apartment</th>\n",
       "      <th>studio</th>\n",
       "      <th>open_plan</th>\n",
       "      <th>kitchen_area</th>\n",
       "      <th>balcony</th>\n",
       "      <th>locality_name</th>\n",
       "      <th>airports_nearest</th>\n",
       "      <th>cityсenters_nearest</th>\n",
       "      <th>parks_around3000</th>\n",
       "      <th>parks_nearest</th>\n",
       "      <th>ponds_around3000</th>\n",
       "      <th>ponds_nearest</th>\n",
       "      <th>days_exposition</th>\n",
       "      <th>price_by_sqmetr</th>\n",
       "      <th>day_number</th>\n",
       "      <th>month_number</th>\n",
       "      <th>year</th>\n",
       "      <th>type_floor</th>\n",
       "    </tr>\n",
       "  </thead>\n",
       "  <tbody>\n",
       "    <tr>\n",
       "      <th>0</th>\n",
       "      <td>20</td>\n",
       "      <td>13000000</td>\n",
       "      <td>108.0</td>\n",
       "      <td>2019-03-07</td>\n",
       "      <td>3</td>\n",
       "      <td>2.70</td>\n",
       "      <td>16.0</td>\n",
       "      <td>51.0</td>\n",
       "      <td>8</td>\n",
       "      <td>False</td>\n",
       "      <td>False</td>\n",
       "      <td>False</td>\n",
       "      <td>25.0</td>\n",
       "      <td>0</td>\n",
       "      <td>Санкт-Петербург</td>\n",
       "      <td>18863.0</td>\n",
       "      <td>16028.0</td>\n",
       "      <td>1</td>\n",
       "      <td>482.0</td>\n",
       "      <td>2</td>\n",
       "      <td>755.0</td>\n",
       "      <td>NaN</td>\n",
       "      <td>120370.37</td>\n",
       "      <td>3</td>\n",
       "      <td>3</td>\n",
       "      <td>2019</td>\n",
       "      <td>другой</td>\n",
       "    </tr>\n",
       "    <tr>\n",
       "      <th>1</th>\n",
       "      <td>7</td>\n",
       "      <td>3350000</td>\n",
       "      <td>40.4</td>\n",
       "      <td>2018-12-04</td>\n",
       "      <td>1</td>\n",
       "      <td>2.65</td>\n",
       "      <td>11.0</td>\n",
       "      <td>18.6</td>\n",
       "      <td>1</td>\n",
       "      <td>True</td>\n",
       "      <td>False</td>\n",
       "      <td>False</td>\n",
       "      <td>11.0</td>\n",
       "      <td>2</td>\n",
       "      <td>посёлок Шушары</td>\n",
       "      <td>12817.0</td>\n",
       "      <td>18603.0</td>\n",
       "      <td>0</td>\n",
       "      <td>NaN</td>\n",
       "      <td>0</td>\n",
       "      <td>NaN</td>\n",
       "      <td>81.0</td>\n",
       "      <td>82920.79</td>\n",
       "      <td>1</td>\n",
       "      <td>12</td>\n",
       "      <td>2018</td>\n",
       "      <td>первый</td>\n",
       "    </tr>\n",
       "    <tr>\n",
       "      <th>2</th>\n",
       "      <td>10</td>\n",
       "      <td>5196000</td>\n",
       "      <td>56.0</td>\n",
       "      <td>2015-08-20</td>\n",
       "      <td>2</td>\n",
       "      <td>2.65</td>\n",
       "      <td>5.0</td>\n",
       "      <td>34.3</td>\n",
       "      <td>4</td>\n",
       "      <td>False</td>\n",
       "      <td>False</td>\n",
       "      <td>False</td>\n",
       "      <td>8.3</td>\n",
       "      <td>0</td>\n",
       "      <td>Санкт-Петербург</td>\n",
       "      <td>21741.0</td>\n",
       "      <td>13933.0</td>\n",
       "      <td>1</td>\n",
       "      <td>90.0</td>\n",
       "      <td>2</td>\n",
       "      <td>574.0</td>\n",
       "      <td>558.0</td>\n",
       "      <td>92785.71</td>\n",
       "      <td>3</td>\n",
       "      <td>8</td>\n",
       "      <td>2015</td>\n",
       "      <td>другой</td>\n",
       "    </tr>\n",
       "    <tr>\n",
       "      <th>4</th>\n",
       "      <td>2</td>\n",
       "      <td>10000000</td>\n",
       "      <td>100.0</td>\n",
       "      <td>2018-06-19</td>\n",
       "      <td>2</td>\n",
       "      <td>3.03</td>\n",
       "      <td>14.0</td>\n",
       "      <td>32.0</td>\n",
       "      <td>13</td>\n",
       "      <td>False</td>\n",
       "      <td>False</td>\n",
       "      <td>False</td>\n",
       "      <td>41.0</td>\n",
       "      <td>0</td>\n",
       "      <td>Санкт-Петербург</td>\n",
       "      <td>31856.0</td>\n",
       "      <td>8098.0</td>\n",
       "      <td>2</td>\n",
       "      <td>112.0</td>\n",
       "      <td>1</td>\n",
       "      <td>48.0</td>\n",
       "      <td>121.0</td>\n",
       "      <td>100000.00</td>\n",
       "      <td>1</td>\n",
       "      <td>6</td>\n",
       "      <td>2018</td>\n",
       "      <td>другой</td>\n",
       "    </tr>\n",
       "    <tr>\n",
       "      <th>5</th>\n",
       "      <td>10</td>\n",
       "      <td>2890000</td>\n",
       "      <td>30.4</td>\n",
       "      <td>2018-09-10</td>\n",
       "      <td>1</td>\n",
       "      <td>2.65</td>\n",
       "      <td>12.0</td>\n",
       "      <td>14.4</td>\n",
       "      <td>5</td>\n",
       "      <td>True</td>\n",
       "      <td>False</td>\n",
       "      <td>False</td>\n",
       "      <td>9.1</td>\n",
       "      <td>0</td>\n",
       "      <td>городской посёлок Янино-1</td>\n",
       "      <td>NaN</td>\n",
       "      <td>NaN</td>\n",
       "      <td>0</td>\n",
       "      <td>NaN</td>\n",
       "      <td>0</td>\n",
       "      <td>NaN</td>\n",
       "      <td>55.0</td>\n",
       "      <td>95065.79</td>\n",
       "      <td>0</td>\n",
       "      <td>9</td>\n",
       "      <td>2018</td>\n",
       "      <td>другой</td>\n",
       "    </tr>\n",
       "  </tbody>\n",
       "</table>\n",
       "</div>"
      ],
      "text/plain": [
       "   total_images  last_price  total_area first_day_exposition  rooms  \\\n",
       "0            20    13000000       108.0           2019-03-07      3   \n",
       "1             7     3350000        40.4           2018-12-04      1   \n",
       "2            10     5196000        56.0           2015-08-20      2   \n",
       "4             2    10000000       100.0           2018-06-19      2   \n",
       "5            10     2890000        30.4           2018-09-10      1   \n",
       "\n",
       "   ceiling_height  floors_total  living_area  floor  is_apartment  studio  \\\n",
       "0            2.70          16.0         51.0      8         False   False   \n",
       "1            2.65          11.0         18.6      1          True   False   \n",
       "2            2.65           5.0         34.3      4         False   False   \n",
       "4            3.03          14.0         32.0     13         False   False   \n",
       "5            2.65          12.0         14.4      5          True   False   \n",
       "\n",
       "   open_plan  kitchen_area  balcony              locality_name  \\\n",
       "0      False          25.0        0            Санкт-Петербург   \n",
       "1      False          11.0        2             посёлок Шушары   \n",
       "2      False           8.3        0            Санкт-Петербург   \n",
       "4      False          41.0        0            Санкт-Петербург   \n",
       "5      False           9.1        0  городской посёлок Янино-1   \n",
       "\n",
       "   airports_nearest  cityсenters_nearest  parks_around3000  parks_nearest  \\\n",
       "0           18863.0              16028.0                 1          482.0   \n",
       "1           12817.0              18603.0                 0            NaN   \n",
       "2           21741.0              13933.0                 1           90.0   \n",
       "4           31856.0               8098.0                 2          112.0   \n",
       "5               NaN                  NaN                 0            NaN   \n",
       "\n",
       "   ponds_around3000  ponds_nearest  days_exposition  price_by_sqmetr  \\\n",
       "0                 2          755.0              NaN        120370.37   \n",
       "1                 0            NaN             81.0         82920.79   \n",
       "2                 2          574.0            558.0         92785.71   \n",
       "4                 1           48.0            121.0        100000.00   \n",
       "5                 0            NaN             55.0         95065.79   \n",
       "\n",
       "   day_number  month_number  year type_floor  \n",
       "0           3             3  2019     другой  \n",
       "1           1            12  2018     первый  \n",
       "2           3             8  2015     другой  \n",
       "4           1             6  2018     другой  \n",
       "5           0             9  2018     другой  "
      ]
     },
     "execution_count": 41,
     "metadata": {},
     "output_type": "execute_result"
    }
   ],
   "source": [
    "df['type_floor'] = df['type_floor'].fillna('другой')\n",
    "df.head()"
   ]
  },
  {
   "cell_type": "markdown",
   "metadata": {},
   "source": [
    "Добавим столбец с расстоянием до центра города в километрах"
   ]
  },
  {
   "cell_type": "code",
   "execution_count": 42,
   "metadata": {},
   "outputs": [
    {
     "data": {
      "text/html": [
       "<div>\n",
       "<style scoped>\n",
       "    .dataframe tbody tr th:only-of-type {\n",
       "        vertical-align: middle;\n",
       "    }\n",
       "\n",
       "    .dataframe tbody tr th {\n",
       "        vertical-align: top;\n",
       "    }\n",
       "\n",
       "    .dataframe thead th {\n",
       "        text-align: right;\n",
       "    }\n",
       "</style>\n",
       "<table border=\"1\" class=\"dataframe\">\n",
       "  <thead>\n",
       "    <tr style=\"text-align: right;\">\n",
       "      <th></th>\n",
       "      <th>total_images</th>\n",
       "      <th>last_price</th>\n",
       "      <th>total_area</th>\n",
       "      <th>first_day_exposition</th>\n",
       "      <th>rooms</th>\n",
       "      <th>ceiling_height</th>\n",
       "      <th>floors_total</th>\n",
       "      <th>living_area</th>\n",
       "      <th>floor</th>\n",
       "      <th>is_apartment</th>\n",
       "      <th>studio</th>\n",
       "      <th>open_plan</th>\n",
       "      <th>kitchen_area</th>\n",
       "      <th>balcony</th>\n",
       "      <th>locality_name</th>\n",
       "      <th>airports_nearest</th>\n",
       "      <th>cityсenters_nearest</th>\n",
       "      <th>parks_around3000</th>\n",
       "      <th>parks_nearest</th>\n",
       "      <th>ponds_around3000</th>\n",
       "      <th>ponds_nearest</th>\n",
       "      <th>days_exposition</th>\n",
       "      <th>price_by_sqmetr</th>\n",
       "      <th>day_number</th>\n",
       "      <th>month_number</th>\n",
       "      <th>year</th>\n",
       "      <th>type_floor</th>\n",
       "      <th>to_cityсenter_km</th>\n",
       "    </tr>\n",
       "  </thead>\n",
       "  <tbody>\n",
       "    <tr>\n",
       "      <th>0</th>\n",
       "      <td>20</td>\n",
       "      <td>13000000</td>\n",
       "      <td>108.0</td>\n",
       "      <td>2019-03-07</td>\n",
       "      <td>3</td>\n",
       "      <td>2.70</td>\n",
       "      <td>16.0</td>\n",
       "      <td>51.0</td>\n",
       "      <td>8</td>\n",
       "      <td>False</td>\n",
       "      <td>False</td>\n",
       "      <td>False</td>\n",
       "      <td>25.0</td>\n",
       "      <td>0</td>\n",
       "      <td>Санкт-Петербург</td>\n",
       "      <td>18863.0</td>\n",
       "      <td>16028.0</td>\n",
       "      <td>1</td>\n",
       "      <td>482.0</td>\n",
       "      <td>2</td>\n",
       "      <td>755.0</td>\n",
       "      <td>NaN</td>\n",
       "      <td>120370.37</td>\n",
       "      <td>3</td>\n",
       "      <td>3</td>\n",
       "      <td>2019</td>\n",
       "      <td>другой</td>\n",
       "      <td>16.0</td>\n",
       "    </tr>\n",
       "    <tr>\n",
       "      <th>1</th>\n",
       "      <td>7</td>\n",
       "      <td>3350000</td>\n",
       "      <td>40.4</td>\n",
       "      <td>2018-12-04</td>\n",
       "      <td>1</td>\n",
       "      <td>2.65</td>\n",
       "      <td>11.0</td>\n",
       "      <td>18.6</td>\n",
       "      <td>1</td>\n",
       "      <td>True</td>\n",
       "      <td>False</td>\n",
       "      <td>False</td>\n",
       "      <td>11.0</td>\n",
       "      <td>2</td>\n",
       "      <td>посёлок Шушары</td>\n",
       "      <td>12817.0</td>\n",
       "      <td>18603.0</td>\n",
       "      <td>0</td>\n",
       "      <td>NaN</td>\n",
       "      <td>0</td>\n",
       "      <td>NaN</td>\n",
       "      <td>81.0</td>\n",
       "      <td>82920.79</td>\n",
       "      <td>1</td>\n",
       "      <td>12</td>\n",
       "      <td>2018</td>\n",
       "      <td>первый</td>\n",
       "      <td>19.0</td>\n",
       "    </tr>\n",
       "    <tr>\n",
       "      <th>2</th>\n",
       "      <td>10</td>\n",
       "      <td>5196000</td>\n",
       "      <td>56.0</td>\n",
       "      <td>2015-08-20</td>\n",
       "      <td>2</td>\n",
       "      <td>2.65</td>\n",
       "      <td>5.0</td>\n",
       "      <td>34.3</td>\n",
       "      <td>4</td>\n",
       "      <td>False</td>\n",
       "      <td>False</td>\n",
       "      <td>False</td>\n",
       "      <td>8.3</td>\n",
       "      <td>0</td>\n",
       "      <td>Санкт-Петербург</td>\n",
       "      <td>21741.0</td>\n",
       "      <td>13933.0</td>\n",
       "      <td>1</td>\n",
       "      <td>90.0</td>\n",
       "      <td>2</td>\n",
       "      <td>574.0</td>\n",
       "      <td>558.0</td>\n",
       "      <td>92785.71</td>\n",
       "      <td>3</td>\n",
       "      <td>8</td>\n",
       "      <td>2015</td>\n",
       "      <td>другой</td>\n",
       "      <td>14.0</td>\n",
       "    </tr>\n",
       "    <tr>\n",
       "      <th>4</th>\n",
       "      <td>2</td>\n",
       "      <td>10000000</td>\n",
       "      <td>100.0</td>\n",
       "      <td>2018-06-19</td>\n",
       "      <td>2</td>\n",
       "      <td>3.03</td>\n",
       "      <td>14.0</td>\n",
       "      <td>32.0</td>\n",
       "      <td>13</td>\n",
       "      <td>False</td>\n",
       "      <td>False</td>\n",
       "      <td>False</td>\n",
       "      <td>41.0</td>\n",
       "      <td>0</td>\n",
       "      <td>Санкт-Петербург</td>\n",
       "      <td>31856.0</td>\n",
       "      <td>8098.0</td>\n",
       "      <td>2</td>\n",
       "      <td>112.0</td>\n",
       "      <td>1</td>\n",
       "      <td>48.0</td>\n",
       "      <td>121.0</td>\n",
       "      <td>100000.00</td>\n",
       "      <td>1</td>\n",
       "      <td>6</td>\n",
       "      <td>2018</td>\n",
       "      <td>другой</td>\n",
       "      <td>8.0</td>\n",
       "    </tr>\n",
       "    <tr>\n",
       "      <th>5</th>\n",
       "      <td>10</td>\n",
       "      <td>2890000</td>\n",
       "      <td>30.4</td>\n",
       "      <td>2018-09-10</td>\n",
       "      <td>1</td>\n",
       "      <td>2.65</td>\n",
       "      <td>12.0</td>\n",
       "      <td>14.4</td>\n",
       "      <td>5</td>\n",
       "      <td>True</td>\n",
       "      <td>False</td>\n",
       "      <td>False</td>\n",
       "      <td>9.1</td>\n",
       "      <td>0</td>\n",
       "      <td>городской посёлок Янино-1</td>\n",
       "      <td>NaN</td>\n",
       "      <td>NaN</td>\n",
       "      <td>0</td>\n",
       "      <td>NaN</td>\n",
       "      <td>0</td>\n",
       "      <td>NaN</td>\n",
       "      <td>55.0</td>\n",
       "      <td>95065.79</td>\n",
       "      <td>0</td>\n",
       "      <td>9</td>\n",
       "      <td>2018</td>\n",
       "      <td>другой</td>\n",
       "      <td>NaN</td>\n",
       "    </tr>\n",
       "  </tbody>\n",
       "</table>\n",
       "</div>"
      ],
      "text/plain": [
       "   total_images  last_price  total_area first_day_exposition  rooms  \\\n",
       "0            20    13000000       108.0           2019-03-07      3   \n",
       "1             7     3350000        40.4           2018-12-04      1   \n",
       "2            10     5196000        56.0           2015-08-20      2   \n",
       "4             2    10000000       100.0           2018-06-19      2   \n",
       "5            10     2890000        30.4           2018-09-10      1   \n",
       "\n",
       "   ceiling_height  floors_total  living_area  floor  is_apartment  studio  \\\n",
       "0            2.70          16.0         51.0      8         False   False   \n",
       "1            2.65          11.0         18.6      1          True   False   \n",
       "2            2.65           5.0         34.3      4         False   False   \n",
       "4            3.03          14.0         32.0     13         False   False   \n",
       "5            2.65          12.0         14.4      5          True   False   \n",
       "\n",
       "   open_plan  kitchen_area  balcony              locality_name  \\\n",
       "0      False          25.0        0            Санкт-Петербург   \n",
       "1      False          11.0        2             посёлок Шушары   \n",
       "2      False           8.3        0            Санкт-Петербург   \n",
       "4      False          41.0        0            Санкт-Петербург   \n",
       "5      False           9.1        0  городской посёлок Янино-1   \n",
       "\n",
       "   airports_nearest  cityсenters_nearest  parks_around3000  parks_nearest  \\\n",
       "0           18863.0              16028.0                 1          482.0   \n",
       "1           12817.0              18603.0                 0            NaN   \n",
       "2           21741.0              13933.0                 1           90.0   \n",
       "4           31856.0               8098.0                 2          112.0   \n",
       "5               NaN                  NaN                 0            NaN   \n",
       "\n",
       "   ponds_around3000  ponds_nearest  days_exposition  price_by_sqmetr  \\\n",
       "0                 2          755.0              NaN        120370.37   \n",
       "1                 0            NaN             81.0         82920.79   \n",
       "2                 2          574.0            558.0         92785.71   \n",
       "4                 1           48.0            121.0        100000.00   \n",
       "5                 0            NaN             55.0         95065.79   \n",
       "\n",
       "   day_number  month_number  year type_floor  to_cityсenter_km  \n",
       "0           3             3  2019     другой              16.0  \n",
       "1           1            12  2018     первый              19.0  \n",
       "2           3             8  2015     другой              14.0  \n",
       "4           1             6  2018     другой               8.0  \n",
       "5           0             9  2018     другой               NaN  "
      ]
     },
     "execution_count": 42,
     "metadata": {},
     "output_type": "execute_result"
    }
   ],
   "source": [
    "df['to_cityсenter_km'] =  round(df['cityсenters_nearest']/1000, 0)\n",
    "df.head()"
   ]
  },
  {
   "attachments": {},
   "cell_type": "markdown",
   "metadata": {},
   "source": [
    "### Исследовательский анализ данных"
   ]
  },
  {
   "cell_type": "code",
   "execution_count": 43,
   "metadata": {},
   "outputs": [
    {
     "data": {
      "text/plain": [
       "<AxesSubplot:title={'center':'общая площадь'}, ylabel='Frequency'>"
      ]
     },
     "execution_count": 43,
     "metadata": {},
     "output_type": "execute_result"
    },
    {
     "data": {
      "image/png": "[encoded data removed]",
      "text/plain": [
       "<Figure size 432x288 with 1 Axes>"
      ]
     },
     "metadata": {
      "needs_background": "light"
     },
     "output_type": "display_data"
    }
   ],
   "source": [
    "df['total_area'].plot(kind='hist', title='общая площадь', grid=True)"
   ]
  },
  {
   "cell_type": "markdown",
   "metadata": {},
   "source": [
    "Основная масса квартир, которые есть в датасете, это квартиры общей площадью от 30 до 65 м2. 30 м2 это конечно мало, но для скромных апартаментов в самый раз."
   ]
  },
  {
   "cell_type": "code",
   "execution_count": 44,
   "metadata": {},
   "outputs": [
    {
     "data": {
      "text/plain": [
       "<AxesSubplot:title={'center':'жилая площадь'}, ylabel='Frequency'>"
      ]
     },
     "execution_count": 44,
     "metadata": {},
     "output_type": "execute_result"
    },
    {
     "data": {
      "image/png": "[encoded data removed]",
      "text/plain": [
       "<Figure size 432x288 with 1 Axes>"
      ]
     },
     "metadata": {
      "needs_background": "light"
     },
     "output_type": "display_data"
    }
   ],
   "source": [
    "df['living_area'].plot(kind='hist', title='жилая площадь', grid=True, bins=6)"
   ]
  },
  {
   "cell_type": "markdown",
   "metadata": {},
   "source": [
    "Данные по жилой площади выглядят схоже с данными по общей площади. Схожи их распределения. Большая часть квртир в данных имеет жилую площадь до 45 м2."
   ]
  },
  {
   "cell_type": "code",
   "execution_count": 45,
   "metadata": {},
   "outputs": [
    {
     "data": {
      "text/plain": [
       "<AxesSubplot:title={'center':'площадь кухни'}, ylabel='Frequency'>"
      ]
     },
     "execution_count": 45,
     "metadata": {},
     "output_type": "execute_result"
    },
    {
     "data": {
      "image/png": "[encoded data removed]",
      "text/plain": [
       "<Figure size 432x288 with 1 Axes>"
      ]
     },
     "metadata": {
      "needs_background": "light"
     },
     "output_type": "display_data"
    }
   ],
   "source": [
    "df['kitchen_area'].plot(kind='hist', title='площадь кухни', grid=True, bins=6)"
   ]
  },
  {
   "cell_type": "markdown",
   "metadata": {},
   "source": [
    "Площадь кухни варьируется от 2 до 12 м2 в основной массе данных."
   ]
  },
  {
   "cell_type": "code",
   "execution_count": 46,
   "metadata": {},
   "outputs": [
    {
     "data": {
      "text/plain": [
       "<AxesSubplot:title={'center':'цена продажи'}, ylabel='Frequency'>"
      ]
     },
     "execution_count": 46,
     "metadata": {},
     "output_type": "execute_result"
    },
    {
     "data": {
      "image/png": "[encoded data removed]",
      "text/plain": [
       "<Figure size 432x288 with 1 Axes>"
      ]
     },
     "metadata": {
      "needs_background": "light"
     },
     "output_type": "display_data"
    }
   ],
   "source": [
    "(df['last_price']/1000000).plot(kind='hist', title='цена продажи', grid=True, bins=25)"
   ]
  },
  {
   "cell_type": "markdown",
   "metadata": {},
   "source": [
    "Гистограмма цены продажи подтверждает очевидное - люди больше всего покупают дешового, доступного жилья. Жилья в пределах 5-6 миллионов. После этой суммы количество сделок начинает резко падать."
   ]
  },
  {
   "cell_type": "code",
   "execution_count": 47,
   "metadata": {},
   "outputs": [
    {
     "data": {
      "image/png": "[encoded data removed]",
      "text/plain": [
       "<Figure size 432x288 with 1 Axes>"
      ]
     },
     "metadata": {
      "needs_background": "light"
     },
     "output_type": "display_data"
    }
   ],
   "source": [
    "df['rooms'].plot(kind='hist', title='количество комнат', grid=True, bins=5)\n",
    "plt.xlabel('число комнат')\n",
    "plt.ylabel('количество')\n",
    "plt.show()"
   ]
  },
  {
   "cell_type": "markdown",
   "metadata": {},
   "source": [
    "Большим спросом пользуются квартиры с количеством комнат равным 1-2, на втором месте трешки, а на квартиры 4-5 комнатные спрос заметно ниже. "
   ]
  },
  {
   "cell_type": "code",
   "execution_count": 48,
   "metadata": {},
   "outputs": [
    {
     "data": {
      "image/png": "[encoded data removed]",
      "text/plain": [
       "<Figure size 432x288 with 1 Axes>"
      ]
     },
     "metadata": {
      "needs_background": "light"
     },
     "output_type": "display_data"
    }
   ],
   "source": [
    "df['ceiling_height'].plot(kind='hist', title='высота потолков', grid=True, bins=5)\n",
    "plt.xlabel('высота в метрах')\n",
    "plt.ylabel('количество')\n",
    "plt.show()"
   ]
  },
  {
   "cell_type": "markdown",
   "metadata": {},
   "source": [
    "В данных в основном представлены квартиры с высотой потолков в диапазоне 2,30 - 2,8 м. "
   ]
  },
  {
   "cell_type": "code",
   "execution_count": 49,
   "metadata": {},
   "outputs": [
    {
     "data": {
      "image/png": "[encoded data removed]",
      "text/plain": [
       "<Figure size 432x288 with 1 Axes>"
      ]
     },
     "metadata": {
      "needs_background": "light"
     },
     "output_type": "display_data"
    }
   ],
   "source": [
    "df['floor'].plot(kind='hist', title='этаж квартиры', grid=True, bins=5)\n",
    "plt.xlabel('этаж')\n",
    "plt.ylabel('количество')\n",
    "plt.show()"
   ]
  },
  {
   "cell_type": "markdown",
   "metadata": {},
   "source": [
    "Как видно из гистограммы основу данных составляют квартиры с первого по шестой этаж."
   ]
  },
  {
   "cell_type": "code",
   "execution_count": 50,
   "metadata": {},
   "outputs": [
    {
     "data": {
      "image/png": "[encoded data removed]",
      "text/plain": [
       "<Figure size 432x288 with 1 Axes>"
      ]
     },
     "metadata": {
      "needs_background": "light"
     },
     "output_type": "display_data"
    }
   ],
   "source": [
    "df['type_floor'].value_counts().plot(kind='bar')\n",
    "plt.xlabel('типы этажей')\n",
    "plt.ylabel('количество')\n",
    "plt.show()"
   ]
  },
  {
   "cell_type": "markdown",
   "metadata": {},
   "source": [
    "Больше всего в данных квартир между первым и последним этажом. Меньше всего на первом. Возможно у людей квартиры на первых этажах пользуются меньшим спросом."
   ]
  },
  {
   "cell_type": "code",
   "execution_count": 51,
   "metadata": {},
   "outputs": [
    {
     "data": {
      "image/png": "[encoded data removed]",
      "text/plain": [
       "<Figure size 432x288 with 1 Axes>"
      ]
     },
     "metadata": {
      "needs_background": "light"
     },
     "output_type": "display_data"
    }
   ],
   "source": [
    "df['floors_total'].plot(kind='hist', title='общее количество этажей в доме', grid=True, bins=26)\n",
    "plt.xlabel('этаж')\n",
    "plt.ylabel('количество')\n",
    "plt.show()"
   ]
  },
  {
   "cell_type": "markdown",
   "metadata": {},
   "source": [
    "Согласно гистограмме в данных больше всего информации о продаже квартир в пяти- и девятиэтажках."
   ]
  },
  {
   "cell_type": "code",
   "execution_count": 52,
   "metadata": {},
   "outputs": [
    {
     "data": {
      "image/png": "[encoded data removed]",
      "text/plain": [
       "<Figure size 432x288 with 1 Axes>"
      ]
     },
     "metadata": {
      "needs_background": "light"
     },
     "output_type": "display_data"
    }
   ],
   "source": [
    "df['cityсenters_nearest'].plot(kind='hist', title='расстояние до центра города в метрах', grid=True)\n",
    "plt.xlabel('метры')\n",
    "plt.ylabel('количество')\n",
    "plt.show()"
   ]
  },
  {
   "cell_type": "markdown",
   "metadata": {},
   "source": [
    "Основной костяк данных составляют квартиры расположенные в пределах 20км от центра города."
   ]
  },
  {
   "cell_type": "code",
   "execution_count": 53,
   "metadata": {},
   "outputs": [
    {
     "data": {
      "image/png": "[encoded data removed]",
      "text/plain": [
       "<Figure size 432x288 with 1 Axes>"
      ]
     },
     "metadata": {
      "needs_background": "light"
     },
     "output_type": "display_data"
    }
   ],
   "source": [
    "df['airports_nearest'].plot(kind='hist', title='расстояние до ближайшего аэропорта', grid=True, bins=10)\n",
    "plt.xlabel('метры')\n",
    "plt.ylabel('количество')\n",
    "plt.show()"
   ]
  },
  {
   "cell_type": "markdown",
   "metadata": {},
   "source": [
    "Согласно гистограмме больше всего квартир расположено в пределах 20 км до ближайшего аэропорта."
   ]
  },
  {
   "cell_type": "code",
   "execution_count": 54,
   "metadata": {},
   "outputs": [
    {
     "data": {
      "image/png": "[encoded data removed]",
      "text/plain": [
       "<Figure size 432x288 with 1 Axes>"
      ]
     },
     "metadata": {
      "needs_background": "light"
     },
     "output_type": "display_data"
    }
   ],
   "source": [
    "df['parks_nearest'].plot(kind='hist', title='расстояние до ближайшего парка', grid=True)\n",
    "plt.xlabel('метры')\n",
    "plt.ylabel('количество')\n",
    "plt.show()"
   ]
  },
  {
   "cell_type": "markdown",
   "metadata": {},
   "source": [
    "Согласно имеющимся данным большинство квартир расположено в пределах одного километра до ближайшего парка."
   ]
  },
  {
   "cell_type": "code",
   "execution_count": 55,
   "metadata": {},
   "outputs": [
    {
     "data": {
      "image/png": "[encoded data removed]",
      "text/plain": [
       "<Figure size 432x288 with 1 Axes>"
      ]
     },
     "metadata": {
      "needs_background": "light"
     },
     "output_type": "display_data"
    }
   ],
   "source": [
    "df['day_number'].plot(kind='hist', title='день публикации объявления', grid=True, bins=7)\n",
    "plt.xlabel('день недели')\n",
    "plt.ylabel('количество')\n",
    "plt.show()"
   ]
  },
  {
   "cell_type": "markdown",
   "metadata": {},
   "source": [
    "Объявления о продаже квартир как правило публикуются в будние дни. В выходные количество публикаций резко сокращается."
   ]
  },
  {
   "cell_type": "code",
   "execution_count": 56,
   "metadata": {},
   "outputs": [
    {
     "data": {
      "image/png": "[encoded data removed]",
      "text/plain": [
       "<Figure size 432x288 with 1 Axes>"
      ]
     },
     "metadata": {
      "needs_background": "light"
     },
     "output_type": "display_data"
    }
   ],
   "source": [
    "df['month_number'].plot(kind='hist', title='месяц публикации объявления', grid=True, bins=12)\n",
    "plt.xlabel('номера месяцeв')\n",
    "plt.ylabel('количество')\n",
    "plt.show()"
   ]
  },
  {
   "cell_type": "markdown",
   "metadata": {},
   "source": [
    "Согласно данных в летние месяцы публикуется меньше объявлений, чем весной или осенью. Основной пик публикаций приходится на весну."
   ]
  },
  {
   "cell_type": "code",
   "execution_count": 57,
   "metadata": {},
   "outputs": [
    {
     "name": "stdout",
     "output_type": "stream",
     "text": [
      "Среднее число дней размещения объявления равно 177.0\n",
      "Медианное среднее число дней размещения объявления равно 94.0\n"
     ]
    }
   ],
   "source": [
    "days_exposition_mean = round(df['days_exposition'].mean(), 0) # найдем среднее время и медианное время размещения объявления\n",
    "days_exposition_median = df['days_exposition'].median()\n",
    "print(f'Среднее число дней размещения объявления равно {days_exposition_mean}')\n",
    "print(f'Медианное среднее число дней размещения объявления равно {days_exposition_median}')"
   ]
  },
  {
   "cell_type": "code",
   "execution_count": 58,
   "metadata": {},
   "outputs": [
    {
     "data": {
      "image/png": "[encoded data removed]",
      "text/plain": [
       "<Figure size 432x288 with 1 Axes>"
      ]
     },
     "metadata": {
      "needs_background": "light"
     },
     "output_type": "display_data"
    }
   ],
   "source": [
    "df['days_exposition'].plot(kind='hist', title='число дней публикации объявления', grid=True, bins=50)\n",
    "plt.xlabel('дни')\n",
    "plt.ylabel('количество')\n",
    "plt.show()"
   ]
  },
  {
   "cell_type": "markdown",
   "metadata": {},
   "source": [
    "В среднем продажа квартиры занимает 177 дней и это хорошо видно на гистограмме. Но медианное среднее составляет 94 дня. Это означает, что половина всех квартир была продана практически за 3 месяца (с небольшим). Так, вероятнее всего, стоит считать, что квартиры проданные за 3 месяца это квартиры проданные быстро. Все что более 3-х месяцев - наоборот долго."
   ]
  },
  {
   "cell_type": "code",
   "execution_count": 59,
   "metadata": {},
   "outputs": [
    {
     "data": {
      "image/png": "[encoded data removed]",
      "text/plain": [
       "<Figure size 1008x288 with 1 Axes>"
      ]
     },
     "metadata": {
      "needs_background": "light"
     },
     "output_type": "display_data"
    }
   ],
   "source": [
    "df.sort_values('total_area').plot(x='total_area', y='last_price', grid=True, figsize=(14, 4), kind='scatter')\n",
    "plt.xlabel('общая площадь')\n",
    "plt.ylabel('цена')\n",
    "plt.show()"
   ]
  },
  {
   "cell_type": "code",
   "execution_count": 60,
   "metadata": {},
   "outputs": [
    {
     "name": "stdout",
     "output_type": "stream",
     "text": [
      "Корреляция между ценой и общей площадью равна: 0.72\n"
     ]
    }
   ],
   "source": [
    "print('Корреляция между ценой и общей площадью равна:', round(df['last_price'].corr(df['total_area']), 2))"
   ]
  },
  {
   "cell_type": "markdown",
   "metadata": {},
   "source": [
    "Взаимосвязь итоговой стоимости с общей площадью очевидна: чем больше площадь, тем выше цена на жилье. График это подтверждает."
   ]
  },
  {
   "cell_type": "code",
   "execution_count": 61,
   "metadata": {},
   "outputs": [
    {
     "data": {
      "image/png": "[encoded data removed]",
      "text/plain": [
       "<Figure size 1008x288 with 1 Axes>"
      ]
     },
     "metadata": {
      "needs_background": "light"
     },
     "output_type": "display_data"
    }
   ],
   "source": [
    "df.sort_values('living_area').plot(x='living_area', y='last_price', grid=True, figsize=(14, 4), kind='scatter')\n",
    "plt.xlabel('жилая площадь')\n",
    "plt.ylabel('цена')\n",
    "plt.show()"
   ]
  },
  {
   "cell_type": "code",
   "execution_count": 62,
   "metadata": {},
   "outputs": [
    {
     "name": "stdout",
     "output_type": "stream",
     "text": [
      "Корреляция между ценой и жилой площадью равна: 0.49\n"
     ]
    }
   ],
   "source": [
    "print('Корреляция между ценой и жилой площадью равна:', round(df['last_price'].corr(df['living_area']), 2))"
   ]
  },
  {
   "cell_type": "code",
   "execution_count": 63,
   "metadata": {},
   "outputs": [
    {
     "data": {
      "image/png": "[encoded data removed]",
      "text/plain": [
       "<Figure size 1008x288 with 1 Axes>"
      ]
     },
     "metadata": {
      "needs_background": "light"
     },
     "output_type": "display_data"
    }
   ],
   "source": [
    "df.sort_values('kitchen_area').plot(x='kitchen_area', y='last_price', grid=True, figsize=(14, 4), kind='scatter')\n",
    "plt.xlabel('площадь кухни')\n",
    "plt.ylabel('цена')\n",
    "plt.show()"
   ]
  },
  {
   "cell_type": "code",
   "execution_count": 64,
   "metadata": {},
   "outputs": [
    {
     "name": "stdout",
     "output_type": "stream",
     "text": [
      "Корреляция между ценой и площадью кухни равна: 0.3\n"
     ]
    }
   ],
   "source": [
    "print('Корреляция между ценой и площадью кухни равна:', round(df['last_price'].corr(df['kitchen_area']), 2))"
   ]
  },
  {
   "cell_type": "markdown",
   "metadata": {},
   "source": [
    "Взаимосвязь жилой площади, площади кухни и итоговой стоимости квартиры также очевидна: чем больше площадь, чем комфортнее и просторней квартира, тем она дороже. На графиках хорошо виден восходящий тренд."
   ]
  },
  {
   "cell_type": "code",
   "execution_count": 65,
   "metadata": {},
   "outputs": [
    {
     "data": {
      "image/png": "[encoded data removed]",
      "text/plain": [
       "<Figure size 1008x288 with 1 Axes>"
      ]
     },
     "metadata": {
      "needs_background": "light"
     },
     "output_type": "display_data"
    }
   ],
   "source": [
    "df.groupby('rooms')['last_price'].agg('mean').plot(x='rooms', y='last_price', grid=True, figsize=(14, 4))\n",
    "plt.xlabel('количество комнат')\n",
    "plt.ylabel('средняя цена продажи')\n",
    "plt.show()"
   ]
  },
  {
   "cell_type": "code",
   "execution_count": 66,
   "metadata": {},
   "outputs": [
    {
     "name": "stdout",
     "output_type": "stream",
     "text": [
      "Корреляция между ценой и количеством комнат равна: 0.41\n"
     ]
    }
   ],
   "source": [
    "print('Корреляция между ценой и количеством комнат равна:', round(df['last_price'].corr(df['rooms']), 2))"
   ]
  },
  {
   "cell_type": "markdown",
   "metadata": {},
   "source": [
    "Зависимость между числом комнат и стоимостью квартиры также есть: чем больше комнат, тем дороже жилье."
   ]
  },
  {
   "cell_type": "code",
   "execution_count": 67,
   "metadata": {},
   "outputs": [
    {
     "data": {
      "image/png": "[encoded data removed]",
      "text/plain": [
       "<Figure size 1008x288 with 1 Axes>"
      ]
     },
     "metadata": {
      "needs_background": "light"
     },
     "output_type": "display_data"
    }
   ],
   "source": [
    "df.groupby('type_floor')['last_price'].agg('mean').plot(kind='bar', grid=True, figsize=(14, 4))\n",
    "plt.xlabel('тип этажа')\n",
    "plt.ylabel('средняя цена продажи')\n",
    "plt.show()"
   ]
  },
  {
   "cell_type": "markdown",
   "metadata": {},
   "source": [
    "Средняя цена продажи больше всего на квартиры между первым и последним этажом (категория \"другой\"). На втором месте квартиры на последнем этаже."
   ]
  },
  {
   "cell_type": "code",
   "execution_count": 68,
   "metadata": {},
   "outputs": [
    {
     "data": {
      "image/png": "[encoded data removed]",
      "text/plain": [
       "<Figure size 1008x288 with 1 Axes>"
      ]
     },
     "metadata": {
      "needs_background": "light"
     },
     "output_type": "display_data"
    }
   ],
   "source": [
    "df.groupby('month_number')['last_price'].agg('mean').plot(kind='bar', grid=True, figsize=(14, 4))\n",
    "plt.xlabel('месяц')\n",
    "plt.ylabel('средняя цена продажи')\n",
    "plt.show()"
   ]
  },
  {
   "cell_type": "markdown",
   "metadata": {},
   "source": [
    "Рассматривая изменения средней цены по месяцам, можно заметить сезонность. Цена на квартиры меняется в течение года. Больше всего она в апреле и сентябре, а меньше всего летом - в июне-июле. Все же месяц важный, но не определяющий, параметр для продажи недвижимости, т.к. спрос на жилье имеет свойство меняться от сезона к сезону."
   ]
  },
  {
   "cell_type": "code",
   "execution_count": 69,
   "metadata": {},
   "outputs": [
    {
     "data": {
      "image/png": "[encoded data removed]",
      "text/plain": [
       "<Figure size 1008x288 with 1 Axes>"
      ]
     },
     "metadata": {
      "needs_background": "light"
     },
     "output_type": "display_data"
    }
   ],
   "source": [
    "df.groupby('year')['last_price'].agg('mean').plot(kind='bar', grid=True, figsize=(14, 4))\n",
    "plt.xlabel('год')\n",
    "plt.ylabel('средняя цена продажи')\n",
    "plt.show()"
   ]
  },
  {
   "cell_type": "markdown",
   "metadata": {},
   "source": [
    "Изменения средней цены продажи квартиры по годам видны невооруженным взглядом. Средняя цена достигла наивесшего значения в 2014 году. После чего начался спад. Наименьшего значения, согласно данным, средняя цена достигла 2018 году."
   ]
  },
  {
   "cell_type": "code",
   "execution_count": 70,
   "metadata": {},
   "outputs": [
    {
     "data": {
      "image/png": "[encoded data removed]",
      "text/plain": [
       "<Figure size 1008x288 with 1 Axes>"
      ]
     },
     "metadata": {
      "needs_background": "light"
     },
     "output_type": "display_data"
    }
   ],
   "source": [
    "df.groupby('day_number')['last_price'].agg('mean').plot(kind='bar', grid=True, figsize=(14, 4))\n",
    "plt.xlabel('день недели')\n",
    "plt.ylabel('средняя цена продажи')\n",
    "plt.show()"
   ]
  },
  {
   "cell_type": "markdown",
   "metadata": {},
   "source": [
    "Но а день недели никак не влияет на среднюю цену продажи недвижимости. Это можно видеть на графике. Значения практически идентичны."
   ]
  },
  {
   "cell_type": "markdown",
   "metadata": {},
   "source": [
    "**Вывод:**<br>\n",
    "Подводя итог можно сказать, что стоимость жилья сильно зависит от общей площади помещения, жилой площади, количества комнат, типа этажа, месяца, года и практически никак не зависит от дня недели."
   ]
  },
  {
   "cell_type": "code",
   "execution_count": 71,
   "metadata": {},
   "outputs": [
    {
     "data": {
      "text/plain": [
       "locality_name\n",
       "Санкт-Петербург      14176\n",
       "посёлок Мурино         451\n",
       "посёлок Шушары         423\n",
       "Всеволожск             383\n",
       "Пушкин                 341\n",
       "Колпино                330\n",
       "посёлок Парголово      312\n",
       "Гатчина                301\n",
       "деревня Кудрово        266\n",
       "Выборг                 220\n",
       "dtype: int64"
      ]
     },
     "execution_count": 71,
     "metadata": {},
     "output_type": "execute_result"
    }
   ],
   "source": [
    "top_10_city = df.value_counts('locality_name').head(10) # определили самые популярные населенные пункты, где были объявления о продаже.\n",
    "top_10_city"
   ]
  },
  {
   "cell_type": "code",
   "execution_count": 72,
   "metadata": {},
   "outputs": [
    {
     "data": {
      "text/plain": [
       "locality_name\n",
       "Санкт-Петербург      103258.78\n",
       "Пушкин                99542.33\n",
       "посёлок Парголово     91472.56\n",
       "деревня Кудрово       91095.95\n",
       "посёлок Мурино        83018.87\n",
       "посёлок Шушары        75949.37\n",
       "Колпино               74562.81\n",
       "Гатчина               67796.61\n",
       "Всеволожск            65789.47\n",
       "Выборг                58001.42\n",
       "Name: price_by_sqmetr, dtype: float64"
      ]
     },
     "execution_count": 72,
     "metadata": {},
     "output_type": "execute_result"
    }
   ],
   "source": [
    "top_10_city_list = ['Санкт-Петербург', 'Пушкин', 'посёлок Мурино', 'Гатчина', 'посёлок Шушары', 'Колпино', 'Выборг', 'Всеволожск', 'посёлок Парголово', 'деревня Кудрово']\n",
    "good_df = df.query('locality_name in @top_10_city_list') # создадим нужную выборку, из которой потом найдем средние значения\n",
    "df_stat = good_df.groupby('locality_name')['price_by_sqmetr'].agg('median')\n",
    "df_stat = round(df_stat, 2).sort_values(ascending=False)\n",
    "df_stat"
   ]
  },
  {
   "cell_type": "code",
   "execution_count": 73,
   "metadata": {},
   "outputs": [
    {
     "data": {
      "image/png": "[encoded data removed]",
      "text/plain": [
       "<Figure size 432x288 with 1 Axes>"
      ]
     },
     "metadata": {
      "needs_background": "light"
     },
     "output_type": "display_data"
    }
   ],
   "source": [
    "df_stat.plot(kind='barh')\n",
    "plt.xlabel('цена за м2')\n",
    "plt.ylabel(None)\n",
    "plt.show()"
   ]
  },
  {
   "cell_type": "markdown",
   "metadata": {},
   "source": [
    "Из 10 самых распространенных населенных пунктов, где продавалось жилье, самая дорогая стоимость за квадратный метр в Санкт-Петербурге. Стоимость составляет - 103258.78 руб. за 1 м2. Самая низкая цена за 1 м2 в Выборге. Она составляет 58001.42 руб."
   ]
  },
  {
   "cell_type": "code",
   "execution_count": 79,
   "metadata": {},
   "outputs": [
    {
     "data": {
      "text/html": [
       "<div>\n",
       "<style scoped>\n",
       "    .dataframe tbody tr th:only-of-type {\n",
       "        vertical-align: middle;\n",
       "    }\n",
       "\n",
       "    .dataframe tbody tr th {\n",
       "        vertical-align: top;\n",
       "    }\n",
       "\n",
       "    .dataframe thead th {\n",
       "        text-align: right;\n",
       "    }\n",
       "</style>\n",
       "<table border=\"1\" class=\"dataframe\">\n",
       "  <thead>\n",
       "    <tr style=\"text-align: right;\">\n",
       "      <th></th>\n",
       "      <th>кол-во объявлений</th>\n",
       "      <th>медианная цена за 1кв. м</th>\n",
       "    </tr>\n",
       "    <tr>\n",
       "      <th>locality_name</th>\n",
       "      <th></th>\n",
       "      <th></th>\n",
       "    </tr>\n",
       "  </thead>\n",
       "  <tbody>\n",
       "    <tr>\n",
       "      <th>Санкт-Петербург</th>\n",
       "      <td>14176</td>\n",
       "      <td>103258.785</td>\n",
       "    </tr>\n",
       "    <tr>\n",
       "      <th>посёлок Мурино</th>\n",
       "      <td>451</td>\n",
       "      <td>83018.870</td>\n",
       "    </tr>\n",
       "    <tr>\n",
       "      <th>посёлок Шушары</th>\n",
       "      <td>423</td>\n",
       "      <td>75949.370</td>\n",
       "    </tr>\n",
       "    <tr>\n",
       "      <th>Всеволожск</th>\n",
       "      <td>383</td>\n",
       "      <td>65789.470</td>\n",
       "    </tr>\n",
       "    <tr>\n",
       "      <th>Пушкин</th>\n",
       "      <td>341</td>\n",
       "      <td>99542.330</td>\n",
       "    </tr>\n",
       "    <tr>\n",
       "      <th>Колпино</th>\n",
       "      <td>330</td>\n",
       "      <td>74562.810</td>\n",
       "    </tr>\n",
       "    <tr>\n",
       "      <th>посёлок Парголово</th>\n",
       "      <td>312</td>\n",
       "      <td>91472.565</td>\n",
       "    </tr>\n",
       "    <tr>\n",
       "      <th>Гатчина</th>\n",
       "      <td>301</td>\n",
       "      <td>67796.610</td>\n",
       "    </tr>\n",
       "    <tr>\n",
       "      <th>деревня Кудрово</th>\n",
       "      <td>266</td>\n",
       "      <td>91095.950</td>\n",
       "    </tr>\n",
       "    <tr>\n",
       "      <th>Выборг</th>\n",
       "      <td>220</td>\n",
       "      <td>58001.425</td>\n",
       "    </tr>\n",
       "  </tbody>\n",
       "</table>\n",
       "</div>"
      ],
      "text/plain": [
       "                   кол-во объявлений  медианная цена за 1кв. м\n",
       "locality_name                                                 \n",
       "Санкт-Петербург                14176                103258.785\n",
       "посёлок Мурино                   451                 83018.870\n",
       "посёлок Шушары                   423                 75949.370\n",
       "Всеволожск                       383                 65789.470\n",
       "Пушкин                           341                 99542.330\n",
       "Колпино                          330                 74562.810\n",
       "посёлок Парголово                312                 91472.565\n",
       "Гатчина                          301                 67796.610\n",
       "деревня Кудрово                  266                 91095.950\n",
       "Выборг                           220                 58001.425"
      ]
     },
     "execution_count": 79,
     "metadata": {},
     "output_type": "execute_result"
    }
   ],
   "source": [
    "df_pivot_locality_name = df.pivot_table(index='locality_name', values='price_by_sqmetr', aggfunc=['count', 'median'])\n",
    "df_pivot_locality_name.columns = ['кол-во объявлений', 'медианная цена за 1кв. м']\n",
    "df_pivot_locality_name.sort_values('кол-во объявлений', ascending=False).head(10)"
   ]
  },
  {
   "cell_type": "code",
   "execution_count": 74,
   "metadata": {},
   "outputs": [
    {
     "data": {
      "text/html": [
       "<div>\n",
       "<style scoped>\n",
       "    .dataframe tbody tr th:only-of-type {\n",
       "        vertical-align: middle;\n",
       "    }\n",
       "\n",
       "    .dataframe tbody tr th {\n",
       "        vertical-align: top;\n",
       "    }\n",
       "\n",
       "    .dataframe thead th {\n",
       "        text-align: right;\n",
       "    }\n",
       "</style>\n",
       "<table border=\"1\" class=\"dataframe\">\n",
       "  <thead>\n",
       "    <tr style=\"text-align: right;\">\n",
       "      <th></th>\n",
       "      <th>price_by_sqmetr</th>\n",
       "    </tr>\n",
       "    <tr>\n",
       "      <th>to_cityсenter_km</th>\n",
       "      <th></th>\n",
       "    </tr>\n",
       "  </thead>\n",
       "  <tbody>\n",
       "    <tr>\n",
       "      <th>0.0</th>\n",
       "      <td>116698.0</td>\n",
       "    </tr>\n",
       "    <tr>\n",
       "      <th>1.0</th>\n",
       "      <td>133462.0</td>\n",
       "    </tr>\n",
       "    <tr>\n",
       "      <th>2.0</th>\n",
       "      <td>132087.0</td>\n",
       "    </tr>\n",
       "    <tr>\n",
       "      <th>3.0</th>\n",
       "      <td>117089.0</td>\n",
       "    </tr>\n",
       "    <tr>\n",
       "      <th>4.0</th>\n",
       "      <td>125912.0</td>\n",
       "    </tr>\n",
       "    <tr>\n",
       "      <th>5.0</th>\n",
       "      <td>131098.0</td>\n",
       "    </tr>\n",
       "    <tr>\n",
       "      <th>6.0</th>\n",
       "      <td>129417.0</td>\n",
       "    </tr>\n",
       "    <tr>\n",
       "      <th>7.0</th>\n",
       "      <td>127220.0</td>\n",
       "    </tr>\n",
       "    <tr>\n",
       "      <th>8.0</th>\n",
       "      <td>121964.0</td>\n",
       "    </tr>\n",
       "    <tr>\n",
       "      <th>9.0</th>\n",
       "      <td>111148.0</td>\n",
       "    </tr>\n",
       "    <tr>\n",
       "      <th>10.0</th>\n",
       "      <td>111921.0</td>\n",
       "    </tr>\n",
       "    <tr>\n",
       "      <th>11.0</th>\n",
       "      <td>107607.0</td>\n",
       "    </tr>\n",
       "    <tr>\n",
       "      <th>12.0</th>\n",
       "      <td>106902.0</td>\n",
       "    </tr>\n",
       "    <tr>\n",
       "      <th>13.0</th>\n",
       "      <td>107542.0</td>\n",
       "    </tr>\n",
       "    <tr>\n",
       "      <th>14.0</th>\n",
       "      <td>103624.0</td>\n",
       "    </tr>\n",
       "    <tr>\n",
       "      <th>15.0</th>\n",
       "      <td>103661.0</td>\n",
       "    </tr>\n",
       "    <tr>\n",
       "      <th>16.0</th>\n",
       "      <td>99909.0</td>\n",
       "    </tr>\n",
       "    <tr>\n",
       "      <th>17.0</th>\n",
       "      <td>95665.0</td>\n",
       "    </tr>\n",
       "    <tr>\n",
       "      <th>18.0</th>\n",
       "      <td>95929.0</td>\n",
       "    </tr>\n",
       "    <tr>\n",
       "      <th>19.0</th>\n",
       "      <td>98623.0</td>\n",
       "    </tr>\n",
       "    <tr>\n",
       "      <th>20.0</th>\n",
       "      <td>87215.0</td>\n",
       "    </tr>\n",
       "    <tr>\n",
       "      <th>21.0</th>\n",
       "      <td>94534.0</td>\n",
       "    </tr>\n",
       "    <tr>\n",
       "      <th>22.0</th>\n",
       "      <td>90375.0</td>\n",
       "    </tr>\n",
       "    <tr>\n",
       "      <th>23.0</th>\n",
       "      <td>92032.0</td>\n",
       "    </tr>\n",
       "    <tr>\n",
       "      <th>24.0</th>\n",
       "      <td>84962.0</td>\n",
       "    </tr>\n",
       "    <tr>\n",
       "      <th>25.0</th>\n",
       "      <td>89829.0</td>\n",
       "    </tr>\n",
       "    <tr>\n",
       "      <th>26.0</th>\n",
       "      <td>88739.0</td>\n",
       "    </tr>\n",
       "    <tr>\n",
       "      <th>27.0</th>\n",
       "      <td>132116.0</td>\n",
       "    </tr>\n",
       "    <tr>\n",
       "      <th>28.0</th>\n",
       "      <td>81162.0</td>\n",
       "    </tr>\n",
       "    <tr>\n",
       "      <th>29.0</th>\n",
       "      <td>72953.0</td>\n",
       "    </tr>\n",
       "  </tbody>\n",
       "</table>\n",
       "</div>"
      ],
      "text/plain": [
       "                  price_by_sqmetr\n",
       "to_cityсenter_km                 \n",
       "0.0                      116698.0\n",
       "1.0                      133462.0\n",
       "2.0                      132087.0\n",
       "3.0                      117089.0\n",
       "4.0                      125912.0\n",
       "5.0                      131098.0\n",
       "6.0                      129417.0\n",
       "7.0                      127220.0\n",
       "8.0                      121964.0\n",
       "9.0                      111148.0\n",
       "10.0                     111921.0\n",
       "11.0                     107607.0\n",
       "12.0                     106902.0\n",
       "13.0                     107542.0\n",
       "14.0                     103624.0\n",
       "15.0                     103661.0\n",
       "16.0                      99909.0\n",
       "17.0                      95665.0\n",
       "18.0                      95929.0\n",
       "19.0                      98623.0\n",
       "20.0                      87215.0\n",
       "21.0                      94534.0\n",
       "22.0                      90375.0\n",
       "23.0                      92032.0\n",
       "24.0                      84962.0\n",
       "25.0                      89829.0\n",
       "26.0                      88739.0\n",
       "27.0                     132116.0\n",
       "28.0                      81162.0\n",
       "29.0                      72953.0"
      ]
     },
     "execution_count": 74,
     "metadata": {},
     "output_type": "execute_result"
    }
   ],
   "source": [
    "data = df.query('locality_name == \"Санкт-Петербург\"') # найдем среднюю стоимость за км по Санкт-Петербургу.\n",
    "price_per_km = data.pivot_table(index='to_cityсenter_km', values='price_by_sqmetr', aggfunc=('mean'))\n",
    "price_per_km = round(price_per_km, 0)\n",
    "price_per_km"
   ]
  },
  {
   "cell_type": "code",
   "execution_count": 75,
   "metadata": {},
   "outputs": [
    {
     "data": {
      "image/png": "[encoded data removed]",
      "text/plain": [
       "<Figure size 1008x288 with 1 Axes>"
      ]
     },
     "metadata": {
      "needs_background": "light"
     },
     "output_type": "display_data"
    }
   ],
   "source": [
    "price_per_km.plot(kind='bar', grid=True, figsize=(14, 4))\n",
    "plt.xlim(0.5, 10.5)\n",
    "plt.xlabel('число км от центра города')\n",
    "plt.ylabel('цена за м2')\n",
    "plt.show()"
   ]
  },
  {
   "cell_type": "markdown",
   "metadata": {},
   "source": [
    "Как видно из представленной таблицы и графика утверждение о том, что с отдаленностью от центра падает цена за квадратный метр жилья, является абсолютно верным. Стоимость квадратного метра по Санкт-Петербургу снизилась с 133462 до 111921 руб."
   ]
  },
  {
   "cell_type": "markdown",
   "metadata": {},
   "source": [
    "### Общий вывод"
   ]
  },
  {
   "cell_type": "markdown",
   "metadata": {},
   "source": [
    "В заключение исследования мы можем сделать следующие выводы:\n",
    "\n",
    "1. _В данных оказалось много аномалий касательно стоимости квартиры, высоты потолков, количества комнат и общей площади. После очистки датасета от аномалий его размер сократился на 8,35%, что не превышает допустимых норм. Датасет теперь пригоден для дальнейшего исследования, хотя и хранит довольно много пропусков в некоторых столбцах. Вероятно данные пропуски в данных связаны с техническими проблемами определения местоположения. Возможно эти же проблемы повлияли на отсутствие данных по расстоянию до ближайшего парка или водоема._\n",
    "<br>\n",
    "\n",
    "2. _В среднем продажа квартиры занимает 177 дней и это хорошо видно на гистограмме. Но медианное среднее составляет 94 дня. Это означает, что половина всех квартир была продана практически за 3 месяца (с небольшим). Так, вероятнее всего, стоит считать, что квартиры проданные за 3 месяца это квартиры проданные быстро. Все что более 3-х месяцев - наоборот долго._\n",
    "<br>\n",
    "3. _Можно сказать, что стоимость жилья сильно зависит от общей площади помещения, жилой площади, количества комнат, типа этажа, месяца, года и практически никак не зависит от дня недели._\n",
    "<br>\n",
    "4. _Из 10 самых распространенных населенных пунктов, где продавалось жилье, самая дорогая стоимость за квадратный метр в Санкт-Петербурге. Стоимость составляет - 103258.78 руб. за 1 м2. Самая низкая цена за 1 м2 в Выборге. Она составляет 58001.42 руб._\n",
    "\n",
    "__В качестве общего вывода отметим, что на стоимость квартиры влияют множество факторов, которые нужно учитывать при заключении сделки. Основные из них: общая площадь помещения, жилая площадь, количество комнат, этаж, место (населенный пункт, локация), удаленность от центра.__"
   ]
  }
 ],
 "metadata": {
  "ExecuteTimeLog": [
   {
    "duration": 703,
    "start_time": "2022-10-30T05:14:37.182Z"
   },
   {
    "duration": 65,
    "start_time": "2022-10-30T05:15:01.652Z"
   },
   {
    "duration": 89,
    "start_time": "2022-10-30T05:15:19.042Z"
   },
   {
    "duration": 43,
    "start_time": "2022-10-30T05:17:09.611Z"
   },
   {
    "duration": 50,
    "start_time": "2022-10-30T05:17:53.711Z"
   },
   {
    "duration": 88,
    "start_time": "2022-10-30T05:18:34.272Z"
   },
   {
    "duration": 48,
    "start_time": "2022-10-30T05:18:58.430Z"
   },
   {
    "duration": 83,
    "start_time": "2022-10-30T05:19:12.921Z"
   },
   {
    "duration": 108,
    "start_time": "2022-10-30T05:19:32.591Z"
   },
   {
    "duration": 115,
    "start_time": "2022-10-30T05:22:00.320Z"
   },
   {
    "duration": 17,
    "start_time": "2022-10-30T05:22:36.550Z"
   },
   {
    "duration": 8,
    "start_time": "2022-10-30T05:48:13.593Z"
   },
   {
    "duration": 2253,
    "start_time": "2022-10-30T05:50:28.972Z"
   },
   {
    "duration": 8,
    "start_time": "2022-10-30T05:54:45.141Z"
   },
   {
    "duration": 6,
    "start_time": "2022-10-30T06:03:29.789Z"
   },
   {
    "duration": 7,
    "start_time": "2022-10-30T06:04:04.628Z"
   },
   {
    "duration": 8,
    "start_time": "2022-10-30T06:05:11.228Z"
   },
   {
    "duration": 84,
    "start_time": "2022-10-30T06:10:06.026Z"
   },
   {
    "duration": 23,
    "start_time": "2022-10-30T06:10:17.147Z"
   },
   {
    "duration": 17,
    "start_time": "2022-10-30T06:11:12.296Z"
   },
   {
    "duration": 118,
    "start_time": "2022-10-30T06:11:44.947Z"
   },
   {
    "duration": 18,
    "start_time": "2022-10-30T06:11:45.067Z"
   },
   {
    "duration": 1975,
    "start_time": "2022-10-30T06:11:45.087Z"
   },
   {
    "duration": 15,
    "start_time": "2022-10-30T06:11:47.064Z"
   },
   {
    "duration": 10,
    "start_time": "2022-10-30T06:11:47.081Z"
   },
   {
    "duration": 15,
    "start_time": "2022-10-30T06:11:47.093Z"
   },
   {
    "duration": 10,
    "start_time": "2022-10-30T06:30:40.341Z"
   },
   {
    "duration": 9,
    "start_time": "2022-10-30T06:32:43.280Z"
   },
   {
    "duration": 33,
    "start_time": "2022-10-30T06:41:51.078Z"
   },
   {
    "duration": 35,
    "start_time": "2022-10-30T06:42:52.828Z"
   },
   {
    "duration": 44,
    "start_time": "2022-10-30T06:47:05.517Z"
   },
   {
    "duration": 12,
    "start_time": "2022-10-30T06:51:14.575Z"
   },
   {
    "duration": 48,
    "start_time": "2022-10-30T07:03:19.831Z"
   },
   {
    "duration": 16,
    "start_time": "2022-10-30T07:03:54.121Z"
   },
   {
    "duration": 15,
    "start_time": "2022-10-30T07:06:25.621Z"
   },
   {
    "duration": 34,
    "start_time": "2022-10-30T07:37:56.481Z"
   },
   {
    "duration": 21,
    "start_time": "2022-10-30T07:39:24.901Z"
   },
   {
    "duration": 23,
    "start_time": "2022-10-30T07:39:41.630Z"
   },
   {
    "duration": 21,
    "start_time": "2022-10-30T07:40:42.880Z"
   },
   {
    "duration": 6,
    "start_time": "2022-10-30T07:50:28.278Z"
   },
   {
    "duration": 18,
    "start_time": "2022-10-30T07:53:54.637Z"
   },
   {
    "duration": 6,
    "start_time": "2022-10-30T07:54:24.926Z"
   },
   {
    "duration": 3,
    "start_time": "2022-10-30T08:09:59.322Z"
   },
   {
    "duration": 11,
    "start_time": "2022-10-30T08:10:07.832Z"
   },
   {
    "duration": 6,
    "start_time": "2022-10-30T08:10:51.161Z"
   },
   {
    "duration": 4,
    "start_time": "2022-10-30T08:12:15.411Z"
   },
   {
    "duration": 20,
    "start_time": "2022-10-30T08:12:15.417Z"
   },
   {
    "duration": 6,
    "start_time": "2022-10-30T08:12:15.439Z"
   },
   {
    "duration": 4,
    "start_time": "2022-10-30T08:12:25.361Z"
   },
   {
    "duration": 17,
    "start_time": "2022-10-30T08:12:26.881Z"
   },
   {
    "duration": 4,
    "start_time": "2022-10-30T08:12:27.982Z"
   },
   {
    "duration": 106,
    "start_time": "2022-10-30T08:13:39.761Z"
   },
   {
    "duration": 13,
    "start_time": "2022-10-30T08:13:39.869Z"
   },
   {
    "duration": 1955,
    "start_time": "2022-10-30T08:13:39.883Z"
   },
   {
    "duration": 4,
    "start_time": "2022-10-30T08:13:41.840Z"
   },
   {
    "duration": 13,
    "start_time": "2022-10-30T08:13:41.847Z"
   },
   {
    "duration": 26,
    "start_time": "2022-10-30T08:13:41.862Z"
   },
   {
    "duration": 33,
    "start_time": "2022-10-30T08:13:41.890Z"
   },
   {
    "duration": 10,
    "start_time": "2022-10-30T08:13:41.925Z"
   },
   {
    "duration": 13,
    "start_time": "2022-10-30T08:13:41.936Z"
   },
   {
    "duration": 35,
    "start_time": "2022-10-30T08:13:41.951Z"
   },
   {
    "duration": 16,
    "start_time": "2022-10-30T08:13:41.988Z"
   },
   {
    "duration": 6,
    "start_time": "2022-10-30T08:13:42.005Z"
   },
   {
    "duration": 3,
    "start_time": "2022-10-30T08:13:48.541Z"
   },
   {
    "duration": 14,
    "start_time": "2022-10-30T08:13:53.132Z"
   },
   {
    "duration": 6,
    "start_time": "2022-10-30T08:13:54.891Z"
   },
   {
    "duration": 112,
    "start_time": "2022-10-30T08:16:30.540Z"
   },
   {
    "duration": 13,
    "start_time": "2022-10-30T08:16:30.654Z"
   },
   {
    "duration": 2025,
    "start_time": "2022-10-30T08:16:30.668Z"
   },
   {
    "duration": 5,
    "start_time": "2022-10-30T08:16:32.695Z"
   },
   {
    "duration": 14,
    "start_time": "2022-10-30T08:16:32.702Z"
   },
   {
    "duration": 15,
    "start_time": "2022-10-30T08:16:32.718Z"
   },
   {
    "duration": 55,
    "start_time": "2022-10-30T08:16:32.734Z"
   },
   {
    "duration": 12,
    "start_time": "2022-10-30T08:16:32.791Z"
   },
   {
    "duration": 16,
    "start_time": "2022-10-30T08:16:32.805Z"
   },
   {
    "duration": 22,
    "start_time": "2022-10-30T08:16:32.823Z"
   },
   {
    "duration": 43,
    "start_time": "2022-10-30T08:16:32.847Z"
   },
   {
    "duration": 7,
    "start_time": "2022-10-30T08:16:32.891Z"
   },
   {
    "duration": 3,
    "start_time": "2022-10-30T08:16:41.031Z"
   },
   {
    "duration": 8,
    "start_time": "2022-10-30T08:16:42.240Z"
   },
   {
    "duration": 6,
    "start_time": "2022-10-30T08:16:44.526Z"
   },
   {
    "duration": 5,
    "start_time": "2022-10-30T08:26:54.588Z"
   },
   {
    "duration": 42,
    "start_time": "2022-10-30T08:27:42.827Z"
   },
   {
    "duration": 115,
    "start_time": "2022-10-30T08:30:07.787Z"
   },
   {
    "duration": 15,
    "start_time": "2022-10-30T08:30:07.904Z"
   },
   {
    "duration": 1979,
    "start_time": "2022-10-30T08:30:07.920Z"
   },
   {
    "duration": 6,
    "start_time": "2022-10-30T08:30:09.902Z"
   },
   {
    "duration": 8,
    "start_time": "2022-10-30T08:30:09.910Z"
   },
   {
    "duration": 15,
    "start_time": "2022-10-30T08:30:09.920Z"
   },
   {
    "duration": 58,
    "start_time": "2022-10-30T08:30:09.937Z"
   },
   {
    "duration": 10,
    "start_time": "2022-10-30T08:30:09.997Z"
   },
   {
    "duration": 18,
    "start_time": "2022-10-30T08:30:10.008Z"
   },
   {
    "duration": 31,
    "start_time": "2022-10-30T08:30:10.028Z"
   },
   {
    "duration": 22,
    "start_time": "2022-10-30T08:30:10.061Z"
   },
   {
    "duration": 8,
    "start_time": "2022-10-30T08:30:10.084Z"
   },
   {
    "duration": 16,
    "start_time": "2022-10-30T08:30:10.093Z"
   },
   {
    "duration": 14,
    "start_time": "2022-10-30T08:30:10.111Z"
   },
   {
    "duration": 10,
    "start_time": "2022-10-30T08:30:10.127Z"
   },
   {
    "duration": 6,
    "start_time": "2022-10-30T08:30:10.138Z"
   },
   {
    "duration": 46,
    "start_time": "2022-10-30T08:30:10.146Z"
   },
   {
    "duration": 715,
    "start_time": "2022-10-30T08:38:03.364Z"
   },
   {
    "duration": 726,
    "start_time": "2022-10-30T08:38:56.114Z"
   },
   {
    "duration": 107,
    "start_time": "2022-10-30T08:41:04.145Z"
   },
   {
    "duration": 13,
    "start_time": "2022-10-30T08:41:04.254Z"
   },
   {
    "duration": 1871,
    "start_time": "2022-10-30T08:41:04.276Z"
   },
   {
    "duration": 7,
    "start_time": "2022-10-30T08:41:06.149Z"
   },
   {
    "duration": 26,
    "start_time": "2022-10-30T08:41:06.158Z"
   },
   {
    "duration": 15,
    "start_time": "2022-10-30T08:41:06.186Z"
   },
   {
    "duration": 35,
    "start_time": "2022-10-30T08:41:06.202Z"
   },
   {
    "duration": 11,
    "start_time": "2022-10-30T08:41:06.239Z"
   },
   {
    "duration": 15,
    "start_time": "2022-10-30T08:41:06.277Z"
   },
   {
    "duration": 18,
    "start_time": "2022-10-30T08:41:06.294Z"
   },
   {
    "duration": 0,
    "start_time": "2022-10-30T08:41:06.313Z"
   },
   {
    "duration": 0,
    "start_time": "2022-10-30T08:41:06.315Z"
   },
   {
    "duration": 0,
    "start_time": "2022-10-30T08:41:06.316Z"
   },
   {
    "duration": 0,
    "start_time": "2022-10-30T08:41:06.317Z"
   },
   {
    "duration": 0,
    "start_time": "2022-10-30T08:41:06.318Z"
   },
   {
    "duration": 0,
    "start_time": "2022-10-30T08:41:06.319Z"
   },
   {
    "duration": 0,
    "start_time": "2022-10-30T08:41:06.320Z"
   },
   {
    "duration": 121,
    "start_time": "2022-10-30T08:42:29.165Z"
   },
   {
    "duration": 14,
    "start_time": "2022-10-30T08:42:29.288Z"
   },
   {
    "duration": 2085,
    "start_time": "2022-10-30T08:42:29.304Z"
   },
   {
    "duration": 6,
    "start_time": "2022-10-30T08:42:31.391Z"
   },
   {
    "duration": 17,
    "start_time": "2022-10-30T08:42:31.399Z"
   },
   {
    "duration": 32,
    "start_time": "2022-10-30T08:42:31.418Z"
   },
   {
    "duration": 38,
    "start_time": "2022-10-30T08:42:31.452Z"
   },
   {
    "duration": 11,
    "start_time": "2022-10-30T08:42:31.491Z"
   },
   {
    "duration": 33,
    "start_time": "2022-10-30T08:42:31.504Z"
   },
   {
    "duration": 23,
    "start_time": "2022-10-30T08:42:31.539Z"
   },
   {
    "duration": 0,
    "start_time": "2022-10-30T08:42:31.564Z"
   },
   {
    "duration": 0,
    "start_time": "2022-10-30T08:42:31.566Z"
   },
   {
    "duration": 0,
    "start_time": "2022-10-30T08:42:31.567Z"
   },
   {
    "duration": 0,
    "start_time": "2022-10-30T08:42:31.577Z"
   },
   {
    "duration": 0,
    "start_time": "2022-10-30T08:42:31.579Z"
   },
   {
    "duration": 0,
    "start_time": "2022-10-30T08:42:31.580Z"
   },
   {
    "duration": 0,
    "start_time": "2022-10-30T08:42:31.581Z"
   },
   {
    "duration": 19,
    "start_time": "2022-10-30T08:43:14.113Z"
   },
   {
    "duration": 120,
    "start_time": "2022-10-30T08:44:04.153Z"
   },
   {
    "duration": 14,
    "start_time": "2022-10-30T08:44:04.275Z"
   },
   {
    "duration": 1949,
    "start_time": "2022-10-30T08:44:04.291Z"
   },
   {
    "duration": 5,
    "start_time": "2022-10-30T08:44:06.241Z"
   },
   {
    "duration": 28,
    "start_time": "2022-10-30T08:44:06.249Z"
   },
   {
    "duration": 17,
    "start_time": "2022-10-30T08:44:06.279Z"
   },
   {
    "duration": 35,
    "start_time": "2022-10-30T08:44:06.298Z"
   },
   {
    "duration": 12,
    "start_time": "2022-10-30T08:44:06.335Z"
   },
   {
    "duration": 36,
    "start_time": "2022-10-30T08:44:06.349Z"
   },
   {
    "duration": 21,
    "start_time": "2022-10-30T08:44:06.387Z"
   },
   {
    "duration": 18,
    "start_time": "2022-10-30T08:44:06.410Z"
   },
   {
    "duration": 9,
    "start_time": "2022-10-30T08:44:06.430Z"
   },
   {
    "duration": 38,
    "start_time": "2022-10-30T08:44:06.440Z"
   },
   {
    "duration": 16,
    "start_time": "2022-10-30T08:44:06.481Z"
   },
   {
    "duration": 14,
    "start_time": "2022-10-30T08:44:06.499Z"
   },
   {
    "duration": 10,
    "start_time": "2022-10-30T08:44:06.515Z"
   },
   {
    "duration": 58,
    "start_time": "2022-10-30T08:44:06.527Z"
   },
   {
    "duration": 6,
    "start_time": "2022-10-30T08:44:37.552Z"
   },
   {
    "duration": 6,
    "start_time": "2022-10-30T08:45:28.032Z"
   },
   {
    "duration": 6,
    "start_time": "2022-10-30T08:49:03.511Z"
   },
   {
    "duration": 5,
    "start_time": "2022-10-30T08:49:35.371Z"
   },
   {
    "duration": 9,
    "start_time": "2022-10-30T08:52:08.949Z"
   },
   {
    "duration": 7,
    "start_time": "2022-10-30T08:57:56.878Z"
   },
   {
    "duration": 9,
    "start_time": "2022-10-30T08:58:49.847Z"
   },
   {
    "duration": 6,
    "start_time": "2022-10-30T08:59:58.157Z"
   },
   {
    "duration": 7,
    "start_time": "2022-10-30T09:00:33.307Z"
   },
   {
    "duration": 115,
    "start_time": "2022-10-30T09:07:32.386Z"
   },
   {
    "duration": 14,
    "start_time": "2022-10-30T09:07:32.503Z"
   },
   {
    "duration": 2176,
    "start_time": "2022-10-30T09:07:32.519Z"
   },
   {
    "duration": 6,
    "start_time": "2022-10-30T09:07:34.696Z"
   },
   {
    "duration": 11,
    "start_time": "2022-10-30T09:07:34.704Z"
   },
   {
    "duration": 15,
    "start_time": "2022-10-30T09:07:34.717Z"
   },
   {
    "duration": 60,
    "start_time": "2022-10-30T09:07:34.734Z"
   },
   {
    "duration": 11,
    "start_time": "2022-10-30T09:07:34.796Z"
   },
   {
    "duration": 13,
    "start_time": "2022-10-30T09:07:34.810Z"
   },
   {
    "duration": 19,
    "start_time": "2022-10-30T09:07:34.825Z"
   },
   {
    "duration": 45,
    "start_time": "2022-10-30T09:07:34.846Z"
   },
   {
    "duration": 7,
    "start_time": "2022-10-30T09:07:34.893Z"
   },
   {
    "duration": 5,
    "start_time": "2022-10-30T09:07:34.901Z"
   },
   {
    "duration": 12,
    "start_time": "2022-10-30T09:07:34.908Z"
   },
   {
    "duration": 8,
    "start_time": "2022-10-30T09:07:34.922Z"
   },
   {
    "duration": 7,
    "start_time": "2022-10-30T09:07:36.766Z"
   },
   {
    "duration": 9,
    "start_time": "2022-10-30T09:07:43.645Z"
   },
   {
    "duration": 4,
    "start_time": "2022-10-30T09:08:14.876Z"
   },
   {
    "duration": 5,
    "start_time": "2022-10-30T09:08:16.955Z"
   },
   {
    "duration": 1423,
    "start_time": "2022-10-30T09:16:36.772Z"
   },
   {
    "duration": 5,
    "start_time": "2022-10-30T09:16:38.512Z"
   },
   {
    "duration": 111,
    "start_time": "2022-10-30T09:17:30.643Z"
   },
   {
    "duration": 20,
    "start_time": "2022-10-30T09:17:30.756Z"
   },
   {
    "duration": 1946,
    "start_time": "2022-10-30T09:17:30.778Z"
   },
   {
    "duration": 5,
    "start_time": "2022-10-30T09:17:32.726Z"
   },
   {
    "duration": 15,
    "start_time": "2022-10-30T09:17:32.734Z"
   },
   {
    "duration": 38,
    "start_time": "2022-10-30T09:17:32.751Z"
   },
   {
    "duration": 38,
    "start_time": "2022-10-30T09:17:32.791Z"
   },
   {
    "duration": 13,
    "start_time": "2022-10-30T09:17:32.831Z"
   },
   {
    "duration": 43,
    "start_time": "2022-10-30T09:17:32.846Z"
   },
   {
    "duration": 21,
    "start_time": "2022-10-30T09:17:32.891Z"
   },
   {
    "duration": 19,
    "start_time": "2022-10-30T09:17:32.913Z"
   },
   {
    "duration": 7,
    "start_time": "2022-10-30T09:17:32.933Z"
   },
   {
    "duration": 4,
    "start_time": "2022-10-30T09:17:32.942Z"
   },
   {
    "duration": 9,
    "start_time": "2022-10-30T09:17:32.978Z"
   },
   {
    "duration": 9,
    "start_time": "2022-10-30T09:17:32.988Z"
   },
   {
    "duration": 6,
    "start_time": "2022-10-30T09:17:42.182Z"
   },
   {
    "duration": 115,
    "start_time": "2022-10-30T09:24:59.722Z"
   },
   {
    "duration": 14,
    "start_time": "2022-10-30T09:24:59.839Z"
   },
   {
    "duration": 2148,
    "start_time": "2022-10-30T09:24:59.854Z"
   },
   {
    "duration": 5,
    "start_time": "2022-10-30T09:25:02.004Z"
   },
   {
    "duration": 22,
    "start_time": "2022-10-30T09:25:02.011Z"
   },
   {
    "duration": 15,
    "start_time": "2022-10-30T09:25:02.034Z"
   },
   {
    "duration": 42,
    "start_time": "2022-10-30T09:25:02.050Z"
   },
   {
    "duration": 10,
    "start_time": "2022-10-30T09:25:02.093Z"
   },
   {
    "duration": 18,
    "start_time": "2022-10-30T09:25:02.104Z"
   },
   {
    "duration": 19,
    "start_time": "2022-10-30T09:25:02.123Z"
   },
   {
    "duration": 38,
    "start_time": "2022-10-30T09:25:02.143Z"
   },
   {
    "duration": 6,
    "start_time": "2022-10-30T09:25:02.182Z"
   },
   {
    "duration": 8,
    "start_time": "2022-10-30T09:25:02.190Z"
   },
   {
    "duration": 10,
    "start_time": "2022-10-30T09:25:02.200Z"
   },
   {
    "duration": 6,
    "start_time": "2022-10-30T09:25:02.212Z"
   },
   {
    "duration": 7,
    "start_time": "2022-10-30T09:25:08.000Z"
   },
   {
    "duration": 5,
    "start_time": "2022-10-30T09:25:13.050Z"
   },
   {
    "duration": 6,
    "start_time": "2022-10-30T09:25:14.633Z"
   },
   {
    "duration": 9,
    "start_time": "2022-10-30T09:41:52.736Z"
   },
   {
    "duration": 122,
    "start_time": "2022-10-30T09:46:55.234Z"
   },
   {
    "duration": 14,
    "start_time": "2022-10-30T09:46:55.358Z"
   },
   {
    "duration": 1846,
    "start_time": "2022-10-30T09:46:55.376Z"
   },
   {
    "duration": 6,
    "start_time": "2022-10-30T09:46:57.223Z"
   },
   {
    "duration": 12,
    "start_time": "2022-10-30T09:46:57.230Z"
   },
   {
    "duration": 15,
    "start_time": "2022-10-30T09:46:57.243Z"
   },
   {
    "duration": 34,
    "start_time": "2022-10-30T09:46:57.277Z"
   },
   {
    "duration": 13,
    "start_time": "2022-10-30T09:46:57.313Z"
   },
   {
    "duration": 21,
    "start_time": "2022-10-30T09:46:57.328Z"
   },
   {
    "duration": 38,
    "start_time": "2022-10-30T09:46:57.350Z"
   },
   {
    "duration": 18,
    "start_time": "2022-10-30T09:46:57.389Z"
   },
   {
    "duration": 5,
    "start_time": "2022-10-30T09:46:57.409Z"
   },
   {
    "duration": 5,
    "start_time": "2022-10-30T09:46:57.416Z"
   },
   {
    "duration": 9,
    "start_time": "2022-10-30T09:46:57.423Z"
   },
   {
    "duration": 5,
    "start_time": "2022-10-30T09:46:57.434Z"
   },
   {
    "duration": 40,
    "start_time": "2022-10-30T09:46:57.441Z"
   },
   {
    "duration": 4,
    "start_time": "2022-10-30T09:46:57.483Z"
   },
   {
    "duration": 9,
    "start_time": "2022-10-30T09:46:57.489Z"
   },
   {
    "duration": 8,
    "start_time": "2022-10-30T09:47:04.014Z"
   },
   {
    "duration": 14,
    "start_time": "2022-10-30T09:47:34.824Z"
   },
   {
    "duration": 50,
    "start_time": "2022-10-30T09:49:12.916Z"
   },
   {
    "duration": 9,
    "start_time": "2022-10-30T09:50:10.022Z"
   },
   {
    "duration": 7,
    "start_time": "2022-10-30T09:50:43.342Z"
   },
   {
    "duration": 6,
    "start_time": "2022-10-30T09:52:31.262Z"
   },
   {
    "duration": 12,
    "start_time": "2022-10-30T09:58:58.080Z"
   },
   {
    "duration": 7,
    "start_time": "2022-10-30T10:01:43.166Z"
   },
   {
    "duration": 5,
    "start_time": "2022-10-30T10:03:15.189Z"
   },
   {
    "duration": 15,
    "start_time": "2022-10-30T10:03:50.629Z"
   },
   {
    "duration": 10,
    "start_time": "2022-10-30T10:05:08.874Z"
   },
   {
    "duration": 7,
    "start_time": "2022-10-30T10:09:37.027Z"
   },
   {
    "duration": 6,
    "start_time": "2022-10-30T11:09:35.549Z"
   },
   {
    "duration": 8,
    "start_time": "2022-10-30T11:09:44.368Z"
   },
   {
    "duration": 19,
    "start_time": "2022-10-30T11:11:29.058Z"
   },
   {
    "duration": 16,
    "start_time": "2022-10-30T11:14:13.127Z"
   },
   {
    "duration": 46,
    "start_time": "2022-10-30T11:14:31.207Z"
   },
   {
    "duration": 12,
    "start_time": "2022-10-30T11:14:41.227Z"
   },
   {
    "duration": 8,
    "start_time": "2022-10-30T11:15:25.486Z"
   },
   {
    "duration": 6,
    "start_time": "2022-10-30T11:15:41.327Z"
   },
   {
    "duration": 22,
    "start_time": "2022-10-30T11:27:05.593Z"
   },
   {
    "duration": 22,
    "start_time": "2022-10-30T11:27:38.573Z"
   },
   {
    "duration": 75,
    "start_time": "2022-10-30T11:28:11.082Z"
   },
   {
    "duration": 10,
    "start_time": "2022-10-30T11:29:53.442Z"
   },
   {
    "duration": 9,
    "start_time": "2022-10-30T11:34:11.538Z"
   },
   {
    "duration": 45,
    "start_time": "2022-10-30T11:36:01.233Z"
   },
   {
    "duration": 47,
    "start_time": "2022-10-30T11:36:16.010Z"
   },
   {
    "duration": 16,
    "start_time": "2022-10-30T11:41:15.548Z"
   },
   {
    "duration": 24,
    "start_time": "2022-10-30T11:41:37.939Z"
   },
   {
    "duration": 11,
    "start_time": "2022-10-30T11:44:00.788Z"
   },
   {
    "duration": 123,
    "start_time": "2022-10-30T11:46:33.077Z"
   },
   {
    "duration": 13,
    "start_time": "2022-10-30T11:46:33.202Z"
   },
   {
    "duration": 1969,
    "start_time": "2022-10-30T11:46:33.217Z"
   },
   {
    "duration": 6,
    "start_time": "2022-10-30T11:46:35.189Z"
   },
   {
    "duration": 18,
    "start_time": "2022-10-30T11:46:35.198Z"
   },
   {
    "duration": 20,
    "start_time": "2022-10-30T11:46:35.218Z"
   },
   {
    "duration": 73,
    "start_time": "2022-10-30T11:46:35.240Z"
   },
   {
    "duration": 14,
    "start_time": "2022-10-30T11:46:35.315Z"
   },
   {
    "duration": 16,
    "start_time": "2022-10-30T11:46:35.332Z"
   },
   {
    "duration": 45,
    "start_time": "2022-10-30T11:46:35.351Z"
   },
   {
    "duration": 20,
    "start_time": "2022-10-30T11:46:35.398Z"
   },
   {
    "duration": 7,
    "start_time": "2022-10-30T11:46:35.419Z"
   },
   {
    "duration": 9,
    "start_time": "2022-10-30T11:46:35.428Z"
   },
   {
    "duration": 17,
    "start_time": "2022-10-30T11:46:35.439Z"
   },
   {
    "duration": 24,
    "start_time": "2022-10-30T11:46:35.457Z"
   },
   {
    "duration": 14,
    "start_time": "2022-10-30T11:46:35.483Z"
   },
   {
    "duration": 12,
    "start_time": "2022-10-30T11:46:35.498Z"
   },
   {
    "duration": 8,
    "start_time": "2022-10-30T11:46:35.512Z"
   },
   {
    "duration": 8,
    "start_time": "2022-10-30T11:46:35.522Z"
   },
   {
    "duration": 10,
    "start_time": "2022-10-30T11:46:35.531Z"
   },
   {
    "duration": 35,
    "start_time": "2022-10-30T11:46:35.543Z"
   },
   {
    "duration": 9,
    "start_time": "2022-10-30T11:46:35.580Z"
   },
   {
    "duration": 30,
    "start_time": "2022-10-30T11:46:35.591Z"
   },
   {
    "duration": 49,
    "start_time": "2022-10-30T11:46:39.926Z"
   },
   {
    "duration": 24,
    "start_time": "2022-10-30T11:47:16.736Z"
   },
   {
    "duration": 27,
    "start_time": "2022-10-30T11:47:45.707Z"
   },
   {
    "duration": 46,
    "start_time": "2022-10-30T11:47:56.426Z"
   },
   {
    "duration": 31,
    "start_time": "2022-10-30T11:49:12.406Z"
   },
   {
    "duration": 45,
    "start_time": "2022-10-30T11:49:19.156Z"
   },
   {
    "duration": 122,
    "start_time": "2022-10-30T11:51:47.035Z"
   },
   {
    "duration": 21,
    "start_time": "2022-10-30T11:51:47.160Z"
   },
   {
    "duration": 2226,
    "start_time": "2022-10-30T11:51:47.183Z"
   },
   {
    "duration": 4,
    "start_time": "2022-10-30T11:51:49.411Z"
   },
   {
    "duration": 11,
    "start_time": "2022-10-30T11:51:49.418Z"
   },
   {
    "duration": 14,
    "start_time": "2022-10-30T11:51:49.431Z"
   },
   {
    "duration": 56,
    "start_time": "2022-10-30T11:51:49.446Z"
   },
   {
    "duration": 10,
    "start_time": "2022-10-30T11:51:49.504Z"
   },
   {
    "duration": 14,
    "start_time": "2022-10-30T11:51:49.516Z"
   },
   {
    "duration": 45,
    "start_time": "2022-10-30T11:51:49.532Z"
   },
   {
    "duration": 18,
    "start_time": "2022-10-30T11:51:49.579Z"
   },
   {
    "duration": 7,
    "start_time": "2022-10-30T11:51:49.599Z"
   },
   {
    "duration": 4,
    "start_time": "2022-10-30T11:51:49.608Z"
   },
   {
    "duration": 13,
    "start_time": "2022-10-30T11:51:49.616Z"
   },
   {
    "duration": 9,
    "start_time": "2022-10-30T11:51:49.631Z"
   },
   {
    "duration": 34,
    "start_time": "2022-10-30T11:51:49.642Z"
   },
   {
    "duration": 9,
    "start_time": "2022-10-30T11:51:49.677Z"
   },
   {
    "duration": 14,
    "start_time": "2022-10-30T11:51:49.688Z"
   },
   {
    "duration": 9,
    "start_time": "2022-10-30T11:51:49.704Z"
   },
   {
    "duration": 7,
    "start_time": "2022-10-30T11:51:49.715Z"
   },
   {
    "duration": 16,
    "start_time": "2022-10-30T11:51:57.755Z"
   },
   {
    "duration": 7,
    "start_time": "2022-10-30T11:52:22.195Z"
   },
   {
    "duration": 6,
    "start_time": "2022-10-30T11:52:46.466Z"
   },
   {
    "duration": 14,
    "start_time": "2022-10-30T11:53:31.935Z"
   },
   {
    "duration": 53,
    "start_time": "2022-10-30T11:53:53.885Z"
   },
   {
    "duration": 66,
    "start_time": "2022-10-30T11:54:35.225Z"
   },
   {
    "duration": 15,
    "start_time": "2022-10-30T11:55:58.914Z"
   },
   {
    "duration": 16,
    "start_time": "2022-10-30T11:56:22.905Z"
   },
   {
    "duration": 117,
    "start_time": "2022-10-30T11:59:29.927Z"
   },
   {
    "duration": 13,
    "start_time": "2022-10-30T11:59:30.046Z"
   },
   {
    "duration": 2014,
    "start_time": "2022-10-30T11:59:30.061Z"
   },
   {
    "duration": 5,
    "start_time": "2022-10-30T11:59:32.077Z"
   },
   {
    "duration": 11,
    "start_time": "2022-10-30T11:59:32.084Z"
   },
   {
    "duration": 15,
    "start_time": "2022-10-30T11:59:32.097Z"
   },
   {
    "duration": 35,
    "start_time": "2022-10-30T11:59:32.113Z"
   },
   {
    "duration": 12,
    "start_time": "2022-10-30T11:59:32.176Z"
   },
   {
    "duration": 14,
    "start_time": "2022-10-30T11:59:32.189Z"
   },
   {
    "duration": 20,
    "start_time": "2022-10-30T11:59:32.205Z"
   },
   {
    "duration": 19,
    "start_time": "2022-10-30T11:59:32.226Z"
   },
   {
    "duration": 33,
    "start_time": "2022-10-30T11:59:32.246Z"
   },
   {
    "duration": 6,
    "start_time": "2022-10-30T11:59:32.281Z"
   },
   {
    "duration": 10,
    "start_time": "2022-10-30T11:59:32.289Z"
   },
   {
    "duration": 6,
    "start_time": "2022-10-30T11:59:32.300Z"
   },
   {
    "duration": 11,
    "start_time": "2022-10-30T11:59:32.308Z"
   },
   {
    "duration": 6,
    "start_time": "2022-10-30T11:59:32.320Z"
   },
   {
    "duration": 8,
    "start_time": "2022-10-30T11:59:32.327Z"
   },
   {
    "duration": 44,
    "start_time": "2022-10-30T11:59:32.337Z"
   },
   {
    "duration": 6,
    "start_time": "2022-10-30T11:59:32.382Z"
   },
   {
    "duration": 17,
    "start_time": "2022-10-30T11:59:32.390Z"
   },
   {
    "duration": 6,
    "start_time": "2022-10-30T11:59:32.408Z"
   },
   {
    "duration": 8,
    "start_time": "2022-10-30T11:59:32.416Z"
   },
   {
    "duration": 45,
    "start_time": "2022-10-30T11:59:38.334Z"
   },
   {
    "duration": 18,
    "start_time": "2022-10-30T11:59:47.020Z"
   },
   {
    "duration": 12,
    "start_time": "2022-10-30T11:59:54.865Z"
   },
   {
    "duration": 6,
    "start_time": "2022-10-30T12:00:33.833Z"
   },
   {
    "duration": 13,
    "start_time": "2022-10-30T12:00:42.573Z"
   },
   {
    "duration": 123,
    "start_time": "2022-10-30T12:00:57.963Z"
   },
   {
    "duration": 14,
    "start_time": "2022-10-30T12:00:58.088Z"
   },
   {
    "duration": 1861,
    "start_time": "2022-10-30T12:00:58.104Z"
   },
   {
    "duration": 13,
    "start_time": "2022-10-30T12:00:59.967Z"
   },
   {
    "duration": 11,
    "start_time": "2022-10-30T12:00:59.982Z"
   },
   {
    "duration": 19,
    "start_time": "2022-10-30T12:00:59.994Z"
   },
   {
    "duration": 39,
    "start_time": "2022-10-30T12:01:00.015Z"
   },
   {
    "duration": 11,
    "start_time": "2022-10-30T12:01:00.076Z"
   },
   {
    "duration": 16,
    "start_time": "2022-10-30T12:01:00.088Z"
   },
   {
    "duration": 27,
    "start_time": "2022-10-30T12:01:00.105Z"
   },
   {
    "duration": 23,
    "start_time": "2022-10-30T12:01:00.133Z"
   },
   {
    "duration": 28,
    "start_time": "2022-10-30T12:01:00.158Z"
   },
   {
    "duration": 40,
    "start_time": "2022-10-30T12:01:00.188Z"
   },
   {
    "duration": 22,
    "start_time": "2022-10-30T12:01:00.231Z"
   },
   {
    "duration": 40,
    "start_time": "2022-10-30T12:01:00.255Z"
   },
   {
    "duration": 21,
    "start_time": "2022-10-30T12:01:00.296Z"
   },
   {
    "duration": 20,
    "start_time": "2022-10-30T12:01:00.319Z"
   },
   {
    "duration": 26,
    "start_time": "2022-10-30T12:01:00.340Z"
   },
   {
    "duration": 24,
    "start_time": "2022-10-30T12:01:00.368Z"
   },
   {
    "duration": 67,
    "start_time": "2022-10-30T12:01:00.394Z"
   },
   {
    "duration": 29,
    "start_time": "2022-10-30T12:01:00.463Z"
   },
   {
    "duration": 22,
    "start_time": "2022-10-30T12:01:00.494Z"
   },
   {
    "duration": 22,
    "start_time": "2022-10-30T12:01:00.517Z"
   },
   {
    "duration": 67,
    "start_time": "2022-10-30T12:01:00.541Z"
   },
   {
    "duration": 15,
    "start_time": "2022-10-30T12:01:09.083Z"
   },
   {
    "duration": 13,
    "start_time": "2022-10-30T12:01:14.153Z"
   },
   {
    "duration": 113,
    "start_time": "2022-10-30T12:02:55.783Z"
   },
   {
    "duration": 14,
    "start_time": "2022-10-30T12:02:55.898Z"
   },
   {
    "duration": 2340,
    "start_time": "2022-10-30T12:02:55.913Z"
   },
   {
    "duration": 6,
    "start_time": "2022-10-30T12:02:58.254Z"
   },
   {
    "duration": 22,
    "start_time": "2022-10-30T12:02:58.262Z"
   },
   {
    "duration": 14,
    "start_time": "2022-10-30T12:02:58.286Z"
   },
   {
    "duration": 33,
    "start_time": "2022-10-30T12:02:58.301Z"
   },
   {
    "duration": 9,
    "start_time": "2022-10-30T12:02:58.336Z"
   },
   {
    "duration": 13,
    "start_time": "2022-10-30T12:02:58.377Z"
   },
   {
    "duration": 18,
    "start_time": "2022-10-30T12:02:58.392Z"
   },
   {
    "duration": 18,
    "start_time": "2022-10-30T12:02:58.412Z"
   },
   {
    "duration": 6,
    "start_time": "2022-10-30T12:02:58.431Z"
   },
   {
    "duration": 3,
    "start_time": "2022-10-30T12:02:58.476Z"
   },
   {
    "duration": 11,
    "start_time": "2022-10-30T12:02:58.481Z"
   },
   {
    "duration": 9,
    "start_time": "2022-10-30T12:02:58.493Z"
   },
   {
    "duration": 7,
    "start_time": "2022-10-30T12:02:58.504Z"
   },
   {
    "duration": 8,
    "start_time": "2022-10-30T12:02:58.513Z"
   },
   {
    "duration": 16,
    "start_time": "2022-10-30T12:02:58.523Z"
   },
   {
    "duration": 11,
    "start_time": "2022-10-30T12:02:58.541Z"
   },
   {
    "duration": 31,
    "start_time": "2022-10-30T12:02:58.554Z"
   },
   {
    "duration": 17,
    "start_time": "2022-10-30T12:02:58.587Z"
   },
   {
    "duration": 7,
    "start_time": "2022-10-30T12:02:58.606Z"
   },
   {
    "duration": 11,
    "start_time": "2022-10-30T12:02:58.614Z"
   },
   {
    "duration": 52,
    "start_time": "2022-10-30T12:03:02.847Z"
   },
   {
    "duration": 20,
    "start_time": "2022-10-30T12:04:03.262Z"
   },
   {
    "duration": 30,
    "start_time": "2022-10-30T12:04:31.513Z"
   },
   {
    "duration": 3,
    "start_time": "2022-10-30T12:06:59.691Z"
   },
   {
    "duration": 22,
    "start_time": "2022-10-30T12:07:29.531Z"
   },
   {
    "duration": 47,
    "start_time": "2022-10-30T12:11:47.221Z"
   },
   {
    "duration": 115,
    "start_time": "2022-10-30T12:11:58.070Z"
   },
   {
    "duration": 13,
    "start_time": "2022-10-30T12:11:58.187Z"
   },
   {
    "duration": 1797,
    "start_time": "2022-10-30T12:11:58.202Z"
   },
   {
    "duration": 5,
    "start_time": "2022-10-30T12:12:00.001Z"
   },
   {
    "duration": 37,
    "start_time": "2022-10-30T12:12:00.007Z"
   },
   {
    "duration": 21,
    "start_time": "2022-10-30T12:12:00.045Z"
   },
   {
    "duration": 37,
    "start_time": "2022-10-30T12:12:00.068Z"
   },
   {
    "duration": 10,
    "start_time": "2022-10-30T12:12:00.107Z"
   },
   {
    "duration": 18,
    "start_time": "2022-10-30T12:12:00.119Z"
   },
   {
    "duration": 24,
    "start_time": "2022-10-30T12:12:00.139Z"
   },
   {
    "duration": 27,
    "start_time": "2022-10-30T12:12:00.164Z"
   },
   {
    "duration": 21,
    "start_time": "2022-10-30T12:12:00.192Z"
   },
   {
    "duration": 29,
    "start_time": "2022-10-30T12:12:00.214Z"
   },
   {
    "duration": 41,
    "start_time": "2022-10-30T12:12:00.246Z"
   },
   {
    "duration": 38,
    "start_time": "2022-10-30T12:12:00.288Z"
   },
   {
    "duration": 62,
    "start_time": "2022-10-30T12:12:00.328Z"
   },
   {
    "duration": 35,
    "start_time": "2022-10-30T12:12:00.391Z"
   },
   {
    "duration": 26,
    "start_time": "2022-10-30T12:12:00.428Z"
   },
   {
    "duration": 26,
    "start_time": "2022-10-30T12:12:00.456Z"
   },
   {
    "duration": 37,
    "start_time": "2022-10-30T12:12:00.483Z"
   },
   {
    "duration": 30,
    "start_time": "2022-10-30T12:12:00.521Z"
   },
   {
    "duration": 17,
    "start_time": "2022-10-30T12:12:00.553Z"
   },
   {
    "duration": 15,
    "start_time": "2022-10-30T12:12:00.572Z"
   },
   {
    "duration": 52,
    "start_time": "2022-10-30T12:12:06.346Z"
   },
   {
    "duration": 9,
    "start_time": "2022-10-30T12:13:46.730Z"
   },
   {
    "duration": 10,
    "start_time": "2022-10-30T12:15:14.960Z"
   },
   {
    "duration": 16,
    "start_time": "2022-10-30T12:16:03.888Z"
   },
   {
    "duration": 15,
    "start_time": "2022-10-30T12:16:17.031Z"
   },
   {
    "duration": 13,
    "start_time": "2022-10-30T12:16:29.859Z"
   },
   {
    "duration": 13,
    "start_time": "2022-10-30T12:16:49.289Z"
   },
   {
    "duration": 5,
    "start_time": "2022-10-30T12:28:17.355Z"
   },
   {
    "duration": 107,
    "start_time": "2022-10-30T12:28:26.685Z"
   },
   {
    "duration": 14,
    "start_time": "2022-10-30T12:28:26.794Z"
   },
   {
    "duration": 1860,
    "start_time": "2022-10-30T12:28:26.810Z"
   },
   {
    "duration": 5,
    "start_time": "2022-10-30T12:28:28.676Z"
   },
   {
    "duration": 12,
    "start_time": "2022-10-30T12:28:28.683Z"
   },
   {
    "duration": 15,
    "start_time": "2022-10-30T12:28:28.697Z"
   },
   {
    "duration": 34,
    "start_time": "2022-10-30T12:28:28.713Z"
   },
   {
    "duration": 36,
    "start_time": "2022-10-30T12:28:28.749Z"
   },
   {
    "duration": 15,
    "start_time": "2022-10-30T12:28:28.787Z"
   },
   {
    "duration": 20,
    "start_time": "2022-10-30T12:28:28.804Z"
   },
   {
    "duration": 51,
    "start_time": "2022-10-30T12:28:28.826Z"
   },
   {
    "duration": 7,
    "start_time": "2022-10-30T12:28:28.879Z"
   },
   {
    "duration": 11,
    "start_time": "2022-10-30T12:28:28.887Z"
   },
   {
    "duration": 17,
    "start_time": "2022-10-30T12:28:28.901Z"
   },
   {
    "duration": 6,
    "start_time": "2022-10-30T12:28:28.920Z"
   },
   {
    "duration": 12,
    "start_time": "2022-10-30T12:28:28.928Z"
   },
   {
    "duration": 6,
    "start_time": "2022-10-30T12:28:28.942Z"
   },
   {
    "duration": 28,
    "start_time": "2022-10-30T12:28:28.950Z"
   },
   {
    "duration": 8,
    "start_time": "2022-10-30T12:28:28.980Z"
   },
   {
    "duration": 6,
    "start_time": "2022-10-30T12:28:28.990Z"
   },
   {
    "duration": 14,
    "start_time": "2022-10-30T12:28:28.998Z"
   },
   {
    "duration": 7,
    "start_time": "2022-10-30T12:28:29.014Z"
   },
   {
    "duration": 6,
    "start_time": "2022-10-30T12:28:37.005Z"
   },
   {
    "duration": 46,
    "start_time": "2022-10-30T12:28:47.395Z"
   },
   {
    "duration": 22,
    "start_time": "2022-10-30T12:32:43.773Z"
   },
   {
    "duration": 16,
    "start_time": "2022-10-30T12:36:07.392Z"
   },
   {
    "duration": 13,
    "start_time": "2022-10-30T12:36:22.242Z"
   },
   {
    "duration": 12,
    "start_time": "2022-10-30T12:38:43.451Z"
   },
   {
    "duration": 46,
    "start_time": "2022-10-30T12:42:16.220Z"
   },
   {
    "duration": 48,
    "start_time": "2022-10-30T12:42:22.190Z"
   },
   {
    "duration": 111,
    "start_time": "2022-10-30T12:43:15.580Z"
   },
   {
    "duration": 15,
    "start_time": "2022-10-30T12:43:15.693Z"
   },
   {
    "duration": 1876,
    "start_time": "2022-10-30T12:43:15.710Z"
   },
   {
    "duration": 5,
    "start_time": "2022-10-30T12:43:17.587Z"
   },
   {
    "duration": 12,
    "start_time": "2022-10-30T12:43:17.594Z"
   },
   {
    "duration": 15,
    "start_time": "2022-10-30T12:43:17.607Z"
   },
   {
    "duration": 57,
    "start_time": "2022-10-30T12:43:17.624Z"
   },
   {
    "duration": 11,
    "start_time": "2022-10-30T12:43:17.683Z"
   },
   {
    "duration": 14,
    "start_time": "2022-10-30T12:43:17.696Z"
   },
   {
    "duration": 21,
    "start_time": "2022-10-30T12:43:17.712Z"
   },
   {
    "duration": 51,
    "start_time": "2022-10-30T12:43:17.735Z"
   },
   {
    "duration": 6,
    "start_time": "2022-10-30T12:43:17.788Z"
   },
   {
    "duration": 5,
    "start_time": "2022-10-30T12:43:17.796Z"
   },
   {
    "duration": 10,
    "start_time": "2022-10-30T12:43:17.803Z"
   },
   {
    "duration": 6,
    "start_time": "2022-10-30T12:43:17.814Z"
   },
   {
    "duration": 7,
    "start_time": "2022-10-30T12:43:17.822Z"
   },
   {
    "duration": 7,
    "start_time": "2022-10-30T12:43:17.831Z"
   },
   {
    "duration": 40,
    "start_time": "2022-10-30T12:43:17.839Z"
   },
   {
    "duration": 9,
    "start_time": "2022-10-30T12:43:17.881Z"
   },
   {
    "duration": 6,
    "start_time": "2022-10-30T12:43:17.892Z"
   },
   {
    "duration": 16,
    "start_time": "2022-10-30T12:43:17.900Z"
   },
   {
    "duration": 7,
    "start_time": "2022-10-30T12:43:17.918Z"
   },
   {
    "duration": 7,
    "start_time": "2022-10-30T12:43:17.926Z"
   },
   {
    "duration": 90,
    "start_time": "2022-10-30T12:43:17.935Z"
   },
   {
    "duration": 15,
    "start_time": "2022-10-30T12:43:37.660Z"
   },
   {
    "duration": 14,
    "start_time": "2022-10-30T12:43:44.979Z"
   },
   {
    "duration": 117,
    "start_time": "2022-10-30T12:45:04.849Z"
   },
   {
    "duration": 15,
    "start_time": "2022-10-30T12:45:04.976Z"
   },
   {
    "duration": 2424,
    "start_time": "2022-10-30T12:45:04.993Z"
   },
   {
    "duration": 5,
    "start_time": "2022-10-30T12:45:07.419Z"
   },
   {
    "duration": 10,
    "start_time": "2022-10-30T12:45:07.426Z"
   },
   {
    "duration": 14,
    "start_time": "2022-10-30T12:45:07.437Z"
   },
   {
    "duration": 54,
    "start_time": "2022-10-30T12:45:07.453Z"
   },
   {
    "duration": 10,
    "start_time": "2022-10-30T12:45:07.508Z"
   },
   {
    "duration": 14,
    "start_time": "2022-10-30T12:45:07.520Z"
   },
   {
    "duration": 43,
    "start_time": "2022-10-30T12:45:07.536Z"
   },
   {
    "duration": 18,
    "start_time": "2022-10-30T12:45:07.581Z"
   },
   {
    "duration": 15,
    "start_time": "2022-10-30T12:45:07.600Z"
   },
   {
    "duration": 15,
    "start_time": "2022-10-30T12:45:07.616Z"
   },
   {
    "duration": 22,
    "start_time": "2022-10-30T12:45:07.632Z"
   },
   {
    "duration": 16,
    "start_time": "2022-10-30T12:45:07.656Z"
   },
   {
    "duration": 13,
    "start_time": "2022-10-30T12:45:07.674Z"
   },
   {
    "duration": 11,
    "start_time": "2022-10-30T12:45:07.689Z"
   },
   {
    "duration": 12,
    "start_time": "2022-10-30T12:45:07.702Z"
   },
   {
    "duration": 7,
    "start_time": "2022-10-30T12:45:07.716Z"
   },
   {
    "duration": 9,
    "start_time": "2022-10-30T12:45:07.725Z"
   },
   {
    "duration": 14,
    "start_time": "2022-10-30T12:45:07.736Z"
   },
   {
    "duration": 6,
    "start_time": "2022-10-30T12:45:07.752Z"
   },
   {
    "duration": 11,
    "start_time": "2022-10-30T12:45:07.776Z"
   },
   {
    "duration": 48,
    "start_time": "2022-10-30T12:45:07.788Z"
   },
   {
    "duration": 15,
    "start_time": "2022-10-30T12:45:22.079Z"
   },
   {
    "duration": 13,
    "start_time": "2022-10-30T12:45:27.889Z"
   },
   {
    "duration": 112,
    "start_time": "2022-10-30T12:46:19.389Z"
   },
   {
    "duration": 14,
    "start_time": "2022-10-30T12:46:19.503Z"
   },
   {
    "duration": 1787,
    "start_time": "2022-10-30T12:46:19.518Z"
   },
   {
    "duration": 5,
    "start_time": "2022-10-30T12:46:21.307Z"
   },
   {
    "duration": 12,
    "start_time": "2022-10-30T12:46:21.313Z"
   },
   {
    "duration": 13,
    "start_time": "2022-10-30T12:46:21.327Z"
   },
   {
    "duration": 55,
    "start_time": "2022-10-30T12:46:21.342Z"
   },
   {
    "duration": 11,
    "start_time": "2022-10-30T12:46:21.398Z"
   },
   {
    "duration": 14,
    "start_time": "2022-10-30T12:46:21.410Z"
   },
   {
    "duration": 18,
    "start_time": "2022-10-30T12:46:21.426Z"
   },
   {
    "duration": 38,
    "start_time": "2022-10-30T12:46:21.446Z"
   },
   {
    "duration": 6,
    "start_time": "2022-10-30T12:46:21.485Z"
   },
   {
    "duration": 4,
    "start_time": "2022-10-30T12:46:21.493Z"
   },
   {
    "duration": 9,
    "start_time": "2022-10-30T12:46:21.499Z"
   },
   {
    "duration": 8,
    "start_time": "2022-10-30T12:46:21.510Z"
   },
   {
    "duration": 11,
    "start_time": "2022-10-30T12:46:21.520Z"
   },
   {
    "duration": 6,
    "start_time": "2022-10-30T12:46:21.533Z"
   },
   {
    "duration": 37,
    "start_time": "2022-10-30T12:46:21.540Z"
   },
   {
    "duration": 8,
    "start_time": "2022-10-30T12:46:21.579Z"
   },
   {
    "duration": 6,
    "start_time": "2022-10-30T12:46:21.588Z"
   },
   {
    "duration": 16,
    "start_time": "2022-10-30T12:46:21.596Z"
   },
   {
    "duration": 5,
    "start_time": "2022-10-30T12:46:21.614Z"
   },
   {
    "duration": 6,
    "start_time": "2022-10-30T12:46:21.621Z"
   },
   {
    "duration": 84,
    "start_time": "2022-10-30T12:46:21.628Z"
   },
   {
    "duration": 15,
    "start_time": "2022-10-30T12:46:21.714Z"
   },
   {
    "duration": 14,
    "start_time": "2022-10-30T12:46:21.730Z"
   },
   {
    "duration": 112,
    "start_time": "2022-10-30T12:47:23.419Z"
   },
   {
    "duration": 13,
    "start_time": "2022-10-30T12:47:23.533Z"
   },
   {
    "duration": 1989,
    "start_time": "2022-10-30T12:47:23.548Z"
   },
   {
    "duration": 6,
    "start_time": "2022-10-30T12:47:25.538Z"
   },
   {
    "duration": 9,
    "start_time": "2022-10-30T12:47:25.546Z"
   },
   {
    "duration": 33,
    "start_time": "2022-10-30T12:47:25.557Z"
   },
   {
    "duration": 34,
    "start_time": "2022-10-30T12:47:25.592Z"
   },
   {
    "duration": 10,
    "start_time": "2022-10-30T12:47:25.627Z"
   },
   {
    "duration": 37,
    "start_time": "2022-10-30T12:47:25.639Z"
   },
   {
    "duration": 19,
    "start_time": "2022-10-30T12:47:25.678Z"
   },
   {
    "duration": 16,
    "start_time": "2022-10-30T12:47:25.699Z"
   },
   {
    "duration": 6,
    "start_time": "2022-10-30T12:47:25.717Z"
   },
   {
    "duration": 7,
    "start_time": "2022-10-30T12:47:25.725Z"
   },
   {
    "duration": 10,
    "start_time": "2022-10-30T12:47:25.735Z"
   },
   {
    "duration": 35,
    "start_time": "2022-10-30T12:47:25.747Z"
   },
   {
    "duration": 7,
    "start_time": "2022-10-30T12:47:25.784Z"
   },
   {
    "duration": 7,
    "start_time": "2022-10-30T12:47:25.792Z"
   },
   {
    "duration": 8,
    "start_time": "2022-10-30T12:47:25.800Z"
   },
   {
    "duration": 9,
    "start_time": "2022-10-30T12:47:25.810Z"
   },
   {
    "duration": 7,
    "start_time": "2022-10-30T12:47:25.820Z"
   },
   {
    "duration": 53,
    "start_time": "2022-10-30T12:47:25.828Z"
   },
   {
    "duration": 7,
    "start_time": "2022-10-30T12:47:25.883Z"
   },
   {
    "duration": 6,
    "start_time": "2022-10-30T12:47:25.892Z"
   },
   {
    "duration": 47,
    "start_time": "2022-10-30T12:47:25.900Z"
   },
   {
    "duration": 42,
    "start_time": "2022-10-30T12:47:25.949Z"
   },
   {
    "duration": 16,
    "start_time": "2022-10-30T12:47:25.993Z"
   },
   {
    "duration": 28,
    "start_time": "2022-10-30T12:48:08.078Z"
   },
   {
    "duration": 8,
    "start_time": "2022-10-30T13:01:30.794Z"
   },
   {
    "duration": 9,
    "start_time": "2022-10-30T13:02:10.165Z"
   },
   {
    "duration": 28,
    "start_time": "2022-10-30T13:02:36.074Z"
   },
   {
    "duration": 29,
    "start_time": "2022-10-30T13:06:39.912Z"
   },
   {
    "duration": 26,
    "start_time": "2022-10-30T13:10:43.161Z"
   },
   {
    "duration": 25,
    "start_time": "2022-10-30T13:15:26.031Z"
   },
   {
    "duration": 27,
    "start_time": "2022-10-30T13:29:22.166Z"
   },
   {
    "duration": 78,
    "start_time": "2022-10-30T13:31:08.595Z"
   },
   {
    "duration": 116,
    "start_time": "2022-10-30T13:31:57.365Z"
   },
   {
    "duration": 13,
    "start_time": "2022-10-30T13:31:57.483Z"
   },
   {
    "duration": 1856,
    "start_time": "2022-10-30T13:31:57.497Z"
   },
   {
    "duration": 5,
    "start_time": "2022-10-30T13:31:59.355Z"
   },
   {
    "duration": 18,
    "start_time": "2022-10-30T13:31:59.362Z"
   },
   {
    "duration": 16,
    "start_time": "2022-10-30T13:31:59.381Z"
   },
   {
    "duration": 32,
    "start_time": "2022-10-30T13:31:59.398Z"
   },
   {
    "duration": 11,
    "start_time": "2022-10-30T13:31:59.431Z"
   },
   {
    "duration": 36,
    "start_time": "2022-10-30T13:31:59.444Z"
   },
   {
    "duration": 19,
    "start_time": "2022-10-30T13:31:59.481Z"
   },
   {
    "duration": 17,
    "start_time": "2022-10-30T13:31:59.501Z"
   },
   {
    "duration": 6,
    "start_time": "2022-10-30T13:31:59.519Z"
   },
   {
    "duration": 9,
    "start_time": "2022-10-30T13:31:59.527Z"
   },
   {
    "duration": 9,
    "start_time": "2022-10-30T13:31:59.538Z"
   },
   {
    "duration": 28,
    "start_time": "2022-10-30T13:31:59.549Z"
   },
   {
    "duration": 6,
    "start_time": "2022-10-30T13:31:59.579Z"
   },
   {
    "duration": 5,
    "start_time": "2022-10-30T13:31:59.586Z"
   },
   {
    "duration": 10,
    "start_time": "2022-10-30T13:31:59.592Z"
   },
   {
    "duration": 7,
    "start_time": "2022-10-30T13:31:59.603Z"
   },
   {
    "duration": 5,
    "start_time": "2022-10-30T13:31:59.612Z"
   },
   {
    "duration": 24,
    "start_time": "2022-10-30T13:31:59.618Z"
   },
   {
    "duration": 36,
    "start_time": "2022-10-30T13:31:59.643Z"
   },
   {
    "duration": 6,
    "start_time": "2022-10-30T13:31:59.681Z"
   },
   {
    "duration": 48,
    "start_time": "2022-10-30T13:31:59.690Z"
   },
   {
    "duration": 15,
    "start_time": "2022-10-30T13:31:59.739Z"
   },
   {
    "duration": 29,
    "start_time": "2022-10-30T13:31:59.756Z"
   },
   {
    "duration": 24,
    "start_time": "2022-10-30T13:31:59.786Z"
   },
   {
    "duration": 25,
    "start_time": "2022-10-30T13:31:59.811Z"
   },
   {
    "duration": 46,
    "start_time": "2022-10-30T13:31:59.837Z"
   },
   {
    "duration": 24,
    "start_time": "2022-10-30T13:31:59.884Z"
   },
   {
    "duration": 34,
    "start_time": "2022-10-30T13:32:10.685Z"
   },
   {
    "duration": 9,
    "start_time": "2022-10-30T13:33:43.794Z"
   },
   {
    "duration": 116,
    "start_time": "2022-10-30T13:34:11.404Z"
   },
   {
    "duration": 15,
    "start_time": "2022-10-30T13:34:11.522Z"
   },
   {
    "duration": 1853,
    "start_time": "2022-10-30T13:34:11.539Z"
   },
   {
    "duration": 5,
    "start_time": "2022-10-30T13:34:13.394Z"
   },
   {
    "duration": 13,
    "start_time": "2022-10-30T13:34:13.401Z"
   },
   {
    "duration": 15,
    "start_time": "2022-10-30T13:34:13.415Z"
   },
   {
    "duration": 57,
    "start_time": "2022-10-30T13:34:13.432Z"
   },
   {
    "duration": 11,
    "start_time": "2022-10-30T13:34:13.491Z"
   },
   {
    "duration": 14,
    "start_time": "2022-10-30T13:34:13.503Z"
   },
   {
    "duration": 18,
    "start_time": "2022-10-30T13:34:13.519Z"
   },
   {
    "duration": 43,
    "start_time": "2022-10-30T13:34:13.539Z"
   },
   {
    "duration": 5,
    "start_time": "2022-10-30T13:34:13.584Z"
   },
   {
    "duration": 5,
    "start_time": "2022-10-30T13:34:13.591Z"
   },
   {
    "duration": 14,
    "start_time": "2022-10-30T13:34:13.597Z"
   },
   {
    "duration": 7,
    "start_time": "2022-10-30T13:34:13.612Z"
   },
   {
    "duration": 7,
    "start_time": "2022-10-30T13:34:13.620Z"
   },
   {
    "duration": 5,
    "start_time": "2022-10-30T13:34:13.629Z"
   },
   {
    "duration": 7,
    "start_time": "2022-10-30T13:34:13.635Z"
   },
   {
    "duration": 34,
    "start_time": "2022-10-30T13:34:13.643Z"
   },
   {
    "duration": 7,
    "start_time": "2022-10-30T13:34:13.678Z"
   },
   {
    "duration": 15,
    "start_time": "2022-10-30T13:34:13.687Z"
   },
   {
    "duration": 7,
    "start_time": "2022-10-30T13:34:13.703Z"
   },
   {
    "duration": 15,
    "start_time": "2022-10-30T13:34:13.711Z"
   },
   {
    "duration": 76,
    "start_time": "2022-10-30T13:34:13.728Z"
   },
   {
    "duration": 16,
    "start_time": "2022-10-30T13:34:13.806Z"
   },
   {
    "duration": 13,
    "start_time": "2022-10-30T13:34:13.823Z"
   },
   {
    "duration": 49,
    "start_time": "2022-10-30T13:34:13.837Z"
   },
   {
    "duration": 27,
    "start_time": "2022-10-30T13:34:13.890Z"
   },
   {
    "duration": 26,
    "start_time": "2022-10-30T13:34:13.918Z"
   },
   {
    "duration": 46,
    "start_time": "2022-10-30T13:34:13.946Z"
   },
   {
    "duration": 30,
    "start_time": "2022-10-30T13:34:22.104Z"
   },
   {
    "duration": 31,
    "start_time": "2022-10-30T13:35:00.715Z"
   },
   {
    "duration": 115,
    "start_time": "2022-10-30T13:35:34.364Z"
   },
   {
    "duration": 16,
    "start_time": "2022-10-30T13:35:34.481Z"
   },
   {
    "duration": 2687,
    "start_time": "2022-10-30T13:35:34.499Z"
   },
   {
    "duration": 5,
    "start_time": "2022-10-30T13:35:37.188Z"
   },
   {
    "duration": 23,
    "start_time": "2022-10-30T13:35:37.195Z"
   },
   {
    "duration": 28,
    "start_time": "2022-10-30T13:35:37.220Z"
   },
   {
    "duration": 46,
    "start_time": "2022-10-30T13:35:37.250Z"
   },
   {
    "duration": 12,
    "start_time": "2022-10-30T13:35:37.297Z"
   },
   {
    "duration": 24,
    "start_time": "2022-10-30T13:35:37.310Z"
   },
   {
    "duration": 42,
    "start_time": "2022-10-30T13:35:37.336Z"
   },
   {
    "duration": 27,
    "start_time": "2022-10-30T13:35:37.380Z"
   },
   {
    "duration": 18,
    "start_time": "2022-10-30T13:35:37.408Z"
   },
   {
    "duration": 33,
    "start_time": "2022-10-30T13:35:37.428Z"
   },
   {
    "duration": 22,
    "start_time": "2022-10-30T13:35:37.464Z"
   },
   {
    "duration": 23,
    "start_time": "2022-10-30T13:35:37.487Z"
   },
   {
    "duration": 15,
    "start_time": "2022-10-30T13:35:37.511Z"
   },
   {
    "duration": 16,
    "start_time": "2022-10-30T13:35:37.527Z"
   },
   {
    "duration": 13,
    "start_time": "2022-10-30T13:35:37.545Z"
   },
   {
    "duration": 15,
    "start_time": "2022-10-30T13:35:37.560Z"
   },
   {
    "duration": 23,
    "start_time": "2022-10-30T13:35:37.577Z"
   },
   {
    "duration": 22,
    "start_time": "2022-10-30T13:35:37.601Z"
   },
   {
    "duration": 7,
    "start_time": "2022-10-30T13:35:37.625Z"
   },
   {
    "duration": 43,
    "start_time": "2022-10-30T13:35:37.633Z"
   },
   {
    "duration": 70,
    "start_time": "2022-10-30T13:35:37.678Z"
   },
   {
    "duration": 17,
    "start_time": "2022-10-30T13:35:37.750Z"
   },
   {
    "duration": 18,
    "start_time": "2022-10-30T13:35:37.769Z"
   },
   {
    "duration": 31,
    "start_time": "2022-10-30T13:35:37.789Z"
   },
   {
    "duration": 28,
    "start_time": "2022-10-30T13:35:37.821Z"
   },
   {
    "duration": 38,
    "start_time": "2022-10-30T13:35:37.851Z"
   },
   {
    "duration": 23,
    "start_time": "2022-10-30T13:35:37.891Z"
   },
   {
    "duration": 14,
    "start_time": "2022-10-30T13:35:37.916Z"
   },
   {
    "duration": 70,
    "start_time": "2022-10-30T13:35:37.931Z"
   },
   {
    "duration": 39,
    "start_time": "2022-10-30T13:44:44.592Z"
   },
   {
    "duration": 111,
    "start_time": "2022-10-30T13:47:59.900Z"
   },
   {
    "duration": 14,
    "start_time": "2022-10-30T13:48:00.012Z"
   },
   {
    "duration": 1897,
    "start_time": "2022-10-30T13:48:00.028Z"
   },
   {
    "duration": 5,
    "start_time": "2022-10-30T13:48:01.926Z"
   },
   {
    "duration": 22,
    "start_time": "2022-10-30T13:48:01.934Z"
   },
   {
    "duration": 20,
    "start_time": "2022-10-30T13:48:01.957Z"
   },
   {
    "duration": 33,
    "start_time": "2022-10-30T13:48:01.979Z"
   },
   {
    "duration": 11,
    "start_time": "2022-10-30T13:48:02.013Z"
   },
   {
    "duration": 14,
    "start_time": "2022-10-30T13:48:02.025Z"
   },
   {
    "duration": 43,
    "start_time": "2022-10-30T13:48:02.040Z"
   },
   {
    "duration": 17,
    "start_time": "2022-10-30T13:48:02.085Z"
   },
   {
    "duration": 13,
    "start_time": "2022-10-30T13:48:02.103Z"
   },
   {
    "duration": 7,
    "start_time": "2022-10-30T13:48:02.118Z"
   },
   {
    "duration": 12,
    "start_time": "2022-10-30T13:48:02.128Z"
   },
   {
    "duration": 20,
    "start_time": "2022-10-30T13:48:02.141Z"
   },
   {
    "duration": 27,
    "start_time": "2022-10-30T13:48:02.163Z"
   },
   {
    "duration": 11,
    "start_time": "2022-10-30T13:48:02.192Z"
   },
   {
    "duration": 10,
    "start_time": "2022-10-30T13:48:02.205Z"
   },
   {
    "duration": 8,
    "start_time": "2022-10-30T13:48:02.216Z"
   },
   {
    "duration": 5,
    "start_time": "2022-10-30T13:48:02.226Z"
   },
   {
    "duration": 28,
    "start_time": "2022-10-30T13:48:02.232Z"
   },
   {
    "duration": 6,
    "start_time": "2022-10-30T13:48:02.262Z"
   },
   {
    "duration": 11,
    "start_time": "2022-10-30T13:48:02.270Z"
   },
   {
    "duration": 51,
    "start_time": "2022-10-30T13:48:02.283Z"
   },
   {
    "duration": 16,
    "start_time": "2022-10-30T13:48:02.336Z"
   },
   {
    "duration": 25,
    "start_time": "2022-10-30T13:48:02.353Z"
   },
   {
    "duration": 24,
    "start_time": "2022-10-30T13:48:02.379Z"
   },
   {
    "duration": 25,
    "start_time": "2022-10-30T13:48:02.405Z"
   },
   {
    "duration": 45,
    "start_time": "2022-10-30T13:48:02.431Z"
   },
   {
    "duration": 25,
    "start_time": "2022-10-30T13:48:02.478Z"
   },
   {
    "duration": 7,
    "start_time": "2022-10-30T13:48:02.504Z"
   },
   {
    "duration": 27,
    "start_time": "2022-10-30T13:48:02.513Z"
   },
   {
    "duration": 16,
    "start_time": "2022-10-30T13:48:35.220Z"
   },
   {
    "duration": 14,
    "start_time": "2022-10-30T13:48:54.470Z"
   },
   {
    "duration": 26,
    "start_time": "2022-10-30T13:49:06.070Z"
   },
   {
    "duration": 11,
    "start_time": "2022-10-30T13:49:22.470Z"
   },
   {
    "duration": 135,
    "start_time": "2022-10-30T13:54:41.374Z"
   },
   {
    "duration": 129,
    "start_time": "2022-10-30T13:56:11.258Z"
   },
   {
    "duration": 141,
    "start_time": "2022-10-30T13:56:57.537Z"
   },
   {
    "duration": 191,
    "start_time": "2022-10-30T13:57:55.188Z"
   },
   {
    "duration": 9,
    "start_time": "2022-10-30T14:04:26.941Z"
   },
   {
    "duration": 8,
    "start_time": "2022-10-30T14:04:40.765Z"
   },
   {
    "duration": 8,
    "start_time": "2022-10-30T14:04:46.875Z"
   },
   {
    "duration": 3,
    "start_time": "2022-10-30T14:05:34.796Z"
   },
   {
    "duration": 120,
    "start_time": "2022-10-30T14:12:02.692Z"
   },
   {
    "duration": 14,
    "start_time": "2022-10-30T14:12:02.814Z"
   },
   {
    "duration": 1918,
    "start_time": "2022-10-30T14:12:02.830Z"
   },
   {
    "duration": 5,
    "start_time": "2022-10-30T14:12:04.751Z"
   },
   {
    "duration": 22,
    "start_time": "2022-10-30T14:12:04.757Z"
   },
   {
    "duration": 15,
    "start_time": "2022-10-30T14:12:04.780Z"
   },
   {
    "duration": 34,
    "start_time": "2022-10-30T14:12:04.796Z"
   },
   {
    "duration": 11,
    "start_time": "2022-10-30T14:12:04.831Z"
   },
   {
    "duration": 40,
    "start_time": "2022-10-30T14:12:04.843Z"
   },
   {
    "duration": 20,
    "start_time": "2022-10-30T14:12:04.888Z"
   },
   {
    "duration": 26,
    "start_time": "2022-10-30T14:12:04.910Z"
   },
   {
    "duration": 6,
    "start_time": "2022-10-30T14:12:04.938Z"
   },
   {
    "duration": 31,
    "start_time": "2022-10-30T14:12:04.946Z"
   },
   {
    "duration": 11,
    "start_time": "2022-10-30T14:12:04.978Z"
   },
   {
    "duration": 8,
    "start_time": "2022-10-30T14:12:04.991Z"
   },
   {
    "duration": 8,
    "start_time": "2022-10-30T14:12:05.000Z"
   },
   {
    "duration": 12,
    "start_time": "2022-10-30T14:12:05.010Z"
   },
   {
    "duration": 21,
    "start_time": "2022-10-30T14:12:05.024Z"
   },
   {
    "duration": 10,
    "start_time": "2022-10-30T14:12:05.046Z"
   },
   {
    "duration": 41,
    "start_time": "2022-10-30T14:12:05.057Z"
   },
   {
    "duration": 19,
    "start_time": "2022-10-30T14:12:05.100Z"
   },
   {
    "duration": 6,
    "start_time": "2022-10-30T14:12:05.121Z"
   },
   {
    "duration": 15,
    "start_time": "2022-10-30T14:12:05.128Z"
   },
   {
    "duration": 69,
    "start_time": "2022-10-30T14:12:05.145Z"
   },
   {
    "duration": 19,
    "start_time": "2022-10-30T14:12:05.215Z"
   },
   {
    "duration": 30,
    "start_time": "2022-10-30T14:12:05.236Z"
   },
   {
    "duration": 38,
    "start_time": "2022-10-30T14:12:05.268Z"
   },
   {
    "duration": 33,
    "start_time": "2022-10-30T14:12:05.312Z"
   },
   {
    "duration": 52,
    "start_time": "2022-10-30T14:12:05.347Z"
   },
   {
    "duration": 26,
    "start_time": "2022-10-30T14:12:05.401Z"
   },
   {
    "duration": 7,
    "start_time": "2022-10-30T14:12:05.428Z"
   },
   {
    "duration": 45,
    "start_time": "2022-10-30T14:12:05.437Z"
   },
   {
    "duration": 30,
    "start_time": "2022-10-30T14:12:05.484Z"
   },
   {
    "duration": 179,
    "start_time": "2022-10-30T14:12:05.515Z"
   },
   {
    "duration": 149,
    "start_time": "2022-10-30T14:12:05.695Z"
   },
   {
    "duration": 133,
    "start_time": "2022-10-30T14:12:05.845Z"
   },
   {
    "duration": 182,
    "start_time": "2022-10-30T14:12:05.979Z"
   },
   {
    "duration": 143,
    "start_time": "2022-10-30T14:12:06.162Z"
   },
   {
    "duration": 177,
    "start_time": "2022-10-30T14:12:06.306Z"
   },
   {
    "duration": 160,
    "start_time": "2022-10-30T14:12:06.486Z"
   },
   {
    "duration": 15,
    "start_time": "2022-10-30T14:12:06.647Z"
   },
   {
    "duration": 0,
    "start_time": "2022-10-30T14:12:06.664Z"
   },
   {
    "duration": 0,
    "start_time": "2022-10-30T14:12:06.665Z"
   },
   {
    "duration": 0,
    "start_time": "2022-10-30T14:12:06.677Z"
   },
   {
    "duration": 0,
    "start_time": "2022-10-30T14:12:06.678Z"
   },
   {
    "duration": 0,
    "start_time": "2022-10-30T14:12:06.679Z"
   },
   {
    "duration": 0,
    "start_time": "2022-10-30T14:12:06.680Z"
   },
   {
    "duration": 154,
    "start_time": "2022-10-30T14:16:12.662Z"
   },
   {
    "duration": 154,
    "start_time": "2022-10-30T14:16:44.472Z"
   },
   {
    "duration": 155,
    "start_time": "2022-10-30T14:16:50.771Z"
   },
   {
    "duration": 149,
    "start_time": "2022-10-30T14:16:57.012Z"
   },
   {
    "duration": 137,
    "start_time": "2022-10-30T14:17:01.282Z"
   },
   {
    "duration": 139,
    "start_time": "2022-10-30T14:17:05.601Z"
   },
   {
    "duration": 127,
    "start_time": "2022-10-30T14:17:10.202Z"
   },
   {
    "duration": 547,
    "start_time": "2022-10-31T11:21:13.545Z"
   },
   {
    "duration": 15,
    "start_time": "2022-10-31T11:21:14.094Z"
   },
   {
    "duration": 2461,
    "start_time": "2022-10-31T11:21:14.111Z"
   },
   {
    "duration": 9,
    "start_time": "2022-10-31T11:21:16.574Z"
   },
   {
    "duration": 15,
    "start_time": "2022-10-31T11:21:16.587Z"
   },
   {
    "duration": 26,
    "start_time": "2022-10-31T11:21:16.604Z"
   },
   {
    "duration": 68,
    "start_time": "2022-10-31T11:21:16.632Z"
   },
   {
    "duration": 17,
    "start_time": "2022-10-31T11:21:16.702Z"
   },
   {
    "duration": 20,
    "start_time": "2022-10-31T11:21:16.722Z"
   },
   {
    "duration": 57,
    "start_time": "2022-10-31T11:21:16.744Z"
   },
   {
    "duration": 26,
    "start_time": "2022-10-31T11:21:16.804Z"
   },
   {
    "duration": 7,
    "start_time": "2022-10-31T11:21:16.832Z"
   },
   {
    "duration": 5,
    "start_time": "2022-10-31T11:21:16.841Z"
   },
   {
    "duration": 11,
    "start_time": "2022-10-31T11:21:16.850Z"
   },
   {
    "duration": 36,
    "start_time": "2022-10-31T11:21:16.863Z"
   },
   {
    "duration": 7,
    "start_time": "2022-10-31T11:21:16.901Z"
   },
   {
    "duration": 7,
    "start_time": "2022-10-31T11:21:16.910Z"
   },
   {
    "duration": 8,
    "start_time": "2022-10-31T11:21:16.918Z"
   },
   {
    "duration": 11,
    "start_time": "2022-10-31T11:21:16.928Z"
   },
   {
    "duration": 8,
    "start_time": "2022-10-31T11:21:16.941Z"
   },
   {
    "duration": 23,
    "start_time": "2022-10-31T11:21:16.992Z"
   },
   {
    "duration": 9,
    "start_time": "2022-10-31T11:21:17.017Z"
   },
   {
    "duration": 7,
    "start_time": "2022-10-31T11:21:17.028Z"
   },
   {
    "duration": 88,
    "start_time": "2022-10-31T11:21:17.036Z"
   },
   {
    "duration": 19,
    "start_time": "2022-10-31T11:21:17.126Z"
   },
   {
    "duration": 16,
    "start_time": "2022-10-31T11:21:17.147Z"
   },
   {
    "duration": 53,
    "start_time": "2022-10-31T11:21:17.165Z"
   },
   {
    "duration": 30,
    "start_time": "2022-10-31T11:21:17.220Z"
   },
   {
    "duration": 58,
    "start_time": "2022-10-31T11:21:17.252Z"
   },
   {
    "duration": 27,
    "start_time": "2022-10-31T11:21:17.311Z"
   },
   {
    "duration": 8,
    "start_time": "2022-10-31T11:21:17.340Z"
   },
   {
    "duration": 56,
    "start_time": "2022-10-31T11:21:17.350Z"
   },
   {
    "duration": 40,
    "start_time": "2022-10-31T11:21:17.409Z"
   },
   {
    "duration": 181,
    "start_time": "2022-10-31T11:21:17.452Z"
   },
   {
    "duration": 161,
    "start_time": "2022-10-31T11:21:17.635Z"
   },
   {
    "duration": 168,
    "start_time": "2022-10-31T11:21:17.798Z"
   },
   {
    "duration": 179,
    "start_time": "2022-10-31T11:21:17.968Z"
   },
   {
    "duration": 222,
    "start_time": "2022-10-31T11:21:18.149Z"
   },
   {
    "duration": 190,
    "start_time": "2022-10-31T11:21:18.373Z"
   },
   {
    "duration": 167,
    "start_time": "2022-10-31T11:21:18.565Z"
   },
   {
    "duration": 201,
    "start_time": "2022-10-31T11:21:18.736Z"
   },
   {
    "duration": 170,
    "start_time": "2022-10-31T11:21:18.939Z"
   },
   {
    "duration": 184,
    "start_time": "2022-10-31T11:21:19.111Z"
   },
   {
    "duration": 167,
    "start_time": "2022-10-31T11:21:19.296Z"
   },
   {
    "duration": 158,
    "start_time": "2022-10-31T11:21:19.464Z"
   },
   {
    "duration": 181,
    "start_time": "2022-10-31T11:21:19.624Z"
   },
   {
    "duration": 147,
    "start_time": "2022-10-31T11:21:19.807Z"
   },
   {
    "duration": 207,
    "start_time": "2022-10-31T11:21:58.010Z"
   },
   {
    "duration": 354,
    "start_time": "2022-10-31T11:22:09.091Z"
   },
   {
    "duration": 171,
    "start_time": "2022-10-31T11:22:31.985Z"
   },
   {
    "duration": 148,
    "start_time": "2022-10-31T11:22:45.173Z"
   },
   {
    "duration": 150,
    "start_time": "2022-10-31T11:23:30.321Z"
   },
   {
    "duration": 1457,
    "start_time": "2022-10-31T11:24:27.824Z"
   },
   {
    "duration": 266,
    "start_time": "2022-10-31T11:25:19.362Z"
   },
   {
    "duration": 164,
    "start_time": "2022-10-31T11:26:59.422Z"
   },
   {
    "duration": 203,
    "start_time": "2022-10-31T11:27:31.344Z"
   },
   {
    "duration": 13863,
    "start_time": "2022-10-31T11:27:54.075Z"
   },
   {
    "duration": 265,
    "start_time": "2022-10-31T11:28:21.094Z"
   },
   {
    "duration": 76,
    "start_time": "2022-10-31T11:30:53.014Z"
   },
   {
    "duration": 146,
    "start_time": "2022-10-31T11:31:08.933Z"
   },
   {
    "duration": 143,
    "start_time": "2022-10-31T11:31:20.830Z"
   },
   {
    "duration": 689,
    "start_time": "2022-10-31T11:31:32.381Z"
   },
   {
    "duration": 149,
    "start_time": "2022-10-31T11:32:06.833Z"
   },
   {
    "duration": 152,
    "start_time": "2022-10-31T11:32:19.191Z"
   },
   {
    "duration": 6,
    "start_time": "2022-10-31T11:42:03.802Z"
   },
   {
    "duration": 70,
    "start_time": "2022-10-31T11:42:45.458Z"
   },
   {
    "duration": 105,
    "start_time": "2022-10-31T11:43:00.931Z"
   },
   {
    "duration": 135,
    "start_time": "2022-10-31T11:52:45.733Z"
   },
   {
    "duration": 146,
    "start_time": "2022-10-31T11:53:00.585Z"
   },
   {
    "duration": 140,
    "start_time": "2022-10-31T11:53:12.242Z"
   },
   {
    "duration": 156,
    "start_time": "2022-10-31T11:57:01.714Z"
   },
   {
    "duration": 6,
    "start_time": "2022-10-31T13:28:25.419Z"
   },
   {
    "duration": 6,
    "start_time": "2022-10-31T13:28:57.751Z"
   },
   {
    "duration": 7,
    "start_time": "2022-10-31T13:34:38.902Z"
   },
   {
    "duration": 165,
    "start_time": "2022-10-31T13:34:53.088Z"
   },
   {
    "duration": 243,
    "start_time": "2022-10-31T13:35:06.621Z"
   },
   {
    "duration": 261,
    "start_time": "2022-10-31T13:35:25.949Z"
   },
   {
    "duration": 258,
    "start_time": "2022-10-31T13:36:06.478Z"
   },
   {
    "duration": 4,
    "start_time": "2022-10-31T13:55:28.479Z"
   },
   {
    "duration": 100,
    "start_time": "2022-10-31T13:59:10.156Z"
   },
   {
    "duration": 1101,
    "start_time": "2022-10-31T13:59:39.156Z"
   },
   {
    "duration": 1490,
    "start_time": "2022-10-31T13:59:49.753Z"
   },
   {
    "duration": 1165,
    "start_time": "2022-10-31T14:00:21.807Z"
   },
   {
    "duration": 1187,
    "start_time": "2022-10-31T14:03:46.477Z"
   },
   {
    "duration": 5,
    "start_time": "2022-10-31T14:04:16.446Z"
   },
   {
    "duration": 7,
    "start_time": "2022-10-31T14:07:24.912Z"
   },
   {
    "duration": 55,
    "start_time": "2022-10-31T14:07:33.091Z"
   },
   {
    "duration": 27,
    "start_time": "2022-10-31T14:09:00.294Z"
   },
   {
    "duration": 70,
    "start_time": "2022-10-31T14:11:28.982Z"
   },
   {
    "duration": 74,
    "start_time": "2022-10-31T14:11:53.879Z"
   },
   {
    "duration": 218,
    "start_time": "2022-10-31T14:17:57.867Z"
   },
   {
    "duration": 229,
    "start_time": "2022-10-31T14:18:52.884Z"
   },
   {
    "duration": 187,
    "start_time": "2022-10-31T14:24:47.380Z"
   },
   {
    "duration": 194,
    "start_time": "2022-10-31T14:25:36.856Z"
   },
   {
    "duration": 191,
    "start_time": "2022-10-31T14:26:09.336Z"
   },
   {
    "duration": 185,
    "start_time": "2022-10-31T14:30:21.548Z"
   },
   {
    "duration": 244,
    "start_time": "2022-10-31T14:33:16.707Z"
   },
   {
    "duration": 205,
    "start_time": "2022-10-31T14:33:28.707Z"
   },
   {
    "duration": 190,
    "start_time": "2022-10-31T14:33:41.708Z"
   },
   {
    "duration": 195,
    "start_time": "2022-10-31T14:36:12.963Z"
   },
   {
    "duration": 187,
    "start_time": "2022-10-31T14:40:02.545Z"
   },
   {
    "duration": 170,
    "start_time": "2022-10-31T14:44:48.221Z"
   },
   {
    "duration": 162174,
    "start_time": "2022-10-31T14:48:06.265Z"
   },
   {
    "duration": 187,
    "start_time": "2022-10-31T14:51:24.161Z"
   },
   {
    "duration": 190,
    "start_time": "2022-10-31T14:56:19.722Z"
   },
   {
    "duration": 175,
    "start_time": "2022-10-31T14:58:00.700Z"
   },
   {
    "duration": 25,
    "start_time": "2022-10-31T14:58:55.932Z"
   },
   {
    "duration": 192,
    "start_time": "2022-10-31T14:59:59.554Z"
   },
   {
    "duration": 182,
    "start_time": "2022-10-31T15:00:53.760Z"
   },
   {
    "duration": 202,
    "start_time": "2022-10-31T15:04:28.554Z"
   },
   {
    "duration": 201,
    "start_time": "2022-10-31T15:05:37.865Z"
   },
   {
    "duration": 166,
    "start_time": "2022-10-31T15:07:52.484Z"
   },
   {
    "duration": 165,
    "start_time": "2022-10-31T15:09:07.658Z"
   },
   {
    "duration": 185,
    "start_time": "2022-10-31T15:10:54.055Z"
   },
   {
    "duration": 205,
    "start_time": "2022-10-31T15:12:35.252Z"
   },
   {
    "duration": 328,
    "start_time": "2022-10-31T15:17:50.155Z"
   },
   {
    "duration": 183,
    "start_time": "2022-10-31T15:19:05.111Z"
   },
   {
    "duration": 183,
    "start_time": "2022-10-31T15:20:40.739Z"
   },
   {
    "duration": 220,
    "start_time": "2022-10-31T15:20:46.671Z"
   },
   {
    "duration": 197,
    "start_time": "2022-10-31T15:21:30.150Z"
   },
   {
    "duration": 167,
    "start_time": "2022-10-31T15:22:12.047Z"
   },
   {
    "duration": 183,
    "start_time": "2022-10-31T15:25:39.310Z"
   },
   {
    "duration": 81,
    "start_time": "2022-10-31T15:27:43.632Z"
   },
   {
    "duration": 4,
    "start_time": "2022-10-31T15:40:27.444Z"
   },
   {
    "duration": 8,
    "start_time": "2022-10-31T15:41:05.736Z"
   },
   {
    "duration": 7,
    "start_time": "2022-10-31T15:41:28.339Z"
   },
   {
    "duration": 17,
    "start_time": "2022-10-31T15:45:13.675Z"
   },
   {
    "duration": 4,
    "start_time": "2022-10-31T15:48:07.402Z"
   },
   {
    "duration": 14,
    "start_time": "2022-10-31T15:48:25.740Z"
   },
   {
    "duration": 8,
    "start_time": "2022-10-31T15:52:46.773Z"
   },
   {
    "duration": 8,
    "start_time": "2022-10-31T15:52:59.102Z"
   },
   {
    "duration": 40,
    "start_time": "2022-10-31T15:57:00.961Z"
   },
   {
    "duration": 13,
    "start_time": "2022-10-31T16:01:45.577Z"
   },
   {
    "duration": 14,
    "start_time": "2022-10-31T16:05:23.053Z"
   },
   {
    "duration": 13,
    "start_time": "2022-10-31T16:05:55.265Z"
   },
   {
    "duration": 15,
    "start_time": "2022-10-31T16:06:24.406Z"
   },
   {
    "duration": 5,
    "start_time": "2022-10-31T16:17:22.681Z"
   },
   {
    "duration": 44,
    "start_time": "2022-10-31T16:31:20.274Z"
   },
   {
    "duration": 19,
    "start_time": "2022-10-31T16:31:57.330Z"
   },
   {
    "duration": 26,
    "start_time": "2022-10-31T16:33:16.740Z"
   },
   {
    "duration": 22,
    "start_time": "2022-10-31T16:37:08.219Z"
   },
   {
    "duration": 1217,
    "start_time": "2022-10-31T16:39:28.246Z"
   },
   {
    "duration": 21,
    "start_time": "2022-10-31T16:39:40.586Z"
   },
   {
    "duration": 1303,
    "start_time": "2022-10-31T16:39:52.496Z"
   },
   {
    "duration": 1080,
    "start_time": "2022-10-31T16:40:47.066Z"
   },
   {
    "duration": 365,
    "start_time": "2022-10-31T16:41:28.540Z"
   },
   {
    "duration": 291,
    "start_time": "2022-10-31T16:45:50.644Z"
   },
   {
    "duration": 563,
    "start_time": "2022-10-31T17:33:04.237Z"
   },
   {
    "duration": 17,
    "start_time": "2022-10-31T17:33:04.802Z"
   },
   {
    "duration": 2310,
    "start_time": "2022-10-31T17:33:04.821Z"
   },
   {
    "duration": 8,
    "start_time": "2022-10-31T17:33:07.133Z"
   },
   {
    "duration": 20,
    "start_time": "2022-10-31T17:33:07.142Z"
   },
   {
    "duration": 15,
    "start_time": "2022-10-31T17:33:07.164Z"
   },
   {
    "duration": 35,
    "start_time": "2022-10-31T17:33:07.180Z"
   },
   {
    "duration": 10,
    "start_time": "2022-10-31T17:33:07.216Z"
   },
   {
    "duration": 16,
    "start_time": "2022-10-31T17:33:07.254Z"
   },
   {
    "duration": 26,
    "start_time": "2022-10-31T17:33:07.274Z"
   },
   {
    "duration": 21,
    "start_time": "2022-10-31T17:33:07.302Z"
   },
   {
    "duration": 40,
    "start_time": "2022-10-31T17:33:07.325Z"
   },
   {
    "duration": 16,
    "start_time": "2022-10-31T17:33:07.368Z"
   },
   {
    "duration": 34,
    "start_time": "2022-10-31T17:33:07.387Z"
   },
   {
    "duration": 13,
    "start_time": "2022-10-31T17:33:07.423Z"
   },
   {
    "duration": 19,
    "start_time": "2022-10-31T17:33:07.438Z"
   },
   {
    "duration": 6,
    "start_time": "2022-10-31T17:33:07.459Z"
   },
   {
    "duration": 9,
    "start_time": "2022-10-31T17:33:07.467Z"
   },
   {
    "duration": 11,
    "start_time": "2022-10-31T17:33:07.478Z"
   },
   {
    "duration": 7,
    "start_time": "2022-10-31T17:33:07.491Z"
   },
   {
    "duration": 19,
    "start_time": "2022-10-31T17:33:07.501Z"
   },
   {
    "duration": 7,
    "start_time": "2022-10-31T17:33:07.555Z"
   },
   {
    "duration": 9,
    "start_time": "2022-10-31T17:33:07.564Z"
   },
   {
    "duration": 50,
    "start_time": "2022-10-31T17:33:07.574Z"
   },
   {
    "duration": 36,
    "start_time": "2022-10-31T17:33:07.626Z"
   },
   {
    "duration": 13,
    "start_time": "2022-10-31T17:33:07.664Z"
   },
   {
    "duration": 27,
    "start_time": "2022-10-31T17:33:07.678Z"
   },
   {
    "duration": 49,
    "start_time": "2022-10-31T17:33:07.708Z"
   },
   {
    "duration": 28,
    "start_time": "2022-10-31T17:33:07.759Z"
   },
   {
    "duration": 24,
    "start_time": "2022-10-31T17:33:07.789Z"
   },
   {
    "duration": 6,
    "start_time": "2022-10-31T17:33:07.815Z"
   },
   {
    "duration": 53,
    "start_time": "2022-10-31T17:33:07.822Z"
   },
   {
    "duration": 24,
    "start_time": "2022-10-31T17:33:07.876Z"
   },
   {
    "duration": 160,
    "start_time": "2022-10-31T17:33:07.901Z"
   },
   {
    "duration": 163,
    "start_time": "2022-10-31T17:33:08.063Z"
   },
   {
    "duration": 160,
    "start_time": "2022-10-31T17:33:08.228Z"
   },
   {
    "duration": 282,
    "start_time": "2022-10-31T17:33:08.390Z"
   },
   {
    "duration": 248,
    "start_time": "2022-10-31T17:33:08.674Z"
   },
   {
    "duration": 197,
    "start_time": "2022-10-31T17:33:08.925Z"
   },
   {
    "duration": 161,
    "start_time": "2022-10-31T17:33:09.124Z"
   },
   {
    "duration": 123,
    "start_time": "2022-10-31T17:33:09.287Z"
   },
   {
    "duration": 163,
    "start_time": "2022-10-31T17:33:09.412Z"
   },
   {
    "duration": 161,
    "start_time": "2022-10-31T17:33:09.577Z"
   },
   {
    "duration": 169,
    "start_time": "2022-10-31T17:33:09.741Z"
   },
   {
    "duration": 162,
    "start_time": "2022-10-31T17:33:09.912Z"
   },
   {
    "duration": 154,
    "start_time": "2022-10-31T17:33:10.076Z"
   },
   {
    "duration": 172,
    "start_time": "2022-10-31T17:33:10.232Z"
   },
   {
    "duration": 7,
    "start_time": "2022-10-31T17:33:10.406Z"
   },
   {
    "duration": 220,
    "start_time": "2022-10-31T17:33:10.415Z"
   },
   {
    "duration": 226,
    "start_time": "2022-10-31T17:33:10.638Z"
   },
   {
    "duration": 206,
    "start_time": "2022-10-31T17:33:10.866Z"
   },
   {
    "duration": 330,
    "start_time": "2022-10-31T17:33:11.074Z"
   },
   {
    "duration": 260,
    "start_time": "2022-10-31T17:33:11.407Z"
   },
   {
    "duration": 268,
    "start_time": "2022-10-31T17:33:11.669Z"
   },
   {
    "duration": 197,
    "start_time": "2022-10-31T17:33:11.939Z"
   },
   {
    "duration": 185,
    "start_time": "2022-10-31T17:33:12.138Z"
   },
   {
    "duration": 7,
    "start_time": "2022-10-31T17:33:12.325Z"
   },
   {
    "duration": 31,
    "start_time": "2022-10-31T17:33:12.334Z"
   },
   {
    "duration": 29,
    "start_time": "2022-10-31T17:33:12.367Z"
   },
   {
    "duration": 349,
    "start_time": "2022-10-31T17:33:12.398Z"
   },
   {
    "duration": 524,
    "start_time": "2022-10-31T19:22:36.456Z"
   },
   {
    "duration": 15,
    "start_time": "2022-10-31T19:22:36.981Z"
   },
   {
    "duration": 2149,
    "start_time": "2022-10-31T19:22:36.998Z"
   },
   {
    "duration": 8,
    "start_time": "2022-10-31T19:22:39.155Z"
   },
   {
    "duration": 10,
    "start_time": "2022-10-31T19:22:39.165Z"
   },
   {
    "duration": 16,
    "start_time": "2022-10-31T19:22:39.177Z"
   },
   {
    "duration": 60,
    "start_time": "2022-10-31T19:22:39.195Z"
   },
   {
    "duration": 11,
    "start_time": "2022-10-31T19:22:39.257Z"
   },
   {
    "duration": 14,
    "start_time": "2022-10-31T19:22:39.269Z"
   },
   {
    "duration": 23,
    "start_time": "2022-10-31T19:22:39.285Z"
   },
   {
    "duration": 49,
    "start_time": "2022-10-31T19:22:39.309Z"
   },
   {
    "duration": 7,
    "start_time": "2022-10-31T19:22:39.360Z"
   },
   {
    "duration": 5,
    "start_time": "2022-10-31T19:22:39.369Z"
   },
   {
    "duration": 10,
    "start_time": "2022-10-31T19:22:39.375Z"
   },
   {
    "duration": 7,
    "start_time": "2022-10-31T19:22:39.386Z"
   },
   {
    "duration": 22,
    "start_time": "2022-10-31T19:22:39.394Z"
   },
   {
    "duration": 14,
    "start_time": "2022-10-31T19:22:39.418Z"
   },
   {
    "duration": 22,
    "start_time": "2022-10-31T19:22:39.433Z"
   },
   {
    "duration": 9,
    "start_time": "2022-10-31T19:22:39.456Z"
   },
   {
    "duration": 8,
    "start_time": "2022-10-31T19:22:39.467Z"
   },
   {
    "duration": 15,
    "start_time": "2022-10-31T19:22:39.477Z"
   },
   {
    "duration": 7,
    "start_time": "2022-10-31T19:22:39.494Z"
   },
   {
    "duration": 5,
    "start_time": "2022-10-31T19:22:39.502Z"
   },
   {
    "duration": 78,
    "start_time": "2022-10-31T19:22:39.509Z"
   },
   {
    "duration": 15,
    "start_time": "2022-10-31T19:22:39.589Z"
   },
   {
    "duration": 22,
    "start_time": "2022-10-31T19:22:39.606Z"
   },
   {
    "duration": 42,
    "start_time": "2022-10-31T19:22:39.629Z"
   },
   {
    "duration": 27,
    "start_time": "2022-10-31T19:22:39.674Z"
   },
   {
    "duration": 25,
    "start_time": "2022-10-31T19:22:39.702Z"
   },
   {
    "duration": 46,
    "start_time": "2022-10-31T19:22:39.728Z"
   },
   {
    "duration": 7,
    "start_time": "2022-10-31T19:22:39.775Z"
   },
   {
    "duration": 26,
    "start_time": "2022-10-31T19:22:39.783Z"
   },
   {
    "duration": 43,
    "start_time": "2022-10-31T19:22:39.811Z"
   },
   {
    "duration": 140,
    "start_time": "2022-10-31T19:22:39.856Z"
   },
   {
    "duration": 145,
    "start_time": "2022-10-31T19:22:39.997Z"
   },
   {
    "duration": 136,
    "start_time": "2022-10-31T19:22:40.144Z"
   },
   {
    "duration": 255,
    "start_time": "2022-10-31T19:22:40.282Z"
   },
   {
    "duration": 239,
    "start_time": "2022-10-31T19:22:40.538Z"
   },
   {
    "duration": 162,
    "start_time": "2022-10-31T19:22:40.778Z"
   },
   {
    "duration": 148,
    "start_time": "2022-10-31T19:22:40.942Z"
   },
   {
    "duration": 109,
    "start_time": "2022-10-31T19:22:41.091Z"
   },
   {
    "duration": 138,
    "start_time": "2022-10-31T19:22:41.202Z"
   },
   {
    "duration": 194,
    "start_time": "2022-10-31T19:22:41.341Z"
   },
   {
    "duration": 210,
    "start_time": "2022-10-31T19:22:41.537Z"
   },
   {
    "duration": 153,
    "start_time": "2022-10-31T19:22:41.754Z"
   },
   {
    "duration": 145,
    "start_time": "2022-10-31T19:22:41.909Z"
   },
   {
    "duration": 153,
    "start_time": "2022-10-31T19:22:42.055Z"
   },
   {
    "duration": 5,
    "start_time": "2022-10-31T19:22:42.209Z"
   },
   {
    "duration": 202,
    "start_time": "2022-10-31T19:22:42.216Z"
   },
   {
    "duration": 188,
    "start_time": "2022-10-31T19:22:42.419Z"
   },
   {
    "duration": 195,
    "start_time": "2022-10-31T19:22:42.609Z"
   },
   {
    "duration": 287,
    "start_time": "2022-10-31T19:22:42.806Z"
   },
   {
    "duration": 192,
    "start_time": "2022-10-31T19:22:43.095Z"
   },
   {
    "duration": 201,
    "start_time": "2022-10-31T19:22:43.289Z"
   },
   {
    "duration": 183,
    "start_time": "2022-10-31T19:22:43.491Z"
   },
   {
    "duration": 192,
    "start_time": "2022-10-31T19:22:43.676Z"
   },
   {
    "duration": 7,
    "start_time": "2022-10-31T19:22:43.870Z"
   },
   {
    "duration": 19,
    "start_time": "2022-10-31T19:22:43.879Z"
   },
   {
    "duration": 21,
    "start_time": "2022-10-31T19:22:43.900Z"
   },
   {
    "duration": 323,
    "start_time": "2022-10-31T19:22:43.923Z"
   },
   {
    "duration": 14,
    "start_time": "2022-10-31T19:32:20.517Z"
   },
   {
    "duration": 72,
    "start_time": "2022-10-31T19:32:37.777Z"
   },
   {
    "duration": 509,
    "start_time": "2022-10-31T19:32:51.904Z"
   },
   {
    "duration": 15,
    "start_time": "2022-10-31T19:32:52.415Z"
   },
   {
    "duration": 2269,
    "start_time": "2022-10-31T19:32:52.431Z"
   },
   {
    "duration": 7,
    "start_time": "2022-10-31T19:32:54.702Z"
   },
   {
    "duration": 9,
    "start_time": "2022-10-31T19:32:54.711Z"
   },
   {
    "duration": 35,
    "start_time": "2022-10-31T19:32:54.722Z"
   },
   {
    "duration": 34,
    "start_time": "2022-10-31T19:32:54.759Z"
   },
   {
    "duration": 10,
    "start_time": "2022-10-31T19:32:54.795Z"
   },
   {
    "duration": 28,
    "start_time": "2022-10-31T19:32:54.807Z"
   },
   {
    "duration": 36,
    "start_time": "2022-10-31T19:32:54.838Z"
   },
   {
    "duration": 19,
    "start_time": "2022-10-31T19:32:54.876Z"
   },
   {
    "duration": 13,
    "start_time": "2022-10-31T19:32:54.896Z"
   },
   {
    "duration": 7,
    "start_time": "2022-10-31T19:32:54.911Z"
   },
   {
    "duration": 54,
    "start_time": "2022-10-31T19:32:54.919Z"
   },
   {
    "duration": 44,
    "start_time": "2022-10-31T19:32:54.975Z"
   },
   {
    "duration": 9,
    "start_time": "2022-10-31T19:32:55.021Z"
   },
   {
    "duration": 5,
    "start_time": "2022-10-31T19:32:55.032Z"
   },
   {
    "duration": 8,
    "start_time": "2022-10-31T19:32:55.039Z"
   },
   {
    "duration": 11,
    "start_time": "2022-10-31T19:32:55.048Z"
   },
   {
    "duration": 13,
    "start_time": "2022-10-31T19:32:55.060Z"
   },
   {
    "duration": 17,
    "start_time": "2022-10-31T19:32:55.076Z"
   },
   {
    "duration": 8,
    "start_time": "2022-10-31T19:32:55.094Z"
   },
   {
    "duration": 10,
    "start_time": "2022-10-31T19:32:55.104Z"
   },
   {
    "duration": 76,
    "start_time": "2022-10-31T19:32:55.116Z"
   },
   {
    "duration": 16,
    "start_time": "2022-10-31T19:32:55.194Z"
   },
   {
    "duration": 23,
    "start_time": "2022-10-31T19:32:55.212Z"
   },
   {
    "duration": 76,
    "start_time": "2022-10-31T19:32:55.237Z"
   },
   {
    "duration": 0,
    "start_time": "2022-10-31T19:32:55.316Z"
   },
   {
    "duration": 0,
    "start_time": "2022-10-31T19:32:55.317Z"
   },
   {
    "duration": 0,
    "start_time": "2022-10-31T19:32:55.318Z"
   },
   {
    "duration": 0,
    "start_time": "2022-10-31T19:32:55.319Z"
   },
   {
    "duration": 0,
    "start_time": "2022-10-31T19:32:55.320Z"
   },
   {
    "duration": 0,
    "start_time": "2022-10-31T19:32:55.321Z"
   },
   {
    "duration": 0,
    "start_time": "2022-10-31T19:32:55.322Z"
   },
   {
    "duration": 0,
    "start_time": "2022-10-31T19:32:55.323Z"
   },
   {
    "duration": 0,
    "start_time": "2022-10-31T19:32:55.324Z"
   },
   {
    "duration": 0,
    "start_time": "2022-10-31T19:32:55.325Z"
   },
   {
    "duration": 0,
    "start_time": "2022-10-31T19:32:55.326Z"
   },
   {
    "duration": 0,
    "start_time": "2022-10-31T19:32:55.327Z"
   },
   {
    "duration": 0,
    "start_time": "2022-10-31T19:32:55.354Z"
   },
   {
    "duration": 0,
    "start_time": "2022-10-31T19:32:55.355Z"
   },
   {
    "duration": 0,
    "start_time": "2022-10-31T19:32:55.356Z"
   },
   {
    "duration": 0,
    "start_time": "2022-10-31T19:32:55.357Z"
   },
   {
    "duration": 0,
    "start_time": "2022-10-31T19:32:55.358Z"
   },
   {
    "duration": 0,
    "start_time": "2022-10-31T19:32:55.358Z"
   },
   {
    "duration": 0,
    "start_time": "2022-10-31T19:32:55.360Z"
   },
   {
    "duration": 0,
    "start_time": "2022-10-31T19:32:55.361Z"
   },
   {
    "duration": 0,
    "start_time": "2022-10-31T19:32:55.362Z"
   },
   {
    "duration": 0,
    "start_time": "2022-10-31T19:32:55.363Z"
   },
   {
    "duration": 0,
    "start_time": "2022-10-31T19:32:55.364Z"
   },
   {
    "duration": 0,
    "start_time": "2022-10-31T19:32:55.365Z"
   },
   {
    "duration": 0,
    "start_time": "2022-10-31T19:32:55.366Z"
   },
   {
    "duration": 0,
    "start_time": "2022-10-31T19:32:55.367Z"
   },
   {
    "duration": 0,
    "start_time": "2022-10-31T19:32:55.368Z"
   },
   {
    "duration": 0,
    "start_time": "2022-10-31T19:32:55.369Z"
   },
   {
    "duration": 0,
    "start_time": "2022-10-31T19:32:55.369Z"
   },
   {
    "duration": 0,
    "start_time": "2022-10-31T19:32:55.371Z"
   },
   {
    "duration": 0,
    "start_time": "2022-10-31T19:32:55.372Z"
   },
   {
    "duration": 0,
    "start_time": "2022-10-31T19:32:55.373Z"
   },
   {
    "duration": 0,
    "start_time": "2022-10-31T19:32:55.374Z"
   },
   {
    "duration": 0,
    "start_time": "2022-10-31T19:32:55.375Z"
   },
   {
    "duration": 59,
    "start_time": "2022-10-31T19:33:06.871Z"
   },
   {
    "duration": 536,
    "start_time": "2022-10-31T19:33:12.201Z"
   },
   {
    "duration": 16,
    "start_time": "2022-10-31T19:33:12.739Z"
   },
   {
    "duration": 2236,
    "start_time": "2022-10-31T19:33:12.757Z"
   },
   {
    "duration": 8,
    "start_time": "2022-10-31T19:33:14.995Z"
   },
   {
    "duration": 26,
    "start_time": "2022-10-31T19:33:15.004Z"
   },
   {
    "duration": 26,
    "start_time": "2022-10-31T19:33:15.032Z"
   },
   {
    "duration": 36,
    "start_time": "2022-10-31T19:33:15.060Z"
   },
   {
    "duration": 11,
    "start_time": "2022-10-31T19:33:15.097Z"
   },
   {
    "duration": 14,
    "start_time": "2022-10-31T19:33:15.109Z"
   },
   {
    "duration": 47,
    "start_time": "2022-10-31T19:33:15.126Z"
   },
   {
    "duration": 18,
    "start_time": "2022-10-31T19:33:15.175Z"
   },
   {
    "duration": 5,
    "start_time": "2022-10-31T19:33:15.195Z"
   },
   {
    "duration": 5,
    "start_time": "2022-10-31T19:33:15.202Z"
   },
   {
    "duration": 11,
    "start_time": "2022-10-31T19:33:15.209Z"
   },
   {
    "duration": 32,
    "start_time": "2022-10-31T19:33:15.222Z"
   },
   {
    "duration": 8,
    "start_time": "2022-10-31T19:33:15.256Z"
   },
   {
    "duration": 10,
    "start_time": "2022-10-31T19:33:15.265Z"
   },
   {
    "duration": 15,
    "start_time": "2022-10-31T19:33:15.277Z"
   },
   {
    "duration": 11,
    "start_time": "2022-10-31T19:33:15.294Z"
   },
   {
    "duration": 10,
    "start_time": "2022-10-31T19:33:15.307Z"
   },
   {
    "duration": 21,
    "start_time": "2022-10-31T19:33:15.319Z"
   },
   {
    "duration": 17,
    "start_time": "2022-10-31T19:33:15.341Z"
   },
   {
    "duration": 14,
    "start_time": "2022-10-31T19:33:15.360Z"
   },
   {
    "duration": 58,
    "start_time": "2022-10-31T19:33:15.376Z"
   },
   {
    "duration": 19,
    "start_time": "2022-10-31T19:33:15.435Z"
   },
   {
    "duration": 12,
    "start_time": "2022-10-31T19:33:15.455Z"
   },
   {
    "duration": 24,
    "start_time": "2022-10-31T19:33:15.469Z"
   },
   {
    "duration": 28,
    "start_time": "2022-10-31T19:33:15.496Z"
   },
   {
    "duration": 54,
    "start_time": "2022-10-31T19:33:15.526Z"
   },
   {
    "duration": 24,
    "start_time": "2022-10-31T19:33:15.581Z"
   },
   {
    "duration": 6,
    "start_time": "2022-10-31T19:33:15.606Z"
   },
   {
    "duration": 41,
    "start_time": "2022-10-31T19:33:15.614Z"
   },
   {
    "duration": 24,
    "start_time": "2022-10-31T19:33:15.656Z"
   },
   {
    "duration": 144,
    "start_time": "2022-10-31T19:33:15.682Z"
   },
   {
    "duration": 149,
    "start_time": "2022-10-31T19:33:15.828Z"
   },
   {
    "duration": 145,
    "start_time": "2022-10-31T19:33:15.978Z"
   },
   {
    "duration": 268,
    "start_time": "2022-10-31T19:33:16.125Z"
   },
   {
    "duration": 232,
    "start_time": "2022-10-31T19:33:16.394Z"
   },
   {
    "duration": 174,
    "start_time": "2022-10-31T19:33:16.628Z"
   },
   {
    "duration": 153,
    "start_time": "2022-10-31T19:33:16.804Z"
   },
   {
    "duration": 124,
    "start_time": "2022-10-31T19:33:16.959Z"
   },
   {
    "duration": 153,
    "start_time": "2022-10-31T19:33:17.085Z"
   },
   {
    "duration": 159,
    "start_time": "2022-10-31T19:33:17.240Z"
   },
   {
    "duration": 158,
    "start_time": "2022-10-31T19:33:17.401Z"
   },
   {
    "duration": 155,
    "start_time": "2022-10-31T19:33:17.561Z"
   },
   {
    "duration": 155,
    "start_time": "2022-10-31T19:33:17.718Z"
   },
   {
    "duration": 170,
    "start_time": "2022-10-31T19:33:17.874Z"
   },
   {
    "duration": 12,
    "start_time": "2022-10-31T19:33:18.046Z"
   },
   {
    "duration": 210,
    "start_time": "2022-10-31T19:33:18.059Z"
   },
   {
    "duration": 203,
    "start_time": "2022-10-31T19:33:18.271Z"
   },
   {
    "duration": 214,
    "start_time": "2022-10-31T19:33:18.475Z"
   },
   {
    "duration": 298,
    "start_time": "2022-10-31T19:33:18.690Z"
   },
   {
    "duration": 203,
    "start_time": "2022-10-31T19:33:18.990Z"
   },
   {
    "duration": 213,
    "start_time": "2022-10-31T19:33:19.195Z"
   },
   {
    "duration": 188,
    "start_time": "2022-10-31T19:33:19.410Z"
   },
   {
    "duration": 184,
    "start_time": "2022-10-31T19:33:19.599Z"
   },
   {
    "duration": 8,
    "start_time": "2022-10-31T19:33:19.784Z"
   },
   {
    "duration": 16,
    "start_time": "2022-10-31T19:33:19.793Z"
   },
   {
    "duration": 20,
    "start_time": "2022-10-31T19:33:19.811Z"
   },
   {
    "duration": 309,
    "start_time": "2022-10-31T19:33:19.833Z"
   },
   {
    "duration": 81,
    "start_time": "2022-10-31T19:33:36.457Z"
   },
   {
    "duration": 7,
    "start_time": "2022-10-31T19:34:27.571Z"
   },
   {
    "duration": 177,
    "start_time": "2022-10-31T19:37:36.091Z"
   },
   {
    "duration": 136,
    "start_time": "2022-10-31T19:38:11.085Z"
   },
   {
    "duration": 345,
    "start_time": "2022-11-01T11:54:25.070Z"
   },
   {
    "duration": 380,
    "start_time": "2022-11-01T11:54:31.966Z"
   },
   {
    "duration": 95,
    "start_time": "2022-11-01T11:55:20.230Z"
   },
   {
    "duration": 111,
    "start_time": "2022-11-01T11:58:03.268Z"
   },
   {
    "duration": 2214,
    "start_time": "2022-11-01T12:01:28.688Z"
   },
   {
    "duration": 1839,
    "start_time": "2022-11-01T12:02:04.800Z"
   },
   {
    "duration": 3,
    "start_time": "2022-11-01T12:22:56.806Z"
   },
   {
    "duration": 109,
    "start_time": "2022-11-01T12:22:56.814Z"
   },
   {
    "duration": 15,
    "start_time": "2022-11-01T12:22:56.925Z"
   },
   {
    "duration": 1937,
    "start_time": "2022-11-01T12:22:56.942Z"
   },
   {
    "duration": 6,
    "start_time": "2022-11-01T12:22:58.882Z"
   },
   {
    "duration": 47,
    "start_time": "2022-11-01T12:22:58.891Z"
   },
   {
    "duration": 40,
    "start_time": "2022-11-01T12:22:58.940Z"
   },
   {
    "duration": 51,
    "start_time": "2022-11-01T12:22:58.983Z"
   },
   {
    "duration": 14,
    "start_time": "2022-11-01T12:22:59.036Z"
   },
   {
    "duration": 8,
    "start_time": "2022-11-01T12:23:09.363Z"
   },
   {
    "duration": 2,
    "start_time": "2022-11-01T12:23:34.430Z"
   },
   {
    "duration": 106,
    "start_time": "2022-11-01T12:23:34.437Z"
   },
   {
    "duration": 13,
    "start_time": "2022-11-01T12:23:34.545Z"
   },
   {
    "duration": 1717,
    "start_time": "2022-11-01T12:23:34.559Z"
   },
   {
    "duration": 5,
    "start_time": "2022-11-01T12:23:36.278Z"
   },
   {
    "duration": 23,
    "start_time": "2022-11-01T12:23:36.284Z"
   },
   {
    "duration": 20,
    "start_time": "2022-11-01T12:23:36.309Z"
   },
   {
    "duration": 31,
    "start_time": "2022-11-01T12:23:36.331Z"
   },
   {
    "duration": 10,
    "start_time": "2022-11-01T12:23:36.364Z"
   },
   {
    "duration": 5,
    "start_time": "2022-11-01T12:24:02.074Z"
   },
   {
    "duration": 9,
    "start_time": "2022-11-01T12:24:06.962Z"
   },
   {
    "duration": 6,
    "start_time": "2022-11-01T12:30:36.958Z"
   },
   {
    "duration": 5,
    "start_time": "2022-11-01T12:32:31.758Z"
   },
   {
    "duration": 5,
    "start_time": "2022-11-01T12:32:47.111Z"
   },
   {
    "duration": 6,
    "start_time": "2022-11-01T12:33:06.344Z"
   },
   {
    "duration": 14,
    "start_time": "2022-11-01T12:34:58.873Z"
   },
   {
    "duration": 1344,
    "start_time": "2022-11-01T12:41:31.635Z"
   },
   {
    "duration": 6,
    "start_time": "2022-11-01T12:42:24.733Z"
   },
   {
    "duration": 3,
    "start_time": "2022-11-01T12:45:13.203Z"
   },
   {
    "duration": 111,
    "start_time": "2022-11-01T12:45:13.208Z"
   },
   {
    "duration": 175,
    "start_time": "2022-11-01T12:45:13.321Z"
   },
   {
    "duration": 1720,
    "start_time": "2022-11-01T12:45:13.498Z"
   },
   {
    "duration": 5,
    "start_time": "2022-11-01T12:45:15.221Z"
   },
   {
    "duration": 19,
    "start_time": "2022-11-01T12:45:15.227Z"
   },
   {
    "duration": 14,
    "start_time": "2022-11-01T12:45:15.248Z"
   },
   {
    "duration": 29,
    "start_time": "2022-11-01T12:45:15.263Z"
   },
   {
    "duration": 33,
    "start_time": "2022-11-01T12:45:15.293Z"
   },
   {
    "duration": 5,
    "start_time": "2022-11-01T12:45:27.171Z"
   },
   {
    "duration": 6,
    "start_time": "2022-11-01T12:45:29.517Z"
   },
   {
    "duration": 10,
    "start_time": "2022-11-01T12:45:43.307Z"
   },
   {
    "duration": 3,
    "start_time": "2022-11-01T13:02:09.690Z"
   },
   {
    "duration": 121,
    "start_time": "2022-11-01T13:02:09.695Z"
   },
   {
    "duration": 17,
    "start_time": "2022-11-01T13:02:09.818Z"
   },
   {
    "duration": 1838,
    "start_time": "2022-11-01T13:02:09.837Z"
   },
   {
    "duration": 6,
    "start_time": "2022-11-01T13:02:11.677Z"
   },
   {
    "duration": 25,
    "start_time": "2022-11-01T13:02:11.685Z"
   },
   {
    "duration": 39,
    "start_time": "2022-11-01T13:02:11.712Z"
   },
   {
    "duration": 45,
    "start_time": "2022-11-01T13:02:11.752Z"
   },
   {
    "duration": 10,
    "start_time": "2022-11-01T13:02:11.798Z"
   },
   {
    "duration": 14,
    "start_time": "2022-11-01T13:02:11.810Z"
   },
   {
    "duration": 42,
    "start_time": "2022-11-01T13:02:11.827Z"
   },
   {
    "duration": 60,
    "start_time": "2022-11-01T13:02:11.871Z"
   },
   {
    "duration": 23,
    "start_time": "2022-11-01T13:02:11.932Z"
   },
   {
    "duration": 26,
    "start_time": "2022-11-01T13:02:11.957Z"
   },
   {
    "duration": 19,
    "start_time": "2022-11-01T13:02:11.985Z"
   },
   {
    "duration": 23,
    "start_time": "2022-11-01T13:02:12.006Z"
   },
   {
    "duration": 14,
    "start_time": "2022-11-01T13:02:12.031Z"
   },
   {
    "duration": 43,
    "start_time": "2022-11-01T13:02:12.047Z"
   },
   {
    "duration": 29,
    "start_time": "2022-11-01T13:02:12.092Z"
   },
   {
    "duration": 41,
    "start_time": "2022-11-01T13:02:12.123Z"
   },
   {
    "duration": 41,
    "start_time": "2022-11-01T13:02:12.166Z"
   },
   {
    "duration": 29,
    "start_time": "2022-11-01T13:02:12.209Z"
   },
   {
    "duration": 26,
    "start_time": "2022-11-01T13:02:12.240Z"
   },
   {
    "duration": 15,
    "start_time": "2022-11-01T13:02:12.268Z"
   },
   {
    "duration": 40,
    "start_time": "2022-11-01T13:02:12.285Z"
   },
   {
    "duration": 10,
    "start_time": "2022-11-01T13:02:12.328Z"
   },
   {
    "duration": 12,
    "start_time": "2022-11-01T13:02:12.340Z"
   },
   {
    "duration": 29,
    "start_time": "2022-11-01T13:02:12.354Z"
   },
   {
    "duration": 3,
    "start_time": "2022-11-01T13:05:16.711Z"
   },
   {
    "duration": 5,
    "start_time": "2022-11-01T13:05:42.505Z"
   },
   {
    "duration": 4,
    "start_time": "2022-11-01T13:06:11.981Z"
   },
   {
    "duration": 4,
    "start_time": "2022-11-01T13:06:36.547Z"
   },
   {
    "duration": 8,
    "start_time": "2022-11-01T13:08:23.677Z"
   },
   {
    "duration": 9,
    "start_time": "2022-11-01T13:08:52.664Z"
   },
   {
    "duration": 5,
    "start_time": "2022-11-01T13:12:42.122Z"
   },
   {
    "duration": 4,
    "start_time": "2022-11-01T13:13:05.049Z"
   },
   {
    "duration": 4,
    "start_time": "2022-11-01T13:13:56.617Z"
   },
   {
    "duration": 16,
    "start_time": "2022-11-01T13:21:43.550Z"
   },
   {
    "duration": 5,
    "start_time": "2022-11-01T13:23:51.646Z"
   },
   {
    "duration": 16,
    "start_time": "2022-11-01T13:27:41.605Z"
   },
   {
    "duration": 5,
    "start_time": "2022-11-01T13:30:57.596Z"
   },
   {
    "duration": 5,
    "start_time": "2022-11-01T13:31:27.532Z"
   },
   {
    "duration": 4,
    "start_time": "2022-11-01T13:31:43.418Z"
   },
   {
    "duration": 6,
    "start_time": "2022-11-01T13:32:10.043Z"
   },
   {
    "duration": 6,
    "start_time": "2022-11-01T13:33:12.651Z"
   },
   {
    "duration": 9,
    "start_time": "2022-11-01T13:33:26.514Z"
   },
   {
    "duration": 6,
    "start_time": "2022-11-01T13:34:12.564Z"
   },
   {
    "duration": 8,
    "start_time": "2022-11-01T13:34:28.097Z"
   },
   {
    "duration": 212,
    "start_time": "2022-11-01T13:35:08.738Z"
   },
   {
    "duration": 6,
    "start_time": "2022-11-01T13:35:34.619Z"
   },
   {
    "duration": 7,
    "start_time": "2022-11-01T13:35:57.488Z"
   },
   {
    "duration": 4,
    "start_time": "2022-11-01T13:39:19.538Z"
   },
   {
    "duration": 16,
    "start_time": "2022-11-01T13:42:16.226Z"
   },
   {
    "duration": 2,
    "start_time": "2022-11-01T14:09:17.357Z"
   },
   {
    "duration": 115,
    "start_time": "2022-11-01T14:09:17.362Z"
   },
   {
    "duration": 13,
    "start_time": "2022-11-01T14:09:17.479Z"
   },
   {
    "duration": 2057,
    "start_time": "2022-11-01T14:09:17.494Z"
   },
   {
    "duration": 5,
    "start_time": "2022-11-01T14:09:19.554Z"
   },
   {
    "duration": 13,
    "start_time": "2022-11-01T14:09:19.561Z"
   },
   {
    "duration": 13,
    "start_time": "2022-11-01T14:09:19.576Z"
   },
   {
    "duration": 52,
    "start_time": "2022-11-01T14:09:19.590Z"
   },
   {
    "duration": 10,
    "start_time": "2022-11-01T14:09:19.644Z"
   },
   {
    "duration": 4,
    "start_time": "2022-11-01T14:09:19.656Z"
   },
   {
    "duration": 7,
    "start_time": "2022-11-01T14:09:19.662Z"
   },
   {
    "duration": 14,
    "start_time": "2022-11-01T14:09:19.670Z"
   },
   {
    "duration": 36,
    "start_time": "2022-11-01T14:09:19.686Z"
   },
   {
    "duration": 19,
    "start_time": "2022-11-01T14:09:19.724Z"
   },
   {
    "duration": 17,
    "start_time": "2022-11-01T14:09:19.744Z"
   },
   {
    "duration": 7,
    "start_time": "2022-11-01T14:09:19.763Z"
   },
   {
    "duration": 11,
    "start_time": "2022-11-01T14:09:19.772Z"
   },
   {
    "duration": 38,
    "start_time": "2022-11-01T14:09:19.784Z"
   },
   {
    "duration": 20,
    "start_time": "2022-11-01T14:09:19.824Z"
   },
   {
    "duration": 25,
    "start_time": "2022-11-01T14:09:19.845Z"
   },
   {
    "duration": 11,
    "start_time": "2022-11-01T14:09:19.871Z"
   },
   {
    "duration": 10,
    "start_time": "2022-11-01T14:09:19.884Z"
   },
   {
    "duration": 9,
    "start_time": "2022-11-01T14:09:19.896Z"
   },
   {
    "duration": 9,
    "start_time": "2022-11-01T14:09:19.907Z"
   },
   {
    "duration": 17,
    "start_time": "2022-11-01T14:09:19.917Z"
   },
   {
    "duration": 7,
    "start_time": "2022-11-01T14:09:19.935Z"
   },
   {
    "duration": 19,
    "start_time": "2022-11-01T14:09:19.944Z"
   },
   {
    "duration": 5,
    "start_time": "2022-11-01T14:09:19.964Z"
   },
   {
    "duration": 10,
    "start_time": "2022-11-01T14:09:19.973Z"
   },
   {
    "duration": 14,
    "start_time": "2022-11-01T14:09:19.984Z"
   },
   {
    "duration": 20,
    "start_time": "2022-11-01T14:09:20.000Z"
   },
   {
    "duration": 6,
    "start_time": "2022-11-01T14:09:20.022Z"
   },
   {
    "duration": 28,
    "start_time": "2022-11-01T14:09:20.030Z"
   },
   {
    "duration": 5,
    "start_time": "2022-11-01T14:09:20.060Z"
   },
   {
    "duration": 36,
    "start_time": "2022-11-01T14:09:20.067Z"
   },
   {
    "duration": 26,
    "start_time": "2022-11-01T14:09:20.104Z"
   },
   {
    "duration": 24,
    "start_time": "2022-11-01T14:09:20.131Z"
   },
   {
    "duration": 30,
    "start_time": "2022-11-01T14:09:20.157Z"
   },
   {
    "duration": 59,
    "start_time": "2022-11-01T14:09:20.189Z"
   },
   {
    "duration": 7,
    "start_time": "2022-11-01T14:09:20.249Z"
   },
   {
    "duration": 43,
    "start_time": "2022-11-01T14:09:20.258Z"
   },
   {
    "duration": 36,
    "start_time": "2022-11-01T14:09:20.303Z"
   },
   {
    "duration": 135,
    "start_time": "2022-11-01T14:09:46.892Z"
   },
   {
    "duration": 122,
    "start_time": "2022-11-01T14:12:43.674Z"
   },
   {
    "duration": 112,
    "start_time": "2022-11-01T14:14:35.552Z"
   },
   {
    "duration": 143,
    "start_time": "2022-11-01T14:15:01.230Z"
   },
   {
    "duration": 163,
    "start_time": "2022-11-01T14:15:19.784Z"
   },
   {
    "duration": 135,
    "start_time": "2022-11-01T14:15:28.502Z"
   },
   {
    "duration": 260,
    "start_time": "2022-11-01T14:15:42.792Z"
   },
   {
    "duration": 136,
    "start_time": "2022-11-01T14:15:51.271Z"
   },
   {
    "duration": 115,
    "start_time": "2022-11-01T14:16:18.673Z"
   },
   {
    "duration": 135,
    "start_time": "2022-11-01T14:16:52.351Z"
   },
   {
    "duration": 165,
    "start_time": "2022-11-01T14:20:52.635Z"
   },
   {
    "duration": 135,
    "start_time": "2022-11-01T14:21:39.966Z"
   },
   {
    "duration": 150,
    "start_time": "2022-11-01T14:21:51.817Z"
   },
   {
    "duration": 138,
    "start_time": "2022-11-01T14:22:01.906Z"
   },
   {
    "duration": 231,
    "start_time": "2022-11-01T14:23:40.426Z"
   },
   {
    "duration": 125,
    "start_time": "2022-11-01T14:24:19.596Z"
   },
   {
    "duration": 182,
    "start_time": "2022-11-01T14:24:28.762Z"
   },
   {
    "duration": 324,
    "start_time": "2022-11-01T14:25:27.789Z"
   },
   {
    "duration": 138,
    "start_time": "2022-11-01T14:25:37.066Z"
   },
   {
    "duration": 166,
    "start_time": "2022-11-01T14:33:12.789Z"
   },
   {
    "duration": 168,
    "start_time": "2022-11-01T14:33:57.081Z"
   },
   {
    "duration": 146,
    "start_time": "2022-11-01T14:36:39.458Z"
   },
   {
    "duration": 155,
    "start_time": "2022-11-01T14:37:21.860Z"
   },
   {
    "duration": 156,
    "start_time": "2022-11-01T14:37:31.454Z"
   },
   {
    "duration": 156,
    "start_time": "2022-11-01T14:37:40.411Z"
   },
   {
    "duration": 119,
    "start_time": "2022-11-01T14:39:43.486Z"
   },
   {
    "duration": 120,
    "start_time": "2022-11-01T14:40:29.412Z"
   },
   {
    "duration": 141,
    "start_time": "2022-11-01T14:40:37.691Z"
   },
   {
    "duration": 123,
    "start_time": "2022-11-01T14:41:15.022Z"
   },
   {
    "duration": 137,
    "start_time": "2022-11-01T14:41:57.716Z"
   },
   {
    "duration": 132,
    "start_time": "2022-11-01T14:42:37.507Z"
   },
   {
    "duration": 249,
    "start_time": "2022-11-01T14:42:47.786Z"
   },
   {
    "duration": 131,
    "start_time": "2022-11-01T14:43:04.491Z"
   },
   {
    "duration": 142,
    "start_time": "2022-11-01T14:43:54.507Z"
   },
   {
    "duration": 151,
    "start_time": "2022-11-01T14:44:09.977Z"
   },
   {
    "duration": 148,
    "start_time": "2022-11-01T14:44:29.624Z"
   },
   {
    "duration": 139,
    "start_time": "2022-11-01T14:45:57.698Z"
   },
   {
    "duration": 165,
    "start_time": "2022-11-01T14:47:10.348Z"
   },
   {
    "duration": 168,
    "start_time": "2022-11-01T14:47:59.973Z"
   },
   {
    "duration": 250,
    "start_time": "2022-11-01T14:48:11.571Z"
   },
   {
    "duration": 144,
    "start_time": "2022-11-01T14:48:32.555Z"
   },
   {
    "duration": 135,
    "start_time": "2022-11-01T14:48:58.373Z"
   },
   {
    "duration": 156,
    "start_time": "2022-11-01T14:49:18.733Z"
   },
   {
    "duration": 131,
    "start_time": "2022-11-01T14:49:38.214Z"
   },
   {
    "duration": 138,
    "start_time": "2022-11-01T14:55:09.343Z"
   },
   {
    "duration": 162,
    "start_time": "2022-11-01T14:55:29.160Z"
   },
   {
    "duration": 8,
    "start_time": "2022-11-01T14:56:25.270Z"
   },
   {
    "duration": 3,
    "start_time": "2022-11-01T14:56:55.501Z"
   },
   {
    "duration": 168,
    "start_time": "2022-11-01T14:57:18.921Z"
   },
   {
    "duration": 130,
    "start_time": "2022-11-01T14:57:57.801Z"
   },
   {
    "duration": 144,
    "start_time": "2022-11-01T14:59:02.145Z"
   },
   {
    "duration": 153,
    "start_time": "2022-11-01T14:59:37.906Z"
   },
   {
    "duration": 281,
    "start_time": "2022-11-01T15:00:06.233Z"
   },
   {
    "duration": 144,
    "start_time": "2022-11-01T15:00:21.348Z"
   },
   {
    "duration": 124,
    "start_time": "2022-11-01T15:00:51.952Z"
   },
   {
    "duration": 149,
    "start_time": "2022-11-01T15:01:37.194Z"
   },
   {
    "duration": 144,
    "start_time": "2022-11-01T15:02:15.842Z"
   },
   {
    "duration": 150,
    "start_time": "2022-11-01T15:02:28.258Z"
   },
   {
    "duration": 150,
    "start_time": "2022-11-01T15:03:23.790Z"
   },
   {
    "duration": 144,
    "start_time": "2022-11-01T15:03:53.535Z"
   },
   {
    "duration": 155,
    "start_time": "2022-11-01T15:04:14.132Z"
   },
   {
    "duration": 173,
    "start_time": "2022-11-01T15:04:39.136Z"
   },
   {
    "duration": 137,
    "start_time": "2022-11-01T15:04:54.083Z"
   },
   {
    "duration": 6,
    "start_time": "2022-11-01T15:06:40.458Z"
   },
   {
    "duration": 205,
    "start_time": "2022-11-01T15:07:53.238Z"
   },
   {
    "duration": 206,
    "start_time": "2022-11-01T15:10:59.967Z"
   },
   {
    "duration": 196,
    "start_time": "2022-11-01T15:12:37.196Z"
   },
   {
    "duration": 310,
    "start_time": "2022-11-01T15:16:18.975Z"
   },
   {
    "duration": 199,
    "start_time": "2022-11-01T15:17:58.236Z"
   },
   {
    "duration": 204,
    "start_time": "2022-11-01T15:18:43.094Z"
   },
   {
    "duration": 202,
    "start_time": "2022-11-01T15:19:05.536Z"
   },
   {
    "duration": 210,
    "start_time": "2022-11-01T15:19:59.894Z"
   },
   {
    "duration": 204,
    "start_time": "2022-11-01T15:22:19.094Z"
   },
   {
    "duration": 207,
    "start_time": "2022-11-01T15:22:48.533Z"
   },
   {
    "duration": 321,
    "start_time": "2022-11-01T15:23:53.243Z"
   },
   {
    "duration": 149,
    "start_time": "2022-11-01T15:24:31.654Z"
   },
   {
    "duration": 166,
    "start_time": "2022-11-01T15:25:07.493Z"
   },
   {
    "duration": 337,
    "start_time": "2022-11-01T15:25:41.933Z"
   },
   {
    "duration": 137,
    "start_time": "2022-11-01T15:26:32.212Z"
   },
   {
    "duration": 187,
    "start_time": "2022-11-01T15:26:45.212Z"
   },
   {
    "duration": 177,
    "start_time": "2022-11-01T15:27:00.252Z"
   },
   {
    "duration": 128,
    "start_time": "2022-11-01T15:29:48.661Z"
   },
   {
    "duration": 236,
    "start_time": "2022-11-01T15:31:11.758Z"
   },
   {
    "duration": 148,
    "start_time": "2022-11-01T15:31:45.842Z"
   },
   {
    "duration": 139,
    "start_time": "2022-11-01T15:31:59.344Z"
   },
   {
    "duration": 158,
    "start_time": "2022-11-01T15:33:25.617Z"
   },
   {
    "duration": 160,
    "start_time": "2022-11-01T15:36:08.217Z"
   },
   {
    "duration": 141,
    "start_time": "2022-11-01T15:36:33.504Z"
   },
   {
    "duration": 12,
    "start_time": "2022-11-01T15:37:49.058Z"
   },
   {
    "duration": 10,
    "start_time": "2022-11-01T15:38:44.657Z"
   },
   {
    "duration": 7,
    "start_time": "2022-11-01T15:38:58.276Z"
   },
   {
    "duration": 5,
    "start_time": "2022-11-01T15:39:24.815Z"
   },
   {
    "duration": 6,
    "start_time": "2022-11-01T15:39:38.915Z"
   },
   {
    "duration": 5,
    "start_time": "2022-11-01T15:40:55.335Z"
   },
   {
    "duration": 5,
    "start_time": "2022-11-01T15:42:00.116Z"
   },
   {
    "duration": 7,
    "start_time": "2022-11-01T15:43:11.491Z"
   },
   {
    "duration": 25,
    "start_time": "2022-11-01T15:46:28.919Z"
   },
   {
    "duration": 167,
    "start_time": "2022-11-01T15:46:47.692Z"
   },
   {
    "duration": 201,
    "start_time": "2022-11-01T15:48:40.111Z"
   },
   {
    "duration": 141,
    "start_time": "2022-11-01T15:51:03.008Z"
   },
   {
    "duration": 119,
    "start_time": "2022-11-01T15:51:41.037Z"
   },
   {
    "duration": 120,
    "start_time": "2022-11-01T15:52:31.671Z"
   },
   {
    "duration": 173,
    "start_time": "2022-11-01T15:57:03.750Z"
   },
   {
    "duration": 181,
    "start_time": "2022-11-01T15:57:34.488Z"
   },
   {
    "duration": 153,
    "start_time": "2022-11-01T15:58:05.488Z"
   },
   {
    "duration": 158,
    "start_time": "2022-11-01T16:03:53.515Z"
   },
   {
    "duration": 134,
    "start_time": "2022-11-01T16:11:49.603Z"
   },
   {
    "duration": 320,
    "start_time": "2022-11-01T16:12:57.440Z"
   },
   {
    "duration": 5,
    "start_time": "2022-11-01T16:14:26.716Z"
   },
   {
    "duration": 6,
    "start_time": "2022-11-01T16:14:41.637Z"
   },
   {
    "duration": 5,
    "start_time": "2022-11-01T16:20:17.200Z"
   },
   {
    "duration": 3,
    "start_time": "2022-11-01T16:33:06.044Z"
   },
   {
    "duration": 119,
    "start_time": "2022-11-01T16:33:06.049Z"
   },
   {
    "duration": 16,
    "start_time": "2022-11-01T16:33:06.170Z"
   },
   {
    "duration": 2165,
    "start_time": "2022-11-01T16:33:06.317Z"
   },
   {
    "duration": 6,
    "start_time": "2022-11-01T16:33:08.485Z"
   },
   {
    "duration": 11,
    "start_time": "2022-11-01T16:33:08.492Z"
   },
   {
    "duration": 16,
    "start_time": "2022-11-01T16:33:08.521Z"
   },
   {
    "duration": 32,
    "start_time": "2022-11-01T16:33:08.539Z"
   },
   {
    "duration": 12,
    "start_time": "2022-11-01T16:33:08.572Z"
   },
   {
    "duration": 6,
    "start_time": "2022-11-01T16:33:08.585Z"
   },
   {
    "duration": 35,
    "start_time": "2022-11-01T16:33:08.592Z"
   },
   {
    "duration": 13,
    "start_time": "2022-11-01T16:33:08.628Z"
   },
   {
    "duration": 14,
    "start_time": "2022-11-01T16:33:08.642Z"
   },
   {
    "duration": 19,
    "start_time": "2022-11-01T16:33:08.658Z"
   },
   {
    "duration": 52,
    "start_time": "2022-11-01T16:33:08.679Z"
   },
   {
    "duration": 6,
    "start_time": "2022-11-01T16:33:08.732Z"
   },
   {
    "duration": 3,
    "start_time": "2022-11-01T16:33:08.742Z"
   },
   {
    "duration": 27,
    "start_time": "2022-11-01T16:33:08.747Z"
   },
   {
    "duration": 21,
    "start_time": "2022-11-01T16:33:08.776Z"
   },
   {
    "duration": 9,
    "start_time": "2022-11-01T16:33:08.799Z"
   },
   {
    "duration": 6,
    "start_time": "2022-11-01T16:33:08.809Z"
   },
   {
    "duration": 12,
    "start_time": "2022-11-01T16:33:08.817Z"
   },
   {
    "duration": 21,
    "start_time": "2022-11-01T16:33:08.831Z"
   },
   {
    "duration": 8,
    "start_time": "2022-11-01T16:33:08.854Z"
   },
   {
    "duration": 20,
    "start_time": "2022-11-01T16:33:08.864Z"
   },
   {
    "duration": 8,
    "start_time": "2022-11-01T16:33:08.886Z"
   },
   {
    "duration": 17,
    "start_time": "2022-11-01T16:33:08.895Z"
   },
   {
    "duration": 8,
    "start_time": "2022-11-01T16:33:08.914Z"
   },
   {
    "duration": 20,
    "start_time": "2022-11-01T16:33:08.924Z"
   },
   {
    "duration": 21,
    "start_time": "2022-11-01T16:33:08.947Z"
   },
   {
    "duration": 25,
    "start_time": "2022-11-01T16:33:08.972Z"
   },
   {
    "duration": 8,
    "start_time": "2022-11-01T16:33:08.999Z"
   },
   {
    "duration": 30,
    "start_time": "2022-11-01T16:33:09.009Z"
   },
   {
    "duration": 5,
    "start_time": "2022-11-01T16:33:09.042Z"
   },
   {
    "duration": 23,
    "start_time": "2022-11-01T16:33:09.049Z"
   },
   {
    "duration": 53,
    "start_time": "2022-11-01T16:33:09.075Z"
   },
   {
    "duration": 27,
    "start_time": "2022-11-01T16:33:09.130Z"
   },
   {
    "duration": 30,
    "start_time": "2022-11-01T16:33:09.159Z"
   },
   {
    "duration": 47,
    "start_time": "2022-11-01T16:33:09.191Z"
   },
   {
    "duration": 8,
    "start_time": "2022-11-01T16:33:09.239Z"
   },
   {
    "duration": 31,
    "start_time": "2022-11-01T16:33:09.248Z"
   },
   {
    "duration": 40,
    "start_time": "2022-11-01T16:33:09.281Z"
   },
   {
    "duration": 138,
    "start_time": "2022-11-01T16:33:09.323Z"
   },
   {
    "duration": 145,
    "start_time": "2022-11-01T16:33:09.466Z"
   },
   {
    "duration": 160,
    "start_time": "2022-11-01T16:33:09.613Z"
   },
   {
    "duration": 167,
    "start_time": "2022-11-01T16:33:09.774Z"
   },
   {
    "duration": 165,
    "start_time": "2022-11-01T16:33:09.942Z"
   },
   {
    "duration": 154,
    "start_time": "2022-11-01T16:33:10.109Z"
   },
   {
    "duration": 142,
    "start_time": "2022-11-01T16:33:10.265Z"
   },
   {
    "duration": 122,
    "start_time": "2022-11-01T16:33:10.409Z"
   },
   {
    "duration": 157,
    "start_time": "2022-11-01T16:33:10.532Z"
   },
   {
    "duration": 150,
    "start_time": "2022-11-01T16:33:10.690Z"
   },
   {
    "duration": 151,
    "start_time": "2022-11-01T16:33:10.841Z"
   },
   {
    "duration": 160,
    "start_time": "2022-11-01T16:33:10.994Z"
   },
   {
    "duration": 149,
    "start_time": "2022-11-01T16:33:11.156Z"
   },
   {
    "duration": 166,
    "start_time": "2022-11-01T16:33:11.306Z"
   },
   {
    "duration": 8,
    "start_time": "2022-11-01T16:33:11.474Z"
   },
   {
    "duration": 241,
    "start_time": "2022-11-01T16:33:11.484Z"
   },
   {
    "duration": 433,
    "start_time": "2022-11-01T16:33:11.727Z"
   },
   {
    "duration": 5,
    "start_time": "2022-11-01T16:33:12.162Z"
   },
   {
    "duration": 199,
    "start_time": "2022-11-01T16:33:12.168Z"
   },
   {
    "duration": 5,
    "start_time": "2022-11-01T16:33:12.369Z"
   },
   {
    "duration": 204,
    "start_time": "2022-11-01T16:33:12.375Z"
   },
   {
    "duration": 5,
    "start_time": "2022-11-01T16:33:12.581Z"
   },
   {
    "duration": 185,
    "start_time": "2022-11-01T16:33:12.587Z"
   },
   {
    "duration": 4,
    "start_time": "2022-11-01T16:33:12.774Z"
   },
   {
    "duration": 139,
    "start_time": "2022-11-01T16:33:12.779Z"
   },
   {
    "duration": 168,
    "start_time": "2022-11-01T16:33:12.921Z"
   },
   {
    "duration": 153,
    "start_time": "2022-11-01T16:33:13.091Z"
   },
   {
    "duration": 135,
    "start_time": "2022-11-01T16:33:13.246Z"
   },
   {
    "duration": 9,
    "start_time": "2022-11-01T16:33:34.768Z"
   },
   {
    "duration": 158,
    "start_time": "2022-11-01T16:37:33.142Z"
   },
   {
    "duration": 17,
    "start_time": "2022-11-01T16:38:38.269Z"
   },
   {
    "duration": 164,
    "start_time": "2022-11-01T16:40:22.695Z"
   },
   {
    "duration": 139,
    "start_time": "2022-11-01T16:41:54.441Z"
   },
   {
    "duration": 32,
    "start_time": "2022-11-01T16:47:24.791Z"
   },
   {
    "duration": 340,
    "start_time": "2022-11-01T16:47:59.079Z"
   },
   {
    "duration": 281,
    "start_time": "2022-11-01T16:49:36.956Z"
   },
   {
    "duration": 142,
    "start_time": "2022-11-01T16:55:56.239Z"
   },
   {
    "duration": 154,
    "start_time": "2022-11-01T17:00:06.614Z"
   },
   {
    "duration": 143,
    "start_time": "2022-11-01T17:02:26.446Z"
   },
   {
    "duration": 249,
    "start_time": "2022-11-01T17:03:16.958Z"
   },
   {
    "duration": 239,
    "start_time": "2022-11-01T17:03:57.734Z"
   },
   {
    "duration": 283,
    "start_time": "2022-11-01T17:04:08.887Z"
   },
   {
    "duration": 2,
    "start_time": "2022-11-01T17:14:00.053Z"
   },
   {
    "duration": 148,
    "start_time": "2022-11-01T17:14:00.057Z"
   },
   {
    "duration": 44,
    "start_time": "2022-11-01T17:14:00.207Z"
   },
   {
    "duration": 2307,
    "start_time": "2022-11-01T17:14:00.253Z"
   },
   {
    "duration": 5,
    "start_time": "2022-11-01T17:14:02.563Z"
   },
   {
    "duration": 20,
    "start_time": "2022-11-01T17:14:02.569Z"
   },
   {
    "duration": 15,
    "start_time": "2022-11-01T17:14:02.591Z"
   },
   {
    "duration": 48,
    "start_time": "2022-11-01T17:14:02.620Z"
   },
   {
    "duration": 26,
    "start_time": "2022-11-01T17:14:02.670Z"
   },
   {
    "duration": 49,
    "start_time": "2022-11-01T17:14:02.697Z"
   },
   {
    "duration": 26,
    "start_time": "2022-11-01T17:14:02.755Z"
   },
   {
    "duration": 26,
    "start_time": "2022-11-01T17:14:02.783Z"
   },
   {
    "duration": 22,
    "start_time": "2022-11-01T17:14:02.811Z"
   },
   {
    "duration": 44,
    "start_time": "2022-11-01T17:14:02.839Z"
   },
   {
    "duration": 17,
    "start_time": "2022-11-01T17:14:02.885Z"
   },
   {
    "duration": 21,
    "start_time": "2022-11-01T17:14:02.904Z"
   },
   {
    "duration": 46,
    "start_time": "2022-11-01T17:14:02.926Z"
   },
   {
    "duration": 40,
    "start_time": "2022-11-01T17:14:02.973Z"
   },
   {
    "duration": 38,
    "start_time": "2022-11-01T17:14:03.015Z"
   },
   {
    "duration": 12,
    "start_time": "2022-11-01T17:14:03.055Z"
   },
   {
    "duration": 6,
    "start_time": "2022-11-01T17:14:03.069Z"
   },
   {
    "duration": 16,
    "start_time": "2022-11-01T17:14:03.076Z"
   },
   {
    "duration": 22,
    "start_time": "2022-11-01T17:14:03.094Z"
   },
   {
    "duration": 57,
    "start_time": "2022-11-01T17:14:03.118Z"
   },
   {
    "duration": 31,
    "start_time": "2022-11-01T17:14:03.177Z"
   },
   {
    "duration": 11,
    "start_time": "2022-11-01T17:14:03.210Z"
   },
   {
    "duration": 34,
    "start_time": "2022-11-01T17:14:03.229Z"
   },
   {
    "duration": 10,
    "start_time": "2022-11-01T17:14:03.265Z"
   },
   {
    "duration": 9,
    "start_time": "2022-11-01T17:14:03.277Z"
   },
   {
    "duration": 8,
    "start_time": "2022-11-01T17:14:03.288Z"
   },
   {
    "duration": 23,
    "start_time": "2022-11-01T17:14:03.298Z"
   },
   {
    "duration": 8,
    "start_time": "2022-11-01T17:14:03.327Z"
   },
   {
    "duration": 35,
    "start_time": "2022-11-01T17:14:03.336Z"
   },
   {
    "duration": 5,
    "start_time": "2022-11-01T17:14:03.372Z"
   },
   {
    "duration": 21,
    "start_time": "2022-11-01T17:14:03.379Z"
   },
   {
    "duration": 33,
    "start_time": "2022-11-01T17:14:03.401Z"
   },
   {
    "duration": 37,
    "start_time": "2022-11-01T17:14:03.438Z"
   },
   {
    "duration": 64,
    "start_time": "2022-11-01T17:14:03.476Z"
   },
   {
    "duration": 36,
    "start_time": "2022-11-01T17:14:03.541Z"
   },
   {
    "duration": 7,
    "start_time": "2022-11-01T17:14:03.578Z"
   },
   {
    "duration": 23,
    "start_time": "2022-11-01T17:14:03.589Z"
   },
   {
    "duration": 55,
    "start_time": "2022-11-01T17:14:03.614Z"
   },
   {
    "duration": 185,
    "start_time": "2022-11-01T17:14:03.671Z"
   },
   {
    "duration": 159,
    "start_time": "2022-11-01T17:14:03.858Z"
   },
   {
    "duration": 179,
    "start_time": "2022-11-01T17:14:04.021Z"
   },
   {
    "duration": 167,
    "start_time": "2022-11-01T17:14:04.202Z"
   },
   {
    "duration": 174,
    "start_time": "2022-11-01T17:14:04.370Z"
   },
   {
    "duration": 162,
    "start_time": "2022-11-01T17:14:04.546Z"
   },
   {
    "duration": 148,
    "start_time": "2022-11-01T17:14:04.720Z"
   },
   {
    "duration": 177,
    "start_time": "2022-11-01T17:14:04.870Z"
   },
   {
    "duration": 173,
    "start_time": "2022-11-01T17:14:05.051Z"
   },
   {
    "duration": 168,
    "start_time": "2022-11-01T17:14:05.226Z"
   },
   {
    "duration": 175,
    "start_time": "2022-11-01T17:14:05.396Z"
   },
   {
    "duration": 174,
    "start_time": "2022-11-01T17:14:05.573Z"
   },
   {
    "duration": 178,
    "start_time": "2022-11-01T17:14:05.749Z"
   },
   {
    "duration": 147,
    "start_time": "2022-11-01T17:14:05.928Z"
   },
   {
    "duration": 5,
    "start_time": "2022-11-01T17:14:06.078Z"
   },
   {
    "duration": 239,
    "start_time": "2022-11-01T17:14:06.084Z"
   },
   {
    "duration": 485,
    "start_time": "2022-11-01T17:14:06.325Z"
   },
   {
    "duration": 22,
    "start_time": "2022-11-01T17:14:06.812Z"
   },
   {
    "duration": 215,
    "start_time": "2022-11-01T17:14:06.836Z"
   },
   {
    "duration": 6,
    "start_time": "2022-11-01T17:14:07.053Z"
   },
   {
    "duration": 219,
    "start_time": "2022-11-01T17:14:07.061Z"
   },
   {
    "duration": 5,
    "start_time": "2022-11-01T17:14:07.282Z"
   },
   {
    "duration": 186,
    "start_time": "2022-11-01T17:14:07.289Z"
   },
   {
    "duration": 5,
    "start_time": "2022-11-01T17:14:07.477Z"
   },
   {
    "duration": 167,
    "start_time": "2022-11-01T17:14:07.484Z"
   },
   {
    "duration": 188,
    "start_time": "2022-11-01T17:14:07.652Z"
   },
   {
    "duration": 183,
    "start_time": "2022-11-01T17:14:07.842Z"
   },
   {
    "duration": 188,
    "start_time": "2022-11-01T17:14:08.027Z"
   },
   {
    "duration": 10,
    "start_time": "2022-11-01T17:14:08.219Z"
   },
   {
    "duration": 84,
    "start_time": "2022-11-01T17:14:08.231Z"
   },
   {
    "duration": 253,
    "start_time": "2022-11-01T17:14:08.317Z"
   },
   {
    "duration": 21,
    "start_time": "2022-11-01T17:14:08.572Z"
   },
   {
    "duration": 274,
    "start_time": "2022-11-01T17:14:08.595Z"
   },
   {
    "duration": 636,
    "start_time": "2022-11-02T15:38:52.515Z"
   },
   {
    "duration": 117,
    "start_time": "2022-11-02T15:38:53.154Z"
   },
   {
    "duration": 20,
    "start_time": "2022-11-02T15:38:53.272Z"
   },
   {
    "duration": 2066,
    "start_time": "2022-11-02T15:38:53.295Z"
   },
   {
    "duration": 6,
    "start_time": "2022-11-02T15:38:55.363Z"
   },
   {
    "duration": 12,
    "start_time": "2022-11-02T15:38:55.370Z"
   },
   {
    "duration": 19,
    "start_time": "2022-11-02T15:38:55.384Z"
   },
   {
    "duration": 50,
    "start_time": "2022-11-02T15:38:55.404Z"
   },
   {
    "duration": 11,
    "start_time": "2022-11-02T15:38:55.456Z"
   },
   {
    "duration": 5,
    "start_time": "2022-11-02T15:38:55.470Z"
   },
   {
    "duration": 12,
    "start_time": "2022-11-02T15:38:55.477Z"
   },
   {
    "duration": 17,
    "start_time": "2022-11-02T15:38:55.490Z"
   },
   {
    "duration": 23,
    "start_time": "2022-11-02T15:38:55.509Z"
   },
   {
    "duration": 43,
    "start_time": "2022-11-02T15:38:55.534Z"
   },
   {
    "duration": 21,
    "start_time": "2022-11-02T15:38:55.578Z"
   },
   {
    "duration": 6,
    "start_time": "2022-11-02T15:38:55.601Z"
   },
   {
    "duration": 12,
    "start_time": "2022-11-02T15:38:55.608Z"
   },
   {
    "duration": 17,
    "start_time": "2022-11-02T15:38:55.621Z"
   },
   {
    "duration": 20,
    "start_time": "2022-11-02T15:38:55.640Z"
   },
   {
    "duration": 10,
    "start_time": "2022-11-02T15:38:55.662Z"
   },
   {
    "duration": 7,
    "start_time": "2022-11-02T15:38:55.674Z"
   },
   {
    "duration": 13,
    "start_time": "2022-11-02T15:38:55.683Z"
   },
   {
    "duration": 9,
    "start_time": "2022-11-02T15:38:55.698Z"
   },
   {
    "duration": 6,
    "start_time": "2022-11-02T15:38:55.709Z"
   },
   {
    "duration": 47,
    "start_time": "2022-11-02T15:38:55.717Z"
   },
   {
    "duration": 7,
    "start_time": "2022-11-02T15:38:55.767Z"
   },
   {
    "duration": 6,
    "start_time": "2022-11-02T15:38:55.776Z"
   },
   {
    "duration": 2,
    "start_time": "2022-11-02T15:38:55.787Z"
   },
   {
    "duration": 12,
    "start_time": "2022-11-02T15:38:55.791Z"
   },
   {
    "duration": 6,
    "start_time": "2022-11-02T15:38:55.805Z"
   },
   {
    "duration": 43,
    "start_time": "2022-11-02T15:38:55.812Z"
   },
   {
    "duration": 6,
    "start_time": "2022-11-02T15:38:55.857Z"
   },
   {
    "duration": 19,
    "start_time": "2022-11-02T15:38:55.865Z"
   },
   {
    "duration": 4,
    "start_time": "2022-11-02T15:38:55.886Z"
   },
   {
    "duration": 21,
    "start_time": "2022-11-02T15:38:55.892Z"
   },
   {
    "duration": 49,
    "start_time": "2022-11-02T15:38:55.915Z"
   },
   {
    "duration": 24,
    "start_time": "2022-11-02T15:38:55.966Z"
   },
   {
    "duration": 23,
    "start_time": "2022-11-02T15:38:55.992Z"
   },
   {
    "duration": 47,
    "start_time": "2022-11-02T15:38:56.017Z"
   },
   {
    "duration": 7,
    "start_time": "2022-11-02T15:38:56.066Z"
   },
   {
    "duration": 33,
    "start_time": "2022-11-02T15:38:56.075Z"
   },
   {
    "duration": 27,
    "start_time": "2022-11-02T15:38:56.110Z"
   },
   {
    "duration": 141,
    "start_time": "2022-11-02T15:38:56.153Z"
   },
   {
    "duration": 165,
    "start_time": "2022-11-02T15:38:56.295Z"
   },
   {
    "duration": 160,
    "start_time": "2022-11-02T15:38:56.461Z"
   },
   {
    "duration": 168,
    "start_time": "2022-11-02T15:38:56.623Z"
   },
   {
    "duration": 163,
    "start_time": "2022-11-02T15:38:56.793Z"
   },
   {
    "duration": 159,
    "start_time": "2022-11-02T15:38:56.957Z"
   },
   {
    "duration": 236,
    "start_time": "2022-11-02T15:38:57.117Z"
   },
   {
    "duration": 135,
    "start_time": "2022-11-02T15:38:57.355Z"
   },
   {
    "duration": 164,
    "start_time": "2022-11-02T15:38:57.492Z"
   },
   {
    "duration": 154,
    "start_time": "2022-11-02T15:38:57.657Z"
   },
   {
    "duration": 152,
    "start_time": "2022-11-02T15:38:57.813Z"
   },
   {
    "duration": 162,
    "start_time": "2022-11-02T15:38:57.967Z"
   },
   {
    "duration": 159,
    "start_time": "2022-11-02T15:38:58.130Z"
   },
   {
    "duration": 145,
    "start_time": "2022-11-02T15:38:58.291Z"
   },
   {
    "duration": 6,
    "start_time": "2022-11-02T15:38:58.438Z"
   },
   {
    "duration": 231,
    "start_time": "2022-11-02T15:38:58.454Z"
   },
   {
    "duration": 232,
    "start_time": "2022-11-02T15:38:58.687Z"
   },
   {
    "duration": 5,
    "start_time": "2022-11-02T15:38:58.921Z"
   },
   {
    "duration": 293,
    "start_time": "2022-11-02T15:38:58.927Z"
   },
   {
    "duration": 5,
    "start_time": "2022-11-02T15:38:59.222Z"
   },
   {
    "duration": 222,
    "start_time": "2022-11-02T15:38:59.228Z"
   },
   {
    "duration": 4,
    "start_time": "2022-11-02T15:38:59.454Z"
   },
   {
    "duration": 167,
    "start_time": "2022-11-02T15:38:59.459Z"
   },
   {
    "duration": 5,
    "start_time": "2022-11-02T15:38:59.628Z"
   },
   {
    "duration": 148,
    "start_time": "2022-11-02T15:38:59.634Z"
   },
   {
    "duration": 186,
    "start_time": "2022-11-02T15:38:59.785Z"
   },
   {
    "duration": 173,
    "start_time": "2022-11-02T15:38:59.973Z"
   },
   {
    "duration": 159,
    "start_time": "2022-11-02T15:39:00.154Z"
   },
   {
    "duration": 7,
    "start_time": "2022-11-02T15:39:00.315Z"
   },
   {
    "duration": 58,
    "start_time": "2022-11-02T15:39:00.324Z"
   },
   {
    "duration": 210,
    "start_time": "2022-11-02T15:39:00.384Z"
   },
   {
    "duration": 25,
    "start_time": "2022-11-02T15:39:00.596Z"
   },
   {
    "duration": 276,
    "start_time": "2022-11-02T15:39:00.623Z"
   },
   {
    "duration": 22,
    "start_time": "2022-11-02T15:44:06.885Z"
   },
   {
    "duration": 14,
    "start_time": "2022-11-02T15:44:14.541Z"
   },
   {
    "duration": 85,
    "start_time": "2022-11-02T15:44:18.733Z"
   },
   {
    "duration": 24,
    "start_time": "2022-11-02T15:46:36.980Z"
   }
  ],
  "kernelspec": {
   "display_name": "Python 3 (ipykernel)",
   "language": "python",
   "name": "python3"
  },
  "language_info": {
   "codemirror_mode": {
    "name": "ipython",
    "version": 3
   },
   "file_extension": ".py",
   "mimetype": "text/x-python",
   "name": "python",
   "nbconvert_exporter": "python",
   "pygments_lexer": "ipython3",
   "version": "3.9.5"
  },
  "toc": {
   "base_numbering": 1,
   "nav_menu": {},
   "number_sections": true,
   "sideBar": true,
   "skip_h1_title": true,
   "title_cell": "Table of Contents",
   "title_sidebar": "Contents",
   "toc_cell": false,
   "toc_position": {},
   "toc_section_display": true,
   "toc_window_display": false
  }
 },
 "nbformat": 4,
 "nbformat_minor": 2
}
