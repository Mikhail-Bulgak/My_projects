{
 "cells": [
  {
   "cell_type": "markdown",
   "metadata": {},
   "source": [
    "# Отток клиентов"
   ]
  },
  {
   "attachments": {},
   "cell_type": "markdown",
   "metadata": {},
   "source": [
    "Из «Бета-Банка» стали уходить клиенты. Каждый месяц. Немного, но заметно. Банковские маркетологи посчитали: сохранять текущих клиентов дешевле, чем привлекать новых.\n",
    "\n",
    "Нужно спрогнозировать, уйдёт клиент из банка в ближайшее время или нет. Предоставлены исторические данные о поведении клиентов и расторжении договоров с банком. \n",
    "\n",
    "Построить модель с предельно большим значением *F1*-меры. Нужно довести метрику до 0.59. Проверьте *F1*-меру на тестовой выборке.\n",
    "\n",
    "Дополнительно измеряйте *AUC-ROC*, сравнивайте её значение с *F1*-мерой.\n",
    "\n",
    "Источник данных: [https://www.kaggle.com/barelydedicated/bank-customer-churn-modeling](https://www.kaggle.com/barelydedicated/bank-customer-churn-modeling)"
   ]
  },
  {
   "cell_type": "markdown",
   "metadata": {},
   "source": [
    "## Подготовка данных"
   ]
  },
  {
   "cell_type": "markdown",
   "metadata": {},
   "source": [
    "**Установим библиотеки, которые нам могут понадобиться**"
   ]
  },
  {
   "cell_type": "code",
   "execution_count": 1,
   "metadata": {},
   "outputs": [],
   "source": [
    "import pandas as pd\n",
    "import matplotlib.pyplot as plt\n",
    "import numpy as np\n",
    "from sklearn.tree import DecisionTreeClassifier\n",
    "from sklearn.ensemble import RandomForestClassifier\n",
    "from sklearn.linear_model import LogisticRegression\n",
    "from sklearn.model_selection import train_test_split\n",
    "from sklearn.preprocessing import OrdinalEncoder\n",
    "from sklearn.preprocessing import StandardScaler\n",
    "from sklearn.metrics import (\n",
    "    f1_score, \n",
    "    roc_curve, \n",
    "    roc_auc_score, \n",
    "    accuracy_score, \n",
    "    confusion_matrix, \n",
    "    recall_score, \n",
    "    precision_score\n",
    ")\n",
    "from sklearn.utils import shuffle\n",
    "from sklearn.dummy import DummyClassifier\n",
    "from sklearn import tree\n",
    "\n",
    "import warnings\n",
    "warnings.filterwarnings(\"ignore\")"
   ]
  },
  {
   "cell_type": "markdown",
   "metadata": {},
   "source": [
    "Теперь загрузим датасет и посмотрим общую информацию о нем"
   ]
  },
  {
   "cell_type": "code",
   "execution_count": 2,
   "metadata": {},
   "outputs": [],
   "source": [
    "pd.set_option('display.max_columns', None)\n",
    "df = pd.read_csv('/datasets/Churn.csv')"
   ]
  },
  {
   "cell_type": "code",
   "execution_count": 3,
   "metadata": {},
   "outputs": [
    {
     "data": {
      "text/html": [
       "<div>\n",
       "<style scoped>\n",
       "    .dataframe tbody tr th:only-of-type {\n",
       "        vertical-align: middle;\n",
       "    }\n",
       "\n",
       "    .dataframe tbody tr th {\n",
       "        vertical-align: top;\n",
       "    }\n",
       "\n",
       "    .dataframe thead th {\n",
       "        text-align: right;\n",
       "    }\n",
       "</style>\n",
       "<table border=\"1\" class=\"dataframe\">\n",
       "  <thead>\n",
       "    <tr style=\"text-align: right;\">\n",
       "      <th></th>\n",
       "      <th>RowNumber</th>\n",
       "      <th>CustomerId</th>\n",
       "      <th>Surname</th>\n",
       "      <th>CreditScore</th>\n",
       "      <th>Geography</th>\n",
       "      <th>Gender</th>\n",
       "      <th>Age</th>\n",
       "      <th>Tenure</th>\n",
       "      <th>Balance</th>\n",
       "      <th>NumOfProducts</th>\n",
       "      <th>HasCrCard</th>\n",
       "      <th>IsActiveMember</th>\n",
       "      <th>EstimatedSalary</th>\n",
       "      <th>Exited</th>\n",
       "    </tr>\n",
       "  </thead>\n",
       "  <tbody>\n",
       "    <tr>\n",
       "      <th>0</th>\n",
       "      <td>1</td>\n",
       "      <td>15634602</td>\n",
       "      <td>Hargrave</td>\n",
       "      <td>619</td>\n",
       "      <td>France</td>\n",
       "      <td>Female</td>\n",
       "      <td>42</td>\n",
       "      <td>2.0</td>\n",
       "      <td>0.00</td>\n",
       "      <td>1</td>\n",
       "      <td>1</td>\n",
       "      <td>1</td>\n",
       "      <td>101348.88</td>\n",
       "      <td>1</td>\n",
       "    </tr>\n",
       "    <tr>\n",
       "      <th>1</th>\n",
       "      <td>2</td>\n",
       "      <td>15647311</td>\n",
       "      <td>Hill</td>\n",
       "      <td>608</td>\n",
       "      <td>Spain</td>\n",
       "      <td>Female</td>\n",
       "      <td>41</td>\n",
       "      <td>1.0</td>\n",
       "      <td>83807.86</td>\n",
       "      <td>1</td>\n",
       "      <td>0</td>\n",
       "      <td>1</td>\n",
       "      <td>112542.58</td>\n",
       "      <td>0</td>\n",
       "    </tr>\n",
       "    <tr>\n",
       "      <th>2</th>\n",
       "      <td>3</td>\n",
       "      <td>15619304</td>\n",
       "      <td>Onio</td>\n",
       "      <td>502</td>\n",
       "      <td>France</td>\n",
       "      <td>Female</td>\n",
       "      <td>42</td>\n",
       "      <td>8.0</td>\n",
       "      <td>159660.80</td>\n",
       "      <td>3</td>\n",
       "      <td>1</td>\n",
       "      <td>0</td>\n",
       "      <td>113931.57</td>\n",
       "      <td>1</td>\n",
       "    </tr>\n",
       "    <tr>\n",
       "      <th>3</th>\n",
       "      <td>4</td>\n",
       "      <td>15701354</td>\n",
       "      <td>Boni</td>\n",
       "      <td>699</td>\n",
       "      <td>France</td>\n",
       "      <td>Female</td>\n",
       "      <td>39</td>\n",
       "      <td>1.0</td>\n",
       "      <td>0.00</td>\n",
       "      <td>2</td>\n",
       "      <td>0</td>\n",
       "      <td>0</td>\n",
       "      <td>93826.63</td>\n",
       "      <td>0</td>\n",
       "    </tr>\n",
       "    <tr>\n",
       "      <th>4</th>\n",
       "      <td>5</td>\n",
       "      <td>15737888</td>\n",
       "      <td>Mitchell</td>\n",
       "      <td>850</td>\n",
       "      <td>Spain</td>\n",
       "      <td>Female</td>\n",
       "      <td>43</td>\n",
       "      <td>2.0</td>\n",
       "      <td>125510.82</td>\n",
       "      <td>1</td>\n",
       "      <td>1</td>\n",
       "      <td>1</td>\n",
       "      <td>79084.10</td>\n",
       "      <td>0</td>\n",
       "    </tr>\n",
       "    <tr>\n",
       "      <th>5</th>\n",
       "      <td>6</td>\n",
       "      <td>15574012</td>\n",
       "      <td>Chu</td>\n",
       "      <td>645</td>\n",
       "      <td>Spain</td>\n",
       "      <td>Male</td>\n",
       "      <td>44</td>\n",
       "      <td>8.0</td>\n",
       "      <td>113755.78</td>\n",
       "      <td>2</td>\n",
       "      <td>1</td>\n",
       "      <td>0</td>\n",
       "      <td>149756.71</td>\n",
       "      <td>1</td>\n",
       "    </tr>\n",
       "    <tr>\n",
       "      <th>6</th>\n",
       "      <td>7</td>\n",
       "      <td>15592531</td>\n",
       "      <td>Bartlett</td>\n",
       "      <td>822</td>\n",
       "      <td>France</td>\n",
       "      <td>Male</td>\n",
       "      <td>50</td>\n",
       "      <td>7.0</td>\n",
       "      <td>0.00</td>\n",
       "      <td>2</td>\n",
       "      <td>1</td>\n",
       "      <td>1</td>\n",
       "      <td>10062.80</td>\n",
       "      <td>0</td>\n",
       "    </tr>\n",
       "    <tr>\n",
       "      <th>7</th>\n",
       "      <td>8</td>\n",
       "      <td>15656148</td>\n",
       "      <td>Obinna</td>\n",
       "      <td>376</td>\n",
       "      <td>Germany</td>\n",
       "      <td>Female</td>\n",
       "      <td>29</td>\n",
       "      <td>4.0</td>\n",
       "      <td>115046.74</td>\n",
       "      <td>4</td>\n",
       "      <td>1</td>\n",
       "      <td>0</td>\n",
       "      <td>119346.88</td>\n",
       "      <td>1</td>\n",
       "    </tr>\n",
       "    <tr>\n",
       "      <th>8</th>\n",
       "      <td>9</td>\n",
       "      <td>15792365</td>\n",
       "      <td>He</td>\n",
       "      <td>501</td>\n",
       "      <td>France</td>\n",
       "      <td>Male</td>\n",
       "      <td>44</td>\n",
       "      <td>4.0</td>\n",
       "      <td>142051.07</td>\n",
       "      <td>2</td>\n",
       "      <td>0</td>\n",
       "      <td>1</td>\n",
       "      <td>74940.50</td>\n",
       "      <td>0</td>\n",
       "    </tr>\n",
       "    <tr>\n",
       "      <th>9</th>\n",
       "      <td>10</td>\n",
       "      <td>15592389</td>\n",
       "      <td>H?</td>\n",
       "      <td>684</td>\n",
       "      <td>France</td>\n",
       "      <td>Male</td>\n",
       "      <td>27</td>\n",
       "      <td>2.0</td>\n",
       "      <td>134603.88</td>\n",
       "      <td>1</td>\n",
       "      <td>1</td>\n",
       "      <td>1</td>\n",
       "      <td>71725.73</td>\n",
       "      <td>0</td>\n",
       "    </tr>\n",
       "  </tbody>\n",
       "</table>\n",
       "</div>"
      ],
      "text/plain": [
       "   RowNumber  CustomerId   Surname  CreditScore Geography  Gender  Age  \\\n",
       "0          1    15634602  Hargrave          619    France  Female   42   \n",
       "1          2    15647311      Hill          608     Spain  Female   41   \n",
       "2          3    15619304      Onio          502    France  Female   42   \n",
       "3          4    15701354      Boni          699    France  Female   39   \n",
       "4          5    15737888  Mitchell          850     Spain  Female   43   \n",
       "5          6    15574012       Chu          645     Spain    Male   44   \n",
       "6          7    15592531  Bartlett          822    France    Male   50   \n",
       "7          8    15656148    Obinna          376   Germany  Female   29   \n",
       "8          9    15792365        He          501    France    Male   44   \n",
       "9         10    15592389        H?          684    France    Male   27   \n",
       "\n",
       "   Tenure    Balance  NumOfProducts  HasCrCard  IsActiveMember  \\\n",
       "0     2.0       0.00              1          1               1   \n",
       "1     1.0   83807.86              1          0               1   \n",
       "2     8.0  159660.80              3          1               0   \n",
       "3     1.0       0.00              2          0               0   \n",
       "4     2.0  125510.82              1          1               1   \n",
       "5     8.0  113755.78              2          1               0   \n",
       "6     7.0       0.00              2          1               1   \n",
       "7     4.0  115046.74              4          1               0   \n",
       "8     4.0  142051.07              2          0               1   \n",
       "9     2.0  134603.88              1          1               1   \n",
       "\n",
       "   EstimatedSalary  Exited  \n",
       "0        101348.88       1  \n",
       "1        112542.58       0  \n",
       "2        113931.57       1  \n",
       "3         93826.63       0  \n",
       "4         79084.10       0  \n",
       "5        149756.71       1  \n",
       "6         10062.80       0  \n",
       "7        119346.88       1  \n",
       "8         74940.50       0  \n",
       "9         71725.73       0  "
      ]
     },
     "metadata": {},
     "output_type": "display_data"
    },
    {
     "name": "stdout",
     "output_type": "stream",
     "text": [
      "-------------------------------------------\n",
      "<class 'pandas.core.frame.DataFrame'>\n",
      "RangeIndex: 10000 entries, 0 to 9999\n",
      "Data columns (total 14 columns):\n",
      " #   Column           Non-Null Count  Dtype  \n",
      "---  ------           --------------  -----  \n",
      " 0   RowNumber        10000 non-null  int64  \n",
      " 1   CustomerId       10000 non-null  int64  \n",
      " 2   Surname          10000 non-null  object \n",
      " 3   CreditScore      10000 non-null  int64  \n",
      " 4   Geography        10000 non-null  object \n",
      " 5   Gender           10000 non-null  object \n",
      " 6   Age              10000 non-null  int64  \n",
      " 7   Tenure           9091 non-null   float64\n",
      " 8   Balance          10000 non-null  float64\n",
      " 9   NumOfProducts    10000 non-null  int64  \n",
      " 10  HasCrCard        10000 non-null  int64  \n",
      " 11  IsActiveMember   10000 non-null  int64  \n",
      " 12  EstimatedSalary  10000 non-null  float64\n",
      " 13  Exited           10000 non-null  int64  \n",
      "dtypes: float64(3), int64(8), object(3)\n",
      "memory usage: 1.1+ MB\n",
      "None\n",
      "-------------------------------------------\n"
     ]
    },
    {
     "data": {
      "image/png": "[encoded data removed]",
      "text/plain": [
       "<Figure size 1080x1440 with 12 Axes>"
      ]
     },
     "metadata": {
      "needs_background": "light"
     },
     "output_type": "display_data"
    }
   ],
   "source": [
    "def show_info(df_name):  # создадим функцию, которая покажет всю общую информацию о датасете\n",
    "    display(df.head(10))\n",
    "    print('-------------------------------------------')\n",
    "    print(df.info())\n",
    "    print('-------------------------------------------')\n",
    "    df.hist(figsize=(15, 20));\n",
    "        \n",
    "show_info(df)"
   ]
  },
  {
   "cell_type": "markdown",
   "metadata": {},
   "source": [
    "Итак, перед нами данные из 10000 строк и 14 столбцов. Мы видим, что в столбце `Tenure`  (сколько лет человек является клиентом банка) есть пропуски. Типы данных указаны корректно. А на графиках мы видим распределение признаков. Например, целевой признак `Exited` (факт ухода клиента) имеет значительный разброс в классах (8 тысяч значений против 2-х). Дисбалан в целевом признаке мы ликвидируем позже, а пока подготовим данные к исследованию."
   ]
  },
  {
   "cell_type": "code",
   "execution_count": 4,
   "metadata": {},
   "outputs": [
    {
     "data": {
      "text/plain": [
       "0"
      ]
     },
     "execution_count": 4,
     "metadata": {},
     "output_type": "execute_result"
    }
   ],
   "source": [
    "# проверим данные на дубликаты\n",
    "df.duplicated().sum()"
   ]
  },
  {
   "cell_type": "code",
   "execution_count": 5,
   "metadata": {},
   "outputs": [],
   "source": [
    "# заполним пропуски нулевыми значениями\n",
    "df['Tenure'] = df['Tenure'].fillna(df['Tenure'].median())"
   ]
  },
  {
   "cell_type": "code",
   "execution_count": 7,
   "metadata": {},
   "outputs": [
    {
     "name": "stdout",
     "output_type": "stream",
     "text": [
      "<class 'pandas.core.frame.DataFrame'>\n",
      "RangeIndex: 10000 entries, 0 to 9999\n",
      "Data columns (total 14 columns):\n",
      " #   Column           Non-Null Count  Dtype  \n",
      "---  ------           --------------  -----  \n",
      " 0   RowNumber        10000 non-null  int64  \n",
      " 1   CustomerId       10000 non-null  int64  \n",
      " 2   Surname          10000 non-null  object \n",
      " 3   CreditScore      10000 non-null  int64  \n",
      " 4   Geography        10000 non-null  object \n",
      " 5   Gender           10000 non-null  object \n",
      " 6   Age              10000 non-null  int64  \n",
      " 7   Tenure           10000 non-null  float64\n",
      " 8   Balance          10000 non-null  float64\n",
      " 9   NumOfProducts    10000 non-null  int64  \n",
      " 10  HasCrCard        10000 non-null  int64  \n",
      " 11  IsActiveMember   10000 non-null  int64  \n",
      " 12  EstimatedSalary  10000 non-null  float64\n",
      " 13  Exited           10000 non-null  int64  \n",
      "dtypes: float64(3), int64(8), object(3)\n",
      "memory usage: 1.1+ MB\n"
     ]
    }
   ],
   "source": [
    "df.info() # убедимся, что пропущенные значения исчесли"
   ]
  },
  {
   "cell_type": "markdown",
   "metadata": {},
   "source": [
    "Обратим внимание на первые три столбца: `RowNumber`, `CustomerId`, `Surname`. Эти столбцы не представляют особой ценности для нашего исследования, т.к. по сути являются идентификаторами. В частности столбец `Surname` с фимилями может серьезно усложнить проведение исследования и построения моделей, когда мы начнем переводить категориальные значения в числовые. Поэтому предлагается их просто удалить."
   ]
  },
  {
   "cell_type": "code",
   "execution_count": 8,
   "metadata": {},
   "outputs": [
    {
     "data": {
      "text/html": [
       "<div>\n",
       "<style scoped>\n",
       "    .dataframe tbody tr th:only-of-type {\n",
       "        vertical-align: middle;\n",
       "    }\n",
       "\n",
       "    .dataframe tbody tr th {\n",
       "        vertical-align: top;\n",
       "    }\n",
       "\n",
       "    .dataframe thead th {\n",
       "        text-align: right;\n",
       "    }\n",
       "</style>\n",
       "<table border=\"1\" class=\"dataframe\">\n",
       "  <thead>\n",
       "    <tr style=\"text-align: right;\">\n",
       "      <th></th>\n",
       "      <th>CreditScore</th>\n",
       "      <th>Geography</th>\n",
       "      <th>Gender</th>\n",
       "      <th>Age</th>\n",
       "      <th>Tenure</th>\n",
       "      <th>Balance</th>\n",
       "      <th>NumOfProducts</th>\n",
       "      <th>HasCrCard</th>\n",
       "      <th>IsActiveMember</th>\n",
       "      <th>EstimatedSalary</th>\n",
       "      <th>Exited</th>\n",
       "    </tr>\n",
       "  </thead>\n",
       "  <tbody>\n",
       "    <tr>\n",
       "      <th>0</th>\n",
       "      <td>619</td>\n",
       "      <td>France</td>\n",
       "      <td>Female</td>\n",
       "      <td>42</td>\n",
       "      <td>2.0</td>\n",
       "      <td>0.00</td>\n",
       "      <td>1</td>\n",
       "      <td>1</td>\n",
       "      <td>1</td>\n",
       "      <td>101348.88</td>\n",
       "      <td>1</td>\n",
       "    </tr>\n",
       "    <tr>\n",
       "      <th>1</th>\n",
       "      <td>608</td>\n",
       "      <td>Spain</td>\n",
       "      <td>Female</td>\n",
       "      <td>41</td>\n",
       "      <td>1.0</td>\n",
       "      <td>83807.86</td>\n",
       "      <td>1</td>\n",
       "      <td>0</td>\n",
       "      <td>1</td>\n",
       "      <td>112542.58</td>\n",
       "      <td>0</td>\n",
       "    </tr>\n",
       "    <tr>\n",
       "      <th>2</th>\n",
       "      <td>502</td>\n",
       "      <td>France</td>\n",
       "      <td>Female</td>\n",
       "      <td>42</td>\n",
       "      <td>8.0</td>\n",
       "      <td>159660.80</td>\n",
       "      <td>3</td>\n",
       "      <td>1</td>\n",
       "      <td>0</td>\n",
       "      <td>113931.57</td>\n",
       "      <td>1</td>\n",
       "    </tr>\n",
       "    <tr>\n",
       "      <th>3</th>\n",
       "      <td>699</td>\n",
       "      <td>France</td>\n",
       "      <td>Female</td>\n",
       "      <td>39</td>\n",
       "      <td>1.0</td>\n",
       "      <td>0.00</td>\n",
       "      <td>2</td>\n",
       "      <td>0</td>\n",
       "      <td>0</td>\n",
       "      <td>93826.63</td>\n",
       "      <td>0</td>\n",
       "    </tr>\n",
       "    <tr>\n",
       "      <th>4</th>\n",
       "      <td>850</td>\n",
       "      <td>Spain</td>\n",
       "      <td>Female</td>\n",
       "      <td>43</td>\n",
       "      <td>2.0</td>\n",
       "      <td>125510.82</td>\n",
       "      <td>1</td>\n",
       "      <td>1</td>\n",
       "      <td>1</td>\n",
       "      <td>79084.10</td>\n",
       "      <td>0</td>\n",
       "    </tr>\n",
       "  </tbody>\n",
       "</table>\n",
       "</div>"
      ],
      "text/plain": [
       "   CreditScore Geography  Gender  Age  Tenure    Balance  NumOfProducts  \\\n",
       "0          619    France  Female   42     2.0       0.00              1   \n",
       "1          608     Spain  Female   41     1.0   83807.86              1   \n",
       "2          502    France  Female   42     8.0  159660.80              3   \n",
       "3          699    France  Female   39     1.0       0.00              2   \n",
       "4          850     Spain  Female   43     2.0  125510.82              1   \n",
       "\n",
       "   HasCrCard  IsActiveMember  EstimatedSalary  Exited  \n",
       "0          1               1        101348.88       1  \n",
       "1          0               1        112542.58       0  \n",
       "2          1               0        113931.57       1  \n",
       "3          0               0         93826.63       0  \n",
       "4          1               1         79084.10       0  "
      ]
     },
     "metadata": {},
     "output_type": "display_data"
    }
   ],
   "source": [
    "df = df.drop(columns=['RowNumber', 'CustomerId', 'Surname'])\n",
    "display(df.head(5))"
   ]
  },
  {
   "cell_type": "code",
   "execution_count": 9,
   "metadata": {},
   "outputs": [
    {
     "data": {
      "text/plain": [
       "(10000, 11)"
      ]
     },
     "execution_count": 9,
     "metadata": {},
     "output_type": "execute_result"
    }
   ],
   "source": [
    "df.shape"
   ]
  },
  {
   "cell_type": "code",
   "execution_count": 10,
   "metadata": {},
   "outputs": [
    {
     "data": {
      "text/html": [
       "<div>\n",
       "<style scoped>\n",
       "    .dataframe tbody tr th:only-of-type {\n",
       "        vertical-align: middle;\n",
       "    }\n",
       "\n",
       "    .dataframe tbody tr th {\n",
       "        vertical-align: top;\n",
       "    }\n",
       "\n",
       "    .dataframe thead th {\n",
       "        text-align: right;\n",
       "    }\n",
       "</style>\n",
       "<table border=\"1\" class=\"dataframe\">\n",
       "  <thead>\n",
       "    <tr style=\"text-align: right;\">\n",
       "      <th></th>\n",
       "      <th>CreditScore</th>\n",
       "      <th>Age</th>\n",
       "      <th>Tenure</th>\n",
       "      <th>Balance</th>\n",
       "      <th>NumOfProducts</th>\n",
       "      <th>HasCrCard</th>\n",
       "      <th>IsActiveMember</th>\n",
       "      <th>EstimatedSalary</th>\n",
       "      <th>Exited</th>\n",
       "      <th>Geography_Germany</th>\n",
       "      <th>Geography_Spain</th>\n",
       "      <th>Gender_Male</th>\n",
       "    </tr>\n",
       "  </thead>\n",
       "  <tbody>\n",
       "    <tr>\n",
       "      <th>0</th>\n",
       "      <td>619</td>\n",
       "      <td>42</td>\n",
       "      <td>2.0</td>\n",
       "      <td>0.00</td>\n",
       "      <td>1</td>\n",
       "      <td>1</td>\n",
       "      <td>1</td>\n",
       "      <td>101348.88</td>\n",
       "      <td>1</td>\n",
       "      <td>0</td>\n",
       "      <td>0</td>\n",
       "      <td>0</td>\n",
       "    </tr>\n",
       "    <tr>\n",
       "      <th>1</th>\n",
       "      <td>608</td>\n",
       "      <td>41</td>\n",
       "      <td>1.0</td>\n",
       "      <td>83807.86</td>\n",
       "      <td>1</td>\n",
       "      <td>0</td>\n",
       "      <td>1</td>\n",
       "      <td>112542.58</td>\n",
       "      <td>0</td>\n",
       "      <td>0</td>\n",
       "      <td>1</td>\n",
       "      <td>0</td>\n",
       "    </tr>\n",
       "    <tr>\n",
       "      <th>2</th>\n",
       "      <td>502</td>\n",
       "      <td>42</td>\n",
       "      <td>8.0</td>\n",
       "      <td>159660.80</td>\n",
       "      <td>3</td>\n",
       "      <td>1</td>\n",
       "      <td>0</td>\n",
       "      <td>113931.57</td>\n",
       "      <td>1</td>\n",
       "      <td>0</td>\n",
       "      <td>0</td>\n",
       "      <td>0</td>\n",
       "    </tr>\n",
       "    <tr>\n",
       "      <th>3</th>\n",
       "      <td>699</td>\n",
       "      <td>39</td>\n",
       "      <td>1.0</td>\n",
       "      <td>0.00</td>\n",
       "      <td>2</td>\n",
       "      <td>0</td>\n",
       "      <td>0</td>\n",
       "      <td>93826.63</td>\n",
       "      <td>0</td>\n",
       "      <td>0</td>\n",
       "      <td>0</td>\n",
       "      <td>0</td>\n",
       "    </tr>\n",
       "    <tr>\n",
       "      <th>4</th>\n",
       "      <td>850</td>\n",
       "      <td>43</td>\n",
       "      <td>2.0</td>\n",
       "      <td>125510.82</td>\n",
       "      <td>1</td>\n",
       "      <td>1</td>\n",
       "      <td>1</td>\n",
       "      <td>79084.10</td>\n",
       "      <td>0</td>\n",
       "      <td>0</td>\n",
       "      <td>1</td>\n",
       "      <td>0</td>\n",
       "    </tr>\n",
       "  </tbody>\n",
       "</table>\n",
       "</div>"
      ],
      "text/plain": [
       "   CreditScore  Age  Tenure    Balance  NumOfProducts  HasCrCard  \\\n",
       "0          619   42     2.0       0.00              1          1   \n",
       "1          608   41     1.0   83807.86              1          0   \n",
       "2          502   42     8.0  159660.80              3          1   \n",
       "3          699   39     1.0       0.00              2          0   \n",
       "4          850   43     2.0  125510.82              1          1   \n",
       "\n",
       "   IsActiveMember  EstimatedSalary  Exited  Geography_Germany  \\\n",
       "0               1        101348.88       1                  0   \n",
       "1               1        112542.58       0                  0   \n",
       "2               0        113931.57       1                  0   \n",
       "3               0         93826.63       0                  0   \n",
       "4               1         79084.10       0                  0   \n",
       "\n",
       "   Geography_Spain  Gender_Male  \n",
       "0                0            0  \n",
       "1                1            0  \n",
       "2                0            0  \n",
       "3                0            0  \n",
       "4                1            0  "
      ]
     },
     "execution_count": 10,
     "metadata": {},
     "output_type": "execute_result"
    }
   ],
   "source": [
    "# с помощью ОНЕ переведем категориальные значения в числовые\n",
    "df = pd.get_dummies(df, drop_first=True)\n",
    "df.head(5)"
   ]
  },
  {
   "cell_type": "code",
   "execution_count": 11,
   "metadata": {},
   "outputs": [
    {
     "data": {
      "text/plain": [
       "(10000, 12)"
      ]
     },
     "execution_count": 11,
     "metadata": {},
     "output_type": "execute_result"
    }
   ],
   "source": [
    "df.shape"
   ]
  },
  {
   "cell_type": "markdown",
   "metadata": {},
   "source": [
    "**Вывод:** Для проведения исследования мы подготовили датасет, заполнив пропуски, перобразовав категориальные значения в числовые и удалив не нужные столбцы. Данные в датасете не имеют дубликатов, имеют правильные типы, и мы можем приступать к исследованию."
   ]
  },
  {
   "cell_type": "markdown",
   "metadata": {},
   "source": [
    "## Исследование задачи"
   ]
  },
  {
   "cell_type": "markdown",
   "metadata": {},
   "source": [
    "Как мы отмечали ранее у целевого признака есть значительный разброс в классах. Но для начала попробуем построить модели без учета дисбаланса. И посмотреть на ключевые метрики."
   ]
  },
  {
   "cell_type": "code",
   "execution_count": 12,
   "metadata": {},
   "outputs": [],
   "source": [
    "# выделим в данных целевой признак, с которым будем сравнивать, и остальные признаки, на которых мы будем учить модель\n",
    "features = df.drop('Exited', axis=1)\n",
    "target = df['Exited']"
   ]
  },
  {
   "cell_type": "markdown",
   "metadata": {},
   "source": [
    "Поскольку у нас нет тестовой выборки, то создадим её разделив данные в соотношении 3:1:1 на обучающую, валидационную и тестовую выборки соответственно."
   ]
  },
  {
   "cell_type": "code",
   "execution_count": 13,
   "metadata": {},
   "outputs": [],
   "source": [
    "# сначала создадим обучающую и валидационную выборки\n",
    "features_train, features_valid, target_train, target_valid = train_test_split(features, target, test_size=0.4, random_state=25)"
   ]
  },
  {
   "cell_type": "code",
   "execution_count": 14,
   "metadata": {},
   "outputs": [],
   "source": [
    "# теперь из валидационной выделим половину для тестовой выборки\n",
    "features_valid, features_test, target_valid, target_test = train_test_split(features_valid, target_valid, test_size=0.5, random_state=25)"
   ]
  },
  {
   "cell_type": "code",
   "execution_count": 15,
   "metadata": {},
   "outputs": [
    {
     "name": "stdout",
     "output_type": "stream",
     "text": [
      "(6000, 11)\n",
      "(6000,)\n",
      "(2000, 11)\n",
      "(2000,)\n",
      "(2000, 11)\n",
      "(2000,)\n"
     ]
    }
   ],
   "source": [
    "# проверим размеры выборок\n",
    "print(features_train.shape)\n",
    "print(target_train.shape)\n",
    "print(features_valid.shape)\n",
    "print(target_valid.shape)\n",
    "print(features_test.shape)\n",
    "print(target_test.shape)"
   ]
  },
  {
   "cell_type": "markdown",
   "metadata": {},
   "source": [
    "Согласно принятым правилам нам удалось разбить общие данные на обучающую, валидационную и тестовую выборки. Размер выборок пропорционален отношению 3:1:1 "
   ]
  },
  {
   "cell_type": "code",
   "execution_count": 16,
   "metadata": {},
   "outputs": [
    {
     "data": {
      "text/html": [
       "<div>\n",
       "<style scoped>\n",
       "    .dataframe tbody tr th:only-of-type {\n",
       "        vertical-align: middle;\n",
       "    }\n",
       "\n",
       "    .dataframe tbody tr th {\n",
       "        vertical-align: top;\n",
       "    }\n",
       "\n",
       "    .dataframe thead th {\n",
       "        text-align: right;\n",
       "    }\n",
       "</style>\n",
       "<table border=\"1\" class=\"dataframe\">\n",
       "  <thead>\n",
       "    <tr style=\"text-align: right;\">\n",
       "      <th></th>\n",
       "      <th>CreditScore</th>\n",
       "      <th>Age</th>\n",
       "      <th>Tenure</th>\n",
       "      <th>Balance</th>\n",
       "      <th>NumOfProducts</th>\n",
       "      <th>HasCrCard</th>\n",
       "      <th>IsActiveMember</th>\n",
       "      <th>EstimatedSalary</th>\n",
       "      <th>Geography_Germany</th>\n",
       "      <th>Geography_Spain</th>\n",
       "      <th>Gender_Male</th>\n",
       "    </tr>\n",
       "  </thead>\n",
       "  <tbody>\n",
       "    <tr>\n",
       "      <th>2108</th>\n",
       "      <td>593</td>\n",
       "      <td>74</td>\n",
       "      <td>5.0</td>\n",
       "      <td>161434.36</td>\n",
       "      <td>2</td>\n",
       "      <td>1</td>\n",
       "      <td>1</td>\n",
       "      <td>65532.17</td>\n",
       "      <td>1</td>\n",
       "      <td>0</td>\n",
       "      <td>1</td>\n",
       "    </tr>\n",
       "    <tr>\n",
       "      <th>1250</th>\n",
       "      <td>548</td>\n",
       "      <td>32</td>\n",
       "      <td>5.0</td>\n",
       "      <td>175214.71</td>\n",
       "      <td>1</td>\n",
       "      <td>1</td>\n",
       "      <td>1</td>\n",
       "      <td>155165.61</td>\n",
       "      <td>1</td>\n",
       "      <td>0</td>\n",
       "      <td>1</td>\n",
       "    </tr>\n",
       "    <tr>\n",
       "      <th>141</th>\n",
       "      <td>663</td>\n",
       "      <td>34</td>\n",
       "      <td>7.0</td>\n",
       "      <td>0.00</td>\n",
       "      <td>2</td>\n",
       "      <td>1</td>\n",
       "      <td>1</td>\n",
       "      <td>180427.24</td>\n",
       "      <td>0</td>\n",
       "      <td>0</td>\n",
       "      <td>1</td>\n",
       "    </tr>\n",
       "    <tr>\n",
       "      <th>7512</th>\n",
       "      <td>641</td>\n",
       "      <td>50</td>\n",
       "      <td>6.0</td>\n",
       "      <td>153590.73</td>\n",
       "      <td>2</td>\n",
       "      <td>1</td>\n",
       "      <td>1</td>\n",
       "      <td>130910.78</td>\n",
       "      <td>0</td>\n",
       "      <td>0</td>\n",
       "      <td>1</td>\n",
       "    </tr>\n",
       "    <tr>\n",
       "      <th>8875</th>\n",
       "      <td>702</td>\n",
       "      <td>36</td>\n",
       "      <td>9.0</td>\n",
       "      <td>90560.48</td>\n",
       "      <td>2</td>\n",
       "      <td>1</td>\n",
       "      <td>0</td>\n",
       "      <td>174268.87</td>\n",
       "      <td>1</td>\n",
       "      <td>0</td>\n",
       "      <td>1</td>\n",
       "    </tr>\n",
       "  </tbody>\n",
       "</table>\n",
       "</div>"
      ],
      "text/plain": [
       "      CreditScore  Age  Tenure    Balance  NumOfProducts  HasCrCard  \\\n",
       "2108          593   74     5.0  161434.36              2          1   \n",
       "1250          548   32     5.0  175214.71              1          1   \n",
       "141           663   34     7.0       0.00              2          1   \n",
       "7512          641   50     6.0  153590.73              2          1   \n",
       "8875          702   36     9.0   90560.48              2          1   \n",
       "\n",
       "      IsActiveMember  EstimatedSalary  Geography_Germany  Geography_Spain  \\\n",
       "2108               1         65532.17                  1                0   \n",
       "1250               1        155165.61                  1                0   \n",
       "141                1        180427.24                  0                0   \n",
       "7512               1        130910.78                  0                0   \n",
       "8875               0        174268.87                  1                0   \n",
       "\n",
       "      Gender_Male  \n",
       "2108            1  \n",
       "1250            1  \n",
       "141             1  \n",
       "7512            1  \n",
       "8875            1  "
      ]
     },
     "execution_count": 16,
     "metadata": {},
     "output_type": "execute_result"
    }
   ],
   "source": [
    "# взглянем на тренировочные признаки, чтобы оценить необходимость масштабирования\n",
    "features_train.head()"
   ]
  },
  {
   "cell_type": "code",
   "execution_count": 17,
   "metadata": {},
   "outputs": [],
   "source": [
    "# для масштабирования зафиксируем численные признаки\n",
    "numeric = ['CreditScore', 'Age', 'Tenure', 'Balance', 'NumOfProducts', 'EstimatedSalary']"
   ]
  },
  {
   "cell_type": "code",
   "execution_count": 18,
   "metadata": {},
   "outputs": [
    {
     "data": {
      "text/plain": [
       "StandardScaler()"
      ]
     },
     "execution_count": 18,
     "metadata": {},
     "output_type": "execute_result"
    }
   ],
   "source": [
    "scaler = StandardScaler()\n",
    "scaler.fit(features_train[numeric])"
   ]
  },
  {
   "cell_type": "code",
   "execution_count": 19,
   "metadata": {},
   "outputs": [
    {
     "data": {
      "text/html": [
       "<div>\n",
       "<style scoped>\n",
       "    .dataframe tbody tr th:only-of-type {\n",
       "        vertical-align: middle;\n",
       "    }\n",
       "\n",
       "    .dataframe tbody tr th {\n",
       "        vertical-align: top;\n",
       "    }\n",
       "\n",
       "    .dataframe thead th {\n",
       "        text-align: right;\n",
       "    }\n",
       "</style>\n",
       "<table border=\"1\" class=\"dataframe\">\n",
       "  <thead>\n",
       "    <tr style=\"text-align: right;\">\n",
       "      <th></th>\n",
       "      <th>CreditScore</th>\n",
       "      <th>Age</th>\n",
       "      <th>Tenure</th>\n",
       "      <th>Balance</th>\n",
       "      <th>NumOfProducts</th>\n",
       "      <th>HasCrCard</th>\n",
       "      <th>IsActiveMember</th>\n",
       "      <th>EstimatedSalary</th>\n",
       "      <th>Geography_Germany</th>\n",
       "      <th>Geography_Spain</th>\n",
       "      <th>Gender_Male</th>\n",
       "    </tr>\n",
       "  </thead>\n",
       "  <tbody>\n",
       "    <tr>\n",
       "      <th>2108</th>\n",
       "      <td>-0.592534</td>\n",
       "      <td>3.307191</td>\n",
       "      <td>0.004280</td>\n",
       "      <td>1.358667</td>\n",
       "      <td>0.828087</td>\n",
       "      <td>1</td>\n",
       "      <td>1</td>\n",
       "      <td>-0.609150</td>\n",
       "      <td>1</td>\n",
       "      <td>0</td>\n",
       "      <td>1</td>\n",
       "    </tr>\n",
       "    <tr>\n",
       "      <th>1250</th>\n",
       "      <td>-1.060596</td>\n",
       "      <td>-0.664294</td>\n",
       "      <td>0.004280</td>\n",
       "      <td>1.579739</td>\n",
       "      <td>-0.891125</td>\n",
       "      <td>1</td>\n",
       "      <td>1</td>\n",
       "      <td>0.960697</td>\n",
       "      <td>1</td>\n",
       "      <td>0</td>\n",
       "      <td>1</td>\n",
       "    </tr>\n",
       "    <tr>\n",
       "      <th>141</th>\n",
       "      <td>0.135563</td>\n",
       "      <td>-0.475176</td>\n",
       "      <td>0.727664</td>\n",
       "      <td>-1.231157</td>\n",
       "      <td>0.828087</td>\n",
       "      <td>1</td>\n",
       "      <td>1</td>\n",
       "      <td>1.403131</td>\n",
       "      <td>0</td>\n",
       "      <td>0</td>\n",
       "      <td>1</td>\n",
       "    </tr>\n",
       "    <tr>\n",
       "      <th>7512</th>\n",
       "      <td>-0.093267</td>\n",
       "      <td>1.037771</td>\n",
       "      <td>0.365972</td>\n",
       "      <td>1.232835</td>\n",
       "      <td>0.828087</td>\n",
       "      <td>1</td>\n",
       "      <td>1</td>\n",
       "      <td>0.535896</td>\n",
       "      <td>0</td>\n",
       "      <td>0</td>\n",
       "      <td>1</td>\n",
       "    </tr>\n",
       "    <tr>\n",
       "      <th>8875</th>\n",
       "      <td>0.541217</td>\n",
       "      <td>-0.286057</td>\n",
       "      <td>1.451048</td>\n",
       "      <td>0.221667</td>\n",
       "      <td>0.828087</td>\n",
       "      <td>1</td>\n",
       "      <td>0</td>\n",
       "      <td>1.295273</td>\n",
       "      <td>1</td>\n",
       "      <td>0</td>\n",
       "      <td>1</td>\n",
       "    </tr>\n",
       "  </tbody>\n",
       "</table>\n",
       "</div>"
      ],
      "text/plain": [
       "      CreditScore       Age    Tenure   Balance  NumOfProducts  HasCrCard  \\\n",
       "2108    -0.592534  3.307191  0.004280  1.358667       0.828087          1   \n",
       "1250    -1.060596 -0.664294  0.004280  1.579739      -0.891125          1   \n",
       "141      0.135563 -0.475176  0.727664 -1.231157       0.828087          1   \n",
       "7512    -0.093267  1.037771  0.365972  1.232835       0.828087          1   \n",
       "8875     0.541217 -0.286057  1.451048  0.221667       0.828087          1   \n",
       "\n",
       "      IsActiveMember  EstimatedSalary  Geography_Germany  Geography_Spain  \\\n",
       "2108               1        -0.609150                  1                0   \n",
       "1250               1         0.960697                  1                0   \n",
       "141                1         1.403131                  0                0   \n",
       "7512               1         0.535896                  0                0   \n",
       "8875               0         1.295273                  1                0   \n",
       "\n",
       "      Gender_Male  \n",
       "2108            1  \n",
       "1250            1  \n",
       "141             1  \n",
       "7512            1  \n",
       "8875            1  "
      ]
     },
     "execution_count": 19,
     "metadata": {},
     "output_type": "execute_result"
    }
   ],
   "source": [
    "# масштабируем числовые признаки обучающей выборки\n",
    "features_train[numeric] = scaler.transform(features_train[numeric])\n",
    "features_train.head()"
   ]
  },
  {
   "cell_type": "code",
   "execution_count": 20,
   "metadata": {},
   "outputs": [
    {
     "data": {
      "text/html": [
       "<div>\n",
       "<style scoped>\n",
       "    .dataframe tbody tr th:only-of-type {\n",
       "        vertical-align: middle;\n",
       "    }\n",
       "\n",
       "    .dataframe tbody tr th {\n",
       "        vertical-align: top;\n",
       "    }\n",
       "\n",
       "    .dataframe thead th {\n",
       "        text-align: right;\n",
       "    }\n",
       "</style>\n",
       "<table border=\"1\" class=\"dataframe\">\n",
       "  <thead>\n",
       "    <tr style=\"text-align: right;\">\n",
       "      <th></th>\n",
       "      <th>CreditScore</th>\n",
       "      <th>Age</th>\n",
       "      <th>Tenure</th>\n",
       "      <th>Balance</th>\n",
       "      <th>NumOfProducts</th>\n",
       "      <th>HasCrCard</th>\n",
       "      <th>IsActiveMember</th>\n",
       "      <th>EstimatedSalary</th>\n",
       "      <th>Geography_Germany</th>\n",
       "      <th>Geography_Spain</th>\n",
       "      <th>Gender_Male</th>\n",
       "    </tr>\n",
       "  </thead>\n",
       "  <tbody>\n",
       "    <tr>\n",
       "      <th>6966</th>\n",
       "      <td>0.135563</td>\n",
       "      <td>-1.609886</td>\n",
       "      <td>0.365972</td>\n",
       "      <td>-1.231157</td>\n",
       "      <td>0.828087</td>\n",
       "      <td>0</td>\n",
       "      <td>1</td>\n",
       "      <td>0.551946</td>\n",
       "      <td>0</td>\n",
       "      <td>0</td>\n",
       "      <td>1</td>\n",
       "    </tr>\n",
       "    <tr>\n",
       "      <th>6568</th>\n",
       "      <td>0.770047</td>\n",
       "      <td>1.416008</td>\n",
       "      <td>1.089356</td>\n",
       "      <td>1.531255</td>\n",
       "      <td>-0.891125</td>\n",
       "      <td>1</td>\n",
       "      <td>1</td>\n",
       "      <td>0.640827</td>\n",
       "      <td>1</td>\n",
       "      <td>0</td>\n",
       "      <td>1</td>\n",
       "    </tr>\n",
       "    <tr>\n",
       "      <th>7959</th>\n",
       "      <td>-0.977384</td>\n",
       "      <td>0.092179</td>\n",
       "      <td>1.089356</td>\n",
       "      <td>-1.231157</td>\n",
       "      <td>0.828087</td>\n",
       "      <td>1</td>\n",
       "      <td>0</td>\n",
       "      <td>-0.669039</td>\n",
       "      <td>0</td>\n",
       "      <td>0</td>\n",
       "      <td>0</td>\n",
       "    </tr>\n",
       "    <tr>\n",
       "      <th>193</th>\n",
       "      <td>-0.509323</td>\n",
       "      <td>-0.664294</td>\n",
       "      <td>1.089356</td>\n",
       "      <td>0.261010</td>\n",
       "      <td>-0.891125</td>\n",
       "      <td>1</td>\n",
       "      <td>0</td>\n",
       "      <td>-0.233906</td>\n",
       "      <td>0</td>\n",
       "      <td>0</td>\n",
       "      <td>1</td>\n",
       "    </tr>\n",
       "    <tr>\n",
       "      <th>7618</th>\n",
       "      <td>-0.748554</td>\n",
       "      <td>0.092179</td>\n",
       "      <td>0.727664</td>\n",
       "      <td>-1.231157</td>\n",
       "      <td>0.828087</td>\n",
       "      <td>0</td>\n",
       "      <td>0</td>\n",
       "      <td>0.033644</td>\n",
       "      <td>0</td>\n",
       "      <td>0</td>\n",
       "      <td>0</td>\n",
       "    </tr>\n",
       "  </tbody>\n",
       "</table>\n",
       "</div>"
      ],
      "text/plain": [
       "      CreditScore       Age    Tenure   Balance  NumOfProducts  HasCrCard  \\\n",
       "6966     0.135563 -1.609886  0.365972 -1.231157       0.828087          0   \n",
       "6568     0.770047  1.416008  1.089356  1.531255      -0.891125          1   \n",
       "7959    -0.977384  0.092179  1.089356 -1.231157       0.828087          1   \n",
       "193     -0.509323 -0.664294  1.089356  0.261010      -0.891125          1   \n",
       "7618    -0.748554  0.092179  0.727664 -1.231157       0.828087          0   \n",
       "\n",
       "      IsActiveMember  EstimatedSalary  Geography_Germany  Geography_Spain  \\\n",
       "6966               1         0.551946                  0                0   \n",
       "6568               1         0.640827                  1                0   \n",
       "7959               0        -0.669039                  0                0   \n",
       "193                0        -0.233906                  0                0   \n",
       "7618               0         0.033644                  0                0   \n",
       "\n",
       "      Gender_Male  \n",
       "6966            1  \n",
       "6568            1  \n",
       "7959            0  \n",
       "193             1  \n",
       "7618            0  "
      ]
     },
     "execution_count": 20,
     "metadata": {},
     "output_type": "execute_result"
    }
   ],
   "source": [
    "# масштабируем числовые признаки валидационной выборки \n",
    "features_valid[numeric] = scaler.transform(features_valid[numeric])\n",
    "features_valid.head()"
   ]
  },
  {
   "cell_type": "code",
   "execution_count": 21,
   "metadata": {},
   "outputs": [
    {
     "data": {
      "text/html": [
       "<div>\n",
       "<style scoped>\n",
       "    .dataframe tbody tr th:only-of-type {\n",
       "        vertical-align: middle;\n",
       "    }\n",
       "\n",
       "    .dataframe tbody tr th {\n",
       "        vertical-align: top;\n",
       "    }\n",
       "\n",
       "    .dataframe thead th {\n",
       "        text-align: right;\n",
       "    }\n",
       "</style>\n",
       "<table border=\"1\" class=\"dataframe\">\n",
       "  <thead>\n",
       "    <tr style=\"text-align: right;\">\n",
       "      <th></th>\n",
       "      <th>CreditScore</th>\n",
       "      <th>Age</th>\n",
       "      <th>Tenure</th>\n",
       "      <th>Balance</th>\n",
       "      <th>NumOfProducts</th>\n",
       "      <th>HasCrCard</th>\n",
       "      <th>IsActiveMember</th>\n",
       "      <th>EstimatedSalary</th>\n",
       "      <th>Geography_Germany</th>\n",
       "      <th>Geography_Spain</th>\n",
       "      <th>Gender_Male</th>\n",
       "    </tr>\n",
       "  </thead>\n",
       "  <tbody>\n",
       "    <tr>\n",
       "      <th>7822</th>\n",
       "      <td>-0.717350</td>\n",
       "      <td>1.037771</td>\n",
       "      <td>-1.080796</td>\n",
       "      <td>1.076235</td>\n",
       "      <td>0.828087</td>\n",
       "      <td>1</td>\n",
       "      <td>0</td>\n",
       "      <td>1.417090</td>\n",
       "      <td>1</td>\n",
       "      <td>0</td>\n",
       "      <td>1</td>\n",
       "    </tr>\n",
       "    <tr>\n",
       "      <th>8128</th>\n",
       "      <td>0.468407</td>\n",
       "      <td>-0.002380</td>\n",
       "      <td>-0.357412</td>\n",
       "      <td>-0.180028</td>\n",
       "      <td>-0.891125</td>\n",
       "      <td>1</td>\n",
       "      <td>1</td>\n",
       "      <td>-1.735098</td>\n",
       "      <td>0</td>\n",
       "      <td>1</td>\n",
       "      <td>1</td>\n",
       "    </tr>\n",
       "    <tr>\n",
       "      <th>2654</th>\n",
       "      <td>-1.227018</td>\n",
       "      <td>0.470416</td>\n",
       "      <td>0.004280</td>\n",
       "      <td>1.152699</td>\n",
       "      <td>-0.891125</td>\n",
       "      <td>1</td>\n",
       "      <td>0</td>\n",
       "      <td>-0.446156</td>\n",
       "      <td>0</td>\n",
       "      <td>0</td>\n",
       "      <td>1</td>\n",
       "    </tr>\n",
       "    <tr>\n",
       "      <th>6619</th>\n",
       "      <td>-0.030859</td>\n",
       "      <td>-0.664294</td>\n",
       "      <td>0.004280</td>\n",
       "      <td>0.325634</td>\n",
       "      <td>-0.891125</td>\n",
       "      <td>1</td>\n",
       "      <td>1</td>\n",
       "      <td>-1.351737</td>\n",
       "      <td>0</td>\n",
       "      <td>0</td>\n",
       "      <td>1</td>\n",
       "    </tr>\n",
       "    <tr>\n",
       "      <th>8382</th>\n",
       "      <td>-0.530125</td>\n",
       "      <td>-1.326208</td>\n",
       "      <td>0.004280</td>\n",
       "      <td>-1.231157</td>\n",
       "      <td>0.828087</td>\n",
       "      <td>1</td>\n",
       "      <td>1</td>\n",
       "      <td>0.358640</td>\n",
       "      <td>0</td>\n",
       "      <td>1</td>\n",
       "      <td>1</td>\n",
       "    </tr>\n",
       "  </tbody>\n",
       "</table>\n",
       "</div>"
      ],
      "text/plain": [
       "      CreditScore       Age    Tenure   Balance  NumOfProducts  HasCrCard  \\\n",
       "7822    -0.717350  1.037771 -1.080796  1.076235       0.828087          1   \n",
       "8128     0.468407 -0.002380 -0.357412 -0.180028      -0.891125          1   \n",
       "2654    -1.227018  0.470416  0.004280  1.152699      -0.891125          1   \n",
       "6619    -0.030859 -0.664294  0.004280  0.325634      -0.891125          1   \n",
       "8382    -0.530125 -1.326208  0.004280 -1.231157       0.828087          1   \n",
       "\n",
       "      IsActiveMember  EstimatedSalary  Geography_Germany  Geography_Spain  \\\n",
       "7822               0         1.417090                  1                0   \n",
       "8128               1        -1.735098                  0                1   \n",
       "2654               0        -0.446156                  0                0   \n",
       "6619               1        -1.351737                  0                0   \n",
       "8382               1         0.358640                  0                1   \n",
       "\n",
       "      Gender_Male  \n",
       "7822            1  \n",
       "8128            1  \n",
       "2654            1  \n",
       "6619            1  \n",
       "8382            1  "
      ]
     },
     "execution_count": 21,
     "metadata": {},
     "output_type": "execute_result"
    }
   ],
   "source": [
    "# масштабируем числовые признаки тестовой выборки \n",
    "features_test[numeric] = scaler.transform(features_test[numeric])\n",
    "features_test.head()"
   ]
  },
  {
   "cell_type": "markdown",
   "metadata": {},
   "source": [
    "Масштабирование выборок завершено. Теперь мы можем приступить к постоению моделей."
   ]
  },
  {
   "cell_type": "markdown",
   "metadata": {},
   "source": [
    "### \"Дерево решений\" (Decision Tree Classifier)"
   ]
  },
  {
   "cell_type": "code",
   "execution_count": 22,
   "metadata": {},
   "outputs": [
    {
     "name": "stdout",
     "output_type": "stream",
     "text": [
      "CPU times: user 475 ms, sys: 0 ns, total: 475 ms\n",
      "Wall time: 473 ms\n"
     ]
    }
   ],
   "source": [
    "%%time\n",
    "\n",
    "best_model1 = None\n",
    "best_depth1 = 0\n",
    "accuracy1 = 0\n",
    "f1_1 = 0\n",
    "for depth in range(1, 20):\n",
    "    model_tree = DecisionTreeClassifier(random_state=25, max_depth=depth)\n",
    "    model_tree.fit(features_train, target_train)\n",
    "    predictions_valid_tree = model_tree.predict(features_valid)\n",
    "    accuracy = accuracy_score(target_valid, predictions_valid_tree)\n",
    "    f1 = f1_score(target_valid, predictions_valid_tree)\n",
    "    if f1 > f1_1:\n",
    "        best_model1 = model_tree\n",
    "        accuracy1 = accuracy\n",
    "        best_depth1 = depth \n",
    "        f1_1 = f1"
   ]
  },
  {
   "cell_type": "code",
   "execution_count": 23,
   "metadata": {},
   "outputs": [
    {
     "name": "stdout",
     "output_type": "stream",
     "text": [
      "Модель: DecisionTreeClassifier(max_depth=7, random_state=25)\n",
      "Лучшая глубина дерева: 7\n",
      "Общая точность модели: 0.868\n",
      "Лучшая F1: 0.5938461538461538\n"
     ]
    }
   ],
   "source": [
    "print('Модель:', best_model1)\n",
    "print('Лучшая глубина дерева:', best_depth1)\n",
    "print('Общая точность модели:', accuracy1)\n",
    "print('Лучшая F1:', f1_1)"
   ]
  },
  {
   "cell_type": "code",
   "execution_count": 24,
   "metadata": {},
   "outputs": [
    {
     "data": {
      "image/png": "[encoded data removed]",
      "text/plain": [
       "<Figure size 1152x576 with 1 Axes>"
      ]
     },
     "metadata": {
      "needs_background": "light"
     },
     "output_type": "display_data"
    }
   ],
   "source": [
    "plt.figure(figsize=(16,8))\n",
    "tree.plot_tree(model_tree, max_depth=2, filled=True)\n",
    "plt.show()"
   ]
  },
  {
   "cell_type": "markdown",
   "metadata": {},
   "source": [
    "Теперь рассмотрим показатель AUC-ROC"
   ]
  },
  {
   "cell_type": "code",
   "execution_count": 25,
   "metadata": {},
   "outputs": [
    {
     "name": "stdout",
     "output_type": "stream",
     "text": [
      "AUC-ROC дерева решений: 0.8291380486044769\n"
     ]
    }
   ],
   "source": [
    "# для дерева решений\n",
    "probabilities_tree = best_model1.predict_proba(features_valid)\n",
    "probabilities_one_valid_tree = probabilities_tree[:,1]\n",
    "fpr_tree,tpr_tree,thresholds = roc_curve(target_valid,probabilities_one_valid_tree)\n",
    "auc_roc_tree = roc_auc_score(target_valid,probabilities_one_valid_tree)\n",
    "print('AUC-ROC дерева решений:', auc_roc_tree)"
   ]
  },
  {
   "cell_type": "markdown",
   "metadata": {},
   "source": [
    "**Вывод:** При глубине дерева равной 7 и случайной величине равной 25 модель дерева решений дает общую точность равную 0,868, f1 равна 0,59, а AUC-ROC дерева решений равно 0.829 ."
   ]
  },
  {
   "cell_type": "markdown",
   "metadata": {},
   "source": [
    "###  \"Случайный лес\" (Random Forest Classifier)"
   ]
  },
  {
   "cell_type": "code",
   "execution_count": 26,
   "metadata": {},
   "outputs": [
    {
     "name": "stdout",
     "output_type": "stream",
     "text": [
      "CPU times: user 9min 20s, sys: 1.98 s, total: 9min 22s\n",
      "Wall time: 9min 22s\n"
     ]
    }
   ],
   "source": [
    "%%time\n",
    "\n",
    "best_model2 = None\n",
    "best_depth2 = 0\n",
    "accuracy2 = 0\n",
    "f1_2 = 0\n",
    "best_est2 = 0\n",
    "for est in range(1, 101):\n",
    "    for depth in range(1, 20): \n",
    "        model_forest = RandomForestClassifier(random_state=25, max_depth=depth, n_estimators=est)\n",
    "        model_forest.fit(features_train, target_train)\n",
    "        predictions_valid_forest = model_forest.predict(features_valid)\n",
    "        accuracy_forest = accuracy_score(target_valid, predictions_valid_forest)\n",
    "        f1_forest = f1_score(target_valid, predictions_valid_forest)\n",
    "        if f1_forest > f1_2:\n",
    "            best_model2 = model_forest\n",
    "            accuracy2 = accuracy_forest\n",
    "            best_depth2 = depth\n",
    "            f1_2 = f1_forest\n",
    "            best_est2 = est"
   ]
  },
  {
   "cell_type": "code",
   "execution_count": 27,
   "metadata": {},
   "outputs": [
    {
     "name": "stdout",
     "output_type": "stream",
     "text": [
      "Модель: RandomForestClassifier(max_depth=16, n_estimators=41, random_state=25)\n",
      "Лучшая глубина дерева: 16\n",
      "Лучшее число деревьев: 41\n",
      "Общая точность модели: 0.8775\n",
      "Лучшая F1: 0.6293494704992436\n"
     ]
    }
   ],
   "source": [
    "print('Модель:', best_model2)\n",
    "print('Лучшая глубина дерева:', best_depth2)\n",
    "print('Лучшее число деревьев:', best_est2)\n",
    "print('Общая точность модели:', accuracy2)\n",
    "print('Лучшая F1:', f1_2)"
   ]
  },
  {
   "cell_type": "markdown",
   "metadata": {},
   "source": [
    "Теперь рассмотрим показатель AUC-ROC"
   ]
  },
  {
   "cell_type": "code",
   "execution_count": 28,
   "metadata": {},
   "outputs": [
    {
     "name": "stdout",
     "output_type": "stream",
     "text": [
      "AUC-ROC случайного леса: 0.8633247446031673\n"
     ]
    }
   ],
   "source": [
    "# для случайного леса\n",
    "probabilities_forest = best_model2.predict_proba(features_valid)\n",
    "probabilities_one_valid_forest = probabilities_forest[:,1]\n",
    "fpr_forest,tpr_forest,thresholds = roc_curve(target_valid,probabilities_one_valid_forest)\n",
    "auc_roc_forest = roc_auc_score(target_valid,probabilities_one_valid_forest)\n",
    "print('AUC-ROC случайного леса:', auc_roc_forest)"
   ]
  },
  {
   "cell_type": "markdown",
   "metadata": {},
   "source": [
    "**Вывод:** При глубине дерева - 16, числе деревьев - 41, случайной величине - 25, модель случайного леса показывает лучшую общую точность равную 0,88 и лучшую f1 равную 0,63, а AUC-ROC случайного леса равно 0.863 ."
   ]
  },
  {
   "cell_type": "markdown",
   "metadata": {},
   "source": [
    "### Логистическая регрессия (Logistic Regression)"
   ]
  },
  {
   "cell_type": "code",
   "execution_count": 29,
   "metadata": {},
   "outputs": [
    {
     "name": "stdout",
     "output_type": "stream",
     "text": [
      "CPU times: user 142 ms, sys: 252 ms, total: 394 ms\n",
      "Wall time: 375 ms\n"
     ]
    }
   ],
   "source": [
    "%%time\n",
    "\n",
    "model_logreg = LogisticRegression(random_state=25)\n",
    "model_logreg.fit(features_train, target_train)\n",
    "predictions_valid_logreg = model_logreg.predict(features_valid)\n",
    "accuracy_logreg = accuracy_score(target_valid, predictions_valid_logreg)\n",
    "f1_logreg = f1_score(target_valid, predictions_valid_forest)"
   ]
  },
  {
   "cell_type": "code",
   "execution_count": 30,
   "metadata": {},
   "outputs": [
    {
     "name": "stdout",
     "output_type": "stream",
     "text": [
      "Модель: LogisticRegression(random_state=25)\n",
      "Oбщая точность модели: 0.829\n",
      "F1: 0.60062893081761\n"
     ]
    }
   ],
   "source": [
    "print('Модель:', model_logreg)\n",
    "print('Oбщая точность модели:', accuracy_logreg)\n",
    "print('F1:', f1_logreg)"
   ]
  },
  {
   "cell_type": "markdown",
   "metadata": {},
   "source": [
    "Теперь рассмотрим показатель AUC-ROC"
   ]
  },
  {
   "cell_type": "code",
   "execution_count": 31,
   "metadata": {},
   "outputs": [
    {
     "name": "stdout",
     "output_type": "stream",
     "text": [
      "AUC-ROC логистической регрессии: 0.8008484881238684\n"
     ]
    }
   ],
   "source": [
    "# для логистической регрессии\n",
    "probabilities_reg = model_logreg.predict_proba(features_valid)\n",
    "probabilities_one_valid_reg = probabilities_reg[:,1]\n",
    "fpr_log,tpr_log,thresholds = roc_curve(target_valid,probabilities_one_valid_reg)\n",
    "auc_roc_reg = roc_auc_score(target_valid,probabilities_one_valid_reg)\n",
    "print('AUC-ROC логистической регрессии:', auc_roc_reg)"
   ]
  },
  {
   "cell_type": "markdown",
   "metadata": {},
   "source": [
    "**Вывод:** При случайной величине равной 25, модель логистической регрессии показывает общую точность равную 0,83 и f1 равную 0,60, а AUC-ROC логистической регрессии равно 0.801 ."
   ]
  },
  {
   "cell_type": "markdown",
   "metadata": {},
   "source": [
    "Теперь для моделей построим графики по AUC-ROC."
   ]
  },
  {
   "cell_type": "code",
   "execution_count": 32,
   "metadata": {},
   "outputs": [
    {
     "data": {
      "image/png": "[encoded data removed]",
      "text/plain": [
       "<Figure size 720x504 with 1 Axes>"
      ]
     },
     "metadata": {
      "needs_background": "light"
     },
     "output_type": "display_data"
    }
   ],
   "source": [
    "plt.figure(figsize=(10,7))\n",
    "plt.plot([0, 1], [0, 1], linestyle='--')\n",
    "plt.xlim([0.0, 1.0])\n",
    "plt.ylim([0.0, 1.0])\n",
    "plt.plot(fpr_log,tpr_log)\n",
    "plt.plot(fpr_tree,tpr_tree)\n",
    "plt.plot(fpr_forest,tpr_forest)\n",
    "plt.xlabel('False Positive Rate')\n",
    "plt.ylabel('True Positive Rate')\n",
    "plt.title('ROC-кривая')\n",
    "plt.legend(('Случайная модель','Логистическая регрессия','Дерево решения','Случайный лес'),loc='lower right') \n",
    "plt.show()"
   ]
  },
  {
   "cell_type": "markdown",
   "metadata": {},
   "source": [
    "Как мы видим на графике лучший показатель площади под ROC-кривой у модели случайного леса."
   ]
  },
  {
   "cell_type": "markdown",
   "metadata": {},
   "source": [
    "**ИТОГ:** Наилучший показатель f1 имеет модель \"Случайный лес\" - 0,63, на втором месте Логистическая регрессия - 0,60, на третьем  \"Дерево решений\" - 0,59. При глубине дерева - 16, числе деревьев - 41, случайной величине - 25, модель случайного леса показывает лучшую общую точность равную 0,88 и лучшую f1 равную 0,63, а AUC-ROC случайного леса равно 0.863 ."
   ]
  },
  {
   "cell_type": "markdown",
   "metadata": {},
   "source": [
    "## Борьба с дисбалансом"
   ]
  },
  {
   "cell_type": "markdown",
   "metadata": {},
   "source": [
    "Теперь исправим дисбаланс целевого признака и попытаемся улучшить наши модели."
   ]
  },
  {
   "cell_type": "code",
   "execution_count": 33,
   "metadata": {},
   "outputs": [],
   "source": [
    "# создадим функцию для увеличения представленной класса в выборке \n",
    "def upsample(features, target, repeat, upsampled_сlass): # upsampled_сlass означает какой именно класс нужно увеличить 0 или 1\n",
    "    features_zeros = features[target == 0]\n",
    "    features_ones = features[target == 1]\n",
    "    target_zeros = target[target == 0]\n",
    "    target_ones = target[target == 1]\n",
    "    \n",
    "    if upsampled_сlass == 0:\n",
    "        features_upsampled = pd.concat([features_zeros]* repeat + [features_ones] )\n",
    "        target_upsampled = pd.concat([target_zeros]* repeat + [target_ones] )\n",
    "        features_upsampled, target_upsampled = shuffle(\n",
    "        features_upsampled, target_upsampled, random_state=25)\n",
    "        \n",
    "    elif upsampled_сlass == 1:\n",
    "        features_upsampled = pd.concat([features_zeros] + [features_ones] * repeat)\n",
    "        target_upsampled = pd.concat([target_zeros] + [target_ones] * repeat)\n",
    "        features_upsampled, target_upsampled = shuffle(\n",
    "        features_upsampled, target_upsampled, random_state=25)\n",
    "    else:\n",
    "        features_upsampled = 0\n",
    "        target_upsampled = 0  \n",
    "           \n",
    "    return features_upsampled, target_upsampled"
   ]
  },
  {
   "cell_type": "code",
   "execution_count": 34,
   "metadata": {},
   "outputs": [],
   "source": [
    "# создадим функцию для уменьшения представленной класса в выборке \n",
    "def downsample(features, target, fraction):\n",
    "    features_zeros = features[target == 0]\n",
    "    features_ones = features[target == 1]\n",
    "    target_zeros = target[target == 0]\n",
    "    target_ones = target[target == 1]\n",
    "\n",
    "    features_downsampled = pd.concat([features_zeros.sample(frac=fraction, random_state=25)] + [features_ones])\n",
    "    target_downsampled = pd.concat([target_zeros.sample(frac=fraction, random_state=25)] + [target_ones])\n",
    "    \n",
    "    features_downsampled, target_downsampled = shuffle(features_downsampled, target_downsampled, random_state=25)\n",
    "    \n",
    "    return features_downsampled, target_downsampled"
   ]
  },
  {
   "cell_type": "code",
   "execution_count": 35,
   "metadata": {},
   "outputs": [
    {
     "name": "stdout",
     "output_type": "stream",
     "text": [
      "1    0.51473\n",
      "0    0.48527\n",
      "Name: Exited, dtype: float64\n",
      "(2444,)\n"
     ]
    }
   ],
   "source": [
    "# т.к. 2000/8000 = 0,25, то значение fraction будет равно 0.25\n",
    "features_downsampled_train, target_downsampled_train = downsample(features_train, target_train, fraction=0.25) \n",
    "print(target_downsampled_train.value_counts(normalize = 1))\n",
    "print(target_downsampled_train.shape)"
   ]
  },
  {
   "cell_type": "markdown",
   "metadata": {},
   "source": [
    "`downsample` позволил сократить данные и добиться примерно равного соотношения классов в целевом показателе"
   ]
  },
  {
   "cell_type": "code",
   "execution_count": 36,
   "metadata": {},
   "outputs": [
    {
     "name": "stdout",
     "output_type": "stream",
     "text": [
      "1    5032\n",
      "0    4742\n",
      "Name: Exited, dtype: int64\n",
      "(9774,)\n"
     ]
    }
   ],
   "source": [
    "# применим функцию upsample и увеличим количество положительных ответов в 4 раза\n",
    "features_train_upsampled, target_train_upsampled = upsample(features_train, target_train, 4, 1)\n",
    "print(target_train_upsampled.value_counts(normalize = 0))\n",
    "print(target_train_upsampled.shape)"
   ]
  },
  {
   "cell_type": "markdown",
   "metadata": {},
   "source": [
    "`upsample` наоборот позволил увеличить данные и добиться примерно равного соотношения классов в целевом показателе"
   ]
  },
  {
   "cell_type": "markdown",
   "metadata": {},
   "source": [
    "Поскольку 2444 примеров для тренировки модели это очень мало, то дальше мы будем работать с данными увеличинными с помощью функции `upsample`. Число в 9774 примера гораздо лучше подойдет для обучения моделей."
   ]
  },
  {
   "cell_type": "markdown",
   "metadata": {},
   "source": [
    "###  \"Дерево решений\" (Decision Tree Classifier)"
   ]
  },
  {
   "cell_type": "code",
   "execution_count": 39,
   "metadata": {},
   "outputs": [
    {
     "name": "stdout",
     "output_type": "stream",
     "text": [
      "CPU times: user 687 ms, sys: 0 ns, total: 687 ms\n",
      "Wall time: 695 ms\n"
     ]
    }
   ],
   "source": [
    "%%time\n",
    "\n",
    "best_model1_balanced = None\n",
    "best_depth1_balanced = 0\n",
    "accuracy1_balanced = 0\n",
    "f1_1_balanced = 0\n",
    "for depth in range(1, 20):\n",
    "    model_tree_balanced = DecisionTreeClassifier(random_state=25, max_depth=depth)\n",
    "    model_tree_balanced.fit(features_train_upsampled, target_train_upsampled)\n",
    "    predictions_valid_tree_balanced = model_tree_balanced.predict(features_valid)\n",
    "    accuracy_balanced = accuracy_score(target_valid, predictions_valid_tree_balanced)\n",
    "    f1_balanced = f1_score(target_valid, predictions_valid_tree_balanced)\n",
    "    if f1_balanced > f1_1_balanced:\n",
    "        best_model1_balanced = model_tree_balanced\n",
    "        accuracy1_balanced = accuracy_balanced\n",
    "        best_depth1_balanced = depth \n",
    "        f1_1_balanced = f1_balanced"
   ]
  },
  {
   "cell_type": "code",
   "execution_count": 40,
   "metadata": {},
   "outputs": [
    {
     "name": "stdout",
     "output_type": "stream",
     "text": [
      "Модель: DecisionTreeClassifier(max_depth=6, random_state=25)\n",
      "Лучшая глубина дерева: 6\n",
      "Общая точность модели: 0.778\n",
      "Лучшая F1: 0.5714285714285714\n"
     ]
    }
   ],
   "source": [
    "print('Модель:', best_model1_balanced)\n",
    "print('Лучшая глубина дерева:', best_depth1_balanced)\n",
    "print('Общая точность модели:', accuracy1_balanced)\n",
    "print('Лучшая F1:', f1_1_balanced)"
   ]
  },
  {
   "cell_type": "code",
   "execution_count": 41,
   "metadata": {},
   "outputs": [
    {
     "name": "stdout",
     "output_type": "stream",
     "text": [
      "AUC-ROC после исправления дисбаланса: 0.8367447176130428\n"
     ]
    }
   ],
   "source": [
    "# для дерева решений найдем AUC-ROC\n",
    "probabilities_tree_balanced = best_model1_balanced.predict_proba(features_valid)\n",
    "probabilities_one_valid_tree_balanced = probabilities_tree_balanced[:,1]\n",
    "fpr_tree_balanced,tpr_tree_balanced,thresholds_balanced = roc_curve(target_valid,probabilities_one_valid_tree_balanced)\n",
    "auc_roc_tree_balanced = roc_auc_score(target_valid,probabilities_one_valid_tree_balanced)\n",
    "print('AUC-ROC после исправления дисбаланса:', auc_roc_tree_balanced)"
   ]
  },
  {
   "cell_type": "markdown",
   "metadata": {},
   "source": [
    "### \"Случайный лес\" (Random Forest Classifier)"
   ]
  },
  {
   "cell_type": "code",
   "execution_count": 42,
   "metadata": {},
   "outputs": [
    {
     "name": "stdout",
     "output_type": "stream",
     "text": [
      "CPU times: user 13min 30s, sys: 2.21 s, total: 13min 32s\n",
      "Wall time: 13min 33s\n"
     ]
    }
   ],
   "source": [
    "%%time\n",
    "\n",
    "best_model2_balanced = None\n",
    "best_depth2_balanced = 0\n",
    "accuracy2_balanced = 0\n",
    "f1_2_balanced = 0\n",
    "best_est2_balanced = 0\n",
    "for est in range(1, 101):\n",
    "    for depth in range(1, 20): \n",
    "        model_forest_balanced = RandomForestClassifier(random_state=25, max_depth=depth, n_estimators=est)\n",
    "        model_forest_balanced.fit(features_train_upsampled, target_train_upsampled)\n",
    "        predictions_valid_forest_balanced = model_forest_balanced.predict(features_valid)\n",
    "        accuracy_forest_balanced = accuracy_score(target_valid, predictions_valid_forest_balanced)\n",
    "        f1_forest_balanced = f1_score(target_valid, predictions_valid_forest_balanced)\n",
    "        if f1_forest_balanced > f1_2_balanced:\n",
    "            best_model2_balanced = model_forest_balanced\n",
    "            accuracy2_balanced = accuracy_forest_balanced\n",
    "            best_depth2_balanced = depth\n",
    "            f1_2_balanced = f1_forest_balanced\n",
    "            best_est2_balanced = est"
   ]
  },
  {
   "cell_type": "code",
   "execution_count": 43,
   "metadata": {},
   "outputs": [
    {
     "name": "stdout",
     "output_type": "stream",
     "text": [
      "Модель: RandomForestClassifier(max_depth=16, n_estimators=60, random_state=25)\n",
      "Лучшая глубина дерева: 16\n",
      "Лучшее число деревьев: 60\n",
      "Общая точность модели: 0.8675\n",
      "Лучшая F1: 0.6526867627785059\n"
     ]
    }
   ],
   "source": [
    "print('Модель:', best_model2_balanced)\n",
    "print('Лучшая глубина дерева:', best_depth2_balanced)\n",
    "print('Лучшее число деревьев:', best_est2_balanced)\n",
    "print('Общая точность модели:', accuracy2_balanced)\n",
    "print('Лучшая F1:', f1_2_balanced)"
   ]
  },
  {
   "cell_type": "code",
   "execution_count": 44,
   "metadata": {},
   "outputs": [
    {
     "name": "stdout",
     "output_type": "stream",
     "text": [
      "AUC-ROC после исправления дисбаланса: 0.864529604097158\n"
     ]
    }
   ],
   "source": [
    "# для случайного леса найдем AUC-ROC\n",
    "probabilities_forest_balanced = best_model2_balanced.predict_proba(features_valid)\n",
    "probabilities_one_valid_forest_balanced = probabilities_forest_balanced[:,1]\n",
    "fpr_forest_balanced,tpr_forest_balanced,thresholds_balanced = roc_curve(target_valid,probabilities_one_valid_forest_balanced)\n",
    "auc_roc_forest_balanced = roc_auc_score(target_valid,probabilities_one_valid_forest_balanced)\n",
    "print('AUC-ROC после исправления дисбаланса:', auc_roc_forest_balanced)"
   ]
  },
  {
   "cell_type": "markdown",
   "metadata": {},
   "source": [
    "### Логистическая регрессия (Logistic Regression)"
   ]
  },
  {
   "cell_type": "code",
   "execution_count": 45,
   "metadata": {},
   "outputs": [
    {
     "name": "stdout",
     "output_type": "stream",
     "text": [
      "CPU times: user 58.5 ms, sys: 92 ms, total: 150 ms\n",
      "Wall time: 112 ms\n"
     ]
    }
   ],
   "source": [
    "%%time\n",
    "\n",
    "model_logreg_balanced = LogisticRegression(random_state=25, solver='liblinear')\n",
    "model_logreg_balanced.fit(features_train_upsampled, target_train_upsampled)\n",
    "predictions_valid_logreg_balanced = model_logreg_balanced.predict(features_valid)\n",
    "accuracy_logreg_balanced = accuracy_score(target_valid, predictions_valid_logreg_balanced)\n",
    "f1_logreg_balanced = f1_score(target_valid, predictions_valid_forest_balanced)"
   ]
  },
  {
   "cell_type": "code",
   "execution_count": 46,
   "metadata": {},
   "outputs": [
    {
     "name": "stdout",
     "output_type": "stream",
     "text": [
      "Модель: LogisticRegression(random_state=25, solver='liblinear')\n",
      "Oбщая точность модели: 0.7155\n",
      "F1: 0.64343163538874\n"
     ]
    }
   ],
   "source": [
    "print('Модель:', model_logreg_balanced)\n",
    "print('Oбщая точность модели:', accuracy_logreg_balanced)\n",
    "print('F1:', f1_logreg_balanced)"
   ]
  },
  {
   "cell_type": "code",
   "execution_count": 47,
   "metadata": {},
   "outputs": [
    {
     "name": "stdout",
     "output_type": "stream",
     "text": [
      "AUC-ROC после исправления дисбаланса: 0.8037795711145268\n"
     ]
    }
   ],
   "source": [
    "# для логистической регрессии найдем AUC-ROC\n",
    "probabilities_reg_balanced = model_logreg_balanced.predict_proba(features_valid)\n",
    "probabilities_one_valid_reg_balanced = probabilities_reg_balanced[:,1]\n",
    "fpr_log_balanced,tpr_log_balanced,thresholds_balanced = roc_curve(target_valid,probabilities_one_valid_reg_balanced)\n",
    "auc_roc_reg_balanced = roc_auc_score(target_valid,probabilities_one_valid_reg_balanced)\n",
    "print('AUC-ROC после исправления дисбаланса:', auc_roc_reg_balanced)"
   ]
  },
  {
   "cell_type": "markdown",
   "metadata": {},
   "source": [
    "Построим графики ROC-кривой после устранения дисбаланса"
   ]
  },
  {
   "cell_type": "code",
   "execution_count": 48,
   "metadata": {},
   "outputs": [
    {
     "data": {
      "image/png": "[encoded data removed]",
      "text/plain": [
       "<Figure size 720x504 with 1 Axes>"
      ]
     },
     "metadata": {
      "needs_background": "light"
     },
     "output_type": "display_data"
    }
   ],
   "source": [
    "plt.figure(figsize=(10,7))\n",
    "plt.plot([0, 1], [0, 1], linestyle='--')\n",
    "plt.xlim([0.0, 1.0])\n",
    "plt.ylim([0.0, 1.0])\n",
    "plt.plot(fpr_log_balanced,tpr_log_balanced)\n",
    "plt.plot(fpr_tree_balanced,tpr_tree_balanced)\n",
    "plt.plot(fpr_forest_balanced,tpr_forest_balanced)\n",
    "plt.xlabel('False Positive Rate')\n",
    "plt.ylabel('True Positive Rate')\n",
    "plt.title('ROC-кривая без дисбаланса')\n",
    "plt.legend(('Случайная модель','Логистическая регрессия','Дерево решения','Случайный лес'),loc='lower right') \n",
    "plt.show()"
   ]
  },
  {
   "cell_type": "markdown",
   "metadata": {},
   "source": [
    "**Сведем все полученные результаты в одну таблицу**"
   ]
  },
  {
   "cell_type": "code",
   "execution_count": 49,
   "metadata": {},
   "outputs": [],
   "source": [
    "resultats = pd.DataFrame([('Дерево решений', 'Accuracy', accuracy1, accuracy1_balanced),\n",
    "                   ('Дерево решений', 'F1', f1_1, f1_1_balanced),\n",
    "                   ('Дерево решений', 'AUC-ROC', auc_roc_tree, auc_roc_tree_balanced),\n",
    "                   ('Случайный лес', 'Accuracy', accuracy2, accuracy2_balanced),\n",
    "                   ('Случайный лес', 'F1', f1_2, f1_2_balanced), \n",
    "                   ('Случайный лес', 'AUC-ROC', auc_roc_forest, auc_roc_forest_balanced), \n",
    "                   ('Логистическая регрессия', 'Accuracy', accuracy_logreg, accuracy_logreg_balanced),\n",
    "                   ('Логистическая регрессия', 'F1', f1_logreg, f1_logreg_balanced), \n",
    "                   ('Логистическая регрессия', 'AUC-ROC', auc_roc_reg, auc_roc_reg_balanced)],\n",
    "                    columns=('Модель', 'Метрика', 'Значение с дисбалансом', 'Значение без дисбаланса'))\n"
   ]
  },
  {
   "cell_type": "code",
   "execution_count": 50,
   "metadata": {},
   "outputs": [
    {
     "data": {
      "text/html": [
       "<div>\n",
       "<style scoped>\n",
       "    .dataframe tbody tr th:only-of-type {\n",
       "        vertical-align: middle;\n",
       "    }\n",
       "\n",
       "    .dataframe tbody tr th {\n",
       "        vertical-align: top;\n",
       "    }\n",
       "\n",
       "    .dataframe thead th {\n",
       "        text-align: right;\n",
       "    }\n",
       "</style>\n",
       "<table border=\"1\" class=\"dataframe\">\n",
       "  <thead>\n",
       "    <tr style=\"text-align: right;\">\n",
       "      <th></th>\n",
       "      <th>Модель</th>\n",
       "      <th>Метрика</th>\n",
       "      <th>Значение с дисбалансом</th>\n",
       "      <th>Значение без дисбаланса</th>\n",
       "    </tr>\n",
       "  </thead>\n",
       "  <tbody>\n",
       "    <tr>\n",
       "      <th>2</th>\n",
       "      <td>Дерево решений</td>\n",
       "      <td>AUC-ROC</td>\n",
       "      <td>0.829138</td>\n",
       "      <td>0.836745</td>\n",
       "    </tr>\n",
       "    <tr>\n",
       "      <th>5</th>\n",
       "      <td>Случайный лес</td>\n",
       "      <td>AUC-ROC</td>\n",
       "      <td>0.863325</td>\n",
       "      <td>0.864530</td>\n",
       "    </tr>\n",
       "    <tr>\n",
       "      <th>8</th>\n",
       "      <td>Логистическая регрессия</td>\n",
       "      <td>AUC-ROC</td>\n",
       "      <td>0.800848</td>\n",
       "      <td>0.803780</td>\n",
       "    </tr>\n",
       "    <tr>\n",
       "      <th>0</th>\n",
       "      <td>Дерево решений</td>\n",
       "      <td>Accuracy</td>\n",
       "      <td>0.868000</td>\n",
       "      <td>0.778000</td>\n",
       "    </tr>\n",
       "    <tr>\n",
       "      <th>3</th>\n",
       "      <td>Случайный лес</td>\n",
       "      <td>Accuracy</td>\n",
       "      <td>0.877500</td>\n",
       "      <td>0.867500</td>\n",
       "    </tr>\n",
       "    <tr>\n",
       "      <th>6</th>\n",
       "      <td>Логистическая регрессия</td>\n",
       "      <td>Accuracy</td>\n",
       "      <td>0.829000</td>\n",
       "      <td>0.715500</td>\n",
       "    </tr>\n",
       "    <tr>\n",
       "      <th>1</th>\n",
       "      <td>Дерево решений</td>\n",
       "      <td>F1</td>\n",
       "      <td>0.593846</td>\n",
       "      <td>0.571429</td>\n",
       "    </tr>\n",
       "    <tr>\n",
       "      <th>4</th>\n",
       "      <td>Случайный лес</td>\n",
       "      <td>F1</td>\n",
       "      <td>0.629349</td>\n",
       "      <td>0.652687</td>\n",
       "    </tr>\n",
       "    <tr>\n",
       "      <th>7</th>\n",
       "      <td>Логистическая регрессия</td>\n",
       "      <td>F1</td>\n",
       "      <td>0.600629</td>\n",
       "      <td>0.643432</td>\n",
       "    </tr>\n",
       "  </tbody>\n",
       "</table>\n",
       "</div>"
      ],
      "text/plain": [
       "                    Модель   Метрика  Значение с дисбалансом  \\\n",
       "2           Дерево решений   AUC-ROC                0.829138   \n",
       "5            Случайный лес   AUC-ROC                0.863325   \n",
       "8  Логистическая регрессия   AUC-ROC                0.800848   \n",
       "0           Дерево решений  Accuracy                0.868000   \n",
       "3            Случайный лес  Accuracy                0.877500   \n",
       "6  Логистическая регрессия  Accuracy                0.829000   \n",
       "1           Дерево решений        F1                0.593846   \n",
       "4            Случайный лес        F1                0.629349   \n",
       "7  Логистическая регрессия        F1                0.600629   \n",
       "\n",
       "   Значение без дисбаланса  \n",
       "2                 0.836745  \n",
       "5                 0.864530  \n",
       "8                 0.803780  \n",
       "0                 0.778000  \n",
       "3                 0.867500  \n",
       "6                 0.715500  \n",
       "1                 0.571429  \n",
       "4                 0.652687  \n",
       "7                 0.643432  "
      ]
     },
     "metadata": {},
     "output_type": "display_data"
    }
   ],
   "source": [
    "display(resultats.sort_values('Метрика'))"
   ]
  },
  {
   "cell_type": "markdown",
   "metadata": {},
   "source": [
    "**Вывод:** Как мы можем заметить наилучший результат из всех моделей, что с дисбалансом, что без, демонстрирует \"Случайный лес\". При глубине дерева - 16, числе деревьев - 60, случайной величине - 25, модель случайного леса показывает лучшую общую точность равную 0,867, лучшую f1 равную 0,652 и AUC-ROC случайного леса равный 0.864 . Устранив дисбаланс нам удалось улучшить значения данной модели по F1 до 0,652 вместо 0,629, которые были ранее. Тестировать наши данные мы будем именно на модели \"Случайный лес\" (Random Forest Classifier)."
   ]
  },
  {
   "cell_type": "markdown",
   "metadata": {},
   "source": [
    "## Тестирование модели"
   ]
  },
  {
   "cell_type": "code",
   "execution_count": 51,
   "metadata": {},
   "outputs": [
    {
     "name": "stdout",
     "output_type": "stream",
     "text": [
      "Общая точность модели на тестовых данных: 0.8475\n",
      "F1 на тестовых данных: 0.5883940620782726\n"
     ]
    }
   ],
   "source": [
    "# проведем финальное тестирование на тестовой выборке\n",
    "predictions_test_forest = best_model2_balanced.predict(features_test)\n",
    "result_test_forest = accuracy_score(predictions_test_forest, target_test)\n",
    "f1_test_forest = f1_score(predictions_test_forest, target_test)\n",
    "print('Общая точность модели на тестовых данных:', result_test_forest)\n",
    "print('F1 на тестовых данных:', f1_test_forest)"
   ]
  },
  {
   "cell_type": "code",
   "execution_count": 52,
   "metadata": {},
   "outputs": [
    {
     "name": "stdout",
     "output_type": "stream",
     "text": [
      "AUC-ROC на тестовой выборке: 0.8399064042874319\n"
     ]
    }
   ],
   "source": [
    "probabilities_test_forest = best_model2_balanced.predict_proba(features_test)\n",
    "probabilities_one_test_forest = probabilities_test_forest[:,1]\n",
    "fpr_test_forest,tpr_test_forest,thresholds_test_forest = roc_curve(target_test, probabilities_one_test_forest)\n",
    "print('AUC-ROC на тестовой выборке:', roc_auc_score(target_test, probabilities_one_test_forest))"
   ]
  },
  {
   "cell_type": "markdown",
   "metadata": {},
   "source": [
    "На тестовых данных мы получили желаемый результат. F1 с округлением достигла показателя 0,59. Что сравнительно ниже, чем на обучающей выборке.  "
   ]
  },
  {
   "cell_type": "markdown",
   "metadata": {},
   "source": [
    "Проверим нашу модель на адекватность и создадим константную модель."
   ]
  },
  {
   "cell_type": "code",
   "execution_count": 53,
   "metadata": {},
   "outputs": [
    {
     "data": {
      "text/plain": [
       "0    2000\n",
       "dtype: int64"
      ]
     },
     "execution_count": 53,
     "metadata": {},
     "output_type": "execute_result"
    }
   ],
   "source": [
    "target_predict_constant = pd.Series([0]*len(target_test))\n",
    "target_predict_constant.value_counts()"
   ]
  },
  {
   "cell_type": "code",
   "execution_count": 54,
   "metadata": {},
   "outputs": [
    {
     "name": "stdout",
     "output_type": "stream",
     "text": [
      "Accuracy константой модели: 0.8045\n",
      "Accuracy финальной модели: 0.8475\n"
     ]
    }
   ],
   "source": [
    "# сравним показатель общей точности (accuracy) константной модели и финальной\n",
    "print('Accuracy константой модели:', accuracy_score(target_valid, target_predict_constant))\n",
    "print('Accuracy финальной модели:', accuracy_score(target_test, predictions_test_forest))"
   ]
  },
  {
   "cell_type": "markdown",
   "metadata": {},
   "source": [
    "Как мы можем заметить точность финальной модели выше чем точность константной. Поэтому модель можно считать адекватной."
   ]
  },
  {
   "cell_type": "code",
   "execution_count": 55,
   "metadata": {},
   "outputs": [
    {
     "name": "stdout",
     "output_type": "stream",
     "text": [
      "Recall финальной модели: 0.5618556701030928\n"
     ]
    }
   ],
   "source": [
    "print('Recall финальной модели:', recall_score(target_test, predictions_test_forest))"
   ]
  },
  {
   "cell_type": "markdown",
   "metadata": {},
   "source": [
    "**Вывод:** Нам удалось создать адекватную модель машинного обучения, которая на новых данных достигает приемлемого результата в своей точности и которая верно предсказывает 56% истинных значений."
   ]
  },
  {
   "cell_type": "markdown",
   "metadata": {},
   "source": [
    "# Общий вывод"
   ]
  },
  {
   "cell_type": "markdown",
   "metadata": {},
   "source": [
    "_Изучив первоначальные данные из 10000 строк и 14 столбцов, мы увидели, что в них присутствуют пропуски, лишняя информация, дисбаланс классов в целевом признаке. Исправив все это мы смогли построить несколько моделей, лучшей из которых оказалась модель \"Случайный лес\". При глубине дерева - 16, числе деревьев - 60, случайной величине - 25, модель случайного леса показывает лучшую общую точность равную 0,867, лучшую f1 равную 0,652 и AUC-ROC случайного леса равный 0.864 . Данную модель можно рекомендовать  «Бета-Банку» для прогноза оттока клиентов. В 2-х из 3-х случаев данная модель поможет банку правильно определить перестанет ли человек быть клиентом банка или же нет. В зависимости от ответа можно будет применять соответствующие меры, в т.ч. маркетингового плана, чтобы удержать как можно больше клиентов._"
   ]
  }
 ],
 "metadata": {
  "ExecuteTimeLog": [
   {
    "duration": 1562,
    "start_time": "2022-12-25T10:13:01.000Z"
   },
   {
    "duration": 330,
    "start_time": "2022-12-25T10:13:10.304Z"
   },
   {
    "duration": 1601,
    "start_time": "2022-12-25T10:13:13.488Z"
   },
   {
    "duration": 16,
    "start_time": "2022-12-25T10:27:21.207Z"
   },
   {
    "duration": 5,
    "start_time": "2022-12-25T10:28:33.994Z"
   },
   {
    "duration": 13,
    "start_time": "2022-12-25T10:28:47.841Z"
   },
   {
    "duration": 4,
    "start_time": "2022-12-25T10:31:46.778Z"
   },
   {
    "duration": 10,
    "start_time": "2022-12-25T10:44:22.257Z"
   },
   {
    "duration": 128,
    "start_time": "2022-12-25T10:45:04.607Z"
   },
   {
    "duration": 4,
    "start_time": "2022-12-25T10:45:31.536Z"
   },
   {
    "duration": 62,
    "start_time": "2022-12-25T10:45:31.542Z"
   },
   {
    "duration": 1518,
    "start_time": "2022-12-25T10:45:31.606Z"
   },
   {
    "duration": 26,
    "start_time": "2022-12-25T10:45:33.125Z"
   },
   {
    "duration": 9,
    "start_time": "2022-12-25T10:45:33.153Z"
   },
   {
    "duration": 36,
    "start_time": "2022-12-25T10:45:33.163Z"
   },
   {
    "duration": 14,
    "start_time": "2022-12-25T10:45:40.847Z"
   },
   {
    "duration": 6,
    "start_time": "2022-12-25T10:47:47.354Z"
   },
   {
    "duration": 21,
    "start_time": "2022-12-25T10:49:46.905Z"
   },
   {
    "duration": 5,
    "start_time": "2022-12-25T10:50:33.269Z"
   },
   {
    "duration": 6,
    "start_time": "2022-12-25T11:02:46.749Z"
   },
   {
    "duration": 6,
    "start_time": "2022-12-25T11:05:21.715Z"
   },
   {
    "duration": 6,
    "start_time": "2022-12-25T11:05:29.254Z"
   },
   {
    "duration": 4,
    "start_time": "2022-12-25T11:05:56.791Z"
   },
   {
    "duration": 12,
    "start_time": "2022-12-25T11:09:06.137Z"
   },
   {
    "duration": 2,
    "start_time": "2022-12-25T11:10:51.069Z"
   },
   {
    "duration": 13,
    "start_time": "2022-12-25T11:14:19.153Z"
   },
   {
    "duration": 38,
    "start_time": "2022-12-25T11:14:20.906Z"
   },
   {
    "duration": 4,
    "start_time": "2022-12-25T11:15:48.782Z"
   },
   {
    "duration": 22,
    "start_time": "2022-12-25T11:15:56.439Z"
   },
   {
    "duration": 19,
    "start_time": "2022-12-25T11:16:06.458Z"
   },
   {
    "duration": 19,
    "start_time": "2022-12-25T11:16:12.346Z"
   },
   {
    "duration": 425,
    "start_time": "2022-12-25T12:19:49.142Z"
   },
   {
    "duration": 5,
    "start_time": "2022-12-25T12:19:58.615Z"
   },
   {
    "duration": 403,
    "start_time": "2022-12-25T12:20:45.492Z"
   },
   {
    "duration": 6,
    "start_time": "2022-12-25T12:20:49.640Z"
   },
   {
    "duration": 390,
    "start_time": "2022-12-25T12:20:57.938Z"
   },
   {
    "duration": 5,
    "start_time": "2022-12-25T12:21:00.378Z"
   },
   {
    "duration": 6,
    "start_time": "2022-12-25T12:25:02.705Z"
   },
   {
    "duration": 5,
    "start_time": "2022-12-25T12:25:14.874Z"
   },
   {
    "duration": 451,
    "start_time": "2022-12-25T12:27:47.800Z"
   },
   {
    "duration": 4,
    "start_time": "2022-12-25T12:29:37.353Z"
   },
   {
    "duration": 44,
    "start_time": "2022-12-25T12:29:37.360Z"
   },
   {
    "duration": 1688,
    "start_time": "2022-12-25T12:29:37.406Z"
   },
   {
    "duration": 11,
    "start_time": "2022-12-25T12:29:39.096Z"
   },
   {
    "duration": 3,
    "start_time": "2022-12-25T12:29:39.110Z"
   },
   {
    "duration": 44,
    "start_time": "2022-12-25T12:29:39.115Z"
   },
   {
    "duration": 16,
    "start_time": "2022-12-25T12:29:39.161Z"
   },
   {
    "duration": 13,
    "start_time": "2022-12-25T12:29:39.180Z"
   },
   {
    "duration": 26,
    "start_time": "2022-12-25T12:29:39.195Z"
   },
   {
    "duration": 7,
    "start_time": "2022-12-25T12:29:39.224Z"
   },
   {
    "duration": 7,
    "start_time": "2022-12-25T12:29:39.251Z"
   },
   {
    "duration": 8,
    "start_time": "2022-12-25T12:29:39.261Z"
   },
   {
    "duration": 7,
    "start_time": "2022-12-25T12:29:39.272Z"
   },
   {
    "duration": 6,
    "start_time": "2022-12-25T12:29:39.281Z"
   },
   {
    "duration": 16,
    "start_time": "2022-12-25T12:29:39.289Z"
   },
   {
    "duration": 8,
    "start_time": "2022-12-25T12:29:39.306Z"
   },
   {
    "duration": 11,
    "start_time": "2022-12-25T12:29:39.352Z"
   },
   {
    "duration": 29,
    "start_time": "2022-12-25T12:29:39.365Z"
   },
   {
    "duration": 19,
    "start_time": "2022-12-25T12:29:39.396Z"
   },
   {
    "duration": 53,
    "start_time": "2022-12-25T12:29:39.417Z"
   },
   {
    "duration": 502,
    "start_time": "2022-12-25T12:29:53.814Z"
   },
   {
    "duration": 454,
    "start_time": "2022-12-25T12:30:43.535Z"
   },
   {
    "duration": 5,
    "start_time": "2022-12-25T12:30:48.976Z"
   },
   {
    "duration": 495,
    "start_time": "2022-12-25T12:32:47.778Z"
   },
   {
    "duration": 5,
    "start_time": "2022-12-25T12:32:51.935Z"
   },
   {
    "duration": 5,
    "start_time": "2022-12-25T12:34:01.248Z"
   },
   {
    "duration": 5,
    "start_time": "2022-12-25T12:38:05.217Z"
   },
   {
    "duration": 831,
    "start_time": "2022-12-25T12:38:51.072Z"
   },
   {
    "duration": 863,
    "start_time": "2022-12-25T12:42:30.049Z"
   },
   {
    "duration": 836,
    "start_time": "2022-12-25T12:43:29.859Z"
   },
   {
    "duration": 851,
    "start_time": "2022-12-25T12:44:08.002Z"
   },
   {
    "duration": 934,
    "start_time": "2022-12-25T12:44:32.391Z"
   },
   {
    "duration": 926,
    "start_time": "2022-12-25T12:44:48.114Z"
   },
   {
    "duration": 474,
    "start_time": "2022-12-25T12:45:27.565Z"
   },
   {
    "duration": 478,
    "start_time": "2022-12-25T12:45:59.973Z"
   },
   {
    "duration": 547717,
    "start_time": "2022-12-25T12:55:21.084Z"
   },
   {
    "duration": 6,
    "start_time": "2022-12-25T13:06:52.140Z"
   },
   {
    "duration": 284,
    "start_time": "2022-12-25T13:12:41.569Z"
   },
   {
    "duration": 3,
    "start_time": "2022-12-25T13:12:44.347Z"
   },
   {
    "duration": 8,
    "start_time": "2022-12-25T13:23:07.745Z"
   },
   {
    "duration": 10,
    "start_time": "2022-12-25T13:25:28.155Z"
   },
   {
    "duration": 23,
    "start_time": "2022-12-25T13:25:30.505Z"
   },
   {
    "duration": 26,
    "start_time": "2022-12-25T13:26:16.869Z"
   },
   {
    "duration": 9,
    "start_time": "2022-12-25T13:33:15.507Z"
   },
   {
    "duration": 24,
    "start_time": "2022-12-25T13:33:17.065Z"
   },
   {
    "duration": 13,
    "start_time": "2022-12-25T13:33:18.336Z"
   },
   {
    "duration": 4,
    "start_time": "2022-12-25T13:33:21.347Z"
   },
   {
    "duration": 194,
    "start_time": "2022-12-25T13:35:56.799Z"
   },
   {
    "duration": 192,
    "start_time": "2022-12-25T13:36:48.341Z"
   },
   {
    "duration": 163,
    "start_time": "2022-12-25T13:37:51.985Z"
   },
   {
    "duration": 165,
    "start_time": "2022-12-25T13:38:01.433Z"
   },
   {
    "duration": 180,
    "start_time": "2022-12-25T13:38:17.496Z"
   },
   {
    "duration": 72,
    "start_time": "2022-12-25T13:39:57.903Z"
   },
   {
    "duration": 182,
    "start_time": "2022-12-25T13:40:07.801Z"
   },
   {
    "duration": 10,
    "start_time": "2022-12-25T14:21:14.146Z"
   },
   {
    "duration": 5,
    "start_time": "2022-12-25T14:21:15.732Z"
   },
   {
    "duration": 14,
    "start_time": "2022-12-25T14:22:09.553Z"
   },
   {
    "duration": 13,
    "start_time": "2022-12-25T14:25:57.938Z"
   },
   {
    "duration": 14,
    "start_time": "2022-12-25T14:27:09.199Z"
   },
   {
    "duration": 84,
    "start_time": "2022-12-25T14:42:21.003Z"
   },
   {
    "duration": 597,
    "start_time": "2022-12-25T14:43:15.460Z"
   },
   {
    "duration": 5,
    "start_time": "2022-12-25T14:43:22.111Z"
   },
   {
    "duration": 613,
    "start_time": "2022-12-25T14:47:01.981Z"
   },
   {
    "duration": 6,
    "start_time": "2022-12-25T14:47:06.450Z"
   },
   {
    "duration": 10,
    "start_time": "2022-12-25T14:52:32.850Z"
   },
   {
    "duration": 758991,
    "start_time": "2022-12-25T14:59:08.877Z"
   },
   {
    "duration": 5,
    "start_time": "2022-12-25T15:11:56.622Z"
   },
   {
    "duration": 52,
    "start_time": "2022-12-25T15:19:19.073Z"
   },
   {
    "duration": 31,
    "start_time": "2022-12-25T15:24:10.932Z"
   },
   {
    "duration": 4,
    "start_time": "2022-12-25T15:24:17.547Z"
   },
   {
    "duration": 21,
    "start_time": "2022-12-25T15:27:30.533Z"
   },
   {
    "duration": 205,
    "start_time": "2022-12-25T15:32:06.606Z"
   },
   {
    "duration": 4,
    "start_time": "2022-12-25T15:44:41.395Z"
   },
   {
    "duration": 6,
    "start_time": "2022-12-25T15:44:42.723Z"
   },
   {
    "duration": 6,
    "start_time": "2022-12-25T15:56:41.032Z"
   },
   {
    "duration": 11,
    "start_time": "2022-12-25T15:56:43.294Z"
   },
   {
    "duration": 10,
    "start_time": "2022-12-25T15:58:43.614Z"
   },
   {
    "duration": 50,
    "start_time": "2022-12-25T16:11:34.014Z"
   },
   {
    "duration": 51,
    "start_time": "2022-12-25T16:19:37.427Z"
   },
   {
    "duration": 7,
    "start_time": "2022-12-25T16:25:18.256Z"
   },
   {
    "duration": 21,
    "start_time": "2022-12-25T16:30:15.708Z"
   },
   {
    "duration": 7,
    "start_time": "2022-12-25T16:31:09.577Z"
   },
   {
    "duration": 1866,
    "start_time": "2022-12-26T13:17:21.178Z"
   },
   {
    "duration": 39,
    "start_time": "2022-12-26T13:17:23.046Z"
   },
   {
    "duration": 1335,
    "start_time": "2022-12-26T13:17:23.087Z"
   },
   {
    "duration": 10,
    "start_time": "2022-12-26T13:17:24.424Z"
   },
   {
    "duration": 6,
    "start_time": "2022-12-26T13:17:24.436Z"
   },
   {
    "duration": 14,
    "start_time": "2022-12-26T13:17:24.444Z"
   },
   {
    "duration": 18,
    "start_time": "2022-12-26T13:17:24.459Z"
   },
   {
    "duration": 19,
    "start_time": "2022-12-26T13:17:24.478Z"
   },
   {
    "duration": 16,
    "start_time": "2022-12-26T13:17:24.498Z"
   },
   {
    "duration": 3,
    "start_time": "2022-12-26T13:17:24.516Z"
   },
   {
    "duration": 10,
    "start_time": "2022-12-26T13:17:24.520Z"
   },
   {
    "duration": 9,
    "start_time": "2022-12-26T13:17:24.531Z"
   },
   {
    "duration": 7,
    "start_time": "2022-12-26T13:17:24.541Z"
   },
   {
    "duration": 14,
    "start_time": "2022-12-26T13:17:24.551Z"
   },
   {
    "duration": 14,
    "start_time": "2022-12-26T13:17:24.567Z"
   },
   {
    "duration": 8,
    "start_time": "2022-12-26T13:17:24.582Z"
   },
   {
    "duration": 9,
    "start_time": "2022-12-26T13:17:24.597Z"
   },
   {
    "duration": 23,
    "start_time": "2022-12-26T13:17:24.607Z"
   },
   {
    "duration": 23,
    "start_time": "2022-12-26T13:17:24.632Z"
   },
   {
    "duration": 51,
    "start_time": "2022-12-26T13:17:24.657Z"
   },
   {
    "duration": 440,
    "start_time": "2022-12-26T13:17:24.710Z"
   },
   {
    "duration": 5,
    "start_time": "2022-12-26T13:17:25.151Z"
   },
   {
    "duration": 443,
    "start_time": "2022-12-26T13:17:25.157Z"
   },
   {
    "duration": 1730,
    "start_time": "2022-12-26T14:25:18.297Z"
   },
   {
    "duration": 88,
    "start_time": "2022-12-26T14:25:20.030Z"
   },
   {
    "duration": 1619,
    "start_time": "2022-12-26T14:25:20.120Z"
   },
   {
    "duration": 13,
    "start_time": "2022-12-26T14:25:21.741Z"
   },
   {
    "duration": 5,
    "start_time": "2022-12-26T14:25:36.670Z"
   },
   {
    "duration": 17,
    "start_time": "2022-12-26T14:25:44.808Z"
   },
   {
    "duration": 14,
    "start_time": "2022-12-26T14:28:52.408Z"
   },
   {
    "duration": 21,
    "start_time": "2022-12-26T14:29:00.187Z"
   },
   {
    "duration": 5,
    "start_time": "2022-12-26T14:29:11.570Z"
   },
   {
    "duration": 29,
    "start_time": "2022-12-26T14:29:19.040Z"
   },
   {
    "duration": 6,
    "start_time": "2022-12-26T14:34:11.134Z"
   },
   {
    "duration": 6,
    "start_time": "2022-12-26T14:36:41.445Z"
   },
   {
    "duration": 7,
    "start_time": "2022-12-26T14:36:44.604Z"
   },
   {
    "duration": 6,
    "start_time": "2022-12-26T14:36:47.635Z"
   },
   {
    "duration": 5,
    "start_time": "2022-12-26T14:36:52.436Z"
   },
   {
    "duration": 13,
    "start_time": "2022-12-26T14:36:57.875Z"
   },
   {
    "duration": 4,
    "start_time": "2022-12-26T14:37:10.941Z"
   },
   {
    "duration": 12,
    "start_time": "2022-12-26T14:37:14.900Z"
   },
   {
    "duration": 23,
    "start_time": "2022-12-26T14:37:33.069Z"
   },
   {
    "duration": 21,
    "start_time": "2022-12-26T14:37:39.301Z"
   },
   {
    "duration": 19,
    "start_time": "2022-12-26T14:37:43.653Z"
   },
   {
    "duration": 479,
    "start_time": "2022-12-26T14:38:52.660Z"
   },
   {
    "duration": 6,
    "start_time": "2022-12-26T14:40:11.551Z"
   },
   {
    "duration": 648,
    "start_time": "2022-12-26T14:41:07.817Z"
   },
   {
    "duration": 10,
    "start_time": "2022-12-26T14:45:53.493Z"
   },
   {
    "duration": 562931,
    "start_time": "2022-12-26T14:53:05.928Z"
   },
   {
    "duration": 6,
    "start_time": "2022-12-26T15:02:36.849Z"
   },
   {
    "duration": 32,
    "start_time": "2022-12-26T15:02:43.689Z"
   },
   {
    "duration": 394,
    "start_time": "2022-12-26T15:06:33.603Z"
   },
   {
    "duration": 7,
    "start_time": "2022-12-26T15:06:37.001Z"
   },
   {
    "duration": 18,
    "start_time": "2022-12-26T15:06:42.921Z"
   },
   {
    "duration": 206,
    "start_time": "2022-12-26T15:10:04.499Z"
   },
   {
    "duration": 8,
    "start_time": "2022-12-26T15:14:58.547Z"
   },
   {
    "duration": 13,
    "start_time": "2022-12-26T15:15:02.777Z"
   },
   {
    "duration": 30,
    "start_time": "2022-12-26T15:15:07.036Z"
   },
   {
    "duration": 62,
    "start_time": "2022-12-26T15:15:16.872Z"
   },
   {
    "duration": 719,
    "start_time": "2022-12-26T15:33:02.313Z"
   },
   {
    "duration": 10,
    "start_time": "2022-12-26T15:33:08.996Z"
   },
   {
    "duration": 704,
    "start_time": "2022-12-26T15:33:35.397Z"
   },
   {
    "duration": 13,
    "start_time": "2022-12-26T15:33:42.376Z"
   },
   {
    "duration": 13,
    "start_time": "2022-12-26T15:33:53.005Z"
   },
   {
    "duration": 813627,
    "start_time": "2022-12-26T15:35:27.968Z"
   },
   {
    "duration": 7,
    "start_time": "2022-12-26T15:49:11.764Z"
   },
   {
    "duration": 53,
    "start_time": "2022-12-26T15:49:24.260Z"
   },
   {
    "duration": 205,
    "start_time": "2022-12-26T15:50:00.172Z"
   },
   {
    "duration": 5,
    "start_time": "2022-12-26T15:50:06.733Z"
   },
   {
    "duration": 72,
    "start_time": "2022-12-26T15:50:11.612Z"
   },
   {
    "duration": 195,
    "start_time": "2022-12-26T16:03:24.322Z"
   },
   {
    "duration": 6,
    "start_time": "2022-12-26T16:03:38.524Z"
   },
   {
    "duration": 16,
    "start_time": "2022-12-26T16:03:42.472Z"
   },
   {
    "duration": 40,
    "start_time": "2022-12-26T16:14:47.053Z"
   },
   {
    "duration": 44,
    "start_time": "2022-12-26T16:16:40.207Z"
   },
   {
    "duration": 7,
    "start_time": "2022-12-26T16:22:13.647Z"
   },
   {
    "duration": 8,
    "start_time": "2022-12-26T16:22:18.418Z"
   },
   {
    "duration": 7,
    "start_time": "2022-12-26T16:30:41.718Z"
   }
  ],
  "kernelspec": {
   "display_name": "Python 3 (ipykernel)",
   "language": "python",
   "name": "python3"
  },
  "language_info": {
   "codemirror_mode": {
    "name": "ipython",
    "version": 3
   },
   "file_extension": ".py",
   "mimetype": "text/x-python",
   "name": "python",
   "nbconvert_exporter": "python",
   "pygments_lexer": "ipython3",
   "version": "3.9.5"
  },
  "toc": {
   "base_numbering": 1,
   "nav_menu": {},
   "number_sections": true,
   "sideBar": true,
   "skip_h1_title": true,
   "title_cell": "Содержание",
   "title_sidebar": "Contents",
   "toc_cell": true,
   "toc_position": {},
   "toc_section_display": true,
   "toc_window_display": false
  }
 },
 "nbformat": 4,
 "nbformat_minor": 2
}
