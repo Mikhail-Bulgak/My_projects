{
 "cells": [
  {
   "attachments": {},
   "cell_type": "markdown",
   "metadata": {},
   "source": [
    "# Защита персональных данных клиентов"
   ]
  },
  {
   "attachments": {},
   "cell_type": "markdown",
   "metadata": {},
   "source": [
    "## Загрузка данных"
   ]
  },
  {
   "cell_type": "code",
   "execution_count": 1,
   "metadata": {},
   "outputs": [],
   "source": [
    "# импортируем библиотеки\n",
    "import pandas as pd\n",
    "import numpy as np\n",
    "from sklearn.linear_model import LinearRegression\n",
    "from sklearn.metrics import r2_score\n",
    "import warnings\n",
    "warnings.filterwarnings('ignore')"
   ]
  },
  {
   "cell_type": "code",
   "execution_count": 2,
   "metadata": {},
   "outputs": [],
   "source": [
    "# загрузим датасет\n",
    "df = pd.read_csv('/datasets/insurance.csv')"
   ]
  },
  {
   "cell_type": "code",
   "execution_count": 3,
   "metadata": {},
   "outputs": [],
   "source": [
    "# создадим функцию, которая покажет всю общую информацию о датасете\n",
    "def show_info(df_name):  \n",
    "    display(df_name.head(10))\n",
    "    print('-------------------------------------------')\n",
    "    print(df_name.info())\n",
    "    print('-------------------------------------------')\n",
    "    print(df_name.describe())\n",
    "    print('-------------------------------------------')\n",
    "    df_name.hist(figsize=(15, 20));"
   ]
  },
  {
   "attachments": {},
   "cell_type": "markdown",
   "metadata": {},
   "source": [
    "Теперь изучим датасет детально"
   ]
  },
  {
   "cell_type": "code",
   "execution_count": 4,
   "metadata": {},
   "outputs": [
    {
     "data": {
      "text/html": [
       "<div>\n",
       "<style scoped>\n",
       "    .dataframe tbody tr th:only-of-type {\n",
       "        vertical-align: middle;\n",
       "    }\n",
       "\n",
       "    .dataframe tbody tr th {\n",
       "        vertical-align: top;\n",
       "    }\n",
       "\n",
       "    .dataframe thead th {\n",
       "        text-align: right;\n",
       "    }\n",
       "</style>\n",
       "<table border=\"1\" class=\"dataframe\">\n",
       "  <thead>\n",
       "    <tr style=\"text-align: right;\">\n",
       "      <th></th>\n",
       "      <th>Пол</th>\n",
       "      <th>Возраст</th>\n",
       "      <th>Зарплата</th>\n",
       "      <th>Члены семьи</th>\n",
       "      <th>Страховые выплаты</th>\n",
       "    </tr>\n",
       "  </thead>\n",
       "  <tbody>\n",
       "    <tr>\n",
       "      <th>0</th>\n",
       "      <td>1</td>\n",
       "      <td>41.0</td>\n",
       "      <td>49600.0</td>\n",
       "      <td>1</td>\n",
       "      <td>0</td>\n",
       "    </tr>\n",
       "    <tr>\n",
       "      <th>1</th>\n",
       "      <td>0</td>\n",
       "      <td>46.0</td>\n",
       "      <td>38000.0</td>\n",
       "      <td>1</td>\n",
       "      <td>1</td>\n",
       "    </tr>\n",
       "    <tr>\n",
       "      <th>2</th>\n",
       "      <td>0</td>\n",
       "      <td>29.0</td>\n",
       "      <td>21000.0</td>\n",
       "      <td>0</td>\n",
       "      <td>0</td>\n",
       "    </tr>\n",
       "    <tr>\n",
       "      <th>3</th>\n",
       "      <td>0</td>\n",
       "      <td>21.0</td>\n",
       "      <td>41700.0</td>\n",
       "      <td>2</td>\n",
       "      <td>0</td>\n",
       "    </tr>\n",
       "    <tr>\n",
       "      <th>4</th>\n",
       "      <td>1</td>\n",
       "      <td>28.0</td>\n",
       "      <td>26100.0</td>\n",
       "      <td>0</td>\n",
       "      <td>0</td>\n",
       "    </tr>\n",
       "    <tr>\n",
       "      <th>5</th>\n",
       "      <td>1</td>\n",
       "      <td>43.0</td>\n",
       "      <td>41000.0</td>\n",
       "      <td>2</td>\n",
       "      <td>1</td>\n",
       "    </tr>\n",
       "    <tr>\n",
       "      <th>6</th>\n",
       "      <td>1</td>\n",
       "      <td>39.0</td>\n",
       "      <td>39700.0</td>\n",
       "      <td>2</td>\n",
       "      <td>0</td>\n",
       "    </tr>\n",
       "    <tr>\n",
       "      <th>7</th>\n",
       "      <td>1</td>\n",
       "      <td>25.0</td>\n",
       "      <td>38600.0</td>\n",
       "      <td>4</td>\n",
       "      <td>0</td>\n",
       "    </tr>\n",
       "    <tr>\n",
       "      <th>8</th>\n",
       "      <td>1</td>\n",
       "      <td>36.0</td>\n",
       "      <td>49700.0</td>\n",
       "      <td>1</td>\n",
       "      <td>0</td>\n",
       "    </tr>\n",
       "    <tr>\n",
       "      <th>9</th>\n",
       "      <td>1</td>\n",
       "      <td>32.0</td>\n",
       "      <td>51700.0</td>\n",
       "      <td>1</td>\n",
       "      <td>0</td>\n",
       "    </tr>\n",
       "  </tbody>\n",
       "</table>\n",
       "</div>"
      ],
      "text/plain": [
       "   Пол  Возраст  Зарплата  Члены семьи  Страховые выплаты\n",
       "0    1     41.0   49600.0            1                  0\n",
       "1    0     46.0   38000.0            1                  1\n",
       "2    0     29.0   21000.0            0                  0\n",
       "3    0     21.0   41700.0            2                  0\n",
       "4    1     28.0   26100.0            0                  0\n",
       "5    1     43.0   41000.0            2                  1\n",
       "6    1     39.0   39700.0            2                  0\n",
       "7    1     25.0   38600.0            4                  0\n",
       "8    1     36.0   49700.0            1                  0\n",
       "9    1     32.0   51700.0            1                  0"
      ]
     },
     "metadata": {},
     "output_type": "display_data"
    },
    {
     "name": "stdout",
     "output_type": "stream",
     "text": [
      "-------------------------------------------\n",
      "<class 'pandas.core.frame.DataFrame'>\n",
      "RangeIndex: 5000 entries, 0 to 4999\n",
      "Data columns (total 5 columns):\n",
      " #   Column             Non-Null Count  Dtype  \n",
      "---  ------             --------------  -----  \n",
      " 0   Пол                5000 non-null   int64  \n",
      " 1   Возраст            5000 non-null   float64\n",
      " 2   Зарплата           5000 non-null   float64\n",
      " 3   Члены семьи        5000 non-null   int64  \n",
      " 4   Страховые выплаты  5000 non-null   int64  \n",
      "dtypes: float64(2), int64(3)\n",
      "memory usage: 195.4 KB\n",
      "None\n",
      "-------------------------------------------\n",
      "               Пол      Возраст      Зарплата  Члены семьи  Страховые выплаты\n",
      "count  5000.000000  5000.000000   5000.000000  5000.000000        5000.000000\n",
      "mean      0.499000    30.952800  39916.360000     1.194200           0.148000\n",
      "std       0.500049     8.440807   9900.083569     1.091387           0.463183\n",
      "min       0.000000    18.000000   5300.000000     0.000000           0.000000\n",
      "25%       0.000000    24.000000  33300.000000     0.000000           0.000000\n",
      "50%       0.000000    30.000000  40200.000000     1.000000           0.000000\n",
      "75%       1.000000    37.000000  46600.000000     2.000000           0.000000\n",
      "max       1.000000    65.000000  79000.000000     6.000000           5.000000\n",
      "-------------------------------------------\n"
     ]
    },
    {
     "data": {
      "image/png": "[encoded data removed]",
      "text/plain": [
       "<Figure size 1080x1440 with 6 Axes>"
      ]
     },
     "metadata": {
      "needs_background": "light"
     },
     "output_type": "display_data"
    }
   ],
   "source": [
    "show_info(df)"
   ]
  },
  {
   "cell_type": "code",
   "execution_count": 5,
   "metadata": {},
   "outputs": [
    {
     "data": {
      "text/html": [
       "<div>\n",
       "<style scoped>\n",
       "    .dataframe tbody tr th:only-of-type {\n",
       "        vertical-align: middle;\n",
       "    }\n",
       "\n",
       "    .dataframe tbody tr th {\n",
       "        vertical-align: top;\n",
       "    }\n",
       "\n",
       "    .dataframe thead th {\n",
       "        text-align: right;\n",
       "    }\n",
       "</style>\n",
       "<table border=\"1\" class=\"dataframe\">\n",
       "  <thead>\n",
       "    <tr style=\"text-align: right;\">\n",
       "      <th></th>\n",
       "      <th>пол</th>\n",
       "      <th>возраст</th>\n",
       "      <th>зарплата</th>\n",
       "      <th>члены_семьи</th>\n",
       "      <th>страховые_выплаты</th>\n",
       "    </tr>\n",
       "  </thead>\n",
       "  <tbody>\n",
       "    <tr>\n",
       "      <th>0</th>\n",
       "      <td>1</td>\n",
       "      <td>41.0</td>\n",
       "      <td>49600.0</td>\n",
       "      <td>1</td>\n",
       "      <td>0</td>\n",
       "    </tr>\n",
       "    <tr>\n",
       "      <th>1</th>\n",
       "      <td>0</td>\n",
       "      <td>46.0</td>\n",
       "      <td>38000.0</td>\n",
       "      <td>1</td>\n",
       "      <td>1</td>\n",
       "    </tr>\n",
       "    <tr>\n",
       "      <th>2</th>\n",
       "      <td>0</td>\n",
       "      <td>29.0</td>\n",
       "      <td>21000.0</td>\n",
       "      <td>0</td>\n",
       "      <td>0</td>\n",
       "    </tr>\n",
       "    <tr>\n",
       "      <th>3</th>\n",
       "      <td>0</td>\n",
       "      <td>21.0</td>\n",
       "      <td>41700.0</td>\n",
       "      <td>2</td>\n",
       "      <td>0</td>\n",
       "    </tr>\n",
       "    <tr>\n",
       "      <th>4</th>\n",
       "      <td>1</td>\n",
       "      <td>28.0</td>\n",
       "      <td>26100.0</td>\n",
       "      <td>0</td>\n",
       "      <td>0</td>\n",
       "    </tr>\n",
       "  </tbody>\n",
       "</table>\n",
       "</div>"
      ],
      "text/plain": [
       "   пол  возраст  зарплата  члены_семьи  страховые_выплаты\n",
       "0    1     41.0   49600.0            1                  0\n",
       "1    0     46.0   38000.0            1                  1\n",
       "2    0     29.0   21000.0            0                  0\n",
       "3    0     21.0   41700.0            2                  0\n",
       "4    1     28.0   26100.0            0                  0"
      ]
     },
     "execution_count": 5,
     "metadata": {},
     "output_type": "execute_result"
    }
   ],
   "source": [
    "# исправим названия столбцов\n",
    "df = df.rename(columns = {'Пол': 'пол', 'Возраст': 'возраст', 'Зарплата': 'зарплата', 'Члены семьи': 'члены_семьи', \n",
    "                          'Страховые выплаты': 'страховые_выплаты'})\n",
    "df.head()"
   ]
  },
  {
   "attachments": {},
   "cell_type": "markdown",
   "metadata": {},
   "source": [
    "**Вывод:** Нам дан датасет из 5 столбцов и 5000 строк. В датесете нет пропусков, указаны верные форматы и исправлены названия столбцов. Датасет можно считать чистым и готовым для следующих этапов работы."
   ]
  },
  {
   "attachments": {},
   "cell_type": "markdown",
   "metadata": {},
   "source": [
    "## Умножение матриц"
   ]
  },
  {
   "attachments": {},
   "cell_type": "markdown",
   "metadata": {},
   "source": [
    "Обозначения:\n",
    "\n",
    "- $X$ — матрица признаков (нулевой столбец состоит из единиц)\n",
    "\n",
    "- $y$ — вектор целевого признака\n",
    "\n",
    "- $P$ — матрица, на которую умножаются признаки\n",
    "\n",
    "- $w$ — вектор весов линейной регрессии (нулевой элемент равен сдвигу)"
   ]
  },
  {
   "attachments": {},
   "cell_type": "markdown",
   "metadata": {},
   "source": [
    "Предсказания:\n",
    "\n",
    "$$\n",
    "a = Xw\n",
    "$$\n",
    "\n",
    "Задача обучения:\n",
    "\n",
    "$$\n",
    "w = \\arg\\min_w MSE(Xw, y)\n",
    "$$\n",
    "\n",
    "Формула обучения:\n",
    "\n",
    "$$\n",
    "w = (X^T X)^{-1} X^T y\n",
    "$$"
   ]
  },
  {
   "attachments": {},
   "cell_type": "markdown",
   "metadata": {},
   "source": [
    "**Ответ:** Не измениться. R2 будет одинаковым.\n",
    "\n",
    "**Обоснование:**\n",
    "\n",
    "До умножения на обратимую матрицу:\n",
    "$$\n",
    "a = Xw\n",
    "$$\n",
    "для общего случая\n",
    "$$\n",
    "a = X(X^T X)^{-1} X^T y \n",
    "$$ \n",
    "\n",
    "Но, если у нас матрица $X$ - квадратная и её определитель $det \\not= 0$, тогда для неё существует обратная к ней матрица $ X^{-1}$, и наша формула преобразуется в:\n",
    "$$\n",
    "a = X(X^T X)^{-1} X^T y = XX^{-1}(X^T)^{-1}X^T y = y$$  т.к. $XX^{-1} = X^{-1}X = E$\n",
    "\n",
    "После умножения на обратимую матрицу:\n",
    "$$\n",
    "a = XPw\n",
    "$$\n",
    "где $P $- обратимая матрица\n",
    "\n",
    "Тогда\n",
    "$$\n",
    "a = XP((XP^T) (XP))^{-1} (XP)^T y = XP(P^T(X^T X)P)^{-1} (XP)^T y = XPP^{-1}(X^T X)^{-1}(P^T)^{-1} P^T X^T y = X(X^T X)^{-1} X^T y\n",
    "$$\n",
    "\n",
    "что совпадает с первоначальным вариантом. А это значит, качество линейной регрессии не изменится.\n",
    "\n",
    "По аналогии, если у нас матрица $X$ - квадратная и её определитель $det \\not= 0$, тогда для неё существует обратная к ней матрица $ X^{-1}$, и наша формула преобразуется в:\n",
    "$$\n",
    "a=y\n",
    "$$"
   ]
  },
  {
   "attachments": {},
   "cell_type": "markdown",
   "metadata": {},
   "source": [
    "## Алгоритм преобразования"
   ]
  },
  {
   "attachments": {},
   "cell_type": "markdown",
   "metadata": {},
   "source": [
    "**Алгоритм**\n",
    "\n",
    "1. Разделим датасет и выделим в нем целевой признак.\n",
    "2. Создадим случайную матрицу размером 4x4 и проверим, что она обратима.\n",
    "3. Умножим наши данные на сгенерированную матрицу."
   ]
  },
  {
   "attachments": {},
   "cell_type": "markdown",
   "metadata": {},
   "source": [
    "**Обоснование**\n",
    "\n",
    "Как показывают расчеты произведенные ранее, после умножения на обратимую матрицу, изменения ключевой метрики (R2) если и будут, то будут очень минимальны."
   ]
  },
  {
   "attachments": {},
   "cell_type": "markdown",
   "metadata": {},
   "source": [
    "## Проверка алгоритма"
   ]
  },
  {
   "cell_type": "code",
   "execution_count": 6,
   "metadata": {},
   "outputs": [],
   "source": [
    "# выделим целевой признак\n",
    "X = df.drop('страховые_выплаты', axis=1)\n",
    "y = df['страховые_выплаты']"
   ]
  },
  {
   "cell_type": "code",
   "execution_count": 7,
   "metadata": {},
   "outputs": [
    {
     "name": "stdout",
     "output_type": "stream",
     "text": [
      "(5000, 4)\n",
      "(5000,)\n"
     ]
    }
   ],
   "source": [
    "print(X.shape)\n",
    "print(y.shape)"
   ]
  },
  {
   "cell_type": "code",
   "execution_count": 8,
   "metadata": {},
   "outputs": [],
   "source": [
    "# создадим функцию для расчета R2\n",
    "def R2_score(X, y):\n",
    "    model = LinearRegression()\n",
    "    model.fit(X, y)\n",
    "    prediction = model.predict(X)\n",
    "    r2 = r2_score(y, prediction)\n",
    "    return r2"
   ]
  },
  {
   "cell_type": "code",
   "execution_count": 9,
   "metadata": {},
   "outputs": [
    {
     "name": "stdout",
     "output_type": "stream",
     "text": [
      "Матрица 4x4:\n",
      "[[0.92560999 0.05307241 0.8750555  0.896681  ]\n",
      " [0.58302545 0.51814294 0.80893183 0.39855   ]\n",
      " [0.09699177 0.09767491 0.24028922 0.57768497]\n",
      " [0.17860109 0.90377065 0.34750593 0.44356501]]\n",
      "\n",
      "Обратная матрица:\n",
      "[[ 2.81420076 -2.64652109 -3.90446961  1.77399933]\n",
      " [ 0.10507113 -0.45351182 -0.97566197  1.46575381]\n",
      " [-2.3319425   3.99642778  2.74430693 -2.45085295]\n",
      " [ 0.47971395 -1.14129861  1.41006217  0.47375796]]\n"
     ]
    }
   ],
   "source": [
    "# создадим случайную матрицу 4x4 и проверим что она обратима\n",
    "matrix = np.random.rand(4, 4)\n",
    "matrix_inv = np.linalg.inv(matrix)\n",
    "print('Матрица 4x4:')\n",
    "print(matrix)\n",
    "print('')\n",
    "print('Обратная матрица:')\n",
    "print(matrix_inv)"
   ]
  },
  {
   "cell_type": "code",
   "execution_count": 10,
   "metadata": {},
   "outputs": [
    {
     "data": {
      "text/plain": [
       "0.4249455028666801"
      ]
     },
     "execution_count": 10,
     "metadata": {},
     "output_type": "execute_result"
    }
   ],
   "source": [
    "# вычислим R2 до умножения\n",
    "R2_score(X, y)"
   ]
  },
  {
   "cell_type": "code",
   "execution_count": 11,
   "metadata": {},
   "outputs": [
    {
     "data": {
      "text/plain": [
       "0.42494550286667276"
      ]
     },
     "execution_count": 11,
     "metadata": {},
     "output_type": "execute_result"
    }
   ],
   "source": [
    "# теперь умножим на случайную матрицу и найдем R2\n",
    "matrix_new = np.dot(X, matrix)\n",
    "R2_score(matrix_new, y)"
   ]
  },
  {
   "attachments": {},
   "cell_type": "markdown",
   "metadata": {},
   "source": [
    "**Вывод:** Как мы и предполагали умножение на матрицу не изменило метрику, качество модели осталось прежним и равно 0.4249455 ."
   ]
  },
  {
   "attachments": {},
   "cell_type": "markdown",
   "metadata": {},
   "source": [
    "Проверим еще несколько способов изменений с помощью математических операций."
   ]
  },
  {
   "cell_type": "code",
   "execution_count": 12,
   "metadata": {},
   "outputs": [
    {
     "data": {
      "text/plain": [
       "0.42494550286668"
      ]
     },
     "execution_count": 12,
     "metadata": {},
     "output_type": "execute_result"
    }
   ],
   "source": [
    "matrix_new1 = (((X * 45) / 76) + 2) - 11\n",
    "R2_score(matrix_new1, y)"
   ]
  },
  {
   "cell_type": "code",
   "execution_count": 13,
   "metadata": {},
   "outputs": [
    {
     "data": {
      "text/plain": [
       "0.42494550286668"
      ]
     },
     "execution_count": 13,
     "metadata": {},
     "output_type": "execute_result"
    }
   ],
   "source": [
    "# умножим наши данные на вектор\n",
    "matrix_new2 = X * np.log(118) - 123\n",
    "R2_score(matrix_new2, y)"
   ]
  },
  {
   "attachments": {},
   "cell_type": "markdown",
   "metadata": {},
   "source": [
    "**Вывод:** Математические операции также не повлияли на изменение метрики качества модели."
   ]
  },
  {
   "attachments": {},
   "cell_type": "markdown",
   "metadata": {},
   "source": [
    "## Общий вывод"
   ]
  },
  {
   "attachments": {},
   "cell_type": "markdown",
   "metadata": {},
   "source": [
    "В качестве средства защиты персональных данных страховой компании рекомендуется рассмотреть алгоритм умножения данных на случайную матрицу. Согласно проведенного исследования удалось установить, что умножение никак не изменит метрику качества модели машинного обучения. Метрика R2 (коэффициент детерминации) в модели линейной регрессии до и после умножений осталась прежней и была равна 0.4249455 ."
   ]
  }
 ],
 "metadata": {
  "ExecuteTimeLog": [
   {
    "duration": 1014,
    "start_time": "2023-02-12T09:02:03.671Z"
   },
   {
    "duration": 100,
    "start_time": "2023-02-12T09:03:17.054Z"
   },
   {
    "duration": 24,
    "start_time": "2023-02-12T09:03:28.124Z"
   },
   {
    "duration": 4,
    "start_time": "2023-02-12T09:04:28.912Z"
   },
   {
    "duration": 1041,
    "start_time": "2023-02-12T09:05:46.440Z"
   },
   {
    "duration": 9,
    "start_time": "2023-02-12T09:08:35.488Z"
   },
   {
    "duration": 4,
    "start_time": "2023-02-12T10:04:52.177Z"
   },
   {
    "duration": 4,
    "start_time": "2023-02-12T10:05:11.832Z"
   },
   {
    "duration": 3,
    "start_time": "2023-02-12T10:05:29.471Z"
   },
   {
    "duration": 4,
    "start_time": "2023-02-12T10:05:55.205Z"
   },
   {
    "duration": 4,
    "start_time": "2023-02-12T10:08:00.480Z"
   },
   {
    "duration": 6,
    "start_time": "2023-02-12T10:11:07.002Z"
   },
   {
    "duration": 5,
    "start_time": "2023-02-12T10:11:38.981Z"
   },
   {
    "duration": 104,
    "start_time": "2023-02-12T10:12:57.795Z"
   },
   {
    "duration": 4,
    "start_time": "2023-02-12T10:13:20.405Z"
   },
   {
    "duration": 5,
    "start_time": "2023-02-12T10:13:21.751Z"
   },
   {
    "duration": 44,
    "start_time": "2023-02-12T10:13:25.294Z"
   },
   {
    "duration": 7,
    "start_time": "2023-02-12T10:34:12.680Z"
   },
   {
    "duration": 12,
    "start_time": "2023-02-12T10:42:23.341Z"
   },
   {
    "duration": 3,
    "start_time": "2023-02-12T10:45:16.149Z"
   },
   {
    "duration": 53,
    "start_time": "2023-02-12T10:45:17.592Z"
   },
   {
    "duration": 5,
    "start_time": "2023-02-12T10:45:52.332Z"
   },
   {
    "duration": 11,
    "start_time": "2023-02-12T10:47:48.102Z"
   },
   {
    "duration": 3,
    "start_time": "2023-02-12T10:50:22.234Z"
   },
   {
    "duration": 12,
    "start_time": "2023-02-12T10:50:27.824Z"
   },
   {
    "duration": 3,
    "start_time": "2023-02-12T10:51:33.834Z"
   },
   {
    "duration": 136,
    "start_time": "2023-02-12T10:51:38.801Z"
   },
   {
    "duration": 25,
    "start_time": "2023-02-12T10:52:43.114Z"
   },
   {
    "duration": 335,
    "start_time": "2023-02-12T10:52:59.024Z"
   },
   {
    "duration": 10,
    "start_time": "2023-02-12T11:01:40.525Z"
   },
   {
    "duration": 10,
    "start_time": "2023-02-12T11:02:01.857Z"
   },
   {
    "duration": 10,
    "start_time": "2023-02-12T11:04:00.917Z"
   },
   {
    "duration": 9,
    "start_time": "2023-02-12T11:04:43.022Z"
   },
   {
    "duration": 1900,
    "start_time": "2023-02-12T12:03:44.442Z"
   },
   {
    "duration": 90,
    "start_time": "2023-02-12T12:03:46.344Z"
   },
   {
    "duration": 5,
    "start_time": "2023-02-12T12:03:46.436Z"
   },
   {
    "duration": 1210,
    "start_time": "2023-02-12T12:03:46.443Z"
   },
   {
    "duration": 12,
    "start_time": "2023-02-12T12:03:47.657Z"
   },
   {
    "duration": 7,
    "start_time": "2023-02-12T12:03:47.671Z"
   },
   {
    "duration": 19,
    "start_time": "2023-02-12T12:03:47.680Z"
   },
   {
    "duration": 11,
    "start_time": "2023-02-12T12:03:47.700Z"
   },
   {
    "duration": 13,
    "start_time": "2023-02-12T12:03:47.713Z"
   },
   {
    "duration": 293,
    "start_time": "2023-02-12T12:03:47.728Z"
   },
   {
    "duration": 108,
    "start_time": "2023-02-12T12:03:48.027Z"
   },
   {
    "duration": 197,
    "start_time": "2023-02-12T12:03:48.138Z"
   },
   {
    "duration": 182,
    "start_time": "2023-02-12T12:03:48.338Z"
   },
   {
    "duration": 1222,
    "start_time": "2023-02-12T13:28:01.427Z"
   },
   {
    "duration": 131,
    "start_time": "2023-02-12T13:28:02.651Z"
   },
   {
    "duration": 4,
    "start_time": "2023-02-12T13:28:02.784Z"
   },
   {
    "duration": 1330,
    "start_time": "2023-02-12T13:28:02.789Z"
   },
   {
    "duration": 15,
    "start_time": "2023-02-12T13:28:04.122Z"
   },
   {
    "duration": 18,
    "start_time": "2023-02-12T13:28:04.139Z"
   },
   {
    "duration": 9,
    "start_time": "2023-02-12T13:28:04.159Z"
   },
   {
    "duration": 20,
    "start_time": "2023-02-12T13:28:04.169Z"
   },
   {
    "duration": 50,
    "start_time": "2023-02-12T13:28:04.192Z"
   },
   {
    "duration": 187,
    "start_time": "2023-02-12T13:28:04.248Z"
   },
   {
    "duration": 199,
    "start_time": "2023-02-12T13:28:04.441Z"
   },
   {
    "duration": 145,
    "start_time": "2023-02-12T13:28:04.691Z"
   },
   {
    "duration": 123,
    "start_time": "2023-02-12T13:28:04.893Z"
   },
   {
    "duration": 9,
    "start_time": "2023-02-12T13:30:17.856Z"
   },
   {
    "duration": 5,
    "start_time": "2023-02-12T13:33:03.237Z"
   },
   {
    "duration": 4,
    "start_time": "2023-02-12T13:34:53.827Z"
   },
   {
    "duration": 4,
    "start_time": "2023-02-12T13:35:18.846Z"
   },
   {
    "duration": 1291,
    "start_time": "2023-02-13T12:07:29.740Z"
   },
   {
    "duration": 94,
    "start_time": "2023-02-13T12:07:31.033Z"
   },
   {
    "duration": 4,
    "start_time": "2023-02-13T12:07:31.129Z"
   },
   {
    "duration": 1275,
    "start_time": "2023-02-13T12:07:31.135Z"
   },
   {
    "duration": 12,
    "start_time": "2023-02-13T12:07:32.412Z"
   },
   {
    "duration": 8,
    "start_time": "2023-02-13T12:07:32.426Z"
   },
   {
    "duration": 11,
    "start_time": "2023-02-13T12:07:32.435Z"
   },
   {
    "duration": 6,
    "start_time": "2023-02-13T12:07:32.448Z"
   },
   {
    "duration": 29,
    "start_time": "2023-02-13T12:07:32.456Z"
   },
   {
    "duration": 194,
    "start_time": "2023-02-13T12:07:32.488Z"
   },
   {
    "duration": 121,
    "start_time": "2023-02-13T12:07:32.685Z"
   },
   {
    "duration": 116,
    "start_time": "2023-02-13T12:07:32.882Z"
   },
   {
    "duration": 214,
    "start_time": "2023-02-13T12:07:33.000Z"
   }
  ],
  "kernelspec": {
   "display_name": "Python 3 (ipykernel)",
   "language": "python",
   "name": "python3"
  },
  "language_info": {
   "codemirror_mode": {
    "name": "ipython",
    "version": 3
   },
   "file_extension": ".py",
   "mimetype": "text/x-python",
   "name": "python",
   "nbconvert_exporter": "python",
   "pygments_lexer": "ipython3",
   "version": "3.9.5"
  },
  "toc": {
   "base_numbering": 1,
   "nav_menu": {},
   "number_sections": true,
   "sideBar": true,
   "skip_h1_title": true,
   "title_cell": "Содержание",
   "title_sidebar": "Contents",
   "toc_cell": true,
   "toc_position": {},
   "toc_section_display": true,
   "toc_window_display": false
  }
 },
 "nbformat": 4,
 "nbformat_minor": 2
}
