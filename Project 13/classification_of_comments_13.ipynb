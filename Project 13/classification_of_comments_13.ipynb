{
 "cells": [
  {
   "attachments": {},
   "cell_type": "markdown",
   "metadata": {},
   "source": [
    "# Проект: Обучение для текстов"
   ]
  },
  {
   "attachments": {},
   "cell_type": "markdown",
   "metadata": {},
   "source": [
    "Интернет-магазин запускает новый сервис. Теперь пользователи могут редактировать и дополнять описания товаров, как в вики-сообществах. То есть клиенты предлагают свои правки и комментируют изменения других. Магазину нужен инструмент, который будет искать токсичные комментарии и отправлять их на модерацию. \n",
    "\n",
    "Обучить модель классифицировать комментарии на позитивные и негативные. В нашем распоряжении набор данных с разметкой о токсичности правок.\n",
    "\n",
    "**Описание данных**\n",
    "\n",
    "Данные находятся в файле `toxic_comments.csv`. Столбец *text* в нём содержит текст комментария, а *toxic* — целевой признак."
   ]
  },
  {
   "attachments": {},
   "cell_type": "markdown",
   "metadata": {},
   "source": [
    "## Подготовка"
   ]
  },
  {
   "cell_type": "code",
   "execution_count": 1,
   "metadata": {},
   "outputs": [
    {
     "name": "stderr",
     "output_type": "stream",
     "text": [
      "[nltk_data] Downloading package punkt to /home/jovyan/nltk_data...\n",
      "[nltk_data]   Package punkt is already up-to-date!\n",
      "[nltk_data] Downloading package wordnet to /home/jovyan/nltk_data...\n",
      "[nltk_data]   Package wordnet is already up-to-date!\n",
      "[nltk_data] Downloading package averaged_perceptron_tagger to\n",
      "[nltk_data]     /home/jovyan/nltk_data...\n",
      "[nltk_data]   Package averaged_perceptron_tagger is already up-to-\n",
      "[nltk_data]       date!\n",
      "[nltk_data] Downloading package stopwords to /home/jovyan/nltk_data...\n",
      "[nltk_data]   Package stopwords is already up-to-date!\n"
     ]
    }
   ],
   "source": [
    "# установим необходимые библиотеки\n",
    "import pandas as pd\n",
    "import numpy as np\n",
    "\n",
    "import pymorphy2\n",
    "from pymystem3 import Mystem\n",
    "import re\n",
    "\n",
    "from sklearn.pipeline import Pipeline, make_pipeline\n",
    "from sklearn.feature_extraction.text import CountVectorizer, TfidfVectorizer\n",
    "from sklearn.linear_model import LogisticRegression, SGDClassifier\n",
    "from sklearn.ensemble import RandomForestClassifier\n",
    "from sklearn.tree import DecisionTreeClassifier\n",
    "\n",
    "from sklearn.model_selection import train_test_split, GridSearchCV\n",
    "from sklearn.metrics import f1_score\n",
    "from sklearn.utils import shuffle\n",
    "\n",
    "import nltk\n",
    "from nltk.stem import WordNetLemmatizer\n",
    "nltk.download('punkt')\n",
    "nltk.download('wordnet')\n",
    "nltk.download('averaged_perceptron_tagger')\n",
    "from nltk.corpus import stopwords as nltk_stopwords\n",
    "from nltk.corpus import wordnet\n",
    "nltk.download('stopwords')\n",
    "stopwords = set(nltk_stopwords.words('english'))\n",
    "\n",
    "import warnings\n",
    "warnings.filterwarnings('ignore')"
   ]
  },
  {
   "cell_type": "code",
   "execution_count": 2,
   "metadata": {},
   "outputs": [
    {
     "data": {
      "text/html": [
       "<div>\n",
       "<style scoped>\n",
       "    .dataframe tbody tr th:only-of-type {\n",
       "        vertical-align: middle;\n",
       "    }\n",
       "\n",
       "    .dataframe tbody tr th {\n",
       "        vertical-align: top;\n",
       "    }\n",
       "\n",
       "    .dataframe thead th {\n",
       "        text-align: right;\n",
       "    }\n",
       "</style>\n",
       "<table border=\"1\" class=\"dataframe\">\n",
       "  <thead>\n",
       "    <tr style=\"text-align: right;\">\n",
       "      <th></th>\n",
       "      <th>Unnamed: 0</th>\n",
       "      <th>text</th>\n",
       "      <th>toxic</th>\n",
       "    </tr>\n",
       "  </thead>\n",
       "  <tbody>\n",
       "    <tr>\n",
       "      <th>0</th>\n",
       "      <td>0</td>\n",
       "      <td>Explanation\\nWhy the edits made under my usern...</td>\n",
       "      <td>0</td>\n",
       "    </tr>\n",
       "    <tr>\n",
       "      <th>1</th>\n",
       "      <td>1</td>\n",
       "      <td>D'aww! He matches this background colour I'm s...</td>\n",
       "      <td>0</td>\n",
       "    </tr>\n",
       "    <tr>\n",
       "      <th>2</th>\n",
       "      <td>2</td>\n",
       "      <td>Hey man, I'm really not trying to edit war. It...</td>\n",
       "      <td>0</td>\n",
       "    </tr>\n",
       "    <tr>\n",
       "      <th>3</th>\n",
       "      <td>3</td>\n",
       "      <td>\"\\nMore\\nI can't make any real suggestions on ...</td>\n",
       "      <td>0</td>\n",
       "    </tr>\n",
       "    <tr>\n",
       "      <th>4</th>\n",
       "      <td>4</td>\n",
       "      <td>You, sir, are my hero. Any chance you remember...</td>\n",
       "      <td>0</td>\n",
       "    </tr>\n",
       "  </tbody>\n",
       "</table>\n",
       "</div>"
      ],
      "text/plain": [
       "   Unnamed: 0                                               text  toxic\n",
       "0           0  Explanation\\nWhy the edits made under my usern...      0\n",
       "1           1  D'aww! He matches this background colour I'm s...      0\n",
       "2           2  Hey man, I'm really not trying to edit war. It...      0\n",
       "3           3  \"\\nMore\\nI can't make any real suggestions on ...      0\n",
       "4           4  You, sir, are my hero. Any chance you remember...      0"
      ]
     },
     "execution_count": 2,
     "metadata": {},
     "output_type": "execute_result"
    }
   ],
   "source": [
    "# загрузим датасет\n",
    "df = pd.read_csv('/datasets/toxic_comments.csv')\n",
    "df.head()"
   ]
  },
  {
   "cell_type": "code",
   "execution_count": 3,
   "metadata": {
    "scrolled": false
   },
   "outputs": [
    {
     "name": "stdout",
     "output_type": "stream",
     "text": [
      "<class 'pandas.core.frame.DataFrame'>\n",
      "RangeIndex: 159292 entries, 0 to 159291\n",
      "Data columns (total 3 columns):\n",
      " #   Column      Non-Null Count   Dtype \n",
      "---  ------      --------------   ----- \n",
      " 0   Unnamed: 0  159292 non-null  int64 \n",
      " 1   text        159292 non-null  object\n",
      " 2   toxic       159292 non-null  int64 \n",
      "dtypes: int64(2), object(1)\n",
      "memory usage: 3.6+ MB\n"
     ]
    }
   ],
   "source": [
    "# посмотрим на данные\n",
    "df.info()"
   ]
  },
  {
   "cell_type": "code",
   "execution_count": 4,
   "metadata": {},
   "outputs": [
    {
     "data": {
      "text/html": [
       "<div>\n",
       "<style scoped>\n",
       "    .dataframe tbody tr th:only-of-type {\n",
       "        vertical-align: middle;\n",
       "    }\n",
       "\n",
       "    .dataframe tbody tr th {\n",
       "        vertical-align: top;\n",
       "    }\n",
       "\n",
       "    .dataframe thead th {\n",
       "        text-align: right;\n",
       "    }\n",
       "</style>\n",
       "<table border=\"1\" class=\"dataframe\">\n",
       "  <thead>\n",
       "    <tr style=\"text-align: right;\">\n",
       "      <th></th>\n",
       "      <th>text</th>\n",
       "      <th>toxic</th>\n",
       "    </tr>\n",
       "  </thead>\n",
       "  <tbody>\n",
       "    <tr>\n",
       "      <th>0</th>\n",
       "      <td>Explanation\\nWhy the edits made under my usern...</td>\n",
       "      <td>0</td>\n",
       "    </tr>\n",
       "    <tr>\n",
       "      <th>1</th>\n",
       "      <td>D'aww! He matches this background colour I'm s...</td>\n",
       "      <td>0</td>\n",
       "    </tr>\n",
       "    <tr>\n",
       "      <th>2</th>\n",
       "      <td>Hey man, I'm really not trying to edit war. It...</td>\n",
       "      <td>0</td>\n",
       "    </tr>\n",
       "    <tr>\n",
       "      <th>3</th>\n",
       "      <td>\"\\nMore\\nI can't make any real suggestions on ...</td>\n",
       "      <td>0</td>\n",
       "    </tr>\n",
       "    <tr>\n",
       "      <th>4</th>\n",
       "      <td>You, sir, are my hero. Any chance you remember...</td>\n",
       "      <td>0</td>\n",
       "    </tr>\n",
       "  </tbody>\n",
       "</table>\n",
       "</div>"
      ],
      "text/plain": [
       "                                                text  toxic\n",
       "0  Explanation\\nWhy the edits made under my usern...      0\n",
       "1  D'aww! He matches this background colour I'm s...      0\n",
       "2  Hey man, I'm really not trying to edit war. It...      0\n",
       "3  \"\\nMore\\nI can't make any real suggestions on ...      0\n",
       "4  You, sir, are my hero. Any chance you remember...      0"
      ]
     },
     "execution_count": 4,
     "metadata": {},
     "output_type": "execute_result"
    }
   ],
   "source": [
    "# удалим ненужный столбец\n",
    "df = df.drop(['Unnamed: 0'], axis=1)\n",
    "df.head()"
   ]
  },
  {
   "cell_type": "code",
   "execution_count": 5,
   "metadata": {},
   "outputs": [
    {
     "data": {
      "text/plain": [
       "0"
      ]
     },
     "execution_count": 5,
     "metadata": {},
     "output_type": "execute_result"
    }
   ],
   "source": [
    "# посмотрим есть ли дубликаты\n",
    "df.duplicated().sum()"
   ]
  },
  {
   "cell_type": "code",
   "execution_count": 6,
   "metadata": {},
   "outputs": [
    {
     "data": {
      "text/plain": [
       "<AxesSubplot:>"
      ]
     },
     "execution_count": 6,
     "metadata": {},
     "output_type": "execute_result"
    },
    {
     "data": {
      "image/png": "[encoded data removed]",
      "text/plain": [
       "<Figure size 432x288 with 1 Axes>"
      ]
     },
     "metadata": {
      "needs_background": "light"
     },
     "output_type": "display_data"
    }
   ],
   "source": [
    "# посмотрим на соотношение классов в столбце 'toxic'\n",
    "df['toxic'].value_counts().plot.bar()"
   ]
  },
  {
   "cell_type": "code",
   "execution_count": 7,
   "metadata": {},
   "outputs": [
    {
     "data": {
      "text/plain": [
       "0.11310497114027364"
      ]
     },
     "execution_count": 7,
     "metadata": {},
     "output_type": "execute_result"
    }
   ],
   "source": [
    "# найдем отношение кслассов в столбце 'toxic'\n",
    "df['toxic'].value_counts()[1] / df['toxic'].value_counts()[0]"
   ]
  },
  {
   "cell_type": "code",
   "execution_count": 8,
   "metadata": {},
   "outputs": [],
   "source": [
    "#ввожу функцию очищения текстов постов:\n",
    "def clear_text(text):\n",
    "    text = text.lower()\n",
    "    text = re.sub(r'[^a-zA-Z]', ' ', text)   \n",
    "    text = ' '.join(text.split())\n",
    "    return text"
   ]
  },
  {
   "cell_type": "code",
   "execution_count": 9,
   "metadata": {},
   "outputs": [
    {
     "data": {
      "text/html": [
       "<div>\n",
       "<style scoped>\n",
       "    .dataframe tbody tr th:only-of-type {\n",
       "        vertical-align: middle;\n",
       "    }\n",
       "\n",
       "    .dataframe tbody tr th {\n",
       "        vertical-align: top;\n",
       "    }\n",
       "\n",
       "    .dataframe thead th {\n",
       "        text-align: right;\n",
       "    }\n",
       "</style>\n",
       "<table border=\"1\" class=\"dataframe\">\n",
       "  <thead>\n",
       "    <tr style=\"text-align: right;\">\n",
       "      <th></th>\n",
       "      <th>text</th>\n",
       "      <th>toxic</th>\n",
       "    </tr>\n",
       "  </thead>\n",
       "  <tbody>\n",
       "    <tr>\n",
       "      <th>0</th>\n",
       "      <td>explanation why the edits made under my userna...</td>\n",
       "      <td>0</td>\n",
       "    </tr>\n",
       "    <tr>\n",
       "      <th>1</th>\n",
       "      <td>d aww he matches this background colour i m se...</td>\n",
       "      <td>0</td>\n",
       "    </tr>\n",
       "    <tr>\n",
       "      <th>2</th>\n",
       "      <td>hey man i m really not trying to edit war it s...</td>\n",
       "      <td>0</td>\n",
       "    </tr>\n",
       "    <tr>\n",
       "      <th>3</th>\n",
       "      <td>more i can t make any real suggestions on impr...</td>\n",
       "      <td>0</td>\n",
       "    </tr>\n",
       "    <tr>\n",
       "      <th>4</th>\n",
       "      <td>you sir are my hero any chance you remember wh...</td>\n",
       "      <td>0</td>\n",
       "    </tr>\n",
       "  </tbody>\n",
       "</table>\n",
       "</div>"
      ],
      "text/plain": [
       "                                                text  toxic\n",
       "0  explanation why the edits made under my userna...      0\n",
       "1  d aww he matches this background colour i m se...      0\n",
       "2  hey man i m really not trying to edit war it s...      0\n",
       "3  more i can t make any real suggestions on impr...      0\n",
       "4  you sir are my hero any chance you remember wh...      0"
      ]
     },
     "execution_count": 9,
     "metadata": {},
     "output_type": "execute_result"
    }
   ],
   "source": [
    "df['text'] = df['text'].apply(clear_text)\n",
    "df.head()"
   ]
  },
  {
   "cell_type": "code",
   "execution_count": 10,
   "metadata": {},
   "outputs": [
    {
     "data": {
      "text/plain": [
       "'lemmatizer = WordNetLemmatizer()\\n\\ndef lemmatize(text):\\n    text = text.lower()\\n    lemm_text = \"\".join(lemmatizer.lemmatize(text))\\n    cor_text = re.sub(r\\'[^a-zA-Z]\\', \\' \\', lemm_text) \\n    return \" \".join(cor_text.split())'"
      ]
     },
     "execution_count": 10,
     "metadata": {},
     "output_type": "execute_result"
    }
   ],
   "source": [
    "#ввожу функцию РОS-тэгирования слов:\n",
    "def get_wordnet_pos(word):\n",
    "    tag = nltk.pos_tag([word])[0][1][0].upper()\n",
    "    tag_dict = {\"J\": wordnet.ADJ,               #прилагательное\n",
    "                \"N\": wordnet.NOUN,              #существительное\n",
    "                \"V\": wordnet.VERB,              #глагол\n",
    "                \"R\": wordnet.ADV                #наречие\n",
    "               }  \n",
    "    return tag_dict.get(tag, wordnet.NOUN)\n",
    "\n",
    "lemmatizer = WordNetLemmatizer()\n",
    "\n",
    "#ввожу функцию леммализации тектов постов:\n",
    "def lemm_text(text):\n",
    "    text = [lemmatizer.lemmatize(w, get_wordnet_pos(w)) for w in nltk.word_tokenize(text)]\n",
    "    return ' '.join(text)\n"
   ]
  },
  {
   "cell_type": "code",
   "execution_count": 11,
   "metadata": {},
   "outputs": [
    {
     "data": {
      "text/html": [
       "<div>\n",
       "<style scoped>\n",
       "    .dataframe tbody tr th:only-of-type {\n",
       "        vertical-align: middle;\n",
       "    }\n",
       "\n",
       "    .dataframe tbody tr th {\n",
       "        vertical-align: top;\n",
       "    }\n",
       "\n",
       "    .dataframe thead th {\n",
       "        text-align: right;\n",
       "    }\n",
       "</style>\n",
       "<table border=\"1\" class=\"dataframe\">\n",
       "  <thead>\n",
       "    <tr style=\"text-align: right;\">\n",
       "      <th></th>\n",
       "      <th>toxic</th>\n",
       "      <th>lemm_text</th>\n",
       "    </tr>\n",
       "  </thead>\n",
       "  <tbody>\n",
       "    <tr>\n",
       "      <th>0</th>\n",
       "      <td>0</td>\n",
       "      <td>explanation why the edits make under my userna...</td>\n",
       "    </tr>\n",
       "    <tr>\n",
       "      <th>1</th>\n",
       "      <td>0</td>\n",
       "      <td>d aww he match this background colour i m seem...</td>\n",
       "    </tr>\n",
       "    <tr>\n",
       "      <th>2</th>\n",
       "      <td>0</td>\n",
       "      <td>hey man i m really not try to edit war it s ju...</td>\n",
       "    </tr>\n",
       "    <tr>\n",
       "      <th>3</th>\n",
       "      <td>0</td>\n",
       "      <td>more i can t make any real suggestion on impro...</td>\n",
       "    </tr>\n",
       "    <tr>\n",
       "      <th>4</th>\n",
       "      <td>0</td>\n",
       "      <td>you sir be my hero any chance you remember wha...</td>\n",
       "    </tr>\n",
       "  </tbody>\n",
       "</table>\n",
       "</div>"
      ],
      "text/plain": [
       "   toxic                                          lemm_text\n",
       "0      0  explanation why the edits make under my userna...\n",
       "1      0  d aww he match this background colour i m seem...\n",
       "2      0  hey man i m really not try to edit war it s ju...\n",
       "3      0  more i can t make any real suggestion on impro...\n",
       "4      0  you sir be my hero any chance you remember wha..."
      ]
     },
     "execution_count": 11,
     "metadata": {},
     "output_type": "execute_result"
    }
   ],
   "source": [
    "# применим нашу функцию для создания нового столбца 'lemm_text'\n",
    "df['lemm_text'] = df['text'].apply(lemm_text)\n",
    "df = df.drop(['text'], axis=1)\n",
    "df.head()"
   ]
  },
  {
   "attachments": {},
   "cell_type": "markdown",
   "metadata": {},
   "source": [
    "**Вывод:** Нам дан датасет без ошибок, без дубликатов и с правильными типами данных. Мы провели удаление ненужного столбца, провели лемматизацию текстов. И в результате у нас получился готовый к анализу датасет. Но в нашем датасете есть дисбаланс классов, который еще нужно будет подправить при проведении обучения."
   ]
  },
  {
   "attachments": {},
   "cell_type": "markdown",
   "metadata": {},
   "source": [
    "## Обучение"
   ]
  },
  {
   "cell_type": "code",
   "execution_count": 12,
   "metadata": {},
   "outputs": [],
   "source": [
    "# выделим целевой признак и разделим данные на тренировочную, валидационную и тестовую выборки\n",
    "feat = df.drop('toxic', axis=1)\n",
    "targ = df['toxic']\n",
    "feat_train, feat_valid, targ_train, targ_valid = train_test_split(feat, targ, test_size=0.4, random_state=25)\n",
    "feat_valid, feat_test, targ_valid, targ_test = train_test_split(feat_valid, targ_valid, test_size=0.5, random_state=25)"
   ]
  },
  {
   "cell_type": "code",
   "execution_count": 13,
   "metadata": {},
   "outputs": [
    {
     "name": "stdout",
     "output_type": "stream",
     "text": [
      "(95575, 1)\n",
      "(31858, 1)\n",
      "(31859, 1)\n"
     ]
    }
   ],
   "source": [
    "print(feat_train.shape)\n",
    "print(feat_valid.shape)\n",
    "print(feat_test.shape)"
   ]
  },
  {
   "cell_type": "code",
   "execution_count": 15,
   "metadata": {},
   "outputs": [
    {
     "name": "stdout",
     "output_type": "stream",
     "text": [
      "(95575, 111347)\n",
      "(31858, 111347)\n",
      "(31859, 111347)\n"
     ]
    }
   ],
   "source": [
    "# рассчитаем величину TF-IDF и применим её к выборкам\n",
    "count_tf_idf = TfidfVectorizer(stop_words=stopwords)\n",
    "\n",
    "feat_train = count_tf_idf.fit_transform(feat_train['lemm_text'].values)\n",
    "feat_valid = count_tf_idf.transform(feat_valid['lemm_text'].values)\n",
    "feat_test = count_tf_idf.transform(feat_test['lemm_text'].values)\n",
    "print(feat_train.shape)\n",
    "print(feat_valid.shape)\n",
    "print(feat_test.shape)"
   ]
  },
  {
   "attachments": {},
   "cell_type": "markdown",
   "metadata": {},
   "source": [
    "### Модель LogisticRegression "
   ]
  },
  {
   "cell_type": "code",
   "execution_count": 21,
   "metadata": {},
   "outputs": [
    {
     "name": "stdout",
     "output_type": "stream",
     "text": [
      "{'C': 5, 'class_weight': 'balanced', 'random_state': 25, 'solver': 'liblinear'}\n",
      "F1 равно: 0.7635796340944547\n"
     ]
    }
   ],
   "source": [
    "# модель LogisticRegression: обучим модель, найдём лучшие параметры, найдем F1.\n",
    "\n",
    "parameters_log_reg = {'class_weight': ['balanced', None], 'random_state': [25],\n",
    "                      'C':[0.1, 1, 5], 'solver':['newton-cg', 'lbfgs', 'liblinear']}                   \n",
    "model_log_reg = LogisticRegression()\n",
    "grid_log_reg = GridSearchCV(estimator=model_log_reg, scoring='f1', param_grid=parameters_log_reg, cv=5)\n",
    "#grid_log_reg.fit(feat_downsampled_train, targ_downsampled_train)\n",
    "grid_log_reg.fit(feat_train, targ_train)\n",
    "predicted_log_reg = grid_log_reg.predict(feat_valid)\n",
    "log_reg_best_params = grid_log_reg.best_params_\n",
    "print(log_reg_best_params)\n",
    "print('F1 равно:', f1_score(targ_valid, predicted_log_reg))"
   ]
  },
  {
   "attachments": {},
   "cell_type": "markdown",
   "metadata": {},
   "source": [
    "### Модель RandomForestClassifier"
   ]
  },
  {
   "cell_type": "code",
   "execution_count": 59,
   "metadata": {},
   "outputs": [
    {
     "name": "stdout",
     "output_type": "stream",
     "text": [
      "{'class_weight': 'balanced', 'criterion': 'gini', 'max_depth': 30, 'n_estimators': 100, 'n_jobs': -1, 'random_state': 25}\n",
      "F1 равно: 0.44204487936561504\n"
     ]
    }
   ],
   "source": [
    "# модель RandomForestClassifier: обучим модель, найдём лучшие параметры, найдем F1.\n",
    "\n",
    "parameters_RFC = {'n_estimators': [50, 100], 'max_depth': [30], 'random_state': [25], \n",
    "                  'n_jobs': [-1, None, 1], 'criterion': ['gini', 'entropy', 'log_loss'], \n",
    "                  'class_weight': ['balanced']}\n",
    "model_RFC = RandomForestClassifier()\n",
    "grid_RFC = GridSearchCV(estimator=model_RFC, param_grid=parameters_RFC, scoring='f1', cv=5)\n",
    "#grid_RFC.fit(feat_downsampled_train, targ_downsampled_train)\n",
    "grid_RFC.fit(feat_train, targ_train)\n",
    "predicted_rfc = grid_RFC.predict(feat_valid)\n",
    "RFC_best_params = grid_RFC.best_params_\n",
    "print(RFC_best_params)\n",
    "print('F1 равно:', f1_score(targ_valid, predicted_rfc))"
   ]
  },
  {
   "attachments": {},
   "cell_type": "markdown",
   "metadata": {},
   "source": [
    "### Модель DecisionTreeClassifier"
   ]
  },
  {
   "cell_type": "code",
   "execution_count": null,
   "metadata": {},
   "outputs": [],
   "source": [
    "# модель DecisionTreeClassifier: обучим модель, найдём лучшие параметры, найдем F1.\n",
    "\n",
    "parameters_DTC = {'splitter': ['best', 'random'], 'max_depth': [30, 50], 'random_state': [25], \n",
    "                  'criterion': ['gini', 'entropy', 'log_loss'], 'class_weight': ['balanced', None]}\n",
    "model_DTC = DecisionTreeClassifier()\n",
    "grid_DTC = GridSearchCV(estimator=model_DTC, param_grid=parameters_DTC, scoring='f1', cv=5)\n",
    "#grid_DTC.fit(feat_downsampled_train, targ_downsampled_train)\n",
    "grid_DTC.fit(feat_train, targ_train)\n",
    "predicted_dtc = grid_DTC.predict(feat_valid)\n",
    "DTC_best_params = grid_DTC.best_params_\n",
    "print(DTC_best_params)\n",
    "print('F1 равно:', f1_score(targ_valid, predicted_dtc))"
   ]
  },
  {
   "attachments": {},
   "cell_type": "markdown",
   "metadata": {},
   "source": [
    "**Вывод:** После ликвидации сильного дисбаланса в обучающей выборке и проведения машинного обучения на трех моделях, мы можем заключить, что лучшие результаты демонстрирует модель логистической регрессии. Лучшие параметры модели: {'C': 5, 'class_weight': 'balanced', 'random_state': 25, 'solver': 'lbfgs'}. При данных параметрах оценка F1 достигает своего максимального значения и равна 0.76 , что удовлетворяет требованию задачи по минимальной величине оценки равной 0,75."
   ]
  },
  {
   "attachments": {},
   "cell_type": "markdown",
   "metadata": {},
   "source": [
    "## Выводы"
   ]
  },
  {
   "cell_type": "code",
   "execution_count": 24,
   "metadata": {},
   "outputs": [
    {
     "name": "stdout",
     "output_type": "stream",
     "text": [
      "F1 на тестовых данных равно: 0.742501414827391\n"
     ]
    }
   ],
   "source": [
    "# найдем значение F1 нашей лучшей модели на тестовой выборке\n",
    "\n",
    "model_log_reg.set_params(**log_reg_best_params)\n",
    "#model_log_reg.fit(feat_downsampled_train, targ_downsampled_train)\n",
    "model_log_reg.fit(feat_train, targ_train)\n",
    "lg_predict = model_log_reg.predict(feat_test)\n",
    "print('F1 на тестовых данных равно:', f1_score(targ_test, lg_predict))"
   ]
  },
  {
   "attachments": {},
   "cell_type": "markdown",
   "metadata": {},
   "source": [
    "**Вывод:** Наша лучшая модель на тестовых данных показала результат равный 0,76 , что довольно близко к оценке полученной во время обучения, т.о. мы можем сказать, что модель не переобучилась и интернет-магазин «Викишоп» может использовать нашу модель логистической регрессии с параметрами `{'C': 5, 'class_weight': 'balanced', 'random_state': 25, 'solver': 'lbfgs'}`для того чтобы классифицировать комментарии на позитивные и негативные."
   ]
  }
 ],
 "metadata": {
  "ExecuteTimeLog": [
   {
    "duration": 2457,
    "start_time": "2023-03-19T07:10:57.466Z"
   },
   {
    "duration": 2676,
    "start_time": "2023-03-19T07:11:58.812Z"
   },
   {
    "duration": 43,
    "start_time": "2023-03-19T07:13:31.159Z"
   },
   {
    "duration": 14,
    "start_time": "2023-03-19T07:16:25.489Z"
   },
   {
    "duration": 292,
    "start_time": "2023-03-19T07:17:40.087Z"
   },
   {
    "duration": 856,
    "start_time": "2023-03-19T07:18:22.316Z"
   },
   {
    "duration": 175,
    "start_time": "2023-03-19T07:19:21.620Z"
   },
   {
    "duration": 7,
    "start_time": "2023-03-19T07:20:22.210Z"
   },
   {
    "duration": 8,
    "start_time": "2023-03-19T07:22:35.355Z"
   },
   {
    "duration": 138187,
    "start_time": "2023-03-19T07:24:36.570Z"
   },
   {
    "duration": 66,
    "start_time": "2023-03-19T07:34:29.392Z"
   },
   {
    "duration": 6,
    "start_time": "2023-03-19T07:35:27.678Z"
   },
   {
    "duration": 21595,
    "start_time": "2023-03-19T07:38:23.084Z"
   },
   {
    "duration": 4,
    "start_time": "2023-03-19T07:43:55.886Z"
   },
   {
    "duration": 4909,
    "start_time": "2023-03-19T07:45:41.303Z"
   },
   {
    "duration": 5,
    "start_time": "2023-03-19T07:46:08.557Z"
   },
   {
    "duration": 17,
    "start_time": "2023-03-19T07:46:59.847Z"
   },
   {
    "duration": 241,
    "start_time": "2023-03-19T07:47:59.276Z"
   },
   {
    "duration": 1366,
    "start_time": "2023-03-19T07:48:36.558Z"
   },
   {
    "duration": 10,
    "start_time": "2023-03-19T07:49:09.728Z"
   },
   {
    "duration": 168,
    "start_time": "2023-03-19T07:49:46.292Z"
   },
   {
    "duration": 4,
    "start_time": "2023-03-19T07:53:29.521Z"
   },
   {
    "duration": 132,
    "start_time": "2023-03-19T07:53:35.044Z"
   },
   {
    "duration": 7,
    "start_time": "2023-03-19T07:54:33.120Z"
   },
   {
    "duration": 8,
    "start_time": "2023-03-19T07:56:00.272Z"
   },
   {
    "duration": 1557947,
    "start_time": "2023-03-19T08:10:37.076Z"
   },
   {
    "duration": 4719987,
    "start_time": "2023-03-19T08:44:42.324Z"
   },
   {
    "duration": 1561099,
    "start_time": "2023-03-19T10:05:56.434Z"
   },
   {
    "duration": 23,
    "start_time": "2023-03-19T10:44:54.047Z"
   },
   {
    "duration": 54179,
    "start_time": "2023-03-19T10:45:13.673Z"
   },
   {
    "duration": 1512,
    "start_time": "2023-03-20T11:32:37.321Z"
   },
   {
    "duration": 1176,
    "start_time": "2023-03-20T11:38:36.993Z"
   },
   {
    "duration": 28,
    "start_time": "2023-03-20T11:38:42.275Z"
   },
   {
    "duration": 13,
    "start_time": "2023-03-20T11:38:46.700Z"
   },
   {
    "duration": 202,
    "start_time": "2023-03-20T11:38:54.368Z"
   },
   {
    "duration": 506,
    "start_time": "2023-03-20T11:38:58.339Z"
   },
   {
    "duration": 8,
    "start_time": "2023-03-20T11:39:05.516Z"
   },
   {
    "duration": 4,
    "start_time": "2023-03-20T11:39:22.359Z"
   },
   {
    "duration": 6626,
    "start_time": "2023-03-20T11:42:46.458Z"
   },
   {
    "duration": 6,
    "start_time": "2023-03-20T11:44:42.034Z"
   },
   {
    "duration": 766,
    "start_time": "2023-03-20T11:44:42.042Z"
   },
   {
    "duration": 25,
    "start_time": "2023-03-20T11:44:42.809Z"
   },
   {
    "duration": 25,
    "start_time": "2023-03-20T11:44:42.836Z"
   },
   {
    "duration": 207,
    "start_time": "2023-03-20T11:44:42.863Z"
   },
   {
    "duration": 105,
    "start_time": "2023-03-20T11:44:43.071Z"
   },
   {
    "duration": 7,
    "start_time": "2023-03-20T11:44:43.177Z"
   },
   {
    "duration": 4,
    "start_time": "2023-03-20T11:44:47.771Z"
   },
   {
    "duration": 5380,
    "start_time": "2023-03-20T11:44:53.070Z"
   },
   {
    "duration": 5,
    "start_time": "2023-03-20T11:51:53.816Z"
   },
   {
    "duration": 725,
    "start_time": "2023-03-20T11:51:57.609Z"
   },
   {
    "duration": 28,
    "start_time": "2023-03-20T11:51:59.815Z"
   },
   {
    "duration": 14,
    "start_time": "2023-03-20T11:52:03.072Z"
   },
   {
    "duration": 225,
    "start_time": "2023-03-20T11:52:04.202Z"
   },
   {
    "duration": 120,
    "start_time": "2023-03-20T11:52:05.494Z"
   },
   {
    "duration": 8,
    "start_time": "2023-03-20T11:52:10.972Z"
   },
   {
    "duration": 7,
    "start_time": "2023-03-20T11:55:51.314Z"
   },
   {
    "duration": 395,
    "start_time": "2023-03-20T11:56:17.614Z"
   },
   {
    "duration": 6,
    "start_time": "2023-03-20T11:57:19.876Z"
   },
   {
    "duration": 357,
    "start_time": "2023-03-20T11:57:24.974Z"
   },
   {
    "duration": 451,
    "start_time": "2023-03-20T12:03:10.413Z"
   },
   {
    "duration": 4,
    "start_time": "2023-03-20T12:03:19.714Z"
   },
   {
    "duration": 262136,
    "start_time": "2023-03-20T12:03:23.367Z"
   },
   {
    "duration": 10,
    "start_time": "2023-03-20T12:08:32.034Z"
   },
   {
    "duration": 745,
    "start_time": "2023-03-20T12:08:32.046Z"
   },
   {
    "duration": 23,
    "start_time": "2023-03-20T12:08:32.792Z"
   },
   {
    "duration": 28,
    "start_time": "2023-03-20T12:08:32.817Z"
   },
   {
    "duration": 219,
    "start_time": "2023-03-20T12:08:32.847Z"
   },
   {
    "duration": 104,
    "start_time": "2023-03-20T12:08:33.067Z"
   },
   {
    "duration": 7,
    "start_time": "2023-03-20T12:08:33.173Z"
   },
   {
    "duration": 5,
    "start_time": "2023-03-20T12:08:40.901Z"
   },
   {
    "duration": 134942,
    "start_time": "2023-03-20T12:08:47.900Z"
   },
   {
    "duration": 7,
    "start_time": "2023-03-20T12:12:49.475Z"
   },
   {
    "duration": 738,
    "start_time": "2023-03-20T12:12:49.485Z"
   },
   {
    "duration": 24,
    "start_time": "2023-03-20T12:12:50.224Z"
   },
   {
    "duration": 19,
    "start_time": "2023-03-20T12:12:50.249Z"
   },
   {
    "duration": 210,
    "start_time": "2023-03-20T12:12:50.269Z"
   },
   {
    "duration": 103,
    "start_time": "2023-03-20T12:12:50.480Z"
   },
   {
    "duration": 7,
    "start_time": "2023-03-20T12:12:50.584Z"
   },
   {
    "duration": 4,
    "start_time": "2023-03-20T12:12:58.775Z"
   },
   {
    "duration": 5486,
    "start_time": "2023-03-20T12:13:21.294Z"
   },
   {
    "duration": 1166,
    "start_time": "2023-03-20T12:17:22.615Z"
   },
   {
    "duration": 6,
    "start_time": "2023-03-20T12:17:36.160Z"
   },
   {
    "duration": 710,
    "start_time": "2023-03-20T12:17:36.178Z"
   },
   {
    "duration": 25,
    "start_time": "2023-03-20T12:17:36.889Z"
   },
   {
    "duration": 14,
    "start_time": "2023-03-20T12:17:36.917Z"
   },
   {
    "duration": 227,
    "start_time": "2023-03-20T12:17:36.933Z"
   },
   {
    "duration": 110,
    "start_time": "2023-03-20T12:17:37.161Z"
   },
   {
    "duration": 8,
    "start_time": "2023-03-20T12:17:37.272Z"
   },
   {
    "duration": 9,
    "start_time": "2023-03-20T12:17:37.281Z"
   },
   {
    "duration": 5402,
    "start_time": "2023-03-20T12:17:45.326Z"
   },
   {
    "duration": 61,
    "start_time": "2023-03-20T12:18:09.125Z"
   },
   {
    "duration": 4,
    "start_time": "2023-03-20T12:18:11.075Z"
   },
   {
    "duration": 6299,
    "start_time": "2023-03-20T12:20:52.551Z"
   },
   {
    "duration": 5,
    "start_time": "2023-03-20T12:22:44.504Z"
   },
   {
    "duration": 3396,
    "start_time": "2023-03-20T12:22:48.659Z"
   },
   {
    "duration": 4,
    "start_time": "2023-03-20T12:22:55.759Z"
   },
   {
    "duration": 84,
    "start_time": "2023-03-20T12:22:57.816Z"
   },
   {
    "duration": 6,
    "start_time": "2023-03-20T12:23:02.920Z"
   },
   {
    "duration": 501048,
    "start_time": "2023-03-20T12:39:35.126Z"
   },
   {
    "duration": 185,
    "start_time": "2023-03-20T12:50:27.442Z"
   },
   {
    "duration": 743,
    "start_time": "2023-03-20T12:50:27.629Z"
   },
   {
    "duration": 24,
    "start_time": "2023-03-20T12:50:28.373Z"
   },
   {
    "duration": 13,
    "start_time": "2023-03-20T12:50:28.399Z"
   },
   {
    "duration": 219,
    "start_time": "2023-03-20T12:50:28.414Z"
   },
   {
    "duration": 107,
    "start_time": "2023-03-20T12:50:28.635Z"
   },
   {
    "duration": 14,
    "start_time": "2023-03-20T12:50:28.744Z"
   },
   {
    "duration": 6,
    "start_time": "2023-03-20T12:50:28.759Z"
   },
   {
    "duration": 5532,
    "start_time": "2023-03-20T12:50:28.766Z"
   },
   {
    "duration": 39,
    "start_time": "2023-03-20T12:50:34.300Z"
   },
   {
    "duration": 16,
    "start_time": "2023-03-20T12:50:34.341Z"
   },
   {
    "duration": 6168,
    "start_time": "2023-03-20T12:50:34.358Z"
   },
   {
    "duration": 4,
    "start_time": "2023-03-20T12:50:40.527Z"
   },
   {
    "duration": 7,
    "start_time": "2023-03-20T12:50:40.533Z"
   },
   {
    "duration": 16,
    "start_time": "2023-03-20T12:50:40.541Z"
   },
   {
    "duration": 3,
    "start_time": "2023-03-20T12:50:40.559Z"
   },
   {
    "duration": 16,
    "start_time": "2023-03-20T12:50:40.564Z"
   },
   {
    "duration": 761821,
    "start_time": "2023-03-20T12:51:02.938Z"
   },
   {
    "duration": 724059,
    "start_time": "2023-03-20T13:10:32.706Z"
   },
   {
    "duration": 2094831,
    "start_time": "2023-03-20T13:28:36.988Z"
   },
   {
    "duration": 1505903,
    "start_time": "2023-03-20T14:06:07.357Z"
   },
   {
    "duration": 45800,
    "start_time": "2023-03-20T14:32:06.775Z"
   },
   {
    "duration": 47859,
    "start_time": "2023-03-20T14:33:06.121Z"
   },
   {
    "duration": 2008,
    "start_time": "2023-03-21T09:56:30.035Z"
   },
   {
    "duration": 3995,
    "start_time": "2023-03-21T09:56:38.035Z"
   },
   {
    "duration": 34,
    "start_time": "2023-03-21T09:56:45.232Z"
   },
   {
    "duration": 20,
    "start_time": "2023-03-21T09:56:48.718Z"
   },
   {
    "duration": 262,
    "start_time": "2023-03-21T09:56:50.480Z"
   },
   {
    "duration": 720,
    "start_time": "2023-03-21T09:56:52.644Z"
   },
   {
    "duration": 9,
    "start_time": "2023-03-21T09:56:58.440Z"
   },
   {
    "duration": 7,
    "start_time": "2023-03-21T09:58:17.995Z"
   },
   {
    "duration": 1428771,
    "start_time": "2023-03-21T09:58:44.004Z"
   },
   {
    "duration": 49,
    "start_time": "2023-03-21T10:27:32.914Z"
   },
   {
    "duration": 3,
    "start_time": "2023-03-21T10:27:40.011Z"
   },
   {
    "duration": 5908,
    "start_time": "2023-03-21T10:27:41.852Z"
   },
   {
    "duration": 4,
    "start_time": "2023-03-21T10:28:07.077Z"
   },
   {
    "duration": 6,
    "start_time": "2023-03-21T10:28:11.082Z"
   },
   {
    "duration": 5,
    "start_time": "2023-03-21T10:28:12.287Z"
   },
   {
    "duration": 4,
    "start_time": "2023-03-21T10:28:13.655Z"
   },
   {
    "duration": 4,
    "start_time": "2023-03-21T10:28:18.193Z"
   },
   {
    "duration": 883481,
    "start_time": "2023-03-21T10:28:31.281Z"
   },
   {
    "duration": 404,
    "start_time": "2023-03-21T10:58:49.955Z"
   },
   {
    "duration": 850,
    "start_time": "2023-03-21T10:58:50.361Z"
   },
   {
    "duration": 34,
    "start_time": "2023-03-21T10:58:51.213Z"
   },
   {
    "duration": 16,
    "start_time": "2023-03-21T10:58:51.261Z"
   },
   {
    "duration": 252,
    "start_time": "2023-03-21T10:58:51.279Z"
   },
   {
    "duration": 139,
    "start_time": "2023-03-21T10:58:51.533Z"
   },
   {
    "duration": 8,
    "start_time": "2023-03-21T10:58:51.674Z"
   },
   {
    "duration": 8,
    "start_time": "2023-03-21T10:59:14.881Z"
   },
   {
    "duration": 458,
    "start_time": "2023-03-21T10:59:26.103Z"
   },
   {
    "duration": 7,
    "start_time": "2023-03-21T11:00:16.009Z"
   },
   {
    "duration": 331,
    "start_time": "2023-03-21T11:00:22.838Z"
   },
   {
    "duration": 10,
    "start_time": "2023-03-21T11:08:53.517Z"
   },
   {
    "duration": 810,
    "start_time": "2023-03-21T11:08:53.529Z"
   },
   {
    "duration": 40,
    "start_time": "2023-03-21T11:08:54.341Z"
   },
   {
    "duration": 16,
    "start_time": "2023-03-21T11:08:54.383Z"
   },
   {
    "duration": 230,
    "start_time": "2023-03-21T11:08:54.400Z"
   },
   {
    "duration": 133,
    "start_time": "2023-03-21T11:08:54.632Z"
   },
   {
    "duration": 8,
    "start_time": "2023-03-21T11:08:54.767Z"
   },
   {
    "duration": 7,
    "start_time": "2023-03-21T11:09:18.320Z"
   },
   {
    "duration": 335,
    "start_time": "2023-03-21T11:10:25.256Z"
   },
   {
    "duration": 9,
    "start_time": "2023-03-21T11:11:52.421Z"
   },
   {
    "duration": 894,
    "start_time": "2023-03-21T11:11:52.432Z"
   },
   {
    "duration": 44,
    "start_time": "2023-03-21T11:11:53.328Z"
   },
   {
    "duration": 18,
    "start_time": "2023-03-21T11:11:53.374Z"
   },
   {
    "duration": 246,
    "start_time": "2023-03-21T11:11:53.394Z"
   },
   {
    "duration": 131,
    "start_time": "2023-03-21T11:11:53.642Z"
   },
   {
    "duration": 11,
    "start_time": "2023-03-21T11:11:53.775Z"
   },
   {
    "duration": 3,
    "start_time": "2023-03-21T11:11:57.234Z"
   },
   {
    "duration": 4204,
    "start_time": "2023-03-21T11:13:17.216Z"
   },
   {
    "duration": 8,
    "start_time": "2023-03-21T11:14:38.854Z"
   },
   {
    "duration": 1318988,
    "start_time": "2023-03-21T11:15:11.684Z"
   },
   {
    "duration": 69,
    "start_time": "2023-03-21T11:37:57.235Z"
   },
   {
    "duration": 4,
    "start_time": "2023-03-21T11:37:58.453Z"
   },
   {
    "duration": 7186,
    "start_time": "2023-03-21T11:38:02.058Z"
   },
   {
    "duration": 5,
    "start_time": "2023-03-21T11:38:24.024Z"
   },
   {
    "duration": 7,
    "start_time": "2023-03-21T11:38:27.433Z"
   },
   {
    "duration": 5,
    "start_time": "2023-03-21T11:38:28.135Z"
   },
   {
    "duration": 4,
    "start_time": "2023-03-21T11:38:28.837Z"
   },
   {
    "duration": 5,
    "start_time": "2023-03-21T11:38:30.350Z"
   },
   {
    "duration": 759639,
    "start_time": "2023-03-21T11:38:45.763Z"
   },
   {
    "duration": 2215903,
    "start_time": "2023-03-21T11:54:55.992Z"
   },
   {
    "duration": 426,
    "start_time": "2023-03-21T13:09:24.490Z"
   },
   {
    "duration": 3289,
    "start_time": "2023-03-21T13:09:24.919Z"
   },
   {
    "duration": 32,
    "start_time": "2023-03-21T13:09:28.210Z"
   },
   {
    "duration": 20,
    "start_time": "2023-03-21T13:09:28.244Z"
   },
   {
    "duration": 240,
    "start_time": "2023-03-21T13:09:28.266Z"
   },
   {
    "duration": 136,
    "start_time": "2023-03-21T13:09:28.508Z"
   },
   {
    "duration": 20,
    "start_time": "2023-03-21T13:09:28.646Z"
   },
   {
    "duration": 3,
    "start_time": "2023-03-21T13:09:28.668Z"
   },
   {
    "duration": 4155,
    "start_time": "2023-03-21T13:09:28.673Z"
   },
   {
    "duration": 8,
    "start_time": "2023-03-21T13:09:32.830Z"
   },
   {
    "duration": 10,
    "start_time": "2023-03-21T13:19:03.477Z"
   },
   {
    "duration": 902,
    "start_time": "2023-03-21T13:19:03.490Z"
   },
   {
    "duration": 38,
    "start_time": "2023-03-21T13:19:04.394Z"
   },
   {
    "duration": 31,
    "start_time": "2023-03-21T13:19:04.434Z"
   },
   {
    "duration": 232,
    "start_time": "2023-03-21T13:19:04.467Z"
   },
   {
    "duration": 126,
    "start_time": "2023-03-21T13:19:04.701Z"
   },
   {
    "duration": 8,
    "start_time": "2023-03-21T13:19:04.829Z"
   },
   {
    "duration": 4,
    "start_time": "2023-03-21T13:19:04.839Z"
   },
   {
    "duration": 3930,
    "start_time": "2023-03-21T13:19:04.863Z"
   },
   {
    "duration": 7,
    "start_time": "2023-03-21T13:19:08.796Z"
   },
   {
    "duration": 1406949,
    "start_time": "2023-03-21T13:19:08.805Z"
   },
   {
    "duration": 87,
    "start_time": "2023-03-21T13:42:35.756Z"
   },
   {
    "duration": 5,
    "start_time": "2023-03-21T13:42:35.845Z"
   },
   {
    "duration": 9989,
    "start_time": "2023-03-21T13:42:35.856Z"
   },
   {
    "duration": 6,
    "start_time": "2023-03-21T13:42:45.849Z"
   },
   {
    "duration": 19,
    "start_time": "2023-03-21T13:42:45.857Z"
   },
   {
    "duration": 7,
    "start_time": "2023-03-21T13:42:45.880Z"
   },
   {
    "duration": 14,
    "start_time": "2023-03-21T13:42:45.902Z"
   },
   {
    "duration": 5,
    "start_time": "2023-03-21T13:42:45.918Z"
   },
   {
    "duration": 739117,
    "start_time": "2023-03-21T13:43:35.995Z"
   },
   {
    "duration": 19791,
    "start_time": "2023-03-21T13:56:40.232Z"
   },
   {
    "duration": 9,
    "start_time": "2023-03-21T13:59:07.087Z"
   },
   {
    "duration": 4,
    "start_time": "2023-03-21T14:02:23.440Z"
   },
   {
    "duration": 16,
    "start_time": "2023-03-21T14:04:41.043Z"
   },
   {
    "duration": 4,
    "start_time": "2023-03-21T14:06:25.606Z"
   },
   {
    "duration": 50,
    "start_time": "2023-03-21T14:06:40.029Z"
   },
   {
    "duration": 52,
    "start_time": "2023-03-21T14:07:51.140Z"
   },
   {
    "duration": 37,
    "start_time": "2023-03-21T14:08:39.771Z"
   },
   {
    "duration": 680,
    "start_time": "2023-03-21T14:13:09.202Z"
   },
   {
    "duration": 4,
    "start_time": "2023-03-21T14:15:35.790Z"
   },
   {
    "duration": 715,
    "start_time": "2023-03-21T14:15:43.399Z"
   },
   {
    "duration": 299,
    "start_time": "2023-03-21T14:18:39.238Z"
   },
   {
    "duration": 763,
    "start_time": "2023-03-21T14:18:39.539Z"
   },
   {
    "duration": 36,
    "start_time": "2023-03-21T14:18:40.304Z"
   },
   {
    "duration": 33,
    "start_time": "2023-03-21T14:18:40.342Z"
   },
   {
    "duration": 228,
    "start_time": "2023-03-21T14:18:40.379Z"
   },
   {
    "duration": 123,
    "start_time": "2023-03-21T14:18:40.609Z"
   },
   {
    "duration": 9,
    "start_time": "2023-03-21T14:18:40.734Z"
   },
   {
    "duration": 21,
    "start_time": "2023-03-21T14:18:40.745Z"
   },
   {
    "duration": 4025,
    "start_time": "2023-03-21T14:18:40.771Z"
   },
   {
    "duration": 7,
    "start_time": "2023-03-21T14:18:44.798Z"
   },
   {
    "duration": 1327586,
    "start_time": "2023-03-21T14:18:44.807Z"
   },
   {
    "duration": 80,
    "start_time": "2023-03-21T14:40:52.397Z"
   },
   {
    "duration": 11,
    "start_time": "2023-03-21T14:40:52.479Z"
   },
   {
    "duration": 7901,
    "start_time": "2023-03-21T14:40:52.501Z"
   },
   {
    "duration": 6,
    "start_time": "2023-03-21T14:41:00.404Z"
   },
   {
    "duration": 60,
    "start_time": "2023-03-21T14:41:00.412Z"
   },
   {
    "duration": 25,
    "start_time": "2023-03-21T14:41:00.476Z"
   },
   {
    "duration": 27,
    "start_time": "2023-03-21T14:41:00.503Z"
   },
   {
    "duration": 5,
    "start_time": "2023-03-21T14:41:41.823Z"
   },
   {
    "duration": 4,
    "start_time": "2023-03-21T14:41:51.992Z"
   },
   {
    "duration": 854,
    "start_time": "2023-03-21T14:42:20.851Z"
   },
   {
    "duration": 921,
    "start_time": "2023-03-21T14:44:52.049Z"
   },
   {
    "duration": 4,
    "start_time": "2023-03-21T14:46:48.154Z"
   },
   {
    "duration": 687,
    "start_time": "2023-03-21T14:46:55.957Z"
   },
   {
    "duration": 2176,
    "start_time": "2023-03-22T11:01:10.399Z"
   },
   {
    "duration": 1603,
    "start_time": "2023-03-22T11:01:12.577Z"
   },
   {
    "duration": 37,
    "start_time": "2023-03-22T11:01:14.182Z"
   },
   {
    "duration": 15,
    "start_time": "2023-03-22T11:01:14.220Z"
   },
   {
    "duration": 267,
    "start_time": "2023-03-22T11:01:14.237Z"
   },
   {
    "duration": 662,
    "start_time": "2023-03-22T11:01:14.506Z"
   },
   {
    "duration": 8,
    "start_time": "2023-03-22T11:01:15.170Z"
   },
   {
    "duration": 4,
    "start_time": "2023-03-22T11:01:15.180Z"
   },
   {
    "duration": 4685,
    "start_time": "2023-03-22T11:01:15.186Z"
   },
   {
    "duration": 10,
    "start_time": "2023-03-22T11:01:19.874Z"
   },
   {
    "duration": 1261740,
    "start_time": "2023-03-22T11:01:30.312Z"
   },
   {
    "duration": 45,
    "start_time": "2023-03-22T11:24:05.794Z"
   },
   {
    "duration": 4,
    "start_time": "2023-03-22T11:24:07.446Z"
   },
   {
    "duration": 3,
    "start_time": "2023-03-22T11:24:09.731Z"
   },
   {
    "duration": 7369,
    "start_time": "2023-03-22T11:24:11.895Z"
   },
   {
    "duration": 6,
    "start_time": "2023-03-22T11:24:27.960Z"
   },
   {
    "duration": 4,
    "start_time": "2023-03-22T11:24:35.986Z"
   },
   {
    "duration": 4,
    "start_time": "2023-03-22T11:24:37.611Z"
   },
   {
    "duration": 4,
    "start_time": "2023-03-22T11:24:38.636Z"
   },
   {
    "duration": 3,
    "start_time": "2023-03-22T11:24:42.407Z"
   },
   {
    "duration": 646,
    "start_time": "2023-03-22T11:25:00.943Z"
   },
   {
    "duration": 1710286,
    "start_time": "2023-03-22T11:29:16.481Z"
   },
   {
    "duration": 18832,
    "start_time": "2023-03-22T12:04:15.153Z"
   },
   {
    "duration": 371,
    "start_time": "2023-03-22T12:07:56.332Z"
   },
   {
    "duration": 959,
    "start_time": "2023-03-22T12:07:56.705Z"
   },
   {
    "duration": 40,
    "start_time": "2023-03-22T12:07:57.665Z"
   },
   {
    "duration": 36,
    "start_time": "2023-03-22T12:07:57.710Z"
   },
   {
    "duration": 277,
    "start_time": "2023-03-22T12:07:57.748Z"
   },
   {
    "duration": 120,
    "start_time": "2023-03-22T12:07:58.027Z"
   },
   {
    "duration": 20,
    "start_time": "2023-03-22T12:07:58.149Z"
   },
   {
    "duration": 39,
    "start_time": "2023-03-22T12:07:58.171Z"
   },
   {
    "duration": 4483,
    "start_time": "2023-03-22T12:07:58.211Z"
   },
   {
    "duration": 6,
    "start_time": "2023-03-22T12:08:02.695Z"
   },
   {
    "duration": 1325002,
    "start_time": "2023-03-22T12:08:02.703Z"
   },
   {
    "duration": 66,
    "start_time": "2023-03-22T12:30:07.707Z"
   },
   {
    "duration": 4,
    "start_time": "2023-03-22T12:30:07.778Z"
   },
   {
    "duration": 3,
    "start_time": "2023-03-22T12:33:17.306Z"
   },
   {
    "duration": 1183,
    "start_time": "2023-03-22T12:33:29.395Z"
   },
   {
    "duration": 7,
    "start_time": "2023-03-22T12:36:43.627Z"
   },
   {
    "duration": 2,
    "start_time": "2023-03-22T12:36:55.897Z"
   },
   {
    "duration": 1287,
    "start_time": "2023-03-22T12:37:02.335Z"
   },
   {
    "duration": 3,
    "start_time": "2023-03-22T12:39:54.379Z"
   },
   {
    "duration": 1018,
    "start_time": "2023-03-22T12:40:00.735Z"
   },
   {
    "duration": 3,
    "start_time": "2023-03-22T12:43:18.441Z"
   },
   {
    "duration": 7441,
    "start_time": "2023-03-22T12:43:51.943Z"
   },
   {
    "duration": 26,
    "start_time": "2023-03-22T12:44:20.783Z"
   },
   {
    "duration": 10,
    "start_time": "2023-03-22T12:44:44.389Z"
   },
   {
    "duration": 910,
    "start_time": "2023-03-22T12:44:44.401Z"
   },
   {
    "duration": 32,
    "start_time": "2023-03-22T12:44:45.313Z"
   },
   {
    "duration": 16,
    "start_time": "2023-03-22T12:44:45.358Z"
   },
   {
    "duration": 246,
    "start_time": "2023-03-22T12:44:45.378Z"
   },
   {
    "duration": 125,
    "start_time": "2023-03-22T12:44:45.626Z"
   },
   {
    "duration": 10,
    "start_time": "2023-03-22T12:44:45.753Z"
   },
   {
    "duration": 4,
    "start_time": "2023-03-22T12:44:45.765Z"
   },
   {
    "duration": 4645,
    "start_time": "2023-03-22T12:44:45.770Z"
   },
   {
    "duration": 6,
    "start_time": "2023-03-22T12:44:50.417Z"
   },
   {
    "duration": 1199433,
    "start_time": "2023-03-22T12:44:50.425Z"
   },
   {
    "duration": 47,
    "start_time": "2023-03-22T13:04:49.860Z"
   },
   {
    "duration": 4,
    "start_time": "2023-03-22T13:04:49.908Z"
   },
   {
    "duration": 8,
    "start_time": "2023-03-22T13:04:49.915Z"
   },
   {
    "duration": 3,
    "start_time": "2023-03-22T13:06:33.607Z"
   },
   {
    "duration": 6863,
    "start_time": "2023-03-22T13:06:49.886Z"
   },
   {
    "duration": 928,
    "start_time": "2023-03-22T13:07:08.648Z"
   },
   {
    "duration": 185,
    "start_time": "2023-03-22T13:08:28.128Z"
   },
   {
    "duration": 2913,
    "start_time": "2023-03-22T13:09:25.730Z"
   },
   {
    "duration": 1019,
    "start_time": "2023-03-22T13:09:34.217Z"
   },
   {
    "duration": 35,
    "start_time": "2023-03-22T13:09:37.173Z"
   },
   {
    "duration": 21,
    "start_time": "2023-03-22T13:09:40.694Z"
   },
   {
    "duration": 236,
    "start_time": "2023-03-22T13:09:42.113Z"
   },
   {
    "duration": 401,
    "start_time": "2023-03-22T13:09:43.448Z"
   },
   {
    "duration": 9,
    "start_time": "2023-03-22T13:09:47.015Z"
   },
   {
    "duration": 4,
    "start_time": "2023-03-22T13:09:49.015Z"
   },
   {
    "duration": 4479,
    "start_time": "2023-03-22T13:09:50.324Z"
   },
   {
    "duration": 8,
    "start_time": "2023-03-22T13:09:58.347Z"
   },
   {
    "duration": 1244589,
    "start_time": "2023-03-22T13:10:13.372Z"
   },
   {
    "duration": 50,
    "start_time": "2023-03-22T13:35:30.426Z"
   },
   {
    "duration": 4,
    "start_time": "2023-03-22T13:35:31.619Z"
   },
   {
    "duration": 3,
    "start_time": "2023-03-22T13:35:33.218Z"
   },
   {
    "duration": 7536,
    "start_time": "2023-03-22T13:35:40.078Z"
   },
   {
    "duration": 5,
    "start_time": "2023-03-22T13:35:54.097Z"
   },
   {
    "duration": 5,
    "start_time": "2023-03-22T13:35:54.853Z"
   },
   {
    "duration": 5,
    "start_time": "2023-03-22T13:35:55.617Z"
   },
   {
    "duration": 5,
    "start_time": "2023-03-22T13:35:58.490Z"
   },
   {
    "duration": 6,
    "start_time": "2023-03-22T13:35:59.956Z"
   },
   {
    "duration": 1800566,
    "start_time": "2023-03-22T13:36:17.729Z"
   },
   {
    "duration": 1490170,
    "start_time": "2023-03-22T14:07:56.825Z"
   },
   {
    "duration": 343,
    "start_time": "2023-03-22T14:46:41.495Z"
   },
   {
    "duration": 21498,
    "start_time": "2023-03-22T14:50:06.090Z"
   },
   {
    "duration": 16502,
    "start_time": "2023-03-23T06:01:33.261Z"
   },
   {
    "duration": 1552,
    "start_time": "2023-03-23T06:01:49.766Z"
   },
   {
    "duration": 956,
    "start_time": "2023-03-23T06:01:59.235Z"
   },
   {
    "duration": 5,
    "start_time": "2023-03-23T06:03:24.273Z"
   },
   {
    "duration": 5,
    "start_time": "2023-03-23T06:03:49.334Z"
   },
   {
    "duration": 135,
    "start_time": "2023-03-23T06:03:57.024Z"
   },
   {
    "duration": 17,
    "start_time": "2023-03-23T06:04:07.472Z"
   },
   {
    "duration": 21,
    "start_time": "2023-03-23T06:04:12.786Z"
   }
  ],
  "kernelspec": {
   "display_name": "Python 3 (ipykernel)",
   "language": "python",
   "name": "python3"
  },
  "language_info": {
   "codemirror_mode": {
    "name": "ipython",
    "version": 3
   },
   "file_extension": ".py",
   "mimetype": "text/x-python",
   "name": "python",
   "nbconvert_exporter": "python",
   "pygments_lexer": "ipython3",
   "version": "3.9.5"
  },
  "toc": {
   "base_numbering": 1,
   "nav_menu": {},
   "number_sections": true,
   "sideBar": true,
   "skip_h1_title": true,
   "title_cell": "Содержание",
   "title_sidebar": "Contents",
   "toc_cell": true,
   "toc_position": {
    "height": "calc(100% - 180px)",
    "left": "10px",
    "top": "150px",
    "width": "302.391px"
   },
   "toc_section_display": true,
   "toc_window_display": false
  }
 },
 "nbformat": 4,
 "nbformat_minor": 2
}
