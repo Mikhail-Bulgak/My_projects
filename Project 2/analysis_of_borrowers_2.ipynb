{
 "cells": [
  {
   "cell_type": "markdown",
   "id": "161855c2",
   "metadata": {
    "deletable": false,
    "editable": false,
    "id": "c81daeeb"
   },
   "source": [
    "# Исследование надежности заемщиков\n"
   ]
  },
  {
   "cell_type": "code",
   "execution_count": 2,
   "id": "215b7976",
   "metadata": {
    "deletable": false,
    "id": "7bcf75c9"
   },
   "outputs": [],
   "source": [
    "import pandas as pd\n",
    "\n",
    "try:\n",
    "    data = pd.read_csv('/datasets/data.csv')\n",
    "except:\n",
    "    data = pd.read_csv('https://code.s3.yandex.net/datasets/data.csv')"
   ]
  },
  {
   "cell_type": "code",
   "execution_count": 3,
   "id": "0b659b4d",
   "metadata": {
    "deletable": false,
    "id": "2a7cab99",
    "outputId": "1a8f3ef2-d323-4ec2-ddf7-89670b5944c4"
   },
   "outputs": [
    {
     "data": {
      "text/html": [
       "<div>\n",
       "<style scoped>\n",
       "    .dataframe tbody tr th:only-of-type {\n",
       "        vertical-align: middle;\n",
       "    }\n",
       "\n",
       "    .dataframe tbody tr th {\n",
       "        vertical-align: top;\n",
       "    }\n",
       "\n",
       "    .dataframe thead th {\n",
       "        text-align: right;\n",
       "    }\n",
       "</style>\n",
       "<table border=\"1\" class=\"dataframe\">\n",
       "  <thead>\n",
       "    <tr style=\"text-align: right;\">\n",
       "      <th></th>\n",
       "      <th>children</th>\n",
       "      <th>days_employed</th>\n",
       "      <th>dob_years</th>\n",
       "      <th>education</th>\n",
       "      <th>education_id</th>\n",
       "      <th>family_status</th>\n",
       "      <th>family_status_id</th>\n",
       "      <th>gender</th>\n",
       "      <th>income_type</th>\n",
       "      <th>debt</th>\n",
       "      <th>total_income</th>\n",
       "      <th>purpose</th>\n",
       "    </tr>\n",
       "  </thead>\n",
       "  <tbody>\n",
       "    <tr>\n",
       "      <th>0</th>\n",
       "      <td>1</td>\n",
       "      <td>-8437.673028</td>\n",
       "      <td>42</td>\n",
       "      <td>высшее</td>\n",
       "      <td>0</td>\n",
       "      <td>женат / замужем</td>\n",
       "      <td>0</td>\n",
       "      <td>F</td>\n",
       "      <td>сотрудник</td>\n",
       "      <td>0</td>\n",
       "      <td>253875.639453</td>\n",
       "      <td>покупка жилья</td>\n",
       "    </tr>\n",
       "    <tr>\n",
       "      <th>1</th>\n",
       "      <td>1</td>\n",
       "      <td>-4024.803754</td>\n",
       "      <td>36</td>\n",
       "      <td>среднее</td>\n",
       "      <td>1</td>\n",
       "      <td>женат / замужем</td>\n",
       "      <td>0</td>\n",
       "      <td>F</td>\n",
       "      <td>сотрудник</td>\n",
       "      <td>0</td>\n",
       "      <td>112080.014102</td>\n",
       "      <td>приобретение автомобиля</td>\n",
       "    </tr>\n",
       "    <tr>\n",
       "      <th>2</th>\n",
       "      <td>0</td>\n",
       "      <td>-5623.422610</td>\n",
       "      <td>33</td>\n",
       "      <td>Среднее</td>\n",
       "      <td>1</td>\n",
       "      <td>женат / замужем</td>\n",
       "      <td>0</td>\n",
       "      <td>M</td>\n",
       "      <td>сотрудник</td>\n",
       "      <td>0</td>\n",
       "      <td>145885.952297</td>\n",
       "      <td>покупка жилья</td>\n",
       "    </tr>\n",
       "    <tr>\n",
       "      <th>3</th>\n",
       "      <td>3</td>\n",
       "      <td>-4124.747207</td>\n",
       "      <td>32</td>\n",
       "      <td>среднее</td>\n",
       "      <td>1</td>\n",
       "      <td>женат / замужем</td>\n",
       "      <td>0</td>\n",
       "      <td>M</td>\n",
       "      <td>сотрудник</td>\n",
       "      <td>0</td>\n",
       "      <td>267628.550329</td>\n",
       "      <td>дополнительное образование</td>\n",
       "    </tr>\n",
       "    <tr>\n",
       "      <th>4</th>\n",
       "      <td>0</td>\n",
       "      <td>340266.072047</td>\n",
       "      <td>53</td>\n",
       "      <td>среднее</td>\n",
       "      <td>1</td>\n",
       "      <td>гражданский брак</td>\n",
       "      <td>1</td>\n",
       "      <td>F</td>\n",
       "      <td>пенсионер</td>\n",
       "      <td>0</td>\n",
       "      <td>158616.077870</td>\n",
       "      <td>сыграть свадьбу</td>\n",
       "    </tr>\n",
       "    <tr>\n",
       "      <th>5</th>\n",
       "      <td>0</td>\n",
       "      <td>-926.185831</td>\n",
       "      <td>27</td>\n",
       "      <td>высшее</td>\n",
       "      <td>0</td>\n",
       "      <td>гражданский брак</td>\n",
       "      <td>1</td>\n",
       "      <td>M</td>\n",
       "      <td>компаньон</td>\n",
       "      <td>0</td>\n",
       "      <td>255763.565419</td>\n",
       "      <td>покупка жилья</td>\n",
       "    </tr>\n",
       "    <tr>\n",
       "      <th>6</th>\n",
       "      <td>0</td>\n",
       "      <td>-2879.202052</td>\n",
       "      <td>43</td>\n",
       "      <td>высшее</td>\n",
       "      <td>0</td>\n",
       "      <td>женат / замужем</td>\n",
       "      <td>0</td>\n",
       "      <td>F</td>\n",
       "      <td>компаньон</td>\n",
       "      <td>0</td>\n",
       "      <td>240525.971920</td>\n",
       "      <td>операции с жильем</td>\n",
       "    </tr>\n",
       "    <tr>\n",
       "      <th>7</th>\n",
       "      <td>0</td>\n",
       "      <td>-152.779569</td>\n",
       "      <td>50</td>\n",
       "      <td>СРЕДНЕЕ</td>\n",
       "      <td>1</td>\n",
       "      <td>женат / замужем</td>\n",
       "      <td>0</td>\n",
       "      <td>M</td>\n",
       "      <td>сотрудник</td>\n",
       "      <td>0</td>\n",
       "      <td>135823.934197</td>\n",
       "      <td>образование</td>\n",
       "    </tr>\n",
       "    <tr>\n",
       "      <th>8</th>\n",
       "      <td>2</td>\n",
       "      <td>-6929.865299</td>\n",
       "      <td>35</td>\n",
       "      <td>ВЫСШЕЕ</td>\n",
       "      <td>0</td>\n",
       "      <td>гражданский брак</td>\n",
       "      <td>1</td>\n",
       "      <td>F</td>\n",
       "      <td>сотрудник</td>\n",
       "      <td>0</td>\n",
       "      <td>95856.832424</td>\n",
       "      <td>на проведение свадьбы</td>\n",
       "    </tr>\n",
       "    <tr>\n",
       "      <th>9</th>\n",
       "      <td>0</td>\n",
       "      <td>-2188.756445</td>\n",
       "      <td>41</td>\n",
       "      <td>среднее</td>\n",
       "      <td>1</td>\n",
       "      <td>женат / замужем</td>\n",
       "      <td>0</td>\n",
       "      <td>M</td>\n",
       "      <td>сотрудник</td>\n",
       "      <td>0</td>\n",
       "      <td>144425.938277</td>\n",
       "      <td>покупка жилья для семьи</td>\n",
       "    </tr>\n",
       "    <tr>\n",
       "      <th>10</th>\n",
       "      <td>2</td>\n",
       "      <td>-4171.483647</td>\n",
       "      <td>36</td>\n",
       "      <td>высшее</td>\n",
       "      <td>0</td>\n",
       "      <td>женат / замужем</td>\n",
       "      <td>0</td>\n",
       "      <td>M</td>\n",
       "      <td>компаньон</td>\n",
       "      <td>0</td>\n",
       "      <td>113943.491460</td>\n",
       "      <td>покупка недвижимости</td>\n",
       "    </tr>\n",
       "    <tr>\n",
       "      <th>11</th>\n",
       "      <td>0</td>\n",
       "      <td>-792.701887</td>\n",
       "      <td>40</td>\n",
       "      <td>среднее</td>\n",
       "      <td>1</td>\n",
       "      <td>женат / замужем</td>\n",
       "      <td>0</td>\n",
       "      <td>F</td>\n",
       "      <td>сотрудник</td>\n",
       "      <td>0</td>\n",
       "      <td>77069.234271</td>\n",
       "      <td>покупка коммерческой недвижимости</td>\n",
       "    </tr>\n",
       "    <tr>\n",
       "      <th>12</th>\n",
       "      <td>0</td>\n",
       "      <td>NaN</td>\n",
       "      <td>65</td>\n",
       "      <td>среднее</td>\n",
       "      <td>1</td>\n",
       "      <td>гражданский брак</td>\n",
       "      <td>1</td>\n",
       "      <td>M</td>\n",
       "      <td>пенсионер</td>\n",
       "      <td>0</td>\n",
       "      <td>NaN</td>\n",
       "      <td>сыграть свадьбу</td>\n",
       "    </tr>\n",
       "    <tr>\n",
       "      <th>13</th>\n",
       "      <td>0</td>\n",
       "      <td>-1846.641941</td>\n",
       "      <td>54</td>\n",
       "      <td>неоконченное высшее</td>\n",
       "      <td>2</td>\n",
       "      <td>женат / замужем</td>\n",
       "      <td>0</td>\n",
       "      <td>F</td>\n",
       "      <td>сотрудник</td>\n",
       "      <td>0</td>\n",
       "      <td>130458.228857</td>\n",
       "      <td>приобретение автомобиля</td>\n",
       "    </tr>\n",
       "    <tr>\n",
       "      <th>14</th>\n",
       "      <td>0</td>\n",
       "      <td>-1844.956182</td>\n",
       "      <td>56</td>\n",
       "      <td>высшее</td>\n",
       "      <td>0</td>\n",
       "      <td>гражданский брак</td>\n",
       "      <td>1</td>\n",
       "      <td>F</td>\n",
       "      <td>компаньон</td>\n",
       "      <td>1</td>\n",
       "      <td>165127.911772</td>\n",
       "      <td>покупка жилой недвижимости</td>\n",
       "    </tr>\n",
       "    <tr>\n",
       "      <th>15</th>\n",
       "      <td>1</td>\n",
       "      <td>-972.364419</td>\n",
       "      <td>26</td>\n",
       "      <td>среднее</td>\n",
       "      <td>1</td>\n",
       "      <td>женат / замужем</td>\n",
       "      <td>0</td>\n",
       "      <td>F</td>\n",
       "      <td>сотрудник</td>\n",
       "      <td>0</td>\n",
       "      <td>116820.904450</td>\n",
       "      <td>строительство собственной недвижимости</td>\n",
       "    </tr>\n",
       "    <tr>\n",
       "      <th>16</th>\n",
       "      <td>0</td>\n",
       "      <td>-1719.934226</td>\n",
       "      <td>35</td>\n",
       "      <td>среднее</td>\n",
       "      <td>1</td>\n",
       "      <td>женат / замужем</td>\n",
       "      <td>0</td>\n",
       "      <td>F</td>\n",
       "      <td>сотрудник</td>\n",
       "      <td>0</td>\n",
       "      <td>289202.704229</td>\n",
       "      <td>недвижимость</td>\n",
       "    </tr>\n",
       "    <tr>\n",
       "      <th>17</th>\n",
       "      <td>0</td>\n",
       "      <td>-2369.999720</td>\n",
       "      <td>33</td>\n",
       "      <td>высшее</td>\n",
       "      <td>0</td>\n",
       "      <td>гражданский брак</td>\n",
       "      <td>1</td>\n",
       "      <td>M</td>\n",
       "      <td>сотрудник</td>\n",
       "      <td>0</td>\n",
       "      <td>90410.586745</td>\n",
       "      <td>строительство недвижимости</td>\n",
       "    </tr>\n",
       "    <tr>\n",
       "      <th>18</th>\n",
       "      <td>0</td>\n",
       "      <td>400281.136913</td>\n",
       "      <td>53</td>\n",
       "      <td>среднее</td>\n",
       "      <td>1</td>\n",
       "      <td>вдовец / вдова</td>\n",
       "      <td>2</td>\n",
       "      <td>F</td>\n",
       "      <td>пенсионер</td>\n",
       "      <td>0</td>\n",
       "      <td>56823.777243</td>\n",
       "      <td>на покупку подержанного автомобиля</td>\n",
       "    </tr>\n",
       "    <tr>\n",
       "      <th>19</th>\n",
       "      <td>0</td>\n",
       "      <td>-10038.818549</td>\n",
       "      <td>48</td>\n",
       "      <td>СРЕДНЕЕ</td>\n",
       "      <td>1</td>\n",
       "      <td>в разводе</td>\n",
       "      <td>3</td>\n",
       "      <td>F</td>\n",
       "      <td>сотрудник</td>\n",
       "      <td>0</td>\n",
       "      <td>242831.107982</td>\n",
       "      <td>на покупку своего автомобиля</td>\n",
       "    </tr>\n",
       "  </tbody>\n",
       "</table>\n",
       "</div>"
      ],
      "text/plain": [
       "    children  days_employed  dob_years            education  education_id  \\\n",
       "0          1   -8437.673028         42               высшее             0   \n",
       "1          1   -4024.803754         36              среднее             1   \n",
       "2          0   -5623.422610         33              Среднее             1   \n",
       "3          3   -4124.747207         32              среднее             1   \n",
       "4          0  340266.072047         53              среднее             1   \n",
       "5          0    -926.185831         27               высшее             0   \n",
       "6          0   -2879.202052         43               высшее             0   \n",
       "7          0    -152.779569         50              СРЕДНЕЕ             1   \n",
       "8          2   -6929.865299         35               ВЫСШЕЕ             0   \n",
       "9          0   -2188.756445         41              среднее             1   \n",
       "10         2   -4171.483647         36               высшее             0   \n",
       "11         0    -792.701887         40              среднее             1   \n",
       "12         0            NaN         65              среднее             1   \n",
       "13         0   -1846.641941         54  неоконченное высшее             2   \n",
       "14         0   -1844.956182         56               высшее             0   \n",
       "15         1    -972.364419         26              среднее             1   \n",
       "16         0   -1719.934226         35              среднее             1   \n",
       "17         0   -2369.999720         33               высшее             0   \n",
       "18         0  400281.136913         53              среднее             1   \n",
       "19         0  -10038.818549         48              СРЕДНЕЕ             1   \n",
       "\n",
       "       family_status  family_status_id gender income_type  debt  \\\n",
       "0    женат / замужем                 0      F   сотрудник     0   \n",
       "1    женат / замужем                 0      F   сотрудник     0   \n",
       "2    женат / замужем                 0      M   сотрудник     0   \n",
       "3    женат / замужем                 0      M   сотрудник     0   \n",
       "4   гражданский брак                 1      F   пенсионер     0   \n",
       "5   гражданский брак                 1      M   компаньон     0   \n",
       "6    женат / замужем                 0      F   компаньон     0   \n",
       "7    женат / замужем                 0      M   сотрудник     0   \n",
       "8   гражданский брак                 1      F   сотрудник     0   \n",
       "9    женат / замужем                 0      M   сотрудник     0   \n",
       "10   женат / замужем                 0      M   компаньон     0   \n",
       "11   женат / замужем                 0      F   сотрудник     0   \n",
       "12  гражданский брак                 1      M   пенсионер     0   \n",
       "13   женат / замужем                 0      F   сотрудник     0   \n",
       "14  гражданский брак                 1      F   компаньон     1   \n",
       "15   женат / замужем                 0      F   сотрудник     0   \n",
       "16   женат / замужем                 0      F   сотрудник     0   \n",
       "17  гражданский брак                 1      M   сотрудник     0   \n",
       "18    вдовец / вдова                 2      F   пенсионер     0   \n",
       "19         в разводе                 3      F   сотрудник     0   \n",
       "\n",
       "     total_income                                 purpose  \n",
       "0   253875.639453                           покупка жилья  \n",
       "1   112080.014102                 приобретение автомобиля  \n",
       "2   145885.952297                           покупка жилья  \n",
       "3   267628.550329              дополнительное образование  \n",
       "4   158616.077870                         сыграть свадьбу  \n",
       "5   255763.565419                           покупка жилья  \n",
       "6   240525.971920                       операции с жильем  \n",
       "7   135823.934197                             образование  \n",
       "8    95856.832424                   на проведение свадьбы  \n",
       "9   144425.938277                 покупка жилья для семьи  \n",
       "10  113943.491460                    покупка недвижимости  \n",
       "11   77069.234271       покупка коммерческой недвижимости  \n",
       "12            NaN                         сыграть свадьбу  \n",
       "13  130458.228857                 приобретение автомобиля  \n",
       "14  165127.911772              покупка жилой недвижимости  \n",
       "15  116820.904450  строительство собственной недвижимости  \n",
       "16  289202.704229                            недвижимость  \n",
       "17   90410.586745              строительство недвижимости  \n",
       "18   56823.777243      на покупку подержанного автомобиля  \n",
       "19  242831.107982            на покупку своего автомобиля  "
      ]
     },
     "execution_count": 3,
     "metadata": {},
     "output_type": "execute_result"
    }
   ],
   "source": [
    "data.head(20)"
   ]
  },
  {
   "cell_type": "code",
   "execution_count": 4,
   "id": "2fc73334",
   "metadata": {
    "deletable": false,
    "id": "2b757bca",
    "outputId": "15376089-8dad-46c9-b520-c05248d43158"
   },
   "outputs": [
    {
     "name": "stdout",
     "output_type": "stream",
     "text": [
      "<class 'pandas.core.frame.DataFrame'>\n",
      "RangeIndex: 21525 entries, 0 to 21524\n",
      "Data columns (total 12 columns):\n",
      " #   Column            Non-Null Count  Dtype  \n",
      "---  ------            --------------  -----  \n",
      " 0   children          21525 non-null  int64  \n",
      " 1   days_employed     19351 non-null  float64\n",
      " 2   dob_years         21525 non-null  int64  \n",
      " 3   education         21525 non-null  object \n",
      " 4   education_id      21525 non-null  int64  \n",
      " 5   family_status     21525 non-null  object \n",
      " 6   family_status_id  21525 non-null  int64  \n",
      " 7   gender            21525 non-null  object \n",
      " 8   income_type       21525 non-null  object \n",
      " 9   debt              21525 non-null  int64  \n",
      " 10  total_income      19351 non-null  float64\n",
      " 11  purpose           21525 non-null  object \n",
      "dtypes: float64(2), int64(5), object(5)\n",
      "memory usage: 2.0+ MB\n"
     ]
    }
   ],
   "source": [
    "data.info()"
   ]
  },
  {
   "cell_type": "markdown",
   "id": "6082dc4b",
   "metadata": {
    "deletable": false,
    "editable": false,
    "id": "333ec665"
   },
   "source": [
    "## Предобработка данных"
   ]
  },
  {
   "cell_type": "markdown",
   "id": "2cb77e60",
   "metadata": {
    "deletable": false,
    "editable": false,
    "id": "02d92d53"
   },
   "source": [
    "### Удаление пропусков"
   ]
  },
  {
   "cell_type": "code",
   "execution_count": 5,
   "id": "50f5637a",
   "metadata": {
    "deletable": false,
    "id": "7f9b2309",
    "outputId": "81f4d817-781c-465c-ed15-91ce4446810d"
   },
   "outputs": [
    {
     "data": {
      "text/plain": [
       "children               0\n",
       "days_employed       2174\n",
       "dob_years              0\n",
       "education              0\n",
       "education_id           0\n",
       "family_status          0\n",
       "family_status_id       0\n",
       "gender                 0\n",
       "income_type            0\n",
       "debt                   0\n",
       "total_income        2174\n",
       "purpose                0\n",
       "dtype: int64"
      ]
     },
     "execution_count": 5,
     "metadata": {},
     "output_type": "execute_result"
    }
   ],
   "source": [
    "data.isna().sum()"
   ]
  },
  {
   "cell_type": "code",
   "execution_count": 6,
   "id": "1fffd28b",
   "metadata": {
    "deletable": false,
    "id": "42006a93"
   },
   "outputs": [],
   "source": [
    "for t in data['income_type'].unique():\n",
    "    data.loc[(data['income_type'] == t) & (data['total_income'].isna()), 'total_income'] = \\\n",
    "    data.loc[(data['income_type'] == t), 'total_income'].median()"
   ]
  },
  {
   "cell_type": "markdown",
   "id": "898de904",
   "metadata": {
    "deletable": false,
    "editable": false,
    "id": "89da5ece"
   },
   "source": [
    "### Обработка аномальных значений"
   ]
  },
  {
   "cell_type": "code",
   "execution_count": 7,
   "id": "8313b128",
   "metadata": {
    "deletable": false,
    "id": "f6f055bf"
   },
   "outputs": [],
   "source": [
    "data['days_employed'] = data['days_employed'].abs()"
   ]
  },
  {
   "attachments": {},
   "cell_type": "markdown",
   "id": "7d02e34f",
   "metadata": {
    "deletable": false,
    "editable": false,
    "id": "6107dd2f"
   },
   "source": [
    "**Для каждого типа занятости выведем медианное значение трудового стажа `days_employed` в днях.**"
   ]
  },
  {
   "cell_type": "code",
   "execution_count": 8,
   "id": "e37f9d61",
   "metadata": {
    "deletable": false,
    "id": "85a5faf6",
    "outputId": "801ef80e-522b-4668-f34e-565af7432bcf"
   },
   "outputs": [
    {
     "data": {
      "text/plain": [
       "income_type\n",
       "безработный        366413.652744\n",
       "в декрете            3296.759962\n",
       "госслужащий          2689.368353\n",
       "компаньон            1547.382223\n",
       "пенсионер          365213.306266\n",
       "предприниматель       520.848083\n",
       "сотрудник            1574.202821\n",
       "студент               578.751554\n",
       "Name: days_employed, dtype: float64"
      ]
     },
     "execution_count": 8,
     "metadata": {},
     "output_type": "execute_result"
    }
   ],
   "source": [
    "data.groupby('income_type')['days_employed'].agg('median')"
   ]
  },
  {
   "cell_type": "markdown",
   "id": "a3ef26b8",
   "metadata": {
    "deletable": false,
    "editable": false,
    "id": "38d1a030"
   },
   "source": [
    "У двух типов (безработные и пенсионеры) получатся аномально большие значения. Исправить такие значения сложно, поэтому оставьте их как есть. Тем более этот столбец не понадобится вам для исследования."
   ]
  },
  {
   "attachments": {},
   "cell_type": "markdown",
   "id": "bbb3ab03",
   "metadata": {
    "deletable": false,
    "editable": false,
    "id": "d8a9f147"
   },
   "source": [
    "**Выведем перечень уникальных значений столбца `children`.**"
   ]
  },
  {
   "cell_type": "code",
   "execution_count": 9,
   "id": "20308acc",
   "metadata": {
    "deletable": false,
    "id": "ef5056eb",
    "outputId": "6975b15c-7f95-4697-d16d-a0c79b657b03"
   },
   "outputs": [
    {
     "data": {
      "text/plain": [
       "array([ 1,  0,  3,  2, -1,  4, 20,  5])"
      ]
     },
     "execution_count": 9,
     "metadata": {},
     "output_type": "execute_result"
    }
   ],
   "source": [
    "data['children'].unique()"
   ]
  },
  {
   "attachments": {},
   "cell_type": "markdown",
   "id": "5e9fb6fc",
   "metadata": {
    "deletable": false,
    "editable": false,
    "id": "40b9ebf2"
   },
   "source": [
    "**В столбце `children` есть два аномальных значения. Удалим строки, в которых встречаются такие аномальные значения из датафрейма `data`.**"
   ]
  },
  {
   "cell_type": "code",
   "execution_count": 10,
   "id": "7e4bdeeb",
   "metadata": {
    "deletable": false,
    "id": "3ff9801d"
   },
   "outputs": [],
   "source": [
    "data = data[(data['children'] != -1) & (data['children'] != 20)]"
   ]
  },
  {
   "cell_type": "code",
   "execution_count": 11,
   "id": "cbac3145",
   "metadata": {
    "deletable": false,
    "id": "ad4fa8b7",
    "outputId": "b2097101-d49d-44d9-901b-32a65c9463d1"
   },
   "outputs": [
    {
     "data": {
      "text/plain": [
       "array([1, 0, 3, 2, 4, 5])"
      ]
     },
     "execution_count": 11,
     "metadata": {},
     "output_type": "execute_result"
    }
   ],
   "source": [
    "data['children'].unique()"
   ]
  },
  {
   "attachments": {},
   "cell_type": "markdown",
   "id": "69823257",
   "metadata": {
    "deletable": false,
    "editable": false,
    "id": "f4ea573f"
   },
   "source": [
    "**Заполним пропуски в столбце `days_employed` медианными значениями по каждого типа занятости `income_type`.**"
   ]
  },
  {
   "cell_type": "code",
   "execution_count": 12,
   "id": "56990d3d",
   "metadata": {
    "deletable": false,
    "id": "af6b1a7e"
   },
   "outputs": [],
   "source": [
    "for t in data['income_type'].unique():\n",
    "    data.loc[(data['income_type'] == t) & (data['days_employed'].isna()), 'days_employed'] = \\\n",
    "    data.loc[(data['income_type'] == t), 'days_employed'].median()"
   ]
  },
  {
   "attachments": {},
   "cell_type": "markdown",
   "id": "d582f681",
   "metadata": {
    "deletable": false,
    "editable": false,
    "id": "2753f40d"
   },
   "source": [
    "**Убедимся, что все пропуски заполнены. Проверим себя и ещё раз выведем количество пропущенных значений для каждого столбца с помощью двух методов.**"
   ]
  },
  {
   "cell_type": "code",
   "execution_count": 13,
   "id": "c98edca0",
   "metadata": {
    "deletable": false,
    "id": "55f78bc2",
    "outputId": "8da1e4e1-358e-4e87-98c9-f261bce0a7b2"
   },
   "outputs": [
    {
     "data": {
      "text/plain": [
       "children            0\n",
       "days_employed       0\n",
       "dob_years           0\n",
       "education           0\n",
       "education_id        0\n",
       "family_status       0\n",
       "family_status_id    0\n",
       "gender              0\n",
       "income_type         0\n",
       "debt                0\n",
       "total_income        0\n",
       "purpose             0\n",
       "dtype: int64"
      ]
     },
     "execution_count": 13,
     "metadata": {},
     "output_type": "execute_result"
    }
   ],
   "source": [
    "data.isna().sum()"
   ]
  },
  {
   "cell_type": "markdown",
   "id": "24b548df",
   "metadata": {
    "deletable": false,
    "editable": false,
    "id": "ddc81e43"
   },
   "source": [
    "### Изменение типов данных"
   ]
  },
  {
   "attachments": {},
   "cell_type": "markdown",
   "id": "d45bf443",
   "metadata": {
    "deletable": false,
    "editable": false,
    "id": "42d19d24"
   },
   "source": [
    "**Заменим вещественный тип данных в столбце `total_income` на целочисленный с помощью метода `astype()`.**"
   ]
  },
  {
   "cell_type": "code",
   "execution_count": 14,
   "id": "e9a01383",
   "metadata": {
    "deletable": false,
    "id": "920b65ad"
   },
   "outputs": [],
   "source": [
    "data['total_income'] = data['total_income'].astype(int)"
   ]
  },
  {
   "cell_type": "markdown",
   "id": "ff5cec6c",
   "metadata": {
    "deletable": false,
    "editable": false,
    "id": "80c420ba"
   },
   "source": [
    "### Обработка дубликатов"
   ]
  },
  {
   "attachments": {},
   "cell_type": "markdown",
   "id": "4d72b19f",
   "metadata": {
    "deletable": false,
    "editable": false
   },
   "source": [
    "**Обработаем неявные дубликаты в столбце `education`. В этом столбце есть одни и те же значения, но записанные по-разному: с использованием заглавных и строчных букв. Приведем их к нижнему регистру.**"
   ]
  },
  {
   "cell_type": "code",
   "execution_count": 15,
   "id": "a1e5f3a5",
   "metadata": {
    "deletable": false
   },
   "outputs": [],
   "source": [
    "data['education'] = data['education'].str.lower()"
   ]
  },
  {
   "attachments": {},
   "cell_type": "markdown",
   "id": "a5590908",
   "metadata": {
    "deletable": false,
    "editable": false,
    "id": "dc587695"
   },
   "source": [
    "**Выведем на экран количество строк-дубликатов в данных. Если такие строки присутствуют, удалим их.**"
   ]
  },
  {
   "cell_type": "code",
   "execution_count": 16,
   "id": "22d6943d",
   "metadata": {
    "deletable": false,
    "id": "3ee445e4",
    "outputId": "9684deba-1934-42d1-99e1-cda61740f822"
   },
   "outputs": [
    {
     "data": {
      "text/plain": [
       "71"
      ]
     },
     "execution_count": 16,
     "metadata": {},
     "output_type": "execute_result"
    }
   ],
   "source": [
    "data.duplicated().sum()"
   ]
  },
  {
   "cell_type": "code",
   "execution_count": 17,
   "id": "42a26fa2",
   "metadata": {
    "deletable": false,
    "id": "8575fe05"
   },
   "outputs": [],
   "source": [
    "data = data.drop_duplicates()"
   ]
  },
  {
   "cell_type": "markdown",
   "id": "60702801",
   "metadata": {
    "deletable": false,
    "editable": false,
    "id": "9904cf55"
   },
   "source": [
    "### Категоризация данных"
   ]
  },
  {
   "attachments": {},
   "cell_type": "markdown",
   "id": "d70b33ee",
   "metadata": {
    "deletable": false,
    "editable": false,
    "id": "72fcc8a2"
   },
   "source": [
    "**На основании диапазонов, полученных от заказчика и указанных ниже, создадим в датафрейме `data` столбец `total_income_category` с категориями:**\n",
    "\n",
    "- 0–30000 — `'E'`;\n",
    "- 30001–50000 — `'D'`;\n",
    "- 50001–200000 — `'C'`;\n",
    "- 200001–1000000 — `'B'`;\n",
    "- 1000001 и выше — `'A'`.\n",
    "\n"
   ]
  },
  {
   "cell_type": "code",
   "execution_count": 18,
   "id": "2461f5b1",
   "metadata": {
    "deletable": false,
    "id": "e1771346"
   },
   "outputs": [],
   "source": [
    "def categorize_income(income):\n",
    "    try:\n",
    "        if 0 <= income <= 30000:\n",
    "            return 'E'\n",
    "        elif 30001 <= income <= 50000:\n",
    "            return 'D'\n",
    "        elif 50001 <= income <= 200000:\n",
    "            return 'C'\n",
    "        elif 200001 <= income <= 1000000:\n",
    "            return 'B'\n",
    "        elif income >= 1000001:\n",
    "            return 'A'\n",
    "    except:\n",
    "        pass"
   ]
  },
  {
   "cell_type": "code",
   "execution_count": 19,
   "id": "b6020fcf",
   "metadata": {
    "deletable": false,
    "id": "d5f3586d"
   },
   "outputs": [],
   "source": [
    "data['total_income_category'] = data['total_income'].apply(categorize_income)"
   ]
  },
  {
   "attachments": {},
   "cell_type": "markdown",
   "id": "1e45b511",
   "metadata": {
    "deletable": false,
    "editable": false,
    "id": "dde49b5c"
   },
   "source": [
    "**Выведем на экран перечень уникальных целей взятия кредита из столбца `purpose`.**"
   ]
  },
  {
   "cell_type": "code",
   "execution_count": 20,
   "id": "21f78c4b",
   "metadata": {
    "deletable": false,
    "id": "f67ce9b3",
    "outputId": "673c12d9-7d7e-4ae0-9812-c622c89dd244"
   },
   "outputs": [
    {
     "data": {
      "text/plain": [
       "array(['покупка жилья', 'приобретение автомобиля',\n",
       "       'дополнительное образование', 'сыграть свадьбу',\n",
       "       'операции с жильем', 'образование', 'на проведение свадьбы',\n",
       "       'покупка жилья для семьи', 'покупка недвижимости',\n",
       "       'покупка коммерческой недвижимости', 'покупка жилой недвижимости',\n",
       "       'строительство собственной недвижимости', 'недвижимость',\n",
       "       'строительство недвижимости', 'на покупку подержанного автомобиля',\n",
       "       'на покупку своего автомобиля',\n",
       "       'операции с коммерческой недвижимостью',\n",
       "       'строительство жилой недвижимости', 'жилье',\n",
       "       'операции со своей недвижимостью', 'автомобили',\n",
       "       'заняться образованием', 'сделка с подержанным автомобилем',\n",
       "       'получение образования', 'автомобиль', 'свадьба',\n",
       "       'получение дополнительного образования', 'покупка своего жилья',\n",
       "       'операции с недвижимостью', 'получение высшего образования',\n",
       "       'свой автомобиль', 'сделка с автомобилем',\n",
       "       'профильное образование', 'высшее образование',\n",
       "       'покупка жилья для сдачи', 'на покупку автомобиля', 'ремонт жилью',\n",
       "       'заняться высшим образованием'], dtype=object)"
      ]
     },
     "execution_count": 20,
     "metadata": {},
     "output_type": "execute_result"
    }
   ],
   "source": [
    "data['purpose'].unique()"
   ]
  },
  {
   "attachments": {},
   "cell_type": "markdown",
   "id": "f94f5eb8",
   "metadata": {
    "deletable": false,
    "editable": false,
    "id": "85d0aef0"
   },
   "source": [
    "**Создадим функцию, которая на основании данных из столбца `purpose` сформирует новый столбец `purpose_category`, в который войдут следующие категории:**\n",
    "\n",
    "- `'операции с автомобилем'`,\n",
    "- `'операции с недвижимостью'`,\n",
    "- `'проведение свадьбы'`,\n",
    "- `'получение образования'`.\n",
    "\n",
    "**Например, если в столбце `purpose` находится подстрока `'на покупку автомобиля'`, то в столбце `purpose_category` должна появиться строка `'операции с автомобилем'`.**\n"
   ]
  },
  {
   "cell_type": "code",
   "execution_count": 21,
   "id": "93fbc293",
   "metadata": {
    "deletable": false,
    "id": "e149fab4"
   },
   "outputs": [],
   "source": [
    "def categorize_purpose(row):\n",
    "    try:\n",
    "        if 'автом' in row:\n",
    "            return 'операции с автомобилем'\n",
    "        elif 'жил' in row or 'недвиж' in row:\n",
    "            return 'операции с недвижимостью'\n",
    "        elif 'свад' in row:\n",
    "            return 'проведение свадьбы'\n",
    "        elif 'образов' in row:\n",
    "            return 'получение образования'\n",
    "    except:\n",
    "        return 'нет категории'"
   ]
  },
  {
   "cell_type": "code",
   "execution_count": 22,
   "id": "5b6e4644",
   "metadata": {
    "deletable": false,
    "id": "bf36e69b"
   },
   "outputs": [],
   "source": [
    "data['purpose_category'] = data['purpose'].apply(categorize_purpose)"
   ]
  },
  {
   "attachments": {},
   "cell_type": "markdown",
   "id": "960491de",
   "metadata": {
    "deletable": false,
    "editable": false,
    "id": "09b242bf"
   },
   "source": [
    "### Исследование данных и ответы на вопросы"
   ]
  },
  {
   "attachments": {},
   "cell_type": "markdown",
   "id": "4f113abc",
   "metadata": {
    "deletable": false,
    "editable": false,
    "id": "c5d66278"
   },
   "source": [
    "#### Есть ли зависимость между количеством детей и возвратом кредита в срок?"
   ]
  },
  {
   "cell_type": "code",
   "execution_count": 31,
   "id": "1e2f8072",
   "metadata": {
    "deletable": false,
    "id": "2cacfc4a"
   },
   "outputs": [
    {
     "data": {
      "text/html": [
       "<div>\n",
       "<style scoped>\n",
       "    .dataframe tbody tr th:only-of-type {\n",
       "        vertical-align: middle;\n",
       "    }\n",
       "\n",
       "    .dataframe tbody tr th {\n",
       "        vertical-align: top;\n",
       "    }\n",
       "\n",
       "    .dataframe thead tr th {\n",
       "        text-align: left;\n",
       "    }\n",
       "\n",
       "    .dataframe thead tr:last-of-type th {\n",
       "        text-align: right;\n",
       "    }\n",
       "</style>\n",
       "<table border=\"1\" class=\"dataframe\">\n",
       "  <thead>\n",
       "    <tr>\n",
       "      <th></th>\n",
       "      <th>count</th>\n",
       "      <th>sum</th>\n",
       "      <th>percent</th>\n",
       "    </tr>\n",
       "    <tr>\n",
       "      <th></th>\n",
       "      <th>debt</th>\n",
       "      <th>debt</th>\n",
       "      <th></th>\n",
       "    </tr>\n",
       "    <tr>\n",
       "      <th>children</th>\n",
       "      <th></th>\n",
       "      <th></th>\n",
       "      <th></th>\n",
       "    </tr>\n",
       "  </thead>\n",
       "  <tbody>\n",
       "    <tr>\n",
       "      <th>5</th>\n",
       "      <td>9</td>\n",
       "      <td>0</td>\n",
       "      <td>0.00</td>\n",
       "    </tr>\n",
       "    <tr>\n",
       "      <th>0</th>\n",
       "      <td>14091</td>\n",
       "      <td>1063</td>\n",
       "      <td>7.54</td>\n",
       "    </tr>\n",
       "    <tr>\n",
       "      <th>3</th>\n",
       "      <td>330</td>\n",
       "      <td>27</td>\n",
       "      <td>8.18</td>\n",
       "    </tr>\n",
       "    <tr>\n",
       "      <th>1</th>\n",
       "      <td>4808</td>\n",
       "      <td>444</td>\n",
       "      <td>9.23</td>\n",
       "    </tr>\n",
       "    <tr>\n",
       "      <th>2</th>\n",
       "      <td>2052</td>\n",
       "      <td>194</td>\n",
       "      <td>9.45</td>\n",
       "    </tr>\n",
       "    <tr>\n",
       "      <th>4</th>\n",
       "      <td>41</td>\n",
       "      <td>4</td>\n",
       "      <td>9.76</td>\n",
       "    </tr>\n",
       "  </tbody>\n",
       "</table>\n",
       "</div>"
      ],
      "text/plain": [
       "          count   sum percent\n",
       "           debt  debt        \n",
       "children                     \n",
       "5             9     0    0.00\n",
       "0         14091  1063    7.54\n",
       "3           330    27    8.18\n",
       "1          4808   444    9.23\n",
       "2          2052   194    9.45\n",
       "4            41     4    9.76"
      ]
     },
     "execution_count": 31,
     "metadata": {},
     "output_type": "execute_result"
    }
   ],
   "source": [
    "child_debt = data.pivot_table(index=['children'], values=['debt'], aggfunc=['count', 'sum']) # создадим сводную таблицу, в которой отразим необходимые параметры: количество, сумму.\n",
    "child_debt['percent'] = round(child_debt['sum']/child_debt['count']*100, 2) # создадим новый столбец, чтобы узнать процентное соотношение\n",
    "child_debt = child_debt.sort_values(by='percent')\n",
    "child_debt"
   ]
  },
  {
   "cell_type": "code",
   "execution_count": 32,
   "id": "7b357647",
   "metadata": {},
   "outputs": [
    {
     "data": {
      "text/html": [
       "<div>\n",
       "<style scoped>\n",
       "    .dataframe tbody tr th:only-of-type {\n",
       "        vertical-align: middle;\n",
       "    }\n",
       "\n",
       "    .dataframe tbody tr th {\n",
       "        vertical-align: top;\n",
       "    }\n",
       "\n",
       "    .dataframe thead th {\n",
       "        text-align: right;\n",
       "    }\n",
       "</style>\n",
       "<table border=\"1\" class=\"dataframe\">\n",
       "  <thead>\n",
       "    <tr style=\"text-align: right;\">\n",
       "      <th></th>\n",
       "      <th>children</th>\n",
       "      <th>count</th>\n",
       "      <th>sum</th>\n",
       "      <th>percent</th>\n",
       "    </tr>\n",
       "  </thead>\n",
       "  <tbody>\n",
       "    <tr>\n",
       "      <th>0</th>\n",
       "      <td>5</td>\n",
       "      <td>9</td>\n",
       "      <td>0</td>\n",
       "      <td>0.00</td>\n",
       "    </tr>\n",
       "    <tr>\n",
       "      <th>1</th>\n",
       "      <td>0</td>\n",
       "      <td>14091</td>\n",
       "      <td>1063</td>\n",
       "      <td>7.54</td>\n",
       "    </tr>\n",
       "    <tr>\n",
       "      <th>2</th>\n",
       "      <td>3</td>\n",
       "      <td>330</td>\n",
       "      <td>27</td>\n",
       "      <td>8.18</td>\n",
       "    </tr>\n",
       "    <tr>\n",
       "      <th>3</th>\n",
       "      <td>1</td>\n",
       "      <td>4808</td>\n",
       "      <td>444</td>\n",
       "      <td>9.23</td>\n",
       "    </tr>\n",
       "    <tr>\n",
       "      <th>4</th>\n",
       "      <td>2</td>\n",
       "      <td>2052</td>\n",
       "      <td>194</td>\n",
       "      <td>9.45</td>\n",
       "    </tr>\n",
       "    <tr>\n",
       "      <th>5</th>\n",
       "      <td>4</td>\n",
       "      <td>41</td>\n",
       "      <td>4</td>\n",
       "      <td>9.76</td>\n",
       "    </tr>\n",
       "  </tbody>\n",
       "</table>\n",
       "</div>"
      ],
      "text/plain": [
       "   children  count   sum  percent\n",
       "0         5      9     0     0.00\n",
       "1         0  14091  1063     7.54\n",
       "2         3    330    27     8.18\n",
       "3         1   4808   444     9.23\n",
       "4         2   2052   194     9.45\n",
       "5         4     41     4     9.76"
      ]
     },
     "execution_count": 32,
     "metadata": {},
     "output_type": "execute_result"
    }
   ],
   "source": [
    "child_debt = child_debt.reset_index().droplevel(1, axis=1)\n",
    "child_debt"
   ]
  },
  {
   "cell_type": "markdown",
   "id": "cfb8c168",
   "metadata": {
    "deletable": false,
    "id": "3a6b99ec"
   },
   "source": [
    "**Вывод:** "
   ]
  },
  {
   "cell_type": "markdown",
   "id": "6a3e6bba",
   "metadata": {},
   "source": [
    "*Зависимость между количеством детей и возвратом средств есть. В процентном отношении случаи невозврата средств увеличиваются с ростом числа детей. С 7,5% до 9,7%. Исключение составляют те, у кого 5 детей. Но в данных их очень мало, вероятнее такие семьи редко обращаются за кредитами, а если обращаются, то понимают всю стпень ответственности в выплатах по кредитам. К тому же не каждый может себе позволить содержать семью с 5-ю детьми. Возможно это были семьи с высокими доходами.*"
   ]
  },
  {
   "attachments": {},
   "cell_type": "markdown",
   "id": "1d8d2d97",
   "metadata": {
    "deletable": false,
    "editable": false,
    "id": "97be82ca"
   },
   "source": [
    "#### Есть ли зависимость между семейным положением и возвратом кредита в срок?"
   ]
  },
  {
   "cell_type": "code",
   "execution_count": 30,
   "id": "eafb34fb",
   "metadata": {
    "deletable": false,
    "id": "dc3f7ee8"
   },
   "outputs": [
    {
     "data": {
      "text/html": [
       "<div>\n",
       "<style scoped>\n",
       "    .dataframe tbody tr th:only-of-type {\n",
       "        vertical-align: middle;\n",
       "    }\n",
       "\n",
       "    .dataframe tbody tr th {\n",
       "        vertical-align: top;\n",
       "    }\n",
       "\n",
       "    .dataframe thead th {\n",
       "        text-align: right;\n",
       "    }\n",
       "</style>\n",
       "<table border=\"1\" class=\"dataframe\">\n",
       "  <thead>\n",
       "    <tr style=\"text-align: right;\">\n",
       "      <th></th>\n",
       "      <th>family_status</th>\n",
       "      <th>count</th>\n",
       "      <th>sum</th>\n",
       "      <th>percent</th>\n",
       "    </tr>\n",
       "  </thead>\n",
       "  <tbody>\n",
       "    <tr>\n",
       "      <th>0</th>\n",
       "      <td>вдовец / вдова</td>\n",
       "      <td>951</td>\n",
       "      <td>63</td>\n",
       "      <td>6.62</td>\n",
       "    </tr>\n",
       "    <tr>\n",
       "      <th>1</th>\n",
       "      <td>в разводе</td>\n",
       "      <td>1189</td>\n",
       "      <td>84</td>\n",
       "      <td>7.06</td>\n",
       "    </tr>\n",
       "    <tr>\n",
       "      <th>2</th>\n",
       "      <td>женат / замужем</td>\n",
       "      <td>12261</td>\n",
       "      <td>927</td>\n",
       "      <td>7.56</td>\n",
       "    </tr>\n",
       "    <tr>\n",
       "      <th>3</th>\n",
       "      <td>гражданский брак</td>\n",
       "      <td>4134</td>\n",
       "      <td>385</td>\n",
       "      <td>9.31</td>\n",
       "    </tr>\n",
       "    <tr>\n",
       "      <th>4</th>\n",
       "      <td>Не женат / не замужем</td>\n",
       "      <td>2796</td>\n",
       "      <td>273</td>\n",
       "      <td>9.76</td>\n",
       "    </tr>\n",
       "  </tbody>\n",
       "</table>\n",
       "</div>"
      ],
      "text/plain": [
       "           family_status  count  sum  percent\n",
       "0         вдовец / вдова    951   63     6.62\n",
       "1              в разводе   1189   84     7.06\n",
       "2        женат / замужем  12261  927     7.56\n",
       "3       гражданский брак   4134  385     9.31\n",
       "4  Не женат / не замужем   2796  273     9.76"
      ]
     },
     "execution_count": 30,
     "metadata": {},
     "output_type": "execute_result"
    }
   ],
   "source": [
    "family_status_debt = data.pivot_table(index=['family_status'], values=['debt'], aggfunc=['count', 'sum']) # создадим сводную таблицу, в которой отразим необходимые параметры: количество, сумму.\n",
    "family_status_debt['percent'] = round(family_status_debt['sum']/family_status_debt['count']*100, 2) # создадим новый столбец, чтобы узнать процентное соотношение\n",
    "family_status_debt = family_status_debt.sort_values(by='percent') # отсортируем данные по возрастанию процента\n",
    "family_status_debt = family_status_debt.reset_index().droplevel(1, axis=1)\n",
    "family_status_debt"
   ]
  },
  {
   "cell_type": "markdown",
   "id": "107a3aa9",
   "metadata": {
    "deletable": false,
    "id": "1cef7837"
   },
   "source": [
    "**Вывод:** "
   ]
  },
  {
   "cell_type": "markdown",
   "id": "161b7908",
   "metadata": {},
   "source": [
    "*Зависимость между семейным положением и возвратом кредитов в срок также имеется. Люди, которые состояли в браке или состоят в настоящий момент реже допускают просрочки по кредитам. В отличие от людей, которые находятся в свободных отношениях (гражданском браке) или не женаты/не замужем. Вероятно, люди в браке также более ответственны. Показатель процентного отношения у женатых и не женатых составляет 7,5% и 9,7% соответственно. Стоит отметить, что в делении на семейные категории есть дисбаланс. Возможно стоит создать только две категории: женаты или не женаты, а вдовцов, в разводе и в гражданском браке отнести по факту к не женатым. Так мы избавимся от крайне малых выборок.*"
   ]
  },
  {
   "attachments": {},
   "cell_type": "markdown",
   "id": "7544e929",
   "metadata": {
    "deletable": false,
    "editable": false,
    "id": "1e8b2fca"
   },
   "source": [
    "#### Есть ли зависимость между уровнем дохода и возвратом кредита в срок?"
   ]
  },
  {
   "cell_type": "code",
   "execution_count": 33,
   "id": "00b5bdd3",
   "metadata": {
    "deletable": false,
    "id": "cd7e3720"
   },
   "outputs": [
    {
     "data": {
      "text/html": [
       "<div>\n",
       "<style scoped>\n",
       "    .dataframe tbody tr th:only-of-type {\n",
       "        vertical-align: middle;\n",
       "    }\n",
       "\n",
       "    .dataframe tbody tr th {\n",
       "        vertical-align: top;\n",
       "    }\n",
       "\n",
       "    .dataframe thead th {\n",
       "        text-align: right;\n",
       "    }\n",
       "</style>\n",
       "<table border=\"1\" class=\"dataframe\">\n",
       "  <thead>\n",
       "    <tr style=\"text-align: right;\">\n",
       "      <th></th>\n",
       "      <th>total_income_category</th>\n",
       "      <th>count</th>\n",
       "      <th>sum</th>\n",
       "      <th>percent</th>\n",
       "    </tr>\n",
       "  </thead>\n",
       "  <tbody>\n",
       "    <tr>\n",
       "      <th>0</th>\n",
       "      <td>D</td>\n",
       "      <td>349</td>\n",
       "      <td>21</td>\n",
       "      <td>6.02</td>\n",
       "    </tr>\n",
       "    <tr>\n",
       "      <th>1</th>\n",
       "      <td>B</td>\n",
       "      <td>5014</td>\n",
       "      <td>354</td>\n",
       "      <td>7.06</td>\n",
       "    </tr>\n",
       "    <tr>\n",
       "      <th>2</th>\n",
       "      <td>A</td>\n",
       "      <td>25</td>\n",
       "      <td>2</td>\n",
       "      <td>8.00</td>\n",
       "    </tr>\n",
       "    <tr>\n",
       "      <th>3</th>\n",
       "      <td>C</td>\n",
       "      <td>15921</td>\n",
       "      <td>1353</td>\n",
       "      <td>8.50</td>\n",
       "    </tr>\n",
       "    <tr>\n",
       "      <th>4</th>\n",
       "      <td>E</td>\n",
       "      <td>22</td>\n",
       "      <td>2</td>\n",
       "      <td>9.09</td>\n",
       "    </tr>\n",
       "  </tbody>\n",
       "</table>\n",
       "</div>"
      ],
      "text/plain": [
       "  total_income_category  count   sum  percent\n",
       "0                     D    349    21     6.02\n",
       "1                     B   5014   354     7.06\n",
       "2                     A     25     2     8.00\n",
       "3                     C  15921  1353     8.50\n",
       "4                     E     22     2     9.09"
      ]
     },
     "execution_count": 33,
     "metadata": {},
     "output_type": "execute_result"
    }
   ],
   "source": [
    "income_category = data.pivot_table(index=['total_income_category'], values=['debt'], aggfunc=['count', 'sum']) # создадим сводную таблицу, в которой отразим необходимые параметры: количество, сумму.\n",
    "income_category['percent'] = round(income_category['sum']/income_category['count']*100, 2) # создадим новый столбец, чтобы узнать процентное соотношение\n",
    "income_category = income_category.sort_values(by='percent') # отсортируем данные по возрастанию процента\n",
    "income_category = income_category.reset_index().droplevel(1, axis=1)\n",
    "income_category"
   ]
  },
  {
   "cell_type": "markdown",
   "id": "1d8c4edb",
   "metadata": {
    "deletable": false,
    "id": "e8593def"
   },
   "source": [
    "**Вывод:** "
   ]
  },
  {
   "cell_type": "markdown",
   "id": "fab7bb9b",
   "metadata": {},
   "source": [
    "*Уровень дохода влияет на возврат кредита в срок. Самый высокий в процентном отношении показатель невозвратов именно в категории \"Е\" - заемщики с уровнем дохода до 30000. Однако среди заемщиков с доходом от 50001 до 200000 он едва меньше. Если в первом случае высокий процент можно оправдать малым числом выданных кредитов, людям с настолько малым доходом, то во втором случае результат связан скорее с количественным фактором. Ко второму случаю, к категории \"С\", относится более 75% заемщиков. Что не очень хорошо. Возможно стоит прересмотреть ценовые интервалы для определения категорий, как и стоит пересмотреть увеличение числа категорий. В целом более или менее корректно сравнить мы можем только две выборки \"В\" и \"С\", так как они включают в себя достаточно данных, по сравнению прочими малыми выборками. Но даже если сравнить только эти две категории, то общий вывод не измениться: люди с бОльшим доходом реже допускают просрочки по выплатам.*"
   ]
  },
  {
   "attachments": {},
   "cell_type": "markdown",
   "id": "9cb81fdd",
   "metadata": {
    "deletable": false,
    "editable": false,
    "id": "99ecbd1f"
   },
   "source": [
    "#### Как разные цели кредита влияют на его возврат в срок?"
   ]
  },
  {
   "cell_type": "code",
   "execution_count": 34,
   "id": "7ea08795",
   "metadata": {
    "deletable": false,
    "id": "2b687290"
   },
   "outputs": [
    {
     "data": {
      "text/html": [
       "<div>\n",
       "<style scoped>\n",
       "    .dataframe tbody tr th:only-of-type {\n",
       "        vertical-align: middle;\n",
       "    }\n",
       "\n",
       "    .dataframe tbody tr th {\n",
       "        vertical-align: top;\n",
       "    }\n",
       "\n",
       "    .dataframe thead th {\n",
       "        text-align: right;\n",
       "    }\n",
       "</style>\n",
       "<table border=\"1\" class=\"dataframe\">\n",
       "  <thead>\n",
       "    <tr style=\"text-align: right;\">\n",
       "      <th></th>\n",
       "      <th>purpose_category</th>\n",
       "      <th>count</th>\n",
       "      <th>sum</th>\n",
       "      <th>percent</th>\n",
       "    </tr>\n",
       "  </thead>\n",
       "  <tbody>\n",
       "    <tr>\n",
       "      <th>0</th>\n",
       "      <td>операции с автомобилем</td>\n",
       "      <td>4279</td>\n",
       "      <td>400</td>\n",
       "      <td>9.35</td>\n",
       "    </tr>\n",
       "    <tr>\n",
       "      <th>1</th>\n",
       "      <td>операции с недвижимостью</td>\n",
       "      <td>10751</td>\n",
       "      <td>780</td>\n",
       "      <td>7.26</td>\n",
       "    </tr>\n",
       "    <tr>\n",
       "      <th>2</th>\n",
       "      <td>получение образования</td>\n",
       "      <td>3988</td>\n",
       "      <td>369</td>\n",
       "      <td>9.25</td>\n",
       "    </tr>\n",
       "    <tr>\n",
       "      <th>3</th>\n",
       "      <td>проведение свадьбы</td>\n",
       "      <td>2313</td>\n",
       "      <td>183</td>\n",
       "      <td>7.91</td>\n",
       "    </tr>\n",
       "  </tbody>\n",
       "</table>\n",
       "</div>"
      ],
      "text/plain": [
       "           purpose_category  count  sum  percent\n",
       "0    операции с автомобилем   4279  400     9.35\n",
       "1  операции с недвижимостью  10751  780     7.26\n",
       "2     получение образования   3988  369     9.25\n",
       "3        проведение свадьбы   2313  183     7.91"
      ]
     },
     "execution_count": 34,
     "metadata": {},
     "output_type": "execute_result"
    }
   ],
   "source": [
    "purpose_category_debt = data.pivot_table(index=['purpose_category'], values=['debt'], aggfunc=['count', 'sum', 'mean']) # создадим сводную таблицу, в которой отразим необходимые параметры: количество, сумму, среднее.\n",
    "purpose_category_debt['percent'] = round(purpose_category_debt['sum']/purpose_category_debt['count']*100, 2) # создадим новый столбец, чтобы узнать процентное соотношение\n",
    "purpose_category_debt = purpose_category_debt.reset_index().droplevel(1, axis=1)\n",
    "purpose_category_debt = purpose_category_debt.drop(columns=['mean'])\n",
    "purpose_category_debt"
   ]
  },
  {
   "cell_type": "markdown",
   "id": "24e8d09e",
   "metadata": {
    "deletable": false,
    "id": "b4bb2ce6"
   },
   "source": [
    "**Вывод:** "
   ]
  },
  {
   "cell_type": "markdown",
   "id": "33cf4644",
   "metadata": {},
   "source": [
    "*Из полученых результатов можно заключить, что люди, которые берут средства для покупки жилья и проведения свадьбы - более ответственны. Это логично т.к. и первое и второе являются серьезными, ответственными шагами в жизни. После свадьбы доход семьи уже состоит из того, что заработают два человека. А приобретая недвижимость человек хочет иметь крышу над головой и собственность, которую возможно передать по наследству. Но вот приобретая автомобиль или получая образование люди менее ответственно относятся к платежам. В целом в делении данных на цели для займа также есть дисбаланс. Одна категория - операции с недвижимостью - выделяется по объему среди всех прочих.*"
   ]
  },
  {
   "attachments": {},
   "cell_type": "markdown",
   "id": "adff5e49",
   "metadata": {
    "deletable": false,
    "editable": false,
    "id": "09c3ac4c"
   },
   "source": [
    "#### Возможные причины появления пропусков в исходных данных?"
   ]
  },
  {
   "cell_type": "markdown",
   "id": "4ff5a50e",
   "metadata": {
    "deletable": false,
    "id": "9da2ceda"
   },
   "source": [
    "*Ответ: В столбце `total_income` ошибки скорее всего появились в результате человеческой ошибки. Невнимательный сотрудник банка или же сам заемщик, когда оставлял заявку на одобрение кредита. А в столбце `days_employed` мы скорее всего имеем дело с технологической ошибкой. Достаточно посмотреть на все данные в столбце и увидеть минусовые значения, бесконечное число цифр после запятой, хотя там должны быть указаны только дни (число дней).*"
   ]
  },
  {
   "attachments": {},
   "cell_type": "markdown",
   "id": "5d9ae5a2",
   "metadata": {
    "deletable": false,
    "editable": false,
    "id": "6db5255a"
   },
   "source": [
    "### Общий вывод."
   ]
  },
  {
   "cell_type": "markdown",
   "id": "15957492",
   "metadata": {
    "deletable": false,
    "id": "bad65432"
   },
   "source": [
    "В заключение исследования мы можем дать ответы на вопросы, которые ставили себе перед его началом:\n",
    "\n",
    "1. _Есть ли зависимость между количеством детей и возвратом кредита в срок?  Зависимость есть. В процентном отношении случаи невозврата средств увеличиваются с ростом числа детей с 7,5% до 9,7%._\n",
    "<br>\n",
    "\n",
    "2. _Есть ли зависимость между семейным положением и возвратом кредита в срок?  Есть. Люди, которые состояли в браке или состоят в настоящий момент реже допускают просрочки по кредитам. В отличие от людей, которые находятся в свободных отношениях (гражданском браке) или не женаты/не замужем._\n",
    "<br>\n",
    "3. _Есть ли зависимость между уровнем дохода и возвратом кредита в срок?  Уровень дохода влияет на возврат кредита в срок. Самый высокий в процентном отношении показатель невозвратов именно в категории \"Е\" - заемщики с уровнем дохода до 30000._\n",
    "<br>\n",
    "4. _Как разные цели кредита влияют на его возврат в срок? В результате исследования можно заключить, что люди, которые берут средства для покупки жилья и проведения свадьбы - более ответственны, чем те кто берет кредит на автомобиль или получение образования. Это логично т.к. и первое и второе являются серьезными, ответственными шагами в жизни._\n",
    "\n",
    "__В качестве общего вывода отметим, что лучшими заемщиками являются люди состоящие в браке, без детей, с уровнем дохода от 30000 и которые берут займ на покупку квартиры или проведение свадьбы.__"
   ]
  }
 ],
 "metadata": {
  "ExecuteTimeLog": [
   {
    "duration": 403,
    "start_time": "2022-10-16T10:08:43.253Z"
   },
   {
    "duration": 21,
    "start_time": "2022-10-16T10:08:43.658Z"
   },
   {
    "duration": 14,
    "start_time": "2022-10-16T10:08:43.680Z"
   },
   {
    "duration": 30,
    "start_time": "2022-10-16T10:08:43.696Z"
   },
   {
    "duration": 29,
    "start_time": "2022-10-16T10:08:43.727Z"
   },
   {
    "duration": 3,
    "start_time": "2022-10-16T10:08:43.758Z"
   },
   {
    "duration": 16,
    "start_time": "2022-10-16T10:08:43.762Z"
   },
   {
    "duration": 8,
    "start_time": "2022-10-16T10:08:43.780Z"
   },
   {
    "duration": 10,
    "start_time": "2022-10-16T10:08:43.789Z"
   },
   {
    "duration": 20,
    "start_time": "2022-10-16T10:08:43.801Z"
   },
   {
    "duration": 30,
    "start_time": "2022-10-16T10:08:43.823Z"
   },
   {
    "duration": 10,
    "start_time": "2022-10-16T10:08:43.855Z"
   },
   {
    "duration": 7,
    "start_time": "2022-10-16T10:08:43.867Z"
   },
   {
    "duration": 14,
    "start_time": "2022-10-16T10:08:43.875Z"
   },
   {
    "duration": 31,
    "start_time": "2022-10-16T10:08:43.891Z"
   },
   {
    "duration": 21,
    "start_time": "2022-10-16T10:08:43.923Z"
   },
   {
    "duration": 4,
    "start_time": "2022-10-16T10:08:43.945Z"
   },
   {
    "duration": 17,
    "start_time": "2022-10-16T10:08:43.950Z"
   },
   {
    "duration": 8,
    "start_time": "2022-10-16T10:08:43.969Z"
   },
   {
    "duration": 4,
    "start_time": "2022-10-16T10:08:43.979Z"
   },
   {
    "duration": 18,
    "start_time": "2022-10-16T10:08:44.000Z"
   },
   {
    "duration": 9,
    "start_time": "2022-10-16T10:08:44.020Z"
   },
   {
    "duration": 7,
    "start_time": "2022-10-16T10:08:44.030Z"
   },
   {
    "duration": 9,
    "start_time": "2022-10-16T10:08:44.038Z"
   },
   {
    "duration": 6,
    "start_time": "2022-10-16T10:08:44.048Z"
   },
   {
    "duration": 21,
    "start_time": "2022-10-16T10:21:36.329Z"
   },
   {
    "duration": 24,
    "start_time": "2022-10-16T10:22:02.139Z"
   },
   {
    "duration": 1632,
    "start_time": "2022-10-16T10:24:06.738Z"
   },
   {
    "duration": 73,
    "start_time": "2022-10-16T10:36:18.175Z"
   },
   {
    "duration": 80,
    "start_time": "2022-10-16T10:36:45.894Z"
   },
   {
    "duration": 26,
    "start_time": "2022-10-16T10:37:02.634Z"
   },
   {
    "duration": 1003,
    "start_time": "2022-10-16T10:47:42.726Z"
   },
   {
    "duration": 35,
    "start_time": "2022-10-16T11:03:10.030Z"
   },
   {
    "duration": 53,
    "start_time": "2022-10-16T11:05:56.101Z"
   },
   {
    "duration": 19,
    "start_time": "2022-10-16T11:22:57.790Z"
   },
   {
    "duration": 18,
    "start_time": "2022-10-16T11:27:39.099Z"
   },
   {
    "duration": 45,
    "start_time": "2022-10-16T11:28:30.323Z"
   },
   {
    "duration": 9,
    "start_time": "2022-10-16T11:30:20.328Z"
   },
   {
    "duration": 75,
    "start_time": "2022-10-16T11:35:37.164Z"
   },
   {
    "duration": 7,
    "start_time": "2022-10-16T11:36:34.063Z"
   },
   {
    "duration": 4,
    "start_time": "2022-10-16T11:37:15.642Z"
   },
   {
    "duration": 9,
    "start_time": "2022-10-16T11:37:41.441Z"
   },
   {
    "duration": 8,
    "start_time": "2022-10-16T11:44:25.174Z"
   },
   {
    "duration": 489,
    "start_time": "2022-10-16T11:45:02.734Z"
   },
   {
    "duration": 14,
    "start_time": "2022-10-16T11:45:43.793Z"
   },
   {
    "duration": 9,
    "start_time": "2022-10-16T11:46:12.444Z"
   },
   {
    "duration": 55,
    "start_time": "2022-10-16T11:46:34.783Z"
   },
   {
    "duration": 7,
    "start_time": "2022-10-16T11:46:57.652Z"
   },
   {
    "duration": 31,
    "start_time": "2022-10-16T12:06:26.662Z"
   },
   {
    "duration": 37,
    "start_time": "2022-10-16T12:07:40.316Z"
   },
   {
    "duration": 40,
    "start_time": "2022-10-16T12:08:55.593Z"
   },
   {
    "duration": 51,
    "start_time": "2022-10-16T12:10:55.100Z"
   },
   {
    "duration": 31,
    "start_time": "2022-10-16T12:11:40.244Z"
   },
   {
    "duration": 35,
    "start_time": "2022-10-16T12:34:58.522Z"
   },
   {
    "duration": 692,
    "start_time": "2022-10-17T09:48:14.977Z"
   },
   {
    "duration": 23,
    "start_time": "2022-10-17T09:48:15.671Z"
   },
   {
    "duration": 14,
    "start_time": "2022-10-17T09:48:15.696Z"
   },
   {
    "duration": 9,
    "start_time": "2022-10-17T09:48:15.712Z"
   },
   {
    "duration": 33,
    "start_time": "2022-10-17T09:48:15.723Z"
   },
   {
    "duration": 3,
    "start_time": "2022-10-17T09:48:15.758Z"
   },
   {
    "duration": 10,
    "start_time": "2022-10-17T09:48:15.763Z"
   },
   {
    "duration": 4,
    "start_time": "2022-10-17T09:48:15.775Z"
   },
   {
    "duration": 10,
    "start_time": "2022-10-17T09:48:15.780Z"
   },
   {
    "duration": 30,
    "start_time": "2022-10-17T09:48:15.793Z"
   },
   {
    "duration": 37,
    "start_time": "2022-10-17T09:48:15.825Z"
   },
   {
    "duration": 12,
    "start_time": "2022-10-17T09:48:15.864Z"
   },
   {
    "duration": 4,
    "start_time": "2022-10-17T09:48:15.877Z"
   },
   {
    "duration": 43,
    "start_time": "2022-10-17T09:48:15.883Z"
   },
   {
    "duration": 28,
    "start_time": "2022-10-17T09:48:15.927Z"
   },
   {
    "duration": 17,
    "start_time": "2022-10-17T09:48:15.957Z"
   },
   {
    "duration": 4,
    "start_time": "2022-10-17T09:48:15.976Z"
   },
   {
    "duration": 20,
    "start_time": "2022-10-17T09:48:15.982Z"
   },
   {
    "duration": 23,
    "start_time": "2022-10-17T09:48:16.005Z"
   },
   {
    "duration": 11,
    "start_time": "2022-10-17T09:48:16.029Z"
   },
   {
    "duration": 30,
    "start_time": "2022-10-17T09:48:16.043Z"
   },
   {
    "duration": 51,
    "start_time": "2022-10-17T09:48:16.075Z"
   },
   {
    "duration": 50,
    "start_time": "2022-10-17T09:48:16.129Z"
   },
   {
    "duration": 53,
    "start_time": "2022-10-17T09:48:16.181Z"
   },
   {
    "duration": 44,
    "start_time": "2022-10-17T09:48:16.237Z"
   },
   {
    "duration": 10,
    "start_time": "2022-10-17T09:49:14.121Z"
   },
   {
    "duration": 16,
    "start_time": "2022-10-17T09:49:24.025Z"
   },
   {
    "duration": 67,
    "start_time": "2022-10-17T09:49:46.572Z"
   },
   {
    "duration": 11,
    "start_time": "2022-10-17T09:49:52.617Z"
   },
   {
    "duration": 10,
    "start_time": "2022-10-17T09:50:11.417Z"
   },
   {
    "duration": 9,
    "start_time": "2022-10-17T09:50:17.623Z"
   },
   {
    "duration": 75,
    "start_time": "2022-10-17T09:53:41.083Z"
   },
   {
    "duration": 715,
    "start_time": "2022-10-17T11:44:46.613Z"
   },
   {
    "duration": 22,
    "start_time": "2022-10-17T11:44:47.330Z"
   },
   {
    "duration": 18,
    "start_time": "2022-10-17T11:44:47.353Z"
   },
   {
    "duration": 40,
    "start_time": "2022-10-17T11:44:47.373Z"
   },
   {
    "duration": 48,
    "start_time": "2022-10-17T11:44:47.414Z"
   },
   {
    "duration": 7,
    "start_time": "2022-10-17T11:44:47.464Z"
   },
   {
    "duration": 38,
    "start_time": "2022-10-17T11:44:47.472Z"
   },
   {
    "duration": 31,
    "start_time": "2022-10-17T11:44:47.512Z"
   },
   {
    "duration": 33,
    "start_time": "2022-10-17T11:44:47.545Z"
   },
   {
    "duration": 39,
    "start_time": "2022-10-17T11:44:47.580Z"
   },
   {
    "duration": 50,
    "start_time": "2022-10-17T11:44:47.620Z"
   },
   {
    "duration": 10,
    "start_time": "2022-10-17T11:44:47.672Z"
   },
   {
    "duration": 17,
    "start_time": "2022-10-17T11:44:47.683Z"
   },
   {
    "duration": 42,
    "start_time": "2022-10-17T11:44:47.702Z"
   },
   {
    "duration": 55,
    "start_time": "2022-10-17T11:44:47.746Z"
   },
   {
    "duration": 33,
    "start_time": "2022-10-17T11:44:47.803Z"
   },
   {
    "duration": 32,
    "start_time": "2022-10-17T11:44:47.837Z"
   },
   {
    "duration": 37,
    "start_time": "2022-10-17T11:44:47.871Z"
   },
   {
    "duration": 44,
    "start_time": "2022-10-17T11:44:47.910Z"
   },
   {
    "duration": 20,
    "start_time": "2022-10-17T11:44:47.956Z"
   },
   {
    "duration": 48,
    "start_time": "2022-10-17T11:44:47.978Z"
   },
   {
    "duration": 68,
    "start_time": "2022-10-17T11:44:48.027Z"
   },
   {
    "duration": 14,
    "start_time": "2022-10-17T11:44:48.097Z"
   },
   {
    "duration": 11,
    "start_time": "2022-10-17T11:45:02.472Z"
   },
   {
    "duration": 29,
    "start_time": "2022-10-17T11:45:46.303Z"
   },
   {
    "duration": 33,
    "start_time": "2022-10-17T11:46:55.527Z"
   },
   {
    "duration": 33,
    "start_time": "2022-10-17T11:49:57.217Z"
   },
   {
    "duration": 10,
    "start_time": "2022-10-17T11:51:27.117Z"
   },
   {
    "duration": 41,
    "start_time": "2022-10-17T12:00:00.724Z"
   },
   {
    "duration": 36,
    "start_time": "2022-10-17T12:14:00.560Z"
   },
   {
    "duration": 35,
    "start_time": "2022-10-17T12:27:41.325Z"
   },
   {
    "duration": 35,
    "start_time": "2022-10-17T12:27:52.496Z"
   },
   {
    "duration": 101,
    "start_time": "2022-10-17T12:31:41.975Z"
   },
   {
    "duration": 35,
    "start_time": "2022-10-17T12:31:55.934Z"
   },
   {
    "duration": 43,
    "start_time": "2022-10-17T12:32:04.462Z"
   },
   {
    "duration": 35,
    "start_time": "2022-10-17T12:33:39.604Z"
   },
   {
    "duration": 37,
    "start_time": "2022-10-17T12:35:21.814Z"
   },
   {
    "duration": 99,
    "start_time": "2022-10-17T12:44:39.695Z"
   },
   {
    "duration": 177,
    "start_time": "2022-10-17T12:45:15.381Z"
   },
   {
    "duration": 70,
    "start_time": "2022-10-17T12:47:17.924Z"
   },
   {
    "duration": 75,
    "start_time": "2022-10-17T12:47:58.770Z"
   },
   {
    "duration": 83,
    "start_time": "2022-10-17T12:49:10.280Z"
   },
   {
    "duration": 93,
    "start_time": "2022-10-17T12:49:20.250Z"
   },
   {
    "duration": 57,
    "start_time": "2022-10-18T07:35:07.051Z"
   },
   {
    "duration": 582,
    "start_time": "2022-10-18T07:35:29.990Z"
   },
   {
    "duration": 36,
    "start_time": "2022-10-18T07:35:30.575Z"
   },
   {
    "duration": 44,
    "start_time": "2022-10-18T07:35:30.614Z"
   },
   {
    "duration": 37,
    "start_time": "2022-10-18T07:35:30.662Z"
   },
   {
    "duration": 75,
    "start_time": "2022-10-18T07:35:30.701Z"
   },
   {
    "duration": 5,
    "start_time": "2022-10-18T07:35:30.779Z"
   },
   {
    "duration": 24,
    "start_time": "2022-10-18T07:35:30.786Z"
   },
   {
    "duration": 17,
    "start_time": "2022-10-18T07:35:30.812Z"
   },
   {
    "duration": 45,
    "start_time": "2022-10-18T07:35:30.831Z"
   },
   {
    "duration": 12,
    "start_time": "2022-10-18T07:35:30.880Z"
   },
   {
    "duration": 83,
    "start_time": "2022-10-18T07:35:30.894Z"
   },
   {
    "duration": 16,
    "start_time": "2022-10-18T07:35:30.979Z"
   },
   {
    "duration": 16,
    "start_time": "2022-10-18T07:35:30.997Z"
   },
   {
    "duration": 29,
    "start_time": "2022-10-18T07:35:31.015Z"
   },
   {
    "duration": 32,
    "start_time": "2022-10-18T07:35:31.055Z"
   },
   {
    "duration": 20,
    "start_time": "2022-10-18T07:35:31.090Z"
   },
   {
    "duration": 4,
    "start_time": "2022-10-18T07:35:31.113Z"
   },
   {
    "duration": 40,
    "start_time": "2022-10-18T07:35:31.120Z"
   },
   {
    "duration": 7,
    "start_time": "2022-10-18T07:35:31.163Z"
   },
   {
    "duration": 20,
    "start_time": "2022-10-18T07:35:31.172Z"
   },
   {
    "duration": 28,
    "start_time": "2022-10-18T07:35:31.194Z"
   },
   {
    "duration": 73,
    "start_time": "2022-10-18T07:35:31.226Z"
   },
   {
    "duration": 12,
    "start_time": "2022-10-18T07:35:31.301Z"
   },
   {
    "duration": 45,
    "start_time": "2022-10-18T07:35:31.316Z"
   },
   {
    "duration": 49,
    "start_time": "2022-10-18T07:35:31.363Z"
   },
   {
    "duration": 78,
    "start_time": "2022-10-18T07:35:31.414Z"
   },
   {
    "duration": 70,
    "start_time": "2022-10-18T07:35:31.494Z"
   },
   {
    "duration": 30,
    "start_time": "2022-10-18T07:36:00.102Z"
   },
   {
    "duration": 28,
    "start_time": "2022-10-18T07:36:27.683Z"
   },
   {
    "duration": 26,
    "start_time": "2022-10-18T07:36:52.669Z"
   },
   {
    "duration": 28,
    "start_time": "2022-10-18T07:37:00.803Z"
   },
   {
    "duration": 36,
    "start_time": "2022-10-18T07:37:23.746Z"
   },
   {
    "duration": 24,
    "start_time": "2022-10-18T07:38:55.152Z"
   },
   {
    "duration": 31,
    "start_time": "2022-10-18T07:38:59.954Z"
   },
   {
    "duration": 29,
    "start_time": "2022-10-18T07:39:53.117Z"
   },
   {
    "duration": 86,
    "start_time": "2022-10-18T07:40:12.257Z"
   },
   {
    "duration": 23,
    "start_time": "2022-10-18T07:40:26.606Z"
   },
   {
    "duration": 47,
    "start_time": "2022-10-18T12:55:09.245Z"
   },
   {
    "duration": 516,
    "start_time": "2022-10-18T12:55:16.135Z"
   },
   {
    "duration": 21,
    "start_time": "2022-10-18T12:55:16.653Z"
   },
   {
    "duration": 15,
    "start_time": "2022-10-18T12:55:16.676Z"
   },
   {
    "duration": 9,
    "start_time": "2022-10-18T12:55:16.693Z"
   },
   {
    "duration": 54,
    "start_time": "2022-10-18T12:55:16.704Z"
   },
   {
    "duration": 3,
    "start_time": "2022-10-18T12:55:16.760Z"
   },
   {
    "duration": 22,
    "start_time": "2022-10-18T12:55:16.765Z"
   },
   {
    "duration": 18,
    "start_time": "2022-10-18T12:55:16.788Z"
   },
   {
    "duration": 12,
    "start_time": "2022-10-18T12:55:16.808Z"
   },
   {
    "duration": 4,
    "start_time": "2022-10-18T12:55:16.822Z"
   },
   {
    "duration": 39,
    "start_time": "2022-10-18T12:55:16.827Z"
   },
   {
    "duration": 9,
    "start_time": "2022-10-18T12:55:16.867Z"
   },
   {
    "duration": 5,
    "start_time": "2022-10-18T12:55:16.878Z"
   },
   {
    "duration": 13,
    "start_time": "2022-10-18T12:55:16.884Z"
   },
   {
    "duration": 18,
    "start_time": "2022-10-18T12:55:16.899Z"
   },
   {
    "duration": 17,
    "start_time": "2022-10-18T12:55:16.933Z"
   },
   {
    "duration": 4,
    "start_time": "2022-10-18T12:55:16.951Z"
   },
   {
    "duration": 16,
    "start_time": "2022-10-18T12:55:16.956Z"
   },
   {
    "duration": 5,
    "start_time": "2022-10-18T12:55:16.974Z"
   },
   {
    "duration": 5,
    "start_time": "2022-10-18T12:55:16.980Z"
   },
   {
    "duration": 11,
    "start_time": "2022-10-18T12:55:16.986Z"
   },
   {
    "duration": 58,
    "start_time": "2022-10-18T12:55:16.998Z"
   },
   {
    "duration": 8,
    "start_time": "2022-10-18T12:55:17.057Z"
   },
   {
    "duration": 28,
    "start_time": "2022-10-18T12:55:17.067Z"
   },
   {
    "duration": 54,
    "start_time": "2022-10-18T12:55:17.097Z"
   },
   {
    "duration": 34,
    "start_time": "2022-10-18T12:55:21.056Z"
   },
   {
    "duration": 39,
    "start_time": "2022-10-18T12:56:02.445Z"
   },
   {
    "duration": 28,
    "start_time": "2022-10-18T12:56:40.265Z"
   },
   {
    "duration": 28,
    "start_time": "2022-10-18T12:56:59.085Z"
   },
   {
    "duration": 29,
    "start_time": "2022-10-18T12:57:46.145Z"
   },
   {
    "duration": 9,
    "start_time": "2022-10-18T12:57:56.120Z"
   },
   {
    "duration": 29,
    "start_time": "2022-10-18T13:01:36.913Z"
   },
   {
    "duration": 37,
    "start_time": "2022-10-18T13:02:35.551Z"
   }
  ],
  "colab": {
   "name": "dpp_template_part2.ipynb",
   "provenance": []
  },
  "kernelspec": {
   "display_name": "Python 3 (ipykernel)",
   "language": "python",
   "name": "python3"
  },
  "language_info": {
   "codemirror_mode": {
    "name": "ipython",
    "version": 3
   },
   "file_extension": ".py",
   "mimetype": "text/x-python",
   "name": "python",
   "nbconvert_exporter": "python",
   "pygments_lexer": "ipython3",
   "version": "3.9.5"
  },
  "toc": {
   "base_numbering": 1,
   "nav_menu": {},
   "number_sections": true,
   "sideBar": true,
   "skip_h1_title": true,
   "title_cell": "Table of Contents",
   "title_sidebar": "Contents",
   "toc_cell": false,
   "toc_position": {},
   "toc_section_display": true,
   "toc_window_display": false
  }
 },
 "nbformat": 4,
 "nbformat_minor": 5
}
