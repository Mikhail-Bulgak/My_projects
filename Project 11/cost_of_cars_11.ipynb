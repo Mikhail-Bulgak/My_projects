{
 "cells": [
  {
   "attachments": {},
   "cell_type": "markdown",
   "metadata": {},
   "source": [
    "# Определение стоимости автомобилей"
   ]
  },
  {
   "attachments": {},
   "cell_type": "markdown",
   "metadata": {},
   "source": [
    "Сервис по продаже автомобилей с пробегом разрабатывает приложение для привлечения новых клиентов. В нём можно быстро узнать рыночную стоимость своего автомобиля. В нашем распоряжении исторические данные: технические характеристики, комплектации и цены автомобилей. Нам нужно построить модель для определения стоимости. \n",
    "\n",
    "Заказчику важны:\n",
    "\n",
    "- качество предсказания;\n",
    "- скорость предсказания;\n",
    "- время обучения."
   ]
  },
  {
   "attachments": {},
   "cell_type": "markdown",
   "metadata": {},
   "source": [
    "## Подготовка данных"
   ]
  },
  {
   "cell_type": "code",
   "execution_count": 1,
   "metadata": {},
   "outputs": [],
   "source": [
    "# установим нужные библиотеки\n",
    "import pandas as pd\n",
    "import numpy as np\n",
    "\n",
    "from sklearn.linear_model import LinearRegression\n",
    "from sklearn.ensemble import RandomForestRegressor\n",
    "from sklearn.tree import DecisionTreeRegressor\n",
    "\n",
    "from sklearn.preprocessing import LabelEncoder\n",
    "from sklearn.preprocessing import OrdinalEncoder\n",
    "from sklearn.model_selection import train_test_split, GridSearchCV\n",
    "from sklearn.metrics import mean_squared_error\n",
    "\n",
    "from lightgbm import LGBMRegressor\n",
    "\n",
    "import matplotlib.pyplot as plt\n",
    "\n",
    "import warnings\n",
    "warnings.filterwarnings('ignore')"
   ]
  },
  {
   "cell_type": "code",
   "execution_count": 2,
   "metadata": {},
   "outputs": [],
   "source": [
    "# загрузим датасет\n",
    "df = pd.read_csv('/datasets/autos.csv')"
   ]
  },
  {
   "cell_type": "code",
   "execution_count": 3,
   "metadata": {},
   "outputs": [],
   "source": [
    "# создадим функцию, которая покажет всю общую информацию о датасете\n",
    "def show_info(df_name):  \n",
    "    display(df_name.head(10))\n",
    "    print('-------------------------------------------')\n",
    "    print(df_name.info())\n",
    "    print('-------------------------------------------')\n",
    "    print(df_name.describe())\n",
    "    print('-------------------------------------------')\n",
    "    df_name.hist(figsize=(15, 20));"
   ]
  },
  {
   "cell_type": "code",
   "execution_count": 4,
   "metadata": {},
   "outputs": [
    {
     "data": {
      "text/html": [
       "<div>\n",
       "<style scoped>\n",
       "    .dataframe tbody tr th:only-of-type {\n",
       "        vertical-align: middle;\n",
       "    }\n",
       "\n",
       "    .dataframe tbody tr th {\n",
       "        vertical-align: top;\n",
       "    }\n",
       "\n",
       "    .dataframe thead th {\n",
       "        text-align: right;\n",
       "    }\n",
       "</style>\n",
       "<table border=\"1\" class=\"dataframe\">\n",
       "  <thead>\n",
       "    <tr style=\"text-align: right;\">\n",
       "      <th></th>\n",
       "      <th>DateCrawled</th>\n",
       "      <th>Price</th>\n",
       "      <th>VehicleType</th>\n",
       "      <th>RegistrationYear</th>\n",
       "      <th>Gearbox</th>\n",
       "      <th>Power</th>\n",
       "      <th>Model</th>\n",
       "      <th>Kilometer</th>\n",
       "      <th>RegistrationMonth</th>\n",
       "      <th>FuelType</th>\n",
       "      <th>Brand</th>\n",
       "      <th>Repaired</th>\n",
       "      <th>DateCreated</th>\n",
       "      <th>NumberOfPictures</th>\n",
       "      <th>PostalCode</th>\n",
       "      <th>LastSeen</th>\n",
       "    </tr>\n",
       "  </thead>\n",
       "  <tbody>\n",
       "    <tr>\n",
       "      <th>0</th>\n",
       "      <td>2016-03-24 11:52:17</td>\n",
       "      <td>480</td>\n",
       "      <td>NaN</td>\n",
       "      <td>1993</td>\n",
       "      <td>manual</td>\n",
       "      <td>0</td>\n",
       "      <td>golf</td>\n",
       "      <td>150000</td>\n",
       "      <td>0</td>\n",
       "      <td>petrol</td>\n",
       "      <td>volkswagen</td>\n",
       "      <td>NaN</td>\n",
       "      <td>2016-03-24 00:00:00</td>\n",
       "      <td>0</td>\n",
       "      <td>70435</td>\n",
       "      <td>2016-04-07 03:16:57</td>\n",
       "    </tr>\n",
       "    <tr>\n",
       "      <th>1</th>\n",
       "      <td>2016-03-24 10:58:45</td>\n",
       "      <td>18300</td>\n",
       "      <td>coupe</td>\n",
       "      <td>2011</td>\n",
       "      <td>manual</td>\n",
       "      <td>190</td>\n",
       "      <td>NaN</td>\n",
       "      <td>125000</td>\n",
       "      <td>5</td>\n",
       "      <td>gasoline</td>\n",
       "      <td>audi</td>\n",
       "      <td>yes</td>\n",
       "      <td>2016-03-24 00:00:00</td>\n",
       "      <td>0</td>\n",
       "      <td>66954</td>\n",
       "      <td>2016-04-07 01:46:50</td>\n",
       "    </tr>\n",
       "    <tr>\n",
       "      <th>2</th>\n",
       "      <td>2016-03-14 12:52:21</td>\n",
       "      <td>9800</td>\n",
       "      <td>suv</td>\n",
       "      <td>2004</td>\n",
       "      <td>auto</td>\n",
       "      <td>163</td>\n",
       "      <td>grand</td>\n",
       "      <td>125000</td>\n",
       "      <td>8</td>\n",
       "      <td>gasoline</td>\n",
       "      <td>jeep</td>\n",
       "      <td>NaN</td>\n",
       "      <td>2016-03-14 00:00:00</td>\n",
       "      <td>0</td>\n",
       "      <td>90480</td>\n",
       "      <td>2016-04-05 12:47:46</td>\n",
       "    </tr>\n",
       "    <tr>\n",
       "      <th>3</th>\n",
       "      <td>2016-03-17 16:54:04</td>\n",
       "      <td>1500</td>\n",
       "      <td>small</td>\n",
       "      <td>2001</td>\n",
       "      <td>manual</td>\n",
       "      <td>75</td>\n",
       "      <td>golf</td>\n",
       "      <td>150000</td>\n",
       "      <td>6</td>\n",
       "      <td>petrol</td>\n",
       "      <td>volkswagen</td>\n",
       "      <td>no</td>\n",
       "      <td>2016-03-17 00:00:00</td>\n",
       "      <td>0</td>\n",
       "      <td>91074</td>\n",
       "      <td>2016-03-17 17:40:17</td>\n",
       "    </tr>\n",
       "    <tr>\n",
       "      <th>4</th>\n",
       "      <td>2016-03-31 17:25:20</td>\n",
       "      <td>3600</td>\n",
       "      <td>small</td>\n",
       "      <td>2008</td>\n",
       "      <td>manual</td>\n",
       "      <td>69</td>\n",
       "      <td>fabia</td>\n",
       "      <td>90000</td>\n",
       "      <td>7</td>\n",
       "      <td>gasoline</td>\n",
       "      <td>skoda</td>\n",
       "      <td>no</td>\n",
       "      <td>2016-03-31 00:00:00</td>\n",
       "      <td>0</td>\n",
       "      <td>60437</td>\n",
       "      <td>2016-04-06 10:17:21</td>\n",
       "    </tr>\n",
       "    <tr>\n",
       "      <th>5</th>\n",
       "      <td>2016-04-04 17:36:23</td>\n",
       "      <td>650</td>\n",
       "      <td>sedan</td>\n",
       "      <td>1995</td>\n",
       "      <td>manual</td>\n",
       "      <td>102</td>\n",
       "      <td>3er</td>\n",
       "      <td>150000</td>\n",
       "      <td>10</td>\n",
       "      <td>petrol</td>\n",
       "      <td>bmw</td>\n",
       "      <td>yes</td>\n",
       "      <td>2016-04-04 00:00:00</td>\n",
       "      <td>0</td>\n",
       "      <td>33775</td>\n",
       "      <td>2016-04-06 19:17:07</td>\n",
       "    </tr>\n",
       "    <tr>\n",
       "      <th>6</th>\n",
       "      <td>2016-04-01 20:48:51</td>\n",
       "      <td>2200</td>\n",
       "      <td>convertible</td>\n",
       "      <td>2004</td>\n",
       "      <td>manual</td>\n",
       "      <td>109</td>\n",
       "      <td>2_reihe</td>\n",
       "      <td>150000</td>\n",
       "      <td>8</td>\n",
       "      <td>petrol</td>\n",
       "      <td>peugeot</td>\n",
       "      <td>no</td>\n",
       "      <td>2016-04-01 00:00:00</td>\n",
       "      <td>0</td>\n",
       "      <td>67112</td>\n",
       "      <td>2016-04-05 18:18:39</td>\n",
       "    </tr>\n",
       "    <tr>\n",
       "      <th>7</th>\n",
       "      <td>2016-03-21 18:54:38</td>\n",
       "      <td>0</td>\n",
       "      <td>sedan</td>\n",
       "      <td>1980</td>\n",
       "      <td>manual</td>\n",
       "      <td>50</td>\n",
       "      <td>other</td>\n",
       "      <td>40000</td>\n",
       "      <td>7</td>\n",
       "      <td>petrol</td>\n",
       "      <td>volkswagen</td>\n",
       "      <td>no</td>\n",
       "      <td>2016-03-21 00:00:00</td>\n",
       "      <td>0</td>\n",
       "      <td>19348</td>\n",
       "      <td>2016-03-25 16:47:58</td>\n",
       "    </tr>\n",
       "    <tr>\n",
       "      <th>8</th>\n",
       "      <td>2016-04-04 23:42:13</td>\n",
       "      <td>14500</td>\n",
       "      <td>bus</td>\n",
       "      <td>2014</td>\n",
       "      <td>manual</td>\n",
       "      <td>125</td>\n",
       "      <td>c_max</td>\n",
       "      <td>30000</td>\n",
       "      <td>8</td>\n",
       "      <td>petrol</td>\n",
       "      <td>ford</td>\n",
       "      <td>NaN</td>\n",
       "      <td>2016-04-04 00:00:00</td>\n",
       "      <td>0</td>\n",
       "      <td>94505</td>\n",
       "      <td>2016-04-04 23:42:13</td>\n",
       "    </tr>\n",
       "    <tr>\n",
       "      <th>9</th>\n",
       "      <td>2016-03-17 10:53:50</td>\n",
       "      <td>999</td>\n",
       "      <td>small</td>\n",
       "      <td>1998</td>\n",
       "      <td>manual</td>\n",
       "      <td>101</td>\n",
       "      <td>golf</td>\n",
       "      <td>150000</td>\n",
       "      <td>0</td>\n",
       "      <td>NaN</td>\n",
       "      <td>volkswagen</td>\n",
       "      <td>NaN</td>\n",
       "      <td>2016-03-17 00:00:00</td>\n",
       "      <td>0</td>\n",
       "      <td>27472</td>\n",
       "      <td>2016-03-31 17:17:06</td>\n",
       "    </tr>\n",
       "  </tbody>\n",
       "</table>\n",
       "</div>"
      ],
      "text/plain": [
       "           DateCrawled  Price  VehicleType  RegistrationYear Gearbox  Power  \\\n",
       "0  2016-03-24 11:52:17    480          NaN              1993  manual      0   \n",
       "1  2016-03-24 10:58:45  18300        coupe              2011  manual    190   \n",
       "2  2016-03-14 12:52:21   9800          suv              2004    auto    163   \n",
       "3  2016-03-17 16:54:04   1500        small              2001  manual     75   \n",
       "4  2016-03-31 17:25:20   3600        small              2008  manual     69   \n",
       "5  2016-04-04 17:36:23    650        sedan              1995  manual    102   \n",
       "6  2016-04-01 20:48:51   2200  convertible              2004  manual    109   \n",
       "7  2016-03-21 18:54:38      0        sedan              1980  manual     50   \n",
       "8  2016-04-04 23:42:13  14500          bus              2014  manual    125   \n",
       "9  2016-03-17 10:53:50    999        small              1998  manual    101   \n",
       "\n",
       "     Model  Kilometer  RegistrationMonth  FuelType       Brand Repaired  \\\n",
       "0     golf     150000                  0    petrol  volkswagen      NaN   \n",
       "1      NaN     125000                  5  gasoline        audi      yes   \n",
       "2    grand     125000                  8  gasoline        jeep      NaN   \n",
       "3     golf     150000                  6    petrol  volkswagen       no   \n",
       "4    fabia      90000                  7  gasoline       skoda       no   \n",
       "5      3er     150000                 10    petrol         bmw      yes   \n",
       "6  2_reihe     150000                  8    petrol     peugeot       no   \n",
       "7    other      40000                  7    petrol  volkswagen       no   \n",
       "8    c_max      30000                  8    petrol        ford      NaN   \n",
       "9     golf     150000                  0       NaN  volkswagen      NaN   \n",
       "\n",
       "           DateCreated  NumberOfPictures  PostalCode             LastSeen  \n",
       "0  2016-03-24 00:00:00                 0       70435  2016-04-07 03:16:57  \n",
       "1  2016-03-24 00:00:00                 0       66954  2016-04-07 01:46:50  \n",
       "2  2016-03-14 00:00:00                 0       90480  2016-04-05 12:47:46  \n",
       "3  2016-03-17 00:00:00                 0       91074  2016-03-17 17:40:17  \n",
       "4  2016-03-31 00:00:00                 0       60437  2016-04-06 10:17:21  \n",
       "5  2016-04-04 00:00:00                 0       33775  2016-04-06 19:17:07  \n",
       "6  2016-04-01 00:00:00                 0       67112  2016-04-05 18:18:39  \n",
       "7  2016-03-21 00:00:00                 0       19348  2016-03-25 16:47:58  \n",
       "8  2016-04-04 00:00:00                 0       94505  2016-04-04 23:42:13  \n",
       "9  2016-03-17 00:00:00                 0       27472  2016-03-31 17:17:06  "
      ]
     },
     "metadata": {},
     "output_type": "display_data"
    },
    {
     "name": "stdout",
     "output_type": "stream",
     "text": [
      "-------------------------------------------\n",
      "<class 'pandas.core.frame.DataFrame'>\n",
      "RangeIndex: 354369 entries, 0 to 354368\n",
      "Data columns (total 16 columns):\n",
      " #   Column             Non-Null Count   Dtype \n",
      "---  ------             --------------   ----- \n",
      " 0   DateCrawled        354369 non-null  object\n",
      " 1   Price              354369 non-null  int64 \n",
      " 2   VehicleType        316879 non-null  object\n",
      " 3   RegistrationYear   354369 non-null  int64 \n",
      " 4   Gearbox            334536 non-null  object\n",
      " 5   Power              354369 non-null  int64 \n",
      " 6   Model              334664 non-null  object\n",
      " 7   Kilometer          354369 non-null  int64 \n",
      " 8   RegistrationMonth  354369 non-null  int64 \n",
      " 9   FuelType           321474 non-null  object\n",
      " 10  Brand              354369 non-null  object\n",
      " 11  Repaired           283215 non-null  object\n",
      " 12  DateCreated        354369 non-null  object\n",
      " 13  NumberOfPictures   354369 non-null  int64 \n",
      " 14  PostalCode         354369 non-null  int64 \n",
      " 15  LastSeen           354369 non-null  object\n",
      "dtypes: int64(7), object(9)\n",
      "memory usage: 43.3+ MB\n",
      "None\n",
      "-------------------------------------------\n",
      "               Price  RegistrationYear          Power      Kilometer  \\\n",
      "count  354369.000000     354369.000000  354369.000000  354369.000000   \n",
      "mean     4416.656776       2004.234448     110.094337  128211.172535   \n",
      "std      4514.158514         90.227958     189.850405   37905.341530   \n",
      "min         0.000000       1000.000000       0.000000    5000.000000   \n",
      "25%      1050.000000       1999.000000      69.000000  125000.000000   \n",
      "50%      2700.000000       2003.000000     105.000000  150000.000000   \n",
      "75%      6400.000000       2008.000000     143.000000  150000.000000   \n",
      "max     20000.000000       9999.000000   20000.000000  150000.000000   \n",
      "\n",
      "       RegistrationMonth  NumberOfPictures     PostalCode  \n",
      "count      354369.000000          354369.0  354369.000000  \n",
      "mean            5.714645               0.0   50508.689087  \n",
      "std             3.726421               0.0   25783.096248  \n",
      "min             0.000000               0.0    1067.000000  \n",
      "25%             3.000000               0.0   30165.000000  \n",
      "50%             6.000000               0.0   49413.000000  \n",
      "75%             9.000000               0.0   71083.000000  \n",
      "max            12.000000               0.0   99998.000000  \n",
      "-------------------------------------------\n"
     ]
    },
    {
     "data": {
      "image/png": "[encoded data removed]",
      "text/plain": [
       "<Figure size 1080x1440 with 9 Axes>"
      ]
     },
     "metadata": {
      "needs_background": "light"
     },
     "output_type": "display_data"
    }
   ],
   "source": [
    "show_info(df)"
   ]
  },
  {
   "attachments": {},
   "cell_type": "markdown",
   "metadata": {},
   "source": [
    "Из полученных данных мы можем видеть, что в датасете есть пропуски, неверные типы данных, неправильные названия столбцов, выбросы, а также не нужные столбцы. Приступим к очистке данных."
   ]
  },
  {
   "cell_type": "code",
   "execution_count": 5,
   "metadata": {},
   "outputs": [],
   "source": [
    "# исправим названия столбцов\n",
    "df = df.rename(columns = {'DateCrawled': 'date_crawled', 'VehicleType': 'vehicle_type', 'RegistrationYear':\n",
    "                         'registration_year', 'Gearbox': 'gearbox', 'Power': 'power', 'Model': 'model', 'Kilometer': \n",
    "                          'kilometer', 'RegistrationMonth': 'registration_month', 'FuelType': 'fuel_type', 'Brand': 'brand',\n",
    "                         'Repaired': 'repaired', 'DateCreated': 'date_created', 'NumberOfPictures': \n",
    "                          'number_of_pictures', 'PostalCode': 'postal_code', 'LastSeen': 'last_seen', 'Price': 'price'})"
   ]
  },
  {
   "cell_type": "code",
   "execution_count": 6,
   "metadata": {},
   "outputs": [],
   "source": [
    "# исправим тип данных для столбцов с датами\n",
    "df['date_crawled'] = df['date_crawled'].astype('datetime64')\n",
    "df['date_created'] = df['date_created'].astype('datetime64')\n",
    "df['last_seen'] = df['last_seen'].astype('datetime64')"
   ]
  },
  {
   "cell_type": "code",
   "execution_count": 7,
   "metadata": {},
   "outputs": [
    {
     "data": {
      "text/plain": [
       "date_crawled              0\n",
       "price                     0\n",
       "vehicle_type          37490\n",
       "registration_year         0\n",
       "gearbox               19833\n",
       "power                     0\n",
       "model                 19705\n",
       "kilometer                 0\n",
       "registration_month        0\n",
       "fuel_type             32895\n",
       "brand                     0\n",
       "repaired              71154\n",
       "date_created              0\n",
       "number_of_pictures        0\n",
       "postal_code               0\n",
       "last_seen                 0\n",
       "dtype: int64"
      ]
     },
     "execution_count": 7,
     "metadata": {},
     "output_type": "execute_result"
    }
   ],
   "source": [
    "# найдем количество пропусков в столбцах\n",
    "df.isna().sum()"
   ]
  },
  {
   "cell_type": "code",
   "execution_count": 8,
   "metadata": {},
   "outputs": [
    {
     "name": "stdout",
     "output_type": "stream",
     "text": [
      "Значения типа автомобильного кузова: [nan 'coupe' 'suv' 'small' 'sedan' 'convertible' 'bus' 'wagon' 'other']\n",
      "\n",
      "Значения типа коробки передач: ['manual' 'auto' nan]\n",
      "\n",
      "Значения модели автомобиля: ['golf' nan 'grand' 'fabia' '3er' '2_reihe' 'other' 'c_max' '3_reihe'\n",
      " 'passat' 'navara' 'ka' 'polo' 'twingo' 'a_klasse' 'scirocco' '5er'\n",
      " 'meriva' 'arosa' 'c4' 'civic' 'transporter' 'punto' 'e_klasse' 'clio'\n",
      " 'kadett' 'kangoo' 'corsa' 'one' 'fortwo' '1er' 'b_klasse' 'signum'\n",
      " 'astra' 'a8' 'jetta' 'fiesta' 'c_klasse' 'micra' 'vito' 'sprinter' '156'\n",
      " 'escort' 'forester' 'xc_reihe' 'scenic' 'a4' 'a1' 'insignia' 'combo'\n",
      " 'focus' 'tt' 'a6' 'jazz' 'omega' 'slk' '7er' '80' '147' '100' 'z_reihe'\n",
      " 'sportage' 'sorento' 'v40' 'ibiza' 'mustang' 'eos' 'touran' 'getz' 'a3'\n",
      " 'almera' 'megane' 'lupo' 'r19' 'zafira' 'caddy' 'mondeo' 'cordoba' 'colt'\n",
      " 'impreza' 'vectra' 'berlingo' 'tiguan' 'i_reihe' 'espace' 'sharan'\n",
      " '6_reihe' 'panda' 'up' 'seicento' 'ceed' '5_reihe' 'yeti' 'octavia' 'mii'\n",
      " 'rx_reihe' '6er' 'modus' 'fox' 'matiz' 'beetle' 'c1' 'rio' 'touareg'\n",
      " 'logan' 'spider' 'cuore' 's_max' 'a2' 'galaxy' 'c3' 'viano' 's_klasse'\n",
      " '1_reihe' 'avensis' 'roomster' 'sl' 'kaefer' 'santa' 'cooper' 'leon'\n",
      " '4_reihe' 'a5' '500' 'laguna' 'ptcruiser' 'clk' 'primera' 'x_reihe'\n",
      " 'exeo' '159' 'transit' 'juke' 'qashqai' 'carisma' 'accord' 'corolla'\n",
      " 'lanos' 'phaeton' 'verso' 'swift' 'rav' 'picanto' 'boxster' 'kalos'\n",
      " 'superb' 'stilo' 'alhambra' 'mx_reihe' 'roadster' 'ypsilon' 'cayenne'\n",
      " 'galant' 'justy' '90' 'sirion' 'crossfire' 'agila' 'duster' 'cr_reihe'\n",
      " 'v50' 'c_reihe' 'v_klasse' 'm_klasse' 'yaris' 'c5' 'aygo' 'cc' 'carnival'\n",
      " 'fusion' '911' 'bora' 'forfour' 'm_reihe' 'cl' 'tigra' '300c' 'spark'\n",
      " 'v70' 'kuga' 'x_type' 'ducato' 's_type' 'x_trail' 'toledo' 'altea'\n",
      " 'voyager' 'calibra' 'bravo' 'antara' 'tucson' 'citigo' 'jimny' 'wrangler'\n",
      " 'lybra' 'q7' 'lancer' 'captiva' 'c2' 'discovery' 'freelander' 'sandero'\n",
      " 'note' '900' 'cherokee' 'clubman' 'samara' 'defender' '601' 'cx_reihe'\n",
      " 'legacy' 'pajero' 'auris' 'niva' 's60' 'nubira' 'vivaro' 'g_klasse'\n",
      " 'lodgy' '850' 'range_rover' 'q3' 'serie_2' 'glk' 'charade' 'croma'\n",
      " 'outlander' 'doblo' 'musa' 'move' '9000' 'v60' '145' 'aveo' '200' 'b_max'\n",
      " 'range_rover_sport' 'terios' 'rangerover' 'q5' 'range_rover_evoque'\n",
      " 'materia' 'delta' 'gl' 'kalina' 'amarok' 'elefantino' 'i3' 'kappa'\n",
      " 'serie_3' 'serie_1']\n",
      "\n",
      "Значения типа топлива: ['petrol' 'gasoline' nan 'lpg' 'other' 'hybrid' 'cng' 'electric']\n",
      "\n",
      "Значения столбца repaired: [nan 'yes' 'no']\n"
     ]
    }
   ],
   "source": [
    "# посмотрим какие значения содержат столбцы с пропусками\n",
    "print('Значения типа автомобильного кузова:', df['vehicle_type'].unique())\n",
    "print()\n",
    "print('Значения типа коробки передач:', df['gearbox'].unique())\n",
    "print()\n",
    "print('Значения модели автомобиля:', df['model'].unique())\n",
    "print()\n",
    "print('Значения типа топлива:', df['fuel_type'].unique())\n",
    "print()\n",
    "print('Значения столбца repaired:', df['repaired'].unique())"
   ]
  },
  {
   "cell_type": "code",
   "execution_count": 9,
   "metadata": {},
   "outputs": [],
   "source": [
    "# заполним пропуски в 3-х категориальных столбцах на 'other'\n",
    "df['vehicle_type'] = df['vehicle_type'].fillna('other')\n",
    "df['model'] = df['model'].fillna('other')\n",
    "df['fuel_type'] = df['fuel_type'].fillna('other')"
   ]
  },
  {
   "cell_type": "code",
   "execution_count": 10,
   "metadata": {},
   "outputs": [],
   "source": [
    "''' так как в столбцах 'gearbox' и 'repaired' присутствуют 2 значения (не считая пропусков), и пустые значения мы не знаем, чем \n",
    "заполнить, то лучшим вариантом будет их исключение из исследования.'''\n",
    "df = df.dropna() "
   ]
  },
  {
   "cell_type": "code",
   "execution_count": 11,
   "metadata": {},
   "outputs": [
    {
     "name": "stdout",
     "output_type": "stream",
     "text": [
      "<class 'pandas.core.frame.DataFrame'>\n",
      "Int64Index: 276170 entries, 1 to 354367\n",
      "Data columns (total 16 columns):\n",
      " #   Column              Non-Null Count   Dtype         \n",
      "---  ------              --------------   -----         \n",
      " 0   date_crawled        276170 non-null  datetime64[ns]\n",
      " 1   price               276170 non-null  int64         \n",
      " 2   vehicle_type        276170 non-null  object        \n",
      " 3   registration_year   276170 non-null  int64         \n",
      " 4   gearbox             276170 non-null  object        \n",
      " 5   power               276170 non-null  int64         \n",
      " 6   model               276170 non-null  object        \n",
      " 7   kilometer           276170 non-null  int64         \n",
      " 8   registration_month  276170 non-null  int64         \n",
      " 9   fuel_type           276170 non-null  object        \n",
      " 10  brand               276170 non-null  object        \n",
      " 11  repaired            276170 non-null  object        \n",
      " 12  date_created        276170 non-null  datetime64[ns]\n",
      " 13  number_of_pictures  276170 non-null  int64         \n",
      " 14  postal_code         276170 non-null  int64         \n",
      " 15  last_seen           276170 non-null  datetime64[ns]\n",
      "dtypes: datetime64[ns](3), int64(7), object(6)\n",
      "memory usage: 35.8+ MB\n"
     ]
    }
   ],
   "source": [
    "df.info()"
   ]
  },
  {
   "cell_type": "code",
   "execution_count": 12,
   "metadata": {},
   "outputs": [
    {
     "data": {
      "text/plain": [
       "4"
      ]
     },
     "execution_count": 12,
     "metadata": {},
     "output_type": "execute_result"
    }
   ],
   "source": [
    "# проверим датасет на дубликаты\n",
    "df.duplicated().sum()"
   ]
  },
  {
   "cell_type": "code",
   "execution_count": 13,
   "metadata": {},
   "outputs": [],
   "source": [
    "# удалим дубли из датасета\n",
    "df = df.drop_duplicates()"
   ]
  },
  {
   "cell_type": "code",
   "execution_count": 14,
   "metadata": {},
   "outputs": [
    {
     "data": {
      "text/plain": [
       "0"
      ]
     },
     "execution_count": 14,
     "metadata": {},
     "output_type": "execute_result"
    }
   ],
   "source": [
    "df.duplicated().sum()"
   ]
  },
  {
   "cell_type": "code",
   "execution_count": 15,
   "metadata": {},
   "outputs": [
    {
     "data": {
      "image/png": "[encoded data removed]",
      "text/plain": [
       "<Figure size 432x288 with 1 Axes>"
      ]
     },
     "metadata": {
      "needs_background": "light"
     },
     "output_type": "display_data"
    },
    {
     "data": {
      "image/png": "[encoded data removed]",
      "text/plain": [
       "<Figure size 432x288 with 1 Axes>"
      ]
     },
     "metadata": {
      "needs_background": "light"
     },
     "output_type": "display_data"
    },
    {
     "data": {
      "image/png": "[encoded data removed]",
      "text/plain": [
       "<Figure size 432x288 with 1 Axes>"
      ]
     },
     "metadata": {
      "needs_background": "light"
     },
     "output_type": "display_data"
    },
    {
     "data": {
      "image/png": "[encoded data removed]",
      "text/plain": [
       "<Figure size 432x288 with 1 Axes>"
      ]
     },
     "metadata": {
      "needs_background": "light"
     },
     "output_type": "display_data"
    },
    {
     "data": {
      "image/png": "[encoded data removed]",
      "text/plain": [
       "<Figure size 432x288 with 1 Axes>"
      ]
     },
     "metadata": {
      "needs_background": "light"
     },
     "output_type": "display_data"
    },
    {
     "data": {
      "image/png": "[encoded data removed]",
      "text/plain": [
       "<Figure size 432x288 with 1 Axes>"
      ]
     },
     "metadata": {
      "needs_background": "light"
     },
     "output_type": "display_data"
    },
    {
     "data": {
      "image/png": "[encoded data removed]",
      "text/plain": [
       "<Figure size 432x288 with 1 Axes>"
      ]
     },
     "metadata": {
      "needs_background": "light"
     },
     "output_type": "display_data"
    }
   ],
   "source": [
    "# теперь рассмотрим выбросы на графиках\n",
    "for col in ['price', 'registration_year', 'power', 'kilometer', 'registration_month', 'number_of_pictures', 'postal_code']:\n",
    "    df[col].plot.box()\n",
    "    plt.title(col)\n",
    "    plt.show()"
   ]
  },
  {
   "attachments": {},
   "cell_type": "markdown",
   "metadata": {},
   "source": [
    "Исходя из представленных графиков избавимся от выбросов по году регистрации, мощности и цене."
   ]
  },
  {
   "cell_type": "code",
   "execution_count": 16,
   "metadata": {},
   "outputs": [
    {
     "data": {
      "text/plain": [
       "Timestamp('2016-04-07 14:36:58')"
      ]
     },
     "execution_count": 16,
     "metadata": {},
     "output_type": "execute_result"
    }
   ],
   "source": [
    "# для установления корректного потолка года, найдем дату последнего скачивания заявления\n",
    "df['date_crawled'].max()"
   ]
  },
  {
   "cell_type": "code",
   "execution_count": 17,
   "metadata": {},
   "outputs": [],
   "source": [
    "# по информации из графиков уберем все выбросы в нашем датасете\n",
    "df = df.query('1950 < registration_year < 2023 and 50 < power < 600 and 100 < price')"
   ]
  },
  {
   "cell_type": "code",
   "execution_count": 18,
   "metadata": {},
   "outputs": [
    {
     "name": "stdout",
     "output_type": "stream",
     "text": [
      "<class 'pandas.core.frame.DataFrame'>\n",
      "Int64Index: 248307 entries, 1 to 354367\n",
      "Data columns (total 16 columns):\n",
      " #   Column              Non-Null Count   Dtype         \n",
      "---  ------              --------------   -----         \n",
      " 0   date_crawled        248307 non-null  datetime64[ns]\n",
      " 1   price               248307 non-null  int64         \n",
      " 2   vehicle_type        248307 non-null  object        \n",
      " 3   registration_year   248307 non-null  int64         \n",
      " 4   gearbox             248307 non-null  object        \n",
      " 5   power               248307 non-null  int64         \n",
      " 6   model               248307 non-null  object        \n",
      " 7   kilometer           248307 non-null  int64         \n",
      " 8   registration_month  248307 non-null  int64         \n",
      " 9   fuel_type           248307 non-null  object        \n",
      " 10  brand               248307 non-null  object        \n",
      " 11  repaired            248307 non-null  object        \n",
      " 12  date_created        248307 non-null  datetime64[ns]\n",
      " 13  number_of_pictures  248307 non-null  int64         \n",
      " 14  postal_code         248307 non-null  int64         \n",
      " 15  last_seen           248307 non-null  datetime64[ns]\n",
      "dtypes: datetime64[ns](3), int64(7), object(6)\n",
      "memory usage: 32.2+ MB\n"
     ]
    }
   ],
   "source": [
    "df.info()"
   ]
  },
  {
   "cell_type": "code",
   "execution_count": 19,
   "metadata": {},
   "outputs": [],
   "source": [
    "# теперь создадим столбцы отдельно день, месяц и год из столбца 'date_created'\n",
    "df['weekday'] = df['date_created'].dt.weekday\n",
    "df['month'] = df['date_created'].dt.month\n",
    "df['year'] = df['date_created'].dt.year"
   ]
  },
  {
   "cell_type": "code",
   "execution_count": 20,
   "metadata": {},
   "outputs": [],
   "source": [
    "# и удалим ненужные столбцы\n",
    "df = df.drop(['date_crawled', 'last_seen', 'date_created', 'registration_month', 'number_of_pictures', \n",
    "                  'postal_code'], axis=1)"
   ]
  },
  {
   "cell_type": "code",
   "execution_count": 21,
   "metadata": {},
   "outputs": [
    {
     "data": {
      "text/html": [
       "<div>\n",
       "<style scoped>\n",
       "    .dataframe tbody tr th:only-of-type {\n",
       "        vertical-align: middle;\n",
       "    }\n",
       "\n",
       "    .dataframe tbody tr th {\n",
       "        vertical-align: top;\n",
       "    }\n",
       "\n",
       "    .dataframe thead th {\n",
       "        text-align: right;\n",
       "    }\n",
       "</style>\n",
       "<table border=\"1\" class=\"dataframe\">\n",
       "  <thead>\n",
       "    <tr style=\"text-align: right;\">\n",
       "      <th></th>\n",
       "      <th>price</th>\n",
       "      <th>vehicle_type</th>\n",
       "      <th>registration_year</th>\n",
       "      <th>gearbox</th>\n",
       "      <th>power</th>\n",
       "      <th>model</th>\n",
       "      <th>kilometer</th>\n",
       "      <th>fuel_type</th>\n",
       "      <th>brand</th>\n",
       "      <th>repaired</th>\n",
       "      <th>weekday</th>\n",
       "      <th>month</th>\n",
       "      <th>year</th>\n",
       "    </tr>\n",
       "  </thead>\n",
       "  <tbody>\n",
       "    <tr>\n",
       "      <th>1</th>\n",
       "      <td>18300</td>\n",
       "      <td>coupe</td>\n",
       "      <td>2011</td>\n",
       "      <td>manual</td>\n",
       "      <td>190</td>\n",
       "      <td>other</td>\n",
       "      <td>125000</td>\n",
       "      <td>gasoline</td>\n",
       "      <td>audi</td>\n",
       "      <td>yes</td>\n",
       "      <td>3</td>\n",
       "      <td>3</td>\n",
       "      <td>2016</td>\n",
       "    </tr>\n",
       "    <tr>\n",
       "      <th>3</th>\n",
       "      <td>1500</td>\n",
       "      <td>small</td>\n",
       "      <td>2001</td>\n",
       "      <td>manual</td>\n",
       "      <td>75</td>\n",
       "      <td>golf</td>\n",
       "      <td>150000</td>\n",
       "      <td>petrol</td>\n",
       "      <td>volkswagen</td>\n",
       "      <td>no</td>\n",
       "      <td>3</td>\n",
       "      <td>3</td>\n",
       "      <td>2016</td>\n",
       "    </tr>\n",
       "    <tr>\n",
       "      <th>4</th>\n",
       "      <td>3600</td>\n",
       "      <td>small</td>\n",
       "      <td>2008</td>\n",
       "      <td>manual</td>\n",
       "      <td>69</td>\n",
       "      <td>fabia</td>\n",
       "      <td>90000</td>\n",
       "      <td>gasoline</td>\n",
       "      <td>skoda</td>\n",
       "      <td>no</td>\n",
       "      <td>3</td>\n",
       "      <td>3</td>\n",
       "      <td>2016</td>\n",
       "    </tr>\n",
       "    <tr>\n",
       "      <th>5</th>\n",
       "      <td>650</td>\n",
       "      <td>sedan</td>\n",
       "      <td>1995</td>\n",
       "      <td>manual</td>\n",
       "      <td>102</td>\n",
       "      <td>3er</td>\n",
       "      <td>150000</td>\n",
       "      <td>petrol</td>\n",
       "      <td>bmw</td>\n",
       "      <td>yes</td>\n",
       "      <td>0</td>\n",
       "      <td>4</td>\n",
       "      <td>2016</td>\n",
       "    </tr>\n",
       "    <tr>\n",
       "      <th>6</th>\n",
       "      <td>2200</td>\n",
       "      <td>convertible</td>\n",
       "      <td>2004</td>\n",
       "      <td>manual</td>\n",
       "      <td>109</td>\n",
       "      <td>2_reihe</td>\n",
       "      <td>150000</td>\n",
       "      <td>petrol</td>\n",
       "      <td>peugeot</td>\n",
       "      <td>no</td>\n",
       "      <td>4</td>\n",
       "      <td>4</td>\n",
       "      <td>2016</td>\n",
       "    </tr>\n",
       "  </tbody>\n",
       "</table>\n",
       "</div>"
      ],
      "text/plain": [
       "   price vehicle_type  registration_year gearbox  power    model  kilometer  \\\n",
       "1  18300        coupe               2011  manual    190    other     125000   \n",
       "3   1500        small               2001  manual     75     golf     150000   \n",
       "4   3600        small               2008  manual     69    fabia      90000   \n",
       "5    650        sedan               1995  manual    102      3er     150000   \n",
       "6   2200  convertible               2004  manual    109  2_reihe     150000   \n",
       "\n",
       "  fuel_type       brand repaired  weekday  month  year  \n",
       "1  gasoline        audi      yes        3      3  2016  \n",
       "3    petrol  volkswagen       no        3      3  2016  \n",
       "4  gasoline       skoda       no        3      3  2016  \n",
       "5    petrol         bmw      yes        0      4  2016  \n",
       "6    petrol     peugeot       no        4      4  2016  "
      ]
     },
     "execution_count": 21,
     "metadata": {},
     "output_type": "execute_result"
    }
   ],
   "source": [
    "df.head()"
   ]
  },
  {
   "attachments": {},
   "cell_type": "markdown",
   "metadata": {},
   "source": [
    "**Вывод:** Нам удалось установить, что в представленном датасете есть много пропусков, выбросов, неверные типы данных, неправильные названия столбцов. После проведенной очистки данных мы получили датасет готовый к проведению дальнейшего исследования и построению моделей машинного обучения."
   ]
  },
  {
   "attachments": {},
   "cell_type": "markdown",
   "metadata": {},
   "source": [
    "## Обучение моделей"
   ]
  },
  {
   "cell_type": "code",
   "execution_count": 24,
   "metadata": {},
   "outputs": [
    {
     "name": "stdout",
     "output_type": "stream",
     "text": [
      "<class 'pandas.core.frame.DataFrame'>\n",
      "Int64Index: 248307 entries, 1 to 354367\n",
      "Data columns (total 13 columns):\n",
      " #   Column             Non-Null Count   Dtype \n",
      "---  ------             --------------   ----- \n",
      " 0   price              248307 non-null  int64 \n",
      " 1   vehicle_type       248307 non-null  object\n",
      " 2   registration_year  248307 non-null  int64 \n",
      " 3   gearbox            248307 non-null  object\n",
      " 4   power              248307 non-null  int64 \n",
      " 5   model              248307 non-null  object\n",
      " 6   kilometer          248307 non-null  int64 \n",
      " 7   fuel_type          248307 non-null  object\n",
      " 8   brand              248307 non-null  object\n",
      " 9   repaired           248307 non-null  object\n",
      " 10  weekday            248307 non-null  int64 \n",
      " 11  month              248307 non-null  int64 \n",
      " 12  year               248307 non-null  int64 \n",
      "dtypes: int64(7), object(6)\n",
      "memory usage: 26.5+ MB\n"
     ]
    }
   ],
   "source": [
    "df.info()"
   ]
  },
  {
   "cell_type": "code",
   "execution_count": 25,
   "metadata": {},
   "outputs": [],
   "source": [
    "# теперь выделим целевой признак\n",
    "features = df.drop('price', axis=1)\n",
    "target = df['price']"
   ]
  },
  {
   "cell_type": "code",
   "execution_count": 26,
   "metadata": {},
   "outputs": [],
   "source": [
    "# теперь разделим данные на обучающую и тестовую выборки \n",
    "features_train, features_valid, target_train, target_valid = train_test_split(features, target, test_size=0.4, random_state=25)\n",
    "features_valid, features_test, target_valid, target_test = train_test_split(features_valid, target_valid, test_size=0.5, random_state=25)"
   ]
  },
  {
   "cell_type": "code",
   "execution_count": 27,
   "metadata": {},
   "outputs": [
    {
     "name": "stdout",
     "output_type": "stream",
     "text": [
      "(148984,)\n",
      "(49661,)\n",
      "(49662,)\n"
     ]
    }
   ],
   "source": [
    "print(target_train.shape)\n",
    "print(target_valid.shape)\n",
    "print(target_test.shape)"
   ]
  },
  {
   "cell_type": "code",
   "execution_count": 28,
   "metadata": {},
   "outputs": [],
   "source": [
    "# прямое кодирование\n",
    "encoder = OrdinalEncoder()\n",
    "categorical = df.select_dtypes(include='object').columns.to_list() + ['weekday', 'month', 'year']\n",
    "cat_features = features_train[categorical]\n",
    "cat_features = pd.DataFrame(encoder.fit_transform(cat_features),\n",
    "                                columns=cat_features.columns, \n",
    "                                index=cat_features.index)\n",
    "features_train = features_train.copy()\n",
    "for column in categorical:\n",
    "    features_train[column] = cat_features[column]\n",
    "    \n",
    "cat_features_v = features_valid[categorical]\n",
    "cat_features_v = pd.DataFrame(encoder.transform(cat_features_v),\n",
    "                                columns=cat_features_v.columns, \n",
    "                                index=cat_features_v.index)\n",
    "features_valid = features_valid.copy()\n",
    "for column in categorical:\n",
    "    features_valid[column] = cat_features_v[column]\n",
    "    \n",
    "cat_features_t = features_test[categorical]\n",
    "cat_features_t = pd.DataFrame(encoder.transform(cat_features_t),\n",
    "                                columns=cat_features_t.columns, \n",
    "                                index=cat_features_t.index)\n",
    "features_test = features_test.copy()\n",
    "for column in categorical:\n",
    "    features_test[column] = cat_features_t[column]\n",
    "\n",
    "# OHE кодирование\n",
    "ohe_features_train = pd.get_dummies(features_train, drop_first=True)\n",
    "ohe_features_valid = pd.get_dummies(features_valid, drop_first=True)\n",
    "ohe_features_test = pd.get_dummies(features_test, drop_first=True)"
   ]
  },
  {
   "attachments": {},
   "cell_type": "markdown",
   "metadata": {},
   "source": [
    "### Модель LightGBM "
   ]
  },
  {
   "cell_type": "code",
   "execution_count": 29,
   "metadata": {},
   "outputs": [],
   "source": [
    "parameters_lgbm = {'max_depth':[1, 30], 'learning_rate':[0.1, 0.3, 0.5],\n",
    "                'random_state':[25], 'class_weight': ['balanced', None]}\n",
    "model_lgbm = LGBMRegressor()\n",
    "grid_lgbm = GridSearchCV(estimator=model_lgbm, param_grid=parameters_lgbm, cv=5)"
   ]
  },
  {
   "cell_type": "code",
   "execution_count": 30,
   "metadata": {},
   "outputs": [
    {
     "name": "stdout",
     "output_type": "stream",
     "text": [
      "CPU times: user 40min 20s, sys: 23 s, total: 40min 43s\n",
      "Wall time: 40min 55s\n"
     ]
    },
    {
     "data": {
      "text/plain": [
       "GridSearchCV(cv=5, estimator=LGBMRegressor(),\n",
       "             param_grid={'class_weight': ['balanced', None],\n",
       "                         'learning_rate': [0.1, 0.3, 0.5], 'max_depth': [1, 30],\n",
       "                         'random_state': [25]})"
      ]
     },
     "execution_count": 30,
     "metadata": {},
     "output_type": "execute_result"
    }
   ],
   "source": [
    "%%time\n",
    "\n",
    "# проверим скорость обучения модели LightGBM \n",
    "grid_lgbm.fit(features_train, target_train)"
   ]
  },
  {
   "cell_type": "code",
   "execution_count": 31,
   "metadata": {},
   "outputs": [
    {
     "name": "stdout",
     "output_type": "stream",
     "text": [
      "CPU times: user 292 ms, sys: 0 ns, total: 292 ms\n",
      "Wall time: 199 ms\n"
     ]
    }
   ],
   "source": [
    "%%time\n",
    "\n",
    "# проверим скорость предсказания модели LightGBM\n",
    "\n",
    "predict_lgbm = grid_lgbm.predict(features_valid)"
   ]
  },
  {
   "cell_type": "code",
   "execution_count": 33,
   "metadata": {},
   "outputs": [
    {
     "name": "stdout",
     "output_type": "stream",
     "text": [
      "RMSE модели LightGBM: 1657.3192543903629\n"
     ]
    }
   ],
   "source": [
    "# проверим качество предсказания RMSE модели LightGBM\n",
    "print('RMSE модели LightGBM:', mean_squared_error(target_valid, predict_lgbm)**(.5))"
   ]
  },
  {
   "attachments": {},
   "cell_type": "markdown",
   "metadata": {},
   "source": [
    "### Модель LinearRegression"
   ]
  },
  {
   "cell_type": "code",
   "execution_count": 34,
   "metadata": {},
   "outputs": [],
   "source": [
    "parameters_LR = {'normalize':[True,False], 'fit_intercept':[True,False]}\n",
    "model_LR = LinearRegression()\n",
    "grid_LR = GridSearchCV(estimator=model_LR, param_grid=parameters_LR, cv=5)"
   ]
  },
  {
   "cell_type": "code",
   "execution_count": 35,
   "metadata": {},
   "outputs": [
    {
     "name": "stdout",
     "output_type": "stream",
     "text": [
      "CPU times: user 1.76 s, sys: 2.68 s, total: 4.44 s\n",
      "Wall time: 4.39 s\n"
     ]
    },
    {
     "data": {
      "text/plain": [
       "GridSearchCV(cv=5, estimator=LinearRegression(),\n",
       "             param_grid={'fit_intercept': [True, False],\n",
       "                         'normalize': [True, False]})"
      ]
     },
     "execution_count": 35,
     "metadata": {},
     "output_type": "execute_result"
    }
   ],
   "source": [
    "%%time\n",
    "\n",
    "# проверим скорость обучения модели LinearRegression\n",
    "grid_LR.fit(ohe_features_train, target_train)"
   ]
  },
  {
   "cell_type": "code",
   "execution_count": 36,
   "metadata": {},
   "outputs": [
    {
     "name": "stdout",
     "output_type": "stream",
     "text": [
      "CPU times: user 30.6 ms, sys: 4.03 ms, total: 34.7 ms\n",
      "Wall time: 27.6 ms\n"
     ]
    }
   ],
   "source": [
    "%%time\n",
    "\n",
    "# проверим скорость предсказания модели LinearRegression\n",
    "\n",
    "predict_lr = grid_LR.predict(ohe_features_valid)"
   ]
  },
  {
   "cell_type": "code",
   "execution_count": 37,
   "metadata": {},
   "outputs": [
    {
     "name": "stdout",
     "output_type": "stream",
     "text": [
      "RMSE модели LinearRegression: 2956.393088253965\n"
     ]
    }
   ],
   "source": [
    "# проверим качество предсказания RMSE модели LinearRegression\n",
    "print('RMSE модели LinearRegression:', mean_squared_error(target_valid, predict_lr)**(.5))"
   ]
  },
  {
   "attachments": {},
   "cell_type": "markdown",
   "metadata": {},
   "source": [
    "### Модель RandomForestRegressor"
   ]
  },
  {
   "cell_type": "code",
   "execution_count": 38,
   "metadata": {},
   "outputs": [],
   "source": [
    "parameters_RFR = {'n_estimators':[1, 100], 'max_depth':[1, 30], \n",
    "                  'random_state':[25]}\n",
    "model_RFR = RandomForestRegressor()\n",
    "grid_RFR = GridSearchCV(estimator=model_RFR, param_grid=parameters_RFR, cv=5)"
   ]
  },
  {
   "cell_type": "code",
   "execution_count": 39,
   "metadata": {},
   "outputs": [
    {
     "name": "stdout",
     "output_type": "stream",
     "text": [
      "CPU times: user 3min 50s, sys: 6.82 s, total: 3min 57s\n",
      "Wall time: 3min 57s\n"
     ]
    },
    {
     "data": {
      "text/plain": [
       "GridSearchCV(cv=5, estimator=RandomForestRegressor(),\n",
       "             param_grid={'max_depth': [1, 30], 'n_estimators': [1, 100],\n",
       "                         'random_state': [25]})"
      ]
     },
     "execution_count": 39,
     "metadata": {},
     "output_type": "execute_result"
    }
   ],
   "source": [
    "%%time\n",
    "\n",
    "# проверим скорость обучения модели RandomForestRegressor\n",
    "grid_RFR.fit(features_train, target_train)"
   ]
  },
  {
   "cell_type": "code",
   "execution_count": 40,
   "metadata": {},
   "outputs": [
    {
     "name": "stdout",
     "output_type": "stream",
     "text": [
      "CPU times: user 2.5 s, sys: 19.9 ms, total: 2.52 s\n",
      "Wall time: 2.52 s\n"
     ]
    }
   ],
   "source": [
    "%%time\n",
    "\n",
    "# проверим скорость предсказания модели RandomForestRegressor\n",
    "\n",
    "predict_rfr = grid_RFR.predict(features_valid)"
   ]
  },
  {
   "cell_type": "code",
   "execution_count": 41,
   "metadata": {},
   "outputs": [
    {
     "name": "stdout",
     "output_type": "stream",
     "text": [
      "RMSE модели RandomForestRegressor: 1668.2472116192107\n"
     ]
    }
   ],
   "source": [
    "# проверим качество предсказания RMSE модели RandomForestRegressor\n",
    "print('RMSE модели RandomForestRegressor:', mean_squared_error(target_valid, predict_rfr)**(.5))"
   ]
  },
  {
   "attachments": {},
   "cell_type": "markdown",
   "metadata": {},
   "source": [
    "### Модель DecisionTreeRegressor"
   ]
  },
  {
   "cell_type": "code",
   "execution_count": 42,
   "metadata": {},
   "outputs": [],
   "source": [
    "parameters_DTR = {'max_depth':[1,30], 'random_state':[25]}\n",
    "model_DTR = DecisionTreeRegressor()\n",
    "grid_DTR = GridSearchCV(estimator=model_DTR, param_grid=parameters_DTR, cv=5)"
   ]
  },
  {
   "cell_type": "code",
   "execution_count": 43,
   "metadata": {},
   "outputs": [
    {
     "name": "stdout",
     "output_type": "stream",
     "text": [
      "CPU times: user 3.79 s, sys: 35.9 ms, total: 3.83 s\n",
      "Wall time: 3.83 s\n"
     ]
    },
    {
     "data": {
      "text/plain": [
       "GridSearchCV(cv=5, estimator=DecisionTreeRegressor(),\n",
       "             param_grid={'max_depth': [1, 30], 'random_state': [25]})"
      ]
     },
     "execution_count": 43,
     "metadata": {},
     "output_type": "execute_result"
    }
   ],
   "source": [
    "%%time\n",
    "\n",
    "# проверим скорость обучения модели DecisionTreeRegressor\n",
    "grid_DTR.fit(features_train, target_train)"
   ]
  },
  {
   "cell_type": "code",
   "execution_count": 44,
   "metadata": {},
   "outputs": [
    {
     "name": "stdout",
     "output_type": "stream",
     "text": [
      "CPU times: user 31.2 ms, sys: 41 µs, total: 31.3 ms\n",
      "Wall time: 29.4 ms\n"
     ]
    }
   ],
   "source": [
    "%%time\n",
    "\n",
    "# проверим скорость предсказания модели DecisionTreeRegressor\n",
    "\n",
    "predict_dtr = grid_DTR.predict(features_valid)"
   ]
  },
  {
   "cell_type": "code",
   "execution_count": 45,
   "metadata": {},
   "outputs": [
    {
     "name": "stdout",
     "output_type": "stream",
     "text": [
      "RMSE модели DecisionTreeRegressor: 2164.188493739665\n"
     ]
    }
   ],
   "source": [
    "# проверим качество предсказания RMSE модели DecisionTreeRegressor\n",
    "print('RMSE модели DecisionTreeRegressor:', mean_squared_error(target_valid, predict_dtr)**(.5))"
   ]
  },
  {
   "attachments": {},
   "cell_type": "markdown",
   "metadata": {},
   "source": [
    "**Вывод:** На основе очищенного датасета нам удалось построить 4-ре модели машинного обучения, каждая из которых демонстрирует различные показатели по скорости обучения, скорости предсказания и оценки RMSE."
   ]
  },
  {
   "attachments": {},
   "cell_type": "markdown",
   "metadata": {},
   "source": [
    "## Анализ моделей"
   ]
  },
  {
   "cell_type": "code",
   "execution_count": 46,
   "metadata": {},
   "outputs": [],
   "source": [
    "# запишем получившиеся результаты\n",
    "data = [['40min 55s', '199 ms', 1657.32],\n",
    "        ['4.39 s', '27.6 ms', 2956.39],\n",
    "        ['3min 57s', '2.52 s', 1668.25],\n",
    "        ['3.83 s', '29.4 ms', 2164.19]]\n",
    "models = ['LightGBM', 'LinearRegression', 'RandomForestRegressor', 'DecisionTreeRegressor']"
   ]
  },
  {
   "cell_type": "code",
   "execution_count": 47,
   "metadata": {},
   "outputs": [
    {
     "data": {
      "text/html": [
       "<div>\n",
       "<style scoped>\n",
       "    .dataframe tbody tr th:only-of-type {\n",
       "        vertical-align: middle;\n",
       "    }\n",
       "\n",
       "    .dataframe tbody tr th {\n",
       "        vertical-align: top;\n",
       "    }\n",
       "\n",
       "    .dataframe thead th {\n",
       "        text-align: right;\n",
       "    }\n",
       "</style>\n",
       "<table border=\"1\" class=\"dataframe\">\n",
       "  <thead>\n",
       "    <tr style=\"text-align: right;\">\n",
       "      <th></th>\n",
       "      <th>Время обучения</th>\n",
       "      <th>Скорость предсказания</th>\n",
       "      <th>Оценка RMSE</th>\n",
       "    </tr>\n",
       "  </thead>\n",
       "  <tbody>\n",
       "    <tr>\n",
       "      <th>LightGBM</th>\n",
       "      <td>40min 55s</td>\n",
       "      <td>199 ms</td>\n",
       "      <td>1657.32</td>\n",
       "    </tr>\n",
       "    <tr>\n",
       "      <th>LinearRegression</th>\n",
       "      <td>4.39 s</td>\n",
       "      <td>27.6 ms</td>\n",
       "      <td>2956.39</td>\n",
       "    </tr>\n",
       "    <tr>\n",
       "      <th>RandomForestRegressor</th>\n",
       "      <td>3min 57s</td>\n",
       "      <td>2.52 s</td>\n",
       "      <td>1668.25</td>\n",
       "    </tr>\n",
       "    <tr>\n",
       "      <th>DecisionTreeRegressor</th>\n",
       "      <td>3.83 s</td>\n",
       "      <td>29.4 ms</td>\n",
       "      <td>2164.19</td>\n",
       "    </tr>\n",
       "  </tbody>\n",
       "</table>\n",
       "</div>"
      ],
      "text/plain": [
       "                      Время обучения Скорость предсказания  Оценка RMSE\n",
       "LightGBM                   40min 55s                199 ms      1657.32\n",
       "LinearRegression              4.39 s               27.6 ms      2956.39\n",
       "RandomForestRegressor       3min 57s                2.52 s      1668.25\n",
       "DecisionTreeRegressor         3.83 s               29.4 ms      2164.19"
      ]
     },
     "execution_count": 47,
     "metadata": {},
     "output_type": "execute_result"
    }
   ],
   "source": [
    "# построим таблицу с нашими значениями\n",
    "pd.DataFrame(data=data, index=models, columns=['Время обучения', 'Скорость предсказания', 'Оценка RMSE'])"
   ]
  },
  {
   "cell_type": "code",
   "execution_count": 48,
   "metadata": {},
   "outputs": [],
   "source": [
    "# проверим модель на тестовой выборке\n",
    "predict_rfr = grid_RFR.predict(features_test)"
   ]
  },
  {
   "cell_type": "code",
   "execution_count": 49,
   "metadata": {},
   "outputs": [
    {
     "name": "stdout",
     "output_type": "stream",
     "text": [
      "RMSE модели RandomForestRegressor: 1651.9432084834955\n"
     ]
    }
   ],
   "source": [
    "# проверим качество предсказания RMSE модели RandomForestRegressor на тестовой выборке\n",
    "print('RMSE модели RandomForestRegressor:', mean_squared_error(target_test, predict_rfr)**(.5))"
   ]
  },
  {
   "attachments": {},
   "cell_type": "markdown",
   "metadata": {},
   "source": [
    "На тестовой выборке модель RandomForestRegressor показала схожий результат RMSE. Модель не переобучена, можно брать в работу."
   ]
  },
  {
   "attachments": {},
   "cell_type": "markdown",
   "metadata": {},
   "source": [
    "**Вывод:** Мы видим, что самой лучшей по качеству предсказания оказалась модель RandomForestRegressor, самой худшей - модель LinearRegression. При этом, по времени обучения RandomForestRegressor является самой долгой, а самой быстрой - модель DecisionTreeRegressor."
   ]
  },
  {
   "attachments": {},
   "cell_type": "markdown",
   "metadata": {},
   "source": [
    "## Общий вывод"
   ]
  },
  {
   "attachments": {},
   "cell_type": "markdown",
   "metadata": {},
   "source": [
    "*Модели LightGBM и RandomForestRegressor\tпоказывают лучший результат оценки RMSE, но долго обучаются. А модели LinearRegression и DecisionTreeRegressor наоборот: быстро учаться, но оценка RMSE сравнительно велика. Поэтому если для клиента не так важна скорость обучения, как оценка RMSE, то рекомендуем использовать модель LightGBM или RandomForestRegressor.*"
   ]
  }
 ],
 "metadata": {
  "ExecuteTimeLog": [
   {
    "duration": 1545,
    "start_time": "2023-02-27T11:22:23.813Z"
   },
   {
    "duration": 2949,
    "start_time": "2023-02-27T11:23:15.702Z"
   },
   {
    "duration": 4,
    "start_time": "2023-02-27T11:24:15.127Z"
   },
   {
    "duration": 1182,
    "start_time": "2023-02-27T11:24:47.072Z"
   },
   {
    "duration": 64,
    "start_time": "2023-02-27T11:31:21.809Z"
   },
   {
    "duration": 259,
    "start_time": "2023-02-27T11:32:32.687Z"
   },
   {
    "duration": 98,
    "start_time": "2023-02-27T11:33:46.960Z"
   },
   {
    "duration": 1040,
    "start_time": "2023-02-27T11:35:09.669Z"
   },
   {
    "duration": 863,
    "start_time": "2023-02-27T11:35:52.839Z"
   },
   {
    "duration": 5,
    "start_time": "2023-02-27T11:41:34.934Z"
   },
   {
    "duration": 818,
    "start_time": "2023-02-27T11:41:34.942Z"
   },
   {
    "duration": 3,
    "start_time": "2023-02-27T11:41:35.762Z"
   },
   {
    "duration": 1215,
    "start_time": "2023-02-27T11:41:35.767Z"
   },
   {
    "duration": 45,
    "start_time": "2023-02-27T11:41:36.984Z"
   },
   {
    "duration": 251,
    "start_time": "2023-02-27T11:41:37.031Z"
   },
   {
    "duration": 87,
    "start_time": "2023-02-27T11:41:37.283Z"
   },
   {
    "duration": 935,
    "start_time": "2023-02-27T11:41:37.372Z"
   },
   {
    "duration": 83,
    "start_time": "2023-02-27T11:42:33.113Z"
   },
   {
    "duration": 83,
    "start_time": "2023-02-27T11:42:50.078Z"
   },
   {
    "duration": 52,
    "start_time": "2023-02-27T11:44:26.621Z"
   },
   {
    "duration": 139,
    "start_time": "2023-02-27T11:48:33.312Z"
   },
   {
    "duration": 111,
    "start_time": "2023-02-27T11:48:51.030Z"
   },
   {
    "duration": 221,
    "start_time": "2023-02-27T11:49:49.296Z"
   },
   {
    "duration": 250,
    "start_time": "2023-02-27T11:50:36.997Z"
   },
   {
    "duration": 198,
    "start_time": "2023-02-27T11:50:46.682Z"
   },
   {
    "duration": 849,
    "start_time": "2023-02-27T11:52:05.284Z"
   },
   {
    "duration": 6,
    "start_time": "2023-02-27T12:16:45.579Z"
   },
   {
    "duration": 6,
    "start_time": "2023-02-27T12:17:24.391Z"
   },
   {
    "duration": 23,
    "start_time": "2023-02-27T12:18:28.855Z"
   },
   {
    "duration": 45,
    "start_time": "2023-02-27T12:20:12.306Z"
   },
   {
    "duration": 40,
    "start_time": "2023-02-27T12:22:30.092Z"
   },
   {
    "duration": 16,
    "start_time": "2023-02-27T12:24:04.603Z"
   },
   {
    "duration": 42,
    "start_time": "2023-02-27T12:24:18.656Z"
   },
   {
    "duration": 18,
    "start_time": "2023-02-27T12:36:07.215Z"
   },
   {
    "duration": 180,
    "start_time": "2023-02-27T12:37:47.287Z"
   },
   {
    "duration": 35,
    "start_time": "2023-02-27T12:40:52.516Z"
   },
   {
    "duration": 5,
    "start_time": "2023-02-27T12:43:22.009Z"
   },
   {
    "duration": 4,
    "start_time": "2023-02-27T12:43:46.114Z"
   },
   {
    "duration": 273624,
    "start_time": "2023-02-27T12:44:21.818Z"
   },
   {
    "duration": 207,
    "start_time": "2023-02-27T12:54:49.613Z"
   },
   {
    "duration": 5,
    "start_time": "2023-02-27T12:56:46.018Z"
   },
   {
    "duration": 8242,
    "start_time": "2023-02-27T12:59:13.596Z"
   },
   {
    "duration": 11,
    "start_time": "2023-02-27T13:00:31.062Z"
   },
   {
    "duration": 5,
    "start_time": "2023-02-27T13:02:45.086Z"
   },
   {
    "duration": 329394,
    "start_time": "2023-02-27T13:05:04.335Z"
   },
   {
    "duration": 1112,
    "start_time": "2023-02-27T13:10:42.721Z"
   },
   {
    "duration": 6,
    "start_time": "2023-02-27T13:10:47.337Z"
   },
   {
    "duration": 4602,
    "start_time": "2023-02-27T13:12:36.933Z"
   },
   {
    "duration": 25,
    "start_time": "2023-02-27T13:13:51.607Z"
   },
   {
    "duration": 5,
    "start_time": "2023-02-27T13:15:06.395Z"
   },
   {
    "duration": 3,
    "start_time": "2023-02-27T13:25:12.883Z"
   },
   {
    "duration": 9,
    "start_time": "2023-02-27T13:26:39.828Z"
   },
   {
    "duration": 54,
    "start_time": "2023-02-28T08:53:15.534Z"
   },
   {
    "duration": 1534,
    "start_time": "2023-02-28T11:58:23.437Z"
   },
   {
    "duration": 2985,
    "start_time": "2023-02-28T11:58:24.973Z"
   },
   {
    "duration": 5,
    "start_time": "2023-02-28T11:58:27.960Z"
   },
   {
    "duration": 1177,
    "start_time": "2023-02-28T11:58:27.967Z"
   },
   {
    "duration": 62,
    "start_time": "2023-02-28T11:58:29.148Z"
   },
   {
    "duration": 289,
    "start_time": "2023-02-28T11:58:29.212Z"
   },
   {
    "duration": 85,
    "start_time": "2023-02-28T11:58:29.503Z"
   },
   {
    "duration": 102,
    "start_time": "2023-02-28T11:58:29.589Z"
   },
   {
    "duration": 73,
    "start_time": "2023-02-28T11:58:29.694Z"
   },
   {
    "duration": 134,
    "start_time": "2023-02-28T11:58:29.769Z"
   },
   {
    "duration": 87,
    "start_time": "2023-02-28T11:58:29.906Z"
   },
   {
    "duration": 286,
    "start_time": "2023-02-28T11:58:29.995Z"
   },
   {
    "duration": 216,
    "start_time": "2023-02-28T11:58:30.282Z"
   },
   {
    "duration": 205,
    "start_time": "2023-02-28T11:58:30.500Z"
   },
   {
    "duration": 794,
    "start_time": "2023-02-28T11:58:35.428Z"
   },
   {
    "duration": 5,
    "start_time": "2023-02-28T11:58:48.853Z"
   },
   {
    "duration": 26,
    "start_time": "2023-02-28T12:03:56.306Z"
   },
   {
    "duration": 71,
    "start_time": "2023-02-28T12:04:13.867Z"
   },
   {
    "duration": 65,
    "start_time": "2023-02-28T12:16:28.601Z"
   },
   {
    "duration": 72,
    "start_time": "2023-02-28T12:16:43.215Z"
   },
   {
    "duration": 31,
    "start_time": "2023-02-28T12:16:55.729Z"
   },
   {
    "duration": 4,
    "start_time": "2023-02-28T12:17:18.076Z"
   },
   {
    "duration": 16,
    "start_time": "2023-02-28T12:17:38.711Z"
   },
   {
    "duration": 11,
    "start_time": "2023-02-28T12:17:45.220Z"
   },
   {
    "duration": 12,
    "start_time": "2023-02-28T12:17:55.507Z"
   },
   {
    "duration": 3,
    "start_time": "2023-02-28T12:29:56.107Z"
   },
   {
    "duration": 72,
    "start_time": "2023-02-28T12:31:54.296Z"
   },
   {
    "duration": 125,
    "start_time": "2023-02-28T12:44:16.391Z"
   },
   {
    "duration": 500,
    "start_time": "2023-02-28T12:44:53.168Z"
   },
   {
    "duration": 14,
    "start_time": "2023-02-28T12:45:22.976Z"
   },
   {
    "duration": 14,
    "start_time": "2023-02-28T12:45:56.328Z"
   },
   {
    "duration": 87,
    "start_time": "2023-02-28T12:58:50.282Z"
   },
   {
    "duration": 131,
    "start_time": "2023-02-28T12:59:12.936Z"
   },
   {
    "duration": 4,
    "start_time": "2023-02-28T13:07:45.457Z"
   },
   {
    "duration": 2264026,
    "start_time": "2023-02-28T13:08:53.532Z"
   },
   {
    "duration": 8,
    "start_time": "2023-02-28T13:50:25.123Z"
   },
   {
    "duration": 340,
    "start_time": "2023-02-28T13:53:45.912Z"
   },
   {
    "duration": 308,
    "start_time": "2023-02-28T13:54:04.043Z"
   },
   {
    "duration": 5,
    "start_time": "2023-02-28T13:56:59.596Z"
   },
   {
    "duration": 3,
    "start_time": "2023-02-28T13:57:55.601Z"
   },
   {
    "duration": 4,
    "start_time": "2023-02-28T14:00:56.366Z"
   },
   {
    "duration": 4934,
    "start_time": "2023-02-28T14:02:00.418Z"
   },
   {
    "duration": 9,
    "start_time": "2023-02-28T14:03:06.302Z"
   },
   {
    "duration": 4,
    "start_time": "2023-02-28T14:03:44.487Z"
   },
   {
    "duration": 3,
    "start_time": "2023-02-28T14:06:33.771Z"
   },
   {
    "duration": 347470,
    "start_time": "2023-02-28T14:06:40.387Z"
   },
   {
    "duration": 2313,
    "start_time": "2023-02-28T14:20:09.880Z"
   },
   {
    "duration": 4,
    "start_time": "2023-02-28T14:20:46.196Z"
   },
   {
    "duration": 3,
    "start_time": "2023-02-28T14:22:37.462Z"
   },
   {
    "duration": 4723,
    "start_time": "2023-02-28T14:23:03.889Z"
   },
   {
    "duration": 35,
    "start_time": "2023-02-28T14:23:35.774Z"
   },
   {
    "duration": 4,
    "start_time": "2023-02-28T14:23:55.062Z"
   },
   {
    "duration": 5,
    "start_time": "2023-02-28T14:24:29.870Z"
   },
   {
    "duration": 4,
    "start_time": "2023-02-28T14:26:06.561Z"
   },
   {
    "duration": 4,
    "start_time": "2023-02-28T14:26:13.908Z"
   },
   {
    "duration": 8,
    "start_time": "2023-02-28T14:26:16.266Z"
   },
   {
    "duration": 1562,
    "start_time": "2023-03-01T11:03:56.140Z"
   },
   {
    "duration": 1183,
    "start_time": "2023-03-01T11:03:57.704Z"
   },
   {
    "duration": 3,
    "start_time": "2023-03-01T11:03:58.889Z"
   },
   {
    "duration": 1432,
    "start_time": "2023-03-01T11:03:58.895Z"
   },
   {
    "duration": 62,
    "start_time": "2023-03-01T11:04:00.328Z"
   },
   {
    "duration": 286,
    "start_time": "2023-03-01T11:04:00.392Z"
   },
   {
    "duration": 74,
    "start_time": "2023-03-01T11:04:00.680Z"
   },
   {
    "duration": 132,
    "start_time": "2023-03-01T11:04:00.755Z"
   },
   {
    "duration": 63,
    "start_time": "2023-03-01T11:04:00.888Z"
   },
   {
    "duration": 119,
    "start_time": "2023-03-01T11:04:00.953Z"
   },
   {
    "duration": 161,
    "start_time": "2023-03-01T11:04:01.074Z"
   },
   {
    "duration": 225,
    "start_time": "2023-03-01T11:04:01.237Z"
   },
   {
    "duration": 261,
    "start_time": "2023-03-01T11:04:01.465Z"
   },
   {
    "duration": 210,
    "start_time": "2023-03-01T11:04:01.728Z"
   },
   {
    "duration": 943,
    "start_time": "2023-03-01T11:04:01.939Z"
   },
   {
    "duration": 5,
    "start_time": "2023-03-01T11:04:02.884Z"
   },
   {
    "duration": 48,
    "start_time": "2023-03-01T11:04:02.905Z"
   },
   {
    "duration": 71,
    "start_time": "2023-03-01T11:04:02.955Z"
   },
   {
    "duration": 77,
    "start_time": "2023-03-01T11:04:03.028Z"
   },
   {
    "duration": 27,
    "start_time": "2023-03-01T11:04:03.107Z"
   },
   {
    "duration": 13,
    "start_time": "2023-03-01T11:04:03.136Z"
   },
   {
    "duration": 12,
    "start_time": "2023-03-01T11:04:03.151Z"
   },
   {
    "duration": 27,
    "start_time": "2023-03-01T11:04:03.166Z"
   },
   {
    "duration": 68,
    "start_time": "2023-03-01T11:04:03.196Z"
   },
   {
    "duration": 14,
    "start_time": "2023-03-01T11:08:58.406Z"
   },
   {
    "duration": 86,
    "start_time": "2023-03-01T11:18:16.501Z"
   },
   {
    "duration": 4,
    "start_time": "2023-03-01T11:18:17.721Z"
   },
   {
    "duration": 4,
    "start_time": "2023-03-01T11:18:56.700Z"
   },
   {
    "duration": 764,
    "start_time": "2023-03-01T11:28:03.848Z"
   },
   {
    "duration": 452,
    "start_time": "2023-03-01T11:28:27.594Z"
   },
   {
    "duration": 17,
    "start_time": "2023-03-01T11:28:57.846Z"
   },
   {
    "duration": 12,
    "start_time": "2023-03-01T11:29:23.453Z"
   },
   {
    "duration": 171,
    "start_time": "2023-03-01T11:36:33.489Z"
   },
   {
    "duration": 362,
    "start_time": "2023-03-01T11:45:01.442Z"
   },
   {
    "duration": 315,
    "start_time": "2023-03-01T11:48:39.334Z"
   },
   {
    "duration": 17,
    "start_time": "2023-03-01T11:49:07.970Z"
   },
   {
    "duration": 17,
    "start_time": "2023-03-01T11:49:18.820Z"
   },
   {
    "duration": 17,
    "start_time": "2023-03-01T11:49:31.243Z"
   },
   {
    "duration": 18,
    "start_time": "2023-03-01T11:49:58.089Z"
   },
   {
    "duration": 15,
    "start_time": "2023-03-01T11:50:27.187Z"
   },
   {
    "duration": 16,
    "start_time": "2023-03-01T11:50:35.911Z"
   },
   {
    "duration": 4,
    "start_time": "2023-03-01T11:54:12.895Z"
   },
   {
    "duration": 1740,
    "start_time": "2023-03-01T11:54:12.901Z"
   },
   {
    "duration": 4,
    "start_time": "2023-03-01T11:54:14.643Z"
   },
   {
    "duration": 1442,
    "start_time": "2023-03-01T11:54:14.649Z"
   },
   {
    "duration": 44,
    "start_time": "2023-03-01T11:54:16.093Z"
   },
   {
    "duration": 270,
    "start_time": "2023-03-01T11:54:16.139Z"
   },
   {
    "duration": 93,
    "start_time": "2023-03-01T11:54:16.411Z"
   },
   {
    "duration": 109,
    "start_time": "2023-03-01T11:54:16.506Z"
   },
   {
    "duration": 50,
    "start_time": "2023-03-01T11:54:16.617Z"
   },
   {
    "duration": 184,
    "start_time": "2023-03-01T11:54:16.670Z"
   },
   {
    "duration": 69,
    "start_time": "2023-03-01T11:54:16.856Z"
   },
   {
    "duration": 207,
    "start_time": "2023-03-01T11:54:16.927Z"
   },
   {
    "duration": 225,
    "start_time": "2023-03-01T11:54:17.136Z"
   },
   {
    "duration": 231,
    "start_time": "2023-03-01T11:54:17.362Z"
   },
   {
    "duration": 918,
    "start_time": "2023-03-01T11:54:17.595Z"
   },
   {
    "duration": 6,
    "start_time": "2023-03-01T11:54:18.515Z"
   },
   {
    "duration": 33,
    "start_time": "2023-03-01T11:54:18.523Z"
   },
   {
    "duration": 71,
    "start_time": "2023-03-01T11:54:18.559Z"
   },
   {
    "duration": 83,
    "start_time": "2023-03-01T11:54:18.632Z"
   },
   {
    "duration": 102,
    "start_time": "2023-03-01T11:54:18.717Z"
   },
   {
    "duration": 12,
    "start_time": "2023-03-01T11:54:18.820Z"
   },
   {
    "duration": 16,
    "start_time": "2023-03-01T11:54:18.835Z"
   },
   {
    "duration": 11,
    "start_time": "2023-03-01T11:54:18.852Z"
   },
   {
    "duration": 61,
    "start_time": "2023-03-01T11:54:18.865Z"
   },
   {
    "duration": 16,
    "start_time": "2023-03-01T11:54:18.928Z"
   },
   {
    "duration": 97,
    "start_time": "2023-03-01T11:54:18.945Z"
   },
   {
    "duration": 5,
    "start_time": "2023-03-01T11:54:19.044Z"
   },
   {
    "duration": 490,
    "start_time": "2023-03-01T11:54:26.640Z"
   },
   {
    "duration": 4,
    "start_time": "2023-03-01T11:54:44.963Z"
   },
   {
    "duration": 165217,
    "start_time": "2023-03-01T11:55:01.405Z"
   },
   {
    "duration": 252,
    "start_time": "2023-03-01T11:59:34.554Z"
   },
   {
    "duration": 5,
    "start_time": "2023-03-01T12:00:52.452Z"
   },
   {
    "duration": 3,
    "start_time": "2023-03-01T12:04:23.135Z"
   },
   {
    "duration": 4791,
    "start_time": "2023-03-01T12:05:02.521Z"
   },
   {
    "duration": 13,
    "start_time": "2023-03-01T12:05:56.693Z"
   },
   {
    "duration": 7,
    "start_time": "2023-03-01T12:07:17.705Z"
   },
   {
    "duration": 4,
    "start_time": "2023-03-01T12:08:16.449Z"
   },
   {
    "duration": 244078,
    "start_time": "2023-03-01T12:08:30.345Z"
   },
   {
    "duration": 2394,
    "start_time": "2023-03-01T12:13:45.370Z"
   },
   {
    "duration": 2403,
    "start_time": "2023-03-01T12:14:25.878Z"
   },
   {
    "duration": 4,
    "start_time": "2023-03-01T12:14:40.831Z"
   },
   {
    "duration": 3,
    "start_time": "2023-03-01T12:15:17.920Z"
   },
   {
    "duration": 3635,
    "start_time": "2023-03-01T12:15:24.538Z"
   },
   {
    "duration": 45,
    "start_time": "2023-03-01T12:16:08.702Z"
   },
   {
    "duration": 6,
    "start_time": "2023-03-01T12:16:44.439Z"
   },
   {
    "duration": 3,
    "start_time": "2023-03-01T12:18:35.461Z"
   },
   {
    "duration": 12,
    "start_time": "2023-03-01T12:18:38.742Z"
   },
   {
    "duration": 2481,
    "start_time": "2023-03-01T12:21:36.941Z"
   },
   {
    "duration": 6,
    "start_time": "2023-03-01T12:22:28.201Z"
   },
   {
    "duration": 1640,
    "start_time": "2023-03-01T13:57:35.087Z"
   },
   {
    "duration": 1380,
    "start_time": "2023-03-01T13:57:36.733Z"
   },
   {
    "duration": 6,
    "start_time": "2023-03-01T13:57:38.116Z"
   },
   {
    "duration": 1459,
    "start_time": "2023-03-01T13:57:38.127Z"
   },
   {
    "duration": 57,
    "start_time": "2023-03-01T13:57:39.588Z"
   },
   {
    "duration": 294,
    "start_time": "2023-03-01T13:57:39.647Z"
   },
   {
    "duration": 153,
    "start_time": "2023-03-01T13:57:39.943Z"
   },
   {
    "duration": 188,
    "start_time": "2023-03-01T13:57:40.098Z"
   },
   {
    "duration": 101,
    "start_time": "2023-03-01T13:57:40.288Z"
   },
   {
    "duration": 196,
    "start_time": "2023-03-01T13:57:40.392Z"
   },
   {
    "duration": 211,
    "start_time": "2023-03-01T13:57:40.590Z"
   },
   {
    "duration": 213,
    "start_time": "2023-03-01T13:57:40.803Z"
   },
   {
    "duration": 219,
    "start_time": "2023-03-01T13:57:41.018Z"
   },
   {
    "duration": 204,
    "start_time": "2023-03-01T13:57:41.238Z"
   },
   {
    "duration": 920,
    "start_time": "2023-03-01T13:57:41.444Z"
   },
   {
    "duration": 6,
    "start_time": "2023-03-01T13:57:42.365Z"
   },
   {
    "duration": 33,
    "start_time": "2023-03-01T13:57:42.385Z"
   },
   {
    "duration": 79,
    "start_time": "2023-03-01T13:57:42.420Z"
   },
   {
    "duration": 51,
    "start_time": "2023-03-01T13:57:42.501Z"
   },
   {
    "duration": 43,
    "start_time": "2023-03-01T13:57:42.553Z"
   },
   {
    "duration": 12,
    "start_time": "2023-03-01T13:57:42.598Z"
   },
   {
    "duration": 14,
    "start_time": "2023-03-01T13:57:42.612Z"
   },
   {
    "duration": 14,
    "start_time": "2023-03-01T13:57:42.628Z"
   },
   {
    "duration": 119,
    "start_time": "2023-03-01T13:57:42.643Z"
   },
   {
    "duration": 26,
    "start_time": "2023-03-01T13:57:42.764Z"
   },
   {
    "duration": 74,
    "start_time": "2023-03-01T13:57:42.792Z"
   },
   {
    "duration": 3,
    "start_time": "2023-03-01T13:57:42.868Z"
   },
   {
    "duration": 689,
    "start_time": "2023-03-01T13:57:46.480Z"
   },
   {
    "duration": 4,
    "start_time": "2023-03-01T13:59:19.760Z"
   },
   {
    "duration": 5170506,
    "start_time": "2023-03-01T13:59:24.166Z"
   },
   {
    "duration": 4,
    "start_time": "2023-03-01T15:26:38.095Z"
   },
   {
    "duration": 737,
    "start_time": "2023-03-01T15:26:38.101Z"
   },
   {
    "duration": 4,
    "start_time": "2023-03-01T15:26:38.839Z"
   },
   {
    "duration": 1191,
    "start_time": "2023-03-01T15:26:38.844Z"
   },
   {
    "duration": 30,
    "start_time": "2023-03-01T15:26:40.037Z"
   },
   {
    "duration": 284,
    "start_time": "2023-03-01T15:26:40.069Z"
   },
   {
    "duration": 80,
    "start_time": "2023-03-01T15:26:40.355Z"
   },
   {
    "duration": 104,
    "start_time": "2023-03-01T15:26:40.437Z"
   },
   {
    "duration": 63,
    "start_time": "2023-03-01T15:26:40.544Z"
   },
   {
    "duration": 117,
    "start_time": "2023-03-01T15:26:40.608Z"
   },
   {
    "duration": 83,
    "start_time": "2023-03-01T15:26:40.728Z"
   },
   {
    "duration": 186,
    "start_time": "2023-03-01T15:26:40.813Z"
   },
   {
    "duration": 198,
    "start_time": "2023-03-01T15:26:41.001Z"
   },
   {
    "duration": 195,
    "start_time": "2023-03-01T15:26:41.200Z"
   },
   {
    "duration": 809,
    "start_time": "2023-03-01T15:26:41.397Z"
   },
   {
    "duration": 5,
    "start_time": "2023-03-01T15:26:42.208Z"
   },
   {
    "duration": 26,
    "start_time": "2023-03-01T15:26:42.215Z"
   },
   {
    "duration": 93,
    "start_time": "2023-03-01T15:26:42.243Z"
   },
   {
    "duration": 34,
    "start_time": "2023-03-01T15:26:42.337Z"
   },
   {
    "duration": 32,
    "start_time": "2023-03-01T15:26:42.372Z"
   },
   {
    "duration": 11,
    "start_time": "2023-03-01T15:26:42.406Z"
   },
   {
    "duration": 6,
    "start_time": "2023-03-01T15:26:42.419Z"
   },
   {
    "duration": 6,
    "start_time": "2023-03-01T15:26:42.426Z"
   },
   {
    "duration": 81,
    "start_time": "2023-03-01T15:26:42.434Z"
   },
   {
    "duration": 15,
    "start_time": "2023-03-01T15:26:42.516Z"
   },
   {
    "duration": 79,
    "start_time": "2023-03-01T15:26:42.533Z"
   },
   {
    "duration": 4,
    "start_time": "2023-03-01T15:26:42.613Z"
   },
   {
    "duration": 507,
    "start_time": "2023-03-01T15:26:42.619Z"
   },
   {
    "duration": 3,
    "start_time": "2023-03-01T15:26:43.129Z"
   },
   {
    "duration": 801692,
    "start_time": "2023-03-01T15:26:48.221Z"
   },
   {
    "duration": 4,
    "start_time": "2023-03-01T15:40:25.219Z"
   },
   {
    "duration": 700,
    "start_time": "2023-03-01T15:40:25.225Z"
   },
   {
    "duration": 3,
    "start_time": "2023-03-01T15:40:25.927Z"
   },
   {
    "duration": 1270,
    "start_time": "2023-03-01T15:40:25.931Z"
   },
   {
    "duration": 59,
    "start_time": "2023-03-01T15:40:27.205Z"
   },
   {
    "duration": 265,
    "start_time": "2023-03-01T15:40:27.266Z"
   },
   {
    "duration": 84,
    "start_time": "2023-03-01T15:40:27.533Z"
   },
   {
    "duration": 94,
    "start_time": "2023-03-01T15:40:27.618Z"
   },
   {
    "duration": 47,
    "start_time": "2023-03-01T15:40:27.714Z"
   },
   {
    "duration": 114,
    "start_time": "2023-03-01T15:40:27.763Z"
   },
   {
    "duration": 65,
    "start_time": "2023-03-01T15:40:27.887Z"
   },
   {
    "duration": 184,
    "start_time": "2023-03-01T15:40:27.954Z"
   },
   {
    "duration": 208,
    "start_time": "2023-03-01T15:40:28.140Z"
   },
   {
    "duration": 191,
    "start_time": "2023-03-01T15:40:28.350Z"
   },
   {
    "duration": 782,
    "start_time": "2023-03-01T15:40:28.542Z"
   },
   {
    "duration": 5,
    "start_time": "2023-03-01T15:40:29.325Z"
   },
   {
    "duration": 27,
    "start_time": "2023-03-01T15:40:29.332Z"
   },
   {
    "duration": 73,
    "start_time": "2023-03-01T15:40:29.361Z"
   },
   {
    "duration": 34,
    "start_time": "2023-03-01T15:40:29.436Z"
   },
   {
    "duration": 37,
    "start_time": "2023-03-01T15:40:29.472Z"
   },
   {
    "duration": 12,
    "start_time": "2023-03-01T15:40:29.510Z"
   },
   {
    "duration": 9,
    "start_time": "2023-03-01T15:40:29.524Z"
   },
   {
    "duration": 6,
    "start_time": "2023-03-01T15:40:29.535Z"
   },
   {
    "duration": 77,
    "start_time": "2023-03-01T15:40:29.543Z"
   },
   {
    "duration": 15,
    "start_time": "2023-03-01T15:40:29.622Z"
   },
   {
    "duration": 78,
    "start_time": "2023-03-01T15:40:29.638Z"
   },
   {
    "duration": 4,
    "start_time": "2023-03-01T15:40:29.718Z"
   },
   {
    "duration": 453,
    "start_time": "2023-03-01T15:40:29.724Z"
   },
   {
    "duration": 4,
    "start_time": "2023-03-01T15:40:34.572Z"
   },
   {
    "duration": 3,
    "start_time": "2023-03-01T15:40:44.934Z"
   },
   {
    "duration": 4200,
    "start_time": "2023-03-01T15:40:50.824Z"
   },
   {
    "duration": 17,
    "start_time": "2023-03-01T15:41:22.005Z"
   },
   {
    "duration": 4,
    "start_time": "2023-03-01T15:41:46.774Z"
   },
   {
    "duration": 4,
    "start_time": "2023-03-01T15:42:19.621Z"
   },
   {
    "duration": 246480,
    "start_time": "2023-03-01T15:42:21.712Z"
   },
   {
    "duration": 2155,
    "start_time": "2023-03-01T15:46:45.764Z"
   },
   {
    "duration": 5,
    "start_time": "2023-03-01T15:47:18.318Z"
   },
   {
    "duration": 3,
    "start_time": "2023-03-01T15:47:47.100Z"
   },
   {
    "duration": 3790,
    "start_time": "2023-03-01T15:47:51.375Z"
   },
   {
    "duration": 30,
    "start_time": "2023-03-01T15:48:15.627Z"
   },
   {
    "duration": 4,
    "start_time": "2023-03-01T15:48:47.092Z"
   },
   {
    "duration": 3,
    "start_time": "2023-03-01T15:49:16.192Z"
   },
   {
    "duration": 9,
    "start_time": "2023-03-01T15:49:17.655Z"
   },
   {
    "duration": 2097,
    "start_time": "2023-03-01T15:49:31.482Z"
   },
   {
    "duration": 4,
    "start_time": "2023-03-01T15:49:37.081Z"
   },
   {
    "duration": 4,
    "start_time": "2023-03-01T15:51:04.083Z"
   },
   {
    "duration": 4,
    "start_time": "2023-03-01T15:52:22.151Z"
   },
   {
    "duration": 1030995,
    "start_time": "2023-03-01T15:52:25.157Z"
   },
   {
    "duration": 3,
    "start_time": "2023-03-01T16:09:56.214Z"
   },
   {
    "duration": 1218371,
    "start_time": "2023-03-01T16:09:59.511Z"
   },
   {
    "duration": 4,
    "start_time": "2023-03-01T16:30:54.268Z"
   },
   {
    "duration": 1694,
    "start_time": "2023-03-02T10:19:56.108Z"
   },
   {
    "duration": 2902,
    "start_time": "2023-03-02T10:19:57.804Z"
   },
   {
    "duration": 6,
    "start_time": "2023-03-02T10:20:00.709Z"
   },
   {
    "duration": 1481,
    "start_time": "2023-03-02T10:20:00.719Z"
   },
   {
    "duration": 64,
    "start_time": "2023-03-02T10:20:02.204Z"
   },
   {
    "duration": 283,
    "start_time": "2023-03-02T10:20:02.270Z"
   },
   {
    "duration": 73,
    "start_time": "2023-03-02T10:20:02.555Z"
   },
   {
    "duration": 126,
    "start_time": "2023-03-02T10:20:02.630Z"
   },
   {
    "duration": 55,
    "start_time": "2023-03-02T10:20:02.757Z"
   },
   {
    "duration": 131,
    "start_time": "2023-03-02T10:20:02.815Z"
   },
   {
    "duration": 178,
    "start_time": "2023-03-02T10:20:02.948Z"
   },
   {
    "duration": 257,
    "start_time": "2023-03-02T10:20:03.129Z"
   },
   {
    "duration": 275,
    "start_time": "2023-03-02T10:20:03.387Z"
   },
   {
    "duration": 220,
    "start_time": "2023-03-02T10:20:03.664Z"
   },
   {
    "duration": 988,
    "start_time": "2023-03-02T10:20:03.887Z"
   },
   {
    "duration": 5,
    "start_time": "2023-03-02T10:20:04.877Z"
   },
   {
    "duration": 47,
    "start_time": "2023-03-02T10:20:04.883Z"
   },
   {
    "duration": 55,
    "start_time": "2023-03-02T10:20:04.933Z"
   },
   {
    "duration": 86,
    "start_time": "2023-03-02T10:20:04.990Z"
   },
   {
    "duration": 41,
    "start_time": "2023-03-02T10:20:05.078Z"
   },
   {
    "duration": 13,
    "start_time": "2023-03-02T10:20:05.121Z"
   },
   {
    "duration": 12,
    "start_time": "2023-03-02T10:20:05.136Z"
   },
   {
    "duration": 9,
    "start_time": "2023-03-02T10:20:05.151Z"
   },
   {
    "duration": 74,
    "start_time": "2023-03-02T10:20:05.162Z"
   },
   {
    "duration": 13,
    "start_time": "2023-03-02T10:20:05.239Z"
   },
   {
    "duration": 104,
    "start_time": "2023-03-02T10:20:05.254Z"
   },
   {
    "duration": 3,
    "start_time": "2023-03-02T10:20:05.360Z"
   },
   {
    "duration": 499,
    "start_time": "2023-03-02T10:20:05.366Z"
   },
   {
    "duration": 4,
    "start_time": "2023-03-02T10:20:12.873Z"
   },
   {
    "duration": 2455476,
    "start_time": "2023-03-02T10:20:15.442Z"
   },
   {
    "duration": 288,
    "start_time": "2023-03-02T11:01:58.918Z"
   },
   {
    "duration": 4,
    "start_time": "2023-03-02T11:02:56.884Z"
   },
   {
    "duration": 5,
    "start_time": "2023-03-02T11:03:18.061Z"
   },
   {
    "duration": 4,
    "start_time": "2023-03-02T11:04:30.126Z"
   },
   {
    "duration": 4397,
    "start_time": "2023-03-02T11:04:32.929Z"
   },
   {
    "duration": 39,
    "start_time": "2023-03-02T11:04:58.385Z"
   },
   {
    "duration": 7,
    "start_time": "2023-03-02T11:05:04.449Z"
   },
   {
    "duration": 4,
    "start_time": "2023-03-02T11:05:44.345Z"
   },
   {
    "duration": 237791,
    "start_time": "2023-03-02T11:05:47.195Z"
   },
   {
    "duration": 2524,
    "start_time": "2023-03-02T11:24:07.373Z"
   },
   {
    "duration": 4,
    "start_time": "2023-03-02T11:24:14.570Z"
   },
   {
    "duration": 4,
    "start_time": "2023-03-02T11:25:12.069Z"
   },
   {
    "duration": 3832,
    "start_time": "2023-03-02T11:25:13.694Z"
   },
   {
    "duration": 33,
    "start_time": "2023-03-02T11:25:23.106Z"
   },
   {
    "duration": 5,
    "start_time": "2023-03-02T11:25:46.719Z"
   },
   {
    "duration": 3,
    "start_time": "2023-03-02T11:26:28.378Z"
   },
   {
    "duration": 14,
    "start_time": "2023-03-02T11:26:33.194Z"
   },
   {
    "duration": 2315,
    "start_time": "2023-03-02T11:27:18.111Z"
   },
   {
    "duration": 6,
    "start_time": "2023-03-02T11:27:22.235Z"
   }
  ],
  "kernelspec": {
   "display_name": "Python 3 (ipykernel)",
   "language": "python",
   "name": "python3"
  },
  "language_info": {
   "codemirror_mode": {
    "name": "ipython",
    "version": 3
   },
   "file_extension": ".py",
   "mimetype": "text/x-python",
   "name": "python",
   "nbconvert_exporter": "python",
   "pygments_lexer": "ipython3",
   "version": "3.9.5"
  },
  "toc": {
   "base_numbering": 1,
   "nav_menu": {},
   "number_sections": true,
   "sideBar": true,
   "skip_h1_title": true,
   "title_cell": "Table of Contents",
   "title_sidebar": "Contents",
   "toc_cell": false,
   "toc_position": {},
   "toc_section_display": true,
   "toc_window_display": false
  }
 },
 "nbformat": 4,
 "nbformat_minor": 2
}
