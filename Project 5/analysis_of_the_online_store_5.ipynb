{
 "cells": [
  {
   "cell_type": "markdown",
   "metadata": {},
   "source": [
    "# Исследование интернет-магазина «Стримчик»"
   ]
  },
  {
   "attachments": {},
   "cell_type": "markdown",
   "metadata": {},
   "source": [
    "В интернет-магазине «Стримчик», который продаёт по всему миру компьютерные игры. Из открытых источников доступны исторические данные о продажах игр, оценки пользователей и экспертов, жанры и платформы (например, Xbox или PlayStation). Нужно выявить определяющие успешность игры закономерности. Это позволит сделать ставку на потенциально популярный продукт и спланировать рекламные кампании.  <br/>  \n",
    "\n",
    "В наборе данных попадается аббревиатура ESRB (Entertainment Software Rating Board) — это ассоциация, определяющая возрастной рейтинг компьютерных игр. ESRB оценивает игровой контент и присваивает ему подходящую возрастную категорию, например, «Для взрослых», «Для детей младшего возраста» или «Для подростков»."
   ]
  },
  {
   "attachments": {},
   "cell_type": "markdown",
   "metadata": {},
   "source": [
    "###  Откроем файл с данными и изучим общую информацию"
   ]
  },
  {
   "cell_type": "markdown",
   "metadata": {},
   "source": [
    "**Установим библиотеки, которые могут нам понадобиться в работе**"
   ]
  },
  {
   "cell_type": "code",
   "execution_count": 1,
   "metadata": {},
   "outputs": [],
   "source": [
    "import pandas as pd\n",
    "import matplotlib.pyplot as plt\n",
    "import numpy as np\n",
    "import seaborn as sns\n",
    "import scipy.stats as st"
   ]
  },
  {
   "cell_type": "markdown",
   "metadata": {},
   "source": [
    "Теперь загрузим датасет и посмотрим общую информацию о нем"
   ]
  },
  {
   "cell_type": "code",
   "execution_count": 2,
   "metadata": {},
   "outputs": [],
   "source": [
    "pd.set_option('display.max_columns', None)\n",
    "df = pd.read_csv('/datasets/games.csv')"
   ]
  },
  {
   "cell_type": "code",
   "execution_count": 3,
   "metadata": {
    "scrolled": false
   },
   "outputs": [
    {
     "data": {
      "text/html": [
       "<div>\n",
       "<style scoped>\n",
       "    .dataframe tbody tr th:only-of-type {\n",
       "        vertical-align: middle;\n",
       "    }\n",
       "\n",
       "    .dataframe tbody tr th {\n",
       "        vertical-align: top;\n",
       "    }\n",
       "\n",
       "    .dataframe thead th {\n",
       "        text-align: right;\n",
       "    }\n",
       "</style>\n",
       "<table border=\"1\" class=\"dataframe\">\n",
       "  <thead>\n",
       "    <tr style=\"text-align: right;\">\n",
       "      <th></th>\n",
       "      <th>Name</th>\n",
       "      <th>Platform</th>\n",
       "      <th>Year_of_Release</th>\n",
       "      <th>Genre</th>\n",
       "      <th>NA_sales</th>\n",
       "      <th>EU_sales</th>\n",
       "      <th>JP_sales</th>\n",
       "      <th>Other_sales</th>\n",
       "      <th>Critic_Score</th>\n",
       "      <th>User_Score</th>\n",
       "      <th>Rating</th>\n",
       "    </tr>\n",
       "  </thead>\n",
       "  <tbody>\n",
       "    <tr>\n",
       "      <th>0</th>\n",
       "      <td>Wii Sports</td>\n",
       "      <td>Wii</td>\n",
       "      <td>2006.0</td>\n",
       "      <td>Sports</td>\n",
       "      <td>41.36</td>\n",
       "      <td>28.96</td>\n",
       "      <td>3.77</td>\n",
       "      <td>8.45</td>\n",
       "      <td>76.0</td>\n",
       "      <td>8</td>\n",
       "      <td>E</td>\n",
       "    </tr>\n",
       "    <tr>\n",
       "      <th>1</th>\n",
       "      <td>Super Mario Bros.</td>\n",
       "      <td>NES</td>\n",
       "      <td>1985.0</td>\n",
       "      <td>Platform</td>\n",
       "      <td>29.08</td>\n",
       "      <td>3.58</td>\n",
       "      <td>6.81</td>\n",
       "      <td>0.77</td>\n",
       "      <td>NaN</td>\n",
       "      <td>NaN</td>\n",
       "      <td>NaN</td>\n",
       "    </tr>\n",
       "    <tr>\n",
       "      <th>2</th>\n",
       "      <td>Mario Kart Wii</td>\n",
       "      <td>Wii</td>\n",
       "      <td>2008.0</td>\n",
       "      <td>Racing</td>\n",
       "      <td>15.68</td>\n",
       "      <td>12.76</td>\n",
       "      <td>3.79</td>\n",
       "      <td>3.29</td>\n",
       "      <td>82.0</td>\n",
       "      <td>8.3</td>\n",
       "      <td>E</td>\n",
       "    </tr>\n",
       "    <tr>\n",
       "      <th>3</th>\n",
       "      <td>Wii Sports Resort</td>\n",
       "      <td>Wii</td>\n",
       "      <td>2009.0</td>\n",
       "      <td>Sports</td>\n",
       "      <td>15.61</td>\n",
       "      <td>10.93</td>\n",
       "      <td>3.28</td>\n",
       "      <td>2.95</td>\n",
       "      <td>80.0</td>\n",
       "      <td>8</td>\n",
       "      <td>E</td>\n",
       "    </tr>\n",
       "    <tr>\n",
       "      <th>4</th>\n",
       "      <td>Pokemon Red/Pokemon Blue</td>\n",
       "      <td>GB</td>\n",
       "      <td>1996.0</td>\n",
       "      <td>Role-Playing</td>\n",
       "      <td>11.27</td>\n",
       "      <td>8.89</td>\n",
       "      <td>10.22</td>\n",
       "      <td>1.00</td>\n",
       "      <td>NaN</td>\n",
       "      <td>NaN</td>\n",
       "      <td>NaN</td>\n",
       "    </tr>\n",
       "    <tr>\n",
       "      <th>5</th>\n",
       "      <td>Tetris</td>\n",
       "      <td>GB</td>\n",
       "      <td>1989.0</td>\n",
       "      <td>Puzzle</td>\n",
       "      <td>23.20</td>\n",
       "      <td>2.26</td>\n",
       "      <td>4.22</td>\n",
       "      <td>0.58</td>\n",
       "      <td>NaN</td>\n",
       "      <td>NaN</td>\n",
       "      <td>NaN</td>\n",
       "    </tr>\n",
       "    <tr>\n",
       "      <th>6</th>\n",
       "      <td>New Super Mario Bros.</td>\n",
       "      <td>DS</td>\n",
       "      <td>2006.0</td>\n",
       "      <td>Platform</td>\n",
       "      <td>11.28</td>\n",
       "      <td>9.14</td>\n",
       "      <td>6.50</td>\n",
       "      <td>2.88</td>\n",
       "      <td>89.0</td>\n",
       "      <td>8.5</td>\n",
       "      <td>E</td>\n",
       "    </tr>\n",
       "    <tr>\n",
       "      <th>7</th>\n",
       "      <td>Wii Play</td>\n",
       "      <td>Wii</td>\n",
       "      <td>2006.0</td>\n",
       "      <td>Misc</td>\n",
       "      <td>13.96</td>\n",
       "      <td>9.18</td>\n",
       "      <td>2.93</td>\n",
       "      <td>2.84</td>\n",
       "      <td>58.0</td>\n",
       "      <td>6.6</td>\n",
       "      <td>E</td>\n",
       "    </tr>\n",
       "    <tr>\n",
       "      <th>8</th>\n",
       "      <td>New Super Mario Bros. Wii</td>\n",
       "      <td>Wii</td>\n",
       "      <td>2009.0</td>\n",
       "      <td>Platform</td>\n",
       "      <td>14.44</td>\n",
       "      <td>6.94</td>\n",
       "      <td>4.70</td>\n",
       "      <td>2.24</td>\n",
       "      <td>87.0</td>\n",
       "      <td>8.4</td>\n",
       "      <td>E</td>\n",
       "    </tr>\n",
       "    <tr>\n",
       "      <th>9</th>\n",
       "      <td>Duck Hunt</td>\n",
       "      <td>NES</td>\n",
       "      <td>1984.0</td>\n",
       "      <td>Shooter</td>\n",
       "      <td>26.93</td>\n",
       "      <td>0.63</td>\n",
       "      <td>0.28</td>\n",
       "      <td>0.47</td>\n",
       "      <td>NaN</td>\n",
       "      <td>NaN</td>\n",
       "      <td>NaN</td>\n",
       "    </tr>\n",
       "  </tbody>\n",
       "</table>\n",
       "</div>"
      ],
      "text/plain": [
       "                        Name Platform  Year_of_Release         Genre  \\\n",
       "0                 Wii Sports      Wii           2006.0        Sports   \n",
       "1          Super Mario Bros.      NES           1985.0      Platform   \n",
       "2             Mario Kart Wii      Wii           2008.0        Racing   \n",
       "3          Wii Sports Resort      Wii           2009.0        Sports   \n",
       "4   Pokemon Red/Pokemon Blue       GB           1996.0  Role-Playing   \n",
       "5                     Tetris       GB           1989.0        Puzzle   \n",
       "6      New Super Mario Bros.       DS           2006.0      Platform   \n",
       "7                   Wii Play      Wii           2006.0          Misc   \n",
       "8  New Super Mario Bros. Wii      Wii           2009.0      Platform   \n",
       "9                  Duck Hunt      NES           1984.0       Shooter   \n",
       "\n",
       "   NA_sales  EU_sales  JP_sales  Other_sales  Critic_Score User_Score Rating  \n",
       "0     41.36     28.96      3.77         8.45          76.0          8      E  \n",
       "1     29.08      3.58      6.81         0.77           NaN        NaN    NaN  \n",
       "2     15.68     12.76      3.79         3.29          82.0        8.3      E  \n",
       "3     15.61     10.93      3.28         2.95          80.0          8      E  \n",
       "4     11.27      8.89     10.22         1.00           NaN        NaN    NaN  \n",
       "5     23.20      2.26      4.22         0.58           NaN        NaN    NaN  \n",
       "6     11.28      9.14      6.50         2.88          89.0        8.5      E  \n",
       "7     13.96      9.18      2.93         2.84          58.0        6.6      E  \n",
       "8     14.44      6.94      4.70         2.24          87.0        8.4      E  \n",
       "9     26.93      0.63      0.28         0.47           NaN        NaN    NaN  "
      ]
     },
     "metadata": {},
     "output_type": "display_data"
    },
    {
     "name": "stdout",
     "output_type": "stream",
     "text": [
      "-------------------------------------------\n",
      "<class 'pandas.core.frame.DataFrame'>\n",
      "RangeIndex: 16715 entries, 0 to 16714\n",
      "Data columns (total 11 columns):\n",
      " #   Column           Non-Null Count  Dtype  \n",
      "---  ------           --------------  -----  \n",
      " 0   Name             16713 non-null  object \n",
      " 1   Platform         16715 non-null  object \n",
      " 2   Year_of_Release  16446 non-null  float64\n",
      " 3   Genre            16713 non-null  object \n",
      " 4   NA_sales         16715 non-null  float64\n",
      " 5   EU_sales         16715 non-null  float64\n",
      " 6   JP_sales         16715 non-null  float64\n",
      " 7   Other_sales      16715 non-null  float64\n",
      " 8   Critic_Score     8137 non-null   float64\n",
      " 9   User_Score       10014 non-null  object \n",
      " 10  Rating           9949 non-null   object \n",
      "dtypes: float64(6), object(5)\n",
      "memory usage: 1.4+ MB\n",
      "None\n",
      "-------------------------------------------\n"
     ]
    },
    {
     "data": {
      "image/png": "[encoded data removed]",
      "text/plain": [
       "<Figure size 1080x1440 with 6 Axes>"
      ]
     },
     "metadata": {
      "needs_background": "light"
     },
     "output_type": "display_data"
    }
   ],
   "source": [
    "def show_info(df_name):  # создадим функцию, которая покажет всю общую информацию о датасете\n",
    "    display(df.head(10))\n",
    "    print('-------------------------------------------')\n",
    "    print(df.info())\n",
    "    print('-------------------------------------------')\n",
    "    df.hist(figsize=(15, 20));\n",
    "        \n",
    "show_info(df)"
   ]
  },
  {
   "cell_type": "markdown",
   "metadata": {},
   "source": [
    "**Вывод:**\n",
    "Итак, перед нами датасет из 11 колонок и 16715 строк. Мы видим, практически сразу, что в нем есть пустые значения во многих столбцах, а также неверные форматы. "
   ]
  },
  {
   "cell_type": "markdown",
   "metadata": {},
   "source": [
    "### Подготовка данных"
   ]
  },
  {
   "cell_type": "code",
   "execution_count": 4,
   "metadata": {},
   "outputs": [
    {
     "data": {
      "text/html": [
       "<div>\n",
       "<style scoped>\n",
       "    .dataframe tbody tr th:only-of-type {\n",
       "        vertical-align: middle;\n",
       "    }\n",
       "\n",
       "    .dataframe tbody tr th {\n",
       "        vertical-align: top;\n",
       "    }\n",
       "\n",
       "    .dataframe thead th {\n",
       "        text-align: right;\n",
       "    }\n",
       "</style>\n",
       "<table border=\"1\" class=\"dataframe\">\n",
       "  <thead>\n",
       "    <tr style=\"text-align: right;\">\n",
       "      <th></th>\n",
       "      <th>name</th>\n",
       "      <th>platform</th>\n",
       "      <th>year_of_release</th>\n",
       "      <th>genre</th>\n",
       "      <th>na_sales</th>\n",
       "      <th>eu_sales</th>\n",
       "      <th>jp_sales</th>\n",
       "      <th>other_sales</th>\n",
       "      <th>critic_score</th>\n",
       "      <th>user_score</th>\n",
       "      <th>rating</th>\n",
       "    </tr>\n",
       "  </thead>\n",
       "  <tbody>\n",
       "    <tr>\n",
       "      <th>0</th>\n",
       "      <td>Wii Sports</td>\n",
       "      <td>Wii</td>\n",
       "      <td>2006.0</td>\n",
       "      <td>Sports</td>\n",
       "      <td>41.36</td>\n",
       "      <td>28.96</td>\n",
       "      <td>3.77</td>\n",
       "      <td>8.45</td>\n",
       "      <td>76.0</td>\n",
       "      <td>8</td>\n",
       "      <td>E</td>\n",
       "    </tr>\n",
       "    <tr>\n",
       "      <th>1</th>\n",
       "      <td>Super Mario Bros.</td>\n",
       "      <td>NES</td>\n",
       "      <td>1985.0</td>\n",
       "      <td>Platform</td>\n",
       "      <td>29.08</td>\n",
       "      <td>3.58</td>\n",
       "      <td>6.81</td>\n",
       "      <td>0.77</td>\n",
       "      <td>NaN</td>\n",
       "      <td>NaN</td>\n",
       "      <td>NaN</td>\n",
       "    </tr>\n",
       "    <tr>\n",
       "      <th>2</th>\n",
       "      <td>Mario Kart Wii</td>\n",
       "      <td>Wii</td>\n",
       "      <td>2008.0</td>\n",
       "      <td>Racing</td>\n",
       "      <td>15.68</td>\n",
       "      <td>12.76</td>\n",
       "      <td>3.79</td>\n",
       "      <td>3.29</td>\n",
       "      <td>82.0</td>\n",
       "      <td>8.3</td>\n",
       "      <td>E</td>\n",
       "    </tr>\n",
       "    <tr>\n",
       "      <th>3</th>\n",
       "      <td>Wii Sports Resort</td>\n",
       "      <td>Wii</td>\n",
       "      <td>2009.0</td>\n",
       "      <td>Sports</td>\n",
       "      <td>15.61</td>\n",
       "      <td>10.93</td>\n",
       "      <td>3.28</td>\n",
       "      <td>2.95</td>\n",
       "      <td>80.0</td>\n",
       "      <td>8</td>\n",
       "      <td>E</td>\n",
       "    </tr>\n",
       "    <tr>\n",
       "      <th>4</th>\n",
       "      <td>Pokemon Red/Pokemon Blue</td>\n",
       "      <td>GB</td>\n",
       "      <td>1996.0</td>\n",
       "      <td>Role-Playing</td>\n",
       "      <td>11.27</td>\n",
       "      <td>8.89</td>\n",
       "      <td>10.22</td>\n",
       "      <td>1.00</td>\n",
       "      <td>NaN</td>\n",
       "      <td>NaN</td>\n",
       "      <td>NaN</td>\n",
       "    </tr>\n",
       "  </tbody>\n",
       "</table>\n",
       "</div>"
      ],
      "text/plain": [
       "                       name platform  year_of_release         genre  na_sales  \\\n",
       "0                Wii Sports      Wii           2006.0        Sports     41.36   \n",
       "1         Super Mario Bros.      NES           1985.0      Platform     29.08   \n",
       "2            Mario Kart Wii      Wii           2008.0        Racing     15.68   \n",
       "3         Wii Sports Resort      Wii           2009.0        Sports     15.61   \n",
       "4  Pokemon Red/Pokemon Blue       GB           1996.0  Role-Playing     11.27   \n",
       "\n",
       "   eu_sales  jp_sales  other_sales  critic_score user_score rating  \n",
       "0     28.96      3.77         8.45          76.0          8      E  \n",
       "1      3.58      6.81         0.77           NaN        NaN    NaN  \n",
       "2     12.76      3.79         3.29          82.0        8.3      E  \n",
       "3     10.93      3.28         2.95          80.0          8      E  \n",
       "4      8.89     10.22         1.00           NaN        NaN    NaN  "
      ]
     },
     "execution_count": 4,
     "metadata": {},
     "output_type": "execute_result"
    }
   ],
   "source": [
    "df.columns = df.columns.str.lower() # приведем названия столбцов к нижнему регистру\n",
    "df.head()"
   ]
  },
  {
   "cell_type": "code",
   "execution_count": 5,
   "metadata": {},
   "outputs": [
    {
     "data": {
      "text/plain": [
       "name                  2\n",
       "platform              0\n",
       "year_of_release     269\n",
       "genre                 2\n",
       "na_sales              0\n",
       "eu_sales              0\n",
       "jp_sales              0\n",
       "other_sales           0\n",
       "critic_score       8578\n",
       "user_score         6701\n",
       "rating             6766\n",
       "dtype: int64"
      ]
     },
     "execution_count": 5,
     "metadata": {},
     "output_type": "execute_result"
    }
   ],
   "source": [
    "df.isna().sum() # посмотрим количество пропущенных значений в столбцах"
   ]
  },
  {
   "cell_type": "code",
   "execution_count": 6,
   "metadata": {},
   "outputs": [
    {
     "data": {
      "text/html": [
       "<div>\n",
       "<style scoped>\n",
       "    .dataframe tbody tr th:only-of-type {\n",
       "        vertical-align: middle;\n",
       "    }\n",
       "\n",
       "    .dataframe tbody tr th {\n",
       "        vertical-align: top;\n",
       "    }\n",
       "\n",
       "    .dataframe thead th {\n",
       "        text-align: right;\n",
       "    }\n",
       "</style>\n",
       "<table border=\"1\" class=\"dataframe\">\n",
       "  <thead>\n",
       "    <tr style=\"text-align: right;\">\n",
       "      <th></th>\n",
       "      <th>name</th>\n",
       "      <th>platform</th>\n",
       "      <th>year_of_release</th>\n",
       "      <th>genre</th>\n",
       "      <th>na_sales</th>\n",
       "      <th>eu_sales</th>\n",
       "      <th>jp_sales</th>\n",
       "      <th>other_sales</th>\n",
       "      <th>critic_score</th>\n",
       "      <th>user_score</th>\n",
       "      <th>rating</th>\n",
       "    </tr>\n",
       "  </thead>\n",
       "  <tbody>\n",
       "    <tr>\n",
       "      <th>659</th>\n",
       "      <td>NaN</td>\n",
       "      <td>GEN</td>\n",
       "      <td>1993.0</td>\n",
       "      <td>NaN</td>\n",
       "      <td>1.78</td>\n",
       "      <td>0.53</td>\n",
       "      <td>0.00</td>\n",
       "      <td>0.08</td>\n",
       "      <td>NaN</td>\n",
       "      <td>NaN</td>\n",
       "      <td>NaN</td>\n",
       "    </tr>\n",
       "    <tr>\n",
       "      <th>14244</th>\n",
       "      <td>NaN</td>\n",
       "      <td>GEN</td>\n",
       "      <td>1993.0</td>\n",
       "      <td>NaN</td>\n",
       "      <td>0.00</td>\n",
       "      <td>0.00</td>\n",
       "      <td>0.03</td>\n",
       "      <td>0.00</td>\n",
       "      <td>NaN</td>\n",
       "      <td>NaN</td>\n",
       "      <td>NaN</td>\n",
       "    </tr>\n",
       "  </tbody>\n",
       "</table>\n",
       "</div>"
      ],
      "text/plain": [
       "      name platform  year_of_release genre  na_sales  eu_sales  jp_sales  \\\n",
       "659    NaN      GEN           1993.0   NaN      1.78      0.53      0.00   \n",
       "14244  NaN      GEN           1993.0   NaN      0.00      0.00      0.03   \n",
       "\n",
       "       other_sales  critic_score user_score rating  \n",
       "659           0.08           NaN        NaN    NaN  \n",
       "14244         0.00           NaN        NaN    NaN  "
      ]
     },
     "execution_count": 6,
     "metadata": {},
     "output_type": "execute_result"
    }
   ],
   "source": [
    "df.query('name.isna()') # найдем данные у которых нет информации о названии и жанре"
   ]
  },
  {
   "cell_type": "code",
   "execution_count": 7,
   "metadata": {},
   "outputs": [],
   "source": [
    "df = df[~df['name'].isna()] # удалим данные строчки, т.к. они не представляют ценности для исследования"
   ]
  },
  {
   "cell_type": "code",
   "execution_count": 8,
   "metadata": {},
   "outputs": [
    {
     "data": {
      "text/html": [
       "<div>\n",
       "<style scoped>\n",
       "    .dataframe tbody tr th:only-of-type {\n",
       "        vertical-align: middle;\n",
       "    }\n",
       "\n",
       "    .dataframe tbody tr th {\n",
       "        vertical-align: top;\n",
       "    }\n",
       "\n",
       "    .dataframe thead th {\n",
       "        text-align: right;\n",
       "    }\n",
       "</style>\n",
       "<table border=\"1\" class=\"dataframe\">\n",
       "  <thead>\n",
       "    <tr style=\"text-align: right;\">\n",
       "      <th></th>\n",
       "      <th>name</th>\n",
       "      <th>platform</th>\n",
       "      <th>year_of_release</th>\n",
       "      <th>genre</th>\n",
       "      <th>na_sales</th>\n",
       "      <th>eu_sales</th>\n",
       "      <th>jp_sales</th>\n",
       "      <th>other_sales</th>\n",
       "      <th>critic_score</th>\n",
       "      <th>user_score</th>\n",
       "      <th>rating</th>\n",
       "    </tr>\n",
       "  </thead>\n",
       "  <tbody>\n",
       "    <tr>\n",
       "      <th>183</th>\n",
       "      <td>Madden NFL 2004</td>\n",
       "      <td>PS2</td>\n",
       "      <td>NaN</td>\n",
       "      <td>Sports</td>\n",
       "      <td>4.26</td>\n",
       "      <td>0.26</td>\n",
       "      <td>0.01</td>\n",
       "      <td>0.71</td>\n",
       "      <td>94.0</td>\n",
       "      <td>8.5</td>\n",
       "      <td>E</td>\n",
       "    </tr>\n",
       "    <tr>\n",
       "      <th>377</th>\n",
       "      <td>FIFA Soccer 2004</td>\n",
       "      <td>PS2</td>\n",
       "      <td>NaN</td>\n",
       "      <td>Sports</td>\n",
       "      <td>0.59</td>\n",
       "      <td>2.36</td>\n",
       "      <td>0.04</td>\n",
       "      <td>0.51</td>\n",
       "      <td>84.0</td>\n",
       "      <td>6.4</td>\n",
       "      <td>E</td>\n",
       "    </tr>\n",
       "    <tr>\n",
       "      <th>456</th>\n",
       "      <td>LEGO Batman: The Videogame</td>\n",
       "      <td>Wii</td>\n",
       "      <td>NaN</td>\n",
       "      <td>Action</td>\n",
       "      <td>1.80</td>\n",
       "      <td>0.97</td>\n",
       "      <td>0.00</td>\n",
       "      <td>0.29</td>\n",
       "      <td>74.0</td>\n",
       "      <td>7.9</td>\n",
       "      <td>E10+</td>\n",
       "    </tr>\n",
       "    <tr>\n",
       "      <th>475</th>\n",
       "      <td>wwe Smackdown vs. Raw 2006</td>\n",
       "      <td>PS2</td>\n",
       "      <td>NaN</td>\n",
       "      <td>Fighting</td>\n",
       "      <td>1.57</td>\n",
       "      <td>1.02</td>\n",
       "      <td>0.00</td>\n",
       "      <td>0.41</td>\n",
       "      <td>NaN</td>\n",
       "      <td>NaN</td>\n",
       "      <td>NaN</td>\n",
       "    </tr>\n",
       "    <tr>\n",
       "      <th>609</th>\n",
       "      <td>Space Invaders</td>\n",
       "      <td>2600</td>\n",
       "      <td>NaN</td>\n",
       "      <td>Shooter</td>\n",
       "      <td>2.36</td>\n",
       "      <td>0.14</td>\n",
       "      <td>0.00</td>\n",
       "      <td>0.03</td>\n",
       "      <td>NaN</td>\n",
       "      <td>NaN</td>\n",
       "      <td>NaN</td>\n",
       "    </tr>\n",
       "    <tr>\n",
       "      <th>...</th>\n",
       "      <td>...</td>\n",
       "      <td>...</td>\n",
       "      <td>...</td>\n",
       "      <td>...</td>\n",
       "      <td>...</td>\n",
       "      <td>...</td>\n",
       "      <td>...</td>\n",
       "      <td>...</td>\n",
       "      <td>...</td>\n",
       "      <td>...</td>\n",
       "      <td>...</td>\n",
       "    </tr>\n",
       "    <tr>\n",
       "      <th>16373</th>\n",
       "      <td>PDC World Championship Darts 2008</td>\n",
       "      <td>PSP</td>\n",
       "      <td>NaN</td>\n",
       "      <td>Sports</td>\n",
       "      <td>0.01</td>\n",
       "      <td>0.00</td>\n",
       "      <td>0.00</td>\n",
       "      <td>0.00</td>\n",
       "      <td>43.0</td>\n",
       "      <td>tbd</td>\n",
       "      <td>E10+</td>\n",
       "    </tr>\n",
       "    <tr>\n",
       "      <th>16405</th>\n",
       "      <td>Freaky Flyers</td>\n",
       "      <td>GC</td>\n",
       "      <td>NaN</td>\n",
       "      <td>Racing</td>\n",
       "      <td>0.01</td>\n",
       "      <td>0.00</td>\n",
       "      <td>0.00</td>\n",
       "      <td>0.00</td>\n",
       "      <td>69.0</td>\n",
       "      <td>6.5</td>\n",
       "      <td>T</td>\n",
       "    </tr>\n",
       "    <tr>\n",
       "      <th>16448</th>\n",
       "      <td>Inversion</td>\n",
       "      <td>PC</td>\n",
       "      <td>NaN</td>\n",
       "      <td>Shooter</td>\n",
       "      <td>0.01</td>\n",
       "      <td>0.00</td>\n",
       "      <td>0.00</td>\n",
       "      <td>0.00</td>\n",
       "      <td>59.0</td>\n",
       "      <td>6.7</td>\n",
       "      <td>M</td>\n",
       "    </tr>\n",
       "    <tr>\n",
       "      <th>16458</th>\n",
       "      <td>Hakuouki: Shinsengumi Kitan</td>\n",
       "      <td>PS3</td>\n",
       "      <td>NaN</td>\n",
       "      <td>Adventure</td>\n",
       "      <td>0.01</td>\n",
       "      <td>0.00</td>\n",
       "      <td>0.00</td>\n",
       "      <td>0.00</td>\n",
       "      <td>NaN</td>\n",
       "      <td>NaN</td>\n",
       "      <td>NaN</td>\n",
       "    </tr>\n",
       "    <tr>\n",
       "      <th>16522</th>\n",
       "      <td>Virtua Quest</td>\n",
       "      <td>GC</td>\n",
       "      <td>NaN</td>\n",
       "      <td>Role-Playing</td>\n",
       "      <td>0.01</td>\n",
       "      <td>0.00</td>\n",
       "      <td>0.00</td>\n",
       "      <td>0.00</td>\n",
       "      <td>55.0</td>\n",
       "      <td>5.5</td>\n",
       "      <td>T</td>\n",
       "    </tr>\n",
       "  </tbody>\n",
       "</table>\n",
       "<p>269 rows × 11 columns</p>\n",
       "</div>"
      ],
      "text/plain": [
       "                                    name platform  year_of_release  \\\n",
       "183                      Madden NFL 2004      PS2              NaN   \n",
       "377                     FIFA Soccer 2004      PS2              NaN   \n",
       "456           LEGO Batman: The Videogame      Wii              NaN   \n",
       "475           wwe Smackdown vs. Raw 2006      PS2              NaN   \n",
       "609                       Space Invaders     2600              NaN   \n",
       "...                                  ...      ...              ...   \n",
       "16373  PDC World Championship Darts 2008      PSP              NaN   \n",
       "16405                      Freaky Flyers       GC              NaN   \n",
       "16448                          Inversion       PC              NaN   \n",
       "16458        Hakuouki: Shinsengumi Kitan      PS3              NaN   \n",
       "16522                       Virtua Quest       GC              NaN   \n",
       "\n",
       "              genre  na_sales  eu_sales  jp_sales  other_sales  critic_score  \\\n",
       "183          Sports      4.26      0.26      0.01         0.71          94.0   \n",
       "377          Sports      0.59      2.36      0.04         0.51          84.0   \n",
       "456          Action      1.80      0.97      0.00         0.29          74.0   \n",
       "475        Fighting      1.57      1.02      0.00         0.41           NaN   \n",
       "609         Shooter      2.36      0.14      0.00         0.03           NaN   \n",
       "...             ...       ...       ...       ...          ...           ...   \n",
       "16373        Sports      0.01      0.00      0.00         0.00          43.0   \n",
       "16405        Racing      0.01      0.00      0.00         0.00          69.0   \n",
       "16448       Shooter      0.01      0.00      0.00         0.00          59.0   \n",
       "16458     Adventure      0.01      0.00      0.00         0.00           NaN   \n",
       "16522  Role-Playing      0.01      0.00      0.00         0.00          55.0   \n",
       "\n",
       "      user_score rating  \n",
       "183          8.5      E  \n",
       "377          6.4      E  \n",
       "456          7.9   E10+  \n",
       "475          NaN    NaN  \n",
       "609          NaN    NaN  \n",
       "...          ...    ...  \n",
       "16373        tbd   E10+  \n",
       "16405        6.5      T  \n",
       "16448        6.7      M  \n",
       "16458        NaN    NaN  \n",
       "16522        5.5      T  \n",
       "\n",
       "[269 rows x 11 columns]"
      ]
     },
     "execution_count": 8,
     "metadata": {},
     "output_type": "execute_result"
    }
   ],
   "source": [
    "df.query('year_of_release.isna()') # посмотрим на пропуски в данных по годам"
   ]
  },
  {
   "cell_type": "markdown",
   "metadata": {},
   "source": [
    "Как мы видим из данных с пропусками по годам, во многих из них нет информации о продажах (продажи равны нулю). В названиях некоторых игр присутсвуют года, но заполнить год релиза корректно не представляется возможно. Т.к. мы не знаем когда именно вышла игра. Например, \"FIFA Soccer 2004\" могла выйти в 2003 или 2004, или 2005, если в ней сезон 2004-2005. Однозначного и точного ответа нет. Нужна дополнительная информация. Но поскольку количествотаких данных с пустым годом релиза и непонятными продажами невелико, то их можно проигнорировать и удалить."
   ]
  },
  {
   "cell_type": "code",
   "execution_count": 9,
   "metadata": {},
   "outputs": [],
   "source": [
    "df = df[~df['year_of_release'].isna()] # также удалим строчки с пустыми данными о годе выпуска игры. Количество таких строк невелико, поэтому на выводы они повлиять не смогут."
   ]
  },
  {
   "cell_type": "code",
   "execution_count": 10,
   "metadata": {},
   "outputs": [
    {
     "data": {
      "text/plain": [
       "(16444, 11)"
      ]
     },
     "execution_count": 10,
     "metadata": {},
     "output_type": "execute_result"
    }
   ],
   "source": [
    "df.shape"
   ]
  },
  {
   "cell_type": "markdown",
   "metadata": {},
   "source": [
    "Теперь рассмотрим данные в столбце `user_score`. Стобцец имеет неверный формат. И в нем помимо пустых значений присутствует значение **'tbd'**.  Оно означает \"To Be Determined\", т.е. **\"будет определено\"**. Времени с момента релиза игр прошло достаточно, поэтому данное значение стоит заменить. Но заменить на \"NaN\", т.к. точной информации о рейтинге нет, а присвоить значения критиков - некорректно."
   ]
  },
  {
   "cell_type": "code",
   "execution_count": 11,
   "metadata": {},
   "outputs": [
    {
     "data": {
      "text/plain": [
       "array(['8', nan, '8.3', '8.5', '6.6', '8.4', '8.6', '7.7', '6.3', '7.4',\n",
       "       '8.2', '9', '7.9', '8.1', '8.7', '7.1', '3.4', '5.3', '4.8', '3.2',\n",
       "       '8.9', '6.4', '7.8', '7.5', '2.6', '7.2', '9.2', '7', '7.3', '4.3',\n",
       "       '7.6', '5.7', '5', '9.1', '6.5', 'tbd', '8.8', '6.9', '9.4', '6.8',\n",
       "       '6.1', '6.7', '5.4', '4', '4.9', '4.5', '9.3', '6.2', '4.2', '6',\n",
       "       '3.7', '4.1', '5.8', '5.6', '5.5', '4.4', '4.6', '5.9', '3.9',\n",
       "       '3.1', '2.9', '5.2', '3.3', '4.7', '5.1', '3.5', '2.5', '1.9', '3',\n",
       "       '2.7', '2.2', '2', '9.5', '2.1', '3.6', '2.8', '1.8', '3.8', '0',\n",
       "       '1.6', '9.6', '2.4', '1.7', '1.1', '0.3', '1.5', '0.7', '1.2',\n",
       "       '2.3', '0.5', '1.3', '0.2', '0.6', '1.4', '0.9', '1', '9.7'],\n",
       "      dtype=object)"
      ]
     },
     "execution_count": 11,
     "metadata": {},
     "output_type": "execute_result"
    }
   ],
   "source": [
    "df['user_score'].unique()"
   ]
  },
  {
   "cell_type": "code",
   "execution_count": 12,
   "metadata": {},
   "outputs": [],
   "source": [
    "df.loc[df['user_score'] == 'tbd', 'user_score'] = 'NaN' # заменим значения 'tbd' на 'NaN'"
   ]
  },
  {
   "cell_type": "code",
   "execution_count": 13,
   "metadata": {},
   "outputs": [
    {
     "data": {
      "text/plain": [
       "array(['8', nan, '8.3', '8.5', '6.6', '8.4', '8.6', '7.7', '6.3', '7.4',\n",
       "       '8.2', '9', '7.9', '8.1', '8.7', '7.1', '3.4', '5.3', '4.8', '3.2',\n",
       "       '8.9', '6.4', '7.8', '7.5', '2.6', '7.2', '9.2', '7', '7.3', '4.3',\n",
       "       '7.6', '5.7', '5', '9.1', '6.5', 'NaN', '8.8', '6.9', '9.4', '6.8',\n",
       "       '6.1', '6.7', '5.4', '4', '4.9', '4.5', '9.3', '6.2', '4.2', '6',\n",
       "       '3.7', '4.1', '5.8', '5.6', '5.5', '4.4', '4.6', '5.9', '3.9',\n",
       "       '3.1', '2.9', '5.2', '3.3', '4.7', '5.1', '3.5', '2.5', '1.9', '3',\n",
       "       '2.7', '2.2', '2', '9.5', '2.1', '3.6', '2.8', '1.8', '3.8', '0',\n",
       "       '1.6', '9.6', '2.4', '1.7', '1.1', '0.3', '1.5', '0.7', '1.2',\n",
       "       '2.3', '0.5', '1.3', '0.2', '0.6', '1.4', '0.9', '1', '9.7'],\n",
       "      dtype=object)"
      ]
     },
     "execution_count": 13,
     "metadata": {},
     "output_type": "execute_result"
    }
   ],
   "source": [
    "df['user_score'].unique() # как мы видим 'tbd' исчезли из датасета"
   ]
  },
  {
   "cell_type": "code",
   "execution_count": 14,
   "metadata": {},
   "outputs": [
    {
     "name": "stdout",
     "output_type": "stream",
     "text": [
      "<class 'pandas.core.frame.DataFrame'>\n",
      "Int64Index: 16444 entries, 0 to 16714\n",
      "Data columns (total 11 columns):\n",
      " #   Column           Non-Null Count  Dtype  \n",
      "---  ------           --------------  -----  \n",
      " 0   name             16444 non-null  object \n",
      " 1   platform         16444 non-null  object \n",
      " 2   year_of_release  16444 non-null  int64  \n",
      " 3   genre            16444 non-null  object \n",
      " 4   na_sales         16444 non-null  float64\n",
      " 5   eu_sales         16444 non-null  float64\n",
      " 6   jp_sales         16444 non-null  float64\n",
      " 7   other_sales      16444 non-null  float64\n",
      " 8   critic_score     7983 non-null   float64\n",
      " 9   user_score       7463 non-null   float64\n",
      " 10  rating           9768 non-null   object \n",
      "dtypes: float64(6), int64(1), object(4)\n",
      "memory usage: 1.5+ MB\n"
     ]
    }
   ],
   "source": [
    "df['user_score'] = df['user_score'].astype(float) # исправим тип данных на float\n",
    "df['year_of_release'] = df['year_of_release'].astype(int) # а у значений года исправим тип данных на int\n",
    "df.info()"
   ]
  },
  {
   "cell_type": "code",
   "execution_count": 17,
   "metadata": {},
   "outputs": [],
   "source": [
    "df['sum_sales'] = df['na_sales'] + df['eu_sales'] + df['jp_sales'] + df['other_sales'] # создадим столбец с суммарными продажами по всем регионам"
   ]
  },
  {
   "cell_type": "code",
   "execution_count": 18,
   "metadata": {},
   "outputs": [
    {
     "name": "stdout",
     "output_type": "stream",
     "text": [
      "<class 'pandas.core.frame.DataFrame'>\n",
      "Int64Index: 16444 entries, 0 to 16714\n",
      "Data columns (total 12 columns):\n",
      " #   Column           Non-Null Count  Dtype  \n",
      "---  ------           --------------  -----  \n",
      " 0   name             16444 non-null  object \n",
      " 1   platform         16444 non-null  object \n",
      " 2   year_of_release  16444 non-null  int64  \n",
      " 3   genre            16444 non-null  object \n",
      " 4   na_sales         16444 non-null  float64\n",
      " 5   eu_sales         16444 non-null  float64\n",
      " 6   jp_sales         16444 non-null  float64\n",
      " 7   other_sales      16444 non-null  float64\n",
      " 8   critic_score     7983 non-null   float64\n",
      " 9   user_score       7463 non-null   float64\n",
      " 10  rating           9768 non-null   object \n",
      " 11  sum_sales        16444 non-null  float64\n",
      "dtypes: float64(7), int64(1), object(4)\n",
      "memory usage: 1.6+ MB\n"
     ]
    }
   ],
   "source": [
    "df.info()"
   ]
  },
  {
   "cell_type": "code",
   "execution_count": 19,
   "metadata": {},
   "outputs": [
    {
     "data": {
      "text/plain": [
       "0"
      ]
     },
     "execution_count": 19,
     "metadata": {},
     "output_type": "execute_result"
    }
   ],
   "source": [
    "df.duplicated().sum() # проверим на ниличие явных дубликатов"
   ]
  },
  {
   "cell_type": "code",
   "execution_count": 20,
   "metadata": {},
   "outputs": [
    {
     "data": {
      "text/html": [
       "<div>\n",
       "<style scoped>\n",
       "    .dataframe tbody tr th:only-of-type {\n",
       "        vertical-align: middle;\n",
       "    }\n",
       "\n",
       "    .dataframe tbody tr th {\n",
       "        vertical-align: top;\n",
       "    }\n",
       "\n",
       "    .dataframe thead th {\n",
       "        text-align: right;\n",
       "    }\n",
       "</style>\n",
       "<table border=\"1\" class=\"dataframe\">\n",
       "  <thead>\n",
       "    <tr style=\"text-align: right;\">\n",
       "      <th></th>\n",
       "      <th>name</th>\n",
       "      <th>platform</th>\n",
       "      <th>year_of_release</th>\n",
       "      <th>genre</th>\n",
       "      <th>na_sales</th>\n",
       "      <th>eu_sales</th>\n",
       "      <th>jp_sales</th>\n",
       "      <th>other_sales</th>\n",
       "      <th>critic_score</th>\n",
       "      <th>user_score</th>\n",
       "      <th>rating</th>\n",
       "      <th>sum_sales</th>\n",
       "    </tr>\n",
       "  </thead>\n",
       "  <tbody>\n",
       "    <tr>\n",
       "      <th>1591</th>\n",
       "      <td>Need for Speed: Most Wanted</td>\n",
       "      <td>X360</td>\n",
       "      <td>2005</td>\n",
       "      <td>Racing</td>\n",
       "      <td>1.0</td>\n",
       "      <td>0.13</td>\n",
       "      <td>0.02</td>\n",
       "      <td>0.10</td>\n",
       "      <td>83.0</td>\n",
       "      <td>8.5</td>\n",
       "      <td>T</td>\n",
       "      <td>1.25</td>\n",
       "    </tr>\n",
       "    <tr>\n",
       "      <th>11715</th>\n",
       "      <td>Need for Speed: Most Wanted</td>\n",
       "      <td>PC</td>\n",
       "      <td>2012</td>\n",
       "      <td>Racing</td>\n",
       "      <td>0.0</td>\n",
       "      <td>0.06</td>\n",
       "      <td>0.00</td>\n",
       "      <td>0.02</td>\n",
       "      <td>82.0</td>\n",
       "      <td>8.5</td>\n",
       "      <td>T</td>\n",
       "      <td>0.08</td>\n",
       "    </tr>\n",
       "    <tr>\n",
       "      <th>16230</th>\n",
       "      <td>Madden NFL 13</td>\n",
       "      <td>PS3</td>\n",
       "      <td>2012</td>\n",
       "      <td>Sports</td>\n",
       "      <td>0.0</td>\n",
       "      <td>0.01</td>\n",
       "      <td>0.00</td>\n",
       "      <td>0.00</td>\n",
       "      <td>83.0</td>\n",
       "      <td>5.5</td>\n",
       "      <td>E</td>\n",
       "      <td>0.01</td>\n",
       "    </tr>\n",
       "  </tbody>\n",
       "</table>\n",
       "</div>"
      ],
      "text/plain": [
       "                              name platform  year_of_release   genre  \\\n",
       "1591   Need for Speed: Most Wanted     X360             2005  Racing   \n",
       "11715  Need for Speed: Most Wanted       PC             2012  Racing   \n",
       "16230                Madden NFL 13      PS3             2012  Sports   \n",
       "\n",
       "       na_sales  eu_sales  jp_sales  other_sales  critic_score  user_score  \\\n",
       "1591        1.0      0.13      0.02         0.10          83.0         8.5   \n",
       "11715       0.0      0.06      0.00         0.02          82.0         8.5   \n",
       "16230       0.0      0.01      0.00         0.00          83.0         5.5   \n",
       "\n",
       "      rating  sum_sales  \n",
       "1591       T       1.25  \n",
       "11715      T       0.08  \n",
       "16230      E       0.01  "
      ]
     },
     "execution_count": 20,
     "metadata": {},
     "output_type": "execute_result"
    }
   ],
   "source": [
    "df.loc[df.duplicated(subset=['name', 'platform']) == True] # в парах есть неявные дубликаты"
   ]
  },
  {
   "cell_type": "code",
   "execution_count": 21,
   "metadata": {},
   "outputs": [
    {
     "data": {
      "text/html": [
       "<div>\n",
       "<style scoped>\n",
       "    .dataframe tbody tr th:only-of-type {\n",
       "        vertical-align: middle;\n",
       "    }\n",
       "\n",
       "    .dataframe tbody tr th {\n",
       "        vertical-align: top;\n",
       "    }\n",
       "\n",
       "    .dataframe thead th {\n",
       "        text-align: right;\n",
       "    }\n",
       "</style>\n",
       "<table border=\"1\" class=\"dataframe\">\n",
       "  <thead>\n",
       "    <tr style=\"text-align: right;\">\n",
       "      <th></th>\n",
       "      <th>name</th>\n",
       "      <th>platform</th>\n",
       "      <th>year_of_release</th>\n",
       "      <th>genre</th>\n",
       "      <th>na_sales</th>\n",
       "      <th>eu_sales</th>\n",
       "      <th>jp_sales</th>\n",
       "      <th>other_sales</th>\n",
       "      <th>critic_score</th>\n",
       "      <th>user_score</th>\n",
       "      <th>rating</th>\n",
       "      <th>sum_sales</th>\n",
       "    </tr>\n",
       "  </thead>\n",
       "  <tbody>\n",
       "    <tr>\n",
       "      <th>253</th>\n",
       "      <td>Need for Speed: Most Wanted</td>\n",
       "      <td>PS2</td>\n",
       "      <td>2005</td>\n",
       "      <td>Racing</td>\n",
       "      <td>2.03</td>\n",
       "      <td>1.79</td>\n",
       "      <td>0.08</td>\n",
       "      <td>0.47</td>\n",
       "      <td>82.0</td>\n",
       "      <td>9.1</td>\n",
       "      <td>T</td>\n",
       "      <td>4.37</td>\n",
       "    </tr>\n",
       "    <tr>\n",
       "      <th>507</th>\n",
       "      <td>Madden NFL 13</td>\n",
       "      <td>X360</td>\n",
       "      <td>2012</td>\n",
       "      <td>Sports</td>\n",
       "      <td>2.53</td>\n",
       "      <td>0.15</td>\n",
       "      <td>0.00</td>\n",
       "      <td>0.17</td>\n",
       "      <td>81.0</td>\n",
       "      <td>5.8</td>\n",
       "      <td>E</td>\n",
       "      <td>2.85</td>\n",
       "    </tr>\n",
       "    <tr>\n",
       "      <th>523</th>\n",
       "      <td>Need for Speed: Most Wanted</td>\n",
       "      <td>PS3</td>\n",
       "      <td>2012</td>\n",
       "      <td>Racing</td>\n",
       "      <td>0.71</td>\n",
       "      <td>1.46</td>\n",
       "      <td>0.06</td>\n",
       "      <td>0.58</td>\n",
       "      <td>NaN</td>\n",
       "      <td>NaN</td>\n",
       "      <td>NaN</td>\n",
       "      <td>2.81</td>\n",
       "    </tr>\n",
       "    <tr>\n",
       "      <th>604</th>\n",
       "      <td>Madden NFL 13</td>\n",
       "      <td>PS3</td>\n",
       "      <td>2012</td>\n",
       "      <td>Sports</td>\n",
       "      <td>2.11</td>\n",
       "      <td>0.22</td>\n",
       "      <td>0.00</td>\n",
       "      <td>0.23</td>\n",
       "      <td>83.0</td>\n",
       "      <td>5.5</td>\n",
       "      <td>E</td>\n",
       "      <td>2.56</td>\n",
       "    </tr>\n",
       "    <tr>\n",
       "      <th>1190</th>\n",
       "      <td>Need for Speed: Most Wanted</td>\n",
       "      <td>X360</td>\n",
       "      <td>2012</td>\n",
       "      <td>Racing</td>\n",
       "      <td>0.62</td>\n",
       "      <td>0.78</td>\n",
       "      <td>0.01</td>\n",
       "      <td>0.15</td>\n",
       "      <td>83.0</td>\n",
       "      <td>8.5</td>\n",
       "      <td>T</td>\n",
       "      <td>1.56</td>\n",
       "    </tr>\n",
       "    <tr>\n",
       "      <th>1591</th>\n",
       "      <td>Need for Speed: Most Wanted</td>\n",
       "      <td>X360</td>\n",
       "      <td>2005</td>\n",
       "      <td>Racing</td>\n",
       "      <td>1.00</td>\n",
       "      <td>0.13</td>\n",
       "      <td>0.02</td>\n",
       "      <td>0.10</td>\n",
       "      <td>83.0</td>\n",
       "      <td>8.5</td>\n",
       "      <td>T</td>\n",
       "      <td>1.25</td>\n",
       "    </tr>\n",
       "    <tr>\n",
       "      <th>1998</th>\n",
       "      <td>Need for Speed: Most Wanted</td>\n",
       "      <td>XB</td>\n",
       "      <td>2005</td>\n",
       "      <td>Racing</td>\n",
       "      <td>0.53</td>\n",
       "      <td>0.46</td>\n",
       "      <td>0.00</td>\n",
       "      <td>0.05</td>\n",
       "      <td>83.0</td>\n",
       "      <td>8.8</td>\n",
       "      <td>T</td>\n",
       "      <td>1.04</td>\n",
       "    </tr>\n",
       "    <tr>\n",
       "      <th>2048</th>\n",
       "      <td>Need for Speed: Most Wanted</td>\n",
       "      <td>PSV</td>\n",
       "      <td>2012</td>\n",
       "      <td>Racing</td>\n",
       "      <td>0.33</td>\n",
       "      <td>0.45</td>\n",
       "      <td>0.01</td>\n",
       "      <td>0.22</td>\n",
       "      <td>NaN</td>\n",
       "      <td>NaN</td>\n",
       "      <td>NaN</td>\n",
       "      <td>1.01</td>\n",
       "    </tr>\n",
       "    <tr>\n",
       "      <th>3581</th>\n",
       "      <td>Need for Speed: Most Wanted</td>\n",
       "      <td>GC</td>\n",
       "      <td>2005</td>\n",
       "      <td>Racing</td>\n",
       "      <td>0.43</td>\n",
       "      <td>0.11</td>\n",
       "      <td>0.00</td>\n",
       "      <td>0.02</td>\n",
       "      <td>80.0</td>\n",
       "      <td>9.1</td>\n",
       "      <td>T</td>\n",
       "      <td>0.56</td>\n",
       "    </tr>\n",
       "    <tr>\n",
       "      <th>3986</th>\n",
       "      <td>Madden NFL 13</td>\n",
       "      <td>Wii</td>\n",
       "      <td>2012</td>\n",
       "      <td>Sports</td>\n",
       "      <td>0.47</td>\n",
       "      <td>0.00</td>\n",
       "      <td>0.00</td>\n",
       "      <td>0.03</td>\n",
       "      <td>NaN</td>\n",
       "      <td>7.3</td>\n",
       "      <td>E</td>\n",
       "      <td>0.50</td>\n",
       "    </tr>\n",
       "    <tr>\n",
       "      <th>5887</th>\n",
       "      <td>Madden NFL 13</td>\n",
       "      <td>PSV</td>\n",
       "      <td>2012</td>\n",
       "      <td>Sports</td>\n",
       "      <td>0.28</td>\n",
       "      <td>0.00</td>\n",
       "      <td>0.00</td>\n",
       "      <td>0.02</td>\n",
       "      <td>63.0</td>\n",
       "      <td>7.3</td>\n",
       "      <td>E</td>\n",
       "      <td>0.30</td>\n",
       "    </tr>\n",
       "    <tr>\n",
       "      <th>5972</th>\n",
       "      <td>Need for Speed: Most Wanted</td>\n",
       "      <td>PC</td>\n",
       "      <td>2005</td>\n",
       "      <td>Racing</td>\n",
       "      <td>0.02</td>\n",
       "      <td>0.23</td>\n",
       "      <td>0.00</td>\n",
       "      <td>0.04</td>\n",
       "      <td>82.0</td>\n",
       "      <td>8.5</td>\n",
       "      <td>T</td>\n",
       "      <td>0.29</td>\n",
       "    </tr>\n",
       "    <tr>\n",
       "      <th>6273</th>\n",
       "      <td>Need for Speed: Most Wanted</td>\n",
       "      <td>WiiU</td>\n",
       "      <td>2013</td>\n",
       "      <td>Racing</td>\n",
       "      <td>0.13</td>\n",
       "      <td>0.12</td>\n",
       "      <td>0.00</td>\n",
       "      <td>0.02</td>\n",
       "      <td>NaN</td>\n",
       "      <td>NaN</td>\n",
       "      <td>NaN</td>\n",
       "      <td>0.27</td>\n",
       "    </tr>\n",
       "    <tr>\n",
       "      <th>6410</th>\n",
       "      <td>Need for Speed: Most Wanted</td>\n",
       "      <td>DS</td>\n",
       "      <td>2005</td>\n",
       "      <td>Racing</td>\n",
       "      <td>0.24</td>\n",
       "      <td>0.01</td>\n",
       "      <td>0.00</td>\n",
       "      <td>0.02</td>\n",
       "      <td>45.0</td>\n",
       "      <td>6.1</td>\n",
       "      <td>E</td>\n",
       "      <td>0.27</td>\n",
       "    </tr>\n",
       "    <tr>\n",
       "      <th>6473</th>\n",
       "      <td>Need for Speed: Most Wanted</td>\n",
       "      <td>GBA</td>\n",
       "      <td>2005</td>\n",
       "      <td>Racing</td>\n",
       "      <td>0.19</td>\n",
       "      <td>0.07</td>\n",
       "      <td>0.00</td>\n",
       "      <td>0.00</td>\n",
       "      <td>NaN</td>\n",
       "      <td>8.3</td>\n",
       "      <td>E</td>\n",
       "      <td>0.26</td>\n",
       "    </tr>\n",
       "    <tr>\n",
       "      <th>7066</th>\n",
       "      <td>Madden NFL 13</td>\n",
       "      <td>WiiU</td>\n",
       "      <td>2012</td>\n",
       "      <td>Sports</td>\n",
       "      <td>0.21</td>\n",
       "      <td>0.00</td>\n",
       "      <td>0.00</td>\n",
       "      <td>0.02</td>\n",
       "      <td>75.0</td>\n",
       "      <td>6.7</td>\n",
       "      <td>E</td>\n",
       "      <td>0.23</td>\n",
       "    </tr>\n",
       "    <tr>\n",
       "      <th>11715</th>\n",
       "      <td>Need for Speed: Most Wanted</td>\n",
       "      <td>PC</td>\n",
       "      <td>2012</td>\n",
       "      <td>Racing</td>\n",
       "      <td>0.00</td>\n",
       "      <td>0.06</td>\n",
       "      <td>0.00</td>\n",
       "      <td>0.02</td>\n",
       "      <td>82.0</td>\n",
       "      <td>8.5</td>\n",
       "      <td>T</td>\n",
       "      <td>0.08</td>\n",
       "    </tr>\n",
       "    <tr>\n",
       "      <th>16230</th>\n",
       "      <td>Madden NFL 13</td>\n",
       "      <td>PS3</td>\n",
       "      <td>2012</td>\n",
       "      <td>Sports</td>\n",
       "      <td>0.00</td>\n",
       "      <td>0.01</td>\n",
       "      <td>0.00</td>\n",
       "      <td>0.00</td>\n",
       "      <td>83.0</td>\n",
       "      <td>5.5</td>\n",
       "      <td>E</td>\n",
       "      <td>0.01</td>\n",
       "    </tr>\n",
       "  </tbody>\n",
       "</table>\n",
       "</div>"
      ],
      "text/plain": [
       "                              name platform  year_of_release   genre  \\\n",
       "253    Need for Speed: Most Wanted      PS2             2005  Racing   \n",
       "507                  Madden NFL 13     X360             2012  Sports   \n",
       "523    Need for Speed: Most Wanted      PS3             2012  Racing   \n",
       "604                  Madden NFL 13      PS3             2012  Sports   \n",
       "1190   Need for Speed: Most Wanted     X360             2012  Racing   \n",
       "1591   Need for Speed: Most Wanted     X360             2005  Racing   \n",
       "1998   Need for Speed: Most Wanted       XB             2005  Racing   \n",
       "2048   Need for Speed: Most Wanted      PSV             2012  Racing   \n",
       "3581   Need for Speed: Most Wanted       GC             2005  Racing   \n",
       "3986                 Madden NFL 13      Wii             2012  Sports   \n",
       "5887                 Madden NFL 13      PSV             2012  Sports   \n",
       "5972   Need for Speed: Most Wanted       PC             2005  Racing   \n",
       "6273   Need for Speed: Most Wanted     WiiU             2013  Racing   \n",
       "6410   Need for Speed: Most Wanted       DS             2005  Racing   \n",
       "6473   Need for Speed: Most Wanted      GBA             2005  Racing   \n",
       "7066                 Madden NFL 13     WiiU             2012  Sports   \n",
       "11715  Need for Speed: Most Wanted       PC             2012  Racing   \n",
       "16230                Madden NFL 13      PS3             2012  Sports   \n",
       "\n",
       "       na_sales  eu_sales  jp_sales  other_sales  critic_score  user_score  \\\n",
       "253        2.03      1.79      0.08         0.47          82.0         9.1   \n",
       "507        2.53      0.15      0.00         0.17          81.0         5.8   \n",
       "523        0.71      1.46      0.06         0.58           NaN         NaN   \n",
       "604        2.11      0.22      0.00         0.23          83.0         5.5   \n",
       "1190       0.62      0.78      0.01         0.15          83.0         8.5   \n",
       "1591       1.00      0.13      0.02         0.10          83.0         8.5   \n",
       "1998       0.53      0.46      0.00         0.05          83.0         8.8   \n",
       "2048       0.33      0.45      0.01         0.22           NaN         NaN   \n",
       "3581       0.43      0.11      0.00         0.02          80.0         9.1   \n",
       "3986       0.47      0.00      0.00         0.03           NaN         7.3   \n",
       "5887       0.28      0.00      0.00         0.02          63.0         7.3   \n",
       "5972       0.02      0.23      0.00         0.04          82.0         8.5   \n",
       "6273       0.13      0.12      0.00         0.02           NaN         NaN   \n",
       "6410       0.24      0.01      0.00         0.02          45.0         6.1   \n",
       "6473       0.19      0.07      0.00         0.00           NaN         8.3   \n",
       "7066       0.21      0.00      0.00         0.02          75.0         6.7   \n",
       "11715      0.00      0.06      0.00         0.02          82.0         8.5   \n",
       "16230      0.00      0.01      0.00         0.00          83.0         5.5   \n",
       "\n",
       "      rating  sum_sales  \n",
       "253        T       4.37  \n",
       "507        E       2.85  \n",
       "523      NaN       2.81  \n",
       "604        E       2.56  \n",
       "1190       T       1.56  \n",
       "1591       T       1.25  \n",
       "1998       T       1.04  \n",
       "2048     NaN       1.01  \n",
       "3581       T       0.56  \n",
       "3986       E       0.50  \n",
       "5887       E       0.30  \n",
       "5972       T       0.29  \n",
       "6273     NaN       0.27  \n",
       "6410       E       0.27  \n",
       "6473       E       0.26  \n",
       "7066       E       0.23  \n",
       "11715      T       0.08  \n",
       "16230      E       0.01  "
      ]
     },
     "execution_count": 21,
     "metadata": {},
     "output_type": "execute_result"
    }
   ],
   "source": [
    "df.query('name == \"Need for Speed: Most Wanted\" or name == \"Madden NFL 13\"') # сформируем срез по дубликатам"
   ]
  },
  {
   "cell_type": "markdown",
   "metadata": {},
   "source": [
    "Как мы видим для игры Need for Speed: Most Wanted на X360 и PC существуют дубликаты, но у дубликатов другие даты выхода. Возможно речь идет о переизданиях игр. Если так, то удалять эти строки из датасета нельзя, т.к. речь идет по сути о другой игре. Игре в которую были внесены изменения и игре у которой есть своя статистика продаж и оценок. Но что касается Madden NFL 13, то здесь можно сделать правки и сложить значения строк, т.к. вся основная информация идентична."
   ]
  },
  {
   "cell_type": "code",
   "execution_count": 22,
   "metadata": {},
   "outputs": [
    {
     "data": {
      "text/plain": [
       "(16444, 12)"
      ]
     },
     "execution_count": 22,
     "metadata": {},
     "output_type": "execute_result"
    }
   ],
   "source": [
    "df.shape"
   ]
  },
  {
   "cell_type": "code",
   "execution_count": 23,
   "metadata": {},
   "outputs": [],
   "source": [
    "df = df.drop(index=16230) # удалим лишнюю строку"
   ]
  },
  {
   "cell_type": "code",
   "execution_count": 24,
   "metadata": {},
   "outputs": [
    {
     "data": {
      "text/plain": [
       "(16443, 12)"
      ]
     },
     "execution_count": 24,
     "metadata": {},
     "output_type": "execute_result"
    }
   ],
   "source": [
    "df.shape"
   ]
  },
  {
   "cell_type": "code",
   "execution_count": 25,
   "metadata": {},
   "outputs": [],
   "source": [
    "df.loc[604,'eu_sales'] = 0.23 # заменим значения в ячейках суммарными значениями из двух строк\n",
    "df.loc[604,'sum_sales'] = 2.57"
   ]
  },
  {
   "cell_type": "code",
   "execution_count": 26,
   "metadata": {},
   "outputs": [
    {
     "data": {
      "text/plain": [
       "name               Madden NFL 13\n",
       "platform                     PS3\n",
       "year_of_release             2012\n",
       "genre                     Sports\n",
       "na_sales                    2.11\n",
       "eu_sales                    0.23\n",
       "jp_sales                     0.0\n",
       "other_sales                 0.23\n",
       "critic_score                83.0\n",
       "user_score                   5.5\n",
       "rating                         E\n",
       "sum_sales                   2.57\n",
       "Name: 604, dtype: object"
      ]
     },
     "execution_count": 26,
     "metadata": {},
     "output_type": "execute_result"
    }
   ],
   "source": [
    "df.loc[604, ] # проверим замену значений. Все корректно."
   ]
  },
  {
   "cell_type": "markdown",
   "metadata": {},
   "source": [
    "**Вывод:**\n",
    "Мы привели значения в столбцах в правильные форматы. Добавили новый столбец с суммарными продажами по всем регионам. Заполнили пустые значения в столбцах, сохранив основной массив данных. Единственное рейтинг от Entertainment Software Ratings Board, который указан в соответствующем столбце, имеет много пропусков (пустых значений). Заполнить пропуски не представляется возможным, т.к. это частное мнение компании и недостаточно данных для присвоения рейтинга. Возможно если бы у нас был средний возраст игрока или список тегов для конкретной игры, то мы бы могли представить примерный рейтинг. Но таких данных у нас нет. Причинами пропусков мог стать человеческий фактор, т.е. ответственный специалист не заполнял пользовательский рейтинг или рейтинг критиков, например. Или технический сбой при формировании выгрузки, когда к данным не подтянулись рейтинги и оценки. Возможно в разных таблицах БД игры называются по-разному."
   ]
  },
  {
   "cell_type": "markdown",
   "metadata": {},
   "source": [
    "### Исследовательский анализ данных"
   ]
  },
  {
   "cell_type": "code",
   "execution_count": 27,
   "metadata": {},
   "outputs": [
    {
     "name": "stderr",
     "output_type": "stream",
     "text": [
      "/tmp/ipykernel_161/2961582211.py:1: FutureWarning: The default value of numeric_only in DataFrame.corr is deprecated. In a future version, it will default to False. Select only valid columns or specify the value of numeric_only to silence this warning.\n",
      "  sns.heatmap(df.corr(), annot=True, cmap=\"crest\");\n"
     ]
    },
    {
     "data": {
      "image/png": "[encoded data removed]",
      "text/plain": [
       "<Figure size 432x288 with 2 Axes>"
      ]
     },
     "metadata": {
      "needs_background": "light"
     },
     "output_type": "display_data"
    }
   ],
   "source": [
    "sns.heatmap(df.corr(), annot=True, cmap=\"crest\");"
   ]
  },
  {
   "cell_type": "markdown",
   "metadata": {},
   "source": [
    "Построив тепловую карту корреляции значений в датасете, мы увидим, что оценки критиков, как и оценки пользователей, имеют слабую корреляцию с продажами во всех регионах без исключения. И это логично, ведь прежде чем оставить отзыв или оценку критик или пользователь должен поиграть в игру, а до этого неплохо было бы ее купить. "
   ]
  },
  {
   "cell_type": "code",
   "execution_count": 28,
   "metadata": {},
   "outputs": [
    {
     "data": {
      "image/png": "[encoded data removed]",
      "text/plain": [
       "<Figure size 1008x288 with 1 Axes>"
      ]
     },
     "metadata": {
      "needs_background": "light"
     },
     "output_type": "display_data"
    }
   ],
   "source": [
    "df.groupby('year_of_release')['name'].agg('count').plot(kind='bar', figsize=(14, 4), title='Количество выпущеных игр')\n",
    "plt.xlabel('год')\n",
    "plt.ylabel('количество игр')\n",
    "plt.show()"
   ]
  },
  {
   "cell_type": "code",
   "execution_count": 29,
   "metadata": {},
   "outputs": [
    {
     "data": {
      "text/html": [
       "<div>\n",
       "<style scoped>\n",
       "    .dataframe tbody tr th:only-of-type {\n",
       "        vertical-align: middle;\n",
       "    }\n",
       "\n",
       "    .dataframe tbody tr th {\n",
       "        vertical-align: top;\n",
       "    }\n",
       "\n",
       "    .dataframe thead th {\n",
       "        text-align: right;\n",
       "    }\n",
       "</style>\n",
       "<table border=\"1\" class=\"dataframe\">\n",
       "  <thead>\n",
       "    <tr style=\"text-align: right;\">\n",
       "      <th></th>\n",
       "      <th>name</th>\n",
       "      <th>platform</th>\n",
       "      <th>year_of_release</th>\n",
       "      <th>genre</th>\n",
       "      <th>na_sales</th>\n",
       "      <th>eu_sales</th>\n",
       "      <th>jp_sales</th>\n",
       "      <th>other_sales</th>\n",
       "      <th>critic_score</th>\n",
       "      <th>user_score</th>\n",
       "      <th>rating</th>\n",
       "      <th>sum_sales</th>\n",
       "    </tr>\n",
       "  </thead>\n",
       "  <tbody>\n",
       "    <tr>\n",
       "      <th>0</th>\n",
       "      <td>Wii Sports</td>\n",
       "      <td>Wii</td>\n",
       "      <td>2006</td>\n",
       "      <td>Sports</td>\n",
       "      <td>41.36</td>\n",
       "      <td>28.96</td>\n",
       "      <td>3.77</td>\n",
       "      <td>8.45</td>\n",
       "      <td>76.0</td>\n",
       "      <td>8.0</td>\n",
       "      <td>E</td>\n",
       "      <td>82.54</td>\n",
       "    </tr>\n",
       "    <tr>\n",
       "      <th>1</th>\n",
       "      <td>Super Mario Bros.</td>\n",
       "      <td>NES</td>\n",
       "      <td>1985</td>\n",
       "      <td>Platform</td>\n",
       "      <td>29.08</td>\n",
       "      <td>3.58</td>\n",
       "      <td>6.81</td>\n",
       "      <td>0.77</td>\n",
       "      <td>NaN</td>\n",
       "      <td>NaN</td>\n",
       "      <td>NaN</td>\n",
       "      <td>40.24</td>\n",
       "    </tr>\n",
       "    <tr>\n",
       "      <th>2</th>\n",
       "      <td>Mario Kart Wii</td>\n",
       "      <td>Wii</td>\n",
       "      <td>2008</td>\n",
       "      <td>Racing</td>\n",
       "      <td>15.68</td>\n",
       "      <td>12.76</td>\n",
       "      <td>3.79</td>\n",
       "      <td>3.29</td>\n",
       "      <td>82.0</td>\n",
       "      <td>8.3</td>\n",
       "      <td>E</td>\n",
       "      <td>35.52</td>\n",
       "    </tr>\n",
       "    <tr>\n",
       "      <th>3</th>\n",
       "      <td>Wii Sports Resort</td>\n",
       "      <td>Wii</td>\n",
       "      <td>2009</td>\n",
       "      <td>Sports</td>\n",
       "      <td>15.61</td>\n",
       "      <td>10.93</td>\n",
       "      <td>3.28</td>\n",
       "      <td>2.95</td>\n",
       "      <td>80.0</td>\n",
       "      <td>8.0</td>\n",
       "      <td>E</td>\n",
       "      <td>32.77</td>\n",
       "    </tr>\n",
       "    <tr>\n",
       "      <th>4</th>\n",
       "      <td>Pokemon Red/Pokemon Blue</td>\n",
       "      <td>GB</td>\n",
       "      <td>1996</td>\n",
       "      <td>Role-Playing</td>\n",
       "      <td>11.27</td>\n",
       "      <td>8.89</td>\n",
       "      <td>10.22</td>\n",
       "      <td>1.00</td>\n",
       "      <td>NaN</td>\n",
       "      <td>NaN</td>\n",
       "      <td>NaN</td>\n",
       "      <td>31.38</td>\n",
       "    </tr>\n",
       "  </tbody>\n",
       "</table>\n",
       "</div>"
      ],
      "text/plain": [
       "                       name platform  year_of_release         genre  na_sales  \\\n",
       "0                Wii Sports      Wii             2006        Sports     41.36   \n",
       "1         Super Mario Bros.      NES             1985      Platform     29.08   \n",
       "2            Mario Kart Wii      Wii             2008        Racing     15.68   \n",
       "3         Wii Sports Resort      Wii             2009        Sports     15.61   \n",
       "4  Pokemon Red/Pokemon Blue       GB             1996  Role-Playing     11.27   \n",
       "\n",
       "   eu_sales  jp_sales  other_sales  critic_score  user_score rating  sum_sales  \n",
       "0     28.96      3.77         8.45          76.0         8.0      E      82.54  \n",
       "1      3.58      6.81         0.77           NaN         NaN    NaN      40.24  \n",
       "2     12.76      3.79         3.29          82.0         8.3      E      35.52  \n",
       "3     10.93      3.28         2.95          80.0         8.0      E      32.77  \n",
       "4      8.89     10.22         1.00           NaN         NaN    NaN      31.38  "
      ]
     },
     "execution_count": 29,
     "metadata": {},
     "output_type": "execute_result"
    }
   ],
   "source": [
    "df1 = df[~df.duplicated(subset=['name', 'year_of_release'])] # фильтруем записи по годам и названиям без дубликатов\n",
    "df1.head(5)"
   ]
  },
  {
   "cell_type": "code",
   "execution_count": 30,
   "metadata": {},
   "outputs": [
    {
     "data": {
      "image/png": "[encoded data removed]",
      "text/plain": [
       "<Figure size 1008x288 with 1 Axes>"
      ]
     },
     "metadata": {
      "needs_background": "light"
     },
     "output_type": "display_data"
    }
   ],
   "source": [
    "df1.groupby('year_of_release')['name'].agg('count').plot(kind='bar', figsize=(14, 4), title='Количество выпущеных игр')\n",
    "plt.xlabel('год')\n",
    "plt.ylabel('количество игр')\n",
    "plt.show()"
   ]
  },
  {
   "cell_type": "code",
   "execution_count": 31,
   "metadata": {},
   "outputs": [
    {
     "data": {
      "text/plain": [
       "486"
      ]
     },
     "execution_count": 31,
     "metadata": {},
     "output_type": "execute_result"
    }
   ],
   "source": [
    "df.query('year_of_release < 1995').shape[0]"
   ]
  },
  {
   "cell_type": "markdown",
   "metadata": {},
   "source": [
    "Как видно из графика рост числа игр наблюдается с 1995 года. Своих пиковых значений показатель достигает в 2008-2009 годах, после чего начинается падение. Для нашего исследования мы оставим данные только после 1995 года, т.к. число игр выпускаемых в прежние годы крайне незначительно."
   ]
  },
  {
   "cell_type": "code",
   "execution_count": 32,
   "metadata": {},
   "outputs": [],
   "source": [
    "df = df[~(df['year_of_release'] < 1995)] # удаляем данные старше 1995 года"
   ]
  },
  {
   "cell_type": "code",
   "execution_count": 33,
   "metadata": {},
   "outputs": [
    {
     "data": {
      "text/plain": [
       "['PS2', 'X360', 'PS3', 'Wii', 'DS']"
      ]
     },
     "execution_count": 33,
     "metadata": {},
     "output_type": "execute_result"
    }
   ],
   "source": [
    "rate_plat = df.pivot_table(index='platform', values='sum_sales', aggfunc='sum').sort_values('sum_sales', ascending=False)\n",
    "rate_plat.index[:5].tolist() # определим топ-5 платформ по суммарным продажам за все время"
   ]
  },
  {
   "cell_type": "code",
   "execution_count": 35,
   "metadata": {},
   "outputs": [
    {
     "data": {
      "image/png": "[encoded data removed]",
      "text/plain": [
       "<Figure size 1008x288 with 1 Axes>"
      ]
     },
     "metadata": {
      "needs_background": "light"
     },
     "output_type": "display_data"
    }
   ],
   "source": [
    "df[df['platform']=='PS2'].groupby('year_of_release')['sum_sales'].agg('sum').\\\n",
    "    plot(kind='bar', grid=True, figsize=(14, 4), title='Продажи игр для PS2')\n",
    "\n",
    "plt.xlabel('год')\n",
    "plt.ylabel('сумма продаж')\n",
    "plt.show()"
   ]
  },
  {
   "cell_type": "markdown",
   "metadata": {},
   "source": [
    "Одной из самых популярных платформ была PS2. С момента появления в 2000 году наблюдается взрывной рост продаж игр для жанной приставки. Максимального значения продажи достигают в 2004 году. После начинается спад."
   ]
  },
  {
   "cell_type": "code",
   "execution_count": 39,
   "metadata": {},
   "outputs": [
    {
     "data": {
      "image/png": "[encoded data removed]",
      "text/plain": [
       "<Figure size 1008x288 with 1 Axes>"
      ]
     },
     "metadata": {
      "needs_background": "light"
     },
     "output_type": "display_data"
    }
   ],
   "source": [
    "df[df['platform']=='X360'].groupby('year_of_release')['sum_sales'].agg('sum').\\\n",
    "    plot(kind='bar', grid=True, figsize=(14, 4), title='Продажи игр для X360')\n",
    "\n",
    "plt.xlabel('год')\n",
    "plt.ylabel('сумма продаж')\n",
    "plt.show()"
   ]
  },
  {
   "cell_type": "markdown",
   "metadata": {},
   "source": [
    "С момента появления в 2005 году активно продавались игры для приставки Xbox360. В 2010 году суммарный объем продаж игр превысил 160 миллионов. После 2010 года начался спад продаж."
   ]
  },
  {
   "cell_type": "code",
   "execution_count": 40,
   "metadata": {},
   "outputs": [
    {
     "data": {
      "image/png": "[encoded data removed]",
      "text/plain": [
       "<Figure size 1008x288 with 1 Axes>"
      ]
     },
     "metadata": {
      "needs_background": "light"
     },
     "output_type": "display_data"
    }
   ],
   "source": [
    "df[df['platform']=='PS3'].groupby('year_of_release')['sum_sales'].agg('sum').\\\n",
    "    plot(kind='bar', grid=True, figsize=(14, 4), title='Продажи игр для PS3')\n",
    "\n",
    "plt.xlabel('год')\n",
    "plt.ylabel('сумма продаж')\n",
    "plt.show()"
   ]
  },
  {
   "cell_type": "markdown",
   "metadata": {},
   "source": [
    "В 2006 году начинается рост продаж игр для приставки PS3. Этот рост продолжается до 2011 года, а после следует спад. Динамика продаж PS3 схожа с динамикой ее прямого конкурента Xbox360. При этом мы можем наблюдать в сравнении как падают продажи приставки PS2 по сравнению с приставкой нового поколения PS3 и ростом продаж игр для нее. Т.о. мы можем наблюдать цикл технического обновления, который приблизительно равен 4-ем годам."
   ]
  },
  {
   "cell_type": "code",
   "execution_count": 41,
   "metadata": {},
   "outputs": [
    {
     "data": {
      "image/png": "[encoded data removed]",
      "text/plain": [
       "<Figure size 1008x288 with 1 Axes>"
      ]
     },
     "metadata": {
      "needs_background": "light"
     },
     "output_type": "display_data"
    }
   ],
   "source": [
    "df[df['platform']=='Wii'].groupby('year_of_release')['sum_sales'].agg('sum').\\\n",
    "    plot(kind='bar', grid=True, figsize=(14, 4), title='Продажи игр для Wii')\n",
    "\n",
    "plt.xlabel('год')\n",
    "plt.ylabel('сумма продаж')\n",
    "plt.show()"
   ]
  },
  {
   "cell_type": "markdown",
   "metadata": {},
   "source": [
    "В 2006 году также начались продажи игр для приставки Wii. Рост продаж игр для нее можно наблюдать с 2006 по 2009 год. После начинается резкий спад. Спад настолько сильный, что с 2009 года, когда продажи превысили 200 миллионов, через 8 лет в 2016 году суммарные продажи игр не превысили 1 миллиона."
   ]
  },
  {
   "cell_type": "code",
   "execution_count": 42,
   "metadata": {},
   "outputs": [
    {
     "data": {
      "image/png": "[encoded data removed]",
      "text/plain": [
       "<Figure size 1008x288 with 1 Axes>"
      ]
     },
     "metadata": {
      "needs_background": "light"
     },
     "output_type": "display_data"
    }
   ],
   "source": [
    "df[df['platform']=='DS'].groupby('year_of_release')['sum_sales'].agg('sum').\\\n",
    "    plot(kind='bar', grid=True, figsize=(14, 4), title='Продажи игр для DS')\n",
    "\n",
    "plt.xlabel('год')\n",
    "plt.ylabel('сумма продаж')\n",
    "plt.show()"
   ]
  },
  {
   "cell_type": "markdown",
   "metadata": {},
   "source": [
    "Продажи игр для DS показали взрывной рост в 2005 году и по 2009 год не падали ниже уровня в 120 миллионов. Но после, как и для платформы Wii, начался спад. После 2013 года продажи не фиксируются вовсе."
   ]
  },
  {
   "cell_type": "code",
   "execution_count": 43,
   "metadata": {},
   "outputs": [
    {
     "data": {
      "text/html": [
       "<div>\n",
       "<style scoped>\n",
       "    .dataframe tbody tr th:only-of-type {\n",
       "        vertical-align: middle;\n",
       "    }\n",
       "\n",
       "    .dataframe tbody tr th {\n",
       "        vertical-align: top;\n",
       "    }\n",
       "\n",
       "    .dataframe thead th {\n",
       "        text-align: right;\n",
       "    }\n",
       "</style>\n",
       "<table border=\"1\" class=\"dataframe\">\n",
       "  <thead>\n",
       "    <tr style=\"text-align: right;\">\n",
       "      <th></th>\n",
       "      <th>year_of_release</th>\n",
       "      <th>3DS</th>\n",
       "      <th>PC</th>\n",
       "      <th>PS3</th>\n",
       "      <th>PS4</th>\n",
       "      <th>PSV</th>\n",
       "      <th>WiiU</th>\n",
       "      <th>X360</th>\n",
       "      <th>XOne</th>\n",
       "    </tr>\n",
       "  </thead>\n",
       "  <tbody>\n",
       "    <tr>\n",
       "      <th>0</th>\n",
       "      <td>2012</td>\n",
       "      <td>51.36</td>\n",
       "      <td>23.22</td>\n",
       "      <td>107.36</td>\n",
       "      <td>NaN</td>\n",
       "      <td>16.19</td>\n",
       "      <td>17.56</td>\n",
       "      <td>99.74</td>\n",
       "      <td>NaN</td>\n",
       "    </tr>\n",
       "    <tr>\n",
       "      <th>1</th>\n",
       "      <td>2013</td>\n",
       "      <td>56.57</td>\n",
       "      <td>12.38</td>\n",
       "      <td>113.25</td>\n",
       "      <td>25.99</td>\n",
       "      <td>10.59</td>\n",
       "      <td>21.65</td>\n",
       "      <td>88.58</td>\n",
       "      <td>18.96</td>\n",
       "    </tr>\n",
       "    <tr>\n",
       "      <th>2</th>\n",
       "      <td>2014</td>\n",
       "      <td>43.76</td>\n",
       "      <td>13.28</td>\n",
       "      <td>47.76</td>\n",
       "      <td>100.00</td>\n",
       "      <td>11.90</td>\n",
       "      <td>22.03</td>\n",
       "      <td>34.74</td>\n",
       "      <td>54.07</td>\n",
       "    </tr>\n",
       "    <tr>\n",
       "      <th>3</th>\n",
       "      <td>2015</td>\n",
       "      <td>27.78</td>\n",
       "      <td>8.52</td>\n",
       "      <td>16.82</td>\n",
       "      <td>118.90</td>\n",
       "      <td>6.25</td>\n",
       "      <td>16.35</td>\n",
       "      <td>11.96</td>\n",
       "      <td>60.14</td>\n",
       "    </tr>\n",
       "    <tr>\n",
       "      <th>4</th>\n",
       "      <td>2016</td>\n",
       "      <td>15.14</td>\n",
       "      <td>5.25</td>\n",
       "      <td>3.60</td>\n",
       "      <td>69.25</td>\n",
       "      <td>4.25</td>\n",
       "      <td>4.60</td>\n",
       "      <td>1.52</td>\n",
       "      <td>26.15</td>\n",
       "    </tr>\n",
       "  </tbody>\n",
       "</table>\n",
       "</div>"
      ],
      "text/plain": [
       "   year_of_release    3DS     PC     PS3     PS4    PSV   WiiU   X360   XOne\n",
       "0             2012  51.36  23.22  107.36     NaN  16.19  17.56  99.74    NaN\n",
       "1             2013  56.57  12.38  113.25   25.99  10.59  21.65  88.58  18.96\n",
       "2             2014  43.76  13.28   47.76  100.00  11.90  22.03  34.74  54.07\n",
       "3             2015  27.78   8.52   16.82  118.90   6.25  16.35  11.96  60.14\n",
       "4             2016  15.14   5.25    3.60   69.25   4.25   4.60   1.52  26.15"
      ]
     },
     "execution_count": 43,
     "metadata": {},
     "output_type": "execute_result"
    }
   ],
   "source": [
    "#  создадим массив данных о суммарных продажах по годам и платформам\n",
    "data = df.pivot_table(index=['year_of_release'], columns=['platform'], values=['sum_sales'], aggfunc=['sum'], dropna=True)\n",
    "\n",
    "data = data.reset_index().droplevel(1, axis=1)\n",
    "\n",
    "# оставим только данные за последние 5 лет. Т.к. у нас данные до 2016 года и технологический цикл равен 4-ем годам\n",
    "data = data[~(data['year_of_release'] < 2012)] \n",
    "\n",
    "# удалим столбцы с пустыми значениями\n",
    "data = data.dropna(axis=1, how='all') \n",
    "\n",
    "data = data.reset_index().droplevel(0, axis=1)\n",
    "\n",
    "# придадим таблице нормальный вид и переименуем столбцы\n",
    "data.columns = ['index', 'year_of_release', '3DS', 'DS', 'PC', 'PS3', 'PS4', 'PSP', 'PSV', 'Wii', 'WiiU', 'X360', 'XOne'] \n",
    "\n",
    "# информацию о платформах, по которым небыло продаж последние три года или продажи были минимальными\n",
    "data = data.drop(columns=['index', 'DS', 'PSP', 'Wii']) \n",
    "data"
   ]
  },
  {
   "cell_type": "code",
   "execution_count": 44,
   "metadata": {},
   "outputs": [
    {
     "data": {
      "image/png": "[encoded data removed]",
      "text/plain": [
       "<Figure size 1008x432 with 1 Axes>"
      ]
     },
     "metadata": {
      "needs_background": "light"
     },
     "output_type": "display_data"
    }
   ],
   "source": [
    "# построим динамику продаж по основным платформам\n",
    "data.plot(kind='bar', x='year_of_release', figsize=(14, 6), title='Данные о продажах по платформам') \n",
    "\n",
    "plt.xlabel('год')\n",
    "plt.ylabel('сумма продаж')\n",
    "plt.show()"
   ]
  },
  {
   "cell_type": "markdown",
   "metadata": {},
   "source": [
    "Основываясь на данных, отображенных на диаграмме продаж, наиболее перспективными платформами являются PS4 и XOne. Это не удивительно, т.к. данные платформы являются платформами нового поколения. В это же время продажи игр на других (старых) платформах снижаются."
   ]
  },
  {
   "cell_type": "code",
   "execution_count": 45,
   "metadata": {},
   "outputs": [
    {
     "data": {
      "image/png": "[encoded data removed]",
      "text/plain": [
       "<Figure size 1008x432 with 1 Axes>"
      ]
     },
     "metadata": {
      "needs_background": "light"
     },
     "output_type": "display_data"
    }
   ],
   "source": [
    "data.boxplot(column=['3DS', 'PC', 'PS3', 'PS4', 'PSV', 'WiiU', 'X360', 'XOne'], figsize=(14, 6))\n",
    "\n",
    "plt.title('Продажи по платформам')\n",
    "plt.xlabel('платформы')\n",
    "plt.ylabel('сумма продаж')\n",
    "plt.show()"
   ]
  },
  {
   "cell_type": "markdown",
   "metadata": {},
   "source": [
    "Как видно из графика наибольшее медианное значение по продажам игр имеет платформа PS4. За расматриваемы период в пять лет медианная средняя была около 85 миллионов. Приэтом межквартильный размах демонстрирует разброс 50% значений в пределах от 59 до 105 миллионов. Опять же взглянув на графики платформ PS3 и X360 мы увидим смещение медианы ближе к первому квартилю, что лишний раз подчеркивает снижение продаж игр для данных платформ. "
   ]
  },
  {
   "cell_type": "code",
   "execution_count": 46,
   "metadata": {},
   "outputs": [],
   "source": [
    "# оставим только данные за последние 5 лет. Т.к. у нас данные до 2016 года и технологический цикл равен 4-ем годам\n",
    "df2 = df[~(df['year_of_release'] < 2012)]"
   ]
  },
  {
   "cell_type": "markdown",
   "metadata": {},
   "source": [
    "Рассмотрим, как влияют оценки критиков и пользователей на продажи игр, на примере платформы PS4."
   ]
  },
  {
   "cell_type": "code",
   "execution_count": 47,
   "metadata": {},
   "outputs": [
    {
     "data": {
      "image/png": "[encoded data removed]",
      "text/plain": [
       "<Figure size 1008x432 with 1 Axes>"
      ]
     },
     "metadata": {
      "needs_background": "light"
     },
     "output_type": "display_data"
    }
   ],
   "source": [
    "df2[df2['platform']=='PS4'].sort_values('sum_sales').\\\n",
    "    plot(x='sum_sales', y='critic_score', grid=True, figsize=(14, 6), kind='scatter')\n",
    "\n",
    "plt.title('Продажи игр для PS4 в зависимости от оценки критиков')\n",
    "plt.xlabel('продажи')\n",
    "plt.ylabel('оценка критиков')\n",
    "plt.show()"
   ]
  },
  {
   "cell_type": "code",
   "execution_count": 48,
   "metadata": {},
   "outputs": [
    {
     "name": "stdout",
     "output_type": "stream",
     "text": [
      "Корреляция между продажами и оценкой критиков равна: 0.31\n"
     ]
    }
   ],
   "source": [
    "print('Корреляция между продажами и оценкой критиков равна:', round(df2['critic_score'].corr(df2['sum_sales']), 2))"
   ]
  },
  {
   "cell_type": "code",
   "execution_count": 49,
   "metadata": {},
   "outputs": [
    {
     "data": {
      "image/png": "[encoded data removed]",
      "text/plain": [
       "<Figure size 1008x432 with 1 Axes>"
      ]
     },
     "metadata": {
      "needs_background": "light"
     },
     "output_type": "display_data"
    }
   ],
   "source": [
    "df2[df2['platform']=='PS4'].sort_values('sum_sales').\\\n",
    "    plot(x='sum_sales', y='user_score', grid=True, figsize=(14, 6), kind='scatter')\n",
    "\n",
    "plt.title('Продажи игр для PS4 в зависимости от оценки игроков')\n",
    "plt.xlabel('продажи')\n",
    "plt.ylabel('оценка игроков')\n",
    "plt.show()"
   ]
  },
  {
   "cell_type": "code",
   "execution_count": 50,
   "metadata": {},
   "outputs": [
    {
     "name": "stdout",
     "output_type": "stream",
     "text": [
      "Корреляция между продажами и оценкой игроков равна: 0.004\n"
     ]
    }
   ],
   "source": [
    "print('Корреляция между продажами и оценкой игроков равна:', round(df2['user_score'].corr(df2['sum_sales']), 3))"
   ]
  },
  {
   "cell_type": "markdown",
   "metadata": {},
   "source": [
    "Как мы можем наблюдать корреляция между оценкой игроков или критиков и продажей игр очень слабая. В первом случае она составляет 0.004, а во втором 0.31. Скорее всего наше умозаключение, высказанное ранее, о том, что прежде чем оставить оценку игре ее нужно сначала купить, оказалось верным. Графики рассеяния это еще раз подтвердили."
   ]
  },
  {
   "cell_type": "markdown",
   "metadata": {},
   "source": [
    "Рассмотрим, как влияют оценки критиков и пользователей на продажи игр, на примере платформы X360."
   ]
  },
  {
   "cell_type": "code",
   "execution_count": 51,
   "metadata": {},
   "outputs": [
    {
     "data": {
      "image/png": "[encoded data removed]",
      "text/plain": [
       "<Figure size 1008x432 with 1 Axes>"
      ]
     },
     "metadata": {
      "needs_background": "light"
     },
     "output_type": "display_data"
    }
   ],
   "source": [
    "df2[df2['platform']=='X360'].sort_values('sum_sales').\\\n",
    "    plot(x='sum_sales', y='critic_score', grid=True, figsize=(14, 6), kind='scatter')\n",
    "\n",
    "plt.title('Продажи игр для X360 в зависимости от оценки критиков')\n",
    "plt.xlabel('продажи')\n",
    "plt.ylabel('оценка критиков')\n",
    "plt.show()"
   ]
  },
  {
   "cell_type": "code",
   "execution_count": 52,
   "metadata": {},
   "outputs": [
    {
     "data": {
      "image/png": "[encoded data removed]",
      "text/plain": [
       "<Figure size 1008x432 with 1 Axes>"
      ]
     },
     "metadata": {
      "needs_background": "light"
     },
     "output_type": "display_data"
    }
   ],
   "source": [
    "df2[df2['platform']=='X360'].sort_values('sum_sales').\\\n",
    "    plot(x='sum_sales', y='user_score', grid=True, figsize=(14, 6), kind='scatter')\n",
    "\n",
    "plt.title('Продажи игр для X360 в зависимости от оценки игроков')\n",
    "plt.xlabel('продажи')\n",
    "plt.ylabel('оценка игроков')\n",
    "plt.show()"
   ]
  },
  {
   "cell_type": "markdown",
   "metadata": {},
   "source": [
    "Рассматривая графики рассеяния для платформы X360 можно обнаружить тоже распределение, что и для PS4. Оценки критиков и пользователей крайне слабо влияют на продажи."
   ]
  },
  {
   "cell_type": "markdown",
   "metadata": {},
   "source": [
    "Для того чтобы окончательно удостовериться проверим еще одну платформу - PC."
   ]
  },
  {
   "cell_type": "code",
   "execution_count": 53,
   "metadata": {},
   "outputs": [
    {
     "data": {
      "image/png": "[encoded data removed]",
      "text/plain": [
       "<Figure size 1008x432 with 1 Axes>"
      ]
     },
     "metadata": {
      "needs_background": "light"
     },
     "output_type": "display_data"
    }
   ],
   "source": [
    "df2[df2['platform']=='PC'].sort_values('sum_sales').\\\n",
    "    plot(x='sum_sales', y='critic_score', grid=True, figsize=(14, 6), kind='scatter')\n",
    "\n",
    "plt.title('Продажи игр для PC в зависимости от оценки критиков')\n",
    "plt.xlabel('продажи')\n",
    "plt.ylabel('оценка критиков')\n",
    "plt.show()"
   ]
  },
  {
   "cell_type": "code",
   "execution_count": 54,
   "metadata": {},
   "outputs": [
    {
     "data": {
      "image/png": "[encoded data removed]",
      "text/plain": [
       "<Figure size 1008x432 with 1 Axes>"
      ]
     },
     "metadata": {
      "needs_background": "light"
     },
     "output_type": "display_data"
    }
   ],
   "source": [
    "df2[df2['platform']=='PC'].sort_values('sum_sales').\\\n",
    "    plot(x='sum_sales', y='user_score', grid=True, figsize=(14, 6), kind='scatter')\n",
    "\n",
    "plt.title('Продажи игр для PC в зависимости от оценки игроков')\n",
    "plt.xlabel('продажи')\n",
    "plt.ylabel('оценка игроков')\n",
    "plt.show()"
   ]
  },
  {
   "cell_type": "markdown",
   "metadata": {},
   "source": [
    "Действительно имеем похожий результат как с X360, так и с PS4. Продажи не зависят от оценок."
   ]
  },
  {
   "cell_type": "markdown",
   "metadata": {},
   "source": [
    "Теперь изучим общее распределение игр по жанрам."
   ]
  },
  {
   "cell_type": "code",
   "execution_count": 55,
   "metadata": {},
   "outputs": [
    {
     "data": {
      "text/plain": [
       "genre\n",
       "Shooter         0.440\n",
       "Sports          0.240\n",
       "Platform        0.210\n",
       "Role-Playing    0.140\n",
       "Racing          0.140\n",
       "Fighting        0.130\n",
       "Action          0.120\n",
       "Misc            0.120\n",
       "Simulation      0.120\n",
       "Strategy        0.080\n",
       "Puzzle          0.045\n",
       "Adventure       0.030\n",
       "Name: sum_sales, dtype: float64"
      ]
     },
     "execution_count": 55,
     "metadata": {},
     "output_type": "execute_result"
    }
   ],
   "source": [
    "grouped = df2.groupby('genre')['sum_sales'].agg('median') # группируем по жанрам суммарные продажи\n",
    "grouped.sort_values(ascending=False)"
   ]
  },
  {
   "cell_type": "code",
   "execution_count": 56,
   "metadata": {},
   "outputs": [
    {
     "data": {
      "image/png": "[encoded data removed]",
      "text/plain": [
       "<Figure size 1008x432 with 1 Axes>"
      ]
     },
     "metadata": {
      "needs_background": "light"
     },
     "output_type": "display_data"
    }
   ],
   "source": [
    "grouped.sort_values().plot(kind='barh', grid=True, figsize=(14, 6))\n",
    "\n",
    "plt.title('Продажи игр по жанрам')\n",
    "plt.xlabel('сумма продаж')\n",
    "plt.ylabel(None)\n",
    "plt.show()"
   ]
  },
  {
   "cell_type": "markdown",
   "metadata": {},
   "source": [
    "Как мы видим из графика, существуют очень прибыльные жанры игр: Shooter, Sports, Platform, Role-Playing и Racing. Есть также и наименее прибыльные жанры. Ими являются: Adventure, Strategy и Puzzle."
   ]
  },
  {
   "cell_type": "markdown",
   "metadata": {},
   "source": [
    "**Вывод:**\n",
    "Проведя исследовательский анализ данных, мы пришли к выводу, что оценки критиков, как и оценки пользователей, имеют слабую корреляцию с продажами во всех регионах без исключения. И это логично, ведь прежде чем оставить отзыв или оценку критик или пользователь должен поиграть в игру, а до этого неплохо было бы ее купить. Также выяснили, что наиболее перспективными платформами являются PS4 и XOne. И это не удивительно, т.к. данные платформы являются платформами нового поколения. Кроме того нам удалось установить самые прибыльные жанры игр. Ими стали - Shooter, Sports, Platform, Role-Playing и Racing."
   ]
  },
  {
   "cell_type": "markdown",
   "metadata": {},
   "source": [
    "### Портрет пользователя каждого региона"
   ]
  },
  {
   "cell_type": "markdown",
   "metadata": {},
   "source": [
    "Прежде чем приступать к анализу нужно заполнить пропуски в столбце с рейтингами. Поскольку у нас нет данных рейтингов заменим пропуски на 'no_rating'."
   ]
  },
  {
   "cell_type": "code",
   "execution_count": 57,
   "metadata": {},
   "outputs": [
    {
     "name": "stdout",
     "output_type": "stream",
     "text": [
      "<class 'pandas.core.frame.DataFrame'>\n",
      "Int64Index: 2885 entries, 16 to 16714\n",
      "Data columns (total 12 columns):\n",
      " #   Column           Non-Null Count  Dtype  \n",
      "---  ------           --------------  -----  \n",
      " 0   name             2885 non-null   object \n",
      " 1   platform         2885 non-null   object \n",
      " 2   year_of_release  2885 non-null   int64  \n",
      " 3   genre            2885 non-null   object \n",
      " 4   na_sales         2885 non-null   float64\n",
      " 5   eu_sales         2885 non-null   float64\n",
      " 6   jp_sales         2885 non-null   float64\n",
      " 7   other_sales      2885 non-null   float64\n",
      " 8   critic_score     1311 non-null   float64\n",
      " 9   user_score       1530 non-null   float64\n",
      " 10  rating           2885 non-null   object \n",
      " 11  sum_sales        2885 non-null   float64\n",
      "dtypes: float64(7), int64(1), object(4)\n",
      "memory usage: 293.0+ KB\n"
     ]
    },
    {
     "name": "stderr",
     "output_type": "stream",
     "text": [
      "/tmp/ipykernel_161/3910928866.py:1: SettingWithCopyWarning: \n",
      "A value is trying to be set on a copy of a slice from a DataFrame.\n",
      "Try using .loc[row_indexer,col_indexer] = value instead\n",
      "\n",
      "See the caveats in the documentation: https://pandas.pydata.org/pandas-docs/stable/user_guide/indexing.html#returning-a-view-versus-a-copy\n",
      "  df2['rating'] = df2['rating'].fillna('no_rating')\n"
     ]
    }
   ],
   "source": [
    "df2['rating'] = df2['rating'].fillna('no_rating')\n",
    "df2.info()"
   ]
  },
  {
   "cell_type": "markdown",
   "metadata": {},
   "source": [
    "**Определим предпочтения пользователей в NA.**"
   ]
  },
  {
   "cell_type": "code",
   "execution_count": 58,
   "metadata": {},
   "outputs": [
    {
     "data": {
      "text/html": [
       "<div>\n",
       "<style scoped>\n",
       "    .dataframe tbody tr th:only-of-type {\n",
       "        vertical-align: middle;\n",
       "    }\n",
       "\n",
       "    .dataframe tbody tr th {\n",
       "        vertical-align: top;\n",
       "    }\n",
       "\n",
       "    .dataframe thead th {\n",
       "        text-align: right;\n",
       "    }\n",
       "</style>\n",
       "<table border=\"1\" class=\"dataframe\">\n",
       "  <thead>\n",
       "    <tr style=\"text-align: right;\">\n",
       "      <th></th>\n",
       "      <th>platform</th>\n",
       "      <th>sum</th>\n",
       "      <th>percent</th>\n",
       "    </tr>\n",
       "  </thead>\n",
       "  <tbody>\n",
       "    <tr>\n",
       "      <th>9</th>\n",
       "      <td>X360</td>\n",
       "      <td>140.05</td>\n",
       "      <td>23.70</td>\n",
       "    </tr>\n",
       "    <tr>\n",
       "      <th>4</th>\n",
       "      <td>PS4</td>\n",
       "      <td>108.74</td>\n",
       "      <td>18.40</td>\n",
       "    </tr>\n",
       "    <tr>\n",
       "      <th>3</th>\n",
       "      <td>PS3</td>\n",
       "      <td>103.38</td>\n",
       "      <td>17.49</td>\n",
       "    </tr>\n",
       "    <tr>\n",
       "      <th>10</th>\n",
       "      <td>XOne</td>\n",
       "      <td>93.12</td>\n",
       "      <td>15.76</td>\n",
       "    </tr>\n",
       "    <tr>\n",
       "      <th>0</th>\n",
       "      <td>3DS</td>\n",
       "      <td>55.31</td>\n",
       "      <td>9.36</td>\n",
       "    </tr>\n",
       "  </tbody>\n",
       "</table>\n",
       "</div>"
      ],
      "text/plain": [
       "   platform     sum  percent\n",
       "9      X360  140.05    23.70\n",
       "4       PS4  108.74    18.40\n",
       "3       PS3  103.38    17.49\n",
       "10     XOne   93.12    15.76\n",
       "0       3DS   55.31     9.36"
      ]
     },
     "execution_count": 58,
     "metadata": {},
     "output_type": "execute_result"
    }
   ],
   "source": [
    "# найдем суммарные продажи по платформам\n",
    "plat_na = df2.pivot_table(index=['platform'], values=['na_sales'], aggfunc=['sum']) \n",
    "\n",
    "# расчитаем доли в отдельном столбце\n",
    "plat_na['percent'] = round(plat_na['sum']/plat_na['sum'].sum()*100, 2) \n",
    "\n",
    "plat_na = plat_na.reset_index().droplevel(1, axis=1)\n",
    "\n",
    "# определим ТОП-5 платформ исходя из их доли в продажах игр\n",
    "plat_na.sort_values(by='percent', ascending=False).head(5) "
   ]
  },
  {
   "cell_type": "markdown",
   "metadata": {},
   "source": [
    "На первом месте в NA по продажам игр платформа X360. На нее приходится почти 23.7%. На втором месте PS4 c 18.4%. На третьем PS3 - 17.49%. Замыкает пятерку платформа 3DS с долей продаж равной 9.36%."
   ]
  },
  {
   "cell_type": "code",
   "execution_count": 59,
   "metadata": {},
   "outputs": [
    {
     "data": {
      "text/plain": [
       "genre\n",
       "Action          177.84\n",
       "Shooter         144.77\n",
       "Sports           81.53\n",
       "Role-Playing     64.00\n",
       "Misc             38.19\n",
       "Name: na_sales, dtype: float64"
      ]
     },
     "execution_count": 59,
     "metadata": {},
     "output_type": "execute_result"
    }
   ],
   "source": [
    "df2.groupby('genre')['na_sales'].agg('sum').sort_values(ascending=False).head(5) # определим ТОП-5 жанров"
   ]
  },
  {
   "cell_type": "markdown",
   "metadata": {},
   "source": [
    "Самыми популярными жанрами в NA явялются: Action, Shooter, Sports, Role-Playing, Misc."
   ]
  },
  {
   "cell_type": "code",
   "execution_count": 60,
   "metadata": {},
   "outputs": [
    {
     "data": {
      "image/png": "[encoded data removed]",
      "text/plain": [
       "<Figure size 1008x288 with 1 Axes>"
      ]
     },
     "metadata": {
      "needs_background": "light"
     },
     "output_type": "display_data"
    }
   ],
   "source": [
    "# найдем суммарные продажи по рейтингам\n",
    "rating_na = df2.groupby('rating')['na_sales'].agg('sum') \n",
    "\n",
    "rating_na.sort_values().plot(kind='barh', grid=True, figsize=(14, 4), title='Продажи игр по рейтингам в NA')\n",
    "plt.xlabel('продажи')\n",
    "plt.ylabel(None)\n",
    "plt.show()"
   ]
  },
  {
   "cell_type": "markdown",
   "metadata": {},
   "source": [
    "В NA больше всего продаж приходилось на игры с категорией М (для лиц старше 17 лет), на втором месте Е (для всех), на третьем - игры без рейтинга."
   ]
  },
  {
   "cell_type": "markdown",
   "metadata": {},
   "source": [
    "**Определим предпочтения пользователей в EU.**"
   ]
  },
  {
   "cell_type": "code",
   "execution_count": 61,
   "metadata": {},
   "outputs": [
    {
     "data": {
      "text/html": [
       "<div>\n",
       "<style scoped>\n",
       "    .dataframe tbody tr th:only-of-type {\n",
       "        vertical-align: middle;\n",
       "    }\n",
       "\n",
       "    .dataframe tbody tr th {\n",
       "        vertical-align: top;\n",
       "    }\n",
       "\n",
       "    .dataframe thead th {\n",
       "        text-align: right;\n",
       "    }\n",
       "</style>\n",
       "<table border=\"1\" class=\"dataframe\">\n",
       "  <thead>\n",
       "    <tr style=\"text-align: right;\">\n",
       "      <th></th>\n",
       "      <th>platform</th>\n",
       "      <th>sum</th>\n",
       "      <th>percent</th>\n",
       "    </tr>\n",
       "  </thead>\n",
       "  <tbody>\n",
       "    <tr>\n",
       "      <th>4</th>\n",
       "      <td>PS4</td>\n",
       "      <td>141.09</td>\n",
       "      <td>27.84</td>\n",
       "    </tr>\n",
       "    <tr>\n",
       "      <th>3</th>\n",
       "      <td>PS3</td>\n",
       "      <td>106.86</td>\n",
       "      <td>21.08</td>\n",
       "    </tr>\n",
       "    <tr>\n",
       "      <th>9</th>\n",
       "      <td>X360</td>\n",
       "      <td>74.52</td>\n",
       "      <td>14.70</td>\n",
       "    </tr>\n",
       "    <tr>\n",
       "      <th>10</th>\n",
       "      <td>XOne</td>\n",
       "      <td>51.59</td>\n",
       "      <td>10.18</td>\n",
       "    </tr>\n",
       "    <tr>\n",
       "      <th>0</th>\n",
       "      <td>3DS</td>\n",
       "      <td>42.64</td>\n",
       "      <td>8.41</td>\n",
       "    </tr>\n",
       "  </tbody>\n",
       "</table>\n",
       "</div>"
      ],
      "text/plain": [
       "   platform     sum  percent\n",
       "4       PS4  141.09    27.84\n",
       "3       PS3  106.86    21.08\n",
       "9      X360   74.52    14.70\n",
       "10     XOne   51.59    10.18\n",
       "0       3DS   42.64     8.41"
      ]
     },
     "execution_count": 61,
     "metadata": {},
     "output_type": "execute_result"
    }
   ],
   "source": [
    "# найдем суммарные продажи по платформам\n",
    "plat_eu = df2.pivot_table(index=['platform'], values=['eu_sales'], aggfunc=['sum']) \n",
    "\n",
    "# расчитаем доли в отдельном столбце\n",
    "plat_eu['percent'] = round(plat_eu['sum']/plat_eu['sum'].sum()*100, 2) \n",
    "\n",
    "plat_eu = plat_eu.reset_index().droplevel(1, axis=1)\n",
    "\n",
    "# определим ТОП-5 платформ исходя из их доли в продажах игр\n",
    "plat_eu.sort_values(by='percent', ascending=False).head(5) "
   ]
  },
  {
   "cell_type": "markdown",
   "metadata": {},
   "source": [
    "На первом месте в EU по продажам игр платформа PS4. На нее приходится 27.84%. На втором месте PS3 c 21.08%. На третьем X360 - 14.70%. "
   ]
  },
  {
   "cell_type": "code",
   "execution_count": 62,
   "metadata": {},
   "outputs": [
    {
     "data": {
      "text/plain": [
       "genre\n",
       "Action          159.34\n",
       "Shooter         113.47\n",
       "Sports           69.09\n",
       "Role-Playing     48.53\n",
       "Racing           27.29\n",
       "Name: eu_sales, dtype: float64"
      ]
     },
     "execution_count": 62,
     "metadata": {},
     "output_type": "execute_result"
    }
   ],
   "source": [
    "df2.groupby('genre')['eu_sales'].agg('sum').sort_values(ascending=False).head(5) # определим ТОП-5 жанров"
   ]
  },
  {
   "cell_type": "markdown",
   "metadata": {},
   "source": [
    "Самыми популярными жанрами в EU явялются: Action, Shooter, Sports, Role-Playing, Racing."
   ]
  },
  {
   "cell_type": "code",
   "execution_count": 63,
   "metadata": {},
   "outputs": [
    {
     "data": {
      "image/png": "[encoded data removed]",
      "text/plain": [
       "<Figure size 1008x288 with 1 Axes>"
      ]
     },
     "metadata": {
      "needs_background": "light"
     },
     "output_type": "display_data"
    }
   ],
   "source": [
    "# найдем суммарные продажи по рейтингам\n",
    "rating_eu = df2.groupby('rating')['eu_sales'].agg('sum') \n",
    "\n",
    "rating_eu.sort_values().plot(kind='barh', grid=True, figsize=(14, 4), title='Продажи игр по рейтингам в EU')\n",
    "plt.xlabel('продажи')\n",
    "plt.ylabel(None)\n",
    "plt.show()"
   ]
  },
  {
   "cell_type": "markdown",
   "metadata": {},
   "source": [
    "В EU больше всего продаж приходилось на игры с категорией М (для лиц старше 17 лет), на втором месте Е (для всех), на третьем - игры без рейтинга. Опять же, категории игр точно те же, что и в NA."
   ]
  },
  {
   "cell_type": "markdown",
   "metadata": {},
   "source": [
    "**Определим предпочтения пользователей в JP.**"
   ]
  },
  {
   "cell_type": "code",
   "execution_count": 64,
   "metadata": {},
   "outputs": [
    {
     "data": {
      "text/html": [
       "<div>\n",
       "<style scoped>\n",
       "    .dataframe tbody tr th:only-of-type {\n",
       "        vertical-align: middle;\n",
       "    }\n",
       "\n",
       "    .dataframe tbody tr th {\n",
       "        vertical-align: top;\n",
       "    }\n",
       "\n",
       "    .dataframe thead th {\n",
       "        text-align: right;\n",
       "    }\n",
       "</style>\n",
       "<table border=\"1\" class=\"dataframe\">\n",
       "  <thead>\n",
       "    <tr style=\"text-align: right;\">\n",
       "      <th></th>\n",
       "      <th>platform</th>\n",
       "      <th>sum</th>\n",
       "      <th>percent</th>\n",
       "    </tr>\n",
       "  </thead>\n",
       "  <tbody>\n",
       "    <tr>\n",
       "      <th>0</th>\n",
       "      <td>3DS</td>\n",
       "      <td>87.79</td>\n",
       "      <td>45.59</td>\n",
       "    </tr>\n",
       "    <tr>\n",
       "      <th>3</th>\n",
       "      <td>PS3</td>\n",
       "      <td>35.29</td>\n",
       "      <td>18.32</td>\n",
       "    </tr>\n",
       "    <tr>\n",
       "      <th>6</th>\n",
       "      <td>PSV</td>\n",
       "      <td>21.04</td>\n",
       "      <td>10.93</td>\n",
       "    </tr>\n",
       "    <tr>\n",
       "      <th>4</th>\n",
       "      <td>PS4</td>\n",
       "      <td>15.96</td>\n",
       "      <td>8.29</td>\n",
       "    </tr>\n",
       "    <tr>\n",
       "      <th>8</th>\n",
       "      <td>WiiU</td>\n",
       "      <td>13.01</td>\n",
       "      <td>6.76</td>\n",
       "    </tr>\n",
       "  </tbody>\n",
       "</table>\n",
       "</div>"
      ],
      "text/plain": [
       "  platform    sum  percent\n",
       "0      3DS  87.79    45.59\n",
       "3      PS3  35.29    18.32\n",
       "6      PSV  21.04    10.93\n",
       "4      PS4  15.96     8.29\n",
       "8     WiiU  13.01     6.76"
      ]
     },
     "execution_count": 64,
     "metadata": {},
     "output_type": "execute_result"
    }
   ],
   "source": [
    "# найдем суммарные продажи по платформам\n",
    "plat_jp = df2.pivot_table(index=['platform'], values=['jp_sales'], aggfunc=['sum']) \n",
    "\n",
    "# расчитаем доли в отдельном столбце\n",
    "plat_jp['percent'] = round(plat_jp['sum']/plat_jp['sum'].sum()*100, 2) \n",
    "\n",
    "plat_jp = plat_jp.reset_index().droplevel(1, axis=1)\n",
    "\n",
    "# определим ТОП-5 платформ исходя из их доли в продажах игр\n",
    "plat_jp.sort_values(by='percent', ascending=False).head(5) "
   ]
  },
  {
   "cell_type": "markdown",
   "metadata": {},
   "source": [
    "На первом месте в JP по продажам игр платформа 3DS. На нее приходится 45.59%. На втором месте PS3 c 18.32%. На третьем PSV - 10.93%."
   ]
  },
  {
   "cell_type": "code",
   "execution_count": 65,
   "metadata": {},
   "outputs": [
    {
     "data": {
      "text/plain": [
       "genre\n",
       "Role-Playing    65.44\n",
       "Action          52.80\n",
       "Misc            12.86\n",
       "Simulation      10.41\n",
       "Fighting         9.44\n",
       "Name: jp_sales, dtype: float64"
      ]
     },
     "execution_count": 65,
     "metadata": {},
     "output_type": "execute_result"
    }
   ],
   "source": [
    "df2.groupby('genre')['jp_sales'].agg('sum').sort_values(ascending=False).head(5) # определим ТОП-5 жанров"
   ]
  },
  {
   "cell_type": "markdown",
   "metadata": {},
   "source": [
    "Самыми популярными жанрами в JP явялются: Role-Playing, Action, Misc, Simulation, Fighting. Это сильно отличает регион от прочих."
   ]
  },
  {
   "cell_type": "code",
   "execution_count": 66,
   "metadata": {},
   "outputs": [
    {
     "data": {
      "image/png": "[encoded data removed]",
      "text/plain": [
       "<Figure size 1008x288 with 1 Axes>"
      ]
     },
     "metadata": {
      "needs_background": "light"
     },
     "output_type": "display_data"
    }
   ],
   "source": [
    "# найдем суммарные продажи по рейтингам\n",
    "rating_jp = df2.groupby('rating')['jp_sales'].agg('sum') \n",
    "\n",
    "rating_jp.sort_values().plot(kind='barh', grid=True, figsize=(14, 4), title='Продажи игр по рейтингам в JP')\n",
    "plt.xlabel('продажи')\n",
    "plt.ylabel(None)\n",
    "plt.show()"
   ]
  },
  {
   "cell_type": "markdown",
   "metadata": {},
   "source": [
    "В JP больше всего продаж приходилось на игры без рейтинга, на втором месте с категорией Е (для всех), на третьем - Т (для подростков)."
   ]
  },
  {
   "cell_type": "markdown",
   "metadata": {},
   "source": [
    "**Вывод:**\n",
    "Изучив портреты пользователей в каждом регионе, мы можем заключить, что существуют различия во вкусах пользователей из разных регионов как в жанрах, так в платформах и рейтингах игр. В NA больше всего выпускается и продается игр для X360 от Microsoft, в то время как в JP предпочитают платформы от собственного гиганта - компании Sony. Предпочтения в жанрах тоже различаются. Если в NA предпочитают: Action, Shooter, Sports, Role-Playing, Misc, то в JP больше пользуются спросом игры жанров Role-Playing, Action, Misc, Simulation, Fighting."
   ]
  },
  {
   "cell_type": "markdown",
   "metadata": {},
   "source": [
    "### Проверка гипотез"
   ]
  },
  {
   "cell_type": "code",
   "execution_count": 67,
   "metadata": {},
   "outputs": [
    {
     "name": "stdout",
     "output_type": "stream",
     "text": [
      "<class 'pandas.core.frame.DataFrame'>\n",
      "Int64Index: 2885 entries, 16 to 16714\n",
      "Data columns (total 12 columns):\n",
      " #   Column           Non-Null Count  Dtype  \n",
      "---  ------           --------------  -----  \n",
      " 0   name             2885 non-null   object \n",
      " 1   platform         2885 non-null   object \n",
      " 2   year_of_release  2885 non-null   int64  \n",
      " 3   genre            2885 non-null   object \n",
      " 4   na_sales         2885 non-null   float64\n",
      " 5   eu_sales         2885 non-null   float64\n",
      " 6   jp_sales         2885 non-null   float64\n",
      " 7   other_sales      2885 non-null   float64\n",
      " 8   critic_score     1311 non-null   float64\n",
      " 9   user_score       1530 non-null   float64\n",
      " 10  rating           2885 non-null   object \n",
      " 11  sum_sales        2885 non-null   float64\n",
      "dtypes: float64(7), int64(1), object(4)\n",
      "memory usage: 293.0+ KB\n"
     ]
    }
   ],
   "source": [
    "df2.info()"
   ]
  },
  {
   "cell_type": "markdown",
   "metadata": {},
   "source": [
    "Перед проверкой гипотез мы видим, что в данных есть пропущенные значения. В частности пропуски есть в столбце `user_score`. Как говорит теория, при проверке гипотез и пропуски, и «заглушки» должны быть удалены."
   ]
  },
  {
   "cell_type": "code",
   "execution_count": 68,
   "metadata": {},
   "outputs": [],
   "source": [
    "df3 = df2[~(df2['user_score'].isna())]"
   ]
  },
  {
   "cell_type": "code",
   "execution_count": 70,
   "metadata": {},
   "outputs": [
    {
     "name": "stdout",
     "output_type": "stream",
     "text": [
      "<class 'pandas.core.frame.DataFrame'>\n",
      "Int64Index: 1530 entries, 16 to 16692\n",
      "Data columns (total 12 columns):\n",
      " #   Column           Non-Null Count  Dtype  \n",
      "---  ------           --------------  -----  \n",
      " 0   name             1530 non-null   object \n",
      " 1   platform         1530 non-null   object \n",
      " 2   year_of_release  1530 non-null   int64  \n",
      " 3   genre            1530 non-null   object \n",
      " 4   na_sales         1530 non-null   float64\n",
      " 5   eu_sales         1530 non-null   float64\n",
      " 6   jp_sales         1530 non-null   float64\n",
      " 7   other_sales      1530 non-null   float64\n",
      " 8   critic_score     1296 non-null   float64\n",
      " 9   user_score       1530 non-null   float64\n",
      " 10  rating           1530 non-null   object \n",
      " 11  sum_sales        1530 non-null   float64\n",
      "dtypes: float64(7), int64(1), object(4)\n",
      "memory usage: 155.4+ KB\n"
     ]
    }
   ],
   "source": [
    "df3.info()"
   ]
  },
  {
   "cell_type": "markdown",
   "metadata": {},
   "source": [
    "Проверим гипотезу о том, что **средние пользовательские рейтинги платформ Xbox One и PC одинаковые.** Тогда нулевая и альтернативная гипотезы будут выглядеть так: </br>  \n",
    "\n",
    "H_0: Средний рейтинг пользователей (user_score) платформы XOne = Средний рейтинг пользователей (user_score) платформы PC </br>  \n",
    "H_a: Средний рейтинг пользователей (user_score) платформы XOne ≠ Средний рейтинг пользователей (user_score) платформы PC</br>  \n",
    "</br>  \n",
    "Уровень значимости установим на значении 0.05, т.е. alpha = 0.05 .\n"
   ]
  },
  {
   "cell_type": "code",
   "execution_count": 71,
   "metadata": {},
   "outputs": [
    {
     "name": "stdout",
     "output_type": "stream",
     "text": [
      "0.5535080500643661\n",
      "Не получилось отвергнуть нулевую гипотезу\n"
     ]
    }
   ],
   "source": [
    "user_score_xone = df3.loc[(df2['platform'] =='XOne'), 'user_score']\n",
    "user_score_pc = df3.loc[(df2['platform'] =='PC'), 'user_score']\n",
    "\n",
    "results = st.ttest_ind(user_score_xone, user_score_pc) # вызываем метод для проверки гипотезы\n",
    "\n",
    "alpha = 0.05\n",
    "\n",
    "print(results.pvalue) # выведем значение p-value на экран \n",
    "if results.pvalue < alpha:\n",
    "    print('Отвергаем нулевую гипотезу')\n",
    "else:\n",
    "    print('Не получилось отвергнуть нулевую гипотезу')"
   ]
  },
  {
   "cell_type": "markdown",
   "metadata": {},
   "source": [
    "**Вывод:** Использовав t-критерий Стьюдента, который применяется для проверки того, равны ли два средних значения совокупности, при уровне значимости равном 0.05, мы можем заключить, что предположение (средние пользовательские рейтинги платформ Xbox One и PC одинаковые) является вероятным и нулевую гипотезу не стоит отвергать."
   ]
  },
  {
   "cell_type": "markdown",
   "metadata": {},
   "source": [
    "Теперь проверим гипотезу о том, что **средние пользовательские рейтинги жанров Action (англ. «действие», экшен-игры) и Sports (англ. «спортивные соревнования») разные.** Тогда нулевая и альтернативная гипотезы будут выглядеть так: </br>  \n",
    "\n",
    "H_0: Средний рейтинг пользователей (user_score) жанра Action = Средний рейтинг пользователей (user_score) жанра Sports </br>  \n",
    "H_a: Средний рейтинг пользователей (user_score) жанра Action ≠ Средний рейтинг пользователей (user_score) жанра Sports </br>  \n",
    "</br>  \n",
    "Уровень значимости установим на значении 0.05, т.е. alpha = 0.05 ."
   ]
  },
  {
   "cell_type": "code",
   "execution_count": 72,
   "metadata": {},
   "outputs": [
    {
     "name": "stdout",
     "output_type": "stream",
     "text": [
      "4.8045233804629176e-26\n",
      "Отвергаем нулевую гипотезу\n"
     ]
    }
   ],
   "source": [
    "user_score_action = df3.loc[(df['genre'] =='Action'), 'user_score']\n",
    "user_score_sports = df3.loc[(df['genre'] =='Sports'), 'user_score']\n",
    "\n",
    "results = st.ttest_ind(user_score_action, user_score_sports) # вызываем метод для проверки гипотезы\n",
    "\n",
    "alpha = 0.05\n",
    "\n",
    "print(results.pvalue) # выведем значение p-value на экран \n",
    "if results.pvalue < alpha:\n",
    "    print('Отвергаем нулевую гипотезу')\n",
    "else:\n",
    "    print('Не получилось отвергнуть нулевую гипотезу')"
   ]
  },
  {
   "cell_type": "markdown",
   "metadata": {},
   "source": [
    "**Вывод:** Использовав, как и в первом случае, t-критерий Стьюдента, который применяется для проверки того, равны ли два средних значения совокупности, при уровне значимости равном 0.05, мы можем сказать, что вероятность равенства средних рейтингов жанров мала. Она не превышает уровень значимости. Из этого следует, что вероятнее всего  средние пользовательские рейтинги жанров Action и Sports действительно разные."
   ]
  },
  {
   "cell_type": "markdown",
   "metadata": {},
   "source": [
    "### Общий вывод"
   ]
  },
  {
   "cell_type": "markdown",
   "metadata": {},
   "source": [
    "В заключение исследования мы можем сделать следующие выводы:\n",
    "\n",
    "1. _При обработке датасета мы столкнулись с большим количеством пропусков в данных. Причинами пропусков мог стать человеческий фактор, т.е. ответственный специалист не заполнял, например, пользовательский рейтинг или рейтинг критиков. Или был технический сбой при формировании выгрузки, когда к данным не подтянулись рейтинги и оценки. Возможно в разных таблицах БД игры называются по-разному._<br>  \n",
    "<br>  \n",
    "2. _Проведя исследовательский анализ данных, можно сказать, что оценки критиков, как и оценки пользователей, имеют слабую корреляцию с продажами во всех регионах без исключения. И это логично, ведь прежде чем оставить отзыв или оценку критик или пользователь должен поиграть в игру, а до этого ее нужно приобрести._<br>  \n",
    "<br>  \n",
    "3. _Мы также выяснили, что наиболее перспективными платформами являются PS4 и XOne. И это не удивительно, т.к. данные платформы являются платформами нового поколения. Кроме того нам удалось установить самые прибыльные жанры игр. Ими стали - Shooter, Sports, Platform, Role-Playing и Racing._<br>  \n",
    "<br>  \n",
    "4. _Изучив портреты пользователей в каждом регионе, мы можем заключить, что существуют различия во вкусах пользователей из разных регионов как в жанрах, так в платформах и рейтингах игр. В NA больше всего выпускается и продается игр для X360 от Microsoft, в то время как в JP предпочитают платформы от собственного гиганта - компании Sony. Предпочтения в жанрах тоже различаются. Если в NA предпочитают: Action, Shooter, Sports, Role-Playing, Misc, то в JP больше пользуются спросом игры жанров Role-Playing, Action, Misc, Simulation, Fighting._<br>  \n",
    "<br>  \n",
    "5. _Проверив гипотезы о равенстве средних значений пользовательского рейтинга, мы пришли к выводу, что вероятнее всего средние пользовательские рейтинги жанров Action и Sports различны, а средние рейтинги платформ Xbox One и PC вероятно совпадают._<br>  \n",
    "<br>  \n",
    "\n",
    "__В качестве общего итога отметим, что основываясь на полученой в результате исследования информации, интернет-магазину «Стримчик» для проведения рекламных кампаний стоит учитывать региональную специфику в предпочтениях жанров игр, а также стоит больше средств вкладывать в игры для приставок нового поколения Xbox и Playstation.__"
   ]
  }
 ],
 "metadata": {
  "ExecuteTimeLog": [
   {
    "duration": 732,
    "start_time": "2022-11-20T07:29:18.012Z"
   },
   {
    "duration": 102,
    "start_time": "2022-11-20T07:29:22.187Z"
   },
   {
    "duration": 202,
    "start_time": "2022-11-20T07:29:40.424Z"
   },
   {
    "duration": 51,
    "start_time": "2022-11-20T07:29:54.918Z"
   },
   {
    "duration": 713,
    "start_time": "2022-11-20T07:33:15.852Z"
   },
   {
    "duration": 775,
    "start_time": "2022-11-20T07:33:53.584Z"
   },
   {
    "duration": 721,
    "start_time": "2022-11-20T07:36:08.690Z"
   },
   {
    "duration": 727,
    "start_time": "2022-11-20T07:38:14.055Z"
   },
   {
    "duration": 14,
    "start_time": "2022-11-20T07:47:59.068Z"
   },
   {
    "duration": 16,
    "start_time": "2022-11-20T07:52:34.916Z"
   },
   {
    "duration": 106,
    "start_time": "2022-11-20T07:53:42.962Z"
   },
   {
    "duration": 26,
    "start_time": "2022-11-20T07:54:02.586Z"
   },
   {
    "duration": 16,
    "start_time": "2022-11-20T08:02:26.386Z"
   },
   {
    "duration": 15,
    "start_time": "2022-11-20T08:02:44.602Z"
   },
   {
    "duration": 15,
    "start_time": "2022-11-20T08:05:46.795Z"
   },
   {
    "duration": 21,
    "start_time": "2022-11-20T08:12:28.341Z"
   },
   {
    "duration": 21,
    "start_time": "2022-11-20T08:12:42.650Z"
   },
   {
    "duration": 23,
    "start_time": "2022-11-20T08:12:49.050Z"
   },
   {
    "duration": 20,
    "start_time": "2022-11-20T08:12:54.700Z"
   },
   {
    "duration": 20,
    "start_time": "2022-11-20T08:14:10.889Z"
   },
   {
    "duration": 6,
    "start_time": "2022-11-20T08:17:09.306Z"
   },
   {
    "duration": 9,
    "start_time": "2022-11-20T08:17:42.243Z"
   },
   {
    "duration": 16,
    "start_time": "2022-11-20T08:21:13.346Z"
   },
   {
    "duration": 13,
    "start_time": "2022-11-20T08:30:11.650Z"
   },
   {
    "duration": 17,
    "start_time": "2022-11-20T08:30:18.944Z"
   },
   {
    "duration": 10,
    "start_time": "2022-11-20T08:32:29.932Z"
   },
   {
    "duration": 7,
    "start_time": "2022-11-20T08:33:24.462Z"
   },
   {
    "duration": 3,
    "start_time": "2022-11-20T08:33:35.192Z"
   },
   {
    "duration": 58,
    "start_time": "2022-11-20T08:33:35.197Z"
   },
   {
    "duration": 747,
    "start_time": "2022-11-20T08:33:35.257Z"
   },
   {
    "duration": 15,
    "start_time": "2022-11-20T08:33:36.005Z"
   },
   {
    "duration": 30,
    "start_time": "2022-11-20T08:33:36.023Z"
   },
   {
    "duration": 9,
    "start_time": "2022-11-20T08:33:36.055Z"
   },
   {
    "duration": 17,
    "start_time": "2022-11-20T08:33:36.066Z"
   },
   {
    "duration": 14,
    "start_time": "2022-11-20T08:33:42.090Z"
   },
   {
    "duration": 5,
    "start_time": "2022-11-20T08:38:21.370Z"
   },
   {
    "duration": 906,
    "start_time": "2022-11-20T08:38:38.640Z"
   },
   {
    "duration": 3,
    "start_time": "2022-11-20T08:38:59.912Z"
   },
   {
    "duration": 49,
    "start_time": "2022-11-20T08:38:59.917Z"
   },
   {
    "duration": 764,
    "start_time": "2022-11-20T08:38:59.967Z"
   },
   {
    "duration": 20,
    "start_time": "2022-11-20T08:39:00.733Z"
   },
   {
    "duration": 34,
    "start_time": "2022-11-20T08:39:00.755Z"
   },
   {
    "duration": 14,
    "start_time": "2022-11-20T08:39:00.790Z"
   },
   {
    "duration": 27,
    "start_time": "2022-11-20T08:39:00.806Z"
   },
   {
    "duration": 9,
    "start_time": "2022-11-20T08:39:05.002Z"
   },
   {
    "duration": 2,
    "start_time": "2022-11-20T08:39:18.444Z"
   },
   {
    "duration": 53,
    "start_time": "2022-11-20T08:39:18.448Z"
   },
   {
    "duration": 723,
    "start_time": "2022-11-20T08:39:18.503Z"
   },
   {
    "duration": 15,
    "start_time": "2022-11-20T08:39:19.228Z"
   },
   {
    "duration": 15,
    "start_time": "2022-11-20T08:39:19.252Z"
   },
   {
    "duration": 10,
    "start_time": "2022-11-20T08:39:19.269Z"
   },
   {
    "duration": 21,
    "start_time": "2022-11-20T08:39:19.280Z"
   },
   {
    "duration": 4,
    "start_time": "2022-11-20T08:39:19.303Z"
   },
   {
    "duration": 9,
    "start_time": "2022-11-20T08:39:25.186Z"
   },
   {
    "duration": 3,
    "start_time": "2022-11-20T08:40:30.560Z"
   },
   {
    "duration": 59,
    "start_time": "2022-11-20T08:40:30.565Z"
   },
   {
    "duration": 721,
    "start_time": "2022-11-20T08:40:30.626Z"
   },
   {
    "duration": 15,
    "start_time": "2022-11-20T08:40:31.348Z"
   },
   {
    "duration": 20,
    "start_time": "2022-11-20T08:40:31.365Z"
   },
   {
    "duration": 9,
    "start_time": "2022-11-20T08:40:31.387Z"
   },
   {
    "duration": 14,
    "start_time": "2022-11-20T08:40:31.397Z"
   },
   {
    "duration": 23,
    "start_time": "2022-11-20T08:40:31.413Z"
   },
   {
    "duration": 14,
    "start_time": "2022-11-20T08:40:31.438Z"
   },
   {
    "duration": 3,
    "start_time": "2022-11-20T08:41:36.587Z"
   },
   {
    "duration": 50,
    "start_time": "2022-11-20T08:41:36.591Z"
   },
   {
    "duration": 825,
    "start_time": "2022-11-20T08:41:36.643Z"
   },
   {
    "duration": 15,
    "start_time": "2022-11-20T08:41:37.470Z"
   },
   {
    "duration": 22,
    "start_time": "2022-11-20T08:41:37.487Z"
   },
   {
    "duration": 10,
    "start_time": "2022-11-20T08:41:37.511Z"
   },
   {
    "duration": 36,
    "start_time": "2022-11-20T08:41:37.522Z"
   },
   {
    "duration": 6,
    "start_time": "2022-11-20T08:41:43.620Z"
   },
   {
    "duration": 16,
    "start_time": "2022-11-20T08:41:45.383Z"
   },
   {
    "duration": 9,
    "start_time": "2022-11-20T08:42:08.437Z"
   },
   {
    "duration": 6,
    "start_time": "2022-11-20T08:45:22.467Z"
   },
   {
    "duration": 10,
    "start_time": "2022-11-20T08:45:25.406Z"
   },
   {
    "duration": 14,
    "start_time": "2022-11-20T08:45:45.263Z"
   },
   {
    "duration": 3,
    "start_time": "2022-11-20T08:48:49.831Z"
   },
   {
    "duration": 49,
    "start_time": "2022-11-20T08:48:49.837Z"
   },
   {
    "duration": 679,
    "start_time": "2022-11-20T08:48:49.888Z"
   },
   {
    "duration": 15,
    "start_time": "2022-11-20T08:48:50.569Z"
   },
   {
    "duration": 16,
    "start_time": "2022-11-20T08:48:50.587Z"
   },
   {
    "duration": 0,
    "start_time": "2022-11-20T08:48:50.605Z"
   },
   {
    "duration": 0,
    "start_time": "2022-11-20T08:48:50.606Z"
   },
   {
    "duration": 0,
    "start_time": "2022-11-20T08:48:50.608Z"
   },
   {
    "duration": 0,
    "start_time": "2022-11-20T08:48:50.609Z"
   },
   {
    "duration": 0,
    "start_time": "2022-11-20T08:48:50.611Z"
   },
   {
    "duration": 28,
    "start_time": "2022-11-20T08:48:50.632Z"
   },
   {
    "duration": 2,
    "start_time": "2022-11-20T09:06:24.596Z"
   },
   {
    "duration": 51,
    "start_time": "2022-11-20T09:06:24.601Z"
   },
   {
    "duration": 742,
    "start_time": "2022-11-20T09:06:24.653Z"
   },
   {
    "duration": 14,
    "start_time": "2022-11-20T09:06:25.397Z"
   },
   {
    "duration": 19,
    "start_time": "2022-11-20T09:06:25.413Z"
   },
   {
    "duration": 22,
    "start_time": "2022-11-20T09:06:25.434Z"
   },
   {
    "duration": 16,
    "start_time": "2022-11-20T09:06:25.457Z"
   },
   {
    "duration": 6,
    "start_time": "2022-11-20T09:06:25.474Z"
   },
   {
    "duration": 8,
    "start_time": "2022-11-20T09:06:25.481Z"
   },
   {
    "duration": 13,
    "start_time": "2022-11-20T09:06:25.490Z"
   },
   {
    "duration": 14,
    "start_time": "2022-11-20T09:06:25.504Z"
   },
   {
    "duration": 20,
    "start_time": "2022-11-20T09:07:52.051Z"
   },
   {
    "duration": 5,
    "start_time": "2022-11-20T09:10:21.116Z"
   },
   {
    "duration": 5,
    "start_time": "2022-11-20T09:17:40.914Z"
   },
   {
    "duration": 5,
    "start_time": "2022-11-20T09:27:03.580Z"
   },
   {
    "duration": 17,
    "start_time": "2022-11-20T09:44:34.104Z"
   },
   {
    "duration": 289,
    "start_time": "2022-11-20T09:48:16.689Z"
   },
   {
    "duration": 12,
    "start_time": "2022-11-20T09:48:36.913Z"
   },
   {
    "duration": 96,
    "start_time": "2022-11-20T09:51:07.891Z"
   },
   {
    "duration": 3,
    "start_time": "2022-11-20T10:06:45.116Z"
   },
   {
    "duration": 47,
    "start_time": "2022-11-20T10:06:45.146Z"
   },
   {
    "duration": 692,
    "start_time": "2022-11-20T10:06:45.195Z"
   },
   {
    "duration": 14,
    "start_time": "2022-11-20T10:06:45.889Z"
   },
   {
    "duration": 33,
    "start_time": "2022-11-20T10:06:45.905Z"
   },
   {
    "duration": 18,
    "start_time": "2022-11-20T10:06:45.940Z"
   },
   {
    "duration": 24,
    "start_time": "2022-11-20T10:06:45.960Z"
   },
   {
    "duration": 30,
    "start_time": "2022-11-20T10:06:45.986Z"
   },
   {
    "duration": 22,
    "start_time": "2022-11-20T10:06:46.018Z"
   },
   {
    "duration": 14,
    "start_time": "2022-11-20T10:06:46.041Z"
   },
   {
    "duration": 6,
    "start_time": "2022-11-20T10:06:56.412Z"
   },
   {
    "duration": 5,
    "start_time": "2022-11-20T10:07:19.444Z"
   },
   {
    "duration": 3,
    "start_time": "2022-11-20T10:08:22.404Z"
   },
   {
    "duration": 58,
    "start_time": "2022-11-20T10:08:22.411Z"
   },
   {
    "duration": 795,
    "start_time": "2022-11-20T10:08:22.471Z"
   },
   {
    "duration": 14,
    "start_time": "2022-11-20T10:08:23.268Z"
   },
   {
    "duration": 19,
    "start_time": "2022-11-20T10:08:23.284Z"
   },
   {
    "duration": 11,
    "start_time": "2022-11-20T10:08:23.304Z"
   },
   {
    "duration": 37,
    "start_time": "2022-11-20T10:08:23.316Z"
   },
   {
    "duration": 7,
    "start_time": "2022-11-20T10:08:23.356Z"
   },
   {
    "duration": 18,
    "start_time": "2022-11-20T10:08:23.364Z"
   },
   {
    "duration": 6,
    "start_time": "2022-11-20T10:08:23.384Z"
   },
   {
    "duration": 7,
    "start_time": "2022-11-20T10:08:28.952Z"
   },
   {
    "duration": 5,
    "start_time": "2022-11-20T10:08:31.789Z"
   },
   {
    "duration": 7,
    "start_time": "2022-11-20T10:12:39.546Z"
   },
   {
    "duration": 6,
    "start_time": "2022-11-20T10:14:53.293Z"
   },
   {
    "duration": 6,
    "start_time": "2022-11-20T10:18:21.299Z"
   },
   {
    "duration": 10,
    "start_time": "2022-11-20T10:18:59.004Z"
   },
   {
    "duration": 17,
    "start_time": "2022-11-20T10:20:11.134Z"
   },
   {
    "duration": 14,
    "start_time": "2022-11-20T10:30:38.107Z"
   },
   {
    "duration": 13,
    "start_time": "2022-11-20T10:30:55.029Z"
   },
   {
    "duration": 1082,
    "start_time": "2022-11-20T10:32:53.636Z"
   },
   {
    "duration": 5,
    "start_time": "2022-11-20T10:37:54.095Z"
   },
   {
    "duration": 13,
    "start_time": "2022-11-20T10:38:27.956Z"
   },
   {
    "duration": 14,
    "start_time": "2022-11-20T11:09:03.645Z"
   },
   {
    "duration": 519,
    "start_time": "2022-11-20T11:16:20.400Z"
   },
   {
    "duration": 85,
    "start_time": "2022-11-20T11:17:00.719Z"
   },
   {
    "duration": 14,
    "start_time": "2022-11-20T11:17:29.096Z"
   },
   {
    "duration": 318,
    "start_time": "2022-11-20T11:18:40.182Z"
   },
   {
    "duration": 519,
    "start_time": "2022-11-20T11:22:23.880Z"
   },
   {
    "duration": 538,
    "start_time": "2022-11-20T11:24:22.903Z"
   },
   {
    "duration": 586,
    "start_time": "2022-11-20T11:24:45.692Z"
   },
   {
    "duration": 17,
    "start_time": "2022-11-20T11:32:06.895Z"
   },
   {
    "duration": 3,
    "start_time": "2022-11-20T11:35:00.717Z"
   },
   {
    "duration": 60,
    "start_time": "2022-11-20T11:35:00.722Z"
   },
   {
    "duration": 781,
    "start_time": "2022-11-20T11:35:00.784Z"
   },
   {
    "duration": 14,
    "start_time": "2022-11-20T11:35:01.568Z"
   },
   {
    "duration": 47,
    "start_time": "2022-11-20T11:35:01.583Z"
   },
   {
    "duration": 42,
    "start_time": "2022-11-20T11:35:01.632Z"
   },
   {
    "duration": 23,
    "start_time": "2022-11-20T11:35:01.675Z"
   },
   {
    "duration": 25,
    "start_time": "2022-11-20T11:35:01.701Z"
   },
   {
    "duration": 22,
    "start_time": "2022-11-20T11:35:01.727Z"
   },
   {
    "duration": 25,
    "start_time": "2022-11-20T11:35:01.751Z"
   },
   {
    "duration": 35,
    "start_time": "2022-11-20T11:35:01.778Z"
   },
   {
    "duration": 41,
    "start_time": "2022-11-20T11:35:01.814Z"
   },
   {
    "duration": 23,
    "start_time": "2022-11-20T11:35:01.857Z"
   },
   {
    "duration": 33,
    "start_time": "2022-11-20T11:35:01.882Z"
   },
   {
    "duration": 10,
    "start_time": "2022-11-20T11:35:01.916Z"
   },
   {
    "duration": 23,
    "start_time": "2022-11-20T11:35:01.928Z"
   },
   {
    "duration": 681,
    "start_time": "2022-11-20T11:35:01.952Z"
   },
   {
    "duration": 22,
    "start_time": "2022-11-20T11:35:02.635Z"
   },
   {
    "duration": 304,
    "start_time": "2022-11-20T11:40:01.824Z"
   },
   {
    "duration": 389,
    "start_time": "2022-11-20T11:40:19.016Z"
   },
   {
    "duration": 22,
    "start_time": "2022-11-20T11:47:30.904Z"
   },
   {
    "duration": 22,
    "start_time": "2022-11-20T11:48:32.748Z"
   },
   {
    "duration": 26,
    "start_time": "2022-11-20T11:48:58.038Z"
   },
   {
    "duration": 23,
    "start_time": "2022-11-20T11:49:14.469Z"
   },
   {
    "duration": 9,
    "start_time": "2022-11-20T11:49:58.205Z"
   },
   {
    "duration": 7,
    "start_time": "2022-11-20T11:50:22.683Z"
   },
   {
    "duration": 8,
    "start_time": "2022-11-20T11:50:32.612Z"
   },
   {
    "duration": 6,
    "start_time": "2022-11-20T11:51:10.283Z"
   },
   {
    "duration": 6,
    "start_time": "2022-11-20T11:52:06.223Z"
   },
   {
    "duration": 7,
    "start_time": "2022-11-20T11:58:56.692Z"
   },
   {
    "duration": 2,
    "start_time": "2022-11-20T11:59:15.041Z"
   },
   {
    "duration": 53,
    "start_time": "2022-11-20T11:59:15.045Z"
   },
   {
    "duration": 696,
    "start_time": "2022-11-20T11:59:15.099Z"
   },
   {
    "duration": 13,
    "start_time": "2022-11-20T11:59:15.797Z"
   },
   {
    "duration": 16,
    "start_time": "2022-11-20T11:59:15.812Z"
   },
   {
    "duration": 30,
    "start_time": "2022-11-20T11:59:15.830Z"
   },
   {
    "duration": 8,
    "start_time": "2022-11-20T11:59:15.861Z"
   },
   {
    "duration": 8,
    "start_time": "2022-11-20T11:59:15.871Z"
   },
   {
    "duration": 6,
    "start_time": "2022-11-20T11:59:15.881Z"
   },
   {
    "duration": 12,
    "start_time": "2022-11-20T11:59:15.889Z"
   },
   {
    "duration": 8,
    "start_time": "2022-11-20T11:59:15.902Z"
   },
   {
    "duration": 41,
    "start_time": "2022-11-20T11:59:15.911Z"
   },
   {
    "duration": 6,
    "start_time": "2022-11-20T11:59:15.954Z"
   },
   {
    "duration": 11,
    "start_time": "2022-11-20T11:59:15.962Z"
   },
   {
    "duration": 9,
    "start_time": "2022-11-20T11:59:15.974Z"
   },
   {
    "duration": 16,
    "start_time": "2022-11-20T11:59:15.984Z"
   },
   {
    "duration": 621,
    "start_time": "2022-11-20T11:59:16.002Z"
   },
   {
    "duration": 279,
    "start_time": "2022-11-20T11:59:16.624Z"
   },
   {
    "duration": 7,
    "start_time": "2022-11-20T11:59:16.904Z"
   },
   {
    "duration": 6,
    "start_time": "2022-11-20T11:59:22.411Z"
   },
   {
    "duration": 13,
    "start_time": "2022-11-20T11:59:36.778Z"
   },
   {
    "duration": 5,
    "start_time": "2022-11-20T12:00:22.718Z"
   },
   {
    "duration": 15,
    "start_time": "2022-11-20T12:00:24.838Z"
   },
   {
    "duration": 2,
    "start_time": "2022-11-20T12:00:44.964Z"
   },
   {
    "duration": 50,
    "start_time": "2022-11-20T12:00:44.969Z"
   },
   {
    "duration": 816,
    "start_time": "2022-11-20T12:00:45.021Z"
   },
   {
    "duration": 16,
    "start_time": "2022-11-20T12:00:45.839Z"
   },
   {
    "duration": 16,
    "start_time": "2022-11-20T12:00:45.857Z"
   },
   {
    "duration": 23,
    "start_time": "2022-11-20T12:00:45.875Z"
   },
   {
    "duration": 29,
    "start_time": "2022-11-20T12:00:45.900Z"
   },
   {
    "duration": 7,
    "start_time": "2022-11-20T12:00:45.931Z"
   },
   {
    "duration": 14,
    "start_time": "2022-11-20T12:00:45.940Z"
   },
   {
    "duration": 10,
    "start_time": "2022-11-20T12:00:45.955Z"
   },
   {
    "duration": 6,
    "start_time": "2022-11-20T12:00:45.967Z"
   },
   {
    "duration": 22,
    "start_time": "2022-11-20T12:00:45.975Z"
   },
   {
    "duration": 7,
    "start_time": "2022-11-20T12:00:45.998Z"
   },
   {
    "duration": 14,
    "start_time": "2022-11-20T12:00:46.007Z"
   },
   {
    "duration": 6,
    "start_time": "2022-11-20T12:00:46.023Z"
   },
   {
    "duration": 28,
    "start_time": "2022-11-20T12:00:46.030Z"
   },
   {
    "duration": 629,
    "start_time": "2022-11-20T12:00:46.060Z"
   },
   {
    "duration": 302,
    "start_time": "2022-11-20T12:00:46.691Z"
   },
   {
    "duration": 7,
    "start_time": "2022-11-20T12:00:46.995Z"
   },
   {
    "duration": 13,
    "start_time": "2022-11-20T12:01:05.528Z"
   },
   {
    "duration": 5,
    "start_time": "2022-11-20T12:01:16.095Z"
   },
   {
    "duration": 13,
    "start_time": "2022-11-20T12:01:21.205Z"
   },
   {
    "duration": 13,
    "start_time": "2022-11-20T12:07:03.269Z"
   },
   {
    "duration": 230,
    "start_time": "2022-11-20T12:09:30.697Z"
   },
   {
    "duration": 14,
    "start_time": "2022-11-20T12:12:52.089Z"
   },
   {
    "duration": 193369,
    "start_time": "2022-11-20T12:13:12.516Z"
   },
   {
    "duration": 0,
    "start_time": "2022-11-20T12:16:25.955Z"
   },
   {
    "duration": 0,
    "start_time": "2022-11-20T12:16:25.956Z"
   },
   {
    "duration": 0,
    "start_time": "2022-11-20T12:16:25.957Z"
   },
   {
    "duration": 0,
    "start_time": "2022-11-20T12:16:25.958Z"
   },
   {
    "duration": 0,
    "start_time": "2022-11-20T12:16:25.959Z"
   },
   {
    "duration": 0,
    "start_time": "2022-11-20T12:16:25.960Z"
   },
   {
    "duration": 0,
    "start_time": "2022-11-20T12:16:25.962Z"
   },
   {
    "duration": 0,
    "start_time": "2022-11-20T12:16:25.963Z"
   },
   {
    "duration": 0,
    "start_time": "2022-11-20T12:16:25.964Z"
   },
   {
    "duration": 0,
    "start_time": "2022-11-20T12:16:25.965Z"
   },
   {
    "duration": 0,
    "start_time": "2022-11-20T12:16:25.967Z"
   },
   {
    "duration": 0,
    "start_time": "2022-11-20T12:16:25.968Z"
   },
   {
    "duration": 0,
    "start_time": "2022-11-20T12:16:25.969Z"
   },
   {
    "duration": 0,
    "start_time": "2022-11-20T12:16:25.970Z"
   },
   {
    "duration": 0,
    "start_time": "2022-11-20T12:16:25.972Z"
   },
   {
    "duration": 0,
    "start_time": "2022-11-20T12:16:25.973Z"
   },
   {
    "duration": 0,
    "start_time": "2022-11-20T12:16:25.975Z"
   },
   {
    "duration": 0,
    "start_time": "2022-11-20T12:16:25.976Z"
   },
   {
    "duration": 0,
    "start_time": "2022-11-20T12:16:25.977Z"
   },
   {
    "duration": 0,
    "start_time": "2022-11-20T12:16:25.978Z"
   },
   {
    "duration": 3,
    "start_time": "2022-11-20T12:19:15.409Z"
   },
   {
    "duration": 56,
    "start_time": "2022-11-20T12:19:15.414Z"
   },
   {
    "duration": 731,
    "start_time": "2022-11-20T12:19:15.472Z"
   },
   {
    "duration": 14,
    "start_time": "2022-11-20T12:19:16.205Z"
   },
   {
    "duration": 11,
    "start_time": "2022-11-20T12:19:16.221Z"
   },
   {
    "duration": 31,
    "start_time": "2022-11-20T12:19:16.233Z"
   },
   {
    "duration": 8,
    "start_time": "2022-11-20T12:19:16.266Z"
   },
   {
    "duration": 9,
    "start_time": "2022-11-20T12:19:16.276Z"
   },
   {
    "duration": 6,
    "start_time": "2022-11-20T12:19:16.287Z"
   },
   {
    "duration": 7,
    "start_time": "2022-11-20T12:19:16.295Z"
   },
   {
    "duration": 5,
    "start_time": "2022-11-20T12:19:16.304Z"
   },
   {
    "duration": 41,
    "start_time": "2022-11-20T12:19:16.311Z"
   },
   {
    "duration": 6,
    "start_time": "2022-11-20T12:19:16.354Z"
   },
   {
    "duration": 6,
    "start_time": "2022-11-20T12:19:16.362Z"
   },
   {
    "duration": 5,
    "start_time": "2022-11-20T12:19:16.369Z"
   },
   {
    "duration": 16,
    "start_time": "2022-11-20T12:19:16.375Z"
   },
   {
    "duration": 686,
    "start_time": "2022-11-20T12:19:16.393Z"
   },
   {
    "duration": 289,
    "start_time": "2022-11-20T12:19:17.081Z"
   },
   {
    "duration": 7,
    "start_time": "2022-11-20T12:19:17.372Z"
   },
   {
    "duration": 9,
    "start_time": "2022-11-20T12:19:17.380Z"
   },
   {
    "duration": 21,
    "start_time": "2022-11-20T12:20:50.693Z"
   },
   {
    "duration": 8,
    "start_time": "2022-11-20T12:23:08.776Z"
   },
   {
    "duration": 15,
    "start_time": "2022-11-20T12:23:28.578Z"
   },
   {
    "duration": 9,
    "start_time": "2022-11-20T12:23:52.760Z"
   },
   {
    "duration": 11,
    "start_time": "2022-11-20T12:24:52.085Z"
   },
   {
    "duration": 7,
    "start_time": "2022-11-20T12:33:40.247Z"
   },
   {
    "duration": 169,
    "start_time": "2022-11-20T12:40:13.827Z"
   },
   {
    "duration": 186,
    "start_time": "2022-11-20T12:41:40.823Z"
   },
   {
    "duration": 206,
    "start_time": "2022-11-20T12:42:25.207Z"
   },
   {
    "duration": 192,
    "start_time": "2022-11-20T12:43:18.336Z"
   },
   {
    "duration": 175,
    "start_time": "2022-11-20T12:47:30.511Z"
   },
   {
    "duration": 29,
    "start_time": "2022-11-20T12:50:39.313Z"
   },
   {
    "duration": 24,
    "start_time": "2022-11-20T12:50:52.956Z"
   },
   {
    "duration": 20,
    "start_time": "2022-11-20T12:53:06.305Z"
   },
   {
    "duration": 9,
    "start_time": "2022-11-20T12:54:10.986Z"
   },
   {
    "duration": 22,
    "start_time": "2022-11-20T12:54:50.259Z"
   },
   {
    "duration": 23,
    "start_time": "2022-11-20T12:55:51.795Z"
   },
   {
    "duration": 14,
    "start_time": "2022-11-20T12:56:02.479Z"
   },
   {
    "duration": 22,
    "start_time": "2022-11-20T12:56:26.535Z"
   },
   {
    "duration": 18,
    "start_time": "2022-11-20T13:01:19.518Z"
   },
   {
    "duration": 24,
    "start_time": "2022-11-20T13:03:24.231Z"
   },
   {
    "duration": 2,
    "start_time": "2022-11-20T13:03:39.479Z"
   },
   {
    "duration": 57,
    "start_time": "2022-11-20T13:03:39.484Z"
   },
   {
    "duration": 770,
    "start_time": "2022-11-20T13:03:39.542Z"
   },
   {
    "duration": 15,
    "start_time": "2022-11-20T13:03:40.314Z"
   },
   {
    "duration": 25,
    "start_time": "2022-11-20T13:03:40.331Z"
   },
   {
    "duration": 15,
    "start_time": "2022-11-20T13:03:40.358Z"
   },
   {
    "duration": 9,
    "start_time": "2022-11-20T13:03:40.375Z"
   },
   {
    "duration": 5,
    "start_time": "2022-11-20T13:03:40.386Z"
   },
   {
    "duration": 5,
    "start_time": "2022-11-20T13:03:40.393Z"
   },
   {
    "duration": 11,
    "start_time": "2022-11-20T13:03:40.399Z"
   },
   {
    "duration": 5,
    "start_time": "2022-11-20T13:03:40.412Z"
   },
   {
    "duration": 44,
    "start_time": "2022-11-20T13:03:40.418Z"
   },
   {
    "duration": 6,
    "start_time": "2022-11-20T13:03:40.463Z"
   },
   {
    "duration": 12,
    "start_time": "2022-11-20T13:03:40.471Z"
   },
   {
    "duration": 5,
    "start_time": "2022-11-20T13:03:40.485Z"
   },
   {
    "duration": 14,
    "start_time": "2022-11-20T13:03:40.491Z"
   },
   {
    "duration": 681,
    "start_time": "2022-11-20T13:03:40.507Z"
   },
   {
    "duration": 302,
    "start_time": "2022-11-20T13:03:41.190Z"
   },
   {
    "duration": 8,
    "start_time": "2022-11-20T13:03:41.495Z"
   },
   {
    "duration": 10,
    "start_time": "2022-11-20T13:03:41.505Z"
   },
   {
    "duration": 9,
    "start_time": "2022-11-20T13:03:41.517Z"
   },
   {
    "duration": 204,
    "start_time": "2022-11-20T13:03:41.527Z"
   },
   {
    "duration": 27,
    "start_time": "2022-11-20T13:03:56.978Z"
   },
   {
    "duration": 3,
    "start_time": "2022-11-20T13:05:51.040Z"
   },
   {
    "duration": 53,
    "start_time": "2022-11-20T13:05:51.045Z"
   },
   {
    "duration": 731,
    "start_time": "2022-11-20T13:05:51.100Z"
   },
   {
    "duration": 20,
    "start_time": "2022-11-20T13:05:51.833Z"
   },
   {
    "duration": 12,
    "start_time": "2022-11-20T13:05:51.855Z"
   },
   {
    "duration": 15,
    "start_time": "2022-11-20T13:05:51.868Z"
   },
   {
    "duration": 10,
    "start_time": "2022-11-20T13:05:51.884Z"
   },
   {
    "duration": 15,
    "start_time": "2022-11-20T13:05:51.896Z"
   },
   {
    "duration": 7,
    "start_time": "2022-11-20T13:05:51.913Z"
   },
   {
    "duration": 10,
    "start_time": "2022-11-20T13:05:51.922Z"
   },
   {
    "duration": 19,
    "start_time": "2022-11-20T13:05:51.934Z"
   },
   {
    "duration": 18,
    "start_time": "2022-11-20T13:05:51.954Z"
   },
   {
    "duration": 5,
    "start_time": "2022-11-20T13:05:51.973Z"
   },
   {
    "duration": 8,
    "start_time": "2022-11-20T13:05:51.981Z"
   },
   {
    "duration": 5,
    "start_time": "2022-11-20T13:05:51.991Z"
   },
   {
    "duration": 16,
    "start_time": "2022-11-20T13:05:51.998Z"
   },
   {
    "duration": 709,
    "start_time": "2022-11-20T13:05:52.015Z"
   },
   {
    "duration": 291,
    "start_time": "2022-11-20T13:05:52.725Z"
   },
   {
    "duration": 7,
    "start_time": "2022-11-20T13:05:53.017Z"
   },
   {
    "duration": 7,
    "start_time": "2022-11-20T13:05:53.026Z"
   },
   {
    "duration": 18,
    "start_time": "2022-11-20T13:05:53.035Z"
   },
   {
    "duration": 176,
    "start_time": "2022-11-20T13:05:53.054Z"
   },
   {
    "duration": 25,
    "start_time": "2022-11-20T13:05:59.122Z"
   },
   {
    "duration": 828,
    "start_time": "2022-11-20T13:06:58.726Z"
   },
   {
    "duration": 21,
    "start_time": "2022-11-20T13:07:54.403Z"
   },
   {
    "duration": 967,
    "start_time": "2022-11-20T13:08:02.983Z"
   },
   {
    "duration": 809,
    "start_time": "2022-11-20T13:09:33.867Z"
   },
   {
    "duration": 1122,
    "start_time": "2022-11-20T13:10:03.839Z"
   },
   {
    "duration": 20,
    "start_time": "2022-11-20T13:10:36.785Z"
   },
   {
    "duration": 33,
    "start_time": "2022-11-20T13:10:43.960Z"
   },
   {
    "duration": 92,
    "start_time": "2022-11-20T13:11:28.998Z"
   },
   {
    "duration": 18,
    "start_time": "2022-11-20T13:11:56.448Z"
   },
   {
    "duration": 81,
    "start_time": "2022-11-20T13:12:22.898Z"
   },
   {
    "duration": 24,
    "start_time": "2022-11-20T13:12:32.029Z"
   },
   {
    "duration": 1864,
    "start_time": "2022-11-20T13:12:44.048Z"
   },
   {
    "duration": 27,
    "start_time": "2022-11-20T13:13:43.032Z"
   },
   {
    "duration": 25,
    "start_time": "2022-11-20T13:14:01.002Z"
   },
   {
    "duration": 787,
    "start_time": "2022-11-20T13:15:23.842Z"
   },
   {
    "duration": 38,
    "start_time": "2022-11-20T13:16:01.058Z"
   },
   {
    "duration": 1249,
    "start_time": "2022-11-20T13:17:11.289Z"
   },
   {
    "duration": 1195,
    "start_time": "2022-11-20T13:17:32.177Z"
   },
   {
    "duration": 182,
    "start_time": "2022-11-20T13:17:53.213Z"
   },
   {
    "duration": 24,
    "start_time": "2022-11-20T13:20:11.700Z"
   },
   {
    "duration": 23,
    "start_time": "2022-11-20T13:20:43.175Z"
   },
   {
    "duration": 929,
    "start_time": "2022-11-20T13:21:55.806Z"
   },
   {
    "duration": 805,
    "start_time": "2022-11-20T13:22:34.312Z"
   },
   {
    "duration": 204,
    "start_time": "2022-11-20T13:25:55.500Z"
   },
   {
    "duration": 197,
    "start_time": "2022-11-20T13:26:08.444Z"
   },
   {
    "duration": 216,
    "start_time": "2022-11-20T13:26:36.331Z"
   },
   {
    "duration": 176,
    "start_time": "2022-11-20T13:27:41.341Z"
   },
   {
    "duration": 190,
    "start_time": "2022-11-20T13:28:31.102Z"
   },
   {
    "duration": 205,
    "start_time": "2022-11-20T13:28:54.047Z"
   },
   {
    "duration": 186,
    "start_time": "2022-11-20T13:29:15.052Z"
   },
   {
    "duration": 219,
    "start_time": "2022-11-20T13:30:04.576Z"
   },
   {
    "duration": 85,
    "start_time": "2022-11-20T13:31:02.331Z"
   },
   {
    "duration": 168,
    "start_time": "2022-11-20T13:31:16.719Z"
   },
   {
    "duration": 184,
    "start_time": "2022-11-20T13:32:15.045Z"
   },
   {
    "duration": 158,
    "start_time": "2022-11-20T13:32:55.086Z"
   },
   {
    "duration": 23,
    "start_time": "2022-11-20T15:25:19.782Z"
   },
   {
    "duration": 109,
    "start_time": "2022-11-20T15:26:27.105Z"
   },
   {
    "duration": 58,
    "start_time": "2022-11-20T15:26:47.344Z"
   },
   {
    "duration": 59,
    "start_time": "2022-11-20T15:30:26.931Z"
   },
   {
    "duration": 400,
    "start_time": "2022-11-20T15:32:24.324Z"
   },
   {
    "duration": 387,
    "start_time": "2022-11-20T15:33:53.410Z"
   },
   {
    "duration": 43,
    "start_time": "2022-11-20T15:34:31.707Z"
   },
   {
    "duration": 310,
    "start_time": "2022-11-20T15:37:35.157Z"
   },
   {
    "duration": 19,
    "start_time": "2022-11-20T15:38:00.228Z"
   },
   {
    "duration": 3,
    "start_time": "2022-11-20T15:38:21.845Z"
   },
   {
    "duration": 50,
    "start_time": "2022-11-20T15:38:21.850Z"
   },
   {
    "duration": 749,
    "start_time": "2022-11-20T15:38:21.903Z"
   },
   {
    "duration": 14,
    "start_time": "2022-11-20T15:38:22.654Z"
   },
   {
    "duration": 13,
    "start_time": "2022-11-20T15:38:22.670Z"
   },
   {
    "duration": 16,
    "start_time": "2022-11-20T15:38:22.685Z"
   },
   {
    "duration": 8,
    "start_time": "2022-11-20T15:38:22.702Z"
   },
   {
    "duration": 6,
    "start_time": "2022-11-20T15:38:22.712Z"
   },
   {
    "duration": 33,
    "start_time": "2022-11-20T15:38:22.720Z"
   },
   {
    "duration": 9,
    "start_time": "2022-11-20T15:38:22.755Z"
   },
   {
    "duration": 6,
    "start_time": "2022-11-20T15:38:22.767Z"
   },
   {
    "duration": 22,
    "start_time": "2022-11-20T15:38:22.775Z"
   },
   {
    "duration": 6,
    "start_time": "2022-11-20T15:38:22.799Z"
   },
   {
    "duration": 7,
    "start_time": "2022-11-20T15:38:22.807Z"
   },
   {
    "duration": 5,
    "start_time": "2022-11-20T15:38:22.816Z"
   },
   {
    "duration": 19,
    "start_time": "2022-11-20T15:38:22.851Z"
   },
   {
    "duration": 666,
    "start_time": "2022-11-20T15:38:22.871Z"
   },
   {
    "duration": 297,
    "start_time": "2022-11-20T15:38:23.539Z"
   },
   {
    "duration": 7,
    "start_time": "2022-11-20T15:38:23.838Z"
   },
   {
    "duration": 5,
    "start_time": "2022-11-20T15:38:23.852Z"
   },
   {
    "duration": 14,
    "start_time": "2022-11-20T15:38:23.858Z"
   },
   {
    "duration": 179,
    "start_time": "2022-11-20T15:38:23.874Z"
   },
   {
    "duration": 192,
    "start_time": "2022-11-20T15:38:24.055Z"
   },
   {
    "duration": 179,
    "start_time": "2022-11-20T15:38:24.252Z"
   },
   {
    "duration": 188,
    "start_time": "2022-11-20T15:38:24.432Z"
   },
   {
    "duration": 172,
    "start_time": "2022-11-20T15:38:24.621Z"
   },
   {
    "duration": 47,
    "start_time": "2022-11-20T15:38:24.795Z"
   },
   {
    "duration": 37,
    "start_time": "2022-11-20T15:41:08.588Z"
   },
   {
    "duration": 263,
    "start_time": "2022-11-20T15:41:57.240Z"
   },
   {
    "duration": 38,
    "start_time": "2022-11-20T15:42:41.669Z"
   },
   {
    "duration": 41,
    "start_time": "2022-11-20T15:43:12.044Z"
   },
   {
    "duration": 1133,
    "start_time": "2022-11-20T15:48:40.188Z"
   },
   {
    "duration": 1262,
    "start_time": "2022-11-20T15:48:52.316Z"
   },
   {
    "duration": 38,
    "start_time": "2022-11-20T15:51:20.518Z"
   },
   {
    "duration": 1164,
    "start_time": "2022-11-20T15:52:08.421Z"
   },
   {
    "duration": 37,
    "start_time": "2022-11-20T15:52:54.706Z"
   },
   {
    "duration": 243,
    "start_time": "2022-11-20T15:53:54.435Z"
   },
   {
    "duration": 36,
    "start_time": "2022-11-20T15:54:43.324Z"
   },
   {
    "duration": 269,
    "start_time": "2022-11-20T15:56:50.848Z"
   },
   {
    "duration": 317,
    "start_time": "2022-11-20T15:59:03.815Z"
   },
   {
    "duration": 301,
    "start_time": "2022-11-20T15:59:50.036Z"
   },
   {
    "duration": 36,
    "start_time": "2022-11-20T16:00:45.201Z"
   },
   {
    "duration": 28,
    "start_time": "2022-11-20T16:01:25.240Z"
   },
   {
    "duration": 34,
    "start_time": "2022-11-20T16:01:40.401Z"
   },
   {
    "duration": 26,
    "start_time": "2022-11-20T16:02:26.790Z"
   },
   {
    "duration": 35,
    "start_time": "2022-11-20T16:02:40.710Z"
   },
   {
    "duration": 34,
    "start_time": "2022-11-20T16:03:51.631Z"
   },
   {
    "duration": 36,
    "start_time": "2022-11-20T16:08:40.407Z"
   },
   {
    "duration": 3,
    "start_time": "2022-11-20T16:09:00.037Z"
   },
   {
    "duration": 60,
    "start_time": "2022-11-20T16:09:00.042Z"
   },
   {
    "duration": 739,
    "start_time": "2022-11-20T16:09:00.104Z"
   },
   {
    "duration": 17,
    "start_time": "2022-11-20T16:09:00.844Z"
   },
   {
    "duration": 31,
    "start_time": "2022-11-20T16:09:00.862Z"
   },
   {
    "duration": 41,
    "start_time": "2022-11-20T16:09:00.894Z"
   },
   {
    "duration": 47,
    "start_time": "2022-11-20T16:09:00.936Z"
   },
   {
    "duration": 59,
    "start_time": "2022-11-20T16:09:00.985Z"
   },
   {
    "duration": 52,
    "start_time": "2022-11-20T16:09:01.045Z"
   },
   {
    "duration": 21,
    "start_time": "2022-11-20T16:09:01.099Z"
   },
   {
    "duration": 26,
    "start_time": "2022-11-20T16:09:01.122Z"
   },
   {
    "duration": 41,
    "start_time": "2022-11-20T16:09:01.149Z"
   },
   {
    "duration": 27,
    "start_time": "2022-11-20T16:09:01.192Z"
   },
   {
    "duration": 25,
    "start_time": "2022-11-20T16:09:01.222Z"
   },
   {
    "duration": 23,
    "start_time": "2022-11-20T16:09:01.249Z"
   },
   {
    "duration": 29,
    "start_time": "2022-11-20T16:09:01.274Z"
   },
   {
    "duration": 736,
    "start_time": "2022-11-20T16:09:01.304Z"
   },
   {
    "duration": 311,
    "start_time": "2022-11-20T16:09:02.041Z"
   },
   {
    "duration": 7,
    "start_time": "2022-11-20T16:09:02.354Z"
   },
   {
    "duration": 40,
    "start_time": "2022-11-20T16:09:02.363Z"
   },
   {
    "duration": 43,
    "start_time": "2022-11-20T16:09:02.405Z"
   },
   {
    "duration": 238,
    "start_time": "2022-11-20T16:09:02.449Z"
   },
   {
    "duration": 201,
    "start_time": "2022-11-20T16:09:02.688Z"
   },
   {
    "duration": 195,
    "start_time": "2022-11-20T16:09:02.891Z"
   },
   {
    "duration": 197,
    "start_time": "2022-11-20T16:09:03.088Z"
   },
   {
    "duration": 183,
    "start_time": "2022-11-20T16:09:03.287Z"
   },
   {
    "duration": 34,
    "start_time": "2022-11-20T16:09:03.472Z"
   },
   {
    "duration": 40,
    "start_time": "2022-11-20T16:10:39.496Z"
   },
   {
    "duration": 40,
    "start_time": "2022-11-20T16:11:34.879Z"
   },
   {
    "duration": 40,
    "start_time": "2022-11-20T16:12:26.425Z"
   },
   {
    "duration": 36,
    "start_time": "2022-11-20T16:13:15.692Z"
   },
   {
    "duration": 1133,
    "start_time": "2022-11-20T16:17:45.664Z"
   },
   {
    "duration": 36,
    "start_time": "2022-11-20T16:18:01.231Z"
   },
   {
    "duration": 30,
    "start_time": "2022-11-20T16:22:28.772Z"
   },
   {
    "duration": 34,
    "start_time": "2022-11-20T16:32:25.584Z"
   },
   {
    "duration": 22,
    "start_time": "2022-11-20T16:33:11.094Z"
   },
   {
    "duration": 35,
    "start_time": "2022-11-20T16:33:21.782Z"
   },
   {
    "duration": 32,
    "start_time": "2022-11-20T16:35:39.344Z"
   },
   {
    "duration": 46,
    "start_time": "2022-11-20T16:37:56.400Z"
   },
   {
    "duration": 593,
    "start_time": "2022-11-20T16:38:15.306Z"
   },
   {
    "duration": 32,
    "start_time": "2022-11-20T16:38:53.431Z"
   },
   {
    "duration": 41,
    "start_time": "2022-11-20T16:43:32.699Z"
   },
   {
    "duration": 285,
    "start_time": "2022-11-20T16:44:00.626Z"
   },
   {
    "duration": 341,
    "start_time": "2022-11-20T16:46:23.789Z"
   },
   {
    "duration": 21,
    "start_time": "2022-11-20T16:47:52.290Z"
   },
   {
    "duration": 32,
    "start_time": "2022-11-20T16:48:02.262Z"
   },
   {
    "duration": 314,
    "start_time": "2022-11-20T16:56:10.268Z"
   },
   {
    "duration": 35,
    "start_time": "2022-11-20T16:56:48.961Z"
   },
   {
    "duration": 40,
    "start_time": "2022-11-20T16:59:19.148Z"
   },
   {
    "duration": 305,
    "start_time": "2022-11-20T16:59:33.975Z"
   },
   {
    "duration": 266,
    "start_time": "2022-11-20T17:00:11.367Z"
   },
   {
    "duration": 237,
    "start_time": "2022-11-20T17:00:46.017Z"
   },
   {
    "duration": 103,
    "start_time": "2022-11-20T17:17:00.625Z"
   },
   {
    "duration": 162,
    "start_time": "2022-11-20T17:17:49.786Z"
   },
   {
    "duration": 140,
    "start_time": "2022-11-20T17:20:28.331Z"
   },
   {
    "duration": 217,
    "start_time": "2022-11-20T17:21:34.097Z"
   },
   {
    "duration": 1256,
    "start_time": "2022-11-21T11:47:05.102Z"
   },
   {
    "duration": 186,
    "start_time": "2022-11-21T11:47:06.360Z"
   },
   {
    "duration": 805,
    "start_time": "2022-11-21T11:47:06.547Z"
   },
   {
    "duration": 16,
    "start_time": "2022-11-21T11:47:07.353Z"
   },
   {
    "duration": 16,
    "start_time": "2022-11-21T11:47:07.371Z"
   },
   {
    "duration": 20,
    "start_time": "2022-11-21T11:47:07.389Z"
   },
   {
    "duration": 6,
    "start_time": "2022-11-21T11:47:07.411Z"
   },
   {
    "duration": 10,
    "start_time": "2022-11-21T11:47:07.418Z"
   },
   {
    "duration": 24,
    "start_time": "2022-11-21T11:47:07.429Z"
   },
   {
    "duration": 10,
    "start_time": "2022-11-21T11:47:07.455Z"
   },
   {
    "duration": 6,
    "start_time": "2022-11-21T11:47:07.467Z"
   },
   {
    "duration": 28,
    "start_time": "2022-11-21T11:47:07.475Z"
   },
   {
    "duration": 6,
    "start_time": "2022-11-21T11:47:07.505Z"
   },
   {
    "duration": 10,
    "start_time": "2022-11-21T11:47:07.515Z"
   },
   {
    "duration": 28,
    "start_time": "2022-11-21T11:47:07.527Z"
   },
   {
    "duration": 28,
    "start_time": "2022-11-21T11:47:07.556Z"
   },
   {
    "duration": 690,
    "start_time": "2022-11-21T11:47:07.587Z"
   },
   {
    "duration": 299,
    "start_time": "2022-11-21T11:47:08.280Z"
   },
   {
    "duration": 9,
    "start_time": "2022-11-21T11:47:08.581Z"
   },
   {
    "duration": 6,
    "start_time": "2022-11-21T11:47:08.592Z"
   },
   {
    "duration": 9,
    "start_time": "2022-11-21T11:47:08.601Z"
   },
   {
    "duration": 285,
    "start_time": "2022-11-21T11:47:08.612Z"
   },
   {
    "duration": 193,
    "start_time": "2022-11-21T11:47:08.899Z"
   },
   {
    "duration": 189,
    "start_time": "2022-11-21T11:47:09.095Z"
   },
   {
    "duration": 178,
    "start_time": "2022-11-21T11:47:09.286Z"
   },
   {
    "duration": 172,
    "start_time": "2022-11-21T11:47:09.466Z"
   },
   {
    "duration": 37,
    "start_time": "2022-11-21T11:47:09.640Z"
   },
   {
    "duration": 254,
    "start_time": "2022-11-21T11:47:09.679Z"
   },
   {
    "duration": 209,
    "start_time": "2022-11-21T11:47:09.935Z"
   },
   {
    "duration": 151,
    "start_time": "2022-11-21T12:08:59.381Z"
   },
   {
    "duration": 183,
    "start_time": "2022-11-21T12:11:40.536Z"
   },
   {
    "duration": 258,
    "start_time": "2022-11-21T12:11:55.666Z"
   },
   {
    "duration": 178,
    "start_time": "2022-11-21T12:12:49.385Z"
   },
   {
    "duration": 178,
    "start_time": "2022-11-21T12:13:06.732Z"
   },
   {
    "duration": 14,
    "start_time": "2022-11-21T12:14:46.251Z"
   },
   {
    "duration": 168,
    "start_time": "2022-11-21T12:16:50.661Z"
   },
   {
    "duration": 5,
    "start_time": "2022-11-21T12:17:56.457Z"
   },
   {
    "duration": 205,
    "start_time": "2022-11-21T12:30:37.984Z"
   },
   {
    "duration": 182,
    "start_time": "2022-11-21T12:31:57.299Z"
   },
   {
    "duration": 104,
    "start_time": "2022-11-21T12:32:31.063Z"
   },
   {
    "duration": 10,
    "start_time": "2022-11-21T12:32:55.504Z"
   },
   {
    "duration": 187,
    "start_time": "2022-11-21T12:33:24.871Z"
   },
   {
    "duration": 196,
    "start_time": "2022-11-21T12:34:12.779Z"
   },
   {
    "duration": 203,
    "start_time": "2022-11-21T12:35:26.725Z"
   },
   {
    "duration": 12,
    "start_time": "2022-11-21T12:39:49.549Z"
   },
   {
    "duration": 185,
    "start_time": "2022-11-21T12:40:10.295Z"
   },
   {
    "duration": 10,
    "start_time": "2022-11-21T12:41:07.327Z"
   },
   {
    "duration": 11,
    "start_time": "2022-11-21T12:43:13.616Z"
   },
   {
    "duration": 14,
    "start_time": "2022-11-21T12:43:26.024Z"
   },
   {
    "duration": 178,
    "start_time": "2022-11-21T12:43:50.293Z"
   },
   {
    "duration": 259,
    "start_time": "2022-11-21T12:44:05.165Z"
   },
   {
    "duration": 170,
    "start_time": "2022-11-21T12:44:31.823Z"
   },
   {
    "duration": 8,
    "start_time": "2022-11-21T12:48:10.787Z"
   },
   {
    "duration": 7,
    "start_time": "2022-11-21T12:48:49.010Z"
   },
   {
    "duration": 6,
    "start_time": "2022-11-21T12:49:13.338Z"
   },
   {
    "duration": 11,
    "start_time": "2022-11-21T12:50:06.841Z"
   },
   {
    "duration": 8,
    "start_time": "2022-11-21T12:50:29.541Z"
   },
   {
    "duration": 9,
    "start_time": "2022-11-21T12:50:52.502Z"
   },
   {
    "duration": 8,
    "start_time": "2022-11-21T12:51:16.528Z"
   },
   {
    "duration": 179,
    "start_time": "2022-11-21T12:51:29.381Z"
   },
   {
    "duration": 184,
    "start_time": "2022-11-21T12:52:21.039Z"
   },
   {
    "duration": 14,
    "start_time": "2022-11-21T13:10:25.787Z"
   },
   {
    "duration": 8,
    "start_time": "2022-11-21T13:35:29.233Z"
   },
   {
    "duration": 14,
    "start_time": "2022-11-21T13:38:35.963Z"
   },
   {
    "duration": 13,
    "start_time": "2022-11-21T13:39:13.830Z"
   },
   {
    "duration": 12,
    "start_time": "2022-11-21T13:39:28.310Z"
   },
   {
    "duration": 12,
    "start_time": "2022-11-21T13:40:50.647Z"
   },
   {
    "duration": 12,
    "start_time": "2022-11-21T13:43:53.532Z"
   },
   {
    "duration": 10,
    "start_time": "2022-11-21T13:47:27.285Z"
   },
   {
    "duration": 14,
    "start_time": "2022-11-21T13:47:55.757Z"
   },
   {
    "duration": 7,
    "start_time": "2022-11-21T13:48:09.873Z"
   },
   {
    "duration": 74,
    "start_time": "2022-11-21T13:49:08.867Z"
   },
   {
    "duration": 8,
    "start_time": "2022-11-21T13:49:15.969Z"
   },
   {
    "duration": 251,
    "start_time": "2022-11-21T13:52:34.826Z"
   },
   {
    "duration": 139,
    "start_time": "2022-11-21T13:58:45.731Z"
   },
   {
    "duration": 56838,
    "start_time": "2022-11-21T14:00:09.624Z"
   },
   {
    "duration": 148,
    "start_time": "2022-11-21T14:04:01.687Z"
   },
   {
    "duration": 150,
    "start_time": "2022-11-21T14:04:32.789Z"
   },
   {
    "duration": 147,
    "start_time": "2022-11-21T14:06:33.838Z"
   },
   {
    "duration": 165,
    "start_time": "2022-11-21T14:08:29.782Z"
   },
   {
    "duration": 10,
    "start_time": "2022-11-21T14:09:53.619Z"
   },
   {
    "duration": 8,
    "start_time": "2022-11-21T14:10:52.943Z"
   },
   {
    "duration": 26,
    "start_time": "2022-11-21T14:19:06.531Z"
   },
   {
    "duration": 22,
    "start_time": "2022-11-21T14:19:43.743Z"
   },
   {
    "duration": 19,
    "start_time": "2022-11-21T14:20:03.432Z"
   },
   {
    "duration": 27,
    "start_time": "2022-11-21T14:20:57.168Z"
   },
   {
    "duration": 29,
    "start_time": "2022-11-21T14:22:04.889Z"
   },
   {
    "duration": 22,
    "start_time": "2022-11-21T14:23:41.686Z"
   },
   {
    "duration": 26,
    "start_time": "2022-11-21T14:24:14.176Z"
   },
   {
    "duration": 3,
    "start_time": "2022-11-21T14:24:25.875Z"
   },
   {
    "duration": 58,
    "start_time": "2022-11-21T14:24:25.880Z"
   },
   {
    "duration": 860,
    "start_time": "2022-11-21T14:24:25.940Z"
   },
   {
    "duration": 16,
    "start_time": "2022-11-21T14:24:26.801Z"
   },
   {
    "duration": 17,
    "start_time": "2022-11-21T14:24:26.820Z"
   },
   {
    "duration": 31,
    "start_time": "2022-11-21T14:24:26.853Z"
   },
   {
    "duration": 22,
    "start_time": "2022-11-21T14:24:26.892Z"
   },
   {
    "duration": 17,
    "start_time": "2022-11-21T14:24:26.916Z"
   },
   {
    "duration": 20,
    "start_time": "2022-11-21T14:24:26.935Z"
   },
   {
    "duration": 37,
    "start_time": "2022-11-21T14:24:26.958Z"
   },
   {
    "duration": 16,
    "start_time": "2022-11-21T14:24:26.998Z"
   },
   {
    "duration": 22,
    "start_time": "2022-11-21T14:24:27.016Z"
   },
   {
    "duration": 7,
    "start_time": "2022-11-21T14:24:27.040Z"
   },
   {
    "duration": 10,
    "start_time": "2022-11-21T14:24:27.049Z"
   },
   {
    "duration": 36,
    "start_time": "2022-11-21T14:24:27.060Z"
   },
   {
    "duration": 40,
    "start_time": "2022-11-21T14:24:27.098Z"
   },
   {
    "duration": 700,
    "start_time": "2022-11-21T14:24:27.140Z"
   },
   {
    "duration": 387,
    "start_time": "2022-11-21T14:24:27.842Z"
   },
   {
    "duration": 10,
    "start_time": "2022-11-21T14:24:28.231Z"
   },
   {
    "duration": 36,
    "start_time": "2022-11-21T14:24:28.258Z"
   },
   {
    "duration": 14,
    "start_time": "2022-11-21T14:24:28.296Z"
   },
   {
    "duration": 247,
    "start_time": "2022-11-21T14:24:28.312Z"
   },
   {
    "duration": 197,
    "start_time": "2022-11-21T14:24:28.563Z"
   },
   {
    "duration": 207,
    "start_time": "2022-11-21T14:24:28.762Z"
   },
   {
    "duration": 213,
    "start_time": "2022-11-21T14:24:28.973Z"
   },
   {
    "duration": 186,
    "start_time": "2022-11-21T14:24:29.187Z"
   },
   {
    "duration": 34,
    "start_time": "2022-11-21T14:24:29.375Z"
   },
   {
    "duration": 324,
    "start_time": "2022-11-21T14:24:29.411Z"
   },
   {
    "duration": 305,
    "start_time": "2022-11-21T14:24:29.739Z"
   },
   {
    "duration": 205,
    "start_time": "2022-11-21T14:24:30.045Z"
   },
   {
    "duration": 6,
    "start_time": "2022-11-21T14:24:30.255Z"
   },
   {
    "duration": 258,
    "start_time": "2022-11-21T14:24:30.263Z"
   },
   {
    "duration": 8,
    "start_time": "2022-11-21T14:24:30.523Z"
   },
   {
    "duration": 54,
    "start_time": "2022-11-21T14:24:30.533Z"
   },
   {
    "duration": 244,
    "start_time": "2022-11-21T14:24:30.589Z"
   },
   {
    "duration": 19,
    "start_time": "2022-11-21T14:24:30.835Z"
   },
   {
    "duration": 24,
    "start_time": "2022-11-21T14:24:43.215Z"
   },
   {
    "duration": 34,
    "start_time": "2022-11-21T14:24:50.972Z"
   },
   {
    "duration": 25,
    "start_time": "2022-11-21T14:30:34.608Z"
   },
   {
    "duration": 8,
    "start_time": "2022-11-21T14:35:59.002Z"
   },
   {
    "duration": 164,
    "start_time": "2022-11-21T14:44:51.814Z"
   },
   {
    "duration": 23,
    "start_time": "2022-11-21T14:51:33.519Z"
   },
   {
    "duration": 9,
    "start_time": "2022-11-21T14:55:06.928Z"
   },
   {
    "duration": 141,
    "start_time": "2022-11-21T15:00:58.468Z"
   },
   {
    "duration": 21,
    "start_time": "2022-11-21T15:05:39.704Z"
   },
   {
    "duration": 7,
    "start_time": "2022-11-21T15:08:08.918Z"
   },
   {
    "duration": 142,
    "start_time": "2022-11-21T15:11:20.193Z"
   },
   {
    "duration": 1402,
    "start_time": "2022-11-22T12:33:53.312Z"
   },
   {
    "duration": 205,
    "start_time": "2022-11-22T12:33:54.717Z"
   },
   {
    "duration": 976,
    "start_time": "2022-11-22T12:33:54.924Z"
   },
   {
    "duration": 17,
    "start_time": "2022-11-22T12:33:55.903Z"
   },
   {
    "duration": 15,
    "start_time": "2022-11-22T12:33:55.923Z"
   },
   {
    "duration": 39,
    "start_time": "2022-11-22T12:33:55.940Z"
   },
   {
    "duration": 8,
    "start_time": "2022-11-22T12:33:55.981Z"
   },
   {
    "duration": 11,
    "start_time": "2022-11-22T12:33:55.991Z"
   },
   {
    "duration": 9,
    "start_time": "2022-11-22T12:33:56.009Z"
   },
   {
    "duration": 8,
    "start_time": "2022-11-22T12:33:56.021Z"
   },
   {
    "duration": 6,
    "start_time": "2022-11-22T12:33:56.031Z"
   },
   {
    "duration": 48,
    "start_time": "2022-11-22T12:33:56.039Z"
   },
   {
    "duration": 8,
    "start_time": "2022-11-22T12:33:56.089Z"
   },
   {
    "duration": 8,
    "start_time": "2022-11-22T12:33:56.099Z"
   },
   {
    "duration": 5,
    "start_time": "2022-11-22T12:33:56.109Z"
   },
   {
    "duration": 18,
    "start_time": "2022-11-22T12:33:56.116Z"
   },
   {
    "duration": 723,
    "start_time": "2022-11-22T12:33:56.136Z"
   },
   {
    "duration": 303,
    "start_time": "2022-11-22T12:33:56.861Z"
   },
   {
    "duration": 13,
    "start_time": "2022-11-22T12:33:57.166Z"
   },
   {
    "duration": 5,
    "start_time": "2022-11-22T12:33:57.181Z"
   },
   {
    "duration": 16,
    "start_time": "2022-11-22T12:33:57.188Z"
   },
   {
    "duration": 274,
    "start_time": "2022-11-22T12:33:57.206Z"
   },
   {
    "duration": 190,
    "start_time": "2022-11-22T12:33:57.482Z"
   },
   {
    "duration": 173,
    "start_time": "2022-11-22T12:33:57.674Z"
   },
   {
    "duration": 187,
    "start_time": "2022-11-22T12:33:57.849Z"
   },
   {
    "duration": 169,
    "start_time": "2022-11-22T12:33:58.038Z"
   },
   {
    "duration": 34,
    "start_time": "2022-11-22T12:33:58.209Z"
   },
   {
    "duration": 269,
    "start_time": "2022-11-22T12:33:58.245Z"
   },
   {
    "duration": 209,
    "start_time": "2022-11-22T12:33:58.516Z"
   },
   {
    "duration": 187,
    "start_time": "2022-11-22T12:33:58.727Z"
   },
   {
    "duration": 5,
    "start_time": "2022-11-22T12:33:58.915Z"
   },
   {
    "duration": 210,
    "start_time": "2022-11-22T12:33:58.921Z"
   },
   {
    "duration": 5,
    "start_time": "2022-11-22T12:33:59.133Z"
   },
   {
    "duration": 23,
    "start_time": "2022-11-22T12:33:59.140Z"
   },
   {
    "duration": 285,
    "start_time": "2022-11-22T12:33:59.165Z"
   },
   {
    "duration": 29,
    "start_time": "2022-11-22T12:33:59.452Z"
   },
   {
    "duration": 7,
    "start_time": "2022-11-22T12:33:59.482Z"
   },
   {
    "duration": 154,
    "start_time": "2022-11-22T12:33:59.491Z"
   },
   {
    "duration": 32,
    "start_time": "2022-11-22T12:33:59.646Z"
   },
   {
    "duration": 8,
    "start_time": "2022-11-22T12:33:59.680Z"
   },
   {
    "duration": 166,
    "start_time": "2022-11-22T12:33:59.689Z"
   },
   {
    "duration": 33,
    "start_time": "2022-11-22T12:33:59.857Z"
   },
   {
    "duration": 8,
    "start_time": "2022-11-22T12:33:59.892Z"
   },
   {
    "duration": 169,
    "start_time": "2022-11-22T12:33:59.901Z"
   },
   {
    "duration": 12,
    "start_time": "2022-11-22T12:34:34.270Z"
   },
   {
    "duration": 113,
    "start_time": "2022-11-22T12:39:55.406Z"
   },
   {
    "duration": 4,
    "start_time": "2022-11-22T12:40:53.884Z"
   },
   {
    "duration": 11,
    "start_time": "2022-11-22T12:41:19.180Z"
   },
   {
    "duration": 8,
    "start_time": "2022-11-22T13:14:34.427Z"
   },
   {
    "duration": 3,
    "start_time": "2022-11-22T14:11:55.967Z"
   },
   {
    "duration": 49,
    "start_time": "2022-11-22T14:11:55.972Z"
   },
   {
    "duration": 806,
    "start_time": "2022-11-22T14:11:56.023Z"
   },
   {
    "duration": 14,
    "start_time": "2022-11-22T14:11:56.831Z"
   },
   {
    "duration": 10,
    "start_time": "2022-11-22T14:11:56.847Z"
   },
   {
    "duration": 32,
    "start_time": "2022-11-22T14:11:56.859Z"
   },
   {
    "duration": 6,
    "start_time": "2022-11-22T14:11:56.893Z"
   },
   {
    "duration": 6,
    "start_time": "2022-11-22T14:11:56.900Z"
   },
   {
    "duration": 7,
    "start_time": "2022-11-22T14:11:56.908Z"
   },
   {
    "duration": 8,
    "start_time": "2022-11-22T14:11:56.916Z"
   },
   {
    "duration": 7,
    "start_time": "2022-11-22T14:11:56.928Z"
   },
   {
    "duration": 47,
    "start_time": "2022-11-22T14:11:56.937Z"
   },
   {
    "duration": 6,
    "start_time": "2022-11-22T14:11:56.985Z"
   },
   {
    "duration": 6,
    "start_time": "2022-11-22T14:11:56.993Z"
   },
   {
    "duration": 8,
    "start_time": "2022-11-22T14:11:57.000Z"
   },
   {
    "duration": 22,
    "start_time": "2022-11-22T14:11:57.009Z"
   },
   {
    "duration": 661,
    "start_time": "2022-11-22T14:11:57.033Z"
   },
   {
    "duration": 394,
    "start_time": "2022-11-22T14:11:57.696Z"
   },
   {
    "duration": 7,
    "start_time": "2022-11-22T14:11:58.092Z"
   },
   {
    "duration": 13,
    "start_time": "2022-11-22T14:11:58.101Z"
   },
   {
    "duration": 11,
    "start_time": "2022-11-22T14:11:58.116Z"
   },
   {
    "duration": 188,
    "start_time": "2022-11-22T14:11:58.129Z"
   },
   {
    "duration": 184,
    "start_time": "2022-11-22T14:11:58.319Z"
   },
   {
    "duration": 173,
    "start_time": "2022-11-22T14:11:58.504Z"
   },
   {
    "duration": 182,
    "start_time": "2022-11-22T14:11:58.679Z"
   },
   {
    "duration": 176,
    "start_time": "2022-11-22T14:11:58.863Z"
   },
   {
    "duration": 38,
    "start_time": "2022-11-22T14:11:59.041Z"
   },
   {
    "duration": 251,
    "start_time": "2022-11-22T14:11:59.080Z"
   },
   {
    "duration": 215,
    "start_time": "2022-11-22T14:11:59.335Z"
   },
   {
    "duration": 181,
    "start_time": "2022-11-22T14:11:59.552Z"
   },
   {
    "duration": 5,
    "start_time": "2022-11-22T14:11:59.735Z"
   },
   {
    "duration": 276,
    "start_time": "2022-11-22T14:11:59.741Z"
   },
   {
    "duration": 5,
    "start_time": "2022-11-22T14:12:00.019Z"
   },
   {
    "duration": 10,
    "start_time": "2022-11-22T14:12:00.026Z"
   },
   {
    "duration": 210,
    "start_time": "2022-11-22T14:12:00.037Z"
   },
   {
    "duration": 35,
    "start_time": "2022-11-22T14:12:00.249Z"
   },
   {
    "duration": 8,
    "start_time": "2022-11-22T14:12:00.285Z"
   },
   {
    "duration": 168,
    "start_time": "2022-11-22T14:12:00.295Z"
   },
   {
    "duration": 28,
    "start_time": "2022-11-22T14:12:00.465Z"
   },
   {
    "duration": 11,
    "start_time": "2022-11-22T14:12:00.494Z"
   },
   {
    "duration": 166,
    "start_time": "2022-11-22T14:12:00.507Z"
   },
   {
    "duration": 22,
    "start_time": "2022-11-22T14:12:00.675Z"
   },
   {
    "duration": 8,
    "start_time": "2022-11-22T14:12:00.698Z"
   },
   {
    "duration": 177,
    "start_time": "2022-11-22T14:12:00.708Z"
   },
   {
    "duration": 8,
    "start_time": "2022-11-22T14:12:00.887Z"
   },
   {
    "duration": 37,
    "start_time": "2022-11-22T14:12:00.896Z"
   },
   {
    "duration": 1293,
    "start_time": "2022-11-22T14:30:32.297Z"
   },
   {
    "duration": 75,
    "start_time": "2022-11-22T14:30:33.592Z"
   },
   {
    "duration": 909,
    "start_time": "2022-11-22T14:30:33.669Z"
   },
   {
    "duration": 20,
    "start_time": "2022-11-22T14:30:34.580Z"
   },
   {
    "duration": 22,
    "start_time": "2022-11-22T14:30:34.603Z"
   },
   {
    "duration": 41,
    "start_time": "2022-11-22T14:30:34.628Z"
   },
   {
    "duration": 10,
    "start_time": "2022-11-22T14:30:34.671Z"
   },
   {
    "duration": 13,
    "start_time": "2022-11-22T14:30:34.683Z"
   },
   {
    "duration": 17,
    "start_time": "2022-11-22T14:30:34.700Z"
   },
   {
    "duration": 13,
    "start_time": "2022-11-22T14:30:34.720Z"
   },
   {
    "duration": 33,
    "start_time": "2022-11-22T14:30:34.735Z"
   },
   {
    "duration": 27,
    "start_time": "2022-11-22T14:30:34.770Z"
   },
   {
    "duration": 6,
    "start_time": "2022-11-22T14:30:34.799Z"
   },
   {
    "duration": 15,
    "start_time": "2022-11-22T14:30:34.808Z"
   },
   {
    "duration": 7,
    "start_time": "2022-11-22T14:30:34.825Z"
   },
   {
    "duration": 26,
    "start_time": "2022-11-22T14:30:34.833Z"
   },
   {
    "duration": 723,
    "start_time": "2022-11-22T14:30:34.861Z"
   },
   {
    "duration": 327,
    "start_time": "2022-11-22T14:30:35.585Z"
   },
   {
    "duration": 8,
    "start_time": "2022-11-22T14:30:35.913Z"
   },
   {
    "duration": 18,
    "start_time": "2022-11-22T14:30:35.922Z"
   },
   {
    "duration": 18,
    "start_time": "2022-11-22T14:30:35.941Z"
   },
   {
    "duration": 283,
    "start_time": "2022-11-22T14:30:35.961Z"
   },
   {
    "duration": 214,
    "start_time": "2022-11-22T14:30:36.246Z"
   },
   {
    "duration": 206,
    "start_time": "2022-11-22T14:30:36.462Z"
   },
   {
    "duration": 215,
    "start_time": "2022-11-22T14:30:36.669Z"
   },
   {
    "duration": 190,
    "start_time": "2022-11-22T14:30:36.886Z"
   },
   {
    "duration": 36,
    "start_time": "2022-11-22T14:30:37.078Z"
   },
   {
    "duration": 315,
    "start_time": "2022-11-22T14:30:37.115Z"
   },
   {
    "duration": 236,
    "start_time": "2022-11-22T14:30:37.432Z"
   },
   {
    "duration": 203,
    "start_time": "2022-11-22T14:30:37.670Z"
   },
   {
    "duration": 5,
    "start_time": "2022-11-22T14:30:37.875Z"
   },
   {
    "duration": 209,
    "start_time": "2022-11-22T14:30:37.882Z"
   },
   {
    "duration": 6,
    "start_time": "2022-11-22T14:30:38.093Z"
   },
   {
    "duration": 40,
    "start_time": "2022-11-22T14:30:38.101Z"
   },
   {
    "duration": 318,
    "start_time": "2022-11-22T14:30:38.143Z"
   },
   {
    "duration": 23,
    "start_time": "2022-11-22T14:30:38.463Z"
   },
   {
    "duration": 12,
    "start_time": "2022-11-22T14:30:38.488Z"
   },
   {
    "duration": 170,
    "start_time": "2022-11-22T14:30:38.502Z"
   },
   {
    "duration": 22,
    "start_time": "2022-11-22T14:30:38.674Z"
   },
   {
    "duration": 8,
    "start_time": "2022-11-22T14:30:38.698Z"
   },
   {
    "duration": 181,
    "start_time": "2022-11-22T14:30:38.710Z"
   },
   {
    "duration": 23,
    "start_time": "2022-11-22T14:30:38.893Z"
   },
   {
    "duration": 7,
    "start_time": "2022-11-22T14:30:38.918Z"
   },
   {
    "duration": 194,
    "start_time": "2022-11-22T14:30:38.927Z"
   },
   {
    "duration": 8,
    "start_time": "2022-11-22T14:30:39.123Z"
   },
   {
    "duration": 24,
    "start_time": "2022-11-22T14:30:39.133Z"
   },
   {
    "duration": 1447,
    "start_time": "2022-11-23T08:18:06.598Z"
   },
   {
    "duration": 241,
    "start_time": "2022-11-23T08:18:08.047Z"
   },
   {
    "duration": 849,
    "start_time": "2022-11-23T08:18:08.290Z"
   },
   {
    "duration": 14,
    "start_time": "2022-11-23T08:18:09.141Z"
   },
   {
    "duration": 39,
    "start_time": "2022-11-23T08:18:09.157Z"
   },
   {
    "duration": 39,
    "start_time": "2022-11-23T08:18:09.198Z"
   },
   {
    "duration": 11,
    "start_time": "2022-11-23T08:18:09.238Z"
   },
   {
    "duration": 7,
    "start_time": "2022-11-23T08:18:09.250Z"
   },
   {
    "duration": 14,
    "start_time": "2022-11-23T08:18:09.258Z"
   },
   {
    "duration": 14,
    "start_time": "2022-11-23T08:18:09.274Z"
   },
   {
    "duration": 12,
    "start_time": "2022-11-23T08:18:09.290Z"
   },
   {
    "duration": 43,
    "start_time": "2022-11-23T08:18:09.304Z"
   },
   {
    "duration": 10,
    "start_time": "2022-11-23T08:18:09.349Z"
   },
   {
    "duration": 38,
    "start_time": "2022-11-23T08:18:09.362Z"
   },
   {
    "duration": 47,
    "start_time": "2022-11-23T08:18:09.402Z"
   },
   {
    "duration": 17,
    "start_time": "2022-11-23T08:18:09.451Z"
   },
   {
    "duration": 755,
    "start_time": "2022-11-23T08:18:09.470Z"
   },
   {
    "duration": 326,
    "start_time": "2022-11-23T08:18:10.226Z"
   },
   {
    "duration": 8,
    "start_time": "2022-11-23T08:18:10.553Z"
   },
   {
    "duration": 7,
    "start_time": "2022-11-23T08:18:10.562Z"
   },
   {
    "duration": 10,
    "start_time": "2022-11-23T08:18:10.571Z"
   },
   {
    "duration": 293,
    "start_time": "2022-11-23T08:18:10.582Z"
   },
   {
    "duration": 206,
    "start_time": "2022-11-23T08:18:10.877Z"
   },
   {
    "duration": 195,
    "start_time": "2022-11-23T08:18:11.085Z"
   },
   {
    "duration": 199,
    "start_time": "2022-11-23T08:18:11.283Z"
   },
   {
    "duration": 191,
    "start_time": "2022-11-23T08:18:11.483Z"
   },
   {
    "duration": 46,
    "start_time": "2022-11-23T08:18:11.676Z"
   },
   {
    "duration": 314,
    "start_time": "2022-11-23T08:18:11.724Z"
   },
   {
    "duration": 233,
    "start_time": "2022-11-23T08:18:12.039Z"
   },
   {
    "duration": 197,
    "start_time": "2022-11-23T08:18:12.274Z"
   },
   {
    "duration": 5,
    "start_time": "2022-11-23T08:18:12.473Z"
   },
   {
    "duration": 186,
    "start_time": "2022-11-23T08:18:12.480Z"
   },
   {
    "duration": 4,
    "start_time": "2022-11-23T08:18:12.667Z"
   },
   {
    "duration": 16,
    "start_time": "2022-11-23T08:18:12.673Z"
   },
   {
    "duration": 288,
    "start_time": "2022-11-23T08:18:12.690Z"
   },
   {
    "duration": 33,
    "start_time": "2022-11-23T08:18:12.979Z"
   },
   {
    "duration": 8,
    "start_time": "2022-11-23T08:18:13.019Z"
   },
   {
    "duration": 145,
    "start_time": "2022-11-23T08:18:13.029Z"
   },
   {
    "duration": 30,
    "start_time": "2022-11-23T08:18:13.176Z"
   },
   {
    "duration": 11,
    "start_time": "2022-11-23T08:18:13.211Z"
   },
   {
    "duration": 151,
    "start_time": "2022-11-23T08:18:13.226Z"
   },
   {
    "duration": 37,
    "start_time": "2022-11-23T08:18:13.379Z"
   },
   {
    "duration": 8,
    "start_time": "2022-11-23T08:18:13.419Z"
   },
   {
    "duration": 154,
    "start_time": "2022-11-23T08:18:13.428Z"
   },
   {
    "duration": 9,
    "start_time": "2022-11-23T08:18:13.583Z"
   },
   {
    "duration": 16,
    "start_time": "2022-11-23T08:18:13.605Z"
   },
   {
    "duration": 4,
    "start_time": "2022-11-23T08:35:03.781Z"
   },
   {
    "duration": 61,
    "start_time": "2022-11-23T08:35:03.787Z"
   },
   {
    "duration": 760,
    "start_time": "2022-11-23T08:35:03.850Z"
   },
   {
    "duration": 18,
    "start_time": "2022-11-23T08:35:04.614Z"
   },
   {
    "duration": 28,
    "start_time": "2022-11-23T08:35:04.636Z"
   },
   {
    "duration": 55,
    "start_time": "2022-11-23T08:35:04.666Z"
   },
   {
    "duration": 7,
    "start_time": "2022-11-23T08:35:04.723Z"
   },
   {
    "duration": 13,
    "start_time": "2022-11-23T08:35:04.732Z"
   },
   {
    "duration": 18,
    "start_time": "2022-11-23T08:35:04.747Z"
   },
   {
    "duration": 33,
    "start_time": "2022-11-23T08:35:04.767Z"
   },
   {
    "duration": 103,
    "start_time": "2022-11-23T08:35:29.615Z"
   },
   {
    "duration": 26,
    "start_time": "2022-11-23T08:35:34.460Z"
   },
   {
    "duration": 1327,
    "start_time": "2022-11-23T12:50:54.313Z"
   },
   {
    "duration": 193,
    "start_time": "2022-11-23T12:50:55.642Z"
   },
   {
    "duration": 778,
    "start_time": "2022-11-23T12:50:55.837Z"
   },
   {
    "duration": 20,
    "start_time": "2022-11-23T12:50:56.617Z"
   },
   {
    "duration": 11,
    "start_time": "2022-11-23T12:50:56.639Z"
   },
   {
    "duration": 15,
    "start_time": "2022-11-23T12:50:56.652Z"
   },
   {
    "duration": 5,
    "start_time": "2022-11-23T12:50:56.669Z"
   },
   {
    "duration": 6,
    "start_time": "2022-11-23T12:50:56.676Z"
   },
   {
    "duration": 5,
    "start_time": "2022-11-23T12:50:56.683Z"
   },
   {
    "duration": 9,
    "start_time": "2022-11-23T12:50:56.690Z"
   },
   {
    "duration": 37,
    "start_time": "2022-11-23T12:50:56.700Z"
   },
   {
    "duration": 17,
    "start_time": "2022-11-23T12:50:56.739Z"
   },
   {
    "duration": 6,
    "start_time": "2022-11-23T12:50:56.757Z"
   },
   {
    "duration": 7,
    "start_time": "2022-11-23T12:50:56.766Z"
   },
   {
    "duration": 8,
    "start_time": "2022-11-23T12:50:56.774Z"
   },
   {
    "duration": 14,
    "start_time": "2022-11-23T12:50:56.784Z"
   },
   {
    "duration": 718,
    "start_time": "2022-11-23T12:50:56.799Z"
   },
   {
    "duration": 370,
    "start_time": "2022-11-23T12:50:57.518Z"
   },
   {
    "duration": 6,
    "start_time": "2022-11-23T12:50:57.890Z"
   },
   {
    "duration": 8,
    "start_time": "2022-11-23T12:50:57.898Z"
   },
   {
    "duration": 15,
    "start_time": "2022-11-23T12:50:57.907Z"
   },
   {
    "duration": 207,
    "start_time": "2022-11-23T12:50:57.924Z"
   },
   {
    "duration": 186,
    "start_time": "2022-11-23T12:50:58.137Z"
   },
   {
    "duration": 177,
    "start_time": "2022-11-23T12:50:58.325Z"
   },
   {
    "duration": 182,
    "start_time": "2022-11-23T12:50:58.504Z"
   },
   {
    "duration": 184,
    "start_time": "2022-11-23T12:50:58.688Z"
   },
   {
    "duration": 37,
    "start_time": "2022-11-23T12:50:58.873Z"
   },
   {
    "duration": 306,
    "start_time": "2022-11-23T12:50:58.912Z"
   },
   {
    "duration": 202,
    "start_time": "2022-11-23T12:50:59.220Z"
   },
   {
    "duration": 186,
    "start_time": "2022-11-23T12:50:59.424Z"
   },
   {
    "duration": 5,
    "start_time": "2022-11-23T12:50:59.611Z"
   },
   {
    "duration": 265,
    "start_time": "2022-11-23T12:50:59.618Z"
   },
   {
    "duration": 5,
    "start_time": "2022-11-23T12:50:59.885Z"
   },
   {
    "duration": 10,
    "start_time": "2022-11-23T12:50:59.891Z"
   },
   {
    "duration": 206,
    "start_time": "2022-11-23T12:50:59.903Z"
   },
   {
    "duration": 31,
    "start_time": "2022-11-23T12:51:00.110Z"
   },
   {
    "duration": 15,
    "start_time": "2022-11-23T12:51:00.143Z"
   },
   {
    "duration": 154,
    "start_time": "2022-11-23T12:51:00.160Z"
   },
   {
    "duration": 25,
    "start_time": "2022-11-23T12:51:00.316Z"
   },
   {
    "duration": 8,
    "start_time": "2022-11-23T12:51:00.343Z"
   },
   {
    "duration": 167,
    "start_time": "2022-11-23T12:51:00.355Z"
   },
   {
    "duration": 25,
    "start_time": "2022-11-23T12:51:00.524Z"
   },
   {
    "duration": 8,
    "start_time": "2022-11-23T12:51:00.551Z"
   },
   {
    "duration": 168,
    "start_time": "2022-11-23T12:51:00.561Z"
   },
   {
    "duration": 10,
    "start_time": "2022-11-23T12:51:00.731Z"
   },
   {
    "duration": 63,
    "start_time": "2022-11-23T12:51:00.743Z"
   },
   {
    "duration": 11,
    "start_time": "2022-11-23T12:52:42.948Z"
   },
   {
    "duration": 3,
    "start_time": "2022-11-23T12:52:57.718Z"
   },
   {
    "duration": 54,
    "start_time": "2022-11-23T12:52:57.722Z"
   },
   {
    "duration": 753,
    "start_time": "2022-11-23T12:52:57.778Z"
   },
   {
    "duration": 15,
    "start_time": "2022-11-23T12:52:58.537Z"
   },
   {
    "duration": 13,
    "start_time": "2022-11-23T12:52:58.553Z"
   },
   {
    "duration": 16,
    "start_time": "2022-11-23T12:52:58.568Z"
   },
   {
    "duration": 5,
    "start_time": "2022-11-23T12:52:58.585Z"
   },
   {
    "duration": 22,
    "start_time": "2022-11-23T12:53:03.248Z"
   },
   {
    "duration": 6,
    "start_time": "2022-11-23T13:05:27.945Z"
   },
   {
    "duration": 4,
    "start_time": "2022-11-23T13:06:51.894Z"
   },
   {
    "duration": 6,
    "start_time": "2022-11-23T13:22:04.873Z"
   },
   {
    "duration": 5,
    "start_time": "2022-11-23T13:22:38.747Z"
   },
   {
    "duration": 5,
    "start_time": "2022-11-23T13:22:47.205Z"
   },
   {
    "duration": 2,
    "start_time": "2022-11-23T13:23:11.946Z"
   },
   {
    "duration": 52,
    "start_time": "2022-11-23T13:23:11.951Z"
   },
   {
    "duration": 833,
    "start_time": "2022-11-23T13:23:12.004Z"
   },
   {
    "duration": 15,
    "start_time": "2022-11-23T13:23:12.839Z"
   },
   {
    "duration": 13,
    "start_time": "2022-11-23T13:23:12.857Z"
   },
   {
    "duration": 20,
    "start_time": "2022-11-23T13:23:12.872Z"
   },
   {
    "duration": 6,
    "start_time": "2022-11-23T13:23:12.894Z"
   },
   {
    "duration": 38,
    "start_time": "2022-11-23T13:23:12.902Z"
   },
   {
    "duration": 6,
    "start_time": "2022-11-23T13:23:12.942Z"
   },
   {
    "duration": 6,
    "start_time": "2022-11-23T13:23:12.950Z"
   },
   {
    "duration": 7,
    "start_time": "2022-11-23T13:23:12.957Z"
   },
   {
    "duration": 101,
    "start_time": "2022-11-23T13:23:18.177Z"
   },
   {
    "duration": 5,
    "start_time": "2022-11-23T13:24:33.503Z"
   },
   {
    "duration": 5,
    "start_time": "2022-11-23T13:25:13.924Z"
   },
   {
    "duration": 6,
    "start_time": "2022-11-23T13:26:19.549Z"
   },
   {
    "duration": 17,
    "start_time": "2022-11-23T13:26:41.639Z"
   },
   {
    "duration": 5,
    "start_time": "2022-11-23T13:32:07.062Z"
   },
   {
    "duration": 14,
    "start_time": "2022-11-23T13:33:08.756Z"
   },
   {
    "duration": 14,
    "start_time": "2022-11-23T13:39:34.796Z"
   },
   {
    "duration": 21,
    "start_time": "2022-11-23T13:49:01.998Z"
   },
   {
    "duration": 14,
    "start_time": "2022-11-23T13:50:29.012Z"
   },
   {
    "duration": 10,
    "start_time": "2022-11-23T13:50:51.928Z"
   },
   {
    "duration": 19,
    "start_time": "2022-11-23T13:58:21.687Z"
   },
   {
    "duration": 15,
    "start_time": "2022-11-23T14:08:35.918Z"
   },
   {
    "duration": 19,
    "start_time": "2022-11-23T14:09:03.720Z"
   },
   {
    "duration": 23,
    "start_time": "2022-11-23T14:16:09.067Z"
   },
   {
    "duration": 4,
    "start_time": "2022-11-23T14:32:33.246Z"
   },
   {
    "duration": 6,
    "start_time": "2022-11-23T14:36:52.801Z"
   },
   {
    "duration": 4,
    "start_time": "2022-11-23T14:37:03.455Z"
   },
   {
    "duration": 3,
    "start_time": "2022-11-23T14:38:51.346Z"
   },
   {
    "duration": 52,
    "start_time": "2022-11-23T14:38:51.350Z"
   },
   {
    "duration": 747,
    "start_time": "2022-11-23T14:38:51.403Z"
   },
   {
    "duration": 15,
    "start_time": "2022-11-23T14:38:52.152Z"
   },
   {
    "duration": 13,
    "start_time": "2022-11-23T14:38:52.168Z"
   },
   {
    "duration": 16,
    "start_time": "2022-11-23T14:38:52.183Z"
   },
   {
    "duration": 7,
    "start_time": "2022-11-23T14:38:52.200Z"
   },
   {
    "duration": 49,
    "start_time": "2022-11-23T14:38:52.209Z"
   },
   {
    "duration": 6,
    "start_time": "2022-11-23T14:38:52.259Z"
   },
   {
    "duration": 4,
    "start_time": "2022-11-23T14:38:52.267Z"
   },
   {
    "duration": 7,
    "start_time": "2022-11-23T14:38:52.272Z"
   },
   {
    "duration": 6,
    "start_time": "2022-11-23T14:38:52.280Z"
   },
   {
    "duration": 8,
    "start_time": "2022-11-23T14:38:52.288Z"
   },
   {
    "duration": 45,
    "start_time": "2022-11-23T14:38:52.297Z"
   },
   {
    "duration": 3,
    "start_time": "2022-11-23T14:38:52.343Z"
   },
   {
    "duration": 8,
    "start_time": "2022-11-23T14:38:52.347Z"
   },
   {
    "duration": 6,
    "start_time": "2022-11-23T14:38:52.357Z"
   },
   {
    "duration": 15,
    "start_time": "2022-11-23T14:38:52.365Z"
   },
   {
    "duration": 14,
    "start_time": "2022-11-23T14:38:52.381Z"
   },
   {
    "duration": 47,
    "start_time": "2022-11-23T14:38:52.396Z"
   },
   {
    "duration": 23,
    "start_time": "2022-11-23T14:38:52.445Z"
   },
   {
    "duration": 4,
    "start_time": "2022-11-23T14:38:57.029Z"
   },
   {
    "duration": 5,
    "start_time": "2022-11-23T14:39:02.353Z"
   },
   {
    "duration": 4,
    "start_time": "2022-11-23T14:39:04.858Z"
   },
   {
    "duration": 4,
    "start_time": "2022-11-23T14:43:46.098Z"
   },
   {
    "duration": 5,
    "start_time": "2022-11-23T14:44:18.178Z"
   },
   {
    "duration": 14,
    "start_time": "2022-11-23T14:44:44.167Z"
   },
   {
    "duration": 5,
    "start_time": "2022-11-23T14:44:55.795Z"
   },
   {
    "duration": 675,
    "start_time": "2022-11-23T14:50:25.425Z"
   },
   {
    "duration": 305,
    "start_time": "2022-11-23T15:00:26.059Z"
   },
   {
    "duration": 8,
    "start_time": "2022-11-23T15:03:33.459Z"
   },
   {
    "duration": 26,
    "start_time": "2022-11-23T15:03:44.557Z"
   },
   {
    "duration": 27,
    "start_time": "2022-11-23T15:09:56.630Z"
   },
   {
    "duration": 35,
    "start_time": "2022-11-23T15:11:41.816Z"
   },
   {
    "duration": 394,
    "start_time": "2022-11-23T15:12:09.182Z"
   },
   {
    "duration": 8,
    "start_time": "2022-11-23T15:20:26.911Z"
   },
   {
    "duration": 6,
    "start_time": "2022-11-23T15:33:16.375Z"
   },
   {
    "duration": 12,
    "start_time": "2022-11-23T15:35:19.996Z"
   },
   {
    "duration": 137,
    "start_time": "2022-11-23T15:38:10.712Z"
   },
   {
    "duration": 12,
    "start_time": "2022-11-23T15:39:58.275Z"
   },
   {
    "duration": 1148,
    "start_time": "2022-11-23T15:47:37.821Z"
   },
   {
    "duration": 1245,
    "start_time": "2022-11-23T15:47:56.361Z"
   },
   {
    "duration": 3,
    "start_time": "2022-11-23T15:57:11.282Z"
   },
   {
    "duration": 227,
    "start_time": "2022-11-23T15:57:21.628Z"
   },
   {
    "duration": 214,
    "start_time": "2022-11-23T15:57:27.650Z"
   },
   {
    "duration": 205,
    "start_time": "2022-11-23T15:57:33.290Z"
   },
   {
    "duration": 252,
    "start_time": "2022-11-23T15:57:38.920Z"
   },
   {
    "duration": 187,
    "start_time": "2022-11-23T15:57:43.973Z"
   },
   {
    "duration": 33,
    "start_time": "2022-11-23T16:04:54.765Z"
   },
   {
    "duration": 265,
    "start_time": "2022-11-23T16:05:27.962Z"
   },
   {
    "duration": 207,
    "start_time": "2022-11-23T16:05:40.876Z"
   },
   {
    "duration": 168,
    "start_time": "2022-11-23T16:07:56.605Z"
   },
   {
    "duration": 289,
    "start_time": "2022-11-23T16:16:29.638Z"
   },
   {
    "duration": 179,
    "start_time": "2022-11-23T16:16:48.685Z"
   },
   {
    "duration": 189,
    "start_time": "2022-11-23T16:17:42.134Z"
   },
   {
    "duration": 33,
    "start_time": "2022-11-23T16:21:32.995Z"
   },
   {
    "duration": 3,
    "start_time": "2022-11-23T16:23:09.208Z"
   },
   {
    "duration": 55,
    "start_time": "2022-11-23T16:23:09.214Z"
   },
   {
    "duration": 762,
    "start_time": "2022-11-23T16:23:09.271Z"
   },
   {
    "duration": 22,
    "start_time": "2022-11-23T16:23:10.035Z"
   },
   {
    "duration": 16,
    "start_time": "2022-11-23T16:23:10.059Z"
   },
   {
    "duration": 23,
    "start_time": "2022-11-23T16:23:10.077Z"
   },
   {
    "duration": 6,
    "start_time": "2022-11-23T16:23:10.102Z"
   },
   {
    "duration": 26,
    "start_time": "2022-11-23T16:23:10.139Z"
   },
   {
    "duration": 9,
    "start_time": "2022-11-23T16:23:10.167Z"
   },
   {
    "duration": 7,
    "start_time": "2022-11-23T16:23:10.178Z"
   },
   {
    "duration": 11,
    "start_time": "2022-11-23T16:23:10.187Z"
   },
   {
    "duration": 7,
    "start_time": "2022-11-23T16:23:10.201Z"
   },
   {
    "duration": 30,
    "start_time": "2022-11-23T16:23:10.211Z"
   },
   {
    "duration": 19,
    "start_time": "2022-11-23T16:23:10.243Z"
   },
   {
    "duration": 2,
    "start_time": "2022-11-23T16:23:10.264Z"
   },
   {
    "duration": 6,
    "start_time": "2022-11-23T16:23:10.268Z"
   },
   {
    "duration": 5,
    "start_time": "2022-11-23T16:23:10.276Z"
   },
   {
    "duration": 19,
    "start_time": "2022-11-23T16:23:10.283Z"
   },
   {
    "duration": 42,
    "start_time": "2022-11-23T16:23:10.305Z"
   },
   {
    "duration": 20,
    "start_time": "2022-11-23T16:23:10.349Z"
   },
   {
    "duration": 22,
    "start_time": "2022-11-23T16:23:10.371Z"
   },
   {
    "duration": 5,
    "start_time": "2022-11-23T16:23:10.395Z"
   },
   {
    "duration": 35,
    "start_time": "2022-11-23T16:23:10.402Z"
   },
   {
    "duration": 4,
    "start_time": "2022-11-23T16:23:10.439Z"
   },
   {
    "duration": 9,
    "start_time": "2022-11-23T16:23:10.445Z"
   },
   {
    "duration": 8,
    "start_time": "2022-11-23T16:23:10.456Z"
   },
   {
    "duration": 643,
    "start_time": "2022-11-23T16:23:10.465Z"
   },
   {
    "duration": 298,
    "start_time": "2022-11-23T16:23:11.110Z"
   },
   {
    "duration": 28,
    "start_time": "2022-11-23T16:23:11.410Z"
   },
   {
    "duration": 391,
    "start_time": "2022-11-23T16:23:11.440Z"
   },
   {
    "duration": 10,
    "start_time": "2022-11-23T16:23:11.832Z"
   },
   {
    "duration": 8,
    "start_time": "2022-11-23T16:23:11.844Z"
   },
   {
    "duration": 15,
    "start_time": "2022-11-23T16:23:11.855Z"
   },
   {
    "duration": 7,
    "start_time": "2022-11-23T16:23:11.872Z"
   },
   {
    "duration": 220,
    "start_time": "2022-11-23T16:23:11.881Z"
   },
   {
    "duration": 189,
    "start_time": "2022-11-23T16:23:12.102Z"
   },
   {
    "duration": 191,
    "start_time": "2022-11-23T16:23:12.294Z"
   },
   {
    "duration": 183,
    "start_time": "2022-11-23T16:23:12.487Z"
   },
   {
    "duration": 182,
    "start_time": "2022-11-23T16:23:12.671Z"
   },
   {
    "duration": 31,
    "start_time": "2022-11-23T16:23:12.855Z"
   },
   {
    "duration": 281,
    "start_time": "2022-11-23T16:23:12.888Z"
   },
   {
    "duration": 216,
    "start_time": "2022-11-23T16:23:13.171Z"
   },
   {
    "duration": 169,
    "start_time": "2022-11-23T16:23:29.188Z"
   },
   {
    "duration": 6,
    "start_time": "2022-11-23T16:29:38.983Z"
   },
   {
    "duration": 278,
    "start_time": "2022-11-23T16:29:57.239Z"
   },
   {
    "duration": 7,
    "start_time": "2022-11-23T16:34:27.899Z"
   },
   {
    "duration": 162,
    "start_time": "2022-11-23T16:35:12.494Z"
   },
   {
    "duration": 5,
    "start_time": "2022-11-23T16:35:34.291Z"
   },
   {
    "duration": 4,
    "start_time": "2022-11-23T16:36:01.691Z"
   },
   {
    "duration": 177,
    "start_time": "2022-11-23T16:48:24.519Z"
   },
   {
    "duration": 181,
    "start_time": "2022-11-23T16:49:37.808Z"
   },
   {
    "duration": 159,
    "start_time": "2022-11-23T16:55:57.155Z"
   },
   {
    "duration": 186,
    "start_time": "2022-11-23T16:56:46.296Z"
   },
   {
    "duration": 7,
    "start_time": "2022-11-23T17:00:17.553Z"
   },
   {
    "duration": 201,
    "start_time": "2022-11-23T17:02:29.344Z"
   },
   {
    "duration": 8,
    "start_time": "2022-11-23T17:05:14.262Z"
   },
   {
    "duration": 171,
    "start_time": "2022-11-23T17:05:32.963Z"
   },
   {
    "duration": 22,
    "start_time": "2022-11-23T17:14:17.994Z"
   },
   {
    "duration": 9,
    "start_time": "2022-11-23T17:18:25.069Z"
   },
   {
    "duration": 129,
    "start_time": "2022-11-23T17:20:23.082Z"
   },
   {
    "duration": 23,
    "start_time": "2022-11-23T17:26:59.100Z"
   },
   {
    "duration": 24,
    "start_time": "2022-11-23T17:27:30.330Z"
   },
   {
    "duration": 9,
    "start_time": "2022-11-23T17:28:40.840Z"
   },
   {
    "duration": 7,
    "start_time": "2022-11-23T17:32:12.822Z"
   },
   {
    "duration": 129,
    "start_time": "2022-11-23T17:33:02.571Z"
   },
   {
    "duration": 23,
    "start_time": "2022-11-23T17:35:21.378Z"
   },
   {
    "duration": 21,
    "start_time": "2022-11-23T17:38:06.876Z"
   },
   {
    "duration": 7,
    "start_time": "2022-11-23T17:38:34.632Z"
   },
   {
    "duration": 8,
    "start_time": "2022-11-23T17:43:24.292Z"
   },
   {
    "duration": 125,
    "start_time": "2022-11-23T17:43:53.545Z"
   },
   {
    "duration": 8,
    "start_time": "2022-11-23T17:48:49.664Z"
   },
   {
    "duration": 3,
    "start_time": "2022-11-23T17:49:36.174Z"
   },
   {
    "duration": 62,
    "start_time": "2022-11-23T17:49:36.264Z"
   },
   {
    "duration": 828,
    "start_time": "2022-11-23T17:49:36.327Z"
   },
   {
    "duration": 17,
    "start_time": "2022-11-23T17:49:37.156Z"
   },
   {
    "duration": 31,
    "start_time": "2022-11-23T17:49:37.176Z"
   },
   {
    "duration": 28,
    "start_time": "2022-11-23T17:49:37.210Z"
   },
   {
    "duration": 10,
    "start_time": "2022-11-23T17:49:37.240Z"
   },
   {
    "duration": 47,
    "start_time": "2022-11-23T17:49:37.251Z"
   },
   {
    "duration": 6,
    "start_time": "2022-11-23T17:49:37.300Z"
   },
   {
    "duration": 13,
    "start_time": "2022-11-23T17:49:37.307Z"
   },
   {
    "duration": 18,
    "start_time": "2022-11-23T17:49:37.322Z"
   },
   {
    "duration": 21,
    "start_time": "2022-11-23T17:49:37.341Z"
   },
   {
    "duration": 19,
    "start_time": "2022-11-23T17:49:37.364Z"
   },
   {
    "duration": 43,
    "start_time": "2022-11-23T17:49:37.385Z"
   },
   {
    "duration": 3,
    "start_time": "2022-11-23T17:49:37.429Z"
   },
   {
    "duration": 28,
    "start_time": "2022-11-23T17:49:37.434Z"
   },
   {
    "duration": 29,
    "start_time": "2022-11-23T17:49:37.463Z"
   },
   {
    "duration": 23,
    "start_time": "2022-11-23T17:49:37.494Z"
   },
   {
    "duration": 28,
    "start_time": "2022-11-23T17:49:37.518Z"
   },
   {
    "duration": 30,
    "start_time": "2022-11-23T17:49:37.547Z"
   },
   {
    "duration": 24,
    "start_time": "2022-11-23T17:49:37.578Z"
   },
   {
    "duration": 19,
    "start_time": "2022-11-23T17:49:37.604Z"
   },
   {
    "duration": 24,
    "start_time": "2022-11-23T17:49:37.624Z"
   },
   {
    "duration": 13,
    "start_time": "2022-11-23T17:49:37.649Z"
   },
   {
    "duration": 18,
    "start_time": "2022-11-23T17:49:37.663Z"
   },
   {
    "duration": 19,
    "start_time": "2022-11-23T17:49:37.683Z"
   },
   {
    "duration": 727,
    "start_time": "2022-11-23T17:49:37.704Z"
   },
   {
    "duration": 328,
    "start_time": "2022-11-23T17:49:38.433Z"
   },
   {
    "duration": 19,
    "start_time": "2022-11-23T17:49:38.765Z"
   },
   {
    "duration": 376,
    "start_time": "2022-11-23T17:49:38.785Z"
   },
   {
    "duration": 7,
    "start_time": "2022-11-23T17:49:39.162Z"
   },
   {
    "duration": 6,
    "start_time": "2022-11-23T17:49:39.171Z"
   },
   {
    "duration": 14,
    "start_time": "2022-11-23T17:49:39.179Z"
   },
   {
    "duration": 3,
    "start_time": "2022-11-23T17:49:39.195Z"
   },
   {
    "duration": 222,
    "start_time": "2022-11-23T17:49:39.199Z"
   },
   {
    "duration": 270,
    "start_time": "2022-11-23T17:49:39.423Z"
   },
   {
    "duration": 190,
    "start_time": "2022-11-23T17:49:39.694Z"
   },
   {
    "duration": 183,
    "start_time": "2022-11-23T17:49:39.886Z"
   },
   {
    "duration": 197,
    "start_time": "2022-11-23T17:49:40.071Z"
   },
   {
    "duration": 32,
    "start_time": "2022-11-23T17:49:40.270Z"
   },
   {
    "duration": 269,
    "start_time": "2022-11-23T17:49:40.303Z"
   },
   {
    "duration": 230,
    "start_time": "2022-11-23T17:49:40.573Z"
   },
   {
    "duration": 5,
    "start_time": "2022-11-23T17:49:40.805Z"
   },
   {
    "duration": 224,
    "start_time": "2022-11-23T17:49:40.813Z"
   },
   {
    "duration": 5,
    "start_time": "2022-11-23T17:49:41.038Z"
   },
   {
    "duration": 185,
    "start_time": "2022-11-23T17:49:41.046Z"
   },
   {
    "duration": 5,
    "start_time": "2022-11-23T17:49:41.236Z"
   },
   {
    "duration": 194,
    "start_time": "2022-11-23T17:49:41.243Z"
   },
   {
    "duration": 250,
    "start_time": "2022-11-23T17:49:41.439Z"
   },
   {
    "duration": 178,
    "start_time": "2022-11-23T17:49:41.691Z"
   },
   {
    "duration": 177,
    "start_time": "2022-11-23T17:49:41.871Z"
   },
   {
    "duration": 8,
    "start_time": "2022-11-23T17:49:42.049Z"
   },
   {
    "duration": 193,
    "start_time": "2022-11-23T17:49:42.058Z"
   },
   {
    "duration": 20,
    "start_time": "2022-11-23T17:49:42.253Z"
   },
   {
    "duration": 7,
    "start_time": "2022-11-23T17:49:42.275Z"
   },
   {
    "duration": 142,
    "start_time": "2022-11-23T17:49:42.283Z"
   },
   {
    "duration": 29,
    "start_time": "2022-11-23T17:49:42.427Z"
   },
   {
    "duration": 9,
    "start_time": "2022-11-23T17:49:42.458Z"
   },
   {
    "duration": 180,
    "start_time": "2022-11-23T17:49:42.469Z"
   },
   {
    "duration": 22,
    "start_time": "2022-11-23T17:49:42.651Z"
   },
   {
    "duration": 6,
    "start_time": "2022-11-23T17:49:42.675Z"
   },
   {
    "duration": 146,
    "start_time": "2022-11-23T17:49:42.683Z"
   },
   {
    "duration": 7,
    "start_time": "2022-11-23T17:50:33.686Z"
   },
   {
    "duration": 16,
    "start_time": "2022-11-23T17:51:28.984Z"
   },
   {
    "duration": 3,
    "start_time": "2022-11-23T17:51:59.083Z"
   },
   {
    "duration": 55,
    "start_time": "2022-11-23T17:51:59.088Z"
   },
   {
    "duration": 751,
    "start_time": "2022-11-23T17:51:59.145Z"
   },
   {
    "duration": 15,
    "start_time": "2022-11-23T17:51:59.897Z"
   },
   {
    "duration": 27,
    "start_time": "2022-11-23T17:51:59.914Z"
   },
   {
    "duration": 16,
    "start_time": "2022-11-23T17:51:59.943Z"
   },
   {
    "duration": 6,
    "start_time": "2022-11-23T17:51:59.961Z"
   },
   {
    "duration": 22,
    "start_time": "2022-11-23T17:51:59.969Z"
   },
   {
    "duration": 4,
    "start_time": "2022-11-23T17:51:59.993Z"
   },
   {
    "duration": 22,
    "start_time": "2022-11-23T17:51:59.999Z"
   },
   {
    "duration": 5,
    "start_time": "2022-11-23T17:52:00.060Z"
   },
   {
    "duration": 10,
    "start_time": "2022-11-23T17:52:00.067Z"
   },
   {
    "duration": 17,
    "start_time": "2022-11-23T17:52:00.079Z"
   },
   {
    "duration": 25,
    "start_time": "2022-11-23T17:52:00.098Z"
   },
   {
    "duration": 2,
    "start_time": "2022-11-23T17:52:00.126Z"
   },
   {
    "duration": 9,
    "start_time": "2022-11-23T17:52:00.130Z"
   },
   {
    "duration": 13,
    "start_time": "2022-11-23T17:52:00.141Z"
   },
   {
    "duration": 19,
    "start_time": "2022-11-23T17:52:00.156Z"
   },
   {
    "duration": 14,
    "start_time": "2022-11-23T17:52:00.193Z"
   },
   {
    "duration": 27,
    "start_time": "2022-11-23T17:52:00.209Z"
   },
   {
    "duration": 24,
    "start_time": "2022-11-23T17:52:00.238Z"
   },
   {
    "duration": 11,
    "start_time": "2022-11-23T17:52:00.264Z"
   },
   {
    "duration": 36,
    "start_time": "2022-11-23T17:52:00.276Z"
   },
   {
    "duration": 25,
    "start_time": "2022-11-23T17:52:00.313Z"
   },
   {
    "duration": 22,
    "start_time": "2022-11-23T17:52:00.340Z"
   },
   {
    "duration": 41,
    "start_time": "2022-11-23T17:52:00.363Z"
   },
   {
    "duration": 784,
    "start_time": "2022-11-23T17:52:00.407Z"
   },
   {
    "duration": 302,
    "start_time": "2022-11-23T17:52:01.194Z"
   },
   {
    "duration": 20,
    "start_time": "2022-11-23T17:52:01.498Z"
   },
   {
    "duration": 305,
    "start_time": "2022-11-23T17:52:01.520Z"
   },
   {
    "duration": 14,
    "start_time": "2022-11-23T17:52:01.827Z"
   },
   {
    "duration": 15,
    "start_time": "2022-11-23T17:52:01.842Z"
   },
   {
    "duration": 14,
    "start_time": "2022-11-23T17:52:01.859Z"
   },
   {
    "duration": 3,
    "start_time": "2022-11-23T17:52:01.875Z"
   },
   {
    "duration": 193,
    "start_time": "2022-11-23T17:52:01.880Z"
   },
   {
    "duration": 193,
    "start_time": "2022-11-23T17:52:02.075Z"
   },
   {
    "duration": 180,
    "start_time": "2022-11-23T17:52:02.270Z"
   },
   {
    "duration": 189,
    "start_time": "2022-11-23T17:52:02.453Z"
   },
   {
    "duration": 182,
    "start_time": "2022-11-23T17:52:02.643Z"
   },
   {
    "duration": 133,
    "start_time": "2022-11-23T17:52:02.827Z"
   },
   {
    "duration": 248,
    "start_time": "2022-11-23T17:52:02.962Z"
   },
   {
    "duration": 208,
    "start_time": "2022-11-23T17:52:03.214Z"
   },
   {
    "duration": 14,
    "start_time": "2022-11-23T17:52:03.423Z"
   },
   {
    "duration": 173,
    "start_time": "2022-11-23T17:52:03.439Z"
   },
   {
    "duration": 5,
    "start_time": "2022-11-23T17:52:03.613Z"
   },
   {
    "duration": 198,
    "start_time": "2022-11-23T17:52:03.620Z"
   },
   {
    "duration": 20,
    "start_time": "2022-11-23T17:52:03.820Z"
   },
   {
    "duration": 214,
    "start_time": "2022-11-23T17:52:03.843Z"
   },
   {
    "duration": 198,
    "start_time": "2022-11-23T17:52:04.058Z"
   },
   {
    "duration": 180,
    "start_time": "2022-11-23T17:52:04.257Z"
   },
   {
    "duration": 180,
    "start_time": "2022-11-23T17:52:04.439Z"
   },
   {
    "duration": 17,
    "start_time": "2022-11-23T17:52:04.620Z"
   },
   {
    "duration": 182,
    "start_time": "2022-11-23T17:52:04.640Z"
   },
   {
    "duration": 25,
    "start_time": "2022-11-23T17:52:04.824Z"
   },
   {
    "duration": 7,
    "start_time": "2022-11-23T17:52:04.851Z"
   },
   {
    "duration": 133,
    "start_time": "2022-11-23T17:52:04.859Z"
   },
   {
    "duration": 26,
    "start_time": "2022-11-23T17:52:04.994Z"
   },
   {
    "duration": 24,
    "start_time": "2022-11-23T17:52:05.022Z"
   },
   {
    "duration": 232,
    "start_time": "2022-11-23T17:52:05.048Z"
   },
   {
    "duration": 23,
    "start_time": "2022-11-23T17:52:05.282Z"
   },
   {
    "duration": 8,
    "start_time": "2022-11-23T17:52:05.307Z"
   },
   {
    "duration": 150,
    "start_time": "2022-11-23T17:52:05.317Z"
   },
   {
    "duration": 12,
    "start_time": "2022-11-23T17:52:10.541Z"
   },
   {
    "duration": 7,
    "start_time": "2022-11-23T17:54:16.764Z"
   },
   {
    "duration": 5,
    "start_time": "2022-11-23T17:54:35.990Z"
   },
   {
    "duration": 6,
    "start_time": "2022-11-23T17:55:05.166Z"
   },
   {
    "duration": 7,
    "start_time": "2022-11-23T17:57:31.632Z"
   },
   {
    "duration": 5,
    "start_time": "2022-11-23T17:58:03.743Z"
   },
   {
    "duration": 22,
    "start_time": "2022-11-23T17:59:14.918Z"
   },
   {
    "duration": 4,
    "start_time": "2022-11-23T17:59:57.494Z"
   },
   {
    "duration": 5,
    "start_time": "2022-11-23T18:00:44.868Z"
   },
   {
    "duration": 11,
    "start_time": "2022-11-23T18:01:11.291Z"
   },
   {
    "duration": 8,
    "start_time": "2022-11-23T18:01:36.830Z"
   },
   {
    "duration": 11,
    "start_time": "2022-11-23T18:05:18.105Z"
   },
   {
    "duration": 3,
    "start_time": "2022-11-23T18:11:25.170Z"
   },
   {
    "duration": 52,
    "start_time": "2022-11-23T18:11:25.175Z"
   },
   {
    "duration": 769,
    "start_time": "2022-11-23T18:11:25.228Z"
   },
   {
    "duration": 14,
    "start_time": "2022-11-23T18:11:25.999Z"
   },
   {
    "duration": 23,
    "start_time": "2022-11-23T18:11:26.014Z"
   },
   {
    "duration": 15,
    "start_time": "2022-11-23T18:11:26.039Z"
   },
   {
    "duration": 7,
    "start_time": "2022-11-23T18:11:26.055Z"
   },
   {
    "duration": 21,
    "start_time": "2022-11-23T18:11:26.063Z"
   },
   {
    "duration": 4,
    "start_time": "2022-11-23T18:11:26.086Z"
   },
   {
    "duration": 5,
    "start_time": "2022-11-23T18:11:26.092Z"
   },
   {
    "duration": 5,
    "start_time": "2022-11-23T18:11:26.183Z"
   },
   {
    "duration": 8,
    "start_time": "2022-11-23T18:11:26.189Z"
   },
   {
    "duration": 12,
    "start_time": "2022-11-23T18:11:26.198Z"
   },
   {
    "duration": 18,
    "start_time": "2022-11-23T18:11:26.212Z"
   },
   {
    "duration": 3,
    "start_time": "2022-11-23T18:11:26.232Z"
   },
   {
    "duration": 8,
    "start_time": "2022-11-23T18:11:26.236Z"
   },
   {
    "duration": 7,
    "start_time": "2022-11-23T18:11:26.245Z"
   },
   {
    "duration": 14,
    "start_time": "2022-11-23T18:11:26.254Z"
   },
   {
    "duration": 14,
    "start_time": "2022-11-23T18:11:26.354Z"
   },
   {
    "duration": 19,
    "start_time": "2022-11-23T18:11:26.369Z"
   },
   {
    "duration": 23,
    "start_time": "2022-11-23T18:11:26.389Z"
   },
   {
    "duration": 6,
    "start_time": "2022-11-23T18:11:26.414Z"
   },
   {
    "duration": 15,
    "start_time": "2022-11-23T18:11:26.422Z"
   },
   {
    "duration": 4,
    "start_time": "2022-11-23T18:11:26.439Z"
   },
   {
    "duration": 5,
    "start_time": "2022-11-23T18:11:26.444Z"
   },
   {
    "duration": 14,
    "start_time": "2022-11-23T18:11:26.451Z"
   },
   {
    "duration": 624,
    "start_time": "2022-11-23T18:11:26.467Z"
   },
   {
    "duration": 288,
    "start_time": "2022-11-23T18:11:27.093Z"
   },
   {
    "duration": 19,
    "start_time": "2022-11-23T18:11:27.383Z"
   },
   {
    "duration": 384,
    "start_time": "2022-11-23T18:11:27.404Z"
   },
   {
    "duration": 6,
    "start_time": "2022-11-23T18:11:27.790Z"
   },
   {
    "duration": 6,
    "start_time": "2022-11-23T18:11:27.798Z"
   },
   {
    "duration": 12,
    "start_time": "2022-11-23T18:11:27.805Z"
   },
   {
    "duration": 3,
    "start_time": "2022-11-23T18:11:27.838Z"
   },
   {
    "duration": 198,
    "start_time": "2022-11-23T18:11:27.843Z"
   },
   {
    "duration": 198,
    "start_time": "2022-11-23T18:11:28.042Z"
   },
   {
    "duration": 161,
    "start_time": "2022-11-23T18:11:28.243Z"
   },
   {
    "duration": 178,
    "start_time": "2022-11-23T18:11:28.405Z"
   },
   {
    "duration": 176,
    "start_time": "2022-11-23T18:11:28.585Z"
   },
   {
    "duration": 31,
    "start_time": "2022-11-23T18:11:28.763Z"
   },
   {
    "duration": 321,
    "start_time": "2022-11-23T18:11:28.796Z"
   },
   {
    "duration": 220,
    "start_time": "2022-11-23T18:11:29.119Z"
   },
   {
    "duration": 5,
    "start_time": "2022-11-23T18:11:29.340Z"
   },
   {
    "duration": 173,
    "start_time": "2022-11-23T18:11:29.347Z"
   },
   {
    "duration": 5,
    "start_time": "2022-11-23T18:11:29.522Z"
   },
   {
    "duration": 258,
    "start_time": "2022-11-23T18:11:29.528Z"
   },
   {
    "duration": 4,
    "start_time": "2022-11-23T18:11:29.787Z"
   },
   {
    "duration": 198,
    "start_time": "2022-11-23T18:11:29.793Z"
   },
   {
    "duration": 168,
    "start_time": "2022-11-23T18:11:29.992Z"
   },
   {
    "duration": 154,
    "start_time": "2022-11-23T18:11:30.161Z"
   },
   {
    "duration": 169,
    "start_time": "2022-11-23T18:11:30.317Z"
   },
   {
    "duration": 7,
    "start_time": "2022-11-23T18:11:30.487Z"
   },
   {
    "duration": 182,
    "start_time": "2022-11-23T18:11:30.496Z"
   },
   {
    "duration": 21,
    "start_time": "2022-11-23T18:11:30.680Z"
   },
   {
    "duration": 27,
    "start_time": "2022-11-23T18:11:30.702Z"
   },
   {
    "duration": 136,
    "start_time": "2022-11-23T18:11:30.730Z"
   },
   {
    "duration": 22,
    "start_time": "2022-11-23T18:11:30.868Z"
   },
   {
    "duration": 7,
    "start_time": "2022-11-23T18:11:30.891Z"
   },
   {
    "duration": 158,
    "start_time": "2022-11-23T18:11:30.900Z"
   },
   {
    "duration": 23,
    "start_time": "2022-11-23T18:11:31.059Z"
   },
   {
    "duration": 7,
    "start_time": "2022-11-23T18:11:31.085Z"
   },
   {
    "duration": 137,
    "start_time": "2022-11-23T18:11:31.094Z"
   },
   {
    "duration": 11,
    "start_time": "2022-11-23T18:11:31.237Z"
   },
   {
    "duration": 7,
    "start_time": "2022-11-23T18:11:31.249Z"
   },
   {
    "duration": 14,
    "start_time": "2022-11-23T18:11:31.257Z"
   },
   {
    "duration": 6,
    "start_time": "2022-11-23T18:11:31.273Z"
   },
   {
    "duration": 12,
    "start_time": "2022-11-23T18:11:31.280Z"
   },
   {
    "duration": 1221,
    "start_time": "2022-11-24T15:06:27.117Z"
   },
   {
    "duration": 194,
    "start_time": "2022-11-24T15:06:28.340Z"
   },
   {
    "duration": 808,
    "start_time": "2022-11-24T15:06:28.536Z"
   },
   {
    "duration": 15,
    "start_time": "2022-11-24T15:06:29.345Z"
   },
   {
    "duration": 13,
    "start_time": "2022-11-24T15:06:29.362Z"
   },
   {
    "duration": 16,
    "start_time": "2022-11-24T15:06:29.377Z"
   },
   {
    "duration": 5,
    "start_time": "2022-11-24T15:06:29.394Z"
   },
   {
    "duration": 47,
    "start_time": "2022-11-24T15:06:29.401Z"
   },
   {
    "duration": 5,
    "start_time": "2022-11-24T15:06:29.450Z"
   },
   {
    "duration": 6,
    "start_time": "2022-11-24T15:06:29.457Z"
   },
   {
    "duration": 9,
    "start_time": "2022-11-24T15:06:29.464Z"
   },
   {
    "duration": 6,
    "start_time": "2022-11-24T15:06:29.474Z"
   },
   {
    "duration": 6,
    "start_time": "2022-11-24T15:06:29.482Z"
   },
   {
    "duration": 20,
    "start_time": "2022-11-24T15:06:29.491Z"
   },
   {
    "duration": 26,
    "start_time": "2022-11-24T15:06:29.512Z"
   },
   {
    "duration": 4,
    "start_time": "2022-11-24T15:06:29.540Z"
   },
   {
    "duration": 20,
    "start_time": "2022-11-24T15:06:29.546Z"
   },
   {
    "duration": 16,
    "start_time": "2022-11-24T15:06:29.568Z"
   },
   {
    "duration": 16,
    "start_time": "2022-11-24T15:06:29.586Z"
   },
   {
    "duration": 34,
    "start_time": "2022-11-24T15:06:29.603Z"
   },
   {
    "duration": 23,
    "start_time": "2022-11-24T15:06:29.639Z"
   },
   {
    "duration": 3,
    "start_time": "2022-11-24T15:06:29.664Z"
   },
   {
    "duration": 5,
    "start_time": "2022-11-24T15:06:29.669Z"
   },
   {
    "duration": 5,
    "start_time": "2022-11-24T15:06:29.675Z"
   },
   {
    "duration": 10,
    "start_time": "2022-11-24T15:06:29.681Z"
   },
   {
    "duration": 5,
    "start_time": "2022-11-24T15:06:29.693Z"
   },
   {
    "duration": 698,
    "start_time": "2022-11-24T15:06:29.699Z"
   },
   {
    "duration": 302,
    "start_time": "2022-11-24T15:06:30.398Z"
   },
   {
    "duration": 21,
    "start_time": "2022-11-24T15:06:30.702Z"
   },
   {
    "duration": 367,
    "start_time": "2022-11-24T15:06:30.738Z"
   },
   {
    "duration": 7,
    "start_time": "2022-11-24T15:06:31.107Z"
   },
   {
    "duration": 24,
    "start_time": "2022-11-24T15:06:31.116Z"
   },
   {
    "duration": 13,
    "start_time": "2022-11-24T15:06:31.141Z"
   },
   {
    "duration": 3,
    "start_time": "2022-11-24T15:06:31.156Z"
   },
   {
    "duration": 186,
    "start_time": "2022-11-24T15:06:31.161Z"
   },
   {
    "duration": 16,
    "start_time": "2022-11-24T15:09:19.422Z"
   },
   {
    "duration": 12,
    "start_time": "2022-11-24T15:09:26.134Z"
   },
   {
    "duration": 105,
    "start_time": "2022-11-24T15:09:28.446Z"
   },
   {
    "duration": 74,
    "start_time": "2022-11-24T15:09:39.178Z"
   },
   {
    "duration": 81,
    "start_time": "2022-11-24T15:10:04.699Z"
   },
   {
    "duration": 81,
    "start_time": "2022-11-24T15:10:19.702Z"
   },
   {
    "duration": 295,
    "start_time": "2022-11-24T15:10:28.934Z"
   },
   {
    "duration": 849,
    "start_time": "2022-11-24T15:10:46.322Z"
   },
   {
    "duration": 81,
    "start_time": "2022-11-24T15:10:59.837Z"
   },
   {
    "duration": 1004,
    "start_time": "2022-11-24T15:11:08.141Z"
   },
   {
    "duration": 1149,
    "start_time": "2022-11-24T15:11:31.390Z"
   },
   {
    "duration": 55,
    "start_time": "2022-11-24T15:11:32.541Z"
   },
   {
    "duration": 762,
    "start_time": "2022-11-24T15:11:32.599Z"
   },
   {
    "duration": 15,
    "start_time": "2022-11-24T15:11:33.363Z"
   },
   {
    "duration": 10,
    "start_time": "2022-11-24T15:11:33.381Z"
   },
   {
    "duration": 15,
    "start_time": "2022-11-24T15:11:33.393Z"
   },
   {
    "duration": 6,
    "start_time": "2022-11-24T15:11:33.437Z"
   },
   {
    "duration": 36,
    "start_time": "2022-11-24T15:11:33.444Z"
   },
   {
    "duration": 5,
    "start_time": "2022-11-24T15:11:33.482Z"
   },
   {
    "duration": 6,
    "start_time": "2022-11-24T15:11:33.489Z"
   },
   {
    "duration": 8,
    "start_time": "2022-11-24T15:11:33.496Z"
   },
   {
    "duration": 6,
    "start_time": "2022-11-24T15:11:33.506Z"
   },
   {
    "duration": 7,
    "start_time": "2022-11-24T15:11:33.513Z"
   },
   {
    "duration": 24,
    "start_time": "2022-11-24T15:11:33.524Z"
   },
   {
    "duration": 3,
    "start_time": "2022-11-24T15:11:33.550Z"
   },
   {
    "duration": 4,
    "start_time": "2022-11-24T15:11:33.555Z"
   },
   {
    "duration": 6,
    "start_time": "2022-11-24T15:11:33.561Z"
   },
   {
    "duration": 15,
    "start_time": "2022-11-24T15:11:33.568Z"
   },
   {
    "duration": 14,
    "start_time": "2022-11-24T15:11:33.584Z"
   },
   {
    "duration": 53,
    "start_time": "2022-11-24T15:11:33.600Z"
   },
   {
    "duration": 24,
    "start_time": "2022-11-24T15:11:33.655Z"
   },
   {
    "duration": 4,
    "start_time": "2022-11-24T15:11:33.681Z"
   },
   {
    "duration": 6,
    "start_time": "2022-11-24T15:11:33.687Z"
   },
   {
    "duration": 3,
    "start_time": "2022-11-24T15:11:33.695Z"
   },
   {
    "duration": 6,
    "start_time": "2022-11-24T15:11:33.700Z"
   },
   {
    "duration": 6,
    "start_time": "2022-11-24T15:11:33.737Z"
   },
   {
    "duration": 667,
    "start_time": "2022-11-24T15:11:33.745Z"
   },
   {
    "duration": 302,
    "start_time": "2022-11-24T15:11:34.413Z"
   },
   {
    "duration": 29,
    "start_time": "2022-11-24T15:11:34.717Z"
   },
   {
    "duration": 384,
    "start_time": "2022-11-24T15:11:34.747Z"
   },
   {
    "duration": 7,
    "start_time": "2022-11-24T15:11:35.137Z"
   },
   {
    "duration": 8,
    "start_time": "2022-11-24T15:11:35.145Z"
   },
   {
    "duration": 13,
    "start_time": "2022-11-24T15:11:35.154Z"
   },
   {
    "duration": 2,
    "start_time": "2022-11-24T15:11:35.169Z"
   },
   {
    "duration": 202,
    "start_time": "2022-11-24T15:11:35.173Z"
   },
   {
    "duration": 15,
    "start_time": "2022-11-24T15:11:35.377Z"
   },
   {
    "duration": 13,
    "start_time": "2022-11-24T15:11:35.393Z"
   },
   {
    "duration": 875,
    "start_time": "2022-11-24T15:11:35.407Z"
   },
   {
    "duration": 186,
    "start_time": "2022-11-24T15:11:36.283Z"
   },
   {
    "duration": 180,
    "start_time": "2022-11-24T15:11:36.470Z"
   },
   {
    "duration": 173,
    "start_time": "2022-11-24T15:11:36.654Z"
   },
   {
    "duration": 249,
    "start_time": "2022-11-24T15:11:36.828Z"
   },
   {
    "duration": 31,
    "start_time": "2022-11-24T15:11:37.079Z"
   },
   {
    "duration": 256,
    "start_time": "2022-11-24T15:11:37.111Z"
   },
   {
    "duration": 203,
    "start_time": "2022-11-24T15:11:37.368Z"
   },
   {
    "duration": 5,
    "start_time": "2022-11-24T15:11:37.573Z"
   },
   {
    "duration": 185,
    "start_time": "2022-11-24T15:11:37.579Z"
   },
   {
    "duration": 6,
    "start_time": "2022-11-24T15:11:37.765Z"
   },
   {
    "duration": 185,
    "start_time": "2022-11-24T15:11:37.773Z"
   },
   {
    "duration": 5,
    "start_time": "2022-11-24T15:11:37.960Z"
   },
   {
    "duration": 196,
    "start_time": "2022-11-24T15:11:37.967Z"
   },
   {
    "duration": 166,
    "start_time": "2022-11-24T15:11:38.164Z"
   },
   {
    "duration": 177,
    "start_time": "2022-11-24T15:11:38.332Z"
   },
   {
    "duration": 160,
    "start_time": "2022-11-24T15:11:38.511Z"
   },
   {
    "duration": 7,
    "start_time": "2022-11-24T15:11:38.673Z"
   },
   {
    "duration": 300,
    "start_time": "2022-11-24T15:11:38.681Z"
   },
   {
    "duration": 26,
    "start_time": "2022-11-24T15:11:38.983Z"
   },
   {
    "duration": 28,
    "start_time": "2022-11-24T15:11:39.011Z"
   },
   {
    "duration": 130,
    "start_time": "2022-11-24T15:11:39.041Z"
   },
   {
    "duration": 22,
    "start_time": "2022-11-24T15:11:39.173Z"
   },
   {
    "duration": 7,
    "start_time": "2022-11-24T15:11:39.197Z"
   },
   {
    "duration": 146,
    "start_time": "2022-11-24T15:11:39.206Z"
   },
   {
    "duration": 22,
    "start_time": "2022-11-24T15:11:39.354Z"
   },
   {
    "duration": 7,
    "start_time": "2022-11-24T15:11:39.378Z"
   },
   {
    "duration": 147,
    "start_time": "2022-11-24T15:11:39.387Z"
   },
   {
    "duration": 11,
    "start_time": "2022-11-24T15:11:39.538Z"
   },
   {
    "duration": 5,
    "start_time": "2022-11-24T15:11:39.550Z"
   },
   {
    "duration": 18,
    "start_time": "2022-11-24T15:11:39.556Z"
   },
   {
    "duration": 8,
    "start_time": "2022-11-24T15:11:39.576Z"
   },
   {
    "duration": 11,
    "start_time": "2022-11-24T15:11:39.585Z"
   },
   {
    "duration": 1187,
    "start_time": "2022-11-24T15:15:26.436Z"
   },
   {
    "duration": 53,
    "start_time": "2022-11-24T15:15:27.625Z"
   },
   {
    "duration": 758,
    "start_time": "2022-11-24T15:15:27.681Z"
   },
   {
    "duration": 15,
    "start_time": "2022-11-24T15:15:28.441Z"
   },
   {
    "duration": 13,
    "start_time": "2022-11-24T15:15:28.458Z"
   },
   {
    "duration": 25,
    "start_time": "2022-11-24T15:15:28.473Z"
   },
   {
    "duration": 6,
    "start_time": "2022-11-24T15:15:28.499Z"
   },
   {
    "duration": 39,
    "start_time": "2022-11-24T15:15:28.506Z"
   },
   {
    "duration": 6,
    "start_time": "2022-11-24T15:15:28.546Z"
   },
   {
    "duration": 3,
    "start_time": "2022-11-24T15:15:28.554Z"
   },
   {
    "duration": 8,
    "start_time": "2022-11-24T15:15:28.559Z"
   },
   {
    "duration": 6,
    "start_time": "2022-11-24T15:15:28.569Z"
   },
   {
    "duration": 7,
    "start_time": "2022-11-24T15:15:28.576Z"
   },
   {
    "duration": 51,
    "start_time": "2022-11-24T15:15:28.587Z"
   },
   {
    "duration": 3,
    "start_time": "2022-11-24T15:15:28.640Z"
   },
   {
    "duration": 4,
    "start_time": "2022-11-24T15:15:28.645Z"
   },
   {
    "duration": 7,
    "start_time": "2022-11-24T15:15:28.651Z"
   },
   {
    "duration": 15,
    "start_time": "2022-11-24T15:15:28.659Z"
   },
   {
    "duration": 14,
    "start_time": "2022-11-24T15:15:28.675Z"
   },
   {
    "duration": 19,
    "start_time": "2022-11-24T15:15:28.690Z"
   },
   {
    "duration": 26,
    "start_time": "2022-11-24T15:15:28.738Z"
   },
   {
    "duration": 4,
    "start_time": "2022-11-24T15:15:28.766Z"
   },
   {
    "duration": 6,
    "start_time": "2022-11-24T15:15:28.772Z"
   },
   {
    "duration": 8,
    "start_time": "2022-11-24T15:15:28.779Z"
   },
   {
    "duration": 6,
    "start_time": "2022-11-24T15:15:28.788Z"
   },
   {
    "duration": 10,
    "start_time": "2022-11-24T15:15:28.796Z"
   },
   {
    "duration": 715,
    "start_time": "2022-11-24T15:15:28.808Z"
   },
   {
    "duration": 300,
    "start_time": "2022-11-24T15:15:29.525Z"
   },
   {
    "duration": 24,
    "start_time": "2022-11-24T15:15:29.827Z"
   },
   {
    "duration": 385,
    "start_time": "2022-11-24T15:15:29.852Z"
   },
   {
    "duration": 8,
    "start_time": "2022-11-24T15:15:30.239Z"
   },
   {
    "duration": 10,
    "start_time": "2022-11-24T15:15:30.249Z"
   },
   {
    "duration": 22,
    "start_time": "2022-11-24T15:15:30.261Z"
   },
   {
    "duration": 3,
    "start_time": "2022-11-24T15:15:30.285Z"
   },
   {
    "duration": 202,
    "start_time": "2022-11-24T15:15:30.290Z"
   },
   {
    "duration": 16,
    "start_time": "2022-11-24T15:15:30.494Z"
   },
   {
    "duration": 65,
    "start_time": "2022-11-24T15:15:30.511Z"
   },
   {
    "duration": 861,
    "start_time": "2022-11-24T15:15:30.578Z"
   },
   {
    "duration": 193,
    "start_time": "2022-11-24T15:15:31.441Z"
   },
   {
    "duration": 173,
    "start_time": "2022-11-24T15:15:31.635Z"
   },
   {
    "duration": 192,
    "start_time": "2022-11-24T15:15:31.812Z"
   },
   {
    "duration": 264,
    "start_time": "2022-11-24T15:15:32.005Z"
   },
   {
    "duration": 33,
    "start_time": "2022-11-24T15:15:32.271Z"
   },
   {
    "duration": 263,
    "start_time": "2022-11-24T15:15:32.305Z"
   },
   {
    "duration": 212,
    "start_time": "2022-11-24T15:15:32.570Z"
   },
   {
    "duration": 5,
    "start_time": "2022-11-24T15:15:32.783Z"
   },
   {
    "duration": 188,
    "start_time": "2022-11-24T15:15:32.789Z"
   },
   {
    "duration": 5,
    "start_time": "2022-11-24T15:15:32.978Z"
   },
   {
    "duration": 184,
    "start_time": "2022-11-24T15:15:32.985Z"
   },
   {
    "duration": 5,
    "start_time": "2022-11-24T15:15:33.171Z"
   },
   {
    "duration": 193,
    "start_time": "2022-11-24T15:15:33.177Z"
   },
   {
    "duration": 170,
    "start_time": "2022-11-24T15:15:33.373Z"
   },
   {
    "duration": 177,
    "start_time": "2022-11-24T15:15:33.545Z"
   },
   {
    "duration": 185,
    "start_time": "2022-11-24T15:15:33.724Z"
   },
   {
    "duration": 8,
    "start_time": "2022-11-24T15:15:33.910Z"
   },
   {
    "duration": 274,
    "start_time": "2022-11-24T15:15:33.920Z"
   },
   {
    "duration": 29,
    "start_time": "2022-11-24T15:15:34.196Z"
   },
   {
    "duration": 8,
    "start_time": "2022-11-24T15:15:34.237Z"
   },
   {
    "duration": 128,
    "start_time": "2022-11-24T15:15:34.247Z"
   },
   {
    "duration": 19,
    "start_time": "2022-11-24T15:15:34.377Z"
   },
   {
    "duration": 7,
    "start_time": "2022-11-24T15:15:34.397Z"
   },
   {
    "duration": 151,
    "start_time": "2022-11-24T15:15:34.405Z"
   },
   {
    "duration": 22,
    "start_time": "2022-11-24T15:15:34.558Z"
   },
   {
    "duration": 9,
    "start_time": "2022-11-24T15:15:34.581Z"
   },
   {
    "duration": 150,
    "start_time": "2022-11-24T15:15:34.592Z"
   },
   {
    "duration": 10,
    "start_time": "2022-11-24T15:15:34.744Z"
   },
   {
    "duration": 7,
    "start_time": "2022-11-24T15:15:34.756Z"
   },
   {
    "duration": 13,
    "start_time": "2022-11-24T15:15:34.765Z"
   },
   {
    "duration": 7,
    "start_time": "2022-11-24T15:15:34.779Z"
   },
   {
    "duration": 11,
    "start_time": "2022-11-24T15:15:34.787Z"
   },
   {
    "duration": 1239,
    "start_time": "2022-11-24T15:21:51.207Z"
   },
   {
    "duration": 97,
    "start_time": "2022-11-24T15:21:52.448Z"
   },
   {
    "duration": 758,
    "start_time": "2022-11-24T15:21:52.547Z"
   },
   {
    "duration": 15,
    "start_time": "2022-11-24T15:21:53.306Z"
   },
   {
    "duration": 16,
    "start_time": "2022-11-24T15:21:53.323Z"
   },
   {
    "duration": 15,
    "start_time": "2022-11-24T15:21:53.340Z"
   },
   {
    "duration": 5,
    "start_time": "2022-11-24T15:21:53.357Z"
   },
   {
    "duration": 25,
    "start_time": "2022-11-24T15:21:53.363Z"
   },
   {
    "duration": 26,
    "start_time": "2022-11-24T15:21:53.389Z"
   },
   {
    "duration": 3,
    "start_time": "2022-11-24T15:21:53.417Z"
   },
   {
    "duration": 7,
    "start_time": "2022-11-24T15:21:53.422Z"
   },
   {
    "duration": 5,
    "start_time": "2022-11-24T15:21:53.431Z"
   },
   {
    "duration": 6,
    "start_time": "2022-11-24T15:21:53.438Z"
   },
   {
    "duration": 17,
    "start_time": "2022-11-24T15:21:53.447Z"
   },
   {
    "duration": 2,
    "start_time": "2022-11-24T15:21:53.466Z"
   },
   {
    "duration": 6,
    "start_time": "2022-11-24T15:21:53.469Z"
   },
   {
    "duration": 9,
    "start_time": "2022-11-24T15:21:53.476Z"
   },
   {
    "duration": 39,
    "start_time": "2022-11-24T15:21:53.486Z"
   },
   {
    "duration": 14,
    "start_time": "2022-11-24T15:21:53.527Z"
   },
   {
    "duration": 19,
    "start_time": "2022-11-24T15:21:53.543Z"
   },
   {
    "duration": 25,
    "start_time": "2022-11-24T15:21:53.564Z"
   },
   {
    "duration": 27,
    "start_time": "2022-11-24T15:21:53.591Z"
   },
   {
    "duration": 11,
    "start_time": "2022-11-24T15:21:53.619Z"
   },
   {
    "duration": 5,
    "start_time": "2022-11-24T15:21:53.632Z"
   },
   {
    "duration": 6,
    "start_time": "2022-11-24T15:21:53.638Z"
   },
   {
    "duration": 9,
    "start_time": "2022-11-24T15:21:53.645Z"
   },
   {
    "duration": 749,
    "start_time": "2022-11-24T15:21:53.656Z"
   },
   {
    "duration": 359,
    "start_time": "2022-11-24T15:21:54.406Z"
   },
   {
    "duration": 18,
    "start_time": "2022-11-24T15:21:54.767Z"
   },
   {
    "duration": 294,
    "start_time": "2022-11-24T15:21:54.787Z"
   },
   {
    "duration": 6,
    "start_time": "2022-11-24T15:21:55.082Z"
   },
   {
    "duration": 5,
    "start_time": "2022-11-24T15:21:55.090Z"
   },
   {
    "duration": 34,
    "start_time": "2022-11-24T15:21:55.096Z"
   },
   {
    "duration": 3,
    "start_time": "2022-11-24T15:21:55.132Z"
   },
   {
    "duration": 184,
    "start_time": "2022-11-24T15:21:55.136Z"
   },
   {
    "duration": 14,
    "start_time": "2022-11-24T15:21:55.322Z"
   },
   {
    "duration": 15,
    "start_time": "2022-11-24T15:21:55.338Z"
   },
   {
    "duration": 838,
    "start_time": "2022-11-24T15:21:55.354Z"
   },
   {
    "duration": 195,
    "start_time": "2022-11-24T15:21:56.194Z"
   },
   {
    "duration": 221,
    "start_time": "2022-11-24T15:21:56.392Z"
   },
   {
    "duration": 241,
    "start_time": "2022-11-24T15:21:56.618Z"
   },
   {
    "duration": 164,
    "start_time": "2022-11-24T15:21:56.861Z"
   },
   {
    "duration": 32,
    "start_time": "2022-11-24T15:21:57.027Z"
   },
   {
    "duration": 276,
    "start_time": "2022-11-24T15:21:57.061Z"
   },
   {
    "duration": 206,
    "start_time": "2022-11-24T15:21:57.339Z"
   },
   {
    "duration": 4,
    "start_time": "2022-11-24T15:21:57.547Z"
   },
   {
    "duration": 182,
    "start_time": "2022-11-24T15:21:57.552Z"
   },
   {
    "duration": 5,
    "start_time": "2022-11-24T15:21:57.736Z"
   },
   {
    "duration": 174,
    "start_time": "2022-11-24T15:21:57.742Z"
   },
   {
    "duration": 5,
    "start_time": "2022-11-24T15:21:57.917Z"
   },
   {
    "duration": 188,
    "start_time": "2022-11-24T15:21:57.923Z"
   },
   {
    "duration": 167,
    "start_time": "2022-11-24T15:21:58.116Z"
   },
   {
    "duration": 167,
    "start_time": "2022-11-24T15:21:58.285Z"
   },
   {
    "duration": 242,
    "start_time": "2022-11-24T15:21:58.454Z"
   },
   {
    "duration": 9,
    "start_time": "2022-11-24T15:21:58.698Z"
   },
   {
    "duration": 192,
    "start_time": "2022-11-24T15:21:58.715Z"
   },
   {
    "duration": 21,
    "start_time": "2022-11-24T15:21:58.915Z"
   },
   {
    "duration": 10,
    "start_time": "2022-11-24T15:21:58.937Z"
   },
   {
    "duration": 136,
    "start_time": "2022-11-24T15:21:58.948Z"
   },
   {
    "duration": 22,
    "start_time": "2022-11-24T15:21:59.086Z"
   },
   {
    "duration": 7,
    "start_time": "2022-11-24T15:21:59.115Z"
   },
   {
    "duration": 136,
    "start_time": "2022-11-24T15:21:59.123Z"
   },
   {
    "duration": 20,
    "start_time": "2022-11-24T15:21:59.260Z"
   },
   {
    "duration": 6,
    "start_time": "2022-11-24T15:21:59.281Z"
   },
   {
    "duration": 139,
    "start_time": "2022-11-24T15:21:59.289Z"
   },
   {
    "duration": 10,
    "start_time": "2022-11-24T15:21:59.430Z"
   },
   {
    "duration": 6,
    "start_time": "2022-11-24T15:21:59.442Z"
   },
   {
    "duration": 14,
    "start_time": "2022-11-24T15:21:59.449Z"
   },
   {
    "duration": 7,
    "start_time": "2022-11-24T15:21:59.464Z"
   },
   {
    "duration": 8,
    "start_time": "2022-11-24T15:21:59.472Z"
   },
   {
    "duration": 1315,
    "start_time": "2022-11-25T16:01:25.645Z"
   },
   {
    "duration": 197,
    "start_time": "2022-11-25T16:01:26.962Z"
   },
   {
    "duration": 756,
    "start_time": "2022-11-25T16:01:27.160Z"
   },
   {
    "duration": 20,
    "start_time": "2022-11-25T16:01:27.918Z"
   },
   {
    "duration": 10,
    "start_time": "2022-11-25T16:01:27.940Z"
   },
   {
    "duration": 18,
    "start_time": "2022-11-25T16:01:27.952Z"
   },
   {
    "duration": 6,
    "start_time": "2022-11-25T16:01:27.972Z"
   },
   {
    "duration": 25,
    "start_time": "2022-11-25T16:01:27.980Z"
   },
   {
    "duration": 6,
    "start_time": "2022-11-25T16:01:28.038Z"
   },
   {
    "duration": 5,
    "start_time": "2022-11-25T16:01:28.046Z"
   },
   {
    "duration": 10,
    "start_time": "2022-11-25T16:01:28.053Z"
   },
   {
    "duration": 7,
    "start_time": "2022-11-25T16:01:28.065Z"
   },
   {
    "duration": 9,
    "start_time": "2022-11-25T16:01:28.074Z"
   },
   {
    "duration": 19,
    "start_time": "2022-11-25T16:01:28.087Z"
   },
   {
    "duration": 3,
    "start_time": "2022-11-25T16:01:28.137Z"
   },
   {
    "duration": 5,
    "start_time": "2022-11-25T16:01:28.142Z"
   },
   {
    "duration": 8,
    "start_time": "2022-11-25T16:01:28.148Z"
   },
   {
    "duration": 14,
    "start_time": "2022-11-25T16:01:28.158Z"
   },
   {
    "duration": 14,
    "start_time": "2022-11-25T16:01:28.174Z"
   },
   {
    "duration": 18,
    "start_time": "2022-11-25T16:01:28.189Z"
   },
   {
    "duration": 29,
    "start_time": "2022-11-25T16:01:28.237Z"
   },
   {
    "duration": 6,
    "start_time": "2022-11-25T16:01:28.267Z"
   },
   {
    "duration": 8,
    "start_time": "2022-11-25T16:01:28.274Z"
   },
   {
    "duration": 4,
    "start_time": "2022-11-25T16:01:28.283Z"
   },
   {
    "duration": 6,
    "start_time": "2022-11-25T16:01:28.288Z"
   },
   {
    "duration": 5,
    "start_time": "2022-11-25T16:01:28.295Z"
   },
   {
    "duration": 788,
    "start_time": "2022-11-25T16:01:28.302Z"
   },
   {
    "duration": 305,
    "start_time": "2022-11-25T16:01:29.092Z"
   },
   {
    "duration": 21,
    "start_time": "2022-11-25T16:01:29.399Z"
   },
   {
    "duration": 382,
    "start_time": "2022-11-25T16:01:29.422Z"
   },
   {
    "duration": 7,
    "start_time": "2022-11-25T16:01:29.806Z"
   },
   {
    "duration": 8,
    "start_time": "2022-11-25T16:01:29.815Z"
   },
   {
    "duration": 15,
    "start_time": "2022-11-25T16:01:29.837Z"
   },
   {
    "duration": 5,
    "start_time": "2022-11-25T16:01:29.854Z"
   },
   {
    "duration": 196,
    "start_time": "2022-11-25T16:01:29.860Z"
   },
   {
    "duration": 16,
    "start_time": "2022-11-25T16:01:30.058Z"
   },
   {
    "duration": 31,
    "start_time": "2022-11-25T16:01:30.075Z"
   },
   {
    "duration": 863,
    "start_time": "2022-11-25T16:01:30.108Z"
   },
   {
    "duration": 193,
    "start_time": "2022-11-25T16:01:30.973Z"
   },
   {
    "duration": 183,
    "start_time": "2022-11-25T16:01:31.168Z"
   },
   {
    "duration": 188,
    "start_time": "2022-11-25T16:01:31.355Z"
   },
   {
    "duration": 262,
    "start_time": "2022-11-25T16:01:31.545Z"
   },
   {
    "duration": 45,
    "start_time": "2022-11-25T16:01:31.809Z"
   },
   {
    "duration": 274,
    "start_time": "2022-11-25T16:01:31.855Z"
   },
   {
    "duration": 220,
    "start_time": "2022-11-25T16:01:32.137Z"
   },
   {
    "duration": 5,
    "start_time": "2022-11-25T16:01:32.359Z"
   },
   {
    "duration": 191,
    "start_time": "2022-11-25T16:01:32.365Z"
   },
   {
    "duration": 5,
    "start_time": "2022-11-25T16:01:32.557Z"
   },
   {
    "duration": 182,
    "start_time": "2022-11-25T16:01:32.564Z"
   },
   {
    "duration": 4,
    "start_time": "2022-11-25T16:01:32.748Z"
   },
   {
    "duration": 189,
    "start_time": "2022-11-25T16:01:32.754Z"
   },
   {
    "duration": 177,
    "start_time": "2022-11-25T16:01:32.945Z"
   },
   {
    "duration": 187,
    "start_time": "2022-11-25T16:01:33.124Z"
   },
   {
    "duration": 163,
    "start_time": "2022-11-25T16:01:33.312Z"
   },
   {
    "duration": 6,
    "start_time": "2022-11-25T16:01:33.477Z"
   },
   {
    "duration": 270,
    "start_time": "2022-11-25T16:01:33.485Z"
   },
   {
    "duration": 15,
    "start_time": "2022-11-25T16:01:48.897Z"
   },
   {
    "duration": 2,
    "start_time": "2022-11-25T16:07:10.674Z"
   },
   {
    "duration": 51,
    "start_time": "2022-11-25T16:07:10.678Z"
   },
   {
    "duration": 751,
    "start_time": "2022-11-25T16:07:10.730Z"
   },
   {
    "duration": 14,
    "start_time": "2022-11-25T16:07:11.483Z"
   },
   {
    "duration": 10,
    "start_time": "2022-11-25T16:07:11.500Z"
   },
   {
    "duration": 37,
    "start_time": "2022-11-25T16:07:11.511Z"
   },
   {
    "duration": 6,
    "start_time": "2022-11-25T16:07:11.550Z"
   },
   {
    "duration": 24,
    "start_time": "2022-11-25T16:07:11.557Z"
   },
   {
    "duration": 5,
    "start_time": "2022-11-25T16:07:11.583Z"
   },
   {
    "duration": 7,
    "start_time": "2022-11-25T16:07:11.590Z"
   },
   {
    "duration": 7,
    "start_time": "2022-11-25T16:07:11.598Z"
   },
   {
    "duration": 6,
    "start_time": "2022-11-25T16:07:11.607Z"
   },
   {
    "duration": 6,
    "start_time": "2022-11-25T16:07:11.638Z"
   },
   {
    "duration": 20,
    "start_time": "2022-11-25T16:07:11.648Z"
   },
   {
    "duration": 3,
    "start_time": "2022-11-25T16:07:11.670Z"
   },
   {
    "duration": 5,
    "start_time": "2022-11-25T16:07:11.674Z"
   },
   {
    "duration": 7,
    "start_time": "2022-11-25T16:07:11.680Z"
   },
   {
    "duration": 14,
    "start_time": "2022-11-25T16:07:11.688Z"
   },
   {
    "duration": 45,
    "start_time": "2022-11-25T16:07:11.703Z"
   },
   {
    "duration": 20,
    "start_time": "2022-11-25T16:07:11.750Z"
   },
   {
    "duration": 22,
    "start_time": "2022-11-25T16:07:11.772Z"
   },
   {
    "duration": 5,
    "start_time": "2022-11-25T16:07:11.796Z"
   },
   {
    "duration": 35,
    "start_time": "2022-11-25T16:07:11.802Z"
   },
   {
    "duration": 5,
    "start_time": "2022-11-25T16:07:11.839Z"
   },
   {
    "duration": 8,
    "start_time": "2022-11-25T16:07:11.846Z"
   },
   {
    "duration": 10,
    "start_time": "2022-11-25T16:07:11.856Z"
   },
   {
    "duration": 632,
    "start_time": "2022-11-25T16:07:11.868Z"
   },
   {
    "duration": 306,
    "start_time": "2022-11-25T16:07:12.503Z"
   },
   {
    "duration": 28,
    "start_time": "2022-11-25T16:07:12.811Z"
   },
   {
    "duration": 297,
    "start_time": "2022-11-25T16:07:12.840Z"
   },
   {
    "duration": 7,
    "start_time": "2022-11-25T16:07:13.139Z"
   },
   {
    "duration": 10,
    "start_time": "2022-11-25T16:07:13.148Z"
   },
   {
    "duration": 13,
    "start_time": "2022-11-25T16:07:13.160Z"
   },
   {
    "duration": 3,
    "start_time": "2022-11-25T16:07:13.174Z"
   },
   {
    "duration": 293,
    "start_time": "2022-11-25T16:07:13.179Z"
   },
   {
    "duration": 15,
    "start_time": "2022-11-25T16:07:13.474Z"
   },
   {
    "duration": 14,
    "start_time": "2022-11-25T16:07:13.490Z"
   },
   {
    "duration": 934,
    "start_time": "2022-11-25T16:07:13.505Z"
   },
   {
    "duration": 182,
    "start_time": "2022-11-25T16:07:14.441Z"
   },
   {
    "duration": 168,
    "start_time": "2022-11-25T16:07:14.624Z"
   },
   {
    "duration": 185,
    "start_time": "2022-11-25T16:07:14.795Z"
   },
   {
    "duration": 174,
    "start_time": "2022-11-25T16:07:14.982Z"
   },
   {
    "duration": 32,
    "start_time": "2022-11-25T16:07:15.157Z"
   },
   {
    "duration": 264,
    "start_time": "2022-11-25T16:07:15.190Z"
   },
   {
    "duration": 291,
    "start_time": "2022-11-25T16:07:15.455Z"
   },
   {
    "duration": 5,
    "start_time": "2022-11-25T16:07:15.747Z"
   },
   {
    "duration": 189,
    "start_time": "2022-11-25T16:07:15.753Z"
   },
   {
    "duration": 5,
    "start_time": "2022-11-25T16:07:15.944Z"
   },
   {
    "duration": 175,
    "start_time": "2022-11-25T16:07:15.951Z"
   },
   {
    "duration": 4,
    "start_time": "2022-11-25T16:07:16.128Z"
   },
   {
    "duration": 199,
    "start_time": "2022-11-25T16:07:16.133Z"
   },
   {
    "duration": 166,
    "start_time": "2022-11-25T16:07:16.338Z"
   },
   {
    "duration": 175,
    "start_time": "2022-11-25T16:07:16.506Z"
   },
   {
    "duration": 167,
    "start_time": "2022-11-25T16:07:16.683Z"
   },
   {
    "duration": 8,
    "start_time": "2022-11-25T16:07:16.852Z"
   },
   {
    "duration": 175,
    "start_time": "2022-11-25T16:07:16.862Z"
   },
   {
    "duration": 678,
    "start_time": "2022-11-25T16:07:25.994Z"
   },
   {
    "duration": 12,
    "start_time": "2022-11-25T16:07:48.483Z"
   },
   {
    "duration": 3,
    "start_time": "2022-11-25T16:08:57.772Z"
   },
   {
    "duration": 60,
    "start_time": "2022-11-25T16:08:57.777Z"
   },
   {
    "duration": 901,
    "start_time": "2022-11-25T16:08:57.839Z"
   },
   {
    "duration": 15,
    "start_time": "2022-11-25T16:08:58.742Z"
   },
   {
    "duration": 9,
    "start_time": "2022-11-25T16:08:58.759Z"
   },
   {
    "duration": 19,
    "start_time": "2022-11-25T16:08:58.770Z"
   },
   {
    "duration": 8,
    "start_time": "2022-11-25T16:08:58.791Z"
   },
   {
    "duration": 53,
    "start_time": "2022-11-25T16:08:58.804Z"
   },
   {
    "duration": 8,
    "start_time": "2022-11-25T16:08:58.860Z"
   },
   {
    "duration": 10,
    "start_time": "2022-11-25T16:08:58.875Z"
   },
   {
    "duration": 13,
    "start_time": "2022-11-25T16:08:58.886Z"
   },
   {
    "duration": 9,
    "start_time": "2022-11-25T16:08:58.901Z"
   },
   {
    "duration": 20,
    "start_time": "2022-11-25T16:08:58.912Z"
   },
   {
    "duration": 23,
    "start_time": "2022-11-25T16:08:58.935Z"
   },
   {
    "duration": 8,
    "start_time": "2022-11-25T16:08:58.961Z"
   },
   {
    "duration": 7,
    "start_time": "2022-11-25T16:08:58.971Z"
   },
   {
    "duration": 15,
    "start_time": "2022-11-25T16:08:58.980Z"
   },
   {
    "duration": 20,
    "start_time": "2022-11-25T16:08:58.997Z"
   },
   {
    "duration": 30,
    "start_time": "2022-11-25T16:08:59.019Z"
   },
   {
    "duration": 20,
    "start_time": "2022-11-25T16:08:59.052Z"
   },
   {
    "duration": 22,
    "start_time": "2022-11-25T16:08:59.074Z"
   },
   {
    "duration": 11,
    "start_time": "2022-11-25T16:08:59.097Z"
   },
   {
    "duration": 31,
    "start_time": "2022-11-25T16:08:59.109Z"
   },
   {
    "duration": 4,
    "start_time": "2022-11-25T16:08:59.143Z"
   },
   {
    "duration": 10,
    "start_time": "2022-11-25T16:08:59.148Z"
   },
   {
    "duration": 7,
    "start_time": "2022-11-25T16:08:59.160Z"
   },
   {
    "duration": 644,
    "start_time": "2022-11-25T16:08:59.169Z"
   },
   {
    "duration": 308,
    "start_time": "2022-11-25T16:08:59.815Z"
   },
   {
    "duration": 29,
    "start_time": "2022-11-25T16:09:00.124Z"
   },
   {
    "duration": 314,
    "start_time": "2022-11-25T16:09:00.155Z"
   },
   {
    "duration": 7,
    "start_time": "2022-11-25T16:09:00.471Z"
   },
   {
    "duration": 14,
    "start_time": "2022-11-25T16:09:00.480Z"
   },
   {
    "duration": 35,
    "start_time": "2022-11-25T16:09:00.496Z"
   },
   {
    "duration": 35,
    "start_time": "2022-11-25T16:09:00.533Z"
   },
   {
    "duration": 206,
    "start_time": "2022-11-25T16:09:00.570Z"
   },
   {
    "duration": 15,
    "start_time": "2022-11-25T16:09:00.778Z"
   },
   {
    "duration": 61,
    "start_time": "2022-11-25T16:09:00.795Z"
   },
   {
    "duration": 1037,
    "start_time": "2022-11-25T16:09:00.857Z"
   },
   {
    "duration": 201,
    "start_time": "2022-11-25T16:09:01.897Z"
   },
   {
    "duration": 196,
    "start_time": "2022-11-25T16:09:02.100Z"
   },
   {
    "duration": 198,
    "start_time": "2022-11-25T16:09:02.298Z"
   },
   {
    "duration": 173,
    "start_time": "2022-11-25T16:09:02.498Z"
   },
   {
    "duration": 33,
    "start_time": "2022-11-25T16:09:02.672Z"
   },
   {
    "duration": 273,
    "start_time": "2022-11-25T16:09:02.706Z"
   },
   {
    "duration": 215,
    "start_time": "2022-11-25T16:09:02.980Z"
   },
   {
    "duration": 5,
    "start_time": "2022-11-25T16:09:03.197Z"
   },
   {
    "duration": 202,
    "start_time": "2022-11-25T16:09:03.203Z"
   },
   {
    "duration": 5,
    "start_time": "2022-11-25T16:09:03.407Z"
   },
   {
    "duration": 278,
    "start_time": "2022-11-25T16:09:03.413Z"
   },
   {
    "duration": 4,
    "start_time": "2022-11-25T16:09:03.693Z"
   },
   {
    "duration": 225,
    "start_time": "2022-11-25T16:09:03.699Z"
   },
   {
    "duration": 205,
    "start_time": "2022-11-25T16:09:03.925Z"
   },
   {
    "duration": 205,
    "start_time": "2022-11-25T16:09:04.132Z"
   },
   {
    "duration": 202,
    "start_time": "2022-11-25T16:09:04.339Z"
   },
   {
    "duration": 8,
    "start_time": "2022-11-25T16:09:04.542Z"
   },
   {
    "duration": 191,
    "start_time": "2022-11-25T16:09:04.553Z"
   },
   {
    "duration": 14,
    "start_time": "2022-11-25T16:09:14.111Z"
   },
   {
    "duration": 22,
    "start_time": "2022-11-25T16:09:34.079Z"
   },
   {
    "duration": 8,
    "start_time": "2022-11-25T16:09:54.571Z"
   },
   {
    "duration": 117,
    "start_time": "2022-11-25T16:10:06.400Z"
   },
   {
    "duration": 22,
    "start_time": "2022-11-25T16:11:41.339Z"
   },
   {
    "duration": 7,
    "start_time": "2022-11-25T16:11:50.612Z"
   },
   {
    "duration": 134,
    "start_time": "2022-11-25T16:13:02.069Z"
   },
   {
    "duration": 23,
    "start_time": "2022-11-25T16:14:00.636Z"
   },
   {
    "duration": 8,
    "start_time": "2022-11-25T16:14:41.122Z"
   },
   {
    "duration": 133,
    "start_time": "2022-11-25T16:14:54.072Z"
   },
   {
    "duration": 11,
    "start_time": "2022-11-25T16:23:30.843Z"
   },
   {
    "duration": 4,
    "start_time": "2022-11-25T16:39:47.298Z"
   },
   {
    "duration": 11,
    "start_time": "2022-11-25T16:39:55.349Z"
   },
   {
    "duration": 8,
    "start_time": "2022-11-25T16:40:58.552Z"
   },
   {
    "duration": 9,
    "start_time": "2022-11-25T16:44:26.123Z"
   },
   {
    "duration": 3,
    "start_time": "2022-11-25T17:15:25.133Z"
   },
   {
    "duration": 51,
    "start_time": "2022-11-25T17:15:25.145Z"
   },
   {
    "duration": 922,
    "start_time": "2022-11-25T17:15:25.198Z"
   },
   {
    "duration": 24,
    "start_time": "2022-11-25T17:15:26.122Z"
   },
   {
    "duration": 14,
    "start_time": "2022-11-25T17:15:26.148Z"
   },
   {
    "duration": 16,
    "start_time": "2022-11-25T17:15:26.164Z"
   },
   {
    "duration": 10,
    "start_time": "2022-11-25T17:15:26.182Z"
   },
   {
    "duration": 44,
    "start_time": "2022-11-25T17:15:26.194Z"
   },
   {
    "duration": 5,
    "start_time": "2022-11-25T17:15:26.240Z"
   },
   {
    "duration": 6,
    "start_time": "2022-11-25T17:15:26.246Z"
   },
   {
    "duration": 7,
    "start_time": "2022-11-25T17:15:26.254Z"
   },
   {
    "duration": 29,
    "start_time": "2022-11-25T17:15:26.263Z"
   },
   {
    "duration": 17,
    "start_time": "2022-11-25T17:15:26.294Z"
   },
   {
    "duration": 18,
    "start_time": "2022-11-25T17:15:26.313Z"
   },
   {
    "duration": 3,
    "start_time": "2022-11-25T17:15:26.336Z"
   },
   {
    "duration": 8,
    "start_time": "2022-11-25T17:15:26.340Z"
   },
   {
    "duration": 9,
    "start_time": "2022-11-25T17:15:26.349Z"
   },
   {
    "duration": 15,
    "start_time": "2022-11-25T17:15:26.359Z"
   },
   {
    "duration": 14,
    "start_time": "2022-11-25T17:15:26.375Z"
   },
   {
    "duration": 46,
    "start_time": "2022-11-25T17:15:26.391Z"
   },
   {
    "duration": 25,
    "start_time": "2022-11-25T17:15:26.439Z"
   },
   {
    "duration": 6,
    "start_time": "2022-11-25T17:15:26.465Z"
   },
   {
    "duration": 6,
    "start_time": "2022-11-25T17:15:26.473Z"
   },
   {
    "duration": 4,
    "start_time": "2022-11-25T17:15:26.481Z"
   },
   {
    "duration": 9,
    "start_time": "2022-11-25T17:15:26.486Z"
   },
   {
    "duration": 7,
    "start_time": "2022-11-25T17:15:26.497Z"
   },
   {
    "duration": 717,
    "start_time": "2022-11-25T17:15:26.506Z"
   },
   {
    "duration": 302,
    "start_time": "2022-11-25T17:15:27.224Z"
   },
   {
    "duration": 26,
    "start_time": "2022-11-25T17:15:27.527Z"
   },
   {
    "duration": 321,
    "start_time": "2022-11-25T17:15:27.555Z"
   },
   {
    "duration": 9,
    "start_time": "2022-11-25T17:15:27.878Z"
   },
   {
    "duration": 24,
    "start_time": "2022-11-25T17:15:27.889Z"
   },
   {
    "duration": 12,
    "start_time": "2022-11-25T17:15:27.915Z"
   },
   {
    "duration": 9,
    "start_time": "2022-11-25T17:15:27.928Z"
   },
   {
    "duration": 212,
    "start_time": "2022-11-25T17:15:27.939Z"
   },
   {
    "duration": 18,
    "start_time": "2022-11-25T17:15:28.153Z"
   },
   {
    "duration": 17,
    "start_time": "2022-11-25T17:15:28.173Z"
   },
   {
    "duration": 1116,
    "start_time": "2022-11-25T17:15:28.191Z"
   },
   {
    "duration": 190,
    "start_time": "2022-11-25T17:15:29.308Z"
   },
   {
    "duration": 189,
    "start_time": "2022-11-25T17:15:29.500Z"
   },
   {
    "duration": 181,
    "start_time": "2022-11-25T17:15:29.690Z"
   },
   {
    "duration": 191,
    "start_time": "2022-11-25T17:15:29.876Z"
   },
   {
    "duration": 33,
    "start_time": "2022-11-25T17:15:30.069Z"
   },
   {
    "duration": 281,
    "start_time": "2022-11-25T17:15:30.104Z"
   },
   {
    "duration": 217,
    "start_time": "2022-11-25T17:15:30.386Z"
   },
   {
    "duration": 7,
    "start_time": "2022-11-25T17:15:30.604Z"
   },
   {
    "duration": 235,
    "start_time": "2022-11-25T17:15:30.613Z"
   },
   {
    "duration": 6,
    "start_time": "2022-11-25T17:15:30.849Z"
   },
   {
    "duration": 300,
    "start_time": "2022-11-25T17:15:30.856Z"
   },
   {
    "duration": 5,
    "start_time": "2022-11-25T17:15:31.157Z"
   },
   {
    "duration": 213,
    "start_time": "2022-11-25T17:15:31.163Z"
   },
   {
    "duration": 176,
    "start_time": "2022-11-25T17:15:31.378Z"
   },
   {
    "duration": 164,
    "start_time": "2022-11-25T17:15:31.556Z"
   },
   {
    "duration": 187,
    "start_time": "2022-11-25T17:15:31.722Z"
   },
   {
    "duration": 7,
    "start_time": "2022-11-25T17:15:31.911Z"
   },
   {
    "duration": 199,
    "start_time": "2022-11-25T17:15:31.920Z"
   },
   {
    "duration": 23,
    "start_time": "2022-11-25T17:15:32.120Z"
   },
   {
    "duration": 28,
    "start_time": "2022-11-25T17:15:32.145Z"
   },
   {
    "duration": 7,
    "start_time": "2022-11-25T17:15:32.175Z"
   },
   {
    "duration": 164,
    "start_time": "2022-11-25T17:15:32.184Z"
   },
   {
    "duration": 23,
    "start_time": "2022-11-25T17:15:32.350Z"
   },
   {
    "duration": 13,
    "start_time": "2022-11-25T17:15:32.375Z"
   },
   {
    "duration": 165,
    "start_time": "2022-11-25T17:15:32.390Z"
   },
   {
    "duration": 23,
    "start_time": "2022-11-25T17:15:32.557Z"
   },
   {
    "duration": 8,
    "start_time": "2022-11-25T17:15:32.582Z"
   },
   {
    "duration": 151,
    "start_time": "2022-11-25T17:15:32.592Z"
   },
   {
    "duration": 12,
    "start_time": "2022-11-25T17:15:32.745Z"
   },
   {
    "duration": 4,
    "start_time": "2022-11-25T17:15:32.759Z"
   },
   {
    "duration": 18,
    "start_time": "2022-11-25T17:15:32.764Z"
   },
   {
    "duration": 11,
    "start_time": "2022-11-25T17:15:32.784Z"
   },
   {
    "duration": 7,
    "start_time": "2022-11-25T17:15:32.797Z"
   },
   {
    "duration": 8,
    "start_time": "2022-11-25T17:15:32.806Z"
   },
   {
    "duration": 1287,
    "start_time": "2022-11-26T10:40:28.892Z"
   },
   {
    "duration": 66,
    "start_time": "2022-11-26T10:40:30.181Z"
   },
   {
    "duration": 956,
    "start_time": "2022-11-26T10:40:30.250Z"
   },
   {
    "duration": 26,
    "start_time": "2022-11-26T10:40:31.208Z"
   },
   {
    "duration": 19,
    "start_time": "2022-11-26T10:40:31.235Z"
   },
   {
    "duration": 19,
    "start_time": "2022-11-26T10:40:31.256Z"
   },
   {
    "duration": 6,
    "start_time": "2022-11-26T10:40:31.277Z"
   },
   {
    "duration": 46,
    "start_time": "2022-11-26T10:40:31.285Z"
   },
   {
    "duration": 7,
    "start_time": "2022-11-26T10:40:31.333Z"
   },
   {
    "duration": 5,
    "start_time": "2022-11-26T10:40:31.344Z"
   },
   {
    "duration": 7,
    "start_time": "2022-11-26T10:40:31.351Z"
   },
   {
    "duration": 10,
    "start_time": "2022-11-26T10:40:31.360Z"
   },
   {
    "duration": 8,
    "start_time": "2022-11-26T10:40:31.371Z"
   },
   {
    "duration": 42,
    "start_time": "2022-11-26T10:40:31.381Z"
   },
   {
    "duration": 7,
    "start_time": "2022-11-26T10:40:31.425Z"
   },
   {
    "duration": 11,
    "start_time": "2022-11-26T10:40:31.434Z"
   },
   {
    "duration": 14,
    "start_time": "2022-11-26T10:40:31.447Z"
   },
   {
    "duration": 31,
    "start_time": "2022-11-26T10:40:31.463Z"
   },
   {
    "duration": 27,
    "start_time": "2022-11-26T10:40:31.496Z"
   },
   {
    "duration": 21,
    "start_time": "2022-11-26T10:40:31.531Z"
   },
   {
    "duration": 29,
    "start_time": "2022-11-26T10:40:31.553Z"
   },
   {
    "duration": 10,
    "start_time": "2022-11-26T10:40:31.584Z"
   },
   {
    "duration": 8,
    "start_time": "2022-11-26T10:40:31.596Z"
   },
   {
    "duration": 16,
    "start_time": "2022-11-26T10:40:31.606Z"
   },
   {
    "duration": 25,
    "start_time": "2022-11-26T10:40:31.623Z"
   },
   {
    "duration": 7,
    "start_time": "2022-11-26T10:40:31.650Z"
   },
   {
    "duration": 677,
    "start_time": "2022-11-26T10:40:31.659Z"
   },
   {
    "duration": 304,
    "start_time": "2022-11-26T10:40:32.341Z"
   },
   {
    "duration": 18,
    "start_time": "2022-11-26T10:40:32.647Z"
   },
   {
    "duration": 326,
    "start_time": "2022-11-26T10:40:32.667Z"
   },
   {
    "duration": 7,
    "start_time": "2022-11-26T10:40:32.994Z"
   },
   {
    "duration": 15,
    "start_time": "2022-11-26T10:40:33.003Z"
   },
   {
    "duration": 25,
    "start_time": "2022-11-26T10:40:33.022Z"
   },
   {
    "duration": 3,
    "start_time": "2022-11-26T10:40:33.049Z"
   },
   {
    "duration": 190,
    "start_time": "2022-11-26T10:40:33.053Z"
   },
   {
    "duration": 13,
    "start_time": "2022-11-26T10:40:33.245Z"
   },
   {
    "duration": 14,
    "start_time": "2022-11-26T10:40:33.260Z"
   },
   {
    "duration": 1984,
    "start_time": "2022-11-26T10:40:33.276Z"
   },
   {
    "duration": 417,
    "start_time": "2022-11-26T10:40:35.313Z"
   },
   {
    "duration": 450,
    "start_time": "2022-11-26T10:40:35.737Z"
   },
   {
    "duration": 184,
    "start_time": "2022-11-26T10:40:36.189Z"
   },
   {
    "duration": 171,
    "start_time": "2022-11-26T10:40:36.375Z"
   },
   {
    "duration": 29,
    "start_time": "2022-11-26T10:40:36.548Z"
   },
   {
    "duration": 277,
    "start_time": "2022-11-26T10:40:36.579Z"
   },
   {
    "duration": 247,
    "start_time": "2022-11-26T10:40:36.858Z"
   },
   {
    "duration": 5,
    "start_time": "2022-11-26T10:40:37.106Z"
   },
   {
    "duration": 188,
    "start_time": "2022-11-26T10:40:37.115Z"
   },
   {
    "duration": 13,
    "start_time": "2022-11-26T10:40:37.305Z"
   },
   {
    "duration": 269,
    "start_time": "2022-11-26T10:40:37.327Z"
   },
   {
    "duration": 5,
    "start_time": "2022-11-26T10:40:37.599Z"
   },
   {
    "duration": 242,
    "start_time": "2022-11-26T10:40:37.607Z"
   },
   {
    "duration": 174,
    "start_time": "2022-11-26T10:40:37.851Z"
   },
   {
    "duration": 168,
    "start_time": "2022-11-26T10:40:38.033Z"
   },
   {
    "duration": 169,
    "start_time": "2022-11-26T10:40:38.203Z"
   },
   {
    "duration": 8,
    "start_time": "2022-11-26T10:40:38.373Z"
   },
   {
    "duration": 205,
    "start_time": "2022-11-26T10:40:38.382Z"
   },
   {
    "duration": 24,
    "start_time": "2022-11-26T10:40:38.589Z"
   },
   {
    "duration": 27,
    "start_time": "2022-11-26T10:40:38.616Z"
   },
   {
    "duration": 12,
    "start_time": "2022-11-26T10:40:38.645Z"
   },
   {
    "duration": 156,
    "start_time": "2022-11-26T10:40:38.659Z"
   },
   {
    "duration": 28,
    "start_time": "2022-11-26T10:40:38.817Z"
   },
   {
    "duration": 8,
    "start_time": "2022-11-26T10:40:38.847Z"
   },
   {
    "duration": 173,
    "start_time": "2022-11-26T10:40:38.857Z"
   },
   {
    "duration": 25,
    "start_time": "2022-11-26T10:40:39.032Z"
   },
   {
    "duration": 7,
    "start_time": "2022-11-26T10:40:39.058Z"
   },
   {
    "duration": 131,
    "start_time": "2022-11-26T10:40:39.066Z"
   },
   {
    "duration": 24,
    "start_time": "2022-11-26T10:40:39.198Z"
   },
   {
    "duration": 4,
    "start_time": "2022-11-26T10:40:39.229Z"
   },
   {
    "duration": 6,
    "start_time": "2022-11-26T10:40:39.235Z"
   },
   {
    "duration": 17,
    "start_time": "2022-11-26T10:40:39.242Z"
   },
   {
    "duration": 9,
    "start_time": "2022-11-26T10:40:39.261Z"
   },
   {
    "duration": 14,
    "start_time": "2022-11-26T10:40:39.272Z"
   }
  ],
  "kernelspec": {
   "display_name": "Python 3 (ipykernel)",
   "language": "python",
   "name": "python3"
  },
  "language_info": {
   "codemirror_mode": {
    "name": "ipython",
    "version": 3
   },
   "file_extension": ".py",
   "mimetype": "text/x-python",
   "name": "python",
   "nbconvert_exporter": "python",
   "pygments_lexer": "ipython3",
   "version": "3.9.5"
  },
  "toc": {
   "base_numbering": 1,
   "nav_menu": {
    "height": "128px",
    "width": "406px"
   },
   "number_sections": true,
   "sideBar": true,
   "skip_h1_title": true,
   "title_cell": "Table of Contents",
   "title_sidebar": "Contents",
   "toc_cell": false,
   "toc_position": {
    "height": "calc(100% - 180px)",
    "left": "10px",
    "top": "150px",
    "width": "590px"
   },
   "toc_section_display": true,
   "toc_window_display": false
  }
 },
 "nbformat": 4,
 "nbformat_minor": 2
}
